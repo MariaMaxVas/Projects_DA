{
 "cells": [
  {
   "cell_type": "markdown",
   "id": "b694ab66-4f66-4d03-bf02-9303dd6ea578",
   "metadata": {},
   "source": [
    "<div class=\"alert alert-info\">\n",
    "<h2> Анализ базы данных сервиса книг<a class=\"tocSkip\"></h2> \n",
    "\n",
    "<b>Цель:</b> составить ценностное предложение для нового продукта сервиса для чтения книг.\n",
    "    \n",
    "<b>Задача:</b> проанализировать базу данных сервиса для чтения книг.\n",
    "    \n",
    "<b>Содержание:</b>   \n",
    "1. Изучение данных;\n",
    "2. Анализ данных:\n",
    "- Количество вышедших книг после 1 января 2000 года;\n",
    "- Количество обзоров и средней оценки каждой книги;\n",
    "- Издательства с наибольшим числом книг толще 50 страниц;\n",
    "- Автор с самой высокой средней оценкой книг с учетом книги с 50 и более оценками;\n",
    "- Среднее количество обзоров от пользователей, которые поставили больше 50 оценок.\n",
    "3. Выводы.\n",
    " \n",
    " </div>"
   ]
  },
  {
   "cell_type": "markdown",
   "id": "e51161d3-8fab-4df4-ac9a-ca97944830dd",
   "metadata": {},
   "source": [
    "## Изучение данных"
   ]
  },
  {
   "cell_type": "code",
   "execution_count": 1,
   "id": "2c80a383-18bd-43e8-91b9-048eee402080",
   "metadata": {},
   "outputs": [],
   "source": [
    "# импортир библиотек\n",
    "import pandas as pd \n",
    "from sqlalchemy import create_engine "
   ]
  },
  {
   "cell_type": "code",
   "execution_count": 2,
   "id": "caab5c12-13dc-4d3d-ba3e-aeb8b9478932",
   "metadata": {},
   "outputs": [],
   "source": [
    "# установка параметров \n",
    "db_config = {'user': 'praktikum_student', # имя пользователя  \n",
    "             'pwd': 'Sdf4$2;d-d30pp', # пароль  \n",
    "             'host': 'rc1b-wcoijxj3yxfsf3fs.mdb.yandexcloud.net',  'port': 6432, # порт подключения  \n",
    "             'db': 'data-analyst-final-project-db'} # название базы данных \n",
    "connection_string = 'postgresql://{}:{}@{}:{}/{}'.format(db_config['user'],  \n",
    "                                                         db_config['pwd'],  \n",
    "                                                         db_config['host'],  \n",
    "                                                         db_config['port'],  \n",
    "                                                         db_config['db'])\n",
    "# сохранение коннектора\n",
    "engine = create_engine(connection_string, connect_args={'sslmode':'require'})"
   ]
  },
  {
   "cell_type": "markdown",
   "id": "6697f50a-bb72-4948-b3ac-ba86c4cef551",
   "metadata": {},
   "source": [
    "### Таблица books"
   ]
  },
  {
   "cell_type": "code",
   "execution_count": 3,
   "id": "9f7943c8-56b3-493c-a9c1-54489dc28881",
   "metadata": {},
   "outputs": [
    {
     "data": {
      "text/html": [
       "<div>\n",
       "<style scoped>\n",
       "    .dataframe tbody tr th:only-of-type {\n",
       "        vertical-align: middle;\n",
       "    }\n",
       "\n",
       "    .dataframe tbody tr th {\n",
       "        vertical-align: top;\n",
       "    }\n",
       "\n",
       "    .dataframe thead th {\n",
       "        text-align: right;\n",
       "    }\n",
       "</style>\n",
       "<table border=\"1\" class=\"dataframe\">\n",
       "  <thead>\n",
       "    <tr style=\"text-align: right;\">\n",
       "      <th></th>\n",
       "      <th>book_id</th>\n",
       "      <th>author_id</th>\n",
       "      <th>title</th>\n",
       "      <th>num_pages</th>\n",
       "      <th>publication_date</th>\n",
       "      <th>publisher_id</th>\n",
       "    </tr>\n",
       "  </thead>\n",
       "  <tbody>\n",
       "    <tr>\n",
       "      <th>0</th>\n",
       "      <td>1</td>\n",
       "      <td>546</td>\n",
       "      <td>'Salem's Lot</td>\n",
       "      <td>594</td>\n",
       "      <td>2005-11-01</td>\n",
       "      <td>93</td>\n",
       "    </tr>\n",
       "    <tr>\n",
       "      <th>1</th>\n",
       "      <td>2</td>\n",
       "      <td>465</td>\n",
       "      <td>1 000 Places to See Before You Die</td>\n",
       "      <td>992</td>\n",
       "      <td>2003-05-22</td>\n",
       "      <td>336</td>\n",
       "    </tr>\n",
       "    <tr>\n",
       "      <th>2</th>\n",
       "      <td>3</td>\n",
       "      <td>407</td>\n",
       "      <td>13 Little Blue Envelopes (Little Blue Envelope...</td>\n",
       "      <td>322</td>\n",
       "      <td>2010-12-21</td>\n",
       "      <td>135</td>\n",
       "    </tr>\n",
       "    <tr>\n",
       "      <th>3</th>\n",
       "      <td>4</td>\n",
       "      <td>82</td>\n",
       "      <td>1491: New Revelations of the Americas Before C...</td>\n",
       "      <td>541</td>\n",
       "      <td>2006-10-10</td>\n",
       "      <td>309</td>\n",
       "    </tr>\n",
       "    <tr>\n",
       "      <th>4</th>\n",
       "      <td>5</td>\n",
       "      <td>125</td>\n",
       "      <td>1776</td>\n",
       "      <td>386</td>\n",
       "      <td>2006-07-04</td>\n",
       "      <td>268</td>\n",
       "    </tr>\n",
       "    <tr>\n",
       "      <th>...</th>\n",
       "      <td>...</td>\n",
       "      <td>...</td>\n",
       "      <td>...</td>\n",
       "      <td>...</td>\n",
       "      <td>...</td>\n",
       "      <td>...</td>\n",
       "    </tr>\n",
       "    <tr>\n",
       "      <th>995</th>\n",
       "      <td>996</td>\n",
       "      <td>571</td>\n",
       "      <td>Wyrd Sisters (Discworld  #6; Witches #2)</td>\n",
       "      <td>265</td>\n",
       "      <td>2001-02-06</td>\n",
       "      <td>147</td>\n",
       "    </tr>\n",
       "    <tr>\n",
       "      <th>996</th>\n",
       "      <td>997</td>\n",
       "      <td>454</td>\n",
       "      <td>Xenocide (Ender's Saga  #3)</td>\n",
       "      <td>592</td>\n",
       "      <td>1996-07-15</td>\n",
       "      <td>297</td>\n",
       "    </tr>\n",
       "    <tr>\n",
       "      <th>997</th>\n",
       "      <td>998</td>\n",
       "      <td>201</td>\n",
       "      <td>Year of Wonders</td>\n",
       "      <td>358</td>\n",
       "      <td>2002-04-30</td>\n",
       "      <td>212</td>\n",
       "    </tr>\n",
       "    <tr>\n",
       "      <th>998</th>\n",
       "      <td>999</td>\n",
       "      <td>94</td>\n",
       "      <td>You Suck (A Love Story  #2)</td>\n",
       "      <td>328</td>\n",
       "      <td>2007-01-16</td>\n",
       "      <td>331</td>\n",
       "    </tr>\n",
       "    <tr>\n",
       "      <th>999</th>\n",
       "      <td>1000</td>\n",
       "      <td>509</td>\n",
       "      <td>Zen and the Art of Motorcycle Maintenance: An ...</td>\n",
       "      <td>540</td>\n",
       "      <td>2006-04-25</td>\n",
       "      <td>143</td>\n",
       "    </tr>\n",
       "  </tbody>\n",
       "</table>\n",
       "<p>1000 rows × 6 columns</p>\n",
       "</div>"
      ],
      "text/plain": [
       "     book_id  author_id                                              title  \\\n",
       "0          1        546                                       'Salem's Lot   \n",
       "1          2        465                 1 000 Places to See Before You Die   \n",
       "2          3        407  13 Little Blue Envelopes (Little Blue Envelope...   \n",
       "3          4         82  1491: New Revelations of the Americas Before C...   \n",
       "4          5        125                                               1776   \n",
       "..       ...        ...                                                ...   \n",
       "995      996        571           Wyrd Sisters (Discworld  #6; Witches #2)   \n",
       "996      997        454                        Xenocide (Ender's Saga  #3)   \n",
       "997      998        201                                    Year of Wonders   \n",
       "998      999         94                        You Suck (A Love Story  #2)   \n",
       "999     1000        509  Zen and the Art of Motorcycle Maintenance: An ...   \n",
       "\n",
       "     num_pages publication_date  publisher_id  \n",
       "0          594       2005-11-01            93  \n",
       "1          992       2003-05-22           336  \n",
       "2          322       2010-12-21           135  \n",
       "3          541       2006-10-10           309  \n",
       "4          386       2006-07-04           268  \n",
       "..         ...              ...           ...  \n",
       "995        265       2001-02-06           147  \n",
       "996        592       1996-07-15           297  \n",
       "997        358       2002-04-30           212  \n",
       "998        328       2007-01-16           331  \n",
       "999        540       2006-04-25           143  \n",
       "\n",
       "[1000 rows x 6 columns]"
      ]
     },
     "execution_count": 3,
     "metadata": {},
     "output_type": "execute_result"
    }
   ],
   "source": [
    "books = '''\n",
    "SELECT *\n",
    "FROM books\n",
    "'''\n",
    "book_data = pd.io.sql.read_sql(books, con = engine) \n",
    "book_data"
   ]
  },
  {
   "cell_type": "code",
   "execution_count": 4,
   "id": "a219eb92-9149-48fd-8fc8-7a196b939816",
   "metadata": {},
   "outputs": [
    {
     "name": "stdout",
     "output_type": "stream",
     "text": [
      "<class 'pandas.core.frame.DataFrame'>\n",
      "RangeIndex: 1000 entries, 0 to 999\n",
      "Data columns (total 6 columns):\n",
      " #   Column            Non-Null Count  Dtype \n",
      "---  ------            --------------  ----- \n",
      " 0   book_id           1000 non-null   int64 \n",
      " 1   author_id         1000 non-null   int64 \n",
      " 2   title             1000 non-null   object\n",
      " 3   num_pages         1000 non-null   int64 \n",
      " 4   publication_date  1000 non-null   object\n",
      " 5   publisher_id      1000 non-null   int64 \n",
      "dtypes: int64(4), object(2)\n",
      "memory usage: 47.0+ KB\n"
     ]
    }
   ],
   "source": [
    "book_data.info()"
   ]
  },
  {
   "cell_type": "markdown",
   "id": "80a13df5-136e-4f8a-b582-d74b1aab7eec",
   "metadata": {},
   "source": [
    "### Таблица authors"
   ]
  },
  {
   "cell_type": "code",
   "execution_count": 5,
   "id": "11d0981f-26c4-4f04-b99e-d48c7c2ee54a",
   "metadata": {},
   "outputs": [
    {
     "data": {
      "text/html": [
       "<div>\n",
       "<style scoped>\n",
       "    .dataframe tbody tr th:only-of-type {\n",
       "        vertical-align: middle;\n",
       "    }\n",
       "\n",
       "    .dataframe tbody tr th {\n",
       "        vertical-align: top;\n",
       "    }\n",
       "\n",
       "    .dataframe thead th {\n",
       "        text-align: right;\n",
       "    }\n",
       "</style>\n",
       "<table border=\"1\" class=\"dataframe\">\n",
       "  <thead>\n",
       "    <tr style=\"text-align: right;\">\n",
       "      <th></th>\n",
       "      <th>author_id</th>\n",
       "      <th>author</th>\n",
       "    </tr>\n",
       "  </thead>\n",
       "  <tbody>\n",
       "    <tr>\n",
       "      <th>0</th>\n",
       "      <td>1</td>\n",
       "      <td>A.S. Byatt</td>\n",
       "    </tr>\n",
       "    <tr>\n",
       "      <th>1</th>\n",
       "      <td>2</td>\n",
       "      <td>Aesop/Laura Harris/Laura Gibbs</td>\n",
       "    </tr>\n",
       "    <tr>\n",
       "      <th>2</th>\n",
       "      <td>3</td>\n",
       "      <td>Agatha Christie</td>\n",
       "    </tr>\n",
       "    <tr>\n",
       "      <th>3</th>\n",
       "      <td>4</td>\n",
       "      <td>Alan Brennert</td>\n",
       "    </tr>\n",
       "    <tr>\n",
       "      <th>4</th>\n",
       "      <td>5</td>\n",
       "      <td>Alan Moore/David   Lloyd</td>\n",
       "    </tr>\n",
       "  </tbody>\n",
       "</table>\n",
       "</div>"
      ],
      "text/plain": [
       "   author_id                          author\n",
       "0          1                      A.S. Byatt\n",
       "1          2  Aesop/Laura Harris/Laura Gibbs\n",
       "2          3                 Agatha Christie\n",
       "3          4                   Alan Brennert\n",
       "4          5        Alan Moore/David   Lloyd"
      ]
     },
     "execution_count": 5,
     "metadata": {},
     "output_type": "execute_result"
    }
   ],
   "source": [
    "authors = '''\n",
    "SELECT *\n",
    "FROM authors\n",
    "'''\n",
    "authors = pd.io.sql.read_sql(authors, con = engine) \n",
    "authors.head()"
   ]
  },
  {
   "cell_type": "code",
   "execution_count": 6,
   "id": "7fe40b82-0fca-4100-ace6-9c40f292c8ba",
   "metadata": {},
   "outputs": [
    {
     "name": "stdout",
     "output_type": "stream",
     "text": [
      "<class 'pandas.core.frame.DataFrame'>\n",
      "RangeIndex: 636 entries, 0 to 635\n",
      "Data columns (total 2 columns):\n",
      " #   Column     Non-Null Count  Dtype \n",
      "---  ------     --------------  ----- \n",
      " 0   author_id  636 non-null    int64 \n",
      " 1   author     636 non-null    object\n",
      "dtypes: int64(1), object(1)\n",
      "memory usage: 10.1+ KB\n"
     ]
    }
   ],
   "source": [
    "authors.info()"
   ]
  },
  {
   "cell_type": "markdown",
   "id": "4457b916-c1be-4e94-9a9f-d14604ce3bb7",
   "metadata": {},
   "source": [
    "### Таблица publishers"
   ]
  },
  {
   "cell_type": "code",
   "execution_count": 7,
   "id": "469c87f1-f047-4146-bf2f-0e1846c4858a",
   "metadata": {},
   "outputs": [
    {
     "data": {
      "text/html": [
       "<div>\n",
       "<style scoped>\n",
       "    .dataframe tbody tr th:only-of-type {\n",
       "        vertical-align: middle;\n",
       "    }\n",
       "\n",
       "    .dataframe tbody tr th {\n",
       "        vertical-align: top;\n",
       "    }\n",
       "\n",
       "    .dataframe thead th {\n",
       "        text-align: right;\n",
       "    }\n",
       "</style>\n",
       "<table border=\"1\" class=\"dataframe\">\n",
       "  <thead>\n",
       "    <tr style=\"text-align: right;\">\n",
       "      <th></th>\n",
       "      <th>publisher_id</th>\n",
       "      <th>publisher</th>\n",
       "    </tr>\n",
       "  </thead>\n",
       "  <tbody>\n",
       "    <tr>\n",
       "      <th>0</th>\n",
       "      <td>1</td>\n",
       "      <td>Ace</td>\n",
       "    </tr>\n",
       "    <tr>\n",
       "      <th>1</th>\n",
       "      <td>2</td>\n",
       "      <td>Ace Book</td>\n",
       "    </tr>\n",
       "    <tr>\n",
       "      <th>2</th>\n",
       "      <td>3</td>\n",
       "      <td>Ace Books</td>\n",
       "    </tr>\n",
       "    <tr>\n",
       "      <th>3</th>\n",
       "      <td>4</td>\n",
       "      <td>Ace Hardcover</td>\n",
       "    </tr>\n",
       "    <tr>\n",
       "      <th>4</th>\n",
       "      <td>5</td>\n",
       "      <td>Addison Wesley Publishing Company</td>\n",
       "    </tr>\n",
       "  </tbody>\n",
       "</table>\n",
       "</div>"
      ],
      "text/plain": [
       "   publisher_id                          publisher\n",
       "0             1                                Ace\n",
       "1             2                           Ace Book\n",
       "2             3                          Ace Books\n",
       "3             4                      Ace Hardcover\n",
       "4             5  Addison Wesley Publishing Company"
      ]
     },
     "execution_count": 7,
     "metadata": {},
     "output_type": "execute_result"
    }
   ],
   "source": [
    "publishers = '''\n",
    "SELECT *\n",
    "FROM publishers\n",
    "'''\n",
    "publishers = pd.io.sql.read_sql(publishers, con = engine)\n",
    "publishers.head()"
   ]
  },
  {
   "cell_type": "code",
   "execution_count": 8,
   "id": "8095a9e5-5a28-4372-ab2e-24ad293630bb",
   "metadata": {},
   "outputs": [
    {
     "name": "stdout",
     "output_type": "stream",
     "text": [
      "<class 'pandas.core.frame.DataFrame'>\n",
      "RangeIndex: 340 entries, 0 to 339\n",
      "Data columns (total 2 columns):\n",
      " #   Column        Non-Null Count  Dtype \n",
      "---  ------        --------------  ----- \n",
      " 0   publisher_id  340 non-null    int64 \n",
      " 1   publisher     340 non-null    object\n",
      "dtypes: int64(1), object(1)\n",
      "memory usage: 5.4+ KB\n"
     ]
    }
   ],
   "source": [
    "publishers.info()"
   ]
  },
  {
   "cell_type": "markdown",
   "id": "d9c70e5f-c544-4221-b1e7-05de28185301",
   "metadata": {
    "tags": []
   },
   "source": [
    "### Таблица ratings"
   ]
  },
  {
   "cell_type": "code",
   "execution_count": 9,
   "id": "a88c1d8e-7beb-4bad-a216-101e38d73cf9",
   "metadata": {},
   "outputs": [
    {
     "data": {
      "text/html": [
       "<div>\n",
       "<style scoped>\n",
       "    .dataframe tbody tr th:only-of-type {\n",
       "        vertical-align: middle;\n",
       "    }\n",
       "\n",
       "    .dataframe tbody tr th {\n",
       "        vertical-align: top;\n",
       "    }\n",
       "\n",
       "    .dataframe thead th {\n",
       "        text-align: right;\n",
       "    }\n",
       "</style>\n",
       "<table border=\"1\" class=\"dataframe\">\n",
       "  <thead>\n",
       "    <tr style=\"text-align: right;\">\n",
       "      <th></th>\n",
       "      <th>rating_id</th>\n",
       "      <th>book_id</th>\n",
       "      <th>username</th>\n",
       "      <th>rating</th>\n",
       "    </tr>\n",
       "  </thead>\n",
       "  <tbody>\n",
       "    <tr>\n",
       "      <th>0</th>\n",
       "      <td>1</td>\n",
       "      <td>1</td>\n",
       "      <td>ryanfranco</td>\n",
       "      <td>4</td>\n",
       "    </tr>\n",
       "    <tr>\n",
       "      <th>1</th>\n",
       "      <td>2</td>\n",
       "      <td>1</td>\n",
       "      <td>grantpatricia</td>\n",
       "      <td>2</td>\n",
       "    </tr>\n",
       "    <tr>\n",
       "      <th>2</th>\n",
       "      <td>3</td>\n",
       "      <td>1</td>\n",
       "      <td>brandtandrea</td>\n",
       "      <td>5</td>\n",
       "    </tr>\n",
       "    <tr>\n",
       "      <th>3</th>\n",
       "      <td>4</td>\n",
       "      <td>2</td>\n",
       "      <td>lorichen</td>\n",
       "      <td>3</td>\n",
       "    </tr>\n",
       "    <tr>\n",
       "      <th>4</th>\n",
       "      <td>5</td>\n",
       "      <td>2</td>\n",
       "      <td>mariokeller</td>\n",
       "      <td>2</td>\n",
       "    </tr>\n",
       "  </tbody>\n",
       "</table>\n",
       "</div>"
      ],
      "text/plain": [
       "   rating_id  book_id       username  rating\n",
       "0          1        1     ryanfranco       4\n",
       "1          2        1  grantpatricia       2\n",
       "2          3        1   brandtandrea       5\n",
       "3          4        2       lorichen       3\n",
       "4          5        2    mariokeller       2"
      ]
     },
     "execution_count": 9,
     "metadata": {},
     "output_type": "execute_result"
    }
   ],
   "source": [
    "ratings = '''\n",
    "SELECT *\n",
    "FROM ratings\n",
    "'''\n",
    "ratings = pd.io.sql.read_sql(ratings, con = engine) \n",
    "ratings.head()"
   ]
  },
  {
   "cell_type": "code",
   "execution_count": 10,
   "id": "89e4a27e-aec3-4b5b-bd69-81acf35bf67a",
   "metadata": {},
   "outputs": [
    {
     "name": "stdout",
     "output_type": "stream",
     "text": [
      "<class 'pandas.core.frame.DataFrame'>\n",
      "RangeIndex: 6456 entries, 0 to 6455\n",
      "Data columns (total 4 columns):\n",
      " #   Column     Non-Null Count  Dtype \n",
      "---  ------     --------------  ----- \n",
      " 0   rating_id  6456 non-null   int64 \n",
      " 1   book_id    6456 non-null   int64 \n",
      " 2   username   6456 non-null   object\n",
      " 3   rating     6456 non-null   int64 \n",
      "dtypes: int64(3), object(1)\n",
      "memory usage: 201.9+ KB\n"
     ]
    }
   ],
   "source": [
    "ratings.info()"
   ]
  },
  {
   "cell_type": "markdown",
   "id": "e60d1c74-2e14-43f8-b239-c1044dae8b6b",
   "metadata": {
    "tags": []
   },
   "source": [
    "### Таблица reviews"
   ]
  },
  {
   "cell_type": "code",
   "execution_count": 11,
   "id": "f4237573-c19f-4997-9c0b-fe770ab23fbf",
   "metadata": {},
   "outputs": [
    {
     "data": {
      "text/html": [
       "<div>\n",
       "<style scoped>\n",
       "    .dataframe tbody tr th:only-of-type {\n",
       "        vertical-align: middle;\n",
       "    }\n",
       "\n",
       "    .dataframe tbody tr th {\n",
       "        vertical-align: top;\n",
       "    }\n",
       "\n",
       "    .dataframe thead th {\n",
       "        text-align: right;\n",
       "    }\n",
       "</style>\n",
       "<table border=\"1\" class=\"dataframe\">\n",
       "  <thead>\n",
       "    <tr style=\"text-align: right;\">\n",
       "      <th></th>\n",
       "      <th>review_id</th>\n",
       "      <th>book_id</th>\n",
       "      <th>username</th>\n",
       "      <th>text</th>\n",
       "    </tr>\n",
       "  </thead>\n",
       "  <tbody>\n",
       "    <tr>\n",
       "      <th>0</th>\n",
       "      <td>1</td>\n",
       "      <td>1</td>\n",
       "      <td>brandtandrea</td>\n",
       "      <td>Mention society tell send professor analysis. ...</td>\n",
       "    </tr>\n",
       "    <tr>\n",
       "      <th>1</th>\n",
       "      <td>2</td>\n",
       "      <td>1</td>\n",
       "      <td>ryanfranco</td>\n",
       "      <td>Foot glass pretty audience hit themselves. Amo...</td>\n",
       "    </tr>\n",
       "    <tr>\n",
       "      <th>2</th>\n",
       "      <td>3</td>\n",
       "      <td>2</td>\n",
       "      <td>lorichen</td>\n",
       "      <td>Listen treat keep worry. Miss husband tax but ...</td>\n",
       "    </tr>\n",
       "    <tr>\n",
       "      <th>3</th>\n",
       "      <td>4</td>\n",
       "      <td>3</td>\n",
       "      <td>johnsonamanda</td>\n",
       "      <td>Finally month interesting blue could nature cu...</td>\n",
       "    </tr>\n",
       "    <tr>\n",
       "      <th>4</th>\n",
       "      <td>5</td>\n",
       "      <td>3</td>\n",
       "      <td>scotttamara</td>\n",
       "      <td>Nation purpose heavy give wait song will. List...</td>\n",
       "    </tr>\n",
       "  </tbody>\n",
       "</table>\n",
       "</div>"
      ],
      "text/plain": [
       "   review_id  book_id       username  \\\n",
       "0          1        1   brandtandrea   \n",
       "1          2        1     ryanfranco   \n",
       "2          3        2       lorichen   \n",
       "3          4        3  johnsonamanda   \n",
       "4          5        3    scotttamara   \n",
       "\n",
       "                                                text  \n",
       "0  Mention society tell send professor analysis. ...  \n",
       "1  Foot glass pretty audience hit themselves. Amo...  \n",
       "2  Listen treat keep worry. Miss husband tax but ...  \n",
       "3  Finally month interesting blue could nature cu...  \n",
       "4  Nation purpose heavy give wait song will. List...  "
      ]
     },
     "execution_count": 11,
     "metadata": {},
     "output_type": "execute_result"
    }
   ],
   "source": [
    "reviews = '''\n",
    "SELECT *\n",
    "FROM reviews\n",
    "'''\n",
    "reviews = pd.io.sql.read_sql(reviews, con = engine) \n",
    "reviews.head()"
   ]
  },
  {
   "cell_type": "code",
   "execution_count": 12,
   "id": "dbecacd9-cdaa-440f-a1cc-744b66df8899",
   "metadata": {},
   "outputs": [
    {
     "name": "stdout",
     "output_type": "stream",
     "text": [
      "<class 'pandas.core.frame.DataFrame'>\n",
      "RangeIndex: 2793 entries, 0 to 2792\n",
      "Data columns (total 4 columns):\n",
      " #   Column     Non-Null Count  Dtype \n",
      "---  ------     --------------  ----- \n",
      " 0   review_id  2793 non-null   int64 \n",
      " 1   book_id    2793 non-null   int64 \n",
      " 2   username   2793 non-null   object\n",
      " 3   text       2793 non-null   object\n",
      "dtypes: int64(2), object(2)\n",
      "memory usage: 87.4+ KB\n"
     ]
    }
   ],
   "source": [
    "reviews.info()"
   ]
  },
  {
   "cell_type": "markdown",
   "id": "9afca79d-857f-4298-9a20-46d07fc3b6b0",
   "metadata": {
    "tags": []
   },
   "source": [
    "## Анализ данных"
   ]
  },
  {
   "cell_type": "markdown",
   "id": "c1393ba6-31b5-41a8-9d22-c46ea006f63c",
   "metadata": {
    "tags": []
   },
   "source": [
    "### Количество вышедших книг после 1 января 2000 года"
   ]
  },
  {
   "cell_type": "code",
   "execution_count": 13,
   "id": "b968f37b-1c67-4cf7-8598-cfb2772140ed",
   "metadata": {},
   "outputs": [
    {
     "data": {
      "text/html": [
       "<div>\n",
       "<style scoped>\n",
       "    .dataframe tbody tr th:only-of-type {\n",
       "        vertical-align: middle;\n",
       "    }\n",
       "\n",
       "    .dataframe tbody tr th {\n",
       "        vertical-align: top;\n",
       "    }\n",
       "\n",
       "    .dataframe thead th {\n",
       "        text-align: right;\n",
       "    }\n",
       "</style>\n",
       "<table border=\"1\" class=\"dataframe\">\n",
       "  <thead>\n",
       "    <tr style=\"text-align: right;\">\n",
       "      <th></th>\n",
       "      <th>count</th>\n",
       "    </tr>\n",
       "  </thead>\n",
       "  <tbody>\n",
       "    <tr>\n",
       "      <th>0</th>\n",
       "      <td>819</td>\n",
       "    </tr>\n",
       "  </tbody>\n",
       "</table>\n",
       "</div>"
      ],
      "text/plain": [
       "   count\n",
       "0    819"
      ]
     },
     "execution_count": 13,
     "metadata": {},
     "output_type": "execute_result"
    }
   ],
   "source": [
    "books_query = '''\n",
    "SELECT COUNT(book_id)\n",
    "FROM books \n",
    "WHERE publication_date > '01-01-2000'\n",
    "'''\n",
    "\n",
    "pd.io.sql.read_sql(books_query, con = engine) "
   ]
  },
  {
   "cell_type": "markdown",
   "id": "71e24924-0966-4a96-a7a7-9e5debfaf336",
   "metadata": {},
   "source": [
    "*Результат:* после 1го января 2000 года вышло 819 книг."
   ]
  },
  {
   "cell_type": "markdown",
   "id": "d1b38b06-f1e9-4ab2-b141-d97cd506de4e",
   "metadata": {
    "tags": []
   },
   "source": [
    "### Количество обзоров и средней оценки каждой книги"
   ]
  },
  {
   "cell_type": "code",
   "execution_count": 14,
   "id": "9cea2700-2cb7-4a1b-b775-681a65d01519",
   "metadata": {},
   "outputs": [
    {
     "data": {
      "text/html": [
       "<div>\n",
       "<style scoped>\n",
       "    .dataframe tbody tr th:only-of-type {\n",
       "        vertical-align: middle;\n",
       "    }\n",
       "\n",
       "    .dataframe tbody tr th {\n",
       "        vertical-align: top;\n",
       "    }\n",
       "\n",
       "    .dataframe thead th {\n",
       "        text-align: right;\n",
       "    }\n",
       "</style>\n",
       "<table border=\"1\" class=\"dataframe\">\n",
       "  <thead>\n",
       "    <tr style=\"text-align: right;\">\n",
       "      <th></th>\n",
       "      <th>book_id</th>\n",
       "      <th>title</th>\n",
       "      <th>quantity</th>\n",
       "      <th>avg_rating</th>\n",
       "    </tr>\n",
       "  </thead>\n",
       "  <tbody>\n",
       "    <tr>\n",
       "      <th>0</th>\n",
       "      <td>948</td>\n",
       "      <td>Twilight (Twilight  #1)</td>\n",
       "      <td>7</td>\n",
       "      <td>3.7</td>\n",
       "    </tr>\n",
       "    <tr>\n",
       "      <th>1</th>\n",
       "      <td>963</td>\n",
       "      <td>Water for Elephants</td>\n",
       "      <td>6</td>\n",
       "      <td>4.0</td>\n",
       "    </tr>\n",
       "    <tr>\n",
       "      <th>2</th>\n",
       "      <td>734</td>\n",
       "      <td>The Glass Castle</td>\n",
       "      <td>6</td>\n",
       "      <td>4.2</td>\n",
       "    </tr>\n",
       "    <tr>\n",
       "      <th>3</th>\n",
       "      <td>302</td>\n",
       "      <td>Harry Potter and the Prisoner of Azkaban (Harr...</td>\n",
       "      <td>6</td>\n",
       "      <td>4.4</td>\n",
       "    </tr>\n",
       "    <tr>\n",
       "      <th>4</th>\n",
       "      <td>695</td>\n",
       "      <td>The Curious Incident of the Dog in the Night-Time</td>\n",
       "      <td>6</td>\n",
       "      <td>4.1</td>\n",
       "    </tr>\n",
       "    <tr>\n",
       "      <th>...</th>\n",
       "      <td>...</td>\n",
       "      <td>...</td>\n",
       "      <td>...</td>\n",
       "      <td>...</td>\n",
       "    </tr>\n",
       "    <tr>\n",
       "      <th>995</th>\n",
       "      <td>83</td>\n",
       "      <td>Anne Rice's The Vampire Lestat: A Graphic Novel</td>\n",
       "      <td>0</td>\n",
       "      <td>NaN</td>\n",
       "    </tr>\n",
       "    <tr>\n",
       "      <th>996</th>\n",
       "      <td>808</td>\n",
       "      <td>The Natural Way to Draw</td>\n",
       "      <td>0</td>\n",
       "      <td>NaN</td>\n",
       "    </tr>\n",
       "    <tr>\n",
       "      <th>997</th>\n",
       "      <td>672</td>\n",
       "      <td>The Cat in the Hat and Other Dr. Seuss Favorites</td>\n",
       "      <td>0</td>\n",
       "      <td>NaN</td>\n",
       "    </tr>\n",
       "    <tr>\n",
       "      <th>998</th>\n",
       "      <td>221</td>\n",
       "      <td>Essential Tales and Poems</td>\n",
       "      <td>0</td>\n",
       "      <td>NaN</td>\n",
       "    </tr>\n",
       "    <tr>\n",
       "      <th>999</th>\n",
       "      <td>191</td>\n",
       "      <td>Disney's Beauty and the Beast (A Little Golden...</td>\n",
       "      <td>0</td>\n",
       "      <td>NaN</td>\n",
       "    </tr>\n",
       "  </tbody>\n",
       "</table>\n",
       "<p>1000 rows × 4 columns</p>\n",
       "</div>"
      ],
      "text/plain": [
       "     book_id                                              title  quantity  \\\n",
       "0        948                            Twilight (Twilight  #1)         7   \n",
       "1        963                                Water for Elephants         6   \n",
       "2        734                                   The Glass Castle         6   \n",
       "3        302  Harry Potter and the Prisoner of Azkaban (Harr...         6   \n",
       "4        695  The Curious Incident of the Dog in the Night-Time         6   \n",
       "..       ...                                                ...       ...   \n",
       "995       83    Anne Rice's The Vampire Lestat: A Graphic Novel         0   \n",
       "996      808                            The Natural Way to Draw         0   \n",
       "997      672   The Cat in the Hat and Other Dr. Seuss Favorites         0   \n",
       "998      221                          Essential Tales and Poems         0   \n",
       "999      191  Disney's Beauty and the Beast (A Little Golden...         0   \n",
       "\n",
       "     avg_rating  \n",
       "0           3.7  \n",
       "1           4.0  \n",
       "2           4.2  \n",
       "3           4.4  \n",
       "4           4.1  \n",
       "..          ...  \n",
       "995         NaN  \n",
       "996         NaN  \n",
       "997         NaN  \n",
       "998         NaN  \n",
       "999         NaN  \n",
       "\n",
       "[1000 rows x 4 columns]"
      ]
     },
     "execution_count": 14,
     "metadata": {},
     "output_type": "execute_result"
    }
   ],
   "source": [
    "books_query = '''\n",
    "SELECT b.book_id,\n",
    "       b.title,\n",
    "       COUNT(DISTINCT rs.review_id) AS quantity,\n",
    "       ROUND(AVG(r.rating),1) AS avg_rating          \n",
    "FROM books AS b \n",
    "LEFT OUTER JOIN reviews AS rs ON b.book_id = rs.book_id\n",
    "LEFT OUTER JOIN ratings AS r ON r.book_id = rs.book_id\n",
    "GROUP BY b.book_id\n",
    "ORDER BY quantity DESC\n",
    "'''\n",
    "\n",
    "pd.io.sql.read_sql(books_query, con = engine) "
   ]
  },
  {
   "cell_type": "markdown",
   "id": "f976a380-bbc9-40f1-82bf-5a1470a339a6",
   "metadata": {},
   "source": [
    "*Результат:* Больше всего обзоров на \"Twilight\", который составляет 1120 обзоров. За ним следуют книги \"The Hobbit or There and Back Again\"(528 обзоров), \"The Catcher in the Rye\" (516 обзоров) и \"Harry Potter and the Prisoner of Azkaban\" (492 обзоров). Оценка либо отсутствует, либо средняя оценка варьируется от 1.5 до 5. Однако, те книги, которые получили наивысшие оценки, имеют небольшое количество обзоров (примерно 4)."
   ]
  },
  {
   "cell_type": "markdown",
   "id": "112b4a74-8f9f-438e-9adb-5b4ece8c75ef",
   "metadata": {
    "tags": []
   },
   "source": [
    "### Издательства с наибольшим числом книг толще 50 страниц"
   ]
  },
  {
   "cell_type": "code",
   "execution_count": 15,
   "id": "c595ef9c-20a9-458e-bd39-9a263529c380",
   "metadata": {},
   "outputs": [
    {
     "data": {
      "text/html": [
       "<div>\n",
       "<style scoped>\n",
       "    .dataframe tbody tr th:only-of-type {\n",
       "        vertical-align: middle;\n",
       "    }\n",
       "\n",
       "    .dataframe tbody tr th {\n",
       "        vertical-align: top;\n",
       "    }\n",
       "\n",
       "    .dataframe thead th {\n",
       "        text-align: right;\n",
       "    }\n",
       "</style>\n",
       "<table border=\"1\" class=\"dataframe\">\n",
       "  <thead>\n",
       "    <tr style=\"text-align: right;\">\n",
       "      <th></th>\n",
       "      <th>publisher_id</th>\n",
       "      <th>publisher</th>\n",
       "      <th>quantity</th>\n",
       "    </tr>\n",
       "  </thead>\n",
       "  <tbody>\n",
       "    <tr>\n",
       "      <th>0</th>\n",
       "      <td>212</td>\n",
       "      <td>Penguin Books</td>\n",
       "      <td>42</td>\n",
       "    </tr>\n",
       "  </tbody>\n",
       "</table>\n",
       "</div>"
      ],
      "text/plain": [
       "   publisher_id      publisher  quantity\n",
       "0           212  Penguin Books        42"
      ]
     },
     "execution_count": 15,
     "metadata": {},
     "output_type": "execute_result"
    }
   ],
   "source": [
    "books_query = '''\n",
    "SELECT p.publisher_id,\n",
    "       p.publisher,\n",
    "       COUNT(*) AS quantity          \n",
    "FROM publishers AS p \n",
    "LEFT OUTER JOIN books AS b ON p.publisher_id = b.publisher_id\n",
    "WHERE num_pages > 50\n",
    "GROUP BY p.publisher_id\n",
    "ORDER BY quantity DESC\n",
    "LIMIT 1\n",
    "'''\n",
    "\n",
    "pd.io.sql.read_sql(books_query, con = engine) "
   ]
  },
  {
   "cell_type": "markdown",
   "id": "df8094ab-6050-40bd-9e48-d8d4966fb80d",
   "metadata": {},
   "source": [
    "*Результат:* Наибольшее количество книг выпустило британское издательство Penguin Books. Всего издательство выпустило 42 книги из 1000. "
   ]
  },
  {
   "cell_type": "markdown",
   "id": "4731479f-7f59-4f25-b924-541417feca38",
   "metadata": {
    "tags": []
   },
   "source": [
    "### Автор с самой высокой средней оценкой книг с учетом книги с 50 и более оценками"
   ]
  },
  {
   "cell_type": "code",
   "execution_count": 16,
   "id": "b054faec-cada-48b7-9bf6-bcf29e383dac",
   "metadata": {},
   "outputs": [
    {
     "data": {
      "text/html": [
       "<div>\n",
       "<style scoped>\n",
       "    .dataframe tbody tr th:only-of-type {\n",
       "        vertical-align: middle;\n",
       "    }\n",
       "\n",
       "    .dataframe tbody tr th {\n",
       "        vertical-align: top;\n",
       "    }\n",
       "\n",
       "    .dataframe thead th {\n",
       "        text-align: right;\n",
       "    }\n",
       "</style>\n",
       "<table border=\"1\" class=\"dataframe\">\n",
       "  <thead>\n",
       "    <tr style=\"text-align: right;\">\n",
       "      <th></th>\n",
       "      <th>author_id</th>\n",
       "      <th>author</th>\n",
       "      <th>quantity</th>\n",
       "      <th>avg_rating</th>\n",
       "    </tr>\n",
       "  </thead>\n",
       "  <tbody>\n",
       "    <tr>\n",
       "      <th>0</th>\n",
       "      <td>236</td>\n",
       "      <td>J.K. Rowling/Mary GrandPré</td>\n",
       "      <td>312</td>\n",
       "      <td>4.3</td>\n",
       "    </tr>\n",
       "  </tbody>\n",
       "</table>\n",
       "</div>"
      ],
      "text/plain": [
       "   author_id                      author  quantity  avg_rating\n",
       "0        236  J.K. Rowling/Mary GrandPré       312         4.3"
      ]
     },
     "execution_count": 16,
     "metadata": {},
     "output_type": "execute_result"
    }
   ],
   "source": [
    "books_query = '''\n",
    "WITH hgh_ratings AS(\n",
    "    SELECT r.book_id            \n",
    "    FROM ratings AS r\n",
    "    GROUP BY r.book_id\n",
    "    HAVING COUNT(r.rating_id) >= 50\n",
    "    )\n",
    "SELECT a.author_id,\n",
    "       a.author,\n",
    "       COUNT(r.rating_id) as quantity,\n",
    "       ROUND(AVG(r.rating),1) AS avg_rating\n",
    "FROM books AS b\n",
    "LEFT OUTER JOIN hgh_ratings ON b.book_id = hgh_ratings.book_id\n",
    "LEFT OUTER JOIN ratings AS r ON b.book_id = r.book_id\n",
    "LEFT OUTER JOIN authors AS a ON b.author_id = a.author_id\n",
    "GROUP BY a.author_id\n",
    "ORDER BY quantity DESC\n",
    "LIMIT 1\n",
    "\n",
    "'''\n",
    "\n",
    "\n",
    "pd.io.sql.read_sql(books_query, con = engine) "
   ]
  },
  {
   "cell_type": "markdown",
   "id": "9c669bd3-1c51-4616-a571-370455e4ad1e",
   "metadata": {},
   "source": [
    "*Результат:* Автор с самой высокой средней оценкой книг и большим количеством обзоров является J.K. Rowling. Ее средняя оценка составляет 4.3 с 312 обзорами. Популярностью пользуется ее книги, где иллюстратором является Mary GrandPré. "
   ]
  },
  {
   "cell_type": "markdown",
   "id": "79ca3809-6da1-427a-a665-052e9dac37ad",
   "metadata": {
    "tags": []
   },
   "source": [
    "### Среднее количество обзоров от пользователей, которые поставили больше 50 оценок"
   ]
  },
  {
   "cell_type": "code",
   "execution_count": 17,
   "id": "2e56fafc-3493-412c-9379-7d6411539641",
   "metadata": {},
   "outputs": [
    {
     "data": {
      "text/html": [
       "<div>\n",
       "<style scoped>\n",
       "    .dataframe tbody tr th:only-of-type {\n",
       "        vertical-align: middle;\n",
       "    }\n",
       "\n",
       "    .dataframe tbody tr th {\n",
       "        vertical-align: top;\n",
       "    }\n",
       "\n",
       "    .dataframe thead th {\n",
       "        text-align: right;\n",
       "    }\n",
       "</style>\n",
       "<table border=\"1\" class=\"dataframe\">\n",
       "  <thead>\n",
       "    <tr style=\"text-align: right;\">\n",
       "      <th></th>\n",
       "      <th>round</th>\n",
       "    </tr>\n",
       "  </thead>\n",
       "  <tbody>\n",
       "    <tr>\n",
       "      <th>0</th>\n",
       "      <td>24.3</td>\n",
       "    </tr>\n",
       "  </tbody>\n",
       "</table>\n",
       "</div>"
      ],
      "text/plain": [
       "   round\n",
       "0   24.3"
      ]
     },
     "execution_count": 17,
     "metadata": {},
     "output_type": "execute_result"
    }
   ],
   "source": [
    "books_query = '''\n",
    "SELECT ROUND(AVG(avg_reviews),1) \n",
    "FROM (\n",
    "      SELECT username,\n",
    "             COUNT(review_id) AS avg_reviews\n",
    "      FROM reviews    \n",
    "      WHERE username IN (\n",
    "                      SELECT username\n",
    "                      FROM ratings\n",
    "                      GROUP BY username\n",
    "                      HAVING COUNT(*) > 50\n",
    "                      ) \n",
    "                      GROUP BY username) most_reviews\n",
    "      \n",
    "'''\n",
    "\n",
    "\n",
    "pd.io.sql.read_sql(books_query, con = engine)"
   ]
  },
  {
   "cell_type": "markdown",
   "id": "2b6263b0-9a85-472b-b4d5-74b48e933bb5",
   "metadata": {},
   "source": [
    "*Результат:* Среднее количество обзоров от пользователей, которые поставили больше 50 оценок составило 24,3."
   ]
  },
  {
   "cell_type": "markdown",
   "id": "9c0ec956-9a71-4b9e-b3ef-428356693d82",
   "metadata": {},
   "source": [
    "## Выводы"
   ]
  },
  {
   "cell_type": "markdown",
   "id": "57e0637a-9aec-4fb2-9dad-b19d28fda308",
   "metadata": {},
   "source": [
    " Анализ базы данных сервиса для чтения книг выявил следующее:\n",
    " - Всего в сервисе 1000 книг, где 819 из них вышли после 1го января 2000 г.;\n",
    " - Больше всего обзоров на популярные серии книг как Сумерки, Хоббит и Гарри Поттер, где в соотношении с количеством обзоров оценка не высокая. Однако, те книги, которые получили наивысшие оценки, имеют небольшое количество обзоров. Тем самым, не стоит полностью ориентироваться только на рейтинг книг;  \n",
    " - Самым популярным издательством является британское издательство Penguin Books с наибольшим количеством выпускаемых книг; \n",
    " - Самым популярным автором с самой высокой средней оценкой книг и большим количеством обзоров является Джоан Роулинг. А именно ее книги с иллюстрациями Mary GrandPré;\n",
    " - В среднем пользователи оставляют 24 обзор.\n",
    " Таким образом, для нового продукта стоит учесть вышеуказанные выводы либо для продвижения уже популярных книг, либо для раскрутки менее популярных, но не наименее интересных книг.  "
   ]
  }
 ],
 "metadata": {
  "ExecuteTimeLog": [
   {
    "duration": 556,
    "start_time": "2023-03-09T01:44:14.356Z"
   },
   {
    "duration": 6229,
    "start_time": "2023-03-09T01:44:14.914Z"
   },
   {
    "duration": 301,
    "start_time": "2023-03-09T01:44:21.147Z"
   },
   {
    "duration": 20,
    "start_time": "2023-03-09T01:44:21.449Z"
   },
   {
    "duration": 11,
    "start_time": "2023-03-09T01:44:21.471Z"
   },
   {
    "duration": 96,
    "start_time": "2023-03-09T01:44:21.484Z"
   },
   {
    "duration": 7,
    "start_time": "2023-03-09T01:44:21.582Z"
   },
   {
    "duration": 12,
    "start_time": "2023-03-09T01:44:21.591Z"
   },
   {
    "duration": 75,
    "start_time": "2023-03-09T01:44:21.605Z"
   },
   {
    "duration": 7,
    "start_time": "2023-03-09T01:44:21.682Z"
   },
   {
    "duration": 11,
    "start_time": "2023-03-09T01:44:21.691Z"
   },
   {
    "duration": 108,
    "start_time": "2023-03-09T01:44:21.704Z"
   },
   {
    "duration": 8,
    "start_time": "2023-03-09T01:44:21.813Z"
   },
   {
    "duration": 14,
    "start_time": "2023-03-09T01:44:21.822Z"
   },
   {
    "duration": 91,
    "start_time": "2023-03-09T01:44:21.838Z"
   },
   {
    "duration": 8,
    "start_time": "2023-03-09T01:44:21.930Z"
   },
   {
    "duration": 12,
    "start_time": "2023-03-09T01:44:21.939Z"
   },
   {
    "duration": 83,
    "start_time": "2023-03-09T01:44:21.953Z"
   },
   {
    "duration": 93,
    "start_time": "2023-03-09T01:44:22.037Z"
   },
   {
    "duration": 78,
    "start_time": "2023-03-09T01:44:22.132Z"
   },
   {
    "duration": 43,
    "start_time": "2023-03-09T01:44:22.212Z"
   },
   {
    "duration": 0,
    "start_time": "2023-03-09T01:44:22.257Z"
   },
   {
    "duration": 0,
    "start_time": "2023-03-09T01:44:22.258Z"
   },
   {
    "duration": 0,
    "start_time": "2023-03-09T01:44:22.260Z"
   },
   {
    "duration": 84,
    "start_time": "2023-03-09T01:44:41.018Z"
   },
   {
    "duration": 100,
    "start_time": "2023-03-09T01:44:47.757Z"
   },
   {
    "duration": 90,
    "start_time": "2023-03-09T01:45:30.434Z"
   },
   {
    "duration": 88,
    "start_time": "2023-03-09T01:45:48.401Z"
   },
   {
    "duration": 82,
    "start_time": "2023-03-09T01:46:18.111Z"
   },
   {
    "duration": 111,
    "start_time": "2023-03-09T01:46:30.576Z"
   },
   {
    "duration": 548,
    "start_time": "2023-03-09T08:18:56.985Z"
   },
   {
    "duration": 11219,
    "start_time": "2023-03-09T08:18:57.535Z"
   },
   {
    "duration": 277,
    "start_time": "2023-03-09T08:19:08.756Z"
   },
   {
    "duration": 19,
    "start_time": "2023-03-09T08:19:09.035Z"
   },
   {
    "duration": 11,
    "start_time": "2023-03-09T08:19:09.055Z"
   },
   {
    "duration": 78,
    "start_time": "2023-03-09T08:19:09.068Z"
   },
   {
    "duration": 8,
    "start_time": "2023-03-09T08:19:09.147Z"
   },
   {
    "duration": 16,
    "start_time": "2023-03-09T08:19:09.157Z"
   },
   {
    "duration": 72,
    "start_time": "2023-03-09T08:19:09.175Z"
   },
   {
    "duration": 6,
    "start_time": "2023-03-09T08:19:09.250Z"
   },
   {
    "duration": 13,
    "start_time": "2023-03-09T08:19:09.258Z"
   },
   {
    "duration": 109,
    "start_time": "2023-03-09T08:19:09.272Z"
   },
   {
    "duration": 8,
    "start_time": "2023-03-09T08:19:09.383Z"
   },
   {
    "duration": 15,
    "start_time": "2023-03-09T08:19:09.393Z"
   },
   {
    "duration": 91,
    "start_time": "2023-03-09T08:19:09.409Z"
   },
   {
    "duration": 8,
    "start_time": "2023-03-09T08:19:09.502Z"
   },
   {
    "duration": 12,
    "start_time": "2023-03-09T08:19:09.511Z"
   },
   {
    "duration": 73,
    "start_time": "2023-03-09T08:19:09.525Z"
   },
   {
    "duration": 91,
    "start_time": "2023-03-09T08:19:09.599Z"
   },
   {
    "duration": 250,
    "start_time": "2023-03-09T08:19:09.691Z"
   },
   {
    "duration": 0,
    "start_time": "2023-03-09T08:19:09.943Z"
   },
   {
    "duration": 0,
    "start_time": "2023-03-09T08:19:09.944Z"
   },
   {
    "duration": 0,
    "start_time": "2023-03-09T08:19:09.946Z"
   },
   {
    "duration": 114,
    "start_time": "2023-03-09T08:19:44.046Z"
   },
   {
    "duration": 84,
    "start_time": "2023-03-09T08:21:22.893Z"
   },
   {
    "duration": 74,
    "start_time": "2023-03-09T08:21:32.786Z"
   },
   {
    "duration": 110,
    "start_time": "2023-03-09T08:22:37.809Z"
   },
   {
    "duration": 534,
    "start_time": "2023-03-09T08:23:03.889Z"
   },
   {
    "duration": 9418,
    "start_time": "2023-03-09T08:23:04.426Z"
   },
   {
    "duration": 312,
    "start_time": "2023-03-09T08:23:13.846Z"
   },
   {
    "duration": 18,
    "start_time": "2023-03-09T08:23:14.160Z"
   },
   {
    "duration": 29,
    "start_time": "2023-03-09T08:23:14.180Z"
   },
   {
    "duration": 113,
    "start_time": "2023-03-09T08:23:14.211Z"
   },
   {
    "duration": 6,
    "start_time": "2023-03-09T08:23:14.325Z"
   },
   {
    "duration": 30,
    "start_time": "2023-03-09T08:23:14.333Z"
   },
   {
    "duration": 98,
    "start_time": "2023-03-09T08:23:14.365Z"
   },
   {
    "duration": 7,
    "start_time": "2023-03-09T08:23:14.467Z"
   },
   {
    "duration": 21,
    "start_time": "2023-03-09T08:23:14.476Z"
   },
   {
    "duration": 118,
    "start_time": "2023-03-09T08:23:14.499Z"
   },
   {
    "duration": 8,
    "start_time": "2023-03-09T08:23:14.618Z"
   },
   {
    "duration": 31,
    "start_time": "2023-03-09T08:23:14.627Z"
   },
   {
    "duration": 103,
    "start_time": "2023-03-09T08:23:14.660Z"
   },
   {
    "duration": 8,
    "start_time": "2023-03-09T08:23:14.764Z"
   },
   {
    "duration": 51,
    "start_time": "2023-03-09T08:23:14.773Z"
   },
   {
    "duration": 101,
    "start_time": "2023-03-09T08:23:14.826Z"
   },
   {
    "duration": 96,
    "start_time": "2023-03-09T08:23:14.929Z"
   },
   {
    "duration": 77,
    "start_time": "2023-03-09T08:23:15.026Z"
   },
   {
    "duration": 82,
    "start_time": "2023-03-09T08:23:15.104Z"
   },
   {
    "duration": 77,
    "start_time": "2023-03-09T08:23:15.187Z"
   }
  ],
  "kernelspec": {
   "display_name": "Python 3 (ipykernel)",
   "language": "python",
   "name": "python3"
  },
  "language_info": {
   "codemirror_mode": {
    "name": "ipython",
    "version": 3
   },
   "file_extension": ".py",
   "mimetype": "text/x-python",
   "name": "python",
   "nbconvert_exporter": "python",
   "pygments_lexer": "ipython3",
   "version": "3.9.13"
  },
  "toc": {
   "base_numbering": 1,
   "nav_menu": {},
   "number_sections": true,
   "sideBar": true,
   "skip_h1_title": true,
   "title_cell": "Table of Contents",
   "title_sidebar": "Contents",
   "toc_cell": false,
   "toc_position": {},
   "toc_section_display": true,
   "toc_window_display": false
  }
 },
 "nbformat": 4,
 "nbformat_minor": 5
}

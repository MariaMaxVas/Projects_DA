{
 "cells": [
  {
   "cell_type": "markdown",
   "metadata": {},
   "source": [
    "<div class=\"alert alert-info\">\n",
    "<h2> Приоритизация и A/B-тест гипотез по увеличению выручки Интернет-магазина <a class=\"tocSkip\"> </h2>\n",
    "    \n",
    "<b>Часть 1. Приоритизация гипотез</b> \n",
    "\n",
    "<b>Цель:</b>  провести  приоритезацию 9 гипотез по увеличению выручки интернет-магазина с указанными параметрами Reach, Impact, Confidence, Effort.    \n",
    "<b>Содержание:</b>  \n",
    "   1. Применение фреймворка ICE для приоритизации гипотез;\n",
    "    \n",
    "   2. Применение фреймворка RICE для приоритизации гипотез;\n",
    "    \n",
    "   3. Общие выводы.\n",
    "    \n",
    "<b>Часть 2. A/B-тест </b>\n",
    "    \n",
    "<b>Цель:</b>  провести анализ A/B-теста    \n",
    "<b>Содержание:</b>  \n",
    "   1. График кумулятивной выручки по группам;\n",
    "    \n",
    "   2. График кумулятивного среднего чека по группам;\n",
    "    \n",
    "   3. График относительного изменения кумулятивного среднего чека группы B к группе A;\n",
    "   4. График кумулятивного среднего количества заказов на посетителя по группам;\n",
    "   5. График относительного изменения кумулятивного среднего количества заказов на посетителя группы B к группе A;\n",
    "   6. Точечный график количества заказов по пользователям;\n",
    "   7. Определение аномальных пользователей по количеству заказов на пользователя;\n",
    "   8. Точечный график стоимостей заказов;\n",
    "   9. Определение аномальных пользователей по стоимости заказов;\n",
    "   10. Статистическая значимость различий в среднем количестве заказов на посетителя между группами по «сырым» данным;\n",
    "   11. Статистическая значимость различий в среднем чеке заказа между группами по «сырым» данным;\n",
    "   12. Статистическая значимость различий в среднем количестве заказов на посетителя между группами по «очищенным» данным;\n",
    "   13. Статистическая значимость различий в среднем чеке заказа между группами по «очищенным» данным;    \n",
    "   14. Принятие решения по результатам теста.    \n",
    "    </div>"
   ]
  },
  {
   "cell_type": "markdown",
   "metadata": {},
   "source": [
    "# Часть 1. Приоритизация гипотез"
   ]
  },
  {
   "cell_type": "code",
   "execution_count": 1,
   "metadata": {},
   "outputs": [],
   "source": [
    "import pandas as pd\n",
    "import datetime as dt\n",
    "import numpy as np\n",
    "import matplotlib.pyplot as plt\n",
    "from pandas.plotting import register_matplotlib_converters\n",
    "import warnings"
   ]
  },
  {
   "cell_type": "code",
   "execution_count": 2,
   "metadata": {},
   "outputs": [
    {
     "data": {
      "text/html": [
       "<div>\n",
       "<style scoped>\n",
       "    .dataframe tbody tr th:only-of-type {\n",
       "        vertical-align: middle;\n",
       "    }\n",
       "\n",
       "    .dataframe tbody tr th {\n",
       "        vertical-align: top;\n",
       "    }\n",
       "\n",
       "    .dataframe thead th {\n",
       "        text-align: right;\n",
       "    }\n",
       "</style>\n",
       "<table border=\"1\" class=\"dataframe\">\n",
       "  <thead>\n",
       "    <tr style=\"text-align: right;\">\n",
       "      <th></th>\n",
       "      <th>Hypothesis</th>\n",
       "      <th>Reach</th>\n",
       "      <th>Impact</th>\n",
       "      <th>Confidence</th>\n",
       "      <th>Efforts</th>\n",
       "    </tr>\n",
       "  </thead>\n",
       "  <tbody>\n",
       "    <tr>\n",
       "      <th>0</th>\n",
       "      <td>Добавить два новых канала привлечения трафика,...</td>\n",
       "      <td>3</td>\n",
       "      <td>10</td>\n",
       "      <td>8</td>\n",
       "      <td>6</td>\n",
       "    </tr>\n",
       "    <tr>\n",
       "      <th>1</th>\n",
       "      <td>Запустить собственную службу доставки, что сок...</td>\n",
       "      <td>2</td>\n",
       "      <td>5</td>\n",
       "      <td>4</td>\n",
       "      <td>10</td>\n",
       "    </tr>\n",
       "    <tr>\n",
       "      <th>2</th>\n",
       "      <td>Добавить блоки рекомендаций товаров на сайт ин...</td>\n",
       "      <td>8</td>\n",
       "      <td>3</td>\n",
       "      <td>7</td>\n",
       "      <td>3</td>\n",
       "    </tr>\n",
       "    <tr>\n",
       "      <th>3</th>\n",
       "      <td>Изменить структура категорий, что увеличит кон...</td>\n",
       "      <td>8</td>\n",
       "      <td>3</td>\n",
       "      <td>3</td>\n",
       "      <td>8</td>\n",
       "    </tr>\n",
       "    <tr>\n",
       "      <th>4</th>\n",
       "      <td>Изменить цвет фона главной страницы, чтобы уве...</td>\n",
       "      <td>3</td>\n",
       "      <td>1</td>\n",
       "      <td>1</td>\n",
       "      <td>1</td>\n",
       "    </tr>\n",
       "    <tr>\n",
       "      <th>5</th>\n",
       "      <td>Добавить страницу отзывов клиентов о магазине,...</td>\n",
       "      <td>3</td>\n",
       "      <td>2</td>\n",
       "      <td>2</td>\n",
       "      <td>3</td>\n",
       "    </tr>\n",
       "    <tr>\n",
       "      <th>6</th>\n",
       "      <td>Показать на главной странице баннеры с актуаль...</td>\n",
       "      <td>5</td>\n",
       "      <td>3</td>\n",
       "      <td>8</td>\n",
       "      <td>3</td>\n",
       "    </tr>\n",
       "    <tr>\n",
       "      <th>7</th>\n",
       "      <td>Добавить форму подписки на все основные страни...</td>\n",
       "      <td>10</td>\n",
       "      <td>7</td>\n",
       "      <td>8</td>\n",
       "      <td>5</td>\n",
       "    </tr>\n",
       "    <tr>\n",
       "      <th>8</th>\n",
       "      <td>Запустить акцию, дающую скидку на товар в день...</td>\n",
       "      <td>1</td>\n",
       "      <td>9</td>\n",
       "      <td>9</td>\n",
       "      <td>5</td>\n",
       "    </tr>\n",
       "  </tbody>\n",
       "</table>\n",
       "</div>"
      ],
      "text/plain": [
       "                                          Hypothesis  Reach  Impact  \\\n",
       "0  Добавить два новых канала привлечения трафика,...      3      10   \n",
       "1  Запустить собственную службу доставки, что сок...      2       5   \n",
       "2  Добавить блоки рекомендаций товаров на сайт ин...      8       3   \n",
       "3  Изменить структура категорий, что увеличит кон...      8       3   \n",
       "4  Изменить цвет фона главной страницы, чтобы уве...      3       1   \n",
       "5  Добавить страницу отзывов клиентов о магазине,...      3       2   \n",
       "6  Показать на главной странице баннеры с актуаль...      5       3   \n",
       "7  Добавить форму подписки на все основные страни...     10       7   \n",
       "8  Запустить акцию, дающую скидку на товар в день...      1       9   \n",
       "\n",
       "   Confidence  Efforts  \n",
       "0           8        6  \n",
       "1           4       10  \n",
       "2           7        3  \n",
       "3           3        8  \n",
       "4           1        1  \n",
       "5           2        3  \n",
       "6           8        3  \n",
       "7           8        5  \n",
       "8           9        5  "
      ]
     },
     "execution_count": 2,
     "metadata": {},
     "output_type": "execute_result"
    }
   ],
   "source": [
    "#проверка таблицы\n",
    "hypothesis = pd.read_csv('/datasets/hypothesis.csv', sep=',')\n",
    "\n",
    "hypothesis"
   ]
  },
  {
   "cell_type": "code",
   "execution_count": 3,
   "metadata": {},
   "outputs": [
    {
     "data": {
      "text/plain": [
       "array(['Добавить два новых канала привлечения трафика, что позволит привлекать на 30% больше пользователей',\n",
       "       'Запустить собственную службу доставки, что сократит срок доставки заказов',\n",
       "       'Добавить блоки рекомендаций товаров на сайт интернет магазина, чтобы повысить конверсию и средний чек заказа',\n",
       "       'Изменить структура категорий, что увеличит конверсию, т.к. пользователи быстрее найдут нужный товар',\n",
       "       'Изменить цвет фона главной страницы, чтобы увеличить вовлеченность пользователей',\n",
       "       'Добавить страницу отзывов клиентов о магазине, что позволит увеличить количество заказов',\n",
       "       'Показать на главной странице баннеры с актуальными акциями и распродажами, чтобы увеличить конверсию',\n",
       "       'Добавить форму подписки на все основные страницы, чтобы собрать базу клиентов для email-рассылок',\n",
       "       'Запустить акцию, дающую скидку на товар в день рождения'],\n",
       "      dtype=object)"
      ]
     },
     "execution_count": 3,
     "metadata": {},
     "output_type": "execute_result"
    }
   ],
   "source": [
    "#проверка полного названия гипотез\n",
    "hypothesis['Hypothesis'].unique()"
   ]
  },
  {
   "cell_type": "markdown",
   "metadata": {},
   "source": [
    "**1. Применение фреймворка ICE для приоритизации гипотез**"
   ]
  },
  {
   "cell_type": "code",
   "execution_count": 4,
   "metadata": {
    "scrolled": true
   },
   "outputs": [
    {
     "name": "stdout",
     "output_type": "stream",
     "text": [
      "                                          Hypothesis    ICE\n",
      "8  Запустить акцию, дающую скидку на товар в день...  16.20\n",
      "0  Добавить два новых канала привлечения трафика,...  13.33\n",
      "7  Добавить форму подписки на все основные страни...  11.20\n",
      "6  Показать на главной странице баннеры с актуаль...   8.00\n",
      "2  Добавить блоки рекомендаций товаров на сайт ин...   7.00\n",
      "1  Запустить собственную службу доставки, что сок...   2.00\n",
      "5  Добавить страницу отзывов клиентов о магазине,...   1.33\n",
      "3  Изменить структура категорий, что увеличит кон...   1.12\n",
      "4  Изменить цвет фона главной страницы, чтобы уве...   1.00\n"
     ]
    }
   ],
   "source": [
    "#применила фреймоворк ICE, отсортировала результат по удыванию и расписала в выводах приоритеные гипотезы\n",
    "hypothesis['ICE'] = (hypothesis['Impact'] * hypothesis['Confidence'])/hypothesis['Efforts']\n",
    "print(round(hypothesis[['Hypothesis', 'ICE']].sort_values(by='ICE', ascending=False),2))"
   ]
  },
  {
   "cell_type": "markdown",
   "metadata": {},
   "source": [
    "**Вывод 1:** Наиболее перспективные гипотезы по методу ICE: 8, 0 и 7,  то есть акция на скидку в день рождения, добавления двух новых каналов для привлечения, увеличивающая пользователей на 30%, а также добавления форму подписки на все основные страницы для сбора email адресов и дальнейшей рассылки по ним."
   ]
  },
  {
   "cell_type": "markdown",
   "metadata": {},
   "source": [
    "**2. Применение фреймворка RICE для приоритизации гипотез**"
   ]
  },
  {
   "cell_type": "code",
   "execution_count": 5,
   "metadata": {
    "scrolled": true
   },
   "outputs": [
    {
     "name": "stdout",
     "output_type": "stream",
     "text": [
      "                                          Hypothesis   RICE\n",
      "7  Добавить форму подписки на все основные страни...  112.0\n",
      "2  Добавить блоки рекомендаций товаров на сайт ин...   56.0\n",
      "0  Добавить два новых канала привлечения трафика,...   40.0\n",
      "6  Показать на главной странице баннеры с актуаль...   40.0\n",
      "8  Запустить акцию, дающую скидку на товар в день...   16.2\n",
      "3  Изменить структура категорий, что увеличит кон...    9.0\n",
      "1  Запустить собственную службу доставки, что сок...    4.0\n",
      "5  Добавить страницу отзывов клиентов о магазине,...    4.0\n",
      "4  Изменить цвет фона главной страницы, чтобы уве...    3.0\n"
     ]
    }
   ],
   "source": [
    "#применила фреймоворк RICE, отсортировала результат по удыванию и расписала в выодах приоритеные гипотезы\n",
    "hypothesis['RICE'] = (hypothesis['Reach'] * hypothesis['Impact'] * hypothesis['Confidence'])/hypothesis['Efforts']\n",
    "print(hypothesis[['Hypothesis', 'RICE']].sort_values(by='RICE', ascending=False))"
   ]
  },
  {
   "cell_type": "markdown",
   "metadata": {},
   "source": [
    "**Вывод 2:** Наиболее перспективные гипотезы по методу RICE: 7, 2 и 0,  то есть  добавления форму подписки на все основные страницы для сбора email адресов и дальнейшей рассылки по ним, добавления блоков рекомендаций товаров на сайт интернет магазина, чтобы повысить конверсию и средний чек заказа, а также добавления двух новых каналов для привлечения, увеличивающая пользователей на 30%."
   ]
  },
  {
   "cell_type": "markdown",
   "metadata": {},
   "source": [
    "**3. Общие выводы**"
   ]
  },
  {
   "cell_type": "markdown",
   "metadata": {},
   "source": [
    "При применении RICE вместо ICE две гипотезы (7я и 0я) остались, но 8ю гипотезу замениал 2я. А на первое место вышла 7я гипотеза. Скорее всего причина в том, что параметр Reach, то есть сколько пользователей гипотеза затрагивает, у 7ой гипотезы намного выше (10). Таким образом охват пользователей через Email-рассылки по подписке больше и является более перспективной гипотезой."
   ]
  },
  {
   "cell_type": "markdown",
   "metadata": {},
   "source": [
    "# Часть 2. A/B-тест"
   ]
  },
  {
   "cell_type": "code",
   "execution_count": 6,
   "metadata": {
    "scrolled": true
   },
   "outputs": [
    {
     "data": {
      "text/html": [
       "<div>\n",
       "<style scoped>\n",
       "    .dataframe tbody tr th:only-of-type {\n",
       "        vertical-align: middle;\n",
       "    }\n",
       "\n",
       "    .dataframe tbody tr th {\n",
       "        vertical-align: top;\n",
       "    }\n",
       "\n",
       "    .dataframe thead th {\n",
       "        text-align: right;\n",
       "    }\n",
       "</style>\n",
       "<table border=\"1\" class=\"dataframe\">\n",
       "  <thead>\n",
       "    <tr style=\"text-align: right;\">\n",
       "      <th></th>\n",
       "      <th>transactionId</th>\n",
       "      <th>visitorId</th>\n",
       "      <th>date</th>\n",
       "      <th>revenue</th>\n",
       "      <th>group</th>\n",
       "    </tr>\n",
       "  </thead>\n",
       "  <tbody>\n",
       "    <tr>\n",
       "      <th>0</th>\n",
       "      <td>3667963787</td>\n",
       "      <td>3312258926</td>\n",
       "      <td>2019-08-15</td>\n",
       "      <td>1650</td>\n",
       "      <td>B</td>\n",
       "    </tr>\n",
       "    <tr>\n",
       "      <th>1</th>\n",
       "      <td>2804400009</td>\n",
       "      <td>3642806036</td>\n",
       "      <td>2019-08-15</td>\n",
       "      <td>730</td>\n",
       "      <td>B</td>\n",
       "    </tr>\n",
       "    <tr>\n",
       "      <th>2</th>\n",
       "      <td>2961555356</td>\n",
       "      <td>4069496402</td>\n",
       "      <td>2019-08-15</td>\n",
       "      <td>400</td>\n",
       "      <td>A</td>\n",
       "    </tr>\n",
       "    <tr>\n",
       "      <th>3</th>\n",
       "      <td>3797467345</td>\n",
       "      <td>1196621759</td>\n",
       "      <td>2019-08-15</td>\n",
       "      <td>9759</td>\n",
       "      <td>B</td>\n",
       "    </tr>\n",
       "    <tr>\n",
       "      <th>4</th>\n",
       "      <td>2282983706</td>\n",
       "      <td>2322279887</td>\n",
       "      <td>2019-08-15</td>\n",
       "      <td>2308</td>\n",
       "      <td>B</td>\n",
       "    </tr>\n",
       "    <tr>\n",
       "      <th>...</th>\n",
       "      <td>...</td>\n",
       "      <td>...</td>\n",
       "      <td>...</td>\n",
       "      <td>...</td>\n",
       "      <td>...</td>\n",
       "    </tr>\n",
       "    <tr>\n",
       "      <th>1192</th>\n",
       "      <td>2662137336</td>\n",
       "      <td>3733762160</td>\n",
       "      <td>2019-08-14</td>\n",
       "      <td>6490</td>\n",
       "      <td>B</td>\n",
       "    </tr>\n",
       "    <tr>\n",
       "      <th>1193</th>\n",
       "      <td>2203539145</td>\n",
       "      <td>370388673</td>\n",
       "      <td>2019-08-14</td>\n",
       "      <td>3190</td>\n",
       "      <td>A</td>\n",
       "    </tr>\n",
       "    <tr>\n",
       "      <th>1194</th>\n",
       "      <td>1807773912</td>\n",
       "      <td>573423106</td>\n",
       "      <td>2019-08-14</td>\n",
       "      <td>10550</td>\n",
       "      <td>A</td>\n",
       "    </tr>\n",
       "    <tr>\n",
       "      <th>1195</th>\n",
       "      <td>1947021204</td>\n",
       "      <td>1614305549</td>\n",
       "      <td>2019-08-14</td>\n",
       "      <td>100</td>\n",
       "      <td>A</td>\n",
       "    </tr>\n",
       "    <tr>\n",
       "      <th>1196</th>\n",
       "      <td>3936777065</td>\n",
       "      <td>2108080724</td>\n",
       "      <td>2019-08-15</td>\n",
       "      <td>202740</td>\n",
       "      <td>B</td>\n",
       "    </tr>\n",
       "  </tbody>\n",
       "</table>\n",
       "<p>1197 rows × 5 columns</p>\n",
       "</div>"
      ],
      "text/plain": [
       "      transactionId   visitorId       date  revenue group\n",
       "0        3667963787  3312258926 2019-08-15     1650     B\n",
       "1        2804400009  3642806036 2019-08-15      730     B\n",
       "2        2961555356  4069496402 2019-08-15      400     A\n",
       "3        3797467345  1196621759 2019-08-15     9759     B\n",
       "4        2282983706  2322279887 2019-08-15     2308     B\n",
       "...             ...         ...        ...      ...   ...\n",
       "1192     2662137336  3733762160 2019-08-14     6490     B\n",
       "1193     2203539145   370388673 2019-08-14     3190     A\n",
       "1194     1807773912   573423106 2019-08-14    10550     A\n",
       "1195     1947021204  1614305549 2019-08-14      100     A\n",
       "1196     3936777065  2108080724 2019-08-15   202740     B\n",
       "\n",
       "[1197 rows x 5 columns]"
      ]
     },
     "execution_count": 6,
     "metadata": {},
     "output_type": "execute_result"
    }
   ],
   "source": [
    "register_matplotlib_converters()\n",
    "\n",
    "orders = pd.read_csv('/datasets/orders.csv', sep=',')\n",
    "\n",
    "#к столбцу date применила lambda-функцию\n",
    "orders['date'] = orders['date'].map(\n",
    "    lambda x: dt.datetime.strptime(x, '%Y-%m-%d')\n",
    ")\n",
    "#открыла таблицу orders\n",
    "orders"
   ]
  },
  {
   "cell_type": "code",
   "execution_count": 7,
   "metadata": {
    "scrolled": true
   },
   "outputs": [
    {
     "data": {
      "text/html": [
       "<div>\n",
       "<style scoped>\n",
       "    .dataframe tbody tr th:only-of-type {\n",
       "        vertical-align: middle;\n",
       "    }\n",
       "\n",
       "    .dataframe tbody tr th {\n",
       "        vertical-align: top;\n",
       "    }\n",
       "\n",
       "    .dataframe thead th {\n",
       "        text-align: right;\n",
       "    }\n",
       "</style>\n",
       "<table border=\"1\" class=\"dataframe\">\n",
       "  <thead>\n",
       "    <tr style=\"text-align: right;\">\n",
       "      <th></th>\n",
       "      <th>date</th>\n",
       "      <th>group</th>\n",
       "      <th>visitors</th>\n",
       "    </tr>\n",
       "  </thead>\n",
       "  <tbody>\n",
       "    <tr>\n",
       "      <th>0</th>\n",
       "      <td>2019-08-01</td>\n",
       "      <td>A</td>\n",
       "      <td>719</td>\n",
       "    </tr>\n",
       "    <tr>\n",
       "      <th>1</th>\n",
       "      <td>2019-08-02</td>\n",
       "      <td>A</td>\n",
       "      <td>619</td>\n",
       "    </tr>\n",
       "    <tr>\n",
       "      <th>2</th>\n",
       "      <td>2019-08-03</td>\n",
       "      <td>A</td>\n",
       "      <td>507</td>\n",
       "    </tr>\n",
       "    <tr>\n",
       "      <th>3</th>\n",
       "      <td>2019-08-04</td>\n",
       "      <td>A</td>\n",
       "      <td>717</td>\n",
       "    </tr>\n",
       "    <tr>\n",
       "      <th>4</th>\n",
       "      <td>2019-08-05</td>\n",
       "      <td>A</td>\n",
       "      <td>756</td>\n",
       "    </tr>\n",
       "    <tr>\n",
       "      <th>...</th>\n",
       "      <td>...</td>\n",
       "      <td>...</td>\n",
       "      <td>...</td>\n",
       "    </tr>\n",
       "    <tr>\n",
       "      <th>57</th>\n",
       "      <td>2019-08-27</td>\n",
       "      <td>B</td>\n",
       "      <td>720</td>\n",
       "    </tr>\n",
       "    <tr>\n",
       "      <th>58</th>\n",
       "      <td>2019-08-28</td>\n",
       "      <td>B</td>\n",
       "      <td>654</td>\n",
       "    </tr>\n",
       "    <tr>\n",
       "      <th>59</th>\n",
       "      <td>2019-08-29</td>\n",
       "      <td>B</td>\n",
       "      <td>531</td>\n",
       "    </tr>\n",
       "    <tr>\n",
       "      <th>60</th>\n",
       "      <td>2019-08-30</td>\n",
       "      <td>B</td>\n",
       "      <td>490</td>\n",
       "    </tr>\n",
       "    <tr>\n",
       "      <th>61</th>\n",
       "      <td>2019-08-31</td>\n",
       "      <td>B</td>\n",
       "      <td>718</td>\n",
       "    </tr>\n",
       "  </tbody>\n",
       "</table>\n",
       "<p>62 rows × 3 columns</p>\n",
       "</div>"
      ],
      "text/plain": [
       "         date group  visitors\n",
       "0  2019-08-01     A       719\n",
       "1  2019-08-02     A       619\n",
       "2  2019-08-03     A       507\n",
       "3  2019-08-04     A       717\n",
       "4  2019-08-05     A       756\n",
       "..        ...   ...       ...\n",
       "57 2019-08-27     B       720\n",
       "58 2019-08-28     B       654\n",
       "59 2019-08-29     B       531\n",
       "60 2019-08-30     B       490\n",
       "61 2019-08-31     B       718\n",
       "\n",
       "[62 rows x 3 columns]"
      ]
     },
     "execution_count": 7,
     "metadata": {},
     "output_type": "execute_result"
    }
   ],
   "source": [
    "visitors = pd.read_csv('https://code.s3.yandex.net/datasets/visitors.csv', sep=',')\n",
    "#к столбцу date применила lambda-функцию\n",
    "visitors['date'] = visitors['date'].map(\n",
    "    lambda x: dt.datetime.strptime(x, '%Y-%m-%d')\n",
    ")\n",
    "#открыла таблицу visitors\n",
    "visitors"
   ]
  },
  {
   "cell_type": "code",
   "execution_count": 8,
   "metadata": {},
   "outputs": [
    {
     "data": {
      "text/plain": [
       "transactionId    0\n",
       "visitorId        0\n",
       "date             0\n",
       "revenue          0\n",
       "group            0\n",
       "dtype: int64"
      ]
     },
     "execution_count": 8,
     "metadata": {},
     "output_type": "execute_result"
    }
   ],
   "source": [
    "# проверка пропусков orders\n",
    "orders.isna().sum() "
   ]
  },
  {
   "cell_type": "code",
   "execution_count": 9,
   "metadata": {
    "scrolled": false
   },
   "outputs": [
    {
     "data": {
      "text/plain": [
       "date        0\n",
       "group       0\n",
       "visitors    0\n",
       "dtype: int64"
      ]
     },
     "execution_count": 9,
     "metadata": {},
     "output_type": "execute_result"
    }
   ],
   "source": [
    "# проверка пропусков visitors\n",
    "visitors.isna().sum()"
   ]
  },
  {
   "cell_type": "code",
   "execution_count": 10,
   "metadata": {
    "scrolled": true
   },
   "outputs": [
    {
     "data": {
      "text/plain": [
       "0"
      ]
     },
     "execution_count": 10,
     "metadata": {},
     "output_type": "execute_result"
    }
   ],
   "source": [
    "# подсчёт явных дубликатов orders\n",
    "orders.duplicated().sum()"
   ]
  },
  {
   "cell_type": "code",
   "execution_count": 11,
   "metadata": {
    "scrolled": true
   },
   "outputs": [
    {
     "data": {
      "text/plain": [
       "0"
      ]
     },
     "execution_count": 11,
     "metadata": {},
     "output_type": "execute_result"
    }
   ],
   "source": [
    "# подсчёт явных дубликатов visitors\n",
    "visitors.duplicated().sum()"
   ]
  },
  {
   "cell_type": "code",
   "execution_count": 12,
   "metadata": {},
   "outputs": [
    {
     "data": {
      "text/html": [
       "<div>\n",
       "<style scoped>\n",
       "    .dataframe tbody tr th:only-of-type {\n",
       "        vertical-align: middle;\n",
       "    }\n",
       "\n",
       "    .dataframe tbody tr th {\n",
       "        vertical-align: top;\n",
       "    }\n",
       "\n",
       "    .dataframe thead th {\n",
       "        text-align: right;\n",
       "    }\n",
       "</style>\n",
       "<table border=\"1\" class=\"dataframe\">\n",
       "  <thead>\n",
       "    <tr style=\"text-align: right;\">\n",
       "      <th></th>\n",
       "      <th>transactionId</th>\n",
       "      <th>visitorId</th>\n",
       "      <th>date</th>\n",
       "      <th>revenue</th>\n",
       "    </tr>\n",
       "    <tr>\n",
       "      <th>group</th>\n",
       "      <th></th>\n",
       "      <th></th>\n",
       "      <th></th>\n",
       "      <th></th>\n",
       "    </tr>\n",
       "  </thead>\n",
       "  <tbody>\n",
       "    <tr>\n",
       "      <th>A</th>\n",
       "      <td>557</td>\n",
       "      <td>503</td>\n",
       "      <td>31</td>\n",
       "      <td>419</td>\n",
       "    </tr>\n",
       "    <tr>\n",
       "      <th>B</th>\n",
       "      <td>640</td>\n",
       "      <td>586</td>\n",
       "      <td>31</td>\n",
       "      <td>450</td>\n",
       "    </tr>\n",
       "  </tbody>\n",
       "</table>\n",
       "</div>"
      ],
      "text/plain": [
       "       transactionId  visitorId  date  revenue\n",
       "group                                         \n",
       "A                557        503    31      419\n",
       "B                640        586    31      450"
      ]
     },
     "execution_count": 12,
     "metadata": {},
     "output_type": "execute_result"
    }
   ],
   "source": [
    "# подсчёт количества каждой переменной по группам\n",
    "orders_count = orders.groupby('group').nunique()\n",
    "orders_count"
   ]
  },
  {
   "cell_type": "code",
   "execution_count": 13,
   "metadata": {
    "scrolled": true
   },
   "outputs": [
    {
     "data": {
      "text/html": [
       "<div>\n",
       "<style scoped>\n",
       "    .dataframe tbody tr th:only-of-type {\n",
       "        vertical-align: middle;\n",
       "    }\n",
       "\n",
       "    .dataframe tbody tr th {\n",
       "        vertical-align: top;\n",
       "    }\n",
       "\n",
       "    .dataframe thead th {\n",
       "        text-align: right;\n",
       "    }\n",
       "</style>\n",
       "<table border=\"1\" class=\"dataframe\">\n",
       "  <thead>\n",
       "    <tr style=\"text-align: right;\">\n",
       "      <th></th>\n",
       "      <th>group</th>\n",
       "    </tr>\n",
       "    <tr>\n",
       "      <th>visitorId</th>\n",
       "      <th></th>\n",
       "    </tr>\n",
       "  </thead>\n",
       "  <tbody>\n",
       "    <tr>\n",
       "      <th>5114589</th>\n",
       "      <td>1</td>\n",
       "    </tr>\n",
       "    <tr>\n",
       "      <th>6958315</th>\n",
       "      <td>1</td>\n",
       "    </tr>\n",
       "    <tr>\n",
       "      <th>8300375</th>\n",
       "      <td>2</td>\n",
       "    </tr>\n",
       "    <tr>\n",
       "      <th>11685486</th>\n",
       "      <td>1</td>\n",
       "    </tr>\n",
       "    <tr>\n",
       "      <th>39475350</th>\n",
       "      <td>1</td>\n",
       "    </tr>\n",
       "    <tr>\n",
       "      <th>...</th>\n",
       "      <td>...</td>\n",
       "    </tr>\n",
       "    <tr>\n",
       "      <th>4266935830</th>\n",
       "      <td>2</td>\n",
       "    </tr>\n",
       "    <tr>\n",
       "      <th>4278982564</th>\n",
       "      <td>1</td>\n",
       "    </tr>\n",
       "    <tr>\n",
       "      <th>4279090005</th>\n",
       "      <td>1</td>\n",
       "    </tr>\n",
       "    <tr>\n",
       "      <th>4281247801</th>\n",
       "      <td>1</td>\n",
       "    </tr>\n",
       "    <tr>\n",
       "      <th>4283872382</th>\n",
       "      <td>1</td>\n",
       "    </tr>\n",
       "  </tbody>\n",
       "</table>\n",
       "<p>1031 rows × 1 columns</p>\n",
       "</div>"
      ],
      "text/plain": [
       "            group\n",
       "visitorId        \n",
       "5114589         1\n",
       "6958315         1\n",
       "8300375         2\n",
       "11685486        1\n",
       "39475350        1\n",
       "...           ...\n",
       "4266935830      2\n",
       "4278982564      1\n",
       "4279090005      1\n",
       "4281247801      1\n",
       "4283872382      1\n",
       "\n",
       "[1031 rows x 1 columns]"
      ]
     },
     "execution_count": 13,
     "metadata": {},
     "output_type": "execute_result"
    }
   ],
   "source": [
    "# подсчёт количества групп в которые входят пользователи\n",
    "orders_group_count = orders.groupby('visitorId').agg({'group': 'nunique'})\n",
    "orders_group_count"
   ]
  },
  {
   "cell_type": "code",
   "execution_count": 14,
   "metadata": {
    "scrolled": false
   },
   "outputs": [
    {
     "data": {
      "text/plain": [
       "group    58\n",
       "dtype: int64"
      ]
     },
     "execution_count": 14,
     "metadata": {},
     "output_type": "execute_result"
    }
   ],
   "source": [
    "# подсчет количества пользователелей, которые входят в обе группы\n",
    "orders_group_count.query('group == 2').count()"
   ]
  },
  {
   "cell_type": "markdown",
   "metadata": {},
   "source": [
    "Были найдены 58 пользователей, которые входят в обе группы. Количество не большое и скорее всего их удаление не сильно повлиет на дальнейший анализ, поэтому данные не были удалены."
   ]
  },
  {
   "cell_type": "code",
   "execution_count": 15,
   "metadata": {
    "scrolled": true
   },
   "outputs": [
    {
     "data": {
      "text/html": [
       "<div>\n",
       "<style scoped>\n",
       "    .dataframe tbody tr th:only-of-type {\n",
       "        vertical-align: middle;\n",
       "    }\n",
       "\n",
       "    .dataframe tbody tr th {\n",
       "        vertical-align: top;\n",
       "    }\n",
       "\n",
       "    .dataframe thead th {\n",
       "        text-align: right;\n",
       "    }\n",
       "</style>\n",
       "<table border=\"1\" class=\"dataframe\">\n",
       "  <thead>\n",
       "    <tr style=\"text-align: right;\">\n",
       "      <th></th>\n",
       "      <th>date</th>\n",
       "      <th>group</th>\n",
       "    </tr>\n",
       "  </thead>\n",
       "  <tbody>\n",
       "    <tr>\n",
       "      <th>0</th>\n",
       "      <td>2019-08-15</td>\n",
       "      <td>B</td>\n",
       "    </tr>\n",
       "    <tr>\n",
       "      <th>1</th>\n",
       "      <td>2019-08-15</td>\n",
       "      <td>B</td>\n",
       "    </tr>\n",
       "    <tr>\n",
       "      <th>2</th>\n",
       "      <td>2019-08-15</td>\n",
       "      <td>A</td>\n",
       "    </tr>\n",
       "    <tr>\n",
       "      <th>3</th>\n",
       "      <td>2019-08-15</td>\n",
       "      <td>B</td>\n",
       "    </tr>\n",
       "    <tr>\n",
       "      <th>4</th>\n",
       "      <td>2019-08-15</td>\n",
       "      <td>B</td>\n",
       "    </tr>\n",
       "    <tr>\n",
       "      <th>...</th>\n",
       "      <td>...</td>\n",
       "      <td>...</td>\n",
       "    </tr>\n",
       "    <tr>\n",
       "      <th>1192</th>\n",
       "      <td>2019-08-14</td>\n",
       "      <td>B</td>\n",
       "    </tr>\n",
       "    <tr>\n",
       "      <th>1193</th>\n",
       "      <td>2019-08-14</td>\n",
       "      <td>A</td>\n",
       "    </tr>\n",
       "    <tr>\n",
       "      <th>1194</th>\n",
       "      <td>2019-08-14</td>\n",
       "      <td>A</td>\n",
       "    </tr>\n",
       "    <tr>\n",
       "      <th>1195</th>\n",
       "      <td>2019-08-14</td>\n",
       "      <td>A</td>\n",
       "    </tr>\n",
       "    <tr>\n",
       "      <th>1196</th>\n",
       "      <td>2019-08-15</td>\n",
       "      <td>B</td>\n",
       "    </tr>\n",
       "  </tbody>\n",
       "</table>\n",
       "<p>1197 rows × 2 columns</p>\n",
       "</div>"
      ],
      "text/plain": [
       "           date group\n",
       "0    2019-08-15     B\n",
       "1    2019-08-15     B\n",
       "2    2019-08-15     A\n",
       "3    2019-08-15     B\n",
       "4    2019-08-15     B\n",
       "...         ...   ...\n",
       "1192 2019-08-14     B\n",
       "1193 2019-08-14     A\n",
       "1194 2019-08-14     A\n",
       "1195 2019-08-14     A\n",
       "1196 2019-08-15     B\n",
       "\n",
       "[1197 rows x 2 columns]"
      ]
     },
     "execution_count": 15,
     "metadata": {},
     "output_type": "execute_result"
    }
   ],
   "source": [
    "#значений дат и групп теста\n",
    "datesGroups = orders[['date', 'group']]\n",
    "datesGroups"
   ]
  },
  {
   "cell_type": "code",
   "execution_count": 16,
   "metadata": {},
   "outputs": [
    {
     "data": {
      "text/html": [
       "<div>\n",
       "<style scoped>\n",
       "    .dataframe tbody tr th:only-of-type {\n",
       "        vertical-align: middle;\n",
       "    }\n",
       "\n",
       "    .dataframe tbody tr th {\n",
       "        vertical-align: top;\n",
       "    }\n",
       "\n",
       "    .dataframe thead th {\n",
       "        text-align: right;\n",
       "    }\n",
       "</style>\n",
       "<table border=\"1\" class=\"dataframe\">\n",
       "  <thead>\n",
       "    <tr style=\"text-align: right;\">\n",
       "      <th></th>\n",
       "      <th>date</th>\n",
       "      <th>group</th>\n",
       "    </tr>\n",
       "  </thead>\n",
       "  <tbody>\n",
       "    <tr>\n",
       "      <th>0</th>\n",
       "      <td>2019-08-15</td>\n",
       "      <td>B</td>\n",
       "    </tr>\n",
       "    <tr>\n",
       "      <th>2</th>\n",
       "      <td>2019-08-15</td>\n",
       "      <td>A</td>\n",
       "    </tr>\n",
       "    <tr>\n",
       "      <th>45</th>\n",
       "      <td>2019-08-16</td>\n",
       "      <td>A</td>\n",
       "    </tr>\n",
       "    <tr>\n",
       "      <th>47</th>\n",
       "      <td>2019-08-16</td>\n",
       "      <td>B</td>\n",
       "    </tr>\n",
       "    <tr>\n",
       "      <th>55</th>\n",
       "      <td>2019-08-01</td>\n",
       "      <td>A</td>\n",
       "    </tr>\n",
       "    <tr>\n",
       "      <th>...</th>\n",
       "      <td>...</td>\n",
       "      <td>...</td>\n",
       "    </tr>\n",
       "    <tr>\n",
       "      <th>1068</th>\n",
       "      <td>2019-08-12</td>\n",
       "      <td>A</td>\n",
       "    </tr>\n",
       "    <tr>\n",
       "      <th>1114</th>\n",
       "      <td>2019-08-13</td>\n",
       "      <td>B</td>\n",
       "    </tr>\n",
       "    <tr>\n",
       "      <th>1116</th>\n",
       "      <td>2019-08-13</td>\n",
       "      <td>A</td>\n",
       "    </tr>\n",
       "    <tr>\n",
       "      <th>1149</th>\n",
       "      <td>2019-08-14</td>\n",
       "      <td>B</td>\n",
       "    </tr>\n",
       "    <tr>\n",
       "      <th>1150</th>\n",
       "      <td>2019-08-14</td>\n",
       "      <td>A</td>\n",
       "    </tr>\n",
       "  </tbody>\n",
       "</table>\n",
       "<p>62 rows × 2 columns</p>\n",
       "</div>"
      ],
      "text/plain": [
       "           date group\n",
       "0    2019-08-15     B\n",
       "2    2019-08-15     A\n",
       "45   2019-08-16     A\n",
       "47   2019-08-16     B\n",
       "55   2019-08-01     A\n",
       "...         ...   ...\n",
       "1068 2019-08-12     A\n",
       "1114 2019-08-13     B\n",
       "1116 2019-08-13     A\n",
       "1149 2019-08-14     B\n",
       "1150 2019-08-14     A\n",
       "\n",
       "[62 rows x 2 columns]"
      ]
     },
     "execution_count": 16,
     "metadata": {},
     "output_type": "execute_result"
    }
   ],
   "source": [
    "#массив уникальных пар значений дат и групп теста\n",
    "datesGroups = orders[['date', 'group']].drop_duplicates()\n",
    "datesGroups"
   ]
  },
  {
   "cell_type": "code",
   "execution_count": 17,
   "metadata": {},
   "outputs": [
    {
     "name": "stdout",
     "output_type": "stream",
     "text": [
      "Дата начала теста 2019-08-01\n",
      "Дата окончания теста 2019-08-31\n"
     ]
    }
   ],
   "source": [
    "#даты начала и окончания теста\n",
    "datesGroups_min = datesGroups['date'].dt.date.min() \n",
    "datesGroups_max = datesGroups['date'].dt.date.max()\n",
    "print('Дата начала теста', datesGroups_min)\n",
    "print('Дата окончания теста', datesGroups_max)"
   ]
  },
  {
   "cell_type": "code",
   "execution_count": 18,
   "metadata": {
    "scrolled": true
   },
   "outputs": [
    {
     "name": "stdout",
     "output_type": "stream",
     "text": [
      "        date group  orders  buyers  revenue  visitors\n",
      "0 2019-08-01     A      24      20   148579       719\n",
      "1 2019-08-01     B      21      20   101217       713\n",
      "2 2019-08-02     A      44      38   242401      1338\n",
      "3 2019-08-02     B      45      43   266748      1294\n",
      "4 2019-08-03     A      68      62   354874      1845\n"
     ]
    }
   ],
   "source": [
    "# агрегированные кумулятивные по дням данные о заказах интернет-магазина\n",
    "ordersAggregated = datesGroups.apply(\n",
    "    lambda x: orders[\n",
    "        np.logical_and(\n",
    "            orders['date'] <= x['date'], orders['group'] == x['group']\n",
    "        )\n",
    "    ].agg(\n",
    "        {\n",
    "            'date': 'max',\n",
    "            'group': 'max',\n",
    "            'transactionId': 'nunique',\n",
    "            'visitorId': 'nunique',\n",
    "            'revenue': 'sum',\n",
    "        }\n",
    "    ),\n",
    "    axis=1,\n",
    ").sort_values(by=['date', 'group'])\n",
    "\n",
    "# агрегированные кумулятивные по дням данные о посетителях интернет-магазина\n",
    "visitorsAggregated = datesGroups.apply(\n",
    "    lambda x: visitors[\n",
    "        np.logical_and(\n",
    "            visitors['date'] <= x['date'], visitors['group'] == x['group']\n",
    "        )\n",
    "    ].agg({'date': 'max', 'group': 'max', 'visitors': 'sum'}),\n",
    "    axis=1,\n",
    ").sort_values(by=['date', 'group'])\n",
    "\n",
    "# объединила кумулятивные данные в одной таблице\n",
    "cumulativeData = ordersAggregated.merge(visitorsAggregated, left_on=['date', 'group'], right_on=['date', 'group'])\n",
    "cumulativeData.columns = ['date', 'group', 'orders', 'buyers', 'revenue', 'visitors']\n",
    "\n",
    "print(cumulativeData.head(5)) "
   ]
  },
  {
   "cell_type": "markdown",
   "metadata": {},
   "source": [
    "Были сформированы уникальные пары и получены агрегированные данные"
   ]
  },
  {
   "cell_type": "markdown",
   "metadata": {},
   "source": [
    "**1. График кумулятивной выручки по группам.**"
   ]
  },
  {
   "cell_type": "code",
   "execution_count": 19,
   "metadata": {},
   "outputs": [
    {
     "data": {
      "image/png": "[encoded data removed]",
      "text/plain": [
       "<Figure size 1400x500 with 1 Axes>"
      ]
     },
     "metadata": {},
     "output_type": "display_data"
    }
   ],
   "source": [
    "# датафрейм с кумулятивным количеством заказов и кумулятивной выручкой по дням в группе А\n",
    "cumulativeRevenueA = cumulativeData[cumulativeData['group']=='A'][['date','revenue', 'orders']]\n",
    "\n",
    "# датафрейм с кумулятивным количеством заказов и кумулятивной выручкой по дням в группе B\n",
    "cumulativeRevenueB = cumulativeData[cumulativeData['group']=='B'][['date','revenue', 'orders']]\n",
    "\n",
    "fig, axes = plt.subplots(1)\n",
    "\n",
    "# график выручки группы А\n",
    "plt.plot(cumulativeRevenueA['date'], cumulativeRevenueA['revenue'], label='A')\n",
    "\n",
    "# график выручки группы B\n",
    "plt.plot(cumulativeRevenueB['date'], cumulativeRevenueB['revenue'], label='B')\n",
    "plt.title('Кумулятивная выручка по группам')\n",
    "plt.xlabel('Дата')\n",
    "plt.ylabel('Выручка')\n",
    "plt.legend()\n",
    "\n",
    "fig.set_figheight(5)\n",
    "fig.set_figwidth(14);"
   ]
  },
  {
   "cell_type": "markdown",
   "metadata": {},
   "source": [
    "**Вывод 1:** Практически с самого начала лидером по выручке была группа В, которая в середине намного обогналала группу А и продолжала лидировать до конца теста. Возможно на это повлияли большие заказы. Тем не менее, графики выручки обеих групп растут, а у группы В в нескольких точках заметен резкий рост. Скорее всего было повышение числа заказов или появились дорогие заказы в выборке."
   ]
  },
  {
   "cell_type": "markdown",
   "metadata": {},
   "source": [
    "**2. График кумулятивного среднего чека по группам.**"
   ]
  },
  {
   "cell_type": "code",
   "execution_count": 20,
   "metadata": {},
   "outputs": [
    {
     "data": {
      "image/png": "[encoded data removed]",
      "text/plain": [
       "<Figure size 1400x500 with 1 Axes>"
      ]
     },
     "metadata": {},
     "output_type": "display_data"
    }
   ],
   "source": [
    "fig, axes = plt.subplots(1)\n",
    "# график с кумулятивным средним чеком в группе А\n",
    "plt.plot(cumulativeRevenueA['date'], cumulativeRevenueA['revenue']/cumulativeRevenueA['orders'], label='A')\n",
    "# график с кумулятивным средним чеком в группе В\n",
    "plt.plot(cumulativeRevenueB['date'], cumulativeRevenueB['revenue']/cumulativeRevenueB['orders'], label='B')\n",
    "plt.title('Кумулятивный средний чек по группам')\n",
    "plt.xlabel('Дата')\n",
    "plt.ylabel('Выручка')\n",
    "plt.legend()\n",
    "fig.set_figheight(5)\n",
    "fig.set_figwidth(14);"
   ]
  },
  {
   "cell_type": "markdown",
   "metadata": {},
   "source": [
    "**Вывод 2:** Кумулятивное значение среднего чека по группам также показывает повышение, где лидирует также группа В. На графике среднего чека выручки заметно, что в группе В в нескольких точках резко растут показатели, особенно в середине. У группы А в начале виден спад, после идет резкое повышение и где-то в середине - стабилизация. Причина искажения результатов скорее всего такая же - увеличение числа заказов или появились дорогие заказы в выборке."
   ]
  },
  {
   "cell_type": "markdown",
   "metadata": {},
   "source": [
    "**3. График относительного изменения кумулятивного среднего чека группы B к группе A.**"
   ]
  },
  {
   "cell_type": "code",
   "execution_count": 21,
   "metadata": {},
   "outputs": [
    {
     "data": {
      "image/png": "[encoded data removed]",
      "text/plain": [
       "<Figure size 1400x500 with 1 Axes>"
      ]
     },
     "metadata": {},
     "output_type": "display_data"
    }
   ],
   "source": [
    "# собрала данные в одном датафрейме\n",
    "mergedCumulativeRevenue = cumulativeRevenueA.merge(cumulativeRevenueB, left_on='date', right_on='date', how='left', suffixes=['A', 'B'])\n",
    "fig, axes = plt.subplots(1)\n",
    "# поcтроила отношение средних чеков\n",
    "plt.plot(mergedCumulativeRevenue['date'], (mergedCumulativeRevenue['revenueB']/mergedCumulativeRevenue['ordersB'])/(mergedCumulativeRevenue['revenueA']/mergedCumulativeRevenue['ordersA'])-1)\n",
    "\n",
    "# добавила ось X\n",
    "plt.axhline(y=0, color='black', linestyle='--')\n",
    "plt.title('Относительное изменение кумулятивного среднего чека группы В к группе А')\n",
    "plt.xlabel('Дата')\n",
    "plt.ylabel('Относительное изменение')\n",
    "fig.set_figheight(5)\n",
    "fig.set_figwidth(14);"
   ]
  },
  {
   "cell_type": "markdown",
   "metadata": {},
   "source": [
    "**Вывод 3:** График относительного различия кумулятивного среднего чека между группами показывает, что результаты теста менялись в несколько дат, но особенно выделяется период перед серединой, где произошло резкое и значительное снижение и после повышение. Скорее всего в этот период были совершены аномальные заказы."
   ]
  },
  {
   "cell_type": "markdown",
   "metadata": {},
   "source": [
    "**4. График кумулятивного среднего количества заказов на посетителя по группам.** "
   ]
  },
  {
   "cell_type": "code",
   "execution_count": 22,
   "metadata": {
    "scrolled": true
   },
   "outputs": [
    {
     "data": {
      "text/html": [
       "<div>\n",
       "<style scoped>\n",
       "    .dataframe tbody tr th:only-of-type {\n",
       "        vertical-align: middle;\n",
       "    }\n",
       "\n",
       "    .dataframe tbody tr th {\n",
       "        vertical-align: top;\n",
       "    }\n",
       "\n",
       "    .dataframe thead th {\n",
       "        text-align: right;\n",
       "    }\n",
       "</style>\n",
       "<table border=\"1\" class=\"dataframe\">\n",
       "  <thead>\n",
       "    <tr style=\"text-align: right;\">\n",
       "      <th></th>\n",
       "      <th>date</th>\n",
       "      <th>group</th>\n",
       "      <th>orders</th>\n",
       "      <th>buyers</th>\n",
       "      <th>revenue</th>\n",
       "      <th>visitors</th>\n",
       "      <th>conversion</th>\n",
       "    </tr>\n",
       "  </thead>\n",
       "  <tbody>\n",
       "    <tr>\n",
       "      <th>0</th>\n",
       "      <td>2019-08-01</td>\n",
       "      <td>A</td>\n",
       "      <td>24</td>\n",
       "      <td>20</td>\n",
       "      <td>148579</td>\n",
       "      <td>719</td>\n",
       "      <td>0.033380</td>\n",
       "    </tr>\n",
       "    <tr>\n",
       "      <th>1</th>\n",
       "      <td>2019-08-01</td>\n",
       "      <td>B</td>\n",
       "      <td>21</td>\n",
       "      <td>20</td>\n",
       "      <td>101217</td>\n",
       "      <td>713</td>\n",
       "      <td>0.029453</td>\n",
       "    </tr>\n",
       "    <tr>\n",
       "      <th>2</th>\n",
       "      <td>2019-08-02</td>\n",
       "      <td>A</td>\n",
       "      <td>44</td>\n",
       "      <td>38</td>\n",
       "      <td>242401</td>\n",
       "      <td>1338</td>\n",
       "      <td>0.032885</td>\n",
       "    </tr>\n",
       "    <tr>\n",
       "      <th>3</th>\n",
       "      <td>2019-08-02</td>\n",
       "      <td>B</td>\n",
       "      <td>45</td>\n",
       "      <td>43</td>\n",
       "      <td>266748</td>\n",
       "      <td>1294</td>\n",
       "      <td>0.034776</td>\n",
       "    </tr>\n",
       "    <tr>\n",
       "      <th>4</th>\n",
       "      <td>2019-08-03</td>\n",
       "      <td>A</td>\n",
       "      <td>68</td>\n",
       "      <td>62</td>\n",
       "      <td>354874</td>\n",
       "      <td>1845</td>\n",
       "      <td>0.036856</td>\n",
       "    </tr>\n",
       "    <tr>\n",
       "      <th>...</th>\n",
       "      <td>...</td>\n",
       "      <td>...</td>\n",
       "      <td>...</td>\n",
       "      <td>...</td>\n",
       "      <td>...</td>\n",
       "      <td>...</td>\n",
       "      <td>...</td>\n",
       "    </tr>\n",
       "    <tr>\n",
       "      <th>57</th>\n",
       "      <td>2019-08-29</td>\n",
       "      <td>B</td>\n",
       "      <td>596</td>\n",
       "      <td>544</td>\n",
       "      <td>5559398</td>\n",
       "      <td>17708</td>\n",
       "      <td>0.033657</td>\n",
       "    </tr>\n",
       "    <tr>\n",
       "      <th>58</th>\n",
       "      <td>2019-08-30</td>\n",
       "      <td>A</td>\n",
       "      <td>545</td>\n",
       "      <td>493</td>\n",
       "      <td>4022970</td>\n",
       "      <td>18037</td>\n",
       "      <td>0.030216</td>\n",
       "    </tr>\n",
       "    <tr>\n",
       "      <th>59</th>\n",
       "      <td>2019-08-30</td>\n",
       "      <td>B</td>\n",
       "      <td>620</td>\n",
       "      <td>567</td>\n",
       "      <td>5774631</td>\n",
       "      <td>18198</td>\n",
       "      <td>0.034070</td>\n",
       "    </tr>\n",
       "    <tr>\n",
       "      <th>60</th>\n",
       "      <td>2019-08-31</td>\n",
       "      <td>A</td>\n",
       "      <td>557</td>\n",
       "      <td>503</td>\n",
       "      <td>4084803</td>\n",
       "      <td>18736</td>\n",
       "      <td>0.029729</td>\n",
       "    </tr>\n",
       "    <tr>\n",
       "      <th>61</th>\n",
       "      <td>2019-08-31</td>\n",
       "      <td>B</td>\n",
       "      <td>640</td>\n",
       "      <td>586</td>\n",
       "      <td>5907760</td>\n",
       "      <td>18916</td>\n",
       "      <td>0.033834</td>\n",
       "    </tr>\n",
       "  </tbody>\n",
       "</table>\n",
       "<p>62 rows × 7 columns</p>\n",
       "</div>"
      ],
      "text/plain": [
       "         date group  orders  buyers  revenue  visitors  conversion\n",
       "0  2019-08-01     A      24      20   148579       719    0.033380\n",
       "1  2019-08-01     B      21      20   101217       713    0.029453\n",
       "2  2019-08-02     A      44      38   242401      1338    0.032885\n",
       "3  2019-08-02     B      45      43   266748      1294    0.034776\n",
       "4  2019-08-03     A      68      62   354874      1845    0.036856\n",
       "..        ...   ...     ...     ...      ...       ...         ...\n",
       "57 2019-08-29     B     596     544  5559398     17708    0.033657\n",
       "58 2019-08-30     A     545     493  4022970     18037    0.030216\n",
       "59 2019-08-30     B     620     567  5774631     18198    0.034070\n",
       "60 2019-08-31     A     557     503  4084803     18736    0.029729\n",
       "61 2019-08-31     B     640     586  5907760     18916    0.033834\n",
       "\n",
       "[62 rows x 7 columns]"
      ]
     },
     "execution_count": 22,
     "metadata": {},
     "output_type": "execute_result"
    }
   ],
   "source": [
    "# подсчет кумулятивной конверсии\n",
    "cumulativeData['conversion'] = cumulativeData['orders']/cumulativeData['visitors']\n",
    "cumulativeData"
   ]
  },
  {
   "cell_type": "code",
   "execution_count": 23,
   "metadata": {},
   "outputs": [
    {
     "data": {
      "text/html": [
       "<div>\n",
       "<style scoped>\n",
       "    .dataframe tbody tr th:only-of-type {\n",
       "        vertical-align: middle;\n",
       "    }\n",
       "\n",
       "    .dataframe tbody tr th {\n",
       "        vertical-align: top;\n",
       "    }\n",
       "\n",
       "    .dataframe thead th {\n",
       "        text-align: right;\n",
       "    }\n",
       "</style>\n",
       "<table border=\"1\" class=\"dataframe\">\n",
       "  <thead>\n",
       "    <tr style=\"text-align: right;\">\n",
       "      <th></th>\n",
       "      <th>date</th>\n",
       "      <th>group</th>\n",
       "      <th>orders</th>\n",
       "      <th>buyers</th>\n",
       "      <th>revenue</th>\n",
       "      <th>visitors</th>\n",
       "      <th>conversion</th>\n",
       "    </tr>\n",
       "  </thead>\n",
       "  <tbody>\n",
       "    <tr>\n",
       "      <th>0</th>\n",
       "      <td>2019-08-01</td>\n",
       "      <td>A</td>\n",
       "      <td>24</td>\n",
       "      <td>20</td>\n",
       "      <td>148579</td>\n",
       "      <td>719</td>\n",
       "      <td>0.033380</td>\n",
       "    </tr>\n",
       "    <tr>\n",
       "      <th>2</th>\n",
       "      <td>2019-08-02</td>\n",
       "      <td>A</td>\n",
       "      <td>44</td>\n",
       "      <td>38</td>\n",
       "      <td>242401</td>\n",
       "      <td>1338</td>\n",
       "      <td>0.032885</td>\n",
       "    </tr>\n",
       "    <tr>\n",
       "      <th>4</th>\n",
       "      <td>2019-08-03</td>\n",
       "      <td>A</td>\n",
       "      <td>68</td>\n",
       "      <td>62</td>\n",
       "      <td>354874</td>\n",
       "      <td>1845</td>\n",
       "      <td>0.036856</td>\n",
       "    </tr>\n",
       "    <tr>\n",
       "      <th>6</th>\n",
       "      <td>2019-08-04</td>\n",
       "      <td>A</td>\n",
       "      <td>84</td>\n",
       "      <td>77</td>\n",
       "      <td>425699</td>\n",
       "      <td>2562</td>\n",
       "      <td>0.032787</td>\n",
       "    </tr>\n",
       "    <tr>\n",
       "      <th>8</th>\n",
       "      <td>2019-08-05</td>\n",
       "      <td>A</td>\n",
       "      <td>109</td>\n",
       "      <td>100</td>\n",
       "      <td>549917</td>\n",
       "      <td>3318</td>\n",
       "      <td>0.032851</td>\n",
       "    </tr>\n",
       "  </tbody>\n",
       "</table>\n",
       "</div>"
      ],
      "text/plain": [
       "        date group  orders  buyers  revenue  visitors  conversion\n",
       "0 2019-08-01     A      24      20   148579       719    0.033380\n",
       "2 2019-08-02     A      44      38   242401      1338    0.032885\n",
       "4 2019-08-03     A      68      62   354874      1845    0.036856\n",
       "6 2019-08-04     A      84      77   425699      2562    0.032787\n",
       "8 2019-08-05     A     109     100   549917      3318    0.032851"
      ]
     },
     "execution_count": 23,
     "metadata": {},
     "output_type": "execute_result"
    }
   ],
   "source": [
    "# отделила данные по группе A\n",
    "cumulativeDataA = cumulativeData[cumulativeData['group']=='A']\n",
    "cumulativeDataA.head()"
   ]
  },
  {
   "cell_type": "code",
   "execution_count": 24,
   "metadata": {
    "scrolled": true
   },
   "outputs": [
    {
     "data": {
      "text/html": [
       "<div>\n",
       "<style scoped>\n",
       "    .dataframe tbody tr th:only-of-type {\n",
       "        vertical-align: middle;\n",
       "    }\n",
       "\n",
       "    .dataframe tbody tr th {\n",
       "        vertical-align: top;\n",
       "    }\n",
       "\n",
       "    .dataframe thead th {\n",
       "        text-align: right;\n",
       "    }\n",
       "</style>\n",
       "<table border=\"1\" class=\"dataframe\">\n",
       "  <thead>\n",
       "    <tr style=\"text-align: right;\">\n",
       "      <th></th>\n",
       "      <th>date</th>\n",
       "      <th>group</th>\n",
       "      <th>orders</th>\n",
       "      <th>buyers</th>\n",
       "      <th>revenue</th>\n",
       "      <th>visitors</th>\n",
       "      <th>conversion</th>\n",
       "    </tr>\n",
       "  </thead>\n",
       "  <tbody>\n",
       "    <tr>\n",
       "      <th>1</th>\n",
       "      <td>2019-08-01</td>\n",
       "      <td>B</td>\n",
       "      <td>21</td>\n",
       "      <td>20</td>\n",
       "      <td>101217</td>\n",
       "      <td>713</td>\n",
       "      <td>0.029453</td>\n",
       "    </tr>\n",
       "    <tr>\n",
       "      <th>3</th>\n",
       "      <td>2019-08-02</td>\n",
       "      <td>B</td>\n",
       "      <td>45</td>\n",
       "      <td>43</td>\n",
       "      <td>266748</td>\n",
       "      <td>1294</td>\n",
       "      <td>0.034776</td>\n",
       "    </tr>\n",
       "    <tr>\n",
       "      <th>5</th>\n",
       "      <td>2019-08-03</td>\n",
       "      <td>B</td>\n",
       "      <td>61</td>\n",
       "      <td>59</td>\n",
       "      <td>380996</td>\n",
       "      <td>1803</td>\n",
       "      <td>0.033833</td>\n",
       "    </tr>\n",
       "    <tr>\n",
       "      <th>7</th>\n",
       "      <td>2019-08-04</td>\n",
       "      <td>B</td>\n",
       "      <td>78</td>\n",
       "      <td>75</td>\n",
       "      <td>489567</td>\n",
       "      <td>2573</td>\n",
       "      <td>0.030315</td>\n",
       "    </tr>\n",
       "    <tr>\n",
       "      <th>9</th>\n",
       "      <td>2019-08-05</td>\n",
       "      <td>B</td>\n",
       "      <td>101</td>\n",
       "      <td>98</td>\n",
       "      <td>581995</td>\n",
       "      <td>3280</td>\n",
       "      <td>0.030793</td>\n",
       "    </tr>\n",
       "  </tbody>\n",
       "</table>\n",
       "</div>"
      ],
      "text/plain": [
       "        date group  orders  buyers  revenue  visitors  conversion\n",
       "1 2019-08-01     B      21      20   101217       713    0.029453\n",
       "3 2019-08-02     B      45      43   266748      1294    0.034776\n",
       "5 2019-08-03     B      61      59   380996      1803    0.033833\n",
       "7 2019-08-04     B      78      75   489567      2573    0.030315\n",
       "9 2019-08-05     B     101      98   581995      3280    0.030793"
      ]
     },
     "execution_count": 24,
     "metadata": {},
     "output_type": "execute_result"
    }
   ],
   "source": [
    "# отделила данные по группе B\n",
    "cumulativeDataB = cumulativeData[cumulativeData['group']=='B']\n",
    "cumulativeDataB.head()"
   ]
  },
  {
   "cell_type": "code",
   "execution_count": 25,
   "metadata": {},
   "outputs": [
    {
     "data": {
      "image/png": "[encoded data removed]",
      "text/plain": [
       "<Figure size 1400x500 with 1 Axes>"
      ]
     },
     "metadata": {},
     "output_type": "display_data"
    }
   ],
   "source": [
    "fig, axes = plt.subplots(1)\n",
    "# построила графики\n",
    "plt.plot(cumulativeDataA['date'], cumulativeDataA['conversion'], label='A')\n",
    "plt.plot(cumulativeDataB['date'], cumulativeDataB['conversion'], label='B')\n",
    "plt.legend();\n",
    "# задала масштаб осей\n",
    "plt.axis([dt.datetime(2019, 8, 1), dt.datetime(2019, 8, 31), 0, 0.05])\n",
    "plt.title('Кумулятивное среднее количество заказов на посетителя по группам')\n",
    "plt.xlabel('Дата')\n",
    "plt.ylabel('Количество заказов')\n",
    "fig.set_figheight(5)\n",
    "fig.set_figwidth(14);"
   ]
  },
  {
   "cell_type": "markdown",
   "metadata": {},
   "source": [
    "**Вывод 4:** Только в самом начале теста группа А имела выше среднего количества заказов на посетителя, но уже с первых дат группа В нарастала и опередила группу А. Показатели группы В постепенно выровнялись и зафиксировались на отсительно одном значении, которые были выше А и продержалась так до конца. Абсолютное колебание составляет примерно от 3 до 3,5%."
   ]
  },
  {
   "cell_type": "markdown",
   "metadata": {},
   "source": [
    "**5. График относительного изменения кумулятивного среднего количества заказов на посетителя группы B к группе A.**"
   ]
  },
  {
   "cell_type": "code",
   "execution_count": 26,
   "metadata": {
    "scrolled": true
   },
   "outputs": [
    {
     "data": {
      "image/png": "[encoded data removed]",
      "text/plain": [
       "<Figure size 1400x500 with 1 Axes>"
      ]
     },
     "metadata": {},
     "output_type": "display_data"
    }
   ],
   "source": [
    "# собрала данные в одном датафрейме\n",
    "mergedCumulativeConversions = cumulativeDataA[['date','conversion']].merge(cumulativeDataB[['date','conversion']], left_on='date', right_on='date', how='left', suffixes=['A', 'B'])\n",
    "fig, axes = plt.subplots(1)\n",
    "#построила график относительного различия кумулятивных конверсий среднего количества заказов\n",
    "plt.plot(mergedCumulativeConversions['date'], mergedCumulativeConversions['conversionB']/mergedCumulativeConversions['conversionA']-1, label=\"Относительный прирост конверсии группы B относительно группы A\")\n",
    "plt.legend()\n",
    "\n",
    "plt.axhline(y=0, color='black', linestyle='--')\n",
    "plt.axhline(y=0.2, color='grey', linestyle='--')\n",
    "plt.axis([\"2019-08-01\", '2019-08-31', -0.6, 0.6])\n",
    "plt.title('Относительное изменение кумулятивного среднего количества заказов на посетителя группы B к группе A')\n",
    "plt.xlabel('Дата')\n",
    "plt.ylabel('Относительное изменение')\n",
    "fig.set_figheight(5)\n",
    "fig.set_figwidth(14);"
   ]
  },
  {
   "cell_type": "markdown",
   "metadata": {},
   "source": [
    "**Вывод 5:** График относительного изменения кумулятивного среднего количества заказов на посетителя группы B к группе A показывает, что группа В стабильно лидирует с самого начала до конца теста. Прирост составляет примерно 18% относительно группы А. "
   ]
  },
  {
   "cell_type": "markdown",
   "metadata": {},
   "source": [
    "**6. Точечный график количества заказов по пользователям.**"
   ]
  },
  {
   "cell_type": "code",
   "execution_count": 27,
   "metadata": {},
   "outputs": [
    {
     "name": "stdout",
     "output_type": "stream",
     "text": [
      "       visitorId  orders\n",
      "1023  4256040402      11\n",
      "591   2458001652      11\n",
      "569   2378935119       9\n",
      "487   2038680547       8\n",
      "44     199603092       5\n",
      "744   3062433592       5\n",
      "55     237748145       5\n",
      "917   3803269165       5\n",
      "299   1230306981       5\n",
      "897   3717692402       5\n"
     ]
    }
   ],
   "source": [
    "#Нашла число заказов по пользователям\n",
    "ordersByUsers = (\n",
    "    orders.groupby('visitorId', as_index=False)\n",
    "    .agg({'transactionId': 'nunique'})\n",
    ")\n",
    "\n",
    "ordersByUsers.columns = ['visitorId', 'orders']\n",
    "\n",
    "print(ordersByUsers.sort_values(by='orders', ascending=False).head(10))"
   ]
  },
  {
   "cell_type": "code",
   "execution_count": 28,
   "metadata": {
    "scrolled": true
   },
   "outputs": [
    {
     "data": {
      "image/png": "[encoded data removed]",
      "text/plain": [
       "<Figure size 640x480 with 1 Axes>"
      ]
     },
     "metadata": {},
     "output_type": "display_data"
    }
   ],
   "source": [
    "# Построила точечный график числа заказов на одного пользователя\n",
    "x_values = pd.Series(range(0, len(ordersByUsers)))\n",
    "fig, ax = plt.subplots()\n",
    "ax.grid()\n",
    "plt.scatter(x_values, ordersByUsers['orders'])\n",
    "plt.title('Точечный график количества заказов по пользователям')\n",
    "plt.xlabel('Заказы')\n",
    "plt.ylabel('Пользователи');"
   ]
  },
  {
   "cell_type": "markdown",
   "metadata": {},
   "source": [
    "**Вывод 6:** точечный график количества заказов по пользователям показал, что много пользователей с 2-3 заказами. Заказы более 5, особенно 11 заказов вполне могут быть аномалиями.\n"
   ]
  },
  {
   "cell_type": "markdown",
   "metadata": {},
   "source": [
    "**7. Определение аномальных пользователей по количеству заказов на пользователя.**"
   ]
  },
  {
   "cell_type": "code",
   "execution_count": 29,
   "metadata": {},
   "outputs": [
    {
     "name": "stdout",
     "output_type": "stream",
     "text": [
      "[2. 4.]\n"
     ]
    }
   ],
   "source": [
    "print(np.percentile(ordersByUsers['orders'], [95, 99]))"
   ]
  },
  {
   "cell_type": "markdown",
   "metadata": {},
   "source": [
    "**Вывод 7:** Посчет 95-й и 99-й перцентили количества заказов на пользователя показал, что не более 5% пользователей оформляли 2 заказа и 1% пользователей заказывали 4 раза. Тем самым, границей для опредления аномальных пользователей лучше выбрать больше 4х."
   ]
  },
  {
   "cell_type": "markdown",
   "metadata": {},
   "source": [
    "**8. Точечный график стоимостей заказов.**"
   ]
  },
  {
   "cell_type": "code",
   "execution_count": 30,
   "metadata": {
    "scrolled": true
   },
   "outputs": [
    {
     "data": {
      "image/png": "[encoded data removed]",
      "text/plain": [
       "<Figure size 640x480 with 1 Axes>"
      ]
     },
     "metadata": {},
     "output_type": "display_data"
    }
   ],
   "source": [
    "x_values = pd.Series(range(0,len(orders['revenue'])))\n",
    "fig, ax = plt.subplots()\n",
    "ax.grid()\n",
    "plt.scatter(x_values, orders['revenue'])\n",
    "plt.title('Точечный график стоимости заказов')\n",
    "plt.xlabel('Пользователи')\n",
    "plt.ylabel('Стоимость');"
   ]
  },
  {
   "cell_type": "markdown",
   "metadata": {},
   "source": [
    "**Выводы 8:** стоимость заказов не превышает 20 000 рублей. Есть только одна аномалия в районе 120 000 рублей, которая скорее всего является выбросом. "
   ]
  },
  {
   "cell_type": "markdown",
   "metadata": {},
   "source": [
    "**9. Определение аномальных пользователей по стоимости заказов.**"
   ]
  },
  {
   "cell_type": "code",
   "execution_count": 31,
   "metadata": {},
   "outputs": [
    {
     "name": "stdout",
     "output_type": "stream",
     "text": [
      "[28000.  58233.2]\n"
     ]
    }
   ],
   "source": [
    "print(np.percentile(orders['revenue'],[95,99]))"
   ]
  },
  {
   "cell_type": "markdown",
   "metadata": {},
   "source": [
    "**Выводы 9:** Посчет 95-й и 99-й перцентили стоимости заказов покащал, что не более 5% заказов дороже 28 000 рублей и не более 1% дороже 58 233 рублей. Таким образом, границей для опредления аномальных пользователей лучше выбрать больше 58 233 (или 59 000)."
   ]
  },
  {
   "cell_type": "markdown",
   "metadata": {},
   "source": [
    "**10. Статистическая значимость различий в среднем количестве заказов на посетителя между группами по «сырым» данным.**"
   ]
  },
  {
   "cell_type": "code",
   "execution_count": 32,
   "metadata": {},
   "outputs": [
    {
     "name": "stdout",
     "output_type": "stream",
     "text": [
      "        date  ordersPerDateA  revenuePerDateA  ordersPerDateB  \\\n",
      "0 2019-08-01              24           148579              21   \n",
      "1 2019-08-02              20            93822              24   \n",
      "2 2019-08-03              24           112473              16   \n",
      "3 2019-08-04              16            70825              17   \n",
      "4 2019-08-05              25           124218              23   \n",
      "\n",
      "   revenuePerDateB  ordersCummulativeA  revenueCummulativeA  \\\n",
      "0           101217                  24               148579   \n",
      "1           165531                  44               242401   \n",
      "2           114248                  68               354874   \n",
      "3           108571                  84               425699   \n",
      "4            92428                 109               549917   \n",
      "\n",
      "   ordersCummulativeB  revenueCummulativeB  visitorsPerDateA  \\\n",
      "0                  21               101217               719   \n",
      "1                  45               266748               619   \n",
      "2                  61               380996               507   \n",
      "3                  78               489567               717   \n",
      "4                 101               581995               756   \n",
      "\n",
      "   visitorsPerDateB  visitorsCummulativeA  visitorsCummulativeB  \n",
      "0               713                   719                   713  \n",
      "1               581                  1338                  1294  \n",
      "2               509                  1845                  1803  \n",
      "3               770                  2562                  2573  \n",
      "4               707                  3318                  3280  \n"
     ]
    }
   ],
   "source": [
    "import scipy.stats as stats\n",
    "#подготовка данных\n",
    "visitorsADaily = visitors[visitors['group'] == 'A'][['date', 'visitors']]\n",
    "visitorsADaily.columns = ['date', 'visitorsPerDateA']\n",
    "\n",
    "visitorsACummulative = visitorsADaily.apply(\n",
    "    lambda x: visitorsADaily[visitorsADaily['date'] <= x['date']].agg(\n",
    "        {'date': 'max', 'visitorsPerDateA': 'sum'}\n",
    "    ),\n",
    "    axis=1,\n",
    ")\n",
    "visitorsACummulative.columns = ['date', 'visitorsCummulativeA']\n",
    "\n",
    "visitorsBDaily = visitors[visitors['group'] == 'B'][['date', 'visitors']]\n",
    "visitorsBDaily.columns = ['date', 'visitorsPerDateB']\n",
    "\n",
    "visitorsBCummulative = visitorsBDaily.apply(\n",
    "    lambda x: visitorsBDaily[visitorsBDaily['date'] <= x['date']].agg(\n",
    "        {'date': 'max', 'visitorsPerDateB': 'sum'}\n",
    "    ),\n",
    "    axis=1,\n",
    ")\n",
    "visitorsBCummulative.columns = ['date', 'visitorsCummulativeB']\n",
    "\n",
    "ordersADaily = (\n",
    "    orders[orders['group'] == 'A'][['date', 'transactionId', 'visitorId', 'revenue']]\n",
    "    .groupby('date', as_index=False)\n",
    "    .agg({'transactionId': pd.Series.nunique, 'revenue': 'sum'})\n",
    ")\n",
    "ordersADaily.columns = ['date', 'ordersPerDateA', 'revenuePerDateA']\n",
    "\n",
    "ordersACummulative = ordersADaily.apply(\n",
    "    lambda x: ordersADaily[ordersADaily['date'] <= x['date']].agg(\n",
    "        {'date': 'max', 'ordersPerDateA': 'sum', 'revenuePerDateA': 'sum'}\n",
    "    ),\n",
    "    axis=1,\n",
    ").sort_values(by=['date'])\n",
    "ordersACummulative.columns = [\n",
    "    'date',\n",
    "    'ordersCummulativeA',\n",
    "    'revenueCummulativeA',\n",
    "]\n",
    "\n",
    "ordersBDaily = (\n",
    "    orders[orders['group'] == 'B'][['date', 'transactionId', 'visitorId', 'revenue']]\n",
    "    .groupby('date', as_index=False)\n",
    "    .agg({'transactionId': pd.Series.nunique, 'revenue': 'sum'})\n",
    ")\n",
    "ordersBDaily.columns = ['date', 'ordersPerDateB', 'revenuePerDateB']\n",
    "\n",
    "ordersBCummulative = ordersBDaily.apply(\n",
    "    lambda x: ordersBDaily[ordersBDaily['date'] <= x['date']].agg(\n",
    "        {'date': 'max', 'ordersPerDateB': 'sum', 'revenuePerDateB': 'sum'}\n",
    "    ),\n",
    "    axis=1,\n",
    ").sort_values(by=['date'])\n",
    "ordersBCummulative.columns = [\n",
    "    'date',\n",
    "    'ordersCummulativeB',\n",
    "    'revenueCummulativeB',\n",
    "]\n",
    "\n",
    "data = (\n",
    "    ordersADaily.merge(\n",
    "        ordersBDaily, left_on='date', right_on='date', how='left'\n",
    "    )\n",
    "    .merge(ordersACummulative, left_on='date', right_on='date', how='left')\n",
    "    .merge(ordersBCummulative, left_on='date', right_on='date', how='left')\n",
    "    .merge(visitorsADaily, left_on='date', right_on='date', how='left')\n",
    "    .merge(visitorsBDaily, left_on='date', right_on='date', how='left')\n",
    "    .merge(visitorsACummulative, left_on='date', right_on='date', how='left')\n",
    "    .merge(visitorsBCummulative, left_on='date', right_on='date', how='left')\n",
    ")\n",
    "\n",
    "print(data.head(5)) "
   ]
  },
  {
   "cell_type": "code",
   "execution_count": 33,
   "metadata": {},
   "outputs": [],
   "source": [
    "#переменные с числом совершённых заказов пользователей, которые заказывали хотя бы 1 раз\n",
    "ordersByUsersA = (\n",
    "    orders[orders['group'] == 'A']\n",
    "    .groupby('visitorId', as_index=False)\n",
    "    .agg({'transactionId': pd.Series.nunique})\n",
    ")\n",
    "ordersByUsersA.columns = ['visitorId', 'orders']\n",
    "\n",
    "ordersByUsersB = (\n",
    "    orders[orders['group'] == 'B']\n",
    "    .groupby('visitorId', as_index=False)\n",
    "    .agg({'transactionId': pd.Series.nunique})\n",
    ")\n",
    "ordersByUsersB.columns = ['visitorId', 'orders'] "
   ]
  },
  {
   "cell_type": "code",
   "execution_count": 34,
   "metadata": {},
   "outputs": [
    {
     "name": "stdout",
     "output_type": "stream",
     "text": [
      "p-value среднего количества заказов группы А: 0.017\n",
      "p-value среднего количества заказов группы В: 0.138\n"
     ]
    }
   ],
   "source": [
    "pd.Series(0, index=np.arange(visitorsADaily['visitorsPerDateA'].sum() - len(ordersByUsersA['orders'])), name='orders')\n",
    "[ordersByUsersA['orders'],pd.Series(0, index=np.arange(visitorsADaily['visitorsPerDateA'].sum() - len(ordersByUsersA['orders'])), name='orders')]\n",
    "\n",
    "sampleA = pd.concat([ordersByUsersA['orders'],pd.Series(0, index=np.arange(visitorsADaily['visitorsPerDateA'].sum() - len(ordersByUsersA['orders'])), name='orders')],axis=0)\n",
    "\n",
    "sampleB = pd.concat([ordersByUsersB['orders'],pd.Series(0, index=np.arange(visitorsBDaily['visitorsPerDateB'].sum() - len(ordersByUsersB['orders'])), name='orders')],axis=0)\n",
    "\n",
    "      \n",
    "print('p-value среднего количества заказов группы А:', \"{0:.3f}\".format(stats.mannwhitneyu(sampleA, sampleB)[1]))\n",
    "\n",
    "print('p-value среднего количества заказов группы В:', \"{0:.3f}\".format(sampleB.mean() / sampleA.mean() - 1))"
   ]
  },
  {
   "cell_type": "markdown",
   "metadata": {},
   "source": [
    "**Вывод 10:** \n",
    "\n",
    "Нулевая гипотеза: различий в среднем количестве заказов групп A и B нет.\n",
    "\n",
    "Альтернативная гипотеза: различия в среднем количестве заказов групп A и B есть. \n",
    "\n",
    "P-value равно 0.017, что меньше 0.05, поэтому нулевая гипотеза отвергается. По «сырым» данным в среднем количестве заказов между группами A и B есть статистически значимые различия. Относительный прирост среднего группы В к конверсии группы А равен 13,8%."
   ]
  },
  {
   "cell_type": "markdown",
   "metadata": {},
   "source": [
    "**11. Статистическая значимость различий в среднем чеке заказа между группами по «сырым» данным.**"
   ]
  },
  {
   "cell_type": "code",
   "execution_count": 35,
   "metadata": {
    "scrolled": true
   },
   "outputs": [
    {
     "name": "stdout",
     "output_type": "stream",
     "text": [
      "p-value среднего чека заказа группы А: 0.729\n",
      "p-value среднего чека заказа группы В: 0.259\n"
     ]
    }
   ],
   "source": [
    "print('p-value среднего чека заказа группы А:', '{0:.3f}'.format(stats.mannwhitneyu(orders[orders['group']=='A']['revenue'], orders[orders['group']=='B']['revenue'])[1]))\n",
    "print('p-value среднего чека заказа группы В:', '{0:.3f}'.format(orders[orders['group']=='B']['revenue'].mean()/orders[orders['group']=='A']['revenue'].mean()-1))"
   ]
  },
  {
   "cell_type": "markdown",
   "metadata": {},
   "source": [
    "**Вывод 11:**\n",
    "\n",
    "Нулевая гипотеза: различий в среднем чеке между группами нет. \n",
    "\n",
    "Альтернативная гипотеза: различия в среднем чеке между группами есть. \n",
    "\n",
    "P-value равно 0.729, что больше 0.05, поэтому нулевая гипотеза не отвергается. По «сырым» данным различий в среднем чеке нет."
   ]
  },
  {
   "cell_type": "markdown",
   "metadata": {},
   "source": [
    "**12. Статистическая значимость различий в среднем количестве заказов на посетителя между группами по «очищенным» данным.**"
   ]
  },
  {
   "cell_type": "code",
   "execution_count": 36,
   "metadata": {
    "scrolled": false
   },
   "outputs": [
    {
     "name": "stdout",
     "output_type": "stream",
     "text": [
      "568     113298937\n",
      "1099    148427295\n",
      "461     154576532\n",
      "928     204675465\n",
      "684     358944393\n",
      "Name: visitorId, dtype: int64\n",
      "Всего аномальных пользователей: 86\n"
     ]
    }
   ],
   "source": [
    "#очищение от аномалий данных, где аномальными пользователями будут считаться те,\n",
    "#кто совершил 4 заказа и более, или совершил заказ на сумму свыше 20 000 рублей. \n",
    "usersWithManyOrders = pd.concat(\n",
    "    [\n",
    "        ordersByUsersA[ordersByUsersA['orders'] > 4]['visitorId'],\n",
    "        ordersByUsersB[ordersByUsersB['orders'] > 4]['visitorId'],\n",
    "    ],\n",
    "    axis=0,\n",
    ")\n",
    "usersWithExpensiveOrders = orders[orders['revenue'] > 20000]['visitorId']\n",
    "abnormalUsers = (\n",
    "    pd.concat([usersWithManyOrders, usersWithExpensiveOrders], axis=0)\n",
    "    .drop_duplicates()\n",
    "    .sort_values()\n",
    ")\n",
    "print(abnormalUsers.head(5))\n",
    "print('Всего аномальных пользователей:', abnormalUsers.shape[0]) "
   ]
  },
  {
   "cell_type": "markdown",
   "metadata": {},
   "source": [
    "Для теста были взяты следующие гипотезы:\n",
    "    \n",
    "* Нулевая гипотеза: различий в среднем чеке между группами нет.\n",
    "\n",
    "* Альтернативная гипотеза: различия в среднем чеке между группами есть. \n",
    "\n",
    "Поскольку при построение графиков  кумулятивного среднего чека и среднего количества заказов были заметны аномалии, была проведена очистка данных. За аномальных пользователей были приняты те, кто совершил от 4 заказов или совершил заказ на сумму свыше 20 000 рублей. Поэтому были убраны 4% пользователей с наибольшим числом заказов и от 1% до 5% пользователей с дорогими заказами. Также было подсчитано количество аномальных пользователей, которые составил 86. </font>"
   ]
  },
  {
   "cell_type": "code",
   "execution_count": 37,
   "metadata": {
    "scrolled": false
   },
   "outputs": [
    {
     "name": "stdout",
     "output_type": "stream",
     "text": [
      "p-value среднего количества заказов группы А (по «очищенным» данным): 0.023\n",
      "p-value среднего количества заказов группы В (по «очищенным» данным): 0.149\n"
     ]
    }
   ],
   "source": [
    "#статистическая значимость различий в среднем количестве заказов между группами теста по очищенным данным.\n",
    "sampleAFiltered = pd.concat(\n",
    "    [\n",
    "        ordersByUsersA[\n",
    "            np.logical_not(ordersByUsersA['visitorId'].isin(abnormalUsers))\n",
    "        ]['orders'],\n",
    "        pd.Series(\n",
    "            0,\n",
    "            index=np.arange(\n",
    "                data['visitorsPerDateA'].sum() - len(ordersByUsersA['orders'])\n",
    "            ),\n",
    "            name='orders',\n",
    "        ),\n",
    "    ],\n",
    "    axis=0,\n",
    ")\n",
    "\n",
    "sampleBFiltered = pd.concat(\n",
    "    [\n",
    "        ordersByUsersB[\n",
    "            np.logical_not(ordersByUsersB['visitorId'].isin(abnormalUsers))\n",
    "        ]['orders'],\n",
    "        pd.Series(\n",
    "            0,\n",
    "            index=np.arange(\n",
    "                data['visitorsPerDateB'].sum() - len(ordersByUsersB['orders'])\n",
    "            ),\n",
    "            name='orders',\n",
    "        ),\n",
    "    ],\n",
    "    axis=0,\n",
    ")\n",
    "print('p-value среднего количества заказов группы А (по «очищенным» данным):', '{0:.3f}'.format(stats.mannwhitneyu(sampleAFiltered, sampleBFiltered)[1]))\n",
    "print('p-value среднего количества заказов группы В (по «очищенным» данным):', '{0:.3f}'.format(sampleBFiltered.mean()/sampleAFiltered.mean()-1)) "
   ]
  },
  {
   "cell_type": "markdown",
   "metadata": {},
   "source": [
    "**Вывод 12:**\n",
    "\n",
    "Нулевая гипотеза: различий в среднем чеке между группами нет. \n",
    "\n",
    "Альтернативная гипотеза: различия в среднем чеке между группами есть. \n",
    "\n",
    "Аномальные пользователи были удалены с помошью статистического критерия Манна-Уитни. После удаления аномальных пользователей как и в случае с сырыми данными статистическая значимость у группы В значительно лучше группы А. P-value равно 0.023, что также как и с сырыми данными - меньше 0.05. В данном случае, нулевая гипотеза также отвергается.\n",
    "</font>"
   ]
  },
  {
   "cell_type": "markdown",
   "metadata": {},
   "source": [
    "**13. Статистическая значимость различий в среднем чеке заказа между группами по «очищенным» данным.**"
   ]
  },
  {
   "cell_type": "code",
   "execution_count": 38,
   "metadata": {
    "scrolled": true
   },
   "outputs": [
    {
     "name": "stdout",
     "output_type": "stream",
     "text": [
      "p-value среднего чека заказа группы А (по «очищенным» данным):0.866\n",
      "p-value среднего чека заказа группы B (по «очищенным» данным)-0.002\n"
     ]
    }
   ],
   "source": [
    "print('p-value среднего чека заказа группы А (по «очищенным» данным):'\n",
    "    '{0:.3f}'.format(\n",
    "        stats.mannwhitneyu(\n",
    "            orders[\n",
    "                np.logical_and(\n",
    "                    orders['group'] == 'A',\n",
    "                    np.logical_not(orders['visitorId'].isin(abnormalUsers)),\n",
    "                )\n",
    "            ]['revenue'],\n",
    "            orders[\n",
    "                np.logical_and(\n",
    "                    orders['group'] == 'B',\n",
    "                    np.logical_not(orders['visitorId'].isin(abnormalUsers)),\n",
    "                )\n",
    "            ]['revenue'],\n",
    "        )[1]\n",
    "    )\n",
    ")\n",
    "\n",
    "print('p-value среднего чека заказа группы B (по «очищенным» данным)'\n",
    "    \"{0:.3f}\".format(\n",
    "        orders[\n",
    "            np.logical_and(\n",
    "                orders['group'] == 'B',\n",
    "                np.logical_not(orders['visitorId'].isin(abnormalUsers)),\n",
    "            )\n",
    "        ]['revenue'].mean()\n",
    "        / orders[\n",
    "            np.logical_and(\n",
    "                orders['group'] == 'A',\n",
    "                np.logical_not(orders['visitorId'].isin(abnormalUsers)),\n",
    "            )\n",
    "        ]['revenue'].mean()\n",
    "        - 1\n",
    "    )\n",
    ")"
   ]
  },
  {
   "cell_type": "markdown",
   "metadata": {},
   "source": [
    "**Вывод 13:** \n",
    "Нулевая гипотеза: различий в среднем чеке между группами нет. \n",
    "\n",
    "Альтернативная гипотеза: различия в среднем чеке между группами есть. \n",
    "\n",
    "После очистки данных от аномалий, p-value изменился, но 0.866 также является больше 0,05, значит нулевая гипотеза не отвергается. Различий в среднем чеке между группами нет.\n",
    "</font>"
   ]
  },
  {
   "cell_type": "markdown",
   "metadata": {},
   "source": [
    "**14. Принятие решения по результатам теста.**\n",
    "\n",
    "Варианты решений:\n",
    "1. Остановить тест, зафиксировать победу одной из групп.\n",
    "2. Остановить тест, зафиксировать отсутствие различий между группами.\n",
    "3. Продолжить тест."
   ]
  },
  {
   "cell_type": "markdown",
   "metadata": {},
   "source": [
    "**Вывод:** \n",
    "\n",
    "* При построении графика различия конверсии между группами заметно, что результаты группы B лучше группы A и группа В стабильно лидирует с самого начала до конца теста. \n",
    "* При построении графика различия среднего чека заметны колебания, особенно выделяется период ближе к середине, где произошло резкое и значительное снижение и после повышение. Этот график показывает, что возможны аномалия в данных, поэтому точный вывод по нему не был сделан.\n",
    "* Подсчет статистической значимости различий в среднем количестве заказов между группами по \"сырым\" и \"очищенным\" данным показал, что в статистически значимое различие по конверсии между группами в обоих случаях присутствует. \n",
    "* Подсчет статистически значимого различия по среднему чеку как по \"сырым\", так и по \"очищенным\" данным нет.\n",
    "* Таким образом, решением по результатам теста будет остановить тест и зафиксировать победу за группой В.\n",
    "</font>"
   ]
  }
 ],
 "metadata": {
  "ExecuteTimeLog": [
   {
    "duration": 75,
    "start_time": "2022-12-23T21:39:38.056Z"
   },
   {
    "duration": 74,
    "start_time": "2022-12-23T21:51:07.946Z"
   },
   {
    "duration": 709,
    "start_time": "2022-12-23T21:57:58.760Z"
   },
   {
    "duration": 10,
    "start_time": "2022-12-23T21:58:05.959Z"
   },
   {
    "duration": 299,
    "start_time": "2022-12-23T21:58:43.448Z"
   },
   {
    "duration": 38,
    "start_time": "2022-12-23T21:59:06.352Z"
   },
   {
    "duration": 32,
    "start_time": "2022-12-23T21:59:18.760Z"
   },
   {
    "duration": 31,
    "start_time": "2022-12-23T21:59:24.037Z"
   },
   {
    "duration": 32,
    "start_time": "2022-12-23T22:05:26.032Z"
   },
   {
    "duration": 32,
    "start_time": "2022-12-23T22:05:48.034Z"
   },
   {
    "duration": 1178,
    "start_time": "2022-12-23T22:06:18.747Z"
   },
   {
    "duration": 1201,
    "start_time": "2022-12-23T22:06:48.347Z"
   },
   {
    "duration": 15,
    "start_time": "2022-12-23T22:07:34.511Z"
   },
   {
    "duration": 10,
    "start_time": "2022-12-23T22:08:28.847Z"
   },
   {
    "duration": 9,
    "start_time": "2022-12-23T22:09:45.379Z"
   },
   {
    "duration": 7,
    "start_time": "2022-12-23T22:10:26.386Z"
   },
   {
    "duration": 16,
    "start_time": "2022-12-23T22:10:37.206Z"
   },
   {
    "duration": 6,
    "start_time": "2022-12-23T22:10:44.297Z"
   },
   {
    "duration": 463,
    "start_time": "2022-12-25T07:58:40.310Z"
   },
   {
    "duration": 4,
    "start_time": "2022-12-25T07:58:40.775Z"
   },
   {
    "duration": 12,
    "start_time": "2022-12-25T07:58:40.781Z"
   },
   {
    "duration": 9,
    "start_time": "2022-12-25T07:58:40.794Z"
   },
   {
    "duration": 687,
    "start_time": "2022-12-25T08:58:05.583Z"
   },
   {
    "duration": 55,
    "start_time": "2022-12-25T08:58:10.126Z"
   },
   {
    "duration": 177,
    "start_time": "2022-12-25T08:58:22.464Z"
   },
   {
    "duration": 230,
    "start_time": "2022-12-25T08:58:47.132Z"
   },
   {
    "duration": 294,
    "start_time": "2022-12-25T08:59:02.301Z"
   },
   {
    "duration": 54,
    "start_time": "2022-12-25T08:59:28.109Z"
   },
   {
    "duration": 56,
    "start_time": "2022-12-25T09:00:31.601Z"
   },
   {
    "duration": 13,
    "start_time": "2022-12-25T09:00:51.318Z"
   },
   {
    "duration": 73,
    "start_time": "2022-12-25T09:01:03.457Z"
   },
   {
    "duration": 73,
    "start_time": "2022-12-25T09:01:34.376Z"
   },
   {
    "duration": 6,
    "start_time": "2022-12-25T09:02:00.452Z"
   },
   {
    "duration": 64,
    "start_time": "2022-12-25T09:04:22.308Z"
   },
   {
    "duration": 35,
    "start_time": "2022-12-25T09:04:24.507Z"
   },
   {
    "duration": 12,
    "start_time": "2022-12-25T09:05:00.968Z"
   },
   {
    "duration": 25,
    "start_time": "2022-12-25T09:06:54.859Z"
   },
   {
    "duration": 22,
    "start_time": "2022-12-25T09:08:01.611Z"
   },
   {
    "duration": 13,
    "start_time": "2022-12-25T09:08:41.600Z"
   },
   {
    "duration": 168,
    "start_time": "2022-12-25T09:09:01.742Z"
   },
   {
    "duration": 294,
    "start_time": "2022-12-25T09:09:39.708Z"
   },
   {
    "duration": 274,
    "start_time": "2022-12-25T09:11:07.000Z"
   },
   {
    "duration": 291,
    "start_time": "2022-12-25T09:12:04.390Z"
   },
   {
    "duration": 279,
    "start_time": "2022-12-25T09:15:45.696Z"
   },
   {
    "duration": 226,
    "start_time": "2022-12-25T09:25:08.744Z"
   },
   {
    "duration": 349,
    "start_time": "2022-12-25T09:36:49.765Z"
   },
   {
    "duration": 283,
    "start_time": "2022-12-25T09:36:58.598Z"
   },
   {
    "duration": 177,
    "start_time": "2022-12-25T09:55:35.753Z"
   },
   {
    "duration": 161,
    "start_time": "2022-12-25T09:55:50.541Z"
   },
   {
    "duration": 153,
    "start_time": "2022-12-25T09:55:57.723Z"
   },
   {
    "duration": 14,
    "start_time": "2022-12-25T09:56:39.175Z"
   },
   {
    "duration": 18,
    "start_time": "2022-12-25T09:57:16.182Z"
   },
   {
    "duration": 14,
    "start_time": "2022-12-25T09:57:33.207Z"
   },
   {
    "duration": 198,
    "start_time": "2022-12-25T09:57:51.462Z"
   },
   {
    "duration": 88,
    "start_time": "2022-12-25T09:57:59.020Z"
   },
   {
    "duration": 102,
    "start_time": "2022-12-25T09:58:16.834Z"
   },
   {
    "duration": 160,
    "start_time": "2022-12-25T09:58:24.026Z"
   },
   {
    "duration": 193,
    "start_time": "2022-12-25T09:58:31.969Z"
   },
   {
    "duration": 270,
    "start_time": "2022-12-25T09:58:40.072Z"
   },
   {
    "duration": 6,
    "start_time": "2022-12-25T09:59:25.794Z"
   },
   {
    "duration": 157,
    "start_time": "2022-12-25T10:00:17.135Z"
   },
   {
    "duration": 171,
    "start_time": "2022-12-25T10:00:27.579Z"
   },
   {
    "duration": 161,
    "start_time": "2022-12-25T10:00:32.331Z"
   },
   {
    "duration": 163,
    "start_time": "2022-12-25T10:00:38.997Z"
   },
   {
    "duration": 158,
    "start_time": "2022-12-25T10:00:42.314Z"
   },
   {
    "duration": 13,
    "start_time": "2022-12-25T10:01:13.725Z"
   },
   {
    "duration": 12,
    "start_time": "2022-12-25T10:01:19.155Z"
   },
   {
    "duration": 191,
    "start_time": "2022-12-25T10:01:39.986Z"
   },
   {
    "duration": 546,
    "start_time": "2022-12-25T13:05:40.176Z"
   },
   {
    "duration": 5,
    "start_time": "2022-12-25T13:05:40.724Z"
   },
   {
    "duration": 70,
    "start_time": "2022-12-25T13:05:40.731Z"
   },
   {
    "duration": 48,
    "start_time": "2022-12-25T13:05:40.803Z"
   },
   {
    "duration": 545,
    "start_time": "2022-12-25T13:05:40.853Z"
   },
   {
    "duration": 59,
    "start_time": "2022-12-25T13:05:41.400Z"
   },
   {
    "duration": 12,
    "start_time": "2022-12-25T13:05:41.460Z"
   },
   {
    "duration": 290,
    "start_time": "2022-12-25T13:05:41.474Z"
   },
   {
    "duration": 255,
    "start_time": "2022-12-25T13:05:41.765Z"
   },
   {
    "duration": 173,
    "start_time": "2022-12-25T13:05:42.022Z"
   },
   {
    "duration": 382,
    "start_time": "2022-12-25T13:05:42.196Z"
   },
   {
    "duration": 13,
    "start_time": "2022-12-25T13:05:42.579Z"
   },
   {
    "duration": 44,
    "start_time": "2022-12-25T13:05:42.594Z"
   },
   {
    "duration": 85,
    "start_time": "2022-12-25T13:05:42.639Z"
   },
   {
    "duration": 240,
    "start_time": "2022-12-25T13:05:42.726Z"
   },
   {
    "duration": 273,
    "start_time": "2022-12-25T13:37:24.738Z"
   },
   {
    "duration": 251,
    "start_time": "2022-12-25T13:37:34.834Z"
   },
   {
    "duration": 295,
    "start_time": "2022-12-25T13:37:40.055Z"
   },
   {
    "duration": 83,
    "start_time": "2022-12-25T13:49:59.572Z"
   },
   {
    "duration": 11,
    "start_time": "2022-12-25T13:52:46.950Z"
   },
   {
    "duration": 9,
    "start_time": "2022-12-25T13:53:33.203Z"
   },
   {
    "duration": 14,
    "start_time": "2022-12-25T13:54:57.843Z"
   },
   {
    "duration": 443,
    "start_time": "2022-12-25T13:59:35.665Z"
   },
   {
    "duration": 5,
    "start_time": "2022-12-25T13:59:36.109Z"
   },
   {
    "duration": 15,
    "start_time": "2022-12-25T13:59:36.115Z"
   },
   {
    "duration": 10,
    "start_time": "2022-12-25T13:59:36.133Z"
   },
   {
    "duration": 291,
    "start_time": "2022-12-25T13:59:36.146Z"
   },
   {
    "duration": 21,
    "start_time": "2022-12-25T13:59:36.439Z"
   },
   {
    "duration": 11,
    "start_time": "2022-12-25T13:59:36.462Z"
   },
   {
    "duration": 260,
    "start_time": "2022-12-25T13:59:36.475Z"
   },
   {
    "duration": 249,
    "start_time": "2022-12-25T13:59:36.736Z"
   },
   {
    "duration": 182,
    "start_time": "2022-12-25T13:59:36.987Z"
   },
   {
    "duration": 278,
    "start_time": "2022-12-25T13:59:37.170Z"
   },
   {
    "duration": 14,
    "start_time": "2022-12-25T13:59:37.450Z"
   },
   {
    "duration": 22,
    "start_time": "2022-12-25T13:59:37.465Z"
   },
   {
    "duration": 12,
    "start_time": "2022-12-25T13:59:37.489Z"
   },
   {
    "duration": 222,
    "start_time": "2022-12-25T13:59:37.503Z"
   },
   {
    "duration": 268,
    "start_time": "2022-12-25T13:59:37.727Z"
   },
   {
    "duration": 84,
    "start_time": "2022-12-25T13:59:37.997Z"
   },
   {
    "duration": 142,
    "start_time": "2022-12-25T14:01:22.482Z"
   },
   {
    "duration": 131,
    "start_time": "2022-12-25T14:04:31.862Z"
   },
   {
    "duration": 123,
    "start_time": "2022-12-25T14:11:07.336Z"
   },
   {
    "duration": 142,
    "start_time": "2022-12-25T14:11:13.305Z"
   },
   {
    "duration": 184,
    "start_time": "2022-12-25T14:11:21.949Z"
   },
   {
    "duration": 13,
    "start_time": "2022-12-25T14:16:05.353Z"
   },
   {
    "duration": 13,
    "start_time": "2022-12-25T14:17:20.078Z"
   },
   {
    "duration": 110,
    "start_time": "2022-12-25T14:19:48.226Z"
   },
   {
    "duration": 111,
    "start_time": "2022-12-25T14:19:58.262Z"
   },
   {
    "duration": 100,
    "start_time": "2022-12-25T14:21:46.415Z"
   },
   {
    "duration": 5,
    "start_time": "2022-12-25T14:29:00.216Z"
   },
   {
    "duration": 5,
    "start_time": "2022-12-25T14:29:16.008Z"
   },
   {
    "duration": 12,
    "start_time": "2022-12-25T14:34:53.927Z"
   },
   {
    "duration": 8,
    "start_time": "2022-12-25T14:35:39.154Z"
   },
   {
    "duration": 1190,
    "start_time": "2022-12-25T14:35:44.802Z"
   },
   {
    "duration": 131,
    "start_time": "2022-12-25T14:52:58.289Z"
   },
   {
    "duration": 202,
    "start_time": "2022-12-25T14:55:36.197Z"
   },
   {
    "duration": 7,
    "start_time": "2022-12-25T15:01:29.339Z"
   },
   {
    "duration": 15,
    "start_time": "2022-12-25T15:01:40.275Z"
   },
   {
    "duration": 480,
    "start_time": "2022-12-25T15:12:35.686Z"
   },
   {
    "duration": 431,
    "start_time": "2022-12-25T15:13:01.192Z"
   },
   {
    "duration": 5,
    "start_time": "2022-12-25T15:13:01.624Z"
   },
   {
    "duration": 40,
    "start_time": "2022-12-25T15:13:01.631Z"
   },
   {
    "duration": 9,
    "start_time": "2022-12-25T15:13:01.673Z"
   },
   {
    "duration": 326,
    "start_time": "2022-12-25T15:13:01.683Z"
   },
   {
    "duration": 23,
    "start_time": "2022-12-25T15:13:02.010Z"
   },
   {
    "duration": 13,
    "start_time": "2022-12-25T15:13:02.035Z"
   },
   {
    "duration": 305,
    "start_time": "2022-12-25T15:13:02.049Z"
   },
   {
    "duration": 266,
    "start_time": "2022-12-25T15:13:02.356Z"
   },
   {
    "duration": 176,
    "start_time": "2022-12-25T15:13:02.625Z"
   },
   {
    "duration": 284,
    "start_time": "2022-12-25T15:13:02.803Z"
   },
   {
    "duration": 16,
    "start_time": "2022-12-25T15:13:03.089Z"
   },
   {
    "duration": 13,
    "start_time": "2022-12-25T15:13:03.107Z"
   },
   {
    "duration": 14,
    "start_time": "2022-12-25T15:13:03.122Z"
   },
   {
    "duration": 236,
    "start_time": "2022-12-25T15:13:03.138Z"
   },
   {
    "duration": 292,
    "start_time": "2022-12-25T15:13:03.377Z"
   },
   {
    "duration": 13,
    "start_time": "2022-12-25T15:13:03.671Z"
   },
   {
    "duration": 116,
    "start_time": "2022-12-25T15:13:03.685Z"
   },
   {
    "duration": 129,
    "start_time": "2022-12-25T15:13:03.803Z"
   },
   {
    "duration": 5,
    "start_time": "2022-12-25T15:13:03.934Z"
   },
   {
    "duration": 186,
    "start_time": "2022-12-25T15:13:03.941Z"
   },
   {
    "duration": 5,
    "start_time": "2022-12-25T15:13:04.129Z"
   },
   {
    "duration": 608,
    "start_time": "2022-12-25T15:13:04.136Z"
   },
   {
    "duration": 181,
    "start_time": "2022-12-25T15:14:40.136Z"
   },
   {
    "duration": 126,
    "start_time": "2022-12-25T15:15:30.186Z"
   },
   {
    "duration": 285,
    "start_time": "2022-12-25T15:15:54.041Z"
   },
   {
    "duration": 198,
    "start_time": "2022-12-25T15:17:43.722Z"
   },
   {
    "duration": 150,
    "start_time": "2022-12-25T15:18:57.583Z"
   },
   {
    "duration": 1099,
    "start_time": "2022-12-25T15:19:21.801Z"
   },
   {
    "duration": 1162,
    "start_time": "2022-12-25T15:19:35.615Z"
   },
   {
    "duration": 1123,
    "start_time": "2022-12-25T15:22:38.913Z"
   },
   {
    "duration": 1179,
    "start_time": "2022-12-25T15:24:04.084Z"
   },
   {
    "duration": 134,
    "start_time": "2022-12-25T15:25:47.734Z"
   },
   {
    "duration": 1154,
    "start_time": "2022-12-25T15:25:50.234Z"
   },
   {
    "duration": 40,
    "start_time": "2022-12-25T15:26:38.628Z"
   },
   {
    "duration": 38,
    "start_time": "2022-12-25T15:29:13.557Z"
   },
   {
    "duration": 17,
    "start_time": "2022-12-25T15:38:29.446Z"
   },
   {
    "duration": 1121,
    "start_time": "2022-12-25T15:55:48.456Z"
   },
   {
    "duration": 11,
    "start_time": "2022-12-25T16:01:06.754Z"
   },
   {
    "duration": 9,
    "start_time": "2022-12-25T16:04:08.546Z"
   },
   {
    "duration": 11,
    "start_time": "2022-12-25T16:04:37.571Z"
   },
   {
    "duration": 13,
    "start_time": "2022-12-25T16:05:20.468Z"
   },
   {
    "duration": 34,
    "start_time": "2022-12-25T16:07:05.834Z"
   },
   {
    "duration": 18,
    "start_time": "2022-12-25T16:09:48.672Z"
   },
   {
    "duration": 417,
    "start_time": "2022-12-25T16:13:45.428Z"
   },
   {
    "duration": 5,
    "start_time": "2022-12-25T16:13:45.847Z"
   },
   {
    "duration": 19,
    "start_time": "2022-12-25T16:13:45.854Z"
   },
   {
    "duration": 10,
    "start_time": "2022-12-25T16:13:45.875Z"
   },
   {
    "duration": 293,
    "start_time": "2022-12-25T16:13:45.887Z"
   },
   {
    "duration": 25,
    "start_time": "2022-12-25T16:13:46.182Z"
   },
   {
    "duration": 12,
    "start_time": "2022-12-25T16:13:46.209Z"
   },
   {
    "duration": 324,
    "start_time": "2022-12-25T16:13:46.223Z"
   },
   {
    "duration": 300,
    "start_time": "2022-12-25T16:13:46.549Z"
   },
   {
    "duration": 202,
    "start_time": "2022-12-25T16:13:46.850Z"
   },
   {
    "duration": 296,
    "start_time": "2022-12-25T16:13:47.053Z"
   },
   {
    "duration": 29,
    "start_time": "2022-12-25T16:13:47.351Z"
   },
   {
    "duration": 16,
    "start_time": "2022-12-25T16:13:47.383Z"
   },
   {
    "duration": 12,
    "start_time": "2022-12-25T16:13:47.402Z"
   },
   {
    "duration": 272,
    "start_time": "2022-12-25T16:13:47.419Z"
   },
   {
    "duration": 276,
    "start_time": "2022-12-25T16:13:47.692Z"
   },
   {
    "duration": 14,
    "start_time": "2022-12-25T16:13:47.970Z"
   },
   {
    "duration": 132,
    "start_time": "2022-12-25T16:13:47.986Z"
   },
   {
    "duration": 125,
    "start_time": "2022-12-25T16:13:48.120Z"
   },
   {
    "duration": 4,
    "start_time": "2022-12-25T16:13:48.246Z"
   },
   {
    "duration": 189,
    "start_time": "2022-12-25T16:13:48.252Z"
   },
   {
    "duration": 4,
    "start_time": "2022-12-25T16:13:48.443Z"
   },
   {
    "duration": 783,
    "start_time": "2022-12-25T16:13:48.448Z"
   },
   {
    "duration": 146,
    "start_time": "2022-12-25T16:13:49.232Z"
   },
   {
    "duration": 26,
    "start_time": "2022-12-25T16:13:49.380Z"
   },
   {
    "duration": 14,
    "start_time": "2022-12-25T16:13:49.408Z"
   },
   {
    "duration": 18,
    "start_time": "2022-12-25T16:13:49.424Z"
   },
   {
    "duration": 51,
    "start_time": "2022-12-25T16:13:49.444Z"
   },
   {
    "duration": 15,
    "start_time": "2022-12-25T16:13:49.497Z"
   },
   {
    "duration": 421,
    "start_time": "2022-12-26T05:23:58.473Z"
   },
   {
    "duration": 5,
    "start_time": "2022-12-26T05:23:58.896Z"
   },
   {
    "duration": 17,
    "start_time": "2022-12-26T05:23:58.902Z"
   },
   {
    "duration": 11,
    "start_time": "2022-12-26T05:23:58.921Z"
   },
   {
    "duration": 462,
    "start_time": "2022-12-26T05:23:58.934Z"
   },
   {
    "duration": 59,
    "start_time": "2022-12-26T05:23:59.398Z"
   },
   {
    "duration": 11,
    "start_time": "2022-12-26T05:23:59.459Z"
   },
   {
    "duration": 256,
    "start_time": "2022-12-26T05:23:59.472Z"
   },
   {
    "duration": 250,
    "start_time": "2022-12-26T05:23:59.730Z"
   },
   {
    "duration": 179,
    "start_time": "2022-12-26T05:23:59.983Z"
   },
   {
    "duration": 379,
    "start_time": "2022-12-26T05:24:00.164Z"
   },
   {
    "duration": 15,
    "start_time": "2022-12-26T05:24:00.545Z"
   },
   {
    "duration": 32,
    "start_time": "2022-12-26T05:24:00.561Z"
   },
   {
    "duration": 42,
    "start_time": "2022-12-26T05:24:00.595Z"
   },
   {
    "duration": 175,
    "start_time": "2022-12-26T05:24:00.638Z"
   },
   {
    "duration": 307,
    "start_time": "2022-12-26T05:24:00.815Z"
   },
   {
    "duration": 17,
    "start_time": "2022-12-26T05:24:01.124Z"
   },
   {
    "duration": 125,
    "start_time": "2022-12-26T05:24:01.142Z"
   },
   {
    "duration": 112,
    "start_time": "2022-12-26T05:24:01.268Z"
   },
   {
    "duration": 4,
    "start_time": "2022-12-26T05:24:01.382Z"
   },
   {
    "duration": 149,
    "start_time": "2022-12-26T05:24:01.388Z"
   },
   {
    "duration": 5,
    "start_time": "2022-12-26T05:24:01.539Z"
   },
   {
    "duration": 661,
    "start_time": "2022-12-26T05:24:01.545Z"
   },
   {
    "duration": 134,
    "start_time": "2022-12-26T05:24:02.208Z"
   },
   {
    "duration": 27,
    "start_time": "2022-12-26T05:24:02.344Z"
   },
   {
    "duration": 10,
    "start_time": "2022-12-26T05:24:02.373Z"
   },
   {
    "duration": 22,
    "start_time": "2022-12-26T05:24:02.384Z"
   },
   {
    "duration": 40,
    "start_time": "2022-12-26T05:24:02.409Z"
   },
   {
    "duration": 16,
    "start_time": "2022-12-26T05:24:02.451Z"
   },
   {
    "duration": 261,
    "start_time": "2022-12-26T05:27:44.842Z"
   },
   {
    "duration": 172,
    "start_time": "2022-12-26T05:29:07.642Z"
   },
   {
    "duration": 173,
    "start_time": "2022-12-26T05:29:13.248Z"
   },
   {
    "duration": 206,
    "start_time": "2022-12-26T05:29:42.086Z"
   },
   {
    "duration": 194,
    "start_time": "2022-12-26T05:29:51.055Z"
   },
   {
    "duration": 208,
    "start_time": "2022-12-26T05:30:34.250Z"
   },
   {
    "duration": 214,
    "start_time": "2022-12-26T05:30:38.650Z"
   },
   {
    "duration": 326,
    "start_time": "2022-12-26T05:31:48.766Z"
   },
   {
    "duration": 202,
    "start_time": "2022-12-26T05:33:14.153Z"
   },
   {
    "duration": 349,
    "start_time": "2022-12-26T05:34:12.269Z"
   },
   {
    "duration": 212,
    "start_time": "2022-12-26T05:36:10.537Z"
   },
   {
    "duration": 143,
    "start_time": "2022-12-26T05:36:42.709Z"
   },
   {
    "duration": 452,
    "start_time": "2022-12-26T07:23:43.362Z"
   },
   {
    "duration": 5,
    "start_time": "2022-12-26T07:23:43.817Z"
   },
   {
    "duration": 14,
    "start_time": "2022-12-26T07:23:43.823Z"
   },
   {
    "duration": 16,
    "start_time": "2022-12-26T07:23:43.840Z"
   },
   {
    "duration": 330,
    "start_time": "2022-12-26T07:23:43.859Z"
   },
   {
    "duration": 22,
    "start_time": "2022-12-26T07:23:44.190Z"
   },
   {
    "duration": 12,
    "start_time": "2022-12-26T07:23:44.214Z"
   },
   {
    "duration": 293,
    "start_time": "2022-12-26T07:23:44.227Z"
   },
   {
    "duration": 293,
    "start_time": "2022-12-26T07:23:44.521Z"
   },
   {
    "duration": 200,
    "start_time": "2022-12-26T07:23:44.816Z"
   },
   {
    "duration": 328,
    "start_time": "2022-12-26T07:23:45.018Z"
   },
   {
    "duration": 15,
    "start_time": "2022-12-26T07:23:45.348Z"
   },
   {
    "duration": 10,
    "start_time": "2022-12-26T07:23:45.365Z"
   },
   {
    "duration": 12,
    "start_time": "2022-12-26T07:23:45.377Z"
   },
   {
    "duration": 270,
    "start_time": "2022-12-26T07:23:45.390Z"
   },
   {
    "duration": 320,
    "start_time": "2022-12-26T07:23:45.662Z"
   },
   {
    "duration": 9,
    "start_time": "2022-12-26T07:23:45.984Z"
   },
   {
    "duration": 143,
    "start_time": "2022-12-26T07:23:45.995Z"
   },
   {
    "duration": 145,
    "start_time": "2022-12-26T07:23:46.140Z"
   },
   {
    "duration": 4,
    "start_time": "2022-12-26T07:23:46.287Z"
   },
   {
    "duration": 156,
    "start_time": "2022-12-26T07:23:46.292Z"
   },
   {
    "duration": 5,
    "start_time": "2022-12-26T07:23:46.450Z"
   },
   {
    "duration": 734,
    "start_time": "2022-12-26T07:23:46.456Z"
   },
   {
    "duration": 160,
    "start_time": "2022-12-26T07:23:47.192Z"
   },
   {
    "duration": 28,
    "start_time": "2022-12-26T07:23:47.354Z"
   },
   {
    "duration": 11,
    "start_time": "2022-12-26T07:23:47.383Z"
   },
   {
    "duration": 9,
    "start_time": "2022-12-26T07:23:47.396Z"
   },
   {
    "duration": 66,
    "start_time": "2022-12-26T07:23:47.406Z"
   },
   {
    "duration": 15,
    "start_time": "2022-12-26T07:23:47.474Z"
   },
   {
    "duration": 484,
    "start_time": "2022-12-26T07:42:54.394Z"
   },
   {
    "duration": 5,
    "start_time": "2022-12-26T07:42:54.880Z"
   },
   {
    "duration": 30,
    "start_time": "2022-12-26T07:42:54.888Z"
   },
   {
    "duration": 31,
    "start_time": "2022-12-26T07:42:54.920Z"
   },
   {
    "duration": 326,
    "start_time": "2022-12-26T07:42:54.953Z"
   },
   {
    "duration": 24,
    "start_time": "2022-12-26T07:42:55.280Z"
   },
   {
    "duration": 38,
    "start_time": "2022-12-26T07:42:55.306Z"
   },
   {
    "duration": 304,
    "start_time": "2022-12-26T07:42:55.346Z"
   },
   {
    "duration": 293,
    "start_time": "2022-12-26T07:42:55.652Z"
   },
   {
    "duration": 216,
    "start_time": "2022-12-26T07:42:55.947Z"
   },
   {
    "duration": 303,
    "start_time": "2022-12-26T07:42:56.164Z"
   },
   {
    "duration": 15,
    "start_time": "2022-12-26T07:42:56.469Z"
   },
   {
    "duration": 17,
    "start_time": "2022-12-26T07:42:56.486Z"
   },
   {
    "duration": 36,
    "start_time": "2022-12-26T07:42:56.506Z"
   },
   {
    "duration": 296,
    "start_time": "2022-12-26T07:42:56.544Z"
   },
   {
    "duration": 348,
    "start_time": "2022-12-26T07:42:56.843Z"
   },
   {
    "duration": 9,
    "start_time": "2022-12-26T07:42:57.193Z"
   },
   {
    "duration": 145,
    "start_time": "2022-12-26T07:42:57.204Z"
   },
   {
    "duration": 141,
    "start_time": "2022-12-26T07:42:57.350Z"
   },
   {
    "duration": 4,
    "start_time": "2022-12-26T07:42:57.493Z"
   },
   {
    "duration": 162,
    "start_time": "2022-12-26T07:42:57.499Z"
   },
   {
    "duration": 5,
    "start_time": "2022-12-26T07:42:57.662Z"
   },
   {
    "duration": 861,
    "start_time": "2022-12-26T07:42:57.669Z"
   },
   {
    "duration": 149,
    "start_time": "2022-12-26T07:42:58.532Z"
   },
   {
    "duration": 30,
    "start_time": "2022-12-26T07:42:58.683Z"
   },
   {
    "duration": 27,
    "start_time": "2022-12-26T07:42:58.715Z"
   },
   {
    "duration": 14,
    "start_time": "2022-12-26T07:42:58.744Z"
   },
   {
    "duration": 39,
    "start_time": "2022-12-26T07:42:58.760Z"
   },
   {
    "duration": 42,
    "start_time": "2022-12-26T07:42:58.801Z"
   },
   {
    "duration": 430,
    "start_time": "2022-12-26T07:48:50.083Z"
   },
   {
    "duration": 5,
    "start_time": "2022-12-26T07:48:50.515Z"
   },
   {
    "duration": 29,
    "start_time": "2022-12-26T07:48:50.522Z"
   },
   {
    "duration": 12,
    "start_time": "2022-12-26T07:48:50.555Z"
   },
   {
    "duration": 314,
    "start_time": "2022-12-26T07:48:50.570Z"
   },
   {
    "duration": 23,
    "start_time": "2022-12-26T07:48:50.886Z"
   },
   {
    "duration": 21,
    "start_time": "2022-12-26T07:48:50.911Z"
   },
   {
    "duration": 291,
    "start_time": "2022-12-26T07:48:50.934Z"
   },
   {
    "duration": 313,
    "start_time": "2022-12-26T07:48:51.227Z"
   },
   {
    "duration": 213,
    "start_time": "2022-12-26T07:48:51.543Z"
   },
   {
    "duration": 312,
    "start_time": "2022-12-26T07:48:51.757Z"
   },
   {
    "duration": 16,
    "start_time": "2022-12-26T07:48:52.072Z"
   },
   {
    "duration": 22,
    "start_time": "2022-12-26T07:48:52.090Z"
   },
   {
    "duration": 29,
    "start_time": "2022-12-26T07:48:52.114Z"
   },
   {
    "duration": 262,
    "start_time": "2022-12-26T07:48:52.145Z"
   },
   {
    "duration": 379,
    "start_time": "2022-12-26T07:48:52.409Z"
   },
   {
    "duration": 10,
    "start_time": "2022-12-26T07:48:52.790Z"
   },
   {
    "duration": 149,
    "start_time": "2022-12-26T07:48:52.802Z"
   },
   {
    "duration": 4,
    "start_time": "2022-12-26T07:48:52.953Z"
   },
   {
    "duration": 192,
    "start_time": "2022-12-26T07:48:52.959Z"
   },
   {
    "duration": 5,
    "start_time": "2022-12-26T07:48:53.154Z"
   },
   {
    "duration": 631,
    "start_time": "2022-12-26T07:48:53.161Z"
   },
   {
    "duration": 134,
    "start_time": "2022-12-26T07:48:53.794Z"
   },
   {
    "duration": 32,
    "start_time": "2022-12-26T07:48:53.930Z"
   },
   {
    "duration": 11,
    "start_time": "2022-12-26T07:48:53.964Z"
   },
   {
    "duration": 12,
    "start_time": "2022-12-26T07:48:53.977Z"
   },
   {
    "duration": 56,
    "start_time": "2022-12-26T07:48:53.991Z"
   },
   {
    "duration": 14,
    "start_time": "2022-12-26T07:48:54.050Z"
   },
   {
    "duration": 51,
    "start_time": "2022-12-26T13:05:42.180Z"
   },
   {
    "duration": 7,
    "start_time": "2022-12-26T13:06:05.181Z"
   },
   {
    "duration": 41,
    "start_time": "2022-12-26T13:11:31.346Z"
   },
   {
    "duration": 54,
    "start_time": "2022-12-26T13:11:42.858Z"
   },
   {
    "duration": 7,
    "start_time": "2022-12-26T13:11:48.374Z"
   },
   {
    "duration": 503,
    "start_time": "2022-12-26T13:11:58.658Z"
   },
   {
    "duration": 4,
    "start_time": "2022-12-26T13:11:59.163Z"
   },
   {
    "duration": 14,
    "start_time": "2022-12-26T13:11:59.169Z"
   },
   {
    "duration": 44,
    "start_time": "2022-12-26T13:11:59.185Z"
   },
   {
    "duration": 0,
    "start_time": "2022-12-26T13:11:59.232Z"
   },
   {
    "duration": 0,
    "start_time": "2022-12-26T13:11:59.233Z"
   },
   {
    "duration": 0,
    "start_time": "2022-12-26T13:11:59.234Z"
   },
   {
    "duration": 0,
    "start_time": "2022-12-26T13:11:59.235Z"
   },
   {
    "duration": 0,
    "start_time": "2022-12-26T13:11:59.236Z"
   },
   {
    "duration": 0,
    "start_time": "2022-12-26T13:11:59.237Z"
   },
   {
    "duration": 0,
    "start_time": "2022-12-26T13:11:59.238Z"
   },
   {
    "duration": 0,
    "start_time": "2022-12-26T13:11:59.239Z"
   },
   {
    "duration": 0,
    "start_time": "2022-12-26T13:11:59.240Z"
   },
   {
    "duration": 0,
    "start_time": "2022-12-26T13:11:59.241Z"
   },
   {
    "duration": 0,
    "start_time": "2022-12-26T13:11:59.242Z"
   },
   {
    "duration": 0,
    "start_time": "2022-12-26T13:11:59.243Z"
   },
   {
    "duration": 0,
    "start_time": "2022-12-26T13:11:59.244Z"
   },
   {
    "duration": 0,
    "start_time": "2022-12-26T13:11:59.246Z"
   },
   {
    "duration": 0,
    "start_time": "2022-12-26T13:11:59.247Z"
   },
   {
    "duration": 0,
    "start_time": "2022-12-26T13:11:59.252Z"
   },
   {
    "duration": 0,
    "start_time": "2022-12-26T13:11:59.253Z"
   },
   {
    "duration": 0,
    "start_time": "2022-12-26T13:11:59.255Z"
   },
   {
    "duration": 0,
    "start_time": "2022-12-26T13:11:59.256Z"
   },
   {
    "duration": 0,
    "start_time": "2022-12-26T13:11:59.258Z"
   },
   {
    "duration": 0,
    "start_time": "2022-12-26T13:11:59.259Z"
   },
   {
    "duration": 0,
    "start_time": "2022-12-26T13:11:59.260Z"
   },
   {
    "duration": 0,
    "start_time": "2022-12-26T13:11:59.262Z"
   },
   {
    "duration": 0,
    "start_time": "2022-12-26T13:11:59.263Z"
   },
   {
    "duration": 0,
    "start_time": "2022-12-26T13:11:59.264Z"
   },
   {
    "duration": 54,
    "start_time": "2022-12-26T13:12:15.775Z"
   },
   {
    "duration": 8,
    "start_time": "2022-12-26T13:12:21.762Z"
   },
   {
    "duration": 49,
    "start_time": "2022-12-26T13:13:04.477Z"
   },
   {
    "duration": 8,
    "start_time": "2022-12-26T13:13:26.396Z"
   },
   {
    "duration": 8,
    "start_time": "2022-12-26T13:13:43.253Z"
   },
   {
    "duration": 9,
    "start_time": "2022-12-26T13:13:51.263Z"
   },
   {
    "duration": 7,
    "start_time": "2022-12-26T13:14:08.768Z"
   },
   {
    "duration": 9,
    "start_time": "2022-12-26T13:14:20.661Z"
   },
   {
    "duration": 9,
    "start_time": "2022-12-26T13:14:26.178Z"
   },
   {
    "duration": 56,
    "start_time": "2022-12-26T13:14:42.813Z"
   },
   {
    "duration": 10,
    "start_time": "2022-12-26T13:14:46.286Z"
   },
   {
    "duration": 54,
    "start_time": "2022-12-26T13:15:16.861Z"
   },
   {
    "duration": 441,
    "start_time": "2022-12-26T13:16:07.987Z"
   },
   {
    "duration": 4,
    "start_time": "2022-12-26T13:16:08.430Z"
   },
   {
    "duration": 15,
    "start_time": "2022-12-26T13:16:08.435Z"
   },
   {
    "duration": 7,
    "start_time": "2022-12-26T13:16:08.452Z"
   },
   {
    "duration": 498,
    "start_time": "2022-12-26T13:16:08.461Z"
   },
   {
    "duration": 64,
    "start_time": "2022-12-26T13:16:08.960Z"
   },
   {
    "duration": 12,
    "start_time": "2022-12-26T13:16:09.025Z"
   },
   {
    "duration": 251,
    "start_time": "2022-12-26T13:16:09.039Z"
   },
   {
    "duration": 249,
    "start_time": "2022-12-26T13:16:09.291Z"
   },
   {
    "duration": 174,
    "start_time": "2022-12-26T13:16:09.543Z"
   },
   {
    "duration": 396,
    "start_time": "2022-12-26T13:16:09.719Z"
   },
   {
    "duration": 16,
    "start_time": "2022-12-26T13:16:10.117Z"
   },
   {
    "duration": 9,
    "start_time": "2022-12-26T13:16:10.135Z"
   },
   {
    "duration": 13,
    "start_time": "2022-12-26T13:16:10.146Z"
   },
   {
    "duration": 183,
    "start_time": "2022-12-26T13:16:10.160Z"
   },
   {
    "duration": 315,
    "start_time": "2022-12-26T13:16:10.344Z"
   },
   {
    "duration": 16,
    "start_time": "2022-12-26T13:16:10.660Z"
   },
   {
    "duration": 120,
    "start_time": "2022-12-26T13:16:10.678Z"
   },
   {
    "duration": 4,
    "start_time": "2022-12-26T13:16:10.799Z"
   },
   {
    "duration": 134,
    "start_time": "2022-12-26T13:16:10.804Z"
   },
   {
    "duration": 4,
    "start_time": "2022-12-26T13:16:10.940Z"
   },
   {
    "duration": 656,
    "start_time": "2022-12-26T13:16:10.945Z"
   },
   {
    "duration": 129,
    "start_time": "2022-12-26T13:16:11.603Z"
   },
   {
    "duration": 25,
    "start_time": "2022-12-26T13:16:11.734Z"
   },
   {
    "duration": 18,
    "start_time": "2022-12-26T13:16:11.760Z"
   },
   {
    "duration": 8,
    "start_time": "2022-12-26T13:16:11.780Z"
   },
   {
    "duration": 34,
    "start_time": "2022-12-26T13:16:11.789Z"
   },
   {
    "duration": 11,
    "start_time": "2022-12-26T13:16:11.826Z"
   },
   {
    "duration": 457,
    "start_time": "2022-12-26T13:18:33.565Z"
   },
   {
    "duration": 4,
    "start_time": "2022-12-26T13:18:34.024Z"
   },
   {
    "duration": 18,
    "start_time": "2022-12-26T13:18:34.029Z"
   },
   {
    "duration": 7,
    "start_time": "2022-12-26T13:18:34.049Z"
   },
   {
    "duration": 262,
    "start_time": "2022-12-26T13:18:34.058Z"
   },
   {
    "duration": 23,
    "start_time": "2022-12-26T13:18:34.322Z"
   },
   {
    "duration": 9,
    "start_time": "2022-12-26T13:18:34.347Z"
   },
   {
    "duration": 16,
    "start_time": "2022-12-26T13:18:34.358Z"
   },
   {
    "duration": 15,
    "start_time": "2022-12-26T13:18:34.375Z"
   },
   {
    "duration": 265,
    "start_time": "2022-12-26T13:18:34.392Z"
   },
   {
    "duration": 297,
    "start_time": "2022-12-26T13:18:34.658Z"
   },
   {
    "duration": 174,
    "start_time": "2022-12-26T13:18:34.956Z"
   },
   {
    "duration": 280,
    "start_time": "2022-12-26T13:18:35.131Z"
   },
   {
    "duration": 13,
    "start_time": "2022-12-26T13:18:35.413Z"
   },
   {
    "duration": 15,
    "start_time": "2022-12-26T13:18:35.428Z"
   },
   {
    "duration": 12,
    "start_time": "2022-12-26T13:18:35.444Z"
   },
   {
    "duration": 246,
    "start_time": "2022-12-26T13:18:35.457Z"
   },
   {
    "duration": 300,
    "start_time": "2022-12-26T13:18:35.705Z"
   },
   {
    "duration": 9,
    "start_time": "2022-12-26T13:18:36.006Z"
   },
   {
    "duration": 125,
    "start_time": "2022-12-26T13:18:36.016Z"
   },
   {
    "duration": 4,
    "start_time": "2022-12-26T13:18:36.143Z"
   },
   {
    "duration": 146,
    "start_time": "2022-12-26T13:18:36.149Z"
   },
   {
    "duration": 5,
    "start_time": "2022-12-26T13:18:36.297Z"
   },
   {
    "duration": 588,
    "start_time": "2022-12-26T13:18:36.304Z"
   },
   {
    "duration": 129,
    "start_time": "2022-12-26T13:18:36.893Z"
   },
   {
    "duration": 27,
    "start_time": "2022-12-26T13:18:37.024Z"
   },
   {
    "duration": 23,
    "start_time": "2022-12-26T13:18:37.053Z"
   },
   {
    "duration": 8,
    "start_time": "2022-12-26T13:18:37.078Z"
   },
   {
    "duration": 27,
    "start_time": "2022-12-26T13:18:37.088Z"
   },
   {
    "duration": 14,
    "start_time": "2022-12-26T13:18:37.116Z"
   },
   {
    "duration": 6,
    "start_time": "2022-12-26T13:21:08.655Z"
   },
   {
    "duration": 415,
    "start_time": "2022-12-26T13:21:20.206Z"
   },
   {
    "duration": 4,
    "start_time": "2022-12-26T13:21:20.622Z"
   },
   {
    "duration": 12,
    "start_time": "2022-12-26T13:21:20.627Z"
   },
   {
    "duration": 8,
    "start_time": "2022-12-26T13:21:20.640Z"
   },
   {
    "duration": 273,
    "start_time": "2022-12-26T13:21:20.649Z"
   },
   {
    "duration": 24,
    "start_time": "2022-12-26T13:21:20.924Z"
   },
   {
    "duration": 2,
    "start_time": "2022-12-26T13:21:20.949Z"
   },
   {
    "duration": 14,
    "start_time": "2022-12-26T13:21:20.952Z"
   },
   {
    "duration": 13,
    "start_time": "2022-12-26T13:21:20.967Z"
   },
   {
    "duration": 10,
    "start_time": "2022-12-26T13:21:20.982Z"
   },
   {
    "duration": 13,
    "start_time": "2022-12-26T13:21:20.993Z"
   },
   {
    "duration": 4757,
    "start_time": "2022-12-26T13:21:21.007Z"
   },
   {
    "duration": 279,
    "start_time": "2022-12-26T13:21:25.766Z"
   },
   {
    "duration": 200,
    "start_time": "2022-12-26T13:21:26.047Z"
   },
   {
    "duration": 1416,
    "start_time": "2022-12-26T13:21:26.249Z"
   },
   {
    "duration": 17,
    "start_time": "2022-12-26T13:21:27.667Z"
   },
   {
    "duration": 12,
    "start_time": "2022-12-26T13:21:27.685Z"
   },
   {
    "duration": 11,
    "start_time": "2022-12-26T13:21:27.699Z"
   },
   {
    "duration": 208,
    "start_time": "2022-12-26T13:21:27.712Z"
   },
   {
    "duration": 3309,
    "start_time": "2022-12-26T13:21:27.921Z"
   },
   {
    "duration": 9,
    "start_time": "2022-12-26T13:21:31.232Z"
   },
   {
    "duration": 138,
    "start_time": "2022-12-26T13:21:31.242Z"
   },
   {
    "duration": 4,
    "start_time": "2022-12-26T13:21:31.382Z"
   },
   {
    "duration": 178,
    "start_time": "2022-12-26T13:21:31.388Z"
   },
   {
    "duration": 4,
    "start_time": "2022-12-26T13:21:31.568Z"
   },
   {
    "duration": 652,
    "start_time": "2022-12-26T13:21:31.577Z"
   },
   {
    "duration": 127,
    "start_time": "2022-12-26T13:21:32.231Z"
   },
   {
    "duration": 30,
    "start_time": "2022-12-26T13:21:32.362Z"
   },
   {
    "duration": 29,
    "start_time": "2022-12-26T13:21:32.394Z"
   },
   {
    "duration": 9,
    "start_time": "2022-12-26T13:21:32.425Z"
   },
   {
    "duration": 28,
    "start_time": "2022-12-26T13:21:32.435Z"
   },
   {
    "duration": 21,
    "start_time": "2022-12-26T13:21:32.465Z"
   },
   {
    "duration": 10,
    "start_time": "2022-12-26T13:22:34.650Z"
   },
   {
    "duration": 11,
    "start_time": "2022-12-26T13:22:56.060Z"
   },
   {
    "duration": 13,
    "start_time": "2022-12-26T13:23:21.367Z"
   },
   {
    "duration": 375,
    "start_time": "2022-12-26T13:25:45.734Z"
   },
   {
    "duration": 4,
    "start_time": "2022-12-26T13:25:46.110Z"
   },
   {
    "duration": 18,
    "start_time": "2022-12-26T13:25:46.116Z"
   },
   {
    "duration": 17,
    "start_time": "2022-12-26T13:25:46.135Z"
   },
   {
    "duration": 319,
    "start_time": "2022-12-26T13:25:46.153Z"
   },
   {
    "duration": 91,
    "start_time": "2022-12-26T13:25:46.474Z"
   },
   {
    "duration": 2,
    "start_time": "2022-12-26T13:25:46.566Z"
   },
   {
    "duration": 13,
    "start_time": "2022-12-26T13:25:46.570Z"
   },
   {
    "duration": 12,
    "start_time": "2022-12-26T13:25:46.585Z"
   },
   {
    "duration": 9,
    "start_time": "2022-12-26T13:25:46.598Z"
   },
   {
    "duration": 9,
    "start_time": "2022-12-26T13:25:46.609Z"
   },
   {
    "duration": 13,
    "start_time": "2022-12-26T13:25:46.620Z"
   },
   {
    "duration": 306,
    "start_time": "2022-12-26T13:25:46.635Z"
   },
   {
    "duration": 274,
    "start_time": "2022-12-26T13:25:46.944Z"
   },
   {
    "duration": 186,
    "start_time": "2022-12-26T13:25:47.219Z"
   },
   {
    "duration": 290,
    "start_time": "2022-12-26T13:25:47.407Z"
   },
   {
    "duration": 14,
    "start_time": "2022-12-26T13:25:47.698Z"
   },
   {
    "duration": 12,
    "start_time": "2022-12-26T13:25:47.713Z"
   },
   {
    "duration": 15,
    "start_time": "2022-12-26T13:25:47.727Z"
   },
   {
    "duration": 219,
    "start_time": "2022-12-26T13:25:47.743Z"
   },
   {
    "duration": 325,
    "start_time": "2022-12-26T13:25:47.964Z"
   },
   {
    "duration": 8,
    "start_time": "2022-12-26T13:25:48.291Z"
   },
   {
    "duration": 129,
    "start_time": "2022-12-26T13:25:48.301Z"
   },
   {
    "duration": 5,
    "start_time": "2022-12-26T13:25:48.432Z"
   },
   {
    "duration": 157,
    "start_time": "2022-12-26T13:25:48.439Z"
   },
   {
    "duration": 4,
    "start_time": "2022-12-26T13:25:48.598Z"
   },
   {
    "duration": 597,
    "start_time": "2022-12-26T13:25:48.603Z"
   },
   {
    "duration": 141,
    "start_time": "2022-12-26T13:25:49.202Z"
   },
   {
    "duration": 33,
    "start_time": "2022-12-26T13:25:49.345Z"
   },
   {
    "duration": 9,
    "start_time": "2022-12-26T13:25:49.380Z"
   },
   {
    "duration": 8,
    "start_time": "2022-12-26T13:25:49.391Z"
   },
   {
    "duration": 26,
    "start_time": "2022-12-26T13:25:49.401Z"
   },
   {
    "duration": 11,
    "start_time": "2022-12-26T13:25:49.429Z"
   },
   {
    "duration": 4,
    "start_time": "2022-12-26T13:29:55.020Z"
   },
   {
    "duration": 4,
    "start_time": "2022-12-26T13:30:02.419Z"
   },
   {
    "duration": 4,
    "start_time": "2022-12-26T13:30:25.856Z"
   },
   {
    "duration": 5,
    "start_time": "2022-12-26T13:30:36.898Z"
   },
   {
    "duration": 974,
    "start_time": "2022-12-26T13:31:01.877Z"
   },
   {
    "duration": 852,
    "start_time": "2022-12-26T13:31:12.172Z"
   },
   {
    "duration": 891,
    "start_time": "2022-12-26T13:31:19.964Z"
   },
   {
    "duration": 81,
    "start_time": "2022-12-26T13:32:43.805Z"
   },
   {
    "duration": 6,
    "start_time": "2022-12-26T13:32:47.933Z"
   },
   {
    "duration": 13,
    "start_time": "2022-12-26T13:33:12.161Z"
   },
   {
    "duration": 15,
    "start_time": "2022-12-26T13:34:03.520Z"
   },
   {
    "duration": 12,
    "start_time": "2022-12-26T13:34:12.514Z"
   },
   {
    "duration": 9,
    "start_time": "2022-12-26T13:40:24.424Z"
   },
   {
    "duration": 17,
    "start_time": "2022-12-26T13:40:39.481Z"
   },
   {
    "duration": 12,
    "start_time": "2022-12-26T13:40:43.769Z"
   },
   {
    "duration": 10,
    "start_time": "2022-12-26T13:41:06.643Z"
   },
   {
    "duration": 13,
    "start_time": "2022-12-26T13:41:27.666Z"
   },
   {
    "duration": 9,
    "start_time": "2022-12-26T13:41:45.296Z"
   },
   {
    "duration": 11,
    "start_time": "2022-12-26T13:41:51.620Z"
   },
   {
    "duration": 10,
    "start_time": "2022-12-26T13:42:02.873Z"
   },
   {
    "duration": 150,
    "start_time": "2022-12-26T13:45:01.874Z"
   },
   {
    "duration": 8,
    "start_time": "2022-12-26T13:45:10.983Z"
   },
   {
    "duration": 8,
    "start_time": "2022-12-26T13:45:18.703Z"
   },
   {
    "duration": 60,
    "start_time": "2022-12-26T13:45:33.584Z"
   },
   {
    "duration": 8,
    "start_time": "2022-12-26T13:45:41.481Z"
   },
   {
    "duration": 5,
    "start_time": "2022-12-26T13:46:04.372Z"
   },
   {
    "duration": 8,
    "start_time": "2022-12-26T13:46:12.855Z"
   },
   {
    "duration": 9,
    "start_time": "2022-12-26T13:46:25.471Z"
   },
   {
    "duration": 66,
    "start_time": "2022-12-26T13:53:39.851Z"
   },
   {
    "duration": 67,
    "start_time": "2022-12-26T13:53:52.954Z"
   },
   {
    "duration": 63,
    "start_time": "2022-12-26T13:53:56.737Z"
   },
   {
    "duration": 74,
    "start_time": "2022-12-26T13:54:02.457Z"
   },
   {
    "duration": 4,
    "start_time": "2022-12-26T13:54:37.983Z"
   },
   {
    "duration": 67,
    "start_time": "2022-12-26T13:54:41.304Z"
   },
   {
    "duration": 78,
    "start_time": "2022-12-26T13:55:06.045Z"
   },
   {
    "duration": 63,
    "start_time": "2022-12-26T13:55:11.927Z"
   },
   {
    "duration": 7,
    "start_time": "2022-12-26T13:58:57.793Z"
   },
   {
    "duration": 11,
    "start_time": "2022-12-26T14:00:21.554Z"
   },
   {
    "duration": 14,
    "start_time": "2022-12-26T14:00:26.814Z"
   },
   {
    "duration": 76,
    "start_time": "2022-12-26T14:04:02.848Z"
   },
   {
    "duration": 10,
    "start_time": "2022-12-26T14:04:09.752Z"
   },
   {
    "duration": 10,
    "start_time": "2022-12-26T14:04:16.215Z"
   },
   {
    "duration": 10,
    "start_time": "2022-12-26T14:04:21.790Z"
   },
   {
    "duration": 7,
    "start_time": "2022-12-26T14:04:31.577Z"
   },
   {
    "duration": 7,
    "start_time": "2022-12-26T14:12:37.032Z"
   },
   {
    "duration": 594,
    "start_time": "2022-12-26T14:12:43.813Z"
   },
   {
    "duration": 11,
    "start_time": "2022-12-26T14:17:35.659Z"
   },
   {
    "duration": 7,
    "start_time": "2022-12-26T14:17:41.340Z"
   },
   {
    "duration": 62,
    "start_time": "2022-12-26T14:18:00.402Z"
   },
   {
    "duration": 6,
    "start_time": "2022-12-26T14:18:53.673Z"
   },
   {
    "duration": 6,
    "start_time": "2022-12-26T14:19:35.386Z"
   },
   {
    "duration": 84,
    "start_time": "2022-12-26T14:20:35.552Z"
   },
   {
    "duration": 75,
    "start_time": "2022-12-26T14:20:50.471Z"
   },
   {
    "duration": 59,
    "start_time": "2022-12-26T14:21:06.619Z"
   },
   {
    "duration": 13,
    "start_time": "2022-12-26T14:21:32.592Z"
   },
   {
    "duration": 6,
    "start_time": "2022-12-26T14:22:30.684Z"
   },
   {
    "duration": 6,
    "start_time": "2022-12-26T14:22:44.525Z"
   },
   {
    "duration": 5,
    "start_time": "2022-12-26T14:23:01.582Z"
   },
   {
    "duration": 6,
    "start_time": "2022-12-26T14:23:14.902Z"
   },
   {
    "duration": 456,
    "start_time": "2022-12-26T14:23:24.757Z"
   },
   {
    "duration": 4,
    "start_time": "2022-12-26T14:23:25.214Z"
   },
   {
    "duration": 13,
    "start_time": "2022-12-26T14:23:25.220Z"
   },
   {
    "duration": 8,
    "start_time": "2022-12-26T14:23:25.236Z"
   },
   {
    "duration": 275,
    "start_time": "2022-12-26T14:23:25.245Z"
   },
   {
    "duration": 24,
    "start_time": "2022-12-26T14:23:25.521Z"
   },
   {
    "duration": 6,
    "start_time": "2022-12-26T14:23:25.546Z"
   },
   {
    "duration": 9,
    "start_time": "2022-12-26T14:23:25.553Z"
   },
   {
    "duration": 27,
    "start_time": "2022-12-26T14:23:25.564Z"
   },
   {
    "duration": 10,
    "start_time": "2022-12-26T14:23:25.593Z"
   },
   {
    "duration": 6,
    "start_time": "2022-12-26T14:23:25.604Z"
   },
   {
    "duration": 5,
    "start_time": "2022-12-26T14:23:25.611Z"
   },
   {
    "duration": 5,
    "start_time": "2022-12-26T14:23:25.617Z"
   },
   {
    "duration": 10,
    "start_time": "2022-12-26T14:23:25.623Z"
   },
   {
    "duration": 63,
    "start_time": "2022-12-26T14:23:25.634Z"
   },
   {
    "duration": 67,
    "start_time": "2022-12-26T14:23:25.698Z"
   },
   {
    "duration": 0,
    "start_time": "2022-12-26T14:23:25.776Z"
   },
   {
    "duration": 0,
    "start_time": "2022-12-26T14:23:25.777Z"
   },
   {
    "duration": 0,
    "start_time": "2022-12-26T14:23:25.778Z"
   },
   {
    "duration": 0,
    "start_time": "2022-12-26T14:23:25.779Z"
   },
   {
    "duration": 0,
    "start_time": "2022-12-26T14:23:25.780Z"
   },
   {
    "duration": 0,
    "start_time": "2022-12-26T14:23:25.781Z"
   },
   {
    "duration": 0,
    "start_time": "2022-12-26T14:23:25.782Z"
   },
   {
    "duration": 0,
    "start_time": "2022-12-26T14:23:25.783Z"
   },
   {
    "duration": 0,
    "start_time": "2022-12-26T14:23:25.784Z"
   },
   {
    "duration": 0,
    "start_time": "2022-12-26T14:23:25.784Z"
   },
   {
    "duration": 0,
    "start_time": "2022-12-26T14:23:25.785Z"
   },
   {
    "duration": 0,
    "start_time": "2022-12-26T14:23:25.786Z"
   },
   {
    "duration": 0,
    "start_time": "2022-12-26T14:23:25.787Z"
   },
   {
    "duration": 0,
    "start_time": "2022-12-26T14:23:25.788Z"
   },
   {
    "duration": 0,
    "start_time": "2022-12-26T14:23:25.789Z"
   },
   {
    "duration": 0,
    "start_time": "2022-12-26T14:23:25.791Z"
   },
   {
    "duration": 0,
    "start_time": "2022-12-26T14:23:25.791Z"
   },
   {
    "duration": 0,
    "start_time": "2022-12-26T14:23:25.793Z"
   },
   {
    "duration": 0,
    "start_time": "2022-12-26T14:23:25.793Z"
   },
   {
    "duration": 0,
    "start_time": "2022-12-26T14:23:25.794Z"
   },
   {
    "duration": 0,
    "start_time": "2022-12-26T14:23:25.795Z"
   },
   {
    "duration": 0,
    "start_time": "2022-12-26T14:23:25.796Z"
   },
   {
    "duration": 0,
    "start_time": "2022-12-26T14:23:25.797Z"
   },
   {
    "duration": 0,
    "start_time": "2022-12-26T14:23:25.798Z"
   },
   {
    "duration": 0,
    "start_time": "2022-12-26T14:23:25.799Z"
   },
   {
    "duration": 0,
    "start_time": "2022-12-26T14:23:25.800Z"
   },
   {
    "duration": 61,
    "start_time": "2022-12-26T14:25:19.901Z"
   },
   {
    "duration": 68,
    "start_time": "2022-12-26T14:25:41.585Z"
   },
   {
    "duration": 8,
    "start_time": "2022-12-26T14:25:55.182Z"
   },
   {
    "duration": 68,
    "start_time": "2022-12-26T14:26:01.204Z"
   },
   {
    "duration": 8,
    "start_time": "2022-12-26T14:28:15.645Z"
   },
   {
    "duration": 8,
    "start_time": "2022-12-26T14:28:49.128Z"
   },
   {
    "duration": 6,
    "start_time": "2022-12-26T14:28:54.284Z"
   },
   {
    "duration": 326,
    "start_time": "2022-12-26T14:33:21.151Z"
   },
   {
    "duration": 7,
    "start_time": "2022-12-26T14:36:09.711Z"
   },
   {
    "duration": 13,
    "start_time": "2022-12-26T14:36:19.653Z"
   },
   {
    "duration": 53,
    "start_time": "2022-12-26T14:36:27.918Z"
   },
   {
    "duration": 18,
    "start_time": "2022-12-26T14:39:16.611Z"
   },
   {
    "duration": 46,
    "start_time": "2022-12-26T14:40:12.248Z"
   },
   {
    "duration": 14,
    "start_time": "2022-12-26T14:40:26.626Z"
   },
   {
    "duration": 21,
    "start_time": "2022-12-26T14:40:35.331Z"
   },
   {
    "duration": 12,
    "start_time": "2022-12-26T14:40:59.596Z"
   },
   {
    "duration": 90,
    "start_time": "2022-12-26T14:41:20.843Z"
   },
   {
    "duration": 106,
    "start_time": "2022-12-26T14:41:47.141Z"
   },
   {
    "duration": 16,
    "start_time": "2022-12-26T14:48:57.115Z"
   },
   {
    "duration": 12,
    "start_time": "2022-12-26T14:49:47.931Z"
   },
   {
    "duration": 6,
    "start_time": "2022-12-26T14:50:25.469Z"
   },
   {
    "duration": 7,
    "start_time": "2022-12-26T14:50:35.314Z"
   },
   {
    "duration": 6,
    "start_time": "2022-12-26T14:50:47.812Z"
   },
   {
    "duration": 5,
    "start_time": "2022-12-26T14:50:52.598Z"
   },
   {
    "duration": 5,
    "start_time": "2022-12-26T14:50:58.446Z"
   },
   {
    "duration": 7,
    "start_time": "2022-12-26T14:53:07.870Z"
   },
   {
    "duration": 6,
    "start_time": "2022-12-26T14:54:55.365Z"
   },
   {
    "duration": 3,
    "start_time": "2022-12-26T14:55:51.193Z"
   },
   {
    "duration": 5,
    "start_time": "2022-12-26T14:55:58.277Z"
   },
   {
    "duration": 7,
    "start_time": "2022-12-26T14:56:03.637Z"
   },
   {
    "duration": 4,
    "start_time": "2022-12-26T14:56:13.743Z"
   },
   {
    "duration": 5,
    "start_time": "2022-12-26T14:57:24.524Z"
   },
   {
    "duration": 9,
    "start_time": "2022-12-26T15:04:16.544Z"
   },
   {
    "duration": 36,
    "start_time": "2022-12-26T15:08:12.618Z"
   },
   {
    "duration": 28,
    "start_time": "2022-12-26T15:08:20.338Z"
   },
   {
    "duration": 27,
    "start_time": "2022-12-26T15:08:38.700Z"
   },
   {
    "duration": 46,
    "start_time": "2022-12-26T15:08:56.808Z"
   },
   {
    "duration": 14,
    "start_time": "2022-12-26T15:09:04.095Z"
   },
   {
    "duration": 13,
    "start_time": "2022-12-26T15:10:09.798Z"
   },
   {
    "duration": 7,
    "start_time": "2022-12-26T15:10:20.318Z"
   },
   {
    "duration": 6,
    "start_time": "2022-12-26T15:10:27.947Z"
   },
   {
    "duration": 8,
    "start_time": "2022-12-26T15:11:17.395Z"
   },
   {
    "duration": 713,
    "start_time": "2022-12-26T15:11:25.905Z"
   },
   {
    "duration": 13,
    "start_time": "2022-12-26T15:11:39.097Z"
   },
   {
    "duration": 796,
    "start_time": "2022-12-26T15:13:03.577Z"
   },
   {
    "duration": 9,
    "start_time": "2022-12-26T15:13:23.712Z"
   },
   {
    "duration": 9,
    "start_time": "2022-12-26T15:13:31.465Z"
   },
   {
    "duration": 12,
    "start_time": "2022-12-26T15:17:12.748Z"
   },
   {
    "duration": 10,
    "start_time": "2022-12-26T15:17:35.050Z"
   },
   {
    "duration": 52,
    "start_time": "2022-12-26T15:17:58.964Z"
   },
   {
    "duration": 9,
    "start_time": "2022-12-26T15:18:32.833Z"
   },
   {
    "duration": 7,
    "start_time": "2022-12-26T15:18:51.337Z"
   },
   {
    "duration": 6,
    "start_time": "2022-12-26T15:19:04.308Z"
   },
   {
    "duration": 14,
    "start_time": "2022-12-26T15:20:08.202Z"
   },
   {
    "duration": 8,
    "start_time": "2022-12-26T15:22:15.855Z"
   },
   {
    "duration": 6,
    "start_time": "2022-12-26T15:23:36.775Z"
   },
   {
    "duration": 460,
    "start_time": "2022-12-26T15:23:53.259Z"
   },
   {
    "duration": 5,
    "start_time": "2022-12-26T15:23:53.721Z"
   },
   {
    "duration": 14,
    "start_time": "2022-12-26T15:23:53.728Z"
   },
   {
    "duration": 8,
    "start_time": "2022-12-26T15:23:53.744Z"
   },
   {
    "duration": 282,
    "start_time": "2022-12-26T15:23:53.754Z"
   },
   {
    "duration": 23,
    "start_time": "2022-12-26T15:23:54.038Z"
   },
   {
    "duration": 2,
    "start_time": "2022-12-26T15:23:54.062Z"
   },
   {
    "duration": 17,
    "start_time": "2022-12-26T15:23:54.065Z"
   },
   {
    "duration": 7,
    "start_time": "2022-12-26T15:23:54.084Z"
   },
   {
    "duration": 9,
    "start_time": "2022-12-26T15:23:54.094Z"
   },
   {
    "duration": 4,
    "start_time": "2022-12-26T15:23:54.105Z"
   },
   {
    "duration": 14,
    "start_time": "2022-12-26T15:23:54.111Z"
   },
   {
    "duration": 8,
    "start_time": "2022-12-26T15:23:54.126Z"
   },
   {
    "duration": 8,
    "start_time": "2022-12-26T15:23:54.136Z"
   },
   {
    "duration": 8,
    "start_time": "2022-12-26T15:23:54.146Z"
   },
   {
    "duration": 24,
    "start_time": "2022-12-26T15:23:54.156Z"
   },
   {
    "duration": 6,
    "start_time": "2022-12-26T15:23:54.182Z"
   },
   {
    "duration": 5,
    "start_time": "2022-12-26T15:23:54.190Z"
   },
   {
    "duration": 6,
    "start_time": "2022-12-26T15:23:54.197Z"
   },
   {
    "duration": 88,
    "start_time": "2022-12-26T15:23:54.205Z"
   },
   {
    "duration": 3,
    "start_time": "2022-12-26T15:23:54.295Z"
   },
   {
    "duration": 8,
    "start_time": "2022-12-26T15:23:54.300Z"
   },
   {
    "duration": 89,
    "start_time": "2022-12-26T15:23:54.309Z"
   },
   {
    "duration": 0,
    "start_time": "2022-12-26T15:23:54.401Z"
   },
   {
    "duration": 0,
    "start_time": "2022-12-26T15:23:54.401Z"
   },
   {
    "duration": 0,
    "start_time": "2022-12-26T15:23:54.402Z"
   },
   {
    "duration": 0,
    "start_time": "2022-12-26T15:23:54.403Z"
   },
   {
    "duration": 0,
    "start_time": "2022-12-26T15:23:54.404Z"
   },
   {
    "duration": 0,
    "start_time": "2022-12-26T15:23:54.405Z"
   },
   {
    "duration": 0,
    "start_time": "2022-12-26T15:23:54.406Z"
   },
   {
    "duration": 0,
    "start_time": "2022-12-26T15:23:54.408Z"
   },
   {
    "duration": 0,
    "start_time": "2022-12-26T15:23:54.409Z"
   },
   {
    "duration": 0,
    "start_time": "2022-12-26T15:23:54.409Z"
   },
   {
    "duration": 0,
    "start_time": "2022-12-26T15:23:54.411Z"
   },
   {
    "duration": 0,
    "start_time": "2022-12-26T15:23:54.411Z"
   },
   {
    "duration": 0,
    "start_time": "2022-12-26T15:23:54.412Z"
   },
   {
    "duration": 0,
    "start_time": "2022-12-26T15:23:54.413Z"
   },
   {
    "duration": 0,
    "start_time": "2022-12-26T15:23:54.414Z"
   },
   {
    "duration": 0,
    "start_time": "2022-12-26T15:23:54.415Z"
   },
   {
    "duration": 0,
    "start_time": "2022-12-26T15:23:54.416Z"
   },
   {
    "duration": 0,
    "start_time": "2022-12-26T15:23:54.416Z"
   },
   {
    "duration": 0,
    "start_time": "2022-12-26T15:23:54.417Z"
   },
   {
    "duration": 0,
    "start_time": "2022-12-26T15:23:54.419Z"
   },
   {
    "duration": 0,
    "start_time": "2022-12-26T15:23:54.419Z"
   },
   {
    "duration": 0,
    "start_time": "2022-12-26T15:23:54.421Z"
   },
   {
    "duration": 0,
    "start_time": "2022-12-26T15:23:54.421Z"
   },
   {
    "duration": 0,
    "start_time": "2022-12-26T15:23:54.423Z"
   },
   {
    "duration": 0,
    "start_time": "2022-12-26T15:23:54.423Z"
   },
   {
    "duration": 0,
    "start_time": "2022-12-26T15:23:54.424Z"
   },
   {
    "duration": 4,
    "start_time": "2022-12-26T15:26:24.020Z"
   },
   {
    "duration": 4,
    "start_time": "2022-12-26T15:26:35.961Z"
   },
   {
    "duration": 5,
    "start_time": "2022-12-26T15:26:38.551Z"
   },
   {
    "duration": 6,
    "start_time": "2022-12-26T15:26:48.950Z"
   },
   {
    "duration": 5,
    "start_time": "2022-12-26T15:27:01.576Z"
   },
   {
    "duration": 5,
    "start_time": "2022-12-26T15:27:06.783Z"
   },
   {
    "duration": 10,
    "start_time": "2022-12-26T15:37:55.647Z"
   },
   {
    "duration": 15,
    "start_time": "2022-12-26T15:38:04.824Z"
   },
   {
    "duration": 8,
    "start_time": "2022-12-26T15:39:19.581Z"
   },
   {
    "duration": 8,
    "start_time": "2022-12-26T15:39:24.217Z"
   },
   {
    "duration": 8,
    "start_time": "2022-12-26T15:39:37.610Z"
   },
   {
    "duration": 9,
    "start_time": "2022-12-26T15:39:44.079Z"
   },
   {
    "duration": 10,
    "start_time": "2022-12-26T15:40:14.362Z"
   },
   {
    "duration": 49,
    "start_time": "2022-12-26T15:40:33.457Z"
   },
   {
    "duration": 47,
    "start_time": "2022-12-26T15:40:43.352Z"
   },
   {
    "duration": 7,
    "start_time": "2022-12-26T15:45:03.651Z"
   },
   {
    "duration": 8,
    "start_time": "2022-12-26T15:45:13.425Z"
   },
   {
    "duration": 26,
    "start_time": "2022-12-26T15:45:18.766Z"
   },
   {
    "duration": 24,
    "start_time": "2022-12-26T15:45:24.904Z"
   },
   {
    "duration": 27,
    "start_time": "2022-12-26T15:45:49.110Z"
   },
   {
    "duration": 17,
    "start_time": "2022-12-26T15:45:54.520Z"
   },
   {
    "duration": 9,
    "start_time": "2022-12-26T15:46:26.648Z"
   },
   {
    "duration": 23,
    "start_time": "2022-12-26T15:46:47.322Z"
   },
   {
    "duration": 15,
    "start_time": "2022-12-26T15:47:04.513Z"
   },
   {
    "duration": 49,
    "start_time": "2022-12-26T15:47:14.648Z"
   },
   {
    "duration": 14,
    "start_time": "2022-12-26T15:47:47.624Z"
   },
   {
    "duration": 10,
    "start_time": "2022-12-26T15:49:05.197Z"
   },
   {
    "duration": 5,
    "start_time": "2022-12-26T15:50:57.151Z"
   },
   {
    "duration": 42,
    "start_time": "2022-12-26T15:51:20.556Z"
   },
   {
    "duration": 41,
    "start_time": "2022-12-26T15:51:24.236Z"
   },
   {
    "duration": 11,
    "start_time": "2022-12-26T15:51:28.262Z"
   },
   {
    "duration": 12,
    "start_time": "2022-12-26T15:53:55.058Z"
   },
   {
    "duration": 9,
    "start_time": "2022-12-26T15:53:59.975Z"
   },
   {
    "duration": 10,
    "start_time": "2022-12-26T15:54:06.563Z"
   },
   {
    "duration": 4,
    "start_time": "2022-12-26T15:54:16.671Z"
   },
   {
    "duration": 10,
    "start_time": "2022-12-26T15:54:30.957Z"
   },
   {
    "duration": 10,
    "start_time": "2022-12-26T15:54:38.714Z"
   },
   {
    "duration": 241,
    "start_time": "2022-12-26T15:55:00.254Z"
   },
   {
    "duration": 241,
    "start_time": "2022-12-26T15:55:08.148Z"
   },
   {
    "duration": 63,
    "start_time": "2022-12-26T15:55:19.198Z"
   },
   {
    "duration": 75,
    "start_time": "2022-12-26T15:55:25.518Z"
   },
   {
    "duration": 52,
    "start_time": "2022-12-26T15:55:30.095Z"
   },
   {
    "duration": 253,
    "start_time": "2022-12-26T15:55:36.018Z"
   },
   {
    "duration": 10,
    "start_time": "2022-12-26T15:55:55.856Z"
   },
   {
    "duration": 8,
    "start_time": "2022-12-26T15:56:52.661Z"
   },
   {
    "duration": 446,
    "start_time": "2022-12-26T16:01:03.373Z"
   },
   {
    "duration": 5,
    "start_time": "2022-12-26T16:01:03.821Z"
   },
   {
    "duration": 31,
    "start_time": "2022-12-26T16:01:03.827Z"
   },
   {
    "duration": 9,
    "start_time": "2022-12-26T16:01:03.861Z"
   },
   {
    "duration": 285,
    "start_time": "2022-12-26T16:01:03.871Z"
   },
   {
    "duration": 26,
    "start_time": "2022-12-26T16:01:04.158Z"
   },
   {
    "duration": 2,
    "start_time": "2022-12-26T16:01:04.186Z"
   },
   {
    "duration": 10,
    "start_time": "2022-12-26T16:01:04.189Z"
   },
   {
    "duration": 8,
    "start_time": "2022-12-26T16:01:04.200Z"
   },
   {
    "duration": 10,
    "start_time": "2022-12-26T16:01:04.211Z"
   },
   {
    "duration": 8,
    "start_time": "2022-12-26T16:01:04.223Z"
   },
   {
    "duration": 12,
    "start_time": "2022-12-26T16:01:04.232Z"
   },
   {
    "duration": 6,
    "start_time": "2022-12-26T16:01:04.245Z"
   },
   {
    "duration": 94,
    "start_time": "2022-12-26T16:01:04.252Z"
   },
   {
    "duration": 0,
    "start_time": "2022-12-26T16:01:04.349Z"
   },
   {
    "duration": 0,
    "start_time": "2022-12-26T16:01:04.349Z"
   },
   {
    "duration": 0,
    "start_time": "2022-12-26T16:01:04.350Z"
   },
   {
    "duration": 0,
    "start_time": "2022-12-26T16:01:04.351Z"
   },
   {
    "duration": 0,
    "start_time": "2022-12-26T16:01:04.352Z"
   },
   {
    "duration": 0,
    "start_time": "2022-12-26T16:01:04.353Z"
   },
   {
    "duration": 0,
    "start_time": "2022-12-26T16:01:04.354Z"
   },
   {
    "duration": 0,
    "start_time": "2022-12-26T16:01:04.355Z"
   },
   {
    "duration": 0,
    "start_time": "2022-12-26T16:01:04.356Z"
   },
   {
    "duration": 0,
    "start_time": "2022-12-26T16:01:04.357Z"
   },
   {
    "duration": 0,
    "start_time": "2022-12-26T16:01:04.358Z"
   },
   {
    "duration": 0,
    "start_time": "2022-12-26T16:01:04.359Z"
   },
   {
    "duration": 0,
    "start_time": "2022-12-26T16:01:04.376Z"
   },
   {
    "duration": 0,
    "start_time": "2022-12-26T16:01:04.377Z"
   },
   {
    "duration": 0,
    "start_time": "2022-12-26T16:01:04.378Z"
   },
   {
    "duration": 0,
    "start_time": "2022-12-26T16:01:04.379Z"
   },
   {
    "duration": 0,
    "start_time": "2022-12-26T16:01:04.380Z"
   },
   {
    "duration": 0,
    "start_time": "2022-12-26T16:01:04.381Z"
   },
   {
    "duration": 0,
    "start_time": "2022-12-26T16:01:04.382Z"
   },
   {
    "duration": 0,
    "start_time": "2022-12-26T16:01:04.383Z"
   },
   {
    "duration": 0,
    "start_time": "2022-12-26T16:01:04.384Z"
   },
   {
    "duration": 0,
    "start_time": "2022-12-26T16:01:04.385Z"
   },
   {
    "duration": 0,
    "start_time": "2022-12-26T16:01:04.386Z"
   },
   {
    "duration": 0,
    "start_time": "2022-12-26T16:01:04.387Z"
   },
   {
    "duration": 0,
    "start_time": "2022-12-26T16:01:04.388Z"
   },
   {
    "duration": 0,
    "start_time": "2022-12-26T16:01:04.389Z"
   },
   {
    "duration": 0,
    "start_time": "2022-12-26T16:01:04.390Z"
   },
   {
    "duration": 0,
    "start_time": "2022-12-26T16:01:04.391Z"
   },
   {
    "duration": 0,
    "start_time": "2022-12-26T16:01:04.393Z"
   },
   {
    "duration": 0,
    "start_time": "2022-12-26T16:01:04.394Z"
   },
   {
    "duration": 0,
    "start_time": "2022-12-26T16:01:04.395Z"
   },
   {
    "duration": 0,
    "start_time": "2022-12-26T16:01:04.396Z"
   },
   {
    "duration": 0,
    "start_time": "2022-12-26T16:01:04.397Z"
   },
   {
    "duration": 0,
    "start_time": "2022-12-26T16:01:04.398Z"
   },
   {
    "duration": 0,
    "start_time": "2022-12-26T16:01:04.399Z"
   },
   {
    "duration": 0,
    "start_time": "2022-12-26T16:01:04.399Z"
   },
   {
    "duration": 12,
    "start_time": "2022-12-26T16:01:31.753Z"
   },
   {
    "duration": 4,
    "start_time": "2022-12-26T16:01:50.761Z"
   },
   {
    "duration": 11,
    "start_time": "2022-12-26T16:01:53.730Z"
   },
   {
    "duration": 7,
    "start_time": "2022-12-26T16:02:34.395Z"
   },
   {
    "duration": 11,
    "start_time": "2022-12-26T16:02:37.184Z"
   },
   {
    "duration": 62,
    "start_time": "2022-12-26T16:02:45.449Z"
   },
   {
    "duration": 7,
    "start_time": "2022-12-26T16:03:26.170Z"
   },
   {
    "duration": 11,
    "start_time": "2022-12-26T16:03:33.733Z"
   },
   {
    "duration": 10,
    "start_time": "2022-12-26T16:03:41.862Z"
   },
   {
    "duration": 8,
    "start_time": "2022-12-26T16:04:04.698Z"
   },
   {
    "duration": 231,
    "start_time": "2022-12-26T16:04:15.958Z"
   },
   {
    "duration": 219,
    "start_time": "2022-12-26T16:04:39.957Z"
   },
   {
    "duration": 7,
    "start_time": "2022-12-26T16:06:01.349Z"
   },
   {
    "duration": 14,
    "start_time": "2022-12-26T16:06:16.182Z"
   },
   {
    "duration": 4,
    "start_time": "2022-12-26T16:06:25.892Z"
   },
   {
    "duration": 18,
    "start_time": "2022-12-26T16:06:33.750Z"
   },
   {
    "duration": 13,
    "start_time": "2022-12-26T16:06:47.373Z"
   },
   {
    "duration": 7,
    "start_time": "2022-12-26T16:06:57.026Z"
   },
   {
    "duration": 13,
    "start_time": "2022-12-26T16:07:10.732Z"
   },
   {
    "duration": 12,
    "start_time": "2022-12-26T16:07:37.154Z"
   },
   {
    "duration": 5,
    "start_time": "2022-12-26T16:08:02.717Z"
   },
   {
    "duration": 9,
    "start_time": "2022-12-26T16:08:08.525Z"
   },
   {
    "duration": 8,
    "start_time": "2022-12-26T16:08:43.675Z"
   },
   {
    "duration": 7,
    "start_time": "2022-12-26T16:08:59.727Z"
   },
   {
    "duration": 8,
    "start_time": "2022-12-26T16:09:18.288Z"
   },
   {
    "duration": 7,
    "start_time": "2022-12-26T16:09:25.369Z"
   },
   {
    "duration": 8,
    "start_time": "2022-12-26T16:09:34.534Z"
   },
   {
    "duration": 13,
    "start_time": "2022-12-26T16:14:05.248Z"
   },
   {
    "duration": 9,
    "start_time": "2022-12-26T16:14:10.570Z"
   },
   {
    "duration": 12,
    "start_time": "2022-12-26T16:14:46.264Z"
   },
   {
    "duration": 7,
    "start_time": "2022-12-26T16:14:59.656Z"
   },
   {
    "duration": 6,
    "start_time": "2022-12-26T16:15:14.282Z"
   },
   {
    "duration": 5,
    "start_time": "2022-12-26T16:16:18.354Z"
   },
   {
    "duration": 560,
    "start_time": "2022-12-26T16:17:23.160Z"
   },
   {
    "duration": 5,
    "start_time": "2022-12-26T16:17:29.430Z"
   },
   {
    "duration": 429,
    "start_time": "2022-12-26T16:17:51.734Z"
   },
   {
    "duration": 4,
    "start_time": "2022-12-26T16:17:52.165Z"
   },
   {
    "duration": 16,
    "start_time": "2022-12-26T16:17:52.171Z"
   },
   {
    "duration": 7,
    "start_time": "2022-12-26T16:17:52.189Z"
   },
   {
    "duration": 309,
    "start_time": "2022-12-26T16:17:52.197Z"
   },
   {
    "duration": 23,
    "start_time": "2022-12-26T16:17:52.508Z"
   },
   {
    "duration": 2,
    "start_time": "2022-12-26T16:17:52.533Z"
   },
   {
    "duration": 11,
    "start_time": "2022-12-26T16:17:52.536Z"
   },
   {
    "duration": 9,
    "start_time": "2022-12-26T16:17:52.549Z"
   },
   {
    "duration": 6,
    "start_time": "2022-12-26T16:17:52.560Z"
   },
   {
    "duration": 10,
    "start_time": "2022-12-26T16:17:52.567Z"
   },
   {
    "duration": 7,
    "start_time": "2022-12-26T16:17:52.578Z"
   },
   {
    "duration": 11,
    "start_time": "2022-12-26T16:17:52.587Z"
   },
   {
    "duration": 7,
    "start_time": "2022-12-26T16:17:52.599Z"
   },
   {
    "duration": 7,
    "start_time": "2022-12-26T16:17:52.607Z"
   },
   {
    "duration": 165,
    "start_time": "2022-12-26T16:17:52.616Z"
   },
   {
    "duration": 6,
    "start_time": "2022-12-26T16:17:52.782Z"
   },
   {
    "duration": 10,
    "start_time": "2022-12-26T16:17:52.790Z"
   },
   {
    "duration": 80,
    "start_time": "2022-12-26T16:17:52.802Z"
   },
   {
    "duration": 8,
    "start_time": "2022-12-26T16:17:52.884Z"
   },
   {
    "duration": 5,
    "start_time": "2022-12-26T16:17:52.893Z"
   },
   {
    "duration": 8,
    "start_time": "2022-12-26T16:17:52.900Z"
   },
   {
    "duration": 12,
    "start_time": "2022-12-26T16:17:52.909Z"
   },
   {
    "duration": 7,
    "start_time": "2022-12-26T16:17:52.923Z"
   },
   {
    "duration": 8,
    "start_time": "2022-12-26T16:17:52.932Z"
   },
   {
    "duration": 78,
    "start_time": "2022-12-26T16:17:52.942Z"
   },
   {
    "duration": 0,
    "start_time": "2022-12-26T16:17:53.023Z"
   },
   {
    "duration": 0,
    "start_time": "2022-12-26T16:17:53.024Z"
   },
   {
    "duration": 0,
    "start_time": "2022-12-26T16:17:53.025Z"
   },
   {
    "duration": 0,
    "start_time": "2022-12-26T16:17:53.027Z"
   },
   {
    "duration": 0,
    "start_time": "2022-12-26T16:17:53.029Z"
   },
   {
    "duration": 0,
    "start_time": "2022-12-26T16:17:53.030Z"
   },
   {
    "duration": 0,
    "start_time": "2022-12-26T16:17:53.031Z"
   },
   {
    "duration": 0,
    "start_time": "2022-12-26T16:17:53.033Z"
   },
   {
    "duration": 0,
    "start_time": "2022-12-26T16:17:53.034Z"
   },
   {
    "duration": 0,
    "start_time": "2022-12-26T16:17:53.036Z"
   },
   {
    "duration": 0,
    "start_time": "2022-12-26T16:17:53.037Z"
   },
   {
    "duration": 0,
    "start_time": "2022-12-26T16:17:53.038Z"
   },
   {
    "duration": 0,
    "start_time": "2022-12-26T16:17:53.039Z"
   },
   {
    "duration": 0,
    "start_time": "2022-12-26T16:17:53.041Z"
   },
   {
    "duration": 0,
    "start_time": "2022-12-26T16:17:53.042Z"
   },
   {
    "duration": 0,
    "start_time": "2022-12-26T16:17:53.043Z"
   },
   {
    "duration": 1,
    "start_time": "2022-12-26T16:17:53.076Z"
   },
   {
    "duration": 0,
    "start_time": "2022-12-26T16:17:53.078Z"
   },
   {
    "duration": 0,
    "start_time": "2022-12-26T16:17:53.079Z"
   },
   {
    "duration": 0,
    "start_time": "2022-12-26T16:17:53.081Z"
   },
   {
    "duration": 0,
    "start_time": "2022-12-26T16:17:53.083Z"
   },
   {
    "duration": 0,
    "start_time": "2022-12-26T16:17:53.084Z"
   },
   {
    "duration": 0,
    "start_time": "2022-12-26T16:17:53.085Z"
   },
   {
    "duration": 0,
    "start_time": "2022-12-26T16:17:53.087Z"
   },
   {
    "duration": 0,
    "start_time": "2022-12-26T16:17:53.088Z"
   },
   {
    "duration": 0,
    "start_time": "2022-12-26T16:17:53.089Z"
   },
   {
    "duration": 6,
    "start_time": "2022-12-26T16:19:50.733Z"
   },
   {
    "duration": 6,
    "start_time": "2022-12-26T16:24:44.945Z"
   },
   {
    "duration": 9,
    "start_time": "2022-12-26T16:25:20.998Z"
   },
   {
    "duration": 442,
    "start_time": "2022-12-26T16:25:42.202Z"
   },
   {
    "duration": 4,
    "start_time": "2022-12-26T16:25:42.646Z"
   },
   {
    "duration": 16,
    "start_time": "2022-12-26T16:25:42.652Z"
   },
   {
    "duration": 12,
    "start_time": "2022-12-26T16:25:42.669Z"
   },
   {
    "duration": 303,
    "start_time": "2022-12-26T16:25:42.683Z"
   },
   {
    "duration": 26,
    "start_time": "2022-12-26T16:25:42.987Z"
   },
   {
    "duration": 2,
    "start_time": "2022-12-26T16:25:43.015Z"
   },
   {
    "duration": 23,
    "start_time": "2022-12-26T16:25:43.019Z"
   },
   {
    "duration": 8,
    "start_time": "2022-12-26T16:25:43.043Z"
   },
   {
    "duration": 7,
    "start_time": "2022-12-26T16:25:43.055Z"
   },
   {
    "duration": 20,
    "start_time": "2022-12-26T16:25:43.064Z"
   },
   {
    "duration": 100,
    "start_time": "2022-12-26T16:25:43.086Z"
   },
   {
    "duration": 0,
    "start_time": "2022-12-26T16:25:43.188Z"
   },
   {
    "duration": 0,
    "start_time": "2022-12-26T16:25:43.189Z"
   },
   {
    "duration": 0,
    "start_time": "2022-12-26T16:25:43.190Z"
   },
   {
    "duration": 0,
    "start_time": "2022-12-26T16:25:43.191Z"
   },
   {
    "duration": 0,
    "start_time": "2022-12-26T16:25:43.192Z"
   },
   {
    "duration": 0,
    "start_time": "2022-12-26T16:25:43.193Z"
   },
   {
    "duration": 0,
    "start_time": "2022-12-26T16:25:43.194Z"
   },
   {
    "duration": 0,
    "start_time": "2022-12-26T16:25:43.195Z"
   },
   {
    "duration": 0,
    "start_time": "2022-12-26T16:25:43.196Z"
   },
   {
    "duration": 0,
    "start_time": "2022-12-26T16:25:43.196Z"
   },
   {
    "duration": 0,
    "start_time": "2022-12-26T16:25:43.197Z"
   },
   {
    "duration": 0,
    "start_time": "2022-12-26T16:25:43.198Z"
   },
   {
    "duration": 0,
    "start_time": "2022-12-26T16:25:43.199Z"
   },
   {
    "duration": 0,
    "start_time": "2022-12-26T16:25:43.200Z"
   },
   {
    "duration": 0,
    "start_time": "2022-12-26T16:25:43.201Z"
   },
   {
    "duration": 0,
    "start_time": "2022-12-26T16:25:43.202Z"
   },
   {
    "duration": 0,
    "start_time": "2022-12-26T16:25:43.204Z"
   },
   {
    "duration": 0,
    "start_time": "2022-12-26T16:25:43.205Z"
   },
   {
    "duration": 0,
    "start_time": "2022-12-26T16:25:43.207Z"
   },
   {
    "duration": 0,
    "start_time": "2022-12-26T16:25:43.209Z"
   },
   {
    "duration": 0,
    "start_time": "2022-12-26T16:25:43.210Z"
   },
   {
    "duration": 0,
    "start_time": "2022-12-26T16:25:43.211Z"
   },
   {
    "duration": 0,
    "start_time": "2022-12-26T16:25:43.213Z"
   },
   {
    "duration": 0,
    "start_time": "2022-12-26T16:25:43.214Z"
   },
   {
    "duration": 0,
    "start_time": "2022-12-26T16:25:43.216Z"
   },
   {
    "duration": 0,
    "start_time": "2022-12-26T16:25:43.217Z"
   },
   {
    "duration": 0,
    "start_time": "2022-12-26T16:25:43.219Z"
   },
   {
    "duration": 0,
    "start_time": "2022-12-26T16:25:43.220Z"
   },
   {
    "duration": 0,
    "start_time": "2022-12-26T16:25:43.277Z"
   },
   {
    "duration": 0,
    "start_time": "2022-12-26T16:25:43.278Z"
   },
   {
    "duration": 0,
    "start_time": "2022-12-26T16:25:43.280Z"
   },
   {
    "duration": 0,
    "start_time": "2022-12-26T16:25:43.281Z"
   },
   {
    "duration": 0,
    "start_time": "2022-12-26T16:25:43.282Z"
   },
   {
    "duration": 0,
    "start_time": "2022-12-26T16:25:43.283Z"
   },
   {
    "duration": 0,
    "start_time": "2022-12-26T16:25:43.284Z"
   },
   {
    "duration": 0,
    "start_time": "2022-12-26T16:25:43.285Z"
   },
   {
    "duration": 13,
    "start_time": "2022-12-26T16:28:48.107Z"
   },
   {
    "duration": 7,
    "start_time": "2022-12-26T16:29:09.132Z"
   },
   {
    "duration": 11,
    "start_time": "2022-12-26T16:29:14.214Z"
   },
   {
    "duration": 12,
    "start_time": "2022-12-26T16:30:12.531Z"
   },
   {
    "duration": 412,
    "start_time": "2022-12-26T16:30:20.296Z"
   },
   {
    "duration": 4,
    "start_time": "2022-12-26T16:30:20.710Z"
   },
   {
    "duration": 13,
    "start_time": "2022-12-26T16:30:20.715Z"
   },
   {
    "duration": 8,
    "start_time": "2022-12-26T16:30:20.730Z"
   },
   {
    "duration": 266,
    "start_time": "2022-12-26T16:30:20.739Z"
   },
   {
    "duration": 23,
    "start_time": "2022-12-26T16:30:21.006Z"
   },
   {
    "duration": 2,
    "start_time": "2022-12-26T16:30:21.030Z"
   },
   {
    "duration": 11,
    "start_time": "2022-12-26T16:30:21.034Z"
   },
   {
    "duration": 12,
    "start_time": "2022-12-26T16:30:21.046Z"
   },
   {
    "duration": 12,
    "start_time": "2022-12-26T16:30:21.060Z"
   },
   {
    "duration": 6,
    "start_time": "2022-12-26T16:30:21.074Z"
   },
   {
    "duration": 13,
    "start_time": "2022-12-26T16:30:21.082Z"
   },
   {
    "duration": 67,
    "start_time": "2022-12-26T16:30:21.096Z"
   },
   {
    "duration": 0,
    "start_time": "2022-12-26T16:30:21.176Z"
   },
   {
    "duration": 0,
    "start_time": "2022-12-26T16:30:21.178Z"
   },
   {
    "duration": 0,
    "start_time": "2022-12-26T16:30:21.179Z"
   },
   {
    "duration": 0,
    "start_time": "2022-12-26T16:30:21.180Z"
   },
   {
    "duration": 0,
    "start_time": "2022-12-26T16:30:21.182Z"
   },
   {
    "duration": 0,
    "start_time": "2022-12-26T16:30:21.183Z"
   },
   {
    "duration": 0,
    "start_time": "2022-12-26T16:30:21.184Z"
   },
   {
    "duration": 0,
    "start_time": "2022-12-26T16:30:21.185Z"
   },
   {
    "duration": 0,
    "start_time": "2022-12-26T16:30:21.186Z"
   },
   {
    "duration": 0,
    "start_time": "2022-12-26T16:30:21.187Z"
   },
   {
    "duration": 0,
    "start_time": "2022-12-26T16:30:21.188Z"
   },
   {
    "duration": 0,
    "start_time": "2022-12-26T16:30:21.189Z"
   },
   {
    "duration": 0,
    "start_time": "2022-12-26T16:30:21.190Z"
   },
   {
    "duration": 0,
    "start_time": "2022-12-26T16:30:21.191Z"
   },
   {
    "duration": 0,
    "start_time": "2022-12-26T16:30:21.192Z"
   },
   {
    "duration": 0,
    "start_time": "2022-12-26T16:30:21.193Z"
   },
   {
    "duration": 0,
    "start_time": "2022-12-26T16:30:21.194Z"
   },
   {
    "duration": 0,
    "start_time": "2022-12-26T16:30:21.195Z"
   },
   {
    "duration": 0,
    "start_time": "2022-12-26T16:30:21.196Z"
   },
   {
    "duration": 0,
    "start_time": "2022-12-26T16:30:21.197Z"
   },
   {
    "duration": 0,
    "start_time": "2022-12-26T16:30:21.198Z"
   },
   {
    "duration": 0,
    "start_time": "2022-12-26T16:30:21.199Z"
   },
   {
    "duration": 0,
    "start_time": "2022-12-26T16:30:21.200Z"
   },
   {
    "duration": 0,
    "start_time": "2022-12-26T16:30:21.201Z"
   },
   {
    "duration": 0,
    "start_time": "2022-12-26T16:30:21.202Z"
   },
   {
    "duration": 0,
    "start_time": "2022-12-26T16:30:21.203Z"
   },
   {
    "duration": 0,
    "start_time": "2022-12-26T16:30:21.204Z"
   },
   {
    "duration": 0,
    "start_time": "2022-12-26T16:30:21.205Z"
   },
   {
    "duration": 0,
    "start_time": "2022-12-26T16:30:21.206Z"
   },
   {
    "duration": 0,
    "start_time": "2022-12-26T16:30:21.207Z"
   },
   {
    "duration": 0,
    "start_time": "2022-12-26T16:30:21.208Z"
   },
   {
    "duration": 0,
    "start_time": "2022-12-26T16:30:21.209Z"
   },
   {
    "duration": 0,
    "start_time": "2022-12-26T16:30:21.210Z"
   },
   {
    "duration": 0,
    "start_time": "2022-12-26T16:30:21.211Z"
   },
   {
    "duration": 0,
    "start_time": "2022-12-26T16:30:21.212Z"
   },
   {
    "duration": 6,
    "start_time": "2022-12-26T16:31:39.733Z"
   },
   {
    "duration": 13,
    "start_time": "2022-12-26T16:31:58.142Z"
   },
   {
    "duration": 11,
    "start_time": "2022-12-26T16:35:34.298Z"
   },
   {
    "duration": 58,
    "start_time": "2022-12-26T16:40:44.651Z"
   },
   {
    "duration": 11,
    "start_time": "2022-12-26T16:43:34.911Z"
   },
   {
    "duration": 63,
    "start_time": "2022-12-26T16:43:50.239Z"
   },
   {
    "duration": 10,
    "start_time": "2022-12-26T16:44:21.434Z"
   },
   {
    "duration": 59,
    "start_time": "2022-12-26T16:45:31.518Z"
   },
   {
    "duration": 7,
    "start_time": "2022-12-26T16:45:47.660Z"
   },
   {
    "duration": 4,
    "start_time": "2022-12-26T16:46:01.769Z"
   },
   {
    "duration": 5,
    "start_time": "2022-12-26T16:46:03.843Z"
   },
   {
    "duration": 12,
    "start_time": "2022-12-26T16:46:38.553Z"
   },
   {
    "duration": 12,
    "start_time": "2022-12-26T16:53:46.881Z"
   },
   {
    "duration": 143,
    "start_time": "2022-12-26T16:56:01.078Z"
   },
   {
    "duration": 147,
    "start_time": "2022-12-26T16:56:48.776Z"
   },
   {
    "duration": 190,
    "start_time": "2022-12-26T16:57:13.173Z"
   },
   {
    "duration": 12,
    "start_time": "2022-12-26T16:57:27.941Z"
   },
   {
    "duration": 4,
    "start_time": "2022-12-26T17:00:00.764Z"
   },
   {
    "duration": 13,
    "start_time": "2022-12-26T17:00:06.884Z"
   },
   {
    "duration": 11,
    "start_time": "2022-12-26T17:00:15.514Z"
   },
   {
    "duration": 12,
    "start_time": "2022-12-26T17:01:30.015Z"
   },
   {
    "duration": 21,
    "start_time": "2022-12-26T17:03:09.344Z"
   },
   {
    "duration": 20,
    "start_time": "2022-12-26T17:03:12.990Z"
   },
   {
    "duration": 18,
    "start_time": "2022-12-26T17:03:24.958Z"
   },
   {
    "duration": 8,
    "start_time": "2022-12-26T17:03:57.579Z"
   },
   {
    "duration": 14,
    "start_time": "2022-12-26T17:04:01.848Z"
   },
   {
    "duration": 17,
    "start_time": "2022-12-26T17:04:13.814Z"
   },
   {
    "duration": 10,
    "start_time": "2022-12-26T17:06:25.638Z"
   },
   {
    "duration": 6,
    "start_time": "2022-12-26T17:07:27.698Z"
   },
   {
    "duration": 6,
    "start_time": "2022-12-26T17:07:37.627Z"
   },
   {
    "duration": 13,
    "start_time": "2022-12-26T17:08:48.744Z"
   },
   {
    "duration": 8,
    "start_time": "2022-12-26T17:08:56.294Z"
   },
   {
    "duration": 14,
    "start_time": "2022-12-26T17:14:45.919Z"
   },
   {
    "duration": 10,
    "start_time": "2022-12-26T17:14:54.444Z"
   },
   {
    "duration": 46,
    "start_time": "2022-12-26T17:16:01.775Z"
   },
   {
    "duration": 6,
    "start_time": "2022-12-26T17:16:10.576Z"
   },
   {
    "duration": 6,
    "start_time": "2022-12-26T17:16:15.484Z"
   },
   {
    "duration": 7,
    "start_time": "2022-12-26T17:16:20.068Z"
   },
   {
    "duration": 9,
    "start_time": "2022-12-26T17:16:37.240Z"
   },
   {
    "duration": 9,
    "start_time": "2022-12-26T17:16:46.941Z"
   },
   {
    "duration": 15,
    "start_time": "2022-12-26T17:16:57.121Z"
   },
   {
    "duration": 6,
    "start_time": "2022-12-26T17:19:11.680Z"
   },
   {
    "duration": 5,
    "start_time": "2022-12-26T17:19:13.657Z"
   },
   {
    "duration": 15,
    "start_time": "2022-12-26T17:19:29.710Z"
   },
   {
    "duration": 460,
    "start_time": "2022-12-26T17:20:24.676Z"
   },
   {
    "duration": 4,
    "start_time": "2022-12-26T17:20:25.138Z"
   },
   {
    "duration": 14,
    "start_time": "2022-12-26T17:20:25.143Z"
   },
   {
    "duration": 7,
    "start_time": "2022-12-26T17:20:25.159Z"
   },
   {
    "duration": 288,
    "start_time": "2022-12-26T17:20:25.168Z"
   },
   {
    "duration": 22,
    "start_time": "2022-12-26T17:20:25.458Z"
   },
   {
    "duration": 2,
    "start_time": "2022-12-26T17:20:25.482Z"
   },
   {
    "duration": 9,
    "start_time": "2022-12-26T17:20:25.486Z"
   },
   {
    "duration": 8,
    "start_time": "2022-12-26T17:20:25.496Z"
   },
   {
    "duration": 8,
    "start_time": "2022-12-26T17:20:25.506Z"
   },
   {
    "duration": 8,
    "start_time": "2022-12-26T17:20:25.515Z"
   },
   {
    "duration": 19,
    "start_time": "2022-12-26T17:20:25.524Z"
   },
   {
    "duration": 10,
    "start_time": "2022-12-26T17:20:25.545Z"
   },
   {
    "duration": 7,
    "start_time": "2022-12-26T17:20:25.575Z"
   },
   {
    "duration": 17,
    "start_time": "2022-12-26T17:20:25.584Z"
   },
   {
    "duration": 6,
    "start_time": "2022-12-26T17:20:25.603Z"
   },
   {
    "duration": 9,
    "start_time": "2022-12-26T17:20:25.610Z"
   },
   {
    "duration": 14,
    "start_time": "2022-12-26T17:20:25.620Z"
   },
   {
    "duration": 4,
    "start_time": "2022-12-26T17:20:25.636Z"
   },
   {
    "duration": 272,
    "start_time": "2022-12-26T17:20:25.642Z"
   },
   {
    "duration": 262,
    "start_time": "2022-12-26T17:20:25.916Z"
   },
   {
    "duration": 170,
    "start_time": "2022-12-26T17:20:26.179Z"
   },
   {
    "duration": 310,
    "start_time": "2022-12-26T17:20:26.351Z"
   },
   {
    "duration": 21,
    "start_time": "2022-12-26T17:20:26.662Z"
   },
   {
    "duration": 9,
    "start_time": "2022-12-26T17:20:26.684Z"
   },
   {
    "duration": 20,
    "start_time": "2022-12-26T17:20:26.694Z"
   },
   {
    "duration": 210,
    "start_time": "2022-12-26T17:20:26.716Z"
   },
   {
    "duration": 271,
    "start_time": "2022-12-26T17:20:26.927Z"
   },
   {
    "duration": 8,
    "start_time": "2022-12-26T17:20:27.200Z"
   },
   {
    "duration": 128,
    "start_time": "2022-12-26T17:20:27.209Z"
   },
   {
    "duration": 5,
    "start_time": "2022-12-26T17:20:27.339Z"
   },
   {
    "duration": 141,
    "start_time": "2022-12-26T17:20:27.345Z"
   },
   {
    "duration": 4,
    "start_time": "2022-12-26T17:20:27.488Z"
   },
   {
    "duration": 589,
    "start_time": "2022-12-26T17:20:27.494Z"
   },
   {
    "duration": 125,
    "start_time": "2022-12-26T17:20:28.085Z"
   },
   {
    "duration": 26,
    "start_time": "2022-12-26T17:20:28.212Z"
   },
   {
    "duration": 9,
    "start_time": "2022-12-26T17:20:28.239Z"
   },
   {
    "duration": 28,
    "start_time": "2022-12-26T17:20:28.249Z"
   },
   {
    "duration": 27,
    "start_time": "2022-12-26T17:20:28.279Z"
   },
   {
    "duration": 11,
    "start_time": "2022-12-26T17:20:28.307Z"
   },
   {
    "duration": 7,
    "start_time": "2022-12-26T17:20:59.009Z"
   },
   {
    "duration": 8,
    "start_time": "2022-12-26T17:21:10.895Z"
   },
   {
    "duration": 6,
    "start_time": "2022-12-26T17:21:20.038Z"
   },
   {
    "duration": 7,
    "start_time": "2022-12-26T17:21:53.620Z"
   },
   {
    "duration": 300,
    "start_time": "2022-12-26T17:34:37.340Z"
   },
   {
    "duration": 393,
    "start_time": "2022-12-26T17:34:53.818Z"
   },
   {
    "duration": 185,
    "start_time": "2022-12-26T17:35:13.617Z"
   },
   {
    "duration": 160,
    "start_time": "2022-12-26T17:35:28.735Z"
   },
   {
    "duration": 205,
    "start_time": "2022-12-26T17:35:40.277Z"
   },
   {
    "duration": 181,
    "start_time": "2022-12-26T17:35:47.717Z"
   },
   {
    "duration": 45,
    "start_time": "2022-12-26T17:36:41.222Z"
   },
   {
    "duration": 201,
    "start_time": "2022-12-26T17:37:10.460Z"
   },
   {
    "duration": 338,
    "start_time": "2022-12-26T17:37:33.777Z"
   },
   {
    "duration": 202,
    "start_time": "2022-12-26T17:37:59.146Z"
   },
   {
    "duration": 307,
    "start_time": "2022-12-26T17:38:15.389Z"
   },
   {
    "duration": 132,
    "start_time": "2022-12-26T17:39:31.678Z"
   },
   {
    "duration": 183,
    "start_time": "2022-12-26T17:39:38.686Z"
   },
   {
    "duration": 96,
    "start_time": "2022-12-26T17:40:12.122Z"
   },
   {
    "duration": 111,
    "start_time": "2022-12-26T17:40:27.033Z"
   },
   {
    "duration": 123,
    "start_time": "2022-12-26T17:40:41.289Z"
   },
   {
    "duration": 266,
    "start_time": "2022-12-26T17:41:11.762Z"
   },
   {
    "duration": 171,
    "start_time": "2022-12-26T17:41:20.102Z"
   },
   {
    "duration": 134,
    "start_time": "2022-12-26T17:41:33.868Z"
   },
   {
    "duration": 30,
    "start_time": "2022-12-26T17:42:29.768Z"
   },
   {
    "duration": 74,
    "start_time": "2022-12-26T17:43:26.200Z"
   },
   {
    "duration": 11,
    "start_time": "2022-12-26T17:44:48.110Z"
   },
   {
    "duration": 30,
    "start_time": "2022-12-26T17:45:37.413Z"
   },
   {
    "duration": 11,
    "start_time": "2022-12-26T17:45:57.978Z"
   },
   {
    "duration": 27,
    "start_time": "2022-12-26T17:46:49.432Z"
   },
   {
    "duration": 14,
    "start_time": "2022-12-26T17:47:36.779Z"
   },
   {
    "duration": 48,
    "start_time": "2022-12-26T18:01:31.898Z"
   },
   {
    "duration": 53,
    "start_time": "2022-12-26T18:01:47.763Z"
   },
   {
    "duration": 47,
    "start_time": "2022-12-26T18:03:48.788Z"
   },
   {
    "duration": 57,
    "start_time": "2022-12-26T18:10:15.565Z"
   },
   {
    "duration": 423,
    "start_time": "2022-12-26T18:11:55.680Z"
   },
   {
    "duration": 4,
    "start_time": "2022-12-26T18:11:56.105Z"
   },
   {
    "duration": 10,
    "start_time": "2022-12-26T18:11:56.110Z"
   },
   {
    "duration": 7,
    "start_time": "2022-12-26T18:11:56.122Z"
   },
   {
    "duration": 257,
    "start_time": "2022-12-26T18:11:56.130Z"
   },
   {
    "duration": 23,
    "start_time": "2022-12-26T18:11:56.388Z"
   },
   {
    "duration": 2,
    "start_time": "2022-12-26T18:11:56.412Z"
   },
   {
    "duration": 22,
    "start_time": "2022-12-26T18:11:56.415Z"
   },
   {
    "duration": 18,
    "start_time": "2022-12-26T18:11:56.438Z"
   },
   {
    "duration": 10,
    "start_time": "2022-12-26T18:11:56.458Z"
   },
   {
    "duration": 13,
    "start_time": "2022-12-26T18:11:56.470Z"
   },
   {
    "duration": 15,
    "start_time": "2022-12-26T18:11:56.484Z"
   },
   {
    "duration": 15,
    "start_time": "2022-12-26T18:11:56.500Z"
   },
   {
    "duration": 7,
    "start_time": "2022-12-26T18:11:56.516Z"
   },
   {
    "duration": 11,
    "start_time": "2022-12-26T18:11:56.525Z"
   },
   {
    "duration": 15,
    "start_time": "2022-12-26T18:11:56.538Z"
   },
   {
    "duration": 4,
    "start_time": "2022-12-26T18:11:56.555Z"
   },
   {
    "duration": 261,
    "start_time": "2022-12-26T18:11:56.561Z"
   },
   {
    "duration": 262,
    "start_time": "2022-12-26T18:11:56.824Z"
   },
   {
    "duration": 188,
    "start_time": "2022-12-26T18:11:57.087Z"
   },
   {
    "duration": 306,
    "start_time": "2022-12-26T18:11:57.277Z"
   },
   {
    "duration": 15,
    "start_time": "2022-12-26T18:11:57.585Z"
   },
   {
    "duration": 13,
    "start_time": "2022-12-26T18:11:57.601Z"
   },
   {
    "duration": 19,
    "start_time": "2022-12-26T18:11:57.615Z"
   },
   {
    "duration": 229,
    "start_time": "2022-12-26T18:11:57.636Z"
   },
   {
    "duration": 338,
    "start_time": "2022-12-26T18:11:57.866Z"
   },
   {
    "duration": 8,
    "start_time": "2022-12-26T18:11:58.206Z"
   },
   {
    "duration": 131,
    "start_time": "2022-12-26T18:11:58.217Z"
   },
   {
    "duration": 4,
    "start_time": "2022-12-26T18:11:58.349Z"
   },
   {
    "duration": 130,
    "start_time": "2022-12-26T18:11:58.355Z"
   },
   {
    "duration": 4,
    "start_time": "2022-12-26T18:11:58.486Z"
   },
   {
    "duration": 631,
    "start_time": "2022-12-26T18:11:58.492Z"
   },
   {
    "duration": 139,
    "start_time": "2022-12-26T18:11:59.125Z"
   },
   {
    "duration": 34,
    "start_time": "2022-12-26T18:11:59.266Z"
   },
   {
    "duration": 10,
    "start_time": "2022-12-26T18:11:59.301Z"
   },
   {
    "duration": 8,
    "start_time": "2022-12-26T18:11:59.313Z"
   },
   {
    "duration": 28,
    "start_time": "2022-12-26T18:11:59.323Z"
   },
   {
    "duration": 13,
    "start_time": "2022-12-26T18:11:59.377Z"
   },
   {
    "duration": 54,
    "start_time": "2023-01-06T14:53:25.162Z"
   }
  ],
  "kernelspec": {
   "display_name": "Python 3 (ipykernel)",
   "language": "python",
   "name": "python3"
  },
  "language_info": {
   "codemirror_mode": {
    "name": "ipython",
    "version": 3
   },
   "file_extension": ".py",
   "mimetype": "text/x-python",
   "name": "python",
   "nbconvert_exporter": "python",
   "pygments_lexer": "ipython3",
   "version": "3.9.13"
  },
  "toc": {
   "base_numbering": 1,
   "nav_menu": {},
   "number_sections": true,
   "sideBar": true,
   "skip_h1_title": true,
   "title_cell": "Table of Contents",
   "title_sidebar": "Contents",
   "toc_cell": false,
   "toc_position": {},
   "toc_section_display": true,
   "toc_window_display": false
  }
 },
 "nbformat": 4,
 "nbformat_minor": 2
}

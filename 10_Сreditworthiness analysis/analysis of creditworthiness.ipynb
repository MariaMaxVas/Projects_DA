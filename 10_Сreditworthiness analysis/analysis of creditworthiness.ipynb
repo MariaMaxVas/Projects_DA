{
 "cells": [
  {
   "cell_type": "markdown",
   "id": "0e82fe86",
   "metadata": {},
   "source": [
    "<div class=\"alert alert-info\">\n",
    "<h2> Исследование надежности заемщиков для кредитного отдела банка<a class=\"tocSkip\"></h2>\n",
    "    \n",
    "<b>Цель:</b> выявить влияет ли семейное положение и количество детей клиента на факт погашения кредита в срок.\n",
    "    \n",
    "<b>Задача:</b> проанализировать платёжеспособность клиентов для погашения кредита в срок с учетом их семейного положения и количества детей. Результаты исследования будут учтены при построении модели кредитного скоринга — специальной системы, которая оценивает способность потенциального заёмщика вернуть кредит банку.\n",
    "\n",
    "<b>Содержание:</b>\n",
    "   1. Предобработка данных;\n",
    "   2. Исследовательский анализ данных;\n",
    "   5. Общие выводы.</div>"
   ]
  },
  {
   "cell_type": "markdown",
   "id": "a3fa9b7b",
   "metadata": {},
   "source": [
    "## Предобработка данных"
   ]
  },
  {
   "cell_type": "code",
   "execution_count": 1,
   "id": "992dd6f4",
   "metadata": {},
   "outputs": [],
   "source": [
    "import pandas as pd\n",
    "pd.options.mode.chained_assignment = None  # default='warn'"
   ]
  },
  {
   "cell_type": "code",
   "execution_count": 2,
   "id": "507a1b5c",
   "metadata": {},
   "outputs": [
    {
     "data": {
      "text/html": [
       "<div>\n",
       "<style scoped>\n",
       "    .dataframe tbody tr th:only-of-type {\n",
       "        vertical-align: middle;\n",
       "    }\n",
       "\n",
       "    .dataframe tbody tr th {\n",
       "        vertical-align: top;\n",
       "    }\n",
       "\n",
       "    .dataframe thead th {\n",
       "        text-align: right;\n",
       "    }\n",
       "</style>\n",
       "<table border=\"1\" class=\"dataframe\">\n",
       "  <thead>\n",
       "    <tr style=\"text-align: right;\">\n",
       "      <th></th>\n",
       "      <th>children</th>\n",
       "      <th>days_employed</th>\n",
       "      <th>dob_years</th>\n",
       "      <th>education</th>\n",
       "      <th>education_id</th>\n",
       "      <th>family_status</th>\n",
       "      <th>family_status_id</th>\n",
       "      <th>gender</th>\n",
       "      <th>income_type</th>\n",
       "      <th>debt</th>\n",
       "      <th>total_income</th>\n",
       "      <th>purpose</th>\n",
       "    </tr>\n",
       "  </thead>\n",
       "  <tbody>\n",
       "    <tr>\n",
       "      <th>0</th>\n",
       "      <td>1</td>\n",
       "      <td>-8437.673028</td>\n",
       "      <td>42</td>\n",
       "      <td>высшее</td>\n",
       "      <td>0</td>\n",
       "      <td>женат / замужем</td>\n",
       "      <td>0</td>\n",
       "      <td>F</td>\n",
       "      <td>сотрудник</td>\n",
       "      <td>0</td>\n",
       "      <td>253875.639453</td>\n",
       "      <td>покупка жилья</td>\n",
       "    </tr>\n",
       "    <tr>\n",
       "      <th>1</th>\n",
       "      <td>1</td>\n",
       "      <td>-4024.803754</td>\n",
       "      <td>36</td>\n",
       "      <td>среднее</td>\n",
       "      <td>1</td>\n",
       "      <td>женат / замужем</td>\n",
       "      <td>0</td>\n",
       "      <td>F</td>\n",
       "      <td>сотрудник</td>\n",
       "      <td>0</td>\n",
       "      <td>112080.014102</td>\n",
       "      <td>приобретение автомобиля</td>\n",
       "    </tr>\n",
       "    <tr>\n",
       "      <th>2</th>\n",
       "      <td>0</td>\n",
       "      <td>-5623.422610</td>\n",
       "      <td>33</td>\n",
       "      <td>Среднее</td>\n",
       "      <td>1</td>\n",
       "      <td>женат / замужем</td>\n",
       "      <td>0</td>\n",
       "      <td>M</td>\n",
       "      <td>сотрудник</td>\n",
       "      <td>0</td>\n",
       "      <td>145885.952297</td>\n",
       "      <td>покупка жилья</td>\n",
       "    </tr>\n",
       "    <tr>\n",
       "      <th>3</th>\n",
       "      <td>3</td>\n",
       "      <td>-4124.747207</td>\n",
       "      <td>32</td>\n",
       "      <td>среднее</td>\n",
       "      <td>1</td>\n",
       "      <td>женат / замужем</td>\n",
       "      <td>0</td>\n",
       "      <td>M</td>\n",
       "      <td>сотрудник</td>\n",
       "      <td>0</td>\n",
       "      <td>267628.550329</td>\n",
       "      <td>дополнительное образование</td>\n",
       "    </tr>\n",
       "    <tr>\n",
       "      <th>4</th>\n",
       "      <td>0</td>\n",
       "      <td>340266.072047</td>\n",
       "      <td>53</td>\n",
       "      <td>среднее</td>\n",
       "      <td>1</td>\n",
       "      <td>гражданский брак</td>\n",
       "      <td>1</td>\n",
       "      <td>F</td>\n",
       "      <td>пенсионер</td>\n",
       "      <td>0</td>\n",
       "      <td>158616.077870</td>\n",
       "      <td>сыграть свадьбу</td>\n",
       "    </tr>\n",
       "    <tr>\n",
       "      <th>...</th>\n",
       "      <td>...</td>\n",
       "      <td>...</td>\n",
       "      <td>...</td>\n",
       "      <td>...</td>\n",
       "      <td>...</td>\n",
       "      <td>...</td>\n",
       "      <td>...</td>\n",
       "      <td>...</td>\n",
       "      <td>...</td>\n",
       "      <td>...</td>\n",
       "      <td>...</td>\n",
       "      <td>...</td>\n",
       "    </tr>\n",
       "    <tr>\n",
       "      <th>21520</th>\n",
       "      <td>1</td>\n",
       "      <td>-4529.316663</td>\n",
       "      <td>43</td>\n",
       "      <td>среднее</td>\n",
       "      <td>1</td>\n",
       "      <td>гражданский брак</td>\n",
       "      <td>1</td>\n",
       "      <td>F</td>\n",
       "      <td>компаньон</td>\n",
       "      <td>0</td>\n",
       "      <td>224791.862382</td>\n",
       "      <td>операции с жильем</td>\n",
       "    </tr>\n",
       "    <tr>\n",
       "      <th>21521</th>\n",
       "      <td>0</td>\n",
       "      <td>343937.404131</td>\n",
       "      <td>67</td>\n",
       "      <td>среднее</td>\n",
       "      <td>1</td>\n",
       "      <td>женат / замужем</td>\n",
       "      <td>0</td>\n",
       "      <td>F</td>\n",
       "      <td>пенсионер</td>\n",
       "      <td>0</td>\n",
       "      <td>155999.806512</td>\n",
       "      <td>сделка с автомобилем</td>\n",
       "    </tr>\n",
       "    <tr>\n",
       "      <th>21522</th>\n",
       "      <td>1</td>\n",
       "      <td>-2113.346888</td>\n",
       "      <td>38</td>\n",
       "      <td>среднее</td>\n",
       "      <td>1</td>\n",
       "      <td>гражданский брак</td>\n",
       "      <td>1</td>\n",
       "      <td>M</td>\n",
       "      <td>сотрудник</td>\n",
       "      <td>1</td>\n",
       "      <td>89672.561153</td>\n",
       "      <td>недвижимость</td>\n",
       "    </tr>\n",
       "    <tr>\n",
       "      <th>21523</th>\n",
       "      <td>3</td>\n",
       "      <td>-3112.481705</td>\n",
       "      <td>38</td>\n",
       "      <td>среднее</td>\n",
       "      <td>1</td>\n",
       "      <td>женат / замужем</td>\n",
       "      <td>0</td>\n",
       "      <td>M</td>\n",
       "      <td>сотрудник</td>\n",
       "      <td>1</td>\n",
       "      <td>244093.050500</td>\n",
       "      <td>на покупку своего автомобиля</td>\n",
       "    </tr>\n",
       "    <tr>\n",
       "      <th>21524</th>\n",
       "      <td>2</td>\n",
       "      <td>-1984.507589</td>\n",
       "      <td>40</td>\n",
       "      <td>среднее</td>\n",
       "      <td>1</td>\n",
       "      <td>женат / замужем</td>\n",
       "      <td>0</td>\n",
       "      <td>F</td>\n",
       "      <td>сотрудник</td>\n",
       "      <td>0</td>\n",
       "      <td>82047.418899</td>\n",
       "      <td>на покупку автомобиля</td>\n",
       "    </tr>\n",
       "  </tbody>\n",
       "</table>\n",
       "<p>21525 rows × 12 columns</p>\n",
       "</div>"
      ],
      "text/plain": [
       "       children  days_employed  dob_years education  education_id  \\\n",
       "0             1   -8437.673028         42    высшее             0   \n",
       "1             1   -4024.803754         36   среднее             1   \n",
       "2             0   -5623.422610         33   Среднее             1   \n",
       "3             3   -4124.747207         32   среднее             1   \n",
       "4             0  340266.072047         53   среднее             1   \n",
       "...         ...            ...        ...       ...           ...   \n",
       "21520         1   -4529.316663         43   среднее             1   \n",
       "21521         0  343937.404131         67   среднее             1   \n",
       "21522         1   -2113.346888         38   среднее             1   \n",
       "21523         3   -3112.481705         38   среднее             1   \n",
       "21524         2   -1984.507589         40   среднее             1   \n",
       "\n",
       "          family_status  family_status_id gender income_type  debt  \\\n",
       "0       женат / замужем                 0      F   сотрудник     0   \n",
       "1       женат / замужем                 0      F   сотрудник     0   \n",
       "2       женат / замужем                 0      M   сотрудник     0   \n",
       "3       женат / замужем                 0      M   сотрудник     0   \n",
       "4      гражданский брак                 1      F   пенсионер     0   \n",
       "...                 ...               ...    ...         ...   ...   \n",
       "21520  гражданский брак                 1      F   компаньон     0   \n",
       "21521   женат / замужем                 0      F   пенсионер     0   \n",
       "21522  гражданский брак                 1      M   сотрудник     1   \n",
       "21523   женат / замужем                 0      M   сотрудник     1   \n",
       "21524   женат / замужем                 0      F   сотрудник     0   \n",
       "\n",
       "        total_income                       purpose  \n",
       "0      253875.639453                 покупка жилья  \n",
       "1      112080.014102       приобретение автомобиля  \n",
       "2      145885.952297                 покупка жилья  \n",
       "3      267628.550329    дополнительное образование  \n",
       "4      158616.077870               сыграть свадьбу  \n",
       "...              ...                           ...  \n",
       "21520  224791.862382             операции с жильем  \n",
       "21521  155999.806512          сделка с автомобилем  \n",
       "21522   89672.561153                  недвижимость  \n",
       "21523  244093.050500  на покупку своего автомобиля  \n",
       "21524   82047.418899         на покупку автомобиля  \n",
       "\n",
       "[21525 rows x 12 columns]"
      ]
     },
     "execution_count": 2,
     "metadata": {},
     "output_type": "execute_result"
    }
   ],
   "source": [
    "data = pd.read_csv('/datasets/data.csv')\n",
    "data"
   ]
  },
  {
   "cell_type": "code",
   "execution_count": 3,
   "id": "252648c6",
   "metadata": {},
   "outputs": [
    {
     "name": "stdout",
     "output_type": "stream",
     "text": [
      "<class 'pandas.core.frame.DataFrame'>\n",
      "RangeIndex: 21525 entries, 0 to 21524\n",
      "Data columns (total 12 columns):\n",
      " #   Column            Non-Null Count  Dtype  \n",
      "---  ------            --------------  -----  \n",
      " 0   children          21525 non-null  int64  \n",
      " 1   days_employed     19351 non-null  float64\n",
      " 2   dob_years         21525 non-null  int64  \n",
      " 3   education         21525 non-null  object \n",
      " 4   education_id      21525 non-null  int64  \n",
      " 5   family_status     21525 non-null  object \n",
      " 6   family_status_id  21525 non-null  int64  \n",
      " 7   gender            21525 non-null  object \n",
      " 8   income_type       21525 non-null  object \n",
      " 9   debt              21525 non-null  int64  \n",
      " 10  total_income      19351 non-null  float64\n",
      " 11  purpose           21525 non-null  object \n",
      "dtypes: float64(2), int64(5), object(5)\n",
      "memory usage: 2.0+ MB\n"
     ]
    }
   ],
   "source": [
    "#проверка основной информации о таблице\n",
    "data.info()"
   ]
  },
  {
   "cell_type": "code",
   "execution_count": 4,
   "id": "7973b4d4",
   "metadata": {},
   "outputs": [
    {
     "data": {
      "text/plain": [
       "children               0\n",
       "days_employed       2174\n",
       "dob_years              0\n",
       "education              0\n",
       "education_id           0\n",
       "family_status          0\n",
       "family_status_id       0\n",
       "gender                 0\n",
       "income_type            0\n",
       "debt                   0\n",
       "total_income        2174\n",
       "purpose                0\n",
       "dtype: int64"
      ]
     },
     "execution_count": 4,
     "metadata": {},
     "output_type": "execute_result"
    }
   ],
   "source": [
    "#проверка пропусков\n",
    "data.isna().sum()"
   ]
  },
  {
   "cell_type": "code",
   "execution_count": 5,
   "id": "865e7922",
   "metadata": {},
   "outputs": [],
   "source": [
    "# заполнила пропуски в столбце total_income медианным значением по каждому типу из столбца income_type\n",
    "for t in data['income_type'].unique():\n",
    "    data.loc[(data['income_type'] == t) & (data['total_income'].isna()), 'total_income'] = \\\n",
    "    data.loc[(data['income_type'] == t), 'total_income'].median()"
   ]
  },
  {
   "cell_type": "code",
   "execution_count": 6,
   "id": "a2afdec5",
   "metadata": {},
   "outputs": [],
   "source": [
    "#заменила все отрицательные значения (аномалии) положительными с помощью метода abs()\n",
    "data['days_employed'] = data['days_employed'].abs()"
   ]
  },
  {
   "cell_type": "code",
   "execution_count": 7,
   "id": "fbef602a",
   "metadata": {},
   "outputs": [
    {
     "data": {
      "text/plain": [
       "income_type\n",
       "безработный        366413.652744\n",
       "в декрете            3296.759962\n",
       "госслужащий          2689.368353\n",
       "компаньон            1547.382223\n",
       "пенсионер          365213.306266\n",
       "предприниматель       520.848083\n",
       "сотрудник            1574.202821\n",
       "студент               578.751554\n",
       "Name: days_employed, dtype: float64"
      ]
     },
     "execution_count": 7,
     "metadata": {},
     "output_type": "execute_result"
    }
   ],
   "source": [
    "#Для каждого типа занятости выведила медианное значение трудового стажа days_employed в днях. \n",
    "data.groupby('income_type')['days_employed'].agg('median')"
   ]
  },
  {
   "cell_type": "markdown",
   "id": "909fa9fb",
   "metadata": {},
   "source": [
    "У двух типов (безработные и пенсионеры) получатся аномально большие значения. Поскольку исправить такие значения сложно, оставила их как есть."
   ]
  },
  {
   "cell_type": "code",
   "execution_count": 8,
   "id": "c52e7d26",
   "metadata": {},
   "outputs": [
    {
     "data": {
      "text/plain": [
       "array([ 1,  0,  3,  2, -1,  4, 20,  5], dtype=int64)"
      ]
     },
     "execution_count": 8,
     "metadata": {},
     "output_type": "execute_result"
    }
   ],
   "source": [
    "# проверка уникальных значений столбца children\n",
    "data['children'].unique()"
   ]
  },
  {
   "cell_type": "code",
   "execution_count": 9,
   "id": "81788dcf",
   "metadata": {},
   "outputs": [
    {
     "data": {
      "text/plain": [
       "array([1, 0, 3, 2, 4, 5], dtype=int64)"
      ]
     },
     "execution_count": 9,
     "metadata": {},
     "output_type": "execute_result"
    }
   ],
   "source": [
    "# удалила  два аномальных значения столбца children (20 и -1)\n",
    "data = data[(data['children'] != -1) & (data['children'] != 20)]\n",
    "data['children'].unique()"
   ]
  },
  {
   "cell_type": "code",
   "execution_count": 10,
   "id": "2a9ccb4b",
   "metadata": {},
   "outputs": [],
   "source": [
    "# заполнила пропуски в столбце days_employed медианными значениями по каждого типа занятости income_type.\n",
    "for t in data['income_type'].unique():\n",
    "    data.loc[(data['income_type'] == t) & (data['days_employed'].isna()), 'days_employed'] = \\\n",
    "    data.loc[(data['income_type'] == t), 'days_employed'].median()"
   ]
  },
  {
   "cell_type": "code",
   "execution_count": 11,
   "id": "6bbd4a6d",
   "metadata": {},
   "outputs": [
    {
     "data": {
      "text/plain": [
       "children            0\n",
       "days_employed       0\n",
       "dob_years           0\n",
       "education           0\n",
       "education_id        0\n",
       "family_status       0\n",
       "family_status_id    0\n",
       "gender              0\n",
       "income_type         0\n",
       "debt                0\n",
       "total_income        0\n",
       "purpose             0\n",
       "dtype: int64"
      ]
     },
     "execution_count": 11,
     "metadata": {},
     "output_type": "execute_result"
    }
   ],
   "source": [
    "#проверка пропусков\n",
    "data.isna().sum()"
   ]
  },
  {
   "cell_type": "code",
   "execution_count": 12,
   "id": "58ad418a",
   "metadata": {},
   "outputs": [],
   "source": [
    "#изменение типа данных в total_income\n",
    "data['total_income'] = data['total_income'].astype(int)"
   ]
  },
  {
   "cell_type": "code",
   "execution_count": 13,
   "id": "eb56e94d",
   "metadata": {},
   "outputs": [
    {
     "data": {
      "text/plain": [
       "array(['высшее', 'среднее', 'Среднее', 'СРЕДНЕЕ', 'ВЫСШЕЕ',\n",
       "       'неоконченное высшее', 'начальное', 'Высшее',\n",
       "       'НЕОКОНЧЕННОЕ ВЫСШЕЕ', 'Неоконченное высшее', 'НАЧАЛЬНОЕ',\n",
       "       'Начальное', 'Ученая степень', 'УЧЕНАЯ СТЕПЕНЬ', 'ученая степень'],\n",
       "      dtype=object)"
      ]
     },
     "execution_count": 13,
     "metadata": {},
     "output_type": "execute_result"
    }
   ],
   "source": [
    "#проверка названий в столбце education.\n",
    "data['education'].unique()"
   ]
  },
  {
   "cell_type": "code",
   "execution_count": 14,
   "id": "e0782e6e",
   "metadata": {},
   "outputs": [],
   "source": [
    "#приведение к нижнему регистру названий в столбце education\n",
    "data['education'] = data['education'].str.lower()"
   ]
  },
  {
   "cell_type": "code",
   "execution_count": 15,
   "id": "5de1e067",
   "metadata": {
    "scrolled": true
   },
   "outputs": [
    {
     "data": {
      "text/plain": [
       "71"
      ]
     },
     "execution_count": 15,
     "metadata": {},
     "output_type": "execute_result"
    }
   ],
   "source": [
    "# проверка на явные дубликаты\n",
    "data.duplicated().sum()"
   ]
  },
  {
   "cell_type": "code",
   "execution_count": 16,
   "id": "af8fb2b5",
   "metadata": {},
   "outputs": [
    {
     "data": {
      "text/plain": [
       "0"
      ]
     },
     "execution_count": 16,
     "metadata": {},
     "output_type": "execute_result"
    }
   ],
   "source": [
    "# удаление явных дубликатов\n",
    "data = data.drop_duplicates()\n",
    "data.duplicated().sum()"
   ]
  },
  {
   "cell_type": "code",
   "execution_count": 17,
   "id": "0c5dcd8e",
   "metadata": {},
   "outputs": [
    {
     "data": {
      "text/plain": [
       "0        B\n",
       "1        C\n",
       "2        C\n",
       "3        B\n",
       "4        C\n",
       "        ..\n",
       "21520    B\n",
       "21521    C\n",
       "21522    C\n",
       "21523    B\n",
       "21524    C\n",
       "Name: total_income_category, Length: 21331, dtype: object"
      ]
     },
     "execution_count": 17,
     "metadata": {},
     "output_type": "execute_result"
    }
   ],
   "source": [
    "# категоризация данных доходов\n",
    "def categorize_income(income):\n",
    "    try:\n",
    "        if 0 <= income <= 30000:\n",
    "            return 'E'\n",
    "        elif 30001 <= income <= 50000:\n",
    "            return 'D'\n",
    "        elif 50001 <= income <= 200000:\n",
    "            return 'C'\n",
    "        elif 200001 <= income <= 1000000:\n",
    "            return 'B'\n",
    "        elif income >= 1000001:\n",
    "            return 'A'\n",
    "    except:\n",
    "        pass\n",
    "data['total_income_category'] = data['total_income'].apply(categorize_income)\n",
    "data['total_income_category']"
   ]
  },
  {
   "cell_type": "code",
   "execution_count": 18,
   "id": "7e699b9b",
   "metadata": {},
   "outputs": [
    {
     "data": {
      "text/plain": [
       "array(['покупка жилья', 'приобретение автомобиля',\n",
       "       'дополнительное образование', 'сыграть свадьбу',\n",
       "       'операции с жильем', 'образование', 'на проведение свадьбы',\n",
       "       'покупка жилья для семьи', 'покупка недвижимости',\n",
       "       'покупка коммерческой недвижимости', 'покупка жилой недвижимости',\n",
       "       'строительство собственной недвижимости', 'недвижимость',\n",
       "       'строительство недвижимости', 'на покупку подержанного автомобиля',\n",
       "       'на покупку своего автомобиля',\n",
       "       'операции с коммерческой недвижимостью',\n",
       "       'строительство жилой недвижимости', 'жилье',\n",
       "       'операции со своей недвижимостью', 'автомобили',\n",
       "       'заняться образованием', 'сделка с подержанным автомобилем',\n",
       "       'получение образования', 'автомобиль', 'свадьба',\n",
       "       'получение дополнительного образования', 'покупка своего жилья',\n",
       "       'операции с недвижимостью', 'получение высшего образования',\n",
       "       'свой автомобиль', 'сделка с автомобилем',\n",
       "       'профильное образование', 'высшее образование',\n",
       "       'покупка жилья для сдачи', 'на покупку автомобиля', 'ремонт жилью',\n",
       "       'заняться высшим образованием'], dtype=object)"
      ]
     },
     "execution_count": 18,
     "metadata": {},
     "output_type": "execute_result"
    }
   ],
   "source": [
    "#перечень уникальных целей взятия кредита\n",
    "data['purpose'].unique()"
   ]
  },
  {
   "cell_type": "code",
   "execution_count": 19,
   "id": "13640057",
   "metadata": {},
   "outputs": [],
   "source": [
    "# категоризация целей взятия кредита\n",
    "def categorize_purpose(row):\n",
    "    try:\n",
    "        if 'автом' in row:\n",
    "            return 'операции с автомобилем'\n",
    "        elif 'жил' in row or 'недвиж' in row:\n",
    "            return 'операции с недвижимостью'\n",
    "        elif 'свад' in row:\n",
    "            return 'проведение свадьбы'\n",
    "        elif 'образов' in row:\n",
    "            return 'получение образования'\n",
    "    except:\n",
    "        return 'нет категории'\n",
    "data['purpose_category'] = data['purpose'].apply(categorize_purpose)"
   ]
  },
  {
   "cell_type": "markdown",
   "id": "b92dfdf4",
   "metadata": {},
   "source": [
    "## Исследовательский анализ данных"
   ]
  },
  {
   "cell_type": "markdown",
   "id": "091c7273",
   "metadata": {},
   "source": [
    "### Проверка наличия зависимости между количеством детей и возвратом кредита в срок"
   ]
  },
  {
   "cell_type": "code",
   "execution_count": 20,
   "id": "deeaa02f",
   "metadata": {
    "scrolled": true
   },
   "outputs": [
    {
     "data": {
      "text/html": [
       "<style type=\"text/css\">\n",
       "</style>\n",
       "<table id=\"T_082e0\">\n",
       "  <thead>\n",
       "    <tr>\n",
       "      <th class=\"blank level0\" >&nbsp;</th>\n",
       "      <th id=\"T_082e0_level0_col0\" class=\"col_heading level0 col0\" >children</th>\n",
       "      <th id=\"T_082e0_level0_col1\" class=\"col_heading level0 col1\" colspan=\"2\">debt</th>\n",
       "    </tr>\n",
       "    <tr>\n",
       "      <th class=\"blank level1\" >&nbsp;</th>\n",
       "      <th id=\"T_082e0_level1_col0\" class=\"col_heading level1 col0\" ></th>\n",
       "      <th id=\"T_082e0_level1_col1\" class=\"col_heading level1 col1\" >count</th>\n",
       "      <th id=\"T_082e0_level1_col2\" class=\"col_heading level1 col2\" >mean</th>\n",
       "    </tr>\n",
       "  </thead>\n",
       "  <tbody>\n",
       "    <tr>\n",
       "      <th id=\"T_082e0_level0_row0\" class=\"row_heading level0 row0\" >0</th>\n",
       "      <td id=\"T_082e0_row0_col0\" class=\"data row0 col0\" >0</td>\n",
       "      <td id=\"T_082e0_row0_col1\" class=\"data row0 col1\" >14091</td>\n",
       "      <td id=\"T_082e0_row0_col2\" class=\"data row0 col2\" >7.54%</td>\n",
       "    </tr>\n",
       "    <tr>\n",
       "      <th id=\"T_082e0_level0_row1\" class=\"row_heading level0 row1\" >1</th>\n",
       "      <td id=\"T_082e0_row1_col0\" class=\"data row1 col0\" >1</td>\n",
       "      <td id=\"T_082e0_row1_col1\" class=\"data row1 col1\" >4808</td>\n",
       "      <td id=\"T_082e0_row1_col2\" class=\"data row1 col2\" >9.23%</td>\n",
       "    </tr>\n",
       "    <tr>\n",
       "      <th id=\"T_082e0_level0_row2\" class=\"row_heading level0 row2\" >2</th>\n",
       "      <td id=\"T_082e0_row2_col0\" class=\"data row2 col0\" >2</td>\n",
       "      <td id=\"T_082e0_row2_col1\" class=\"data row2 col1\" >2052</td>\n",
       "      <td id=\"T_082e0_row2_col2\" class=\"data row2 col2\" >9.45%</td>\n",
       "    </tr>\n",
       "    <tr>\n",
       "      <th id=\"T_082e0_level0_row3\" class=\"row_heading level0 row3\" >3</th>\n",
       "      <td id=\"T_082e0_row3_col0\" class=\"data row3 col0\" >3</td>\n",
       "      <td id=\"T_082e0_row3_col1\" class=\"data row3 col1\" >330</td>\n",
       "      <td id=\"T_082e0_row3_col2\" class=\"data row3 col2\" >8.18%</td>\n",
       "    </tr>\n",
       "    <tr>\n",
       "      <th id=\"T_082e0_level0_row4\" class=\"row_heading level0 row4\" >4</th>\n",
       "      <td id=\"T_082e0_row4_col0\" class=\"data row4 col0\" >4</td>\n",
       "      <td id=\"T_082e0_row4_col1\" class=\"data row4 col1\" >41</td>\n",
       "      <td id=\"T_082e0_row4_col2\" class=\"data row4 col2\" >9.76%</td>\n",
       "    </tr>\n",
       "    <tr>\n",
       "      <th id=\"T_082e0_level0_row5\" class=\"row_heading level0 row5\" >5</th>\n",
       "      <td id=\"T_082e0_row5_col0\" class=\"data row5 col0\" >5</td>\n",
       "      <td id=\"T_082e0_row5_col1\" class=\"data row5 col1\" >9</td>\n",
       "      <td id=\"T_082e0_row5_col2\" class=\"data row5 col2\" >0.00%</td>\n",
       "    </tr>\n",
       "  </tbody>\n",
       "</table>\n"
      ],
      "text/plain": [
       "<pandas.io.formats.style.Styler at 0x18f02848100>"
      ]
     },
     "execution_count": 20,
     "metadata": {},
     "output_type": "execute_result"
    }
   ],
   "source": [
    "#сводная таблица количества детей, кредита и вероятности просрочки в каждой из групп\n",
    "data_children = data.groupby('children').agg({'debt': ['count', 'mean']}).reset_index()\n",
    "data_children = data_children.style.format({('debt', 'mean'): '{:.2%}'})\n",
    "data_children.columns = ['children', 'debt', 'mean' ]\n",
    "data_children"
   ]
  },
  {
   "cell_type": "code",
   "execution_count": 21,
   "id": "4865fcfc",
   "metadata": {
    "scrolled": true
   },
   "outputs": [
    {
     "data": {
      "image/png": "[encoded data removed]",
      "text/plain": [
       "<Figure size 640x480 with 1 Axes>"
      ]
     },
     "metadata": {},
     "output_type": "display_data"
    }
   ],
   "source": [
    "# визуализации данных по среднему значению\n",
    "data.groupby('children')['debt'].mean().plot(grid=True).set(title = \"зависимость между количеством детей и возвратом кредита в срок\", xlabel ='количество детей');"
   ]
  },
  {
   "cell_type": "markdown",
   "id": "5efe5d7e",
   "metadata": {},
   "source": [
    "**Вывод:**  Если смотреть на процентное соотношение, то группа клиентов без детей берет больше всего долгов, но имеет больше вероятность что они вернут их в срок. В тоже время чем больше у клиента детей, тем больше вероятность просрочки. Однако, тогда здесь выделяется группа клиентов с 5-мю детьми, поскольку их всего 9. Такие данные нерепрезентативные. Также выбиваются группы с 3-мя и 4-я детьми, также с небольшим количеством клиентов. Тем не менее, можно увидеть небольшую зависимость у группы «без детей» и с 1-м и 2-мя детьми."
   ]
  },
  {
   "cell_type": "markdown",
   "id": "2674eae0",
   "metadata": {},
   "source": [
    "### Проверка наличия зависимости между семейным положением и возвратом кредита в срок"
   ]
  },
  {
   "cell_type": "code",
   "execution_count": 22,
   "id": "06dbcaf0",
   "metadata": {},
   "outputs": [
    {
     "data": {
      "text/html": [
       "<style type=\"text/css\">\n",
       "</style>\n",
       "<table id=\"T_0fdbb\">\n",
       "  <thead>\n",
       "    <tr>\n",
       "      <th class=\"blank level0\" >&nbsp;</th>\n",
       "      <th id=\"T_0fdbb_level0_col0\" class=\"col_heading level0 col0\" >dob_years</th>\n",
       "    </tr>\n",
       "    <tr>\n",
       "      <th class=\"blank level1\" >&nbsp;</th>\n",
       "      <th id=\"T_0fdbb_level1_col0\" class=\"col_heading level1 col0\" >mean</th>\n",
       "    </tr>\n",
       "    <tr>\n",
       "      <th class=\"index_name level0\" >family_status</th>\n",
       "      <th class=\"blank col0\" >&nbsp;</th>\n",
       "    </tr>\n",
       "  </thead>\n",
       "  <tbody>\n",
       "    <tr>\n",
       "      <th id=\"T_0fdbb_level0_row0\" class=\"row_heading level0 row0\" >Не женат / не замужем</th>\n",
       "      <td id=\"T_0fdbb_row0_col0\" class=\"data row0 col0\" >38.368026</td>\n",
       "    </tr>\n",
       "    <tr>\n",
       "      <th id=\"T_0fdbb_level0_row1\" class=\"row_heading level0 row1\" >в разводе</th>\n",
       "      <td id=\"T_0fdbb_row1_col0\" class=\"data row1 col0\" >45.561817</td>\n",
       "    </tr>\n",
       "    <tr>\n",
       "      <th id=\"T_0fdbb_level0_row2\" class=\"row_heading level0 row2\" >вдовец / вдова</th>\n",
       "      <td id=\"T_0fdbb_row2_col0\" class=\"data row2 col0\" >56.501577</td>\n",
       "    </tr>\n",
       "    <tr>\n",
       "      <th id=\"T_0fdbb_level0_row3\" class=\"row_heading level0 row3\" >гражданский брак</th>\n",
       "      <td id=\"T_0fdbb_row3_col0\" class=\"data row3 col0\" >42.067731</td>\n",
       "    </tr>\n",
       "    <tr>\n",
       "      <th id=\"T_0fdbb_level0_row4\" class=\"row_heading level0 row4\" >женат / замужем</th>\n",
       "      <td id=\"T_0fdbb_row4_col0\" class=\"data row4 col0\" >43.558519</td>\n",
       "    </tr>\n",
       "  </tbody>\n",
       "</table>\n"
      ],
      "text/plain": [
       "<pandas.io.formats.style.Styler at 0x18f02848550>"
      ]
     },
     "metadata": {},
     "output_type": "display_data"
    }
   ],
   "source": [
    "#сводная таблица по семейному положению и вероятности просрочки в каждой из групп\n",
    "data_family=  data.groupby('family_status').agg({'dob_years': ['mean']})\n",
    "display(data_family.style.format({('debt', 'mean'): '{:.2%}'}))"
   ]
  },
  {
   "cell_type": "code",
   "execution_count": 23,
   "id": "b3d963d1",
   "metadata": {},
   "outputs": [
    {
     "data": {
      "image/png": "[encoded data removed]",
      "text/plain": [
       "<Figure size 640x480 with 1 Axes>"
      ]
     },
     "metadata": {},
     "output_type": "display_data"
    }
   ],
   "source": [
    "# визуализации данных по среднему значению\n",
    "data.groupby('family_status')['debt'].mean().plot(grid=True, rot=45, ylim=0).set(title = \"зависимость между семейным положением и возвратом кредита в срок\", xlabel ='семейное положение');"
   ]
  },
  {
   "cell_type": "markdown",
   "id": "e93ccca0",
   "metadata": {},
   "source": [
    "**Вывод:** Большое количество замужних/женатых клиентов имеют большую вероятность вернуть кредиты в срок. Скорее всего за счет помощи со стороны мужа/жены. А группы не замужних и состоящих в гражданском браке меньше всего рассчитывают на стороннюю помощь и тем самым имеют большую вероятность просрочки кредитов.\n",
    "Также было интересно посмотреть почему клиенты в разводе и клиенты вдовцы меньше всего берут кредиты и с большей вероятностью возвращают их в срок. Гипотезой была вероятность, что клиенты старше возрастом и имеют меньше желаний и целей для взятия кредитов. Дополнительные расчеты показали, что их средние возрасты за 45 и 56 лет, что вполне может доказывать гипотезу. Таким образом, зависимость между семейным положением и возвратом кредита в срок есть."
   ]
  },
  {
   "cell_type": "markdown",
   "id": "9d564e48",
   "metadata": {},
   "source": [
    "### Проверка наличия зависимости между уровнем дохода и возвратом кредита в срок"
   ]
  },
  {
   "cell_type": "code",
   "execution_count": 24,
   "id": "eccc8aa6",
   "metadata": {},
   "outputs": [
    {
     "data": {
      "text/html": [
       "<style type=\"text/css\">\n",
       "</style>\n",
       "<table id=\"T_3dded\">\n",
       "  <thead>\n",
       "    <tr>\n",
       "      <th class=\"blank level0\" >&nbsp;</th>\n",
       "      <th id=\"T_3dded_level0_col0\" class=\"col_heading level0 col0\" colspan=\"2\">debt</th>\n",
       "    </tr>\n",
       "    <tr>\n",
       "      <th class=\"blank level1\" >&nbsp;</th>\n",
       "      <th id=\"T_3dded_level1_col0\" class=\"col_heading level1 col0\" >count</th>\n",
       "      <th id=\"T_3dded_level1_col1\" class=\"col_heading level1 col1\" >mean</th>\n",
       "    </tr>\n",
       "    <tr>\n",
       "      <th class=\"index_name level0\" >total_income_category</th>\n",
       "      <th class=\"blank col0\" >&nbsp;</th>\n",
       "      <th class=\"blank col1\" >&nbsp;</th>\n",
       "    </tr>\n",
       "  </thead>\n",
       "  <tbody>\n",
       "    <tr>\n",
       "      <th id=\"T_3dded_level0_row0\" class=\"row_heading level0 row0\" >A</th>\n",
       "      <td id=\"T_3dded_row0_col0\" class=\"data row0 col0\" >25</td>\n",
       "      <td id=\"T_3dded_row0_col1\" class=\"data row0 col1\" >8.00%</td>\n",
       "    </tr>\n",
       "    <tr>\n",
       "      <th id=\"T_3dded_level0_row1\" class=\"row_heading level0 row1\" >B</th>\n",
       "      <td id=\"T_3dded_row1_col0\" class=\"data row1 col0\" >5014</td>\n",
       "      <td id=\"T_3dded_row1_col1\" class=\"data row1 col1\" >7.06%</td>\n",
       "    </tr>\n",
       "    <tr>\n",
       "      <th id=\"T_3dded_level0_row2\" class=\"row_heading level0 row2\" >C</th>\n",
       "      <td id=\"T_3dded_row2_col0\" class=\"data row2 col0\" >15921</td>\n",
       "      <td id=\"T_3dded_row2_col1\" class=\"data row2 col1\" >8.50%</td>\n",
       "    </tr>\n",
       "    <tr>\n",
       "      <th id=\"T_3dded_level0_row3\" class=\"row_heading level0 row3\" >D</th>\n",
       "      <td id=\"T_3dded_row3_col0\" class=\"data row3 col0\" >349</td>\n",
       "      <td id=\"T_3dded_row3_col1\" class=\"data row3 col1\" >6.02%</td>\n",
       "    </tr>\n",
       "    <tr>\n",
       "      <th id=\"T_3dded_level0_row4\" class=\"row_heading level0 row4\" >E</th>\n",
       "      <td id=\"T_3dded_row4_col0\" class=\"data row4 col0\" >22</td>\n",
       "      <td id=\"T_3dded_row4_col1\" class=\"data row4 col1\" >9.09%</td>\n",
       "    </tr>\n",
       "  </tbody>\n",
       "</table>\n"
      ],
      "text/plain": [
       "<pandas.io.formats.style.Styler at 0x18f04f05bb0>"
      ]
     },
     "metadata": {},
     "output_type": "display_data"
    }
   ],
   "source": [
    "#сводная таблица уровня дохода, кредита и вероятности просрочки в каждой из групп\n",
    "data_income = data.groupby('total_income_category').agg({'debt': ['count', 'mean']})\n",
    "display(data_income.style.format({('debt', 'mean'): '{:.2%}'})) "
   ]
  },
  {
   "cell_type": "code",
   "execution_count": 25,
   "id": "1303e377",
   "metadata": {},
   "outputs": [
    {
     "data": {
      "image/png": "[encoded data removed]",
      "text/plain": [
       "<Figure size 640x480 with 1 Axes>"
      ]
     },
     "metadata": {},
     "output_type": "display_data"
    }
   ],
   "source": [
    "# визуализации данных по среднему значению\n",
    "data.groupby('total_income_category')['debt'].mean().plot(grid=True,ylim=0).set(title = \"зависимость между уровнем дохода и возвратом кредита в срок\", xlabel ='уровень дохода');"
   ]
  },
  {
   "cell_type": "markdown",
   "id": "87b89620",
   "metadata": {},
   "source": [
    "**Вывод:**  Если смотреть на количество, то здесь выделяются 2 группы с наименьшем количеством с группы с самым большим доходом «А», самым наименьшем «Е» и с доходом «D». Такие данные нерепрезентативны и не будут учитываться при формировании зависимости. Остальные 2 группы данных показывают, что группа \"С\", где доход варьируется от 50001 до 200000, больше всего берет кредитов в долг и имеет меньшую вероятность на возврат его в срок. А клиенты с категории «В» имеют в три раза меньше должников и больше вероятность возврата кредита в срок. Тем самым, уровень дохода зависит от возврата кредита в срок."
   ]
  },
  {
   "cell_type": "markdown",
   "id": "9e70425b",
   "metadata": {},
   "source": [
    "### Проверка как разные цели кредита влияют на его возврат в срок"
   ]
  },
  {
   "cell_type": "code",
   "execution_count": 26,
   "id": "f5c9cd71",
   "metadata": {},
   "outputs": [
    {
     "data": {
      "text/html": [
       "<style type=\"text/css\">\n",
       "</style>\n",
       "<table id=\"T_bf878\">\n",
       "  <thead>\n",
       "    <tr>\n",
       "      <th class=\"blank level0\" >&nbsp;</th>\n",
       "      <th id=\"T_bf878_level0_col0\" class=\"col_heading level0 col0\" colspan=\"2\">debt</th>\n",
       "    </tr>\n",
       "    <tr>\n",
       "      <th class=\"blank level1\" >&nbsp;</th>\n",
       "      <th id=\"T_bf878_level1_col0\" class=\"col_heading level1 col0\" >count</th>\n",
       "      <th id=\"T_bf878_level1_col1\" class=\"col_heading level1 col1\" >mean</th>\n",
       "    </tr>\n",
       "    <tr>\n",
       "      <th class=\"index_name level0\" >purpose_category</th>\n",
       "      <th class=\"blank col0\" >&nbsp;</th>\n",
       "      <th class=\"blank col1\" >&nbsp;</th>\n",
       "    </tr>\n",
       "  </thead>\n",
       "  <tbody>\n",
       "    <tr>\n",
       "      <th id=\"T_bf878_level0_row0\" class=\"row_heading level0 row0\" >операции с автомобилем</th>\n",
       "      <td id=\"T_bf878_row0_col0\" class=\"data row0 col0\" >4279</td>\n",
       "      <td id=\"T_bf878_row0_col1\" class=\"data row0 col1\" >9.35%</td>\n",
       "    </tr>\n",
       "    <tr>\n",
       "      <th id=\"T_bf878_level0_row1\" class=\"row_heading level0 row1\" >операции с недвижимостью</th>\n",
       "      <td id=\"T_bf878_row1_col0\" class=\"data row1 col0\" >10751</td>\n",
       "      <td id=\"T_bf878_row1_col1\" class=\"data row1 col1\" >7.26%</td>\n",
       "    </tr>\n",
       "    <tr>\n",
       "      <th id=\"T_bf878_level0_row2\" class=\"row_heading level0 row2\" >получение образования</th>\n",
       "      <td id=\"T_bf878_row2_col0\" class=\"data row2 col0\" >3988</td>\n",
       "      <td id=\"T_bf878_row2_col1\" class=\"data row2 col1\" >9.25%</td>\n",
       "    </tr>\n",
       "    <tr>\n",
       "      <th id=\"T_bf878_level0_row3\" class=\"row_heading level0 row3\" >проведение свадьбы</th>\n",
       "      <td id=\"T_bf878_row3_col0\" class=\"data row3 col0\" >2313</td>\n",
       "      <td id=\"T_bf878_row3_col1\" class=\"data row3 col1\" >7.91%</td>\n",
       "    </tr>\n",
       "  </tbody>\n",
       "</table>\n"
      ],
      "text/plain": [
       "<pandas.io.formats.style.Styler at 0x18f04f2a790>"
      ]
     },
     "metadata": {},
     "output_type": "display_data"
    }
   ],
   "source": [
    "#сводная таблица уровня дохода, кредита и вероятности просрочки в каждой из групп\n",
    "data_purpose = data.groupby('purpose_category').agg({'debt': ['count', 'mean']})\n",
    "display(data_purpose.style.format({('debt', 'mean'): '{:.2%}'}))"
   ]
  },
  {
   "cell_type": "code",
   "execution_count": 27,
   "id": "f5a32948",
   "metadata": {},
   "outputs": [
    {
     "data": {
      "image/png": "[encoded data removed]",
      "text/plain": [
       "<Figure size 640x480 with 1 Axes>"
      ]
     },
     "metadata": {},
     "output_type": "display_data"
    }
   ],
   "source": [
    "data.groupby('purpose_category')['debt'].mean().plot(grid=True, rot=45, ylim=0).set(title = \"зависимость между целью кредита и возвратом кредита в срок\", xlabel ='цели кредита');\n"
   ]
  },
  {
   "cell_type": "markdown",
   "id": "601b9ef8",
   "metadata": {},
   "source": [
    "**Вывод:** Основной целью взятия кредитов по количеству должников является «операция с недвижимостью» и она имеют большую вероятность выплаты кредита по нему в срок. Меньше всего вероятности выплаты в срок были цели по «операции с автомобилем» и по «получению образования». "
   ]
  },
  {
   "cell_type": "markdown",
   "id": "5d8f1355",
   "metadata": {},
   "source": [
    "## Общие выводы"
   ]
  },
  {
   "cell_type": "markdown",
   "id": "7314aac5",
   "metadata": {},
   "source": [
    "- На основе полученных данных можно увидеть определенное влияние семейного положения и количества детей клиента на погашение кредита в срок. Стоит обратить внимание на замужних/женатых клиентов и клиентов без детей, поскольку они чаще берут кредиты и чаще оплачивают их вовремя. \n",
    "- Другой фактор для учета может быть уровень дохода, который также показал, что клиенты со средним достатком берут больше кредитов, но с меньшей вероятностью оплаты в срок. В этом случае больше интересны клиенты с доходом выше среднего. \n",
    "- Также для одобрения кредита будет лучше ориентироваться на цель займа как «операции с недвижимостью». \n",
    "- При формировании модели кредитного скоринга важно учесть, что при подсчете были выявлены нерепрезентативные данные (небольшое количество), которые не были учтены для выявления зависимости."
   ]
  }
 ],
 "metadata": {
  "kernelspec": {
   "display_name": "Python 3 (ipykernel)",
   "language": "python",
   "name": "python3"
  },
  "language_info": {
   "codemirror_mode": {
    "name": "ipython",
    "version": 3
   },
   "file_extension": ".py",
   "mimetype": "text/x-python",
   "name": "python",
   "nbconvert_exporter": "python",
   "pygments_lexer": "ipython3",
   "version": "3.9.13"
  },
  "toc": {
   "base_numbering": 1,
   "nav_menu": {},
   "number_sections": true,
   "sideBar": true,
   "skip_h1_title": false,
   "title_cell": "Table of Contents",
   "title_sidebar": "Contents",
   "toc_cell": false,
   "toc_position": {},
   "toc_section_display": true,
   "toc_window_display": false
  }
 },
 "nbformat": 4,
 "nbformat_minor": 5
}

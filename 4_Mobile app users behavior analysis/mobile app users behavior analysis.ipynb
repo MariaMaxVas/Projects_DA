{
 "cells": [
  {
   "cell_type": "markdown",
   "metadata": {},
   "source": [
    "<div class=\"alert alert-info\">\n",
    "<h2> Анализ поведения пользователей мобильного приложения <a class=\"tocSkip\"></h2> \n",
    "\n",
    "<b>Цель:</b>  анализ поведения пользователей мобильного приложения стартапа, который продает продукты питания.\n",
    "    \n",
    "<b>Задачи:</b>   \n",
    "   1. Изучить воронку продаж:\n",
    "    - Как пользователи доходят до покупки?\n",
    "    - Сколько пользователей доходит до покупки?\n",
    "    - Сколько — «застревает» на предыдущих шагах? На каких именно?\n",
    "    \n",
    "   2. Исследовать результаты A/A/B-эксперимента на трех группах (2 контрольные со старыми шрифтами и одну экспериментальную — с новыми) для выяснения какой шрифт лучше;\n",
    " \n",
    "<b>Содержание:</b>\n",
    "   1. Предобработка данных;\n",
    "   2. Анализ данных;\n",
    "   3. Исследование воронки событий;\n",
    "   5. Анализ результатов A/A/B-эксперимента;\n",
    "   6. Выводы.</div>"
   ]
  },
  {
   "cell_type": "markdown",
   "metadata": {},
   "source": [
    "## Предобработка данных"
   ]
  },
  {
   "cell_type": "code",
   "execution_count": 1,
   "metadata": {},
   "outputs": [],
   "source": [
    "import pandas as pd\n",
    "import datetime as dt\n",
    "import numpy as np\n",
    "import matplotlib.pyplot as plt\n",
    "from pandas.plotting import register_matplotlib_converters\n",
    "import warnings\n",
    "from scipy import stats as st\n",
    "import math as mth"
   ]
  },
  {
   "cell_type": "code",
   "execution_count": 2,
   "metadata": {
    "scrolled": false
   },
   "outputs": [
    {
     "data": {
      "text/html": [
       "<div>\n",
       "<style scoped>\n",
       "    .dataframe tbody tr th:only-of-type {\n",
       "        vertical-align: middle;\n",
       "    }\n",
       "\n",
       "    .dataframe tbody tr th {\n",
       "        vertical-align: top;\n",
       "    }\n",
       "\n",
       "    .dataframe thead th {\n",
       "        text-align: right;\n",
       "    }\n",
       "</style>\n",
       "<table border=\"1\" class=\"dataframe\">\n",
       "  <thead>\n",
       "    <tr style=\"text-align: right;\">\n",
       "      <th></th>\n",
       "      <th>EventName</th>\n",
       "      <th>DeviceIDHash</th>\n",
       "      <th>EventTimestamp</th>\n",
       "      <th>ExpId</th>\n",
       "    </tr>\n",
       "  </thead>\n",
       "  <tbody>\n",
       "    <tr>\n",
       "      <th>0</th>\n",
       "      <td>MainScreenAppear</td>\n",
       "      <td>4575588528974610257</td>\n",
       "      <td>1564029816</td>\n",
       "      <td>246</td>\n",
       "    </tr>\n",
       "    <tr>\n",
       "      <th>1</th>\n",
       "      <td>MainScreenAppear</td>\n",
       "      <td>7416695313311560658</td>\n",
       "      <td>1564053102</td>\n",
       "      <td>246</td>\n",
       "    </tr>\n",
       "    <tr>\n",
       "      <th>2</th>\n",
       "      <td>PaymentScreenSuccessful</td>\n",
       "      <td>3518123091307005509</td>\n",
       "      <td>1564054127</td>\n",
       "      <td>248</td>\n",
       "    </tr>\n",
       "    <tr>\n",
       "      <th>3</th>\n",
       "      <td>CartScreenAppear</td>\n",
       "      <td>3518123091307005509</td>\n",
       "      <td>1564054127</td>\n",
       "      <td>248</td>\n",
       "    </tr>\n",
       "    <tr>\n",
       "      <th>4</th>\n",
       "      <td>PaymentScreenSuccessful</td>\n",
       "      <td>6217807653094995999</td>\n",
       "      <td>1564055322</td>\n",
       "      <td>248</td>\n",
       "    </tr>\n",
       "    <tr>\n",
       "      <th>...</th>\n",
       "      <td>...</td>\n",
       "      <td>...</td>\n",
       "      <td>...</td>\n",
       "      <td>...</td>\n",
       "    </tr>\n",
       "    <tr>\n",
       "      <th>244121</th>\n",
       "      <td>MainScreenAppear</td>\n",
       "      <td>4599628364049201812</td>\n",
       "      <td>1565212345</td>\n",
       "      <td>247</td>\n",
       "    </tr>\n",
       "    <tr>\n",
       "      <th>244122</th>\n",
       "      <td>MainScreenAppear</td>\n",
       "      <td>5849806612437486590</td>\n",
       "      <td>1565212439</td>\n",
       "      <td>246</td>\n",
       "    </tr>\n",
       "    <tr>\n",
       "      <th>244123</th>\n",
       "      <td>MainScreenAppear</td>\n",
       "      <td>5746969938801999050</td>\n",
       "      <td>1565212483</td>\n",
       "      <td>246</td>\n",
       "    </tr>\n",
       "    <tr>\n",
       "      <th>244124</th>\n",
       "      <td>MainScreenAppear</td>\n",
       "      <td>5746969938801999050</td>\n",
       "      <td>1565212498</td>\n",
       "      <td>246</td>\n",
       "    </tr>\n",
       "    <tr>\n",
       "      <th>244125</th>\n",
       "      <td>OffersScreenAppear</td>\n",
       "      <td>5746969938801999050</td>\n",
       "      <td>1565212517</td>\n",
       "      <td>246</td>\n",
       "    </tr>\n",
       "  </tbody>\n",
       "</table>\n",
       "<p>244126 rows × 4 columns</p>\n",
       "</div>"
      ],
      "text/plain": [
       "                      EventName         DeviceIDHash  EventTimestamp  ExpId\n",
       "0              MainScreenAppear  4575588528974610257      1564029816    246\n",
       "1              MainScreenAppear  7416695313311560658      1564053102    246\n",
       "2       PaymentScreenSuccessful  3518123091307005509      1564054127    248\n",
       "3              CartScreenAppear  3518123091307005509      1564054127    248\n",
       "4       PaymentScreenSuccessful  6217807653094995999      1564055322    248\n",
       "...                         ...                  ...             ...    ...\n",
       "244121         MainScreenAppear  4599628364049201812      1565212345    247\n",
       "244122         MainScreenAppear  5849806612437486590      1565212439    246\n",
       "244123         MainScreenAppear  5746969938801999050      1565212483    246\n",
       "244124         MainScreenAppear  5746969938801999050      1565212498    246\n",
       "244125       OffersScreenAppear  5746969938801999050      1565212517    246\n",
       "\n",
       "[244126 rows x 4 columns]"
      ]
     },
     "execution_count": 2,
     "metadata": {},
     "output_type": "execute_result"
    }
   ],
   "source": [
    "#открыла таблицу и разделалила столбцы\n",
    "logs = pd.read_csv('/datasets/logs_exp.csv', sep='\\t')\n",
    "\n",
    "logs"
   ]
  },
  {
   "cell_type": "code",
   "execution_count": 3,
   "metadata": {
    "scrolled": true
   },
   "outputs": [
    {
     "data": {
      "text/html": [
       "<div>\n",
       "<style scoped>\n",
       "    .dataframe tbody tr th:only-of-type {\n",
       "        vertical-align: middle;\n",
       "    }\n",
       "\n",
       "    .dataframe tbody tr th {\n",
       "        vertical-align: top;\n",
       "    }\n",
       "\n",
       "    .dataframe thead th {\n",
       "        text-align: right;\n",
       "    }\n",
       "</style>\n",
       "<table border=\"1\" class=\"dataframe\">\n",
       "  <thead>\n",
       "    <tr style=\"text-align: right;\">\n",
       "      <th></th>\n",
       "      <th>event_name</th>\n",
       "      <th>id</th>\n",
       "      <th>event_time</th>\n",
       "      <th>experiment_id</th>\n",
       "    </tr>\n",
       "  </thead>\n",
       "  <tbody>\n",
       "    <tr>\n",
       "      <th>0</th>\n",
       "      <td>MainScreenAppear</td>\n",
       "      <td>4575588528974610257</td>\n",
       "      <td>1564029816</td>\n",
       "      <td>246</td>\n",
       "    </tr>\n",
       "    <tr>\n",
       "      <th>1</th>\n",
       "      <td>MainScreenAppear</td>\n",
       "      <td>7416695313311560658</td>\n",
       "      <td>1564053102</td>\n",
       "      <td>246</td>\n",
       "    </tr>\n",
       "    <tr>\n",
       "      <th>2</th>\n",
       "      <td>PaymentScreenSuccessful</td>\n",
       "      <td>3518123091307005509</td>\n",
       "      <td>1564054127</td>\n",
       "      <td>248</td>\n",
       "    </tr>\n",
       "    <tr>\n",
       "      <th>3</th>\n",
       "      <td>CartScreenAppear</td>\n",
       "      <td>3518123091307005509</td>\n",
       "      <td>1564054127</td>\n",
       "      <td>248</td>\n",
       "    </tr>\n",
       "    <tr>\n",
       "      <th>4</th>\n",
       "      <td>PaymentScreenSuccessful</td>\n",
       "      <td>6217807653094995999</td>\n",
       "      <td>1564055322</td>\n",
       "      <td>248</td>\n",
       "    </tr>\n",
       "  </tbody>\n",
       "</table>\n",
       "</div>"
      ],
      "text/plain": [
       "                event_name                   id  event_time  experiment_id\n",
       "0         MainScreenAppear  4575588528974610257  1564029816            246\n",
       "1         MainScreenAppear  7416695313311560658  1564053102            246\n",
       "2  PaymentScreenSuccessful  3518123091307005509  1564054127            248\n",
       "3         CartScreenAppear  3518123091307005509  1564054127            248\n",
       "4  PaymentScreenSuccessful  6217807653094995999  1564055322            248"
      ]
     },
     "execution_count": 3,
     "metadata": {},
     "output_type": "execute_result"
    }
   ],
   "source": [
    "#название столбцов были приведены к нижнему регистру и snake_case\n",
    "logs = logs.rename(columns={'EventName':'event_name', 'DeviceIDHash':'id', 'EventTimestamp':'event_time', 'ExpId':'experiment_id'})\n",
    "logs.head()"
   ]
  },
  {
   "cell_type": "code",
   "execution_count": 4,
   "metadata": {
    "scrolled": false
   },
   "outputs": [
    {
     "data": {
      "text/plain": [
       "event_name       0\n",
       "id               0\n",
       "event_time       0\n",
       "experiment_id    0\n",
       "dtype: int64"
      ]
     },
     "execution_count": 4,
     "metadata": {},
     "output_type": "execute_result"
    }
   ],
   "source": [
    "#проверка пропусков \n",
    "logs.isna().sum() "
   ]
  },
  {
   "cell_type": "code",
   "execution_count": 5,
   "metadata": {
    "scrolled": false
   },
   "outputs": [
    {
     "name": "stdout",
     "output_type": "stream",
     "text": [
      "<class 'pandas.core.frame.DataFrame'>\n",
      "RangeIndex: 244126 entries, 0 to 244125\n",
      "Data columns (total 4 columns):\n",
      " #   Column         Non-Null Count   Dtype \n",
      "---  ------         --------------   ----- \n",
      " 0   event_name     244126 non-null  object\n",
      " 1   id             244126 non-null  int64 \n",
      " 2   event_time     244126 non-null  int64 \n",
      " 3   experiment_id  244126 non-null  int64 \n",
      "dtypes: int64(3), object(1)\n",
      "memory usage: 7.5+ MB\n"
     ]
    }
   ],
   "source": [
    "#проверка типов данных\n",
    "logs.info()"
   ]
  },
  {
   "cell_type": "code",
   "execution_count": 6,
   "metadata": {
    "scrolled": true
   },
   "outputs": [
    {
     "name": "stdout",
     "output_type": "stream",
     "text": [
      "<class 'pandas.core.frame.DataFrame'>\n",
      "RangeIndex: 244126 entries, 0 to 244125\n",
      "Data columns (total 4 columns):\n",
      " #   Column         Non-Null Count   Dtype \n",
      "---  ------         --------------   ----- \n",
      " 0   event_name     244126 non-null  object\n",
      " 1   id             244126 non-null  object\n",
      " 2   event_time     244126 non-null  int64 \n",
      " 3   experiment_id  244126 non-null  object\n",
      "dtypes: int64(1), object(3)\n",
      "memory usage: 7.5+ MB\n"
     ]
    }
   ],
   "source": [
    "#изменение типов данных в столбцах id и experiment_id\n",
    "logs['id'] = logs['id'].astype('str')\n",
    "logs['experiment_id'] = logs['experiment_id'].astype('str')\n",
    "logs.info()"
   ]
  },
  {
   "cell_type": "code",
   "execution_count": 7,
   "metadata": {
    "scrolled": true
   },
   "outputs": [
    {
     "data": {
      "text/plain": [
       "413"
      ]
     },
     "execution_count": 7,
     "metadata": {},
     "output_type": "execute_result"
    }
   ],
   "source": [
    "#подсчет явных дубликатов\n",
    "logs.duplicated().sum()"
   ]
  },
  {
   "cell_type": "code",
   "execution_count": 8,
   "metadata": {},
   "outputs": [
    {
     "data": {
      "text/plain": [
       "0"
      ]
     },
     "execution_count": 8,
     "metadata": {},
     "output_type": "execute_result"
    }
   ],
   "source": [
    "#удаление явных дубликатов\n",
    "logs = logs.drop_duplicates()\n",
    "logs.duplicated().sum()"
   ]
  },
  {
   "cell_type": "code",
   "execution_count": 9,
   "metadata": {
    "scrolled": true
   },
   "outputs": [
    {
     "data": {
      "text/html": [
       "<div>\n",
       "<style scoped>\n",
       "    .dataframe tbody tr th:only-of-type {\n",
       "        vertical-align: middle;\n",
       "    }\n",
       "\n",
       "    .dataframe tbody tr th {\n",
       "        vertical-align: top;\n",
       "    }\n",
       "\n",
       "    .dataframe thead th {\n",
       "        text-align: right;\n",
       "    }\n",
       "</style>\n",
       "<table border=\"1\" class=\"dataframe\">\n",
       "  <thead>\n",
       "    <tr style=\"text-align: right;\">\n",
       "      <th></th>\n",
       "      <th>event_name</th>\n",
       "      <th>id</th>\n",
       "      <th>event_time</th>\n",
       "      <th>experiment_id</th>\n",
       "      <th>date_time</th>\n",
       "      <th>date</th>\n",
       "    </tr>\n",
       "  </thead>\n",
       "  <tbody>\n",
       "    <tr>\n",
       "      <th>0</th>\n",
       "      <td>MainScreenAppear</td>\n",
       "      <td>4575588528974610257</td>\n",
       "      <td>1564029816</td>\n",
       "      <td>246</td>\n",
       "      <td>2019-07-25 04:43:36</td>\n",
       "      <td>2019-07-25</td>\n",
       "    </tr>\n",
       "    <tr>\n",
       "      <th>1</th>\n",
       "      <td>MainScreenAppear</td>\n",
       "      <td>7416695313311560658</td>\n",
       "      <td>1564053102</td>\n",
       "      <td>246</td>\n",
       "      <td>2019-07-25 11:11:42</td>\n",
       "      <td>2019-07-25</td>\n",
       "    </tr>\n",
       "    <tr>\n",
       "      <th>2</th>\n",
       "      <td>PaymentScreenSuccessful</td>\n",
       "      <td>3518123091307005509</td>\n",
       "      <td>1564054127</td>\n",
       "      <td>248</td>\n",
       "      <td>2019-07-25 11:28:47</td>\n",
       "      <td>2019-07-25</td>\n",
       "    </tr>\n",
       "    <tr>\n",
       "      <th>3</th>\n",
       "      <td>CartScreenAppear</td>\n",
       "      <td>3518123091307005509</td>\n",
       "      <td>1564054127</td>\n",
       "      <td>248</td>\n",
       "      <td>2019-07-25 11:28:47</td>\n",
       "      <td>2019-07-25</td>\n",
       "    </tr>\n",
       "    <tr>\n",
       "      <th>4</th>\n",
       "      <td>PaymentScreenSuccessful</td>\n",
       "      <td>6217807653094995999</td>\n",
       "      <td>1564055322</td>\n",
       "      <td>248</td>\n",
       "      <td>2019-07-25 11:48:42</td>\n",
       "      <td>2019-07-25</td>\n",
       "    </tr>\n",
       "    <tr>\n",
       "      <th>...</th>\n",
       "      <td>...</td>\n",
       "      <td>...</td>\n",
       "      <td>...</td>\n",
       "      <td>...</td>\n",
       "      <td>...</td>\n",
       "      <td>...</td>\n",
       "    </tr>\n",
       "    <tr>\n",
       "      <th>244121</th>\n",
       "      <td>MainScreenAppear</td>\n",
       "      <td>4599628364049201812</td>\n",
       "      <td>1565212345</td>\n",
       "      <td>247</td>\n",
       "      <td>2019-08-07 21:12:25</td>\n",
       "      <td>2019-08-07</td>\n",
       "    </tr>\n",
       "    <tr>\n",
       "      <th>244122</th>\n",
       "      <td>MainScreenAppear</td>\n",
       "      <td>5849806612437486590</td>\n",
       "      <td>1565212439</td>\n",
       "      <td>246</td>\n",
       "      <td>2019-08-07 21:13:59</td>\n",
       "      <td>2019-08-07</td>\n",
       "    </tr>\n",
       "    <tr>\n",
       "      <th>244123</th>\n",
       "      <td>MainScreenAppear</td>\n",
       "      <td>5746969938801999050</td>\n",
       "      <td>1565212483</td>\n",
       "      <td>246</td>\n",
       "      <td>2019-08-07 21:14:43</td>\n",
       "      <td>2019-08-07</td>\n",
       "    </tr>\n",
       "    <tr>\n",
       "      <th>244124</th>\n",
       "      <td>MainScreenAppear</td>\n",
       "      <td>5746969938801999050</td>\n",
       "      <td>1565212498</td>\n",
       "      <td>246</td>\n",
       "      <td>2019-08-07 21:14:58</td>\n",
       "      <td>2019-08-07</td>\n",
       "    </tr>\n",
       "    <tr>\n",
       "      <th>244125</th>\n",
       "      <td>OffersScreenAppear</td>\n",
       "      <td>5746969938801999050</td>\n",
       "      <td>1565212517</td>\n",
       "      <td>246</td>\n",
       "      <td>2019-08-07 21:15:17</td>\n",
       "      <td>2019-08-07</td>\n",
       "    </tr>\n",
       "  </tbody>\n",
       "</table>\n",
       "<p>243713 rows × 6 columns</p>\n",
       "</div>"
      ],
      "text/plain": [
       "                     event_name                   id  event_time  \\\n",
       "0              MainScreenAppear  4575588528974610257  1564029816   \n",
       "1              MainScreenAppear  7416695313311560658  1564053102   \n",
       "2       PaymentScreenSuccessful  3518123091307005509  1564054127   \n",
       "3              CartScreenAppear  3518123091307005509  1564054127   \n",
       "4       PaymentScreenSuccessful  6217807653094995999  1564055322   \n",
       "...                         ...                  ...         ...   \n",
       "244121         MainScreenAppear  4599628364049201812  1565212345   \n",
       "244122         MainScreenAppear  5849806612437486590  1565212439   \n",
       "244123         MainScreenAppear  5746969938801999050  1565212483   \n",
       "244124         MainScreenAppear  5746969938801999050  1565212498   \n",
       "244125       OffersScreenAppear  5746969938801999050  1565212517   \n",
       "\n",
       "       experiment_id           date_time        date  \n",
       "0                246 2019-07-25 04:43:36  2019-07-25  \n",
       "1                246 2019-07-25 11:11:42  2019-07-25  \n",
       "2                248 2019-07-25 11:28:47  2019-07-25  \n",
       "3                248 2019-07-25 11:28:47  2019-07-25  \n",
       "4                248 2019-07-25 11:48:42  2019-07-25  \n",
       "...              ...                 ...         ...  \n",
       "244121           247 2019-08-07 21:12:25  2019-08-07  \n",
       "244122           246 2019-08-07 21:13:59  2019-08-07  \n",
       "244123           246 2019-08-07 21:14:43  2019-08-07  \n",
       "244124           246 2019-08-07 21:14:58  2019-08-07  \n",
       "244125           246 2019-08-07 21:15:17  2019-08-07  \n",
       "\n",
       "[243713 rows x 6 columns]"
      ]
     },
     "execution_count": 9,
     "metadata": {},
     "output_type": "execute_result"
    }
   ],
   "source": [
    "#добавление столбцов даты и времени и изменение типов данных\n",
    "logs['date_time']=pd.to_datetime(logs['event_time'], unit='s')\n",
    "\n",
    "#добавление отдельного столбца дата\n",
    "logs['date']= pd.DatetimeIndex(logs['date_time']).date\n",
    "logs"
   ]
  },
  {
   "cell_type": "code",
   "execution_count": 10,
   "metadata": {},
   "outputs": [
    {
     "data": {
      "text/html": [
       "<div>\n",
       "<style scoped>\n",
       "    .dataframe tbody tr th:only-of-type {\n",
       "        vertical-align: middle;\n",
       "    }\n",
       "\n",
       "    .dataframe tbody tr th {\n",
       "        vertical-align: top;\n",
       "    }\n",
       "\n",
       "    .dataframe thead th {\n",
       "        text-align: right;\n",
       "    }\n",
       "</style>\n",
       "<table border=\"1\" class=\"dataframe\">\n",
       "  <thead>\n",
       "    <tr style=\"text-align: right;\">\n",
       "      <th></th>\n",
       "      <th>experiment_id</th>\n",
       "    </tr>\n",
       "    <tr>\n",
       "      <th>id</th>\n",
       "      <th></th>\n",
       "    </tr>\n",
       "  </thead>\n",
       "  <tbody>\n",
       "  </tbody>\n",
       "</table>\n",
       "</div>"
      ],
      "text/plain": [
       "Empty DataFrame\n",
       "Columns: [experiment_id]\n",
       "Index: []"
      ]
     },
     "execution_count": 10,
     "metadata": {},
     "output_type": "execute_result"
    }
   ],
   "source": [
    "#подсчет количества пользователелей, которые входят в обе группы\n",
    "(logs\n",
    "    .groupby('id')\n",
    "    .agg({'experiment_id' : 'nunique'})\n",
    "    .query('experiment_id>1')\n",
    ")\n"
   ]
  },
  {
   "cell_type": "code",
   "execution_count": 11,
   "metadata": {},
   "outputs": [
    {
     "data": {
      "text/html": [
       "<div>\n",
       "<style scoped>\n",
       "    .dataframe tbody tr th:only-of-type {\n",
       "        vertical-align: middle;\n",
       "    }\n",
       "\n",
       "    .dataframe tbody tr th {\n",
       "        vertical-align: top;\n",
       "    }\n",
       "\n",
       "    .dataframe thead th {\n",
       "        text-align: right;\n",
       "    }\n",
       "</style>\n",
       "<table border=\"1\" class=\"dataframe\">\n",
       "  <thead>\n",
       "    <tr style=\"text-align: right;\">\n",
       "      <th></th>\n",
       "      <th>experiment_id</th>\n",
       "    </tr>\n",
       "    <tr>\n",
       "      <th>id</th>\n",
       "      <th></th>\n",
       "    </tr>\n",
       "  </thead>\n",
       "  <tbody>\n",
       "    <tr>\n",
       "      <th>1000608915523616548</th>\n",
       "      <td>[247]</td>\n",
       "    </tr>\n",
       "    <tr>\n",
       "      <th>100724994572555335</th>\n",
       "      <td>[246]</td>\n",
       "    </tr>\n",
       "    <tr>\n",
       "      <th>1008242126838007188</th>\n",
       "      <td>[247]</td>\n",
       "    </tr>\n",
       "    <tr>\n",
       "      <th>1009503747199967885</th>\n",
       "      <td>[248]</td>\n",
       "    </tr>\n",
       "    <tr>\n",
       "      <th>1009745980451513098</th>\n",
       "      <td>[248]</td>\n",
       "    </tr>\n",
       "    <tr>\n",
       "      <th>...</th>\n",
       "      <td>...</td>\n",
       "    </tr>\n",
       "    <tr>\n",
       "      <th>992321565231279868</th>\n",
       "      <td>[248]</td>\n",
       "    </tr>\n",
       "    <tr>\n",
       "      <th>993193057518949787</th>\n",
       "      <td>[248]</td>\n",
       "    </tr>\n",
       "    <tr>\n",
       "      <th>995065401066914588</th>\n",
       "      <td>[248]</td>\n",
       "    </tr>\n",
       "    <tr>\n",
       "      <th>997141886226099626</th>\n",
       "      <td>[247]</td>\n",
       "    </tr>\n",
       "    <tr>\n",
       "      <th>997959739029313547</th>\n",
       "      <td>[247]</td>\n",
       "    </tr>\n",
       "  </tbody>\n",
       "</table>\n",
       "<p>7551 rows × 1 columns</p>\n",
       "</div>"
      ],
      "text/plain": [
       "                    experiment_id\n",
       "id                               \n",
       "1000608915523616548         [247]\n",
       "100724994572555335          [246]\n",
       "1008242126838007188         [247]\n",
       "1009503747199967885         [248]\n",
       "1009745980451513098         [248]\n",
       "...                           ...\n",
       "992321565231279868          [248]\n",
       "993193057518949787          [248]\n",
       "995065401066914588          [248]\n",
       "997141886226099626          [247]\n",
       "997959739029313547          [247]\n",
       "\n",
       "[7551 rows x 1 columns]"
      ]
     },
     "execution_count": 11,
     "metadata": {},
     "output_type": "execute_result"
    }
   ],
   "source": [
    "#проверка в какие группы входят пользователи\n",
    "exp_group_count = logs.groupby('id').agg({'experiment_id': 'unique'})\n",
    "exp_group_count"
   ]
  },
  {
   "cell_type": "markdown",
   "metadata": {},
   "source": [
    "## Анализ данных"
   ]
  },
  {
   "cell_type": "code",
   "execution_count": 12,
   "metadata": {
    "scrolled": true
   },
   "outputs": [
    {
     "name": "stdout",
     "output_type": "stream",
     "text": [
      "Количество типов событий в логе: 5\n"
     ]
    }
   ],
   "source": [
    "#подсчет количества типов событий в логе\n",
    "logs_numb = logs['event_name'].nunique()\n",
    "print('Количество типов событий в логе:', logs_numb)"
   ]
  },
  {
   "cell_type": "code",
   "execution_count": 13,
   "metadata": {
    "scrolled": true
   },
   "outputs": [
    {
     "name": "stdout",
     "output_type": "stream",
     "text": [
      "Количество событий в логе: 243713\n"
     ]
    }
   ],
   "source": [
    "#подсчет количества событий в логе\n",
    "logs_count = logs['event_name'].count()\n",
    "print('Количество событий в логе:', logs_count)"
   ]
  },
  {
   "cell_type": "code",
   "execution_count": 14,
   "metadata": {
    "scrolled": true
   },
   "outputs": [
    {
     "name": "stdout",
     "output_type": "stream",
     "text": [
      "Количество пользователей в логе: 7551\n"
     ]
    }
   ],
   "source": [
    "#подсчет количества уникальных пользователей\n",
    "logs_id = logs['id'].nunique()\n",
    "print('Количество пользователей в логе:', logs_id)"
   ]
  },
  {
   "cell_type": "code",
   "execution_count": 15,
   "metadata": {
    "scrolled": true
   },
   "outputs": [
    {
     "name": "stdout",
     "output_type": "stream",
     "text": [
      "Количество событий на пользователя в среднем: 32.3\n"
     ]
    }
   ],
   "source": [
    "#подсчет количества событий в среденем приходится на пользователя\n",
    "logs_id_mean = round(logs['event_name'].count()/logs['id'].nunique(), 1)\n",
    "print('Количество событий на пользователя в среднем:', logs_id_mean)"
   ]
  },
  {
   "cell_type": "code",
   "execution_count": 16,
   "metadata": {
    "scrolled": true
   },
   "outputs": [
    {
     "name": "stdout",
     "output_type": "stream",
     "text": [
      "Минимальная дата: 2019-07-25\n",
      "Максимальная дата: 2019-08-07\n"
     ]
    }
   ],
   "source": [
    "#максимальная и минимильная дата\n",
    "date_min = logs['date_time'].dt.date.min() \n",
    "date_max = logs['date_time'].dt.date.max()\n",
    "print('Минимальная дата:', date_min)\n",
    "print('Максимальная дата:', date_max)"
   ]
  },
  {
   "cell_type": "code",
   "execution_count": 17,
   "metadata": {},
   "outputs": [
    {
     "data": {
      "image/png": "[encoded data removed]",
      "text/plain": [
       "<Figure size 1400x500 with 1 Axes>"
      ]
     },
     "metadata": {},
     "output_type": "display_data"
    }
   ],
   "source": [
    "#гистограмма по датам на весь период\n",
    "logs['date_time'].hist(bins=14*24, figsize=(14, 5)).set_title('Гистограмма по датам', fontsize=16, weight = 'bold')\n",
    "plt.xlabel(\"Дата\", labelpad=10, weight='normal', size=14)\n",
    "plt.ylabel(\"Количество пользователей\", labelpad=10, weight='normal', size=14)\n",
    "plt.show();"
   ]
  },
  {
   "cell_type": "markdown",
   "metadata": {},
   "source": [
    "**Вывод:** На гистограмме видно, что период с 25 июля по 31 июля 2019 г. нету полных данных. Польные данные представлены с 1 августа 2019 г., поэтому с этого дня была заново построена гистограмма \n",
    "Определите, с какого момента данные полные и отбросьте более старые. Данными за какой период времени вы располагаете на самом деле?"
   ]
  },
  {
   "cell_type": "code",
   "execution_count": 18,
   "metadata": {
    "scrolled": true
   },
   "outputs": [
    {
     "data": {
      "image/png": "[encoded data removed]",
      "text/plain": [
       "<Figure size 640x480 with 1 Axes>"
      ]
     },
     "metadata": {},
     "output_type": "display_data"
    }
   ],
   "source": [
    "# поскольку с 25.7.2019 до 31.7.2019 значительно небольшое количетсво данных, \n",
    "#был взять период с 1.8.2019 для гистограммы\n",
    "logs['date'] = pd.to_datetime(logs['date'])\n",
    "logs_period = logs.query('date > \"2019-07-31\"')\n",
    "logs_period['date'].hist(bins = 7).set_title('Гистограмма по дате с 1.8.2019 периода', fontsize=16, weight = 'bold')\n",
    "plt.xlabel(\"Дата\", labelpad=10, weight='normal', size=14)\n",
    "plt.ylabel(\"Количество\", labelpad=10, weight='normal', size=14)\n",
    "plt.xticks(rotation=50) \n",
    "plt.show()\n"
   ]
  },
  {
   "cell_type": "code",
   "execution_count": 19,
   "metadata": {
    "scrolled": true
   },
   "outputs": [
    {
     "name": "stdout",
     "output_type": "stream",
     "text": [
      "Количество событий в логе в начале: 243713\n",
      "Количество событий после фильтрации: 240887\n",
      "Количество потерянных событий после фильтрации: 2826 или 1.2 %\n"
     ]
    }
   ],
   "source": [
    "#подсчет изменений в количестве событий\n",
    "logs_count_filt = logs_period['event_name'].count()\n",
    "print('Количество событий в логе в начале:', logs_count)\n",
    "print('Количество событий после фильтрации:', logs_count_filt)\n",
    "print('Количество потерянных событий после фильтрации:', (logs_count - logs_count_filt),'или', round((1 - logs_count_filt/logs_count),3)*100,'%')\n"
   ]
  },
  {
   "cell_type": "code",
   "execution_count": 20,
   "metadata": {},
   "outputs": [
    {
     "name": "stdout",
     "output_type": "stream",
     "text": [
      "Количество пользователей в логе в начале: 7551\n",
      "Количество пользователей после фильтрации: 7534\n",
      "Количество потерянных пользователей после фильтрации: 17 или 0.2 %\n"
     ]
    }
   ],
   "source": [
    "#подсчет изменений в количестве пользователей\n",
    "id_count_filt = logs_period['id'].nunique()\n",
    "print('Количество пользователей в логе в начале:', logs_id)\n",
    "print('Количество пользователей после фильтрации:', id_count_filt )\n",
    "print('Количество потерянных пользователей после фильтрации:', (logs_id - id_count_filt ),'или', round((1 - id_count_filt/logs_id),3)*100,'%')"
   ]
  },
  {
   "cell_type": "code",
   "execution_count": 21,
   "metadata": {
    "scrolled": true
   },
   "outputs": [
    {
     "name": "stdout",
     "output_type": "stream",
     "text": [
      "Количество событий на пользователя в среднем: 32.3\n",
      "Количество событий на пользователя в среднем после фильтрации: 31.9\n",
      "Количество потерянных событий на пользователя в среднем после фильтрации: 0.4 или 1.2 %\n"
     ]
    }
   ],
   "source": [
    "#подсчет изменений в количестве пользователей в среднем\n",
    "logs_id_mean_filt = round(logs_period['event_name'].count()/logs['id'].nunique(), 1)\n",
    "logs_id_mean_filt\n",
    "print('Количество событий на пользователя в среднем:', logs_id_mean)\n",
    "print('Количество событий на пользователя в среднем после фильтрации:', logs_id_mean_filt )\n",
    "print('Количество потерянных событий на пользователя в среднем после фильтрации:', round((logs_id_mean - logs_id_mean_filt ),3),'или', round((1 - logs_id_mean_filt/logs_id_mean),3)*100,'%')"
   ]
  },
  {
   "cell_type": "code",
   "execution_count": 22,
   "metadata": {},
   "outputs": [
    {
     "data": {
      "text/html": [
       "<div>\n",
       "<style scoped>\n",
       "    .dataframe tbody tr th:only-of-type {\n",
       "        vertical-align: middle;\n",
       "    }\n",
       "\n",
       "    .dataframe tbody tr th {\n",
       "        vertical-align: top;\n",
       "    }\n",
       "\n",
       "    .dataframe thead th {\n",
       "        text-align: right;\n",
       "    }\n",
       "</style>\n",
       "<table border=\"1\" class=\"dataframe\">\n",
       "  <thead>\n",
       "    <tr style=\"text-align: right;\">\n",
       "      <th></th>\n",
       "      <th>id</th>\n",
       "    </tr>\n",
       "    <tr>\n",
       "      <th>experiment_id</th>\n",
       "      <th></th>\n",
       "    </tr>\n",
       "  </thead>\n",
       "  <tbody>\n",
       "    <tr>\n",
       "      <th>246</th>\n",
       "      <td>2484</td>\n",
       "    </tr>\n",
       "    <tr>\n",
       "      <th>247</th>\n",
       "      <td>2513</td>\n",
       "    </tr>\n",
       "    <tr>\n",
       "      <th>248</th>\n",
       "      <td>2537</td>\n",
       "    </tr>\n",
       "  </tbody>\n",
       "</table>\n",
       "</div>"
      ],
      "text/plain": [
       "                 id\n",
       "experiment_id      \n",
       "246            2484\n",
       "247            2513\n",
       "248            2537"
      ]
     },
     "execution_count": 22,
     "metadata": {},
     "output_type": "execute_result"
    }
   ],
   "source": [
    "#подсчет количества уникальных пользователей по группам эксперимента в периоде с 1.8.2019\n",
    "logs_period.groupby('experiment_id').agg(\n",
    "    {'id':'nunique'})"
   ]
  },
  {
   "cell_type": "markdown",
   "metadata": {},
   "source": [
    "**Выводы:**\n",
    "- Количество событий составило 243713, а пользователей - 7551. На пользователя в среднем насчитывается 32.3 событий;\n",
    "- При построении гистограммы по датам на весь период было замечено, что до 1.8.2019 количество данных значительно ниже или отсутствуют. Поэтому для дальнейшего анализа был взят период с 1.8.2019, где данные наиболее полные;\n",
    "- После было подсчитано количество отброшенных событий (2826) и пользователей (6), а также была проверка наличия пользователей в трех группах."
   ]
  },
  {
   "cell_type": "markdown",
   "metadata": {},
   "source": [
    "## Исследование воронки событий"
   ]
  },
  {
   "cell_type": "code",
   "execution_count": 23,
   "metadata": {
    "scrolled": false
   },
   "outputs": [
    {
     "data": {
      "text/plain": [
       "MainScreenAppear           117328\n",
       "OffersScreenAppear          46333\n",
       "CartScreenAppear            42303\n",
       "PaymentScreenSuccessful     33918\n",
       "Tutorial                     1005\n",
       "Name: event_name, dtype: int64"
      ]
     },
     "execution_count": 23,
     "metadata": {},
     "output_type": "execute_result"
    }
   ],
   "source": [
    "#подсчет как часто встречаются события в логах\n",
    "logs_period['event_name'].value_counts().sort_values(ascending=False)"
   ]
  },
  {
   "cell_type": "code",
   "execution_count": 24,
   "metadata": {
    "scrolled": true
   },
   "outputs": [
    {
     "data": {
      "image/png": "[encoded data removed]",
      "text/plain": [
       "<Figure size 1500x500 with 1 Axes>"
      ]
     },
     "metadata": {},
     "output_type": "display_data"
    }
   ],
   "source": [
    "#гистограмма как часто встречаются события в логах\n",
    "(logs_period['event_name']\n",
    " .value_counts()\n",
    " .plot(kind='bar', figsize=(15,5), color = ['c', 'orange', 'pink', 'purple', 'lightsteelblue']))\n",
    "plt.title(\"Распределение частоты событий в логах\", fontsize=16, weight = 'bold')\n",
    "plt.xlabel(\"Событие\", labelpad=10, weight='normal', size=14)\n",
    "plt.xticks(rotation=360)\n",
    "plt.ylabel(\"Количество\", labelpad=10, weight='normal', size=14);"
   ]
  },
  {
   "cell_type": "markdown",
   "metadata": {},
   "source": [
    "**Выводы:** Всего в логах представлено пять событий. Чаще всего встречается событие \"MainScreenAppear\", а меньше всего -\"Tutorial\". "
   ]
  },
  {
   "cell_type": "code",
   "execution_count": 25,
   "metadata": {
    "scrolled": true
   },
   "outputs": [
    {
     "data": {
      "text/html": [
       "<div>\n",
       "<style scoped>\n",
       "    .dataframe tbody tr th:only-of-type {\n",
       "        vertical-align: middle;\n",
       "    }\n",
       "\n",
       "    .dataframe tbody tr th {\n",
       "        vertical-align: top;\n",
       "    }\n",
       "\n",
       "    .dataframe thead th {\n",
       "        text-align: right;\n",
       "    }\n",
       "</style>\n",
       "<table border=\"1\" class=\"dataframe\">\n",
       "  <thead>\n",
       "    <tr style=\"text-align: right;\">\n",
       "      <th></th>\n",
       "      <th>event_name</th>\n",
       "      <th>id</th>\n",
       "      <th>%</th>\n",
       "    </tr>\n",
       "  </thead>\n",
       "  <tbody>\n",
       "    <tr>\n",
       "      <th>0</th>\n",
       "      <td>MainScreenAppear</td>\n",
       "      <td>7419</td>\n",
       "      <td>98.3</td>\n",
       "    </tr>\n",
       "    <tr>\n",
       "      <th>1</th>\n",
       "      <td>OffersScreenAppear</td>\n",
       "      <td>4593</td>\n",
       "      <td>60.8</td>\n",
       "    </tr>\n",
       "    <tr>\n",
       "      <th>2</th>\n",
       "      <td>CartScreenAppear</td>\n",
       "      <td>3734</td>\n",
       "      <td>49.5</td>\n",
       "    </tr>\n",
       "    <tr>\n",
       "      <th>3</th>\n",
       "      <td>PaymentScreenSuccessful</td>\n",
       "      <td>3539</td>\n",
       "      <td>46.9</td>\n",
       "    </tr>\n",
       "    <tr>\n",
       "      <th>4</th>\n",
       "      <td>Tutorial</td>\n",
       "      <td>840</td>\n",
       "      <td>11.1</td>\n",
       "    </tr>\n",
       "  </tbody>\n",
       "</table>\n",
       "</div>"
      ],
      "text/plain": [
       "                event_name    id     %\n",
       "0         MainScreenAppear  7419  98.3\n",
       "1       OffersScreenAppear  4593  60.8\n",
       "2         CartScreenAppear  3734  49.5\n",
       "3  PaymentScreenSuccessful  3539  46.9\n",
       "4                 Tutorial   840  11.1"
      ]
     },
     "execution_count": 25,
     "metadata": {},
     "output_type": "execute_result"
    }
   ],
   "source": [
    "#подсчет количества пользователей по событиям\n",
    "logs_id_ev = logs_period.groupby('event_name').agg(\n",
    "    {'id':'nunique'}).sort_values(by='id', ascending=False).reset_index()\n",
    "#подсчет доли пользователей\n",
    "logs_id_ev ['%'] = round((logs_id_ev['id']/logs_id),3)*100\n",
    "logs_id_ev"
   ]
  },
  {
   "cell_type": "code",
   "execution_count": 26,
   "metadata": {},
   "outputs": [
    {
     "data": {
      "text/html": [
       "<div>\n",
       "<style scoped>\n",
       "    .dataframe tbody tr th:only-of-type {\n",
       "        vertical-align: middle;\n",
       "    }\n",
       "\n",
       "    .dataframe tbody tr th {\n",
       "        vertical-align: top;\n",
       "    }\n",
       "\n",
       "    .dataframe thead th {\n",
       "        text-align: right;\n",
       "    }\n",
       "</style>\n",
       "<table border=\"1\" class=\"dataframe\">\n",
       "  <thead>\n",
       "    <tr style=\"text-align: right;\">\n",
       "      <th></th>\n",
       "      <th>event_name</th>\n",
       "      <th>id</th>\n",
       "      <th>%</th>\n",
       "    </tr>\n",
       "  </thead>\n",
       "  <tbody>\n",
       "    <tr>\n",
       "      <th>0</th>\n",
       "      <td>MainScreenAppear</td>\n",
       "      <td>7419</td>\n",
       "      <td>98.3</td>\n",
       "    </tr>\n",
       "    <tr>\n",
       "      <th>1</th>\n",
       "      <td>OffersScreenAppear</td>\n",
       "      <td>4593</td>\n",
       "      <td>60.8</td>\n",
       "    </tr>\n",
       "    <tr>\n",
       "      <th>2</th>\n",
       "      <td>CartScreenAppear</td>\n",
       "      <td>3734</td>\n",
       "      <td>49.5</td>\n",
       "    </tr>\n",
       "    <tr>\n",
       "      <th>3</th>\n",
       "      <td>PaymentScreenSuccessful</td>\n",
       "      <td>3539</td>\n",
       "      <td>46.9</td>\n",
       "    </tr>\n",
       "  </tbody>\n",
       "</table>\n",
       "</div>"
      ],
      "text/plain": [
       "                event_name    id     %\n",
       "0         MainScreenAppear  7419  98.3\n",
       "1       OffersScreenAppear  4593  60.8\n",
       "2         CartScreenAppear  3734  49.5\n",
       "3  PaymentScreenSuccessful  3539  46.9"
      ]
     },
     "execution_count": 26,
     "metadata": {},
     "output_type": "execute_result"
    }
   ],
   "source": [
    "#было удалено событие Tutorial\n",
    "logs_filtered = logs_id_ev[logs_id_ev['event_name'] != 'Tutorial']\n",
    "logs_filtered"
   ]
  },
  {
   "cell_type": "markdown",
   "metadata": {},
   "source": [
    "**Выводы:** При подсчете количества пользователей совершивших каждое из представленных событий, на первом месте оказалось событие \"MainScreenAppear\", то есть переход пользователя на главную страницу приложения. Меньше всего пользователей открывает страницу с \"Tutorial\", то есть обучающим роликом пользования приложения. Поскольку количество пользователей переходящих на \"Tutorial\" значительно меньше остальных событий и учитывая, что в настоящее время большинство пользователей умеют пользоватся мобильными приложениями интернет магазинов, событие \"Tutorial\" было исключено для дальнейшего анализа. "
   ]
  },
  {
   "cell_type": "markdown",
   "metadata": {},
   "source": [
    "Предположительная последовательность событий:\n",
    "1. Main Screen Appear - появляется окно \"Главная страница\"\n",
    "2. Offers Screen Appear - появляется окно с предложенными продуктами\n",
    "3. Cart Screen Appear - появляется окно \"Корзина\"\n",
    "4. Payment Screen Successful - появляется окно \"Успешная оплата\"\n",
    "\n",
    "* Событие \"Tutorial - обучающий ролик пользования приложением\" был исключен, поскольку не выстравивается в цепочку\n",
    "\n",
    "Получается пользователь мобильного приложения стартапа продажи продукты питания начинает с просмотра главной страницы, далее он выбирает продукты, которые он хочет купить. Выбранные продукты пользователь ложит в корзину, а после оплачивает их.\n"
   ]
  },
  {
   "cell_type": "code",
   "execution_count": 27,
   "metadata": {
    "scrolled": false
   },
   "outputs": [
    {
     "data": {
      "text/html": [
       "<div>\n",
       "<style scoped>\n",
       "    .dataframe tbody tr th:only-of-type {\n",
       "        vertical-align: middle;\n",
       "    }\n",
       "\n",
       "    .dataframe tbody tr th {\n",
       "        vertical-align: top;\n",
       "    }\n",
       "\n",
       "    .dataframe thead th {\n",
       "        text-align: right;\n",
       "    }\n",
       "</style>\n",
       "<table border=\"1\" class=\"dataframe\">\n",
       "  <thead>\n",
       "    <tr style=\"text-align: right;\">\n",
       "      <th></th>\n",
       "      <th>event_name</th>\n",
       "      <th>id</th>\n",
       "      <th>%</th>\n",
       "      <th>ratio_event</th>\n",
       "    </tr>\n",
       "  </thead>\n",
       "  <tbody>\n",
       "    <tr>\n",
       "      <th>0</th>\n",
       "      <td>MainScreenAppear</td>\n",
       "      <td>7419</td>\n",
       "      <td>98.3</td>\n",
       "      <td>100.0</td>\n",
       "    </tr>\n",
       "    <tr>\n",
       "      <th>1</th>\n",
       "      <td>OffersScreenAppear</td>\n",
       "      <td>4593</td>\n",
       "      <td>60.8</td>\n",
       "      <td>61.9</td>\n",
       "    </tr>\n",
       "    <tr>\n",
       "      <th>2</th>\n",
       "      <td>CartScreenAppear</td>\n",
       "      <td>3734</td>\n",
       "      <td>49.5</td>\n",
       "      <td>81.3</td>\n",
       "    </tr>\n",
       "    <tr>\n",
       "      <th>3</th>\n",
       "      <td>PaymentScreenSuccessful</td>\n",
       "      <td>3539</td>\n",
       "      <td>46.9</td>\n",
       "      <td>94.8</td>\n",
       "    </tr>\n",
       "  </tbody>\n",
       "</table>\n",
       "</div>"
      ],
      "text/plain": [
       "                event_name    id     %  ratio_event\n",
       "0         MainScreenAppear  7419  98.3        100.0\n",
       "1       OffersScreenAppear  4593  60.8         61.9\n",
       "2         CartScreenAppear  3734  49.5         81.3\n",
       "3  PaymentScreenSuccessful  3539  46.9         94.8"
      ]
     },
     "execution_count": 27,
     "metadata": {},
     "output_type": "execute_result"
    }
   ],
   "source": [
    "#подсчет доли пользователей, относительно предыдущего шага\n",
    "pd.options.mode.chained_assignment = None\n",
    "logs_filtered['ratio_event'] = 0\n",
    "for i in range(4):\n",
    "    if i == 0:\n",
    "        logs_filtered['ratio_event'].loc[i] = 100\n",
    "    else:\n",
    "        logs_filtered['ratio_event'].loc[i] = round((logs_filtered['id'].loc[i]/logs_filtered['id'].loc[i-1]),3)*100\n",
    "logs_filtered        "
   ]
  },
  {
   "cell_type": "code",
   "execution_count": 28,
   "metadata": {
    "scrolled": true
   },
   "outputs": [
    {
     "data": {
      "image/png": "[encoded data removed]"
     },
     "metadata": {},
     "output_type": "display_data"
    }
   ],
   "source": [
    "#воронка событий\n",
    "from plotly import graph_objects as go\n",
    "fig = go.Figure(go.Funnel(y=logs_filtered['event_name'], x=logs_filtered['id'], textposition = \"inside\", \n",
    "    textinfo = \"value+percent initial\", opacity = 0.65,marker = {\"color\": [\"skyblue\", \"purple\", \"plum\", \"gold\", \"lightsalmon\"]}))\n",
    "fig.update_layout(title='Воронка событий по доле пользователей', title_x = 0.5 )\n",
    "fig.show('png')"
   ]
  },
  {
   "cell_type": "markdown",
   "metadata": {},
   "source": [
    "**Выводы:** \n",
    "- подсчет отношения числа пользователей между событиями показало, что:\n",
    "  - событие \"OffersScreenAppear\" (В) к количеству пользователей с событием \"MainScreenAppear\" (А) - 62%\n",
    "  - событие \"CartScreenAppear\" (С) к количеству пользователей с событием \"OffersScreenAppear\" (В) - 81,3\n",
    "  - событие \"PaymentScreenSuccessful\" (D) к количеству пользователей с событием \"CartScreenAppear\" (С) - 94,8\n",
    "- получается, что только 62% пользователей после просмотра главной страницы переходят на выбор продуктов питания. Половина пользователей ложат выбранные продукты в корзину (50%), и 48% оплачивают выбранные продукты.\n",
    "\n",
    "Таким образом, воронка событий показывает, что 38,1% остаются на главной странице приложения. А в итоге, продукты покупают чуть меньше половины пользователей (48%). Однако в отношении числа пользователей между событиями видно, что те, кто все-таки перешли на страницу с продуктами с большей вероятностью, положат и купят выбранные продукты. Поэтому стоит рассмотреть улучшения главной страницы мобильного приложения. Возможно, что информация на главной странице не привлекательная или неправильная. Следующий результаты тестов рассмотрят возможность влияния изменения шрифта на полученный результат по поведению пользователей."
   ]
  },
  {
   "cell_type": "code",
   "execution_count": 29,
   "metadata": {},
   "outputs": [
    {
     "name": "stdout",
     "output_type": "stream",
     "text": [
      "Доля пользователей, которая доходит от первого события до оплаты: 48.0\n"
     ]
    }
   ],
   "source": [
    "#подсчет доли пользователей, которые доходят от первого события до оплаты\n",
    "print('Доля пользователей, которая доходит от первого события до оплаты:', round(logs_filtered['id'].iloc[3]/logs_filtered['id'].iloc[0], 2)*100)"
   ]
  },
  {
   "cell_type": "markdown",
   "metadata": {},
   "source": [
    "**Выводы:** Подсчёт доли пользователей, которые доходят от главной страницы приложения до оплаты продуктов показал, что больше половины пользователей не покупают продукты (52%).  "
   ]
  },
  {
   "cell_type": "markdown",
   "metadata": {},
   "source": [
    "## Анализ результатов A/A/B-эксперимента"
   ]
  },
  {
   "cell_type": "code",
   "execution_count": 30,
   "metadata": {
    "scrolled": true
   },
   "outputs": [
    {
     "data": {
      "text/html": [
       "<div>\n",
       "<style scoped>\n",
       "    .dataframe tbody tr th:only-of-type {\n",
       "        vertical-align: middle;\n",
       "    }\n",
       "\n",
       "    .dataframe tbody tr th {\n",
       "        vertical-align: top;\n",
       "    }\n",
       "\n",
       "    .dataframe thead th {\n",
       "        text-align: right;\n",
       "    }\n",
       "</style>\n",
       "<table border=\"1\" class=\"dataframe\">\n",
       "  <thead>\n",
       "    <tr style=\"text-align: right;\">\n",
       "      <th></th>\n",
       "      <th>id</th>\n",
       "    </tr>\n",
       "    <tr>\n",
       "      <th>experiment_id</th>\n",
       "      <th></th>\n",
       "    </tr>\n",
       "  </thead>\n",
       "  <tbody>\n",
       "    <tr>\n",
       "      <th>248</th>\n",
       "      <td>2537</td>\n",
       "    </tr>\n",
       "    <tr>\n",
       "      <th>247</th>\n",
       "      <td>2513</td>\n",
       "    </tr>\n",
       "    <tr>\n",
       "      <th>246</th>\n",
       "      <td>2484</td>\n",
       "    </tr>\n",
       "  </tbody>\n",
       "</table>\n",
       "</div>"
      ],
      "text/plain": [
       "                 id\n",
       "experiment_id      \n",
       "248            2537\n",
       "247            2513\n",
       "246            2484"
      ]
     },
     "execution_count": 30,
     "metadata": {},
     "output_type": "execute_result"
    }
   ],
   "source": [
    "#подсчет количества уникальных пользователей по группам эксперимента в периоде с 1.8.2019\n",
    "exper_log = logs_period.groupby('experiment_id').agg(\n",
    "    {'id':'nunique'}).sort_values(by='id', ascending=False)\n",
    "exper_log"
   ]
  },
  {
   "cell_type": "markdown",
   "metadata": {},
   "source": [
    "**Выводы:** самое большое количество уникальных пользователей у экспериментальной группы (248) - 2537, а в контрольной группе №246 всего 2484 пользователей и в контрольной группе №247 - 2513 пользователей."
   ]
  },
  {
   "cell_type": "code",
   "execution_count": 31,
   "metadata": {
    "scrolled": false
   },
   "outputs": [
    {
     "data": {
      "text/html": [
       "<div>\n",
       "<style scoped>\n",
       "    .dataframe tbody tr th:only-of-type {\n",
       "        vertical-align: middle;\n",
       "    }\n",
       "\n",
       "    .dataframe tbody tr th {\n",
       "        vertical-align: top;\n",
       "    }\n",
       "\n",
       "    .dataframe thead th {\n",
       "        text-align: right;\n",
       "    }\n",
       "</style>\n",
       "<table border=\"1\" class=\"dataframe\">\n",
       "  <thead>\n",
       "    <tr style=\"text-align: right;\">\n",
       "      <th>experiment_id</th>\n",
       "      <th>246</th>\n",
       "      <th>247</th>\n",
       "      <th>248</th>\n",
       "      <th>246+247</th>\n",
       "    </tr>\n",
       "    <tr>\n",
       "      <th>event_name</th>\n",
       "      <th></th>\n",
       "      <th></th>\n",
       "      <th></th>\n",
       "      <th></th>\n",
       "    </tr>\n",
       "  </thead>\n",
       "  <tbody>\n",
       "    <tr>\n",
       "      <th>MainScreenAppear</th>\n",
       "      <td>2450</td>\n",
       "      <td>2476</td>\n",
       "      <td>2493</td>\n",
       "      <td>4926</td>\n",
       "    </tr>\n",
       "    <tr>\n",
       "      <th>OffersScreenAppear</th>\n",
       "      <td>1542</td>\n",
       "      <td>1520</td>\n",
       "      <td>1531</td>\n",
       "      <td>3062</td>\n",
       "    </tr>\n",
       "    <tr>\n",
       "      <th>CartScreenAppear</th>\n",
       "      <td>1266</td>\n",
       "      <td>1238</td>\n",
       "      <td>1230</td>\n",
       "      <td>2504</td>\n",
       "    </tr>\n",
       "    <tr>\n",
       "      <th>PaymentScreenSuccessful</th>\n",
       "      <td>1200</td>\n",
       "      <td>1158</td>\n",
       "      <td>1181</td>\n",
       "      <td>2358</td>\n",
       "    </tr>\n",
       "  </tbody>\n",
       "</table>\n",
       "</div>"
      ],
      "text/plain": [
       "experiment_id             246   247   248  246+247\n",
       "event_name                                        \n",
       "MainScreenAppear         2450  2476  2493     4926\n",
       "OffersScreenAppear       1542  1520  1531     3062\n",
       "CartScreenAppear         1266  1238  1230     2504\n",
       "PaymentScreenSuccessful  1200  1158  1181     2358"
      ]
     },
     "execution_count": 31,
     "metadata": {},
     "output_type": "execute_result"
    }
   ],
   "source": [
    "#сводная таблица событий по группам эксперимента\n",
    "exper_event_id = logs_period[logs_period['event_name'] != 'Tutorial'].pivot_table(\n",
    "    index='event_name', \n",
    "    columns='experiment_id', \n",
    "    values='id',\n",
    "    aggfunc='nunique').sort_values('246',ascending=False)\n",
    "#добавлен столбец объединивший данные контрольных групп 246 и 247 \n",
    "exper_event_id['246+247'] = exper_event_id['246'] + exper_event_id['247']\n",
    "exper_event_id"
   ]
  },
  {
   "cell_type": "markdown",
   "metadata": {},
   "source": [
    "**Вывод:** Было посчитано число пользователей, совершивших это событие в каждой из контрольных групп эксперимента и выбрано самое популярное событие. Самое популярное событие по числу пользователей является переход на главную страницу у всех групп эксперимента. \n",
    "Поскольку в эксперименте было 2 контрольные группы для А/А-эксперимента, чтобы проверить корректность всех механизмов и расчётов, для дальнейшего анализа в таблиц добавлен столбец объединивший данные контрольных групп 246 и 247"
   ]
  },
  {
   "cell_type": "code",
   "execution_count": 32,
   "metadata": {},
   "outputs": [
    {
     "name": "stderr",
     "output_type": "stream",
     "text": [
      "C:\\Users\\maria\\AppData\\Local\\Temp\\ipykernel_21324\\3687614357.py:3: FutureWarning:\n",
      "\n",
      "The frame.append method is deprecated and will be removed from pandas in a future version. Use pandas.concat instead.\n",
      "\n"
     ]
    },
    {
     "data": {
      "text/html": [
       "<div>\n",
       "<style scoped>\n",
       "    .dataframe tbody tr th:only-of-type {\n",
       "        vertical-align: middle;\n",
       "    }\n",
       "\n",
       "    .dataframe tbody tr th {\n",
       "        vertical-align: top;\n",
       "    }\n",
       "\n",
       "    .dataframe thead th {\n",
       "        text-align: right;\n",
       "    }\n",
       "</style>\n",
       "<table border=\"1\" class=\"dataframe\">\n",
       "  <thead>\n",
       "    <tr style=\"text-align: right;\">\n",
       "      <th></th>\n",
       "      <th>id</th>\n",
       "    </tr>\n",
       "    <tr>\n",
       "      <th>experiment_id</th>\n",
       "      <th></th>\n",
       "    </tr>\n",
       "  </thead>\n",
       "  <tbody>\n",
       "    <tr>\n",
       "      <th>248</th>\n",
       "      <td>2537</td>\n",
       "    </tr>\n",
       "    <tr>\n",
       "      <th>247</th>\n",
       "      <td>2513</td>\n",
       "    </tr>\n",
       "    <tr>\n",
       "      <th>246</th>\n",
       "      <td>2484</td>\n",
       "    </tr>\n",
       "    <tr>\n",
       "      <th>246+247</th>\n",
       "      <td>4997</td>\n",
       "    </tr>\n",
       "  </tbody>\n",
       "</table>\n",
       "</div>"
      ],
      "text/plain": [
       "                 id\n",
       "experiment_id      \n",
       "248            2537\n",
       "247            2513\n",
       "246            2484\n",
       "246+247        4997"
      ]
     },
     "execution_count": 32,
     "metadata": {},
     "output_type": "execute_result"
    }
   ],
   "source": [
    "#добавлена строка объединивший данные контрольных групп 246 и 247 \n",
    "new_row = {'experiment_id':'246+247','id':2513+2484}\n",
    "exper_log2 = exper_log.append(pd.Series(new_row, index=exper_log.columns, name='246+247'))\n",
    "exper_log2"
   ]
  },
  {
   "cell_type": "markdown",
   "metadata": {},
   "source": [
    "Далее была проведена проверка различий между группами эксперимента с помощью функции z-теста.\n",
    "- Для начала была проведена проверка различий между контрольными группами №246 и №247.\n",
    "- После были проверены различия между контрольной группой №246 с экспериментальной группой № 248\n",
    "- различия между контрольной группой №247 с экспериментальной группой № 248\n",
    "- и различия между объединенными данными контрольных групп №246 и №247 с экспериментальной группой № 248\n",
    "\n",
    "Были проверены следующие гипотезы :\n",
    "- Нулевая гипотеза: нет оснований считать доли групп пользователей участвующих в эксперименте разными\n",
    "- Альтенативная гипотеза: между долями групп пользователей участвующих в эксперименте есть значимая разница"
   ]
  },
  {
   "cell_type": "code",
   "execution_count": 33,
   "metadata": {},
   "outputs": [],
   "source": [
    "# проверка гипотез\n",
    "def hypothesis_test (experiment1, experiment2, event, alpha):\n",
    "    event1 = exper_event_id.loc[event, experiment1]\n",
    "    event2 = exper_event_id.loc[event, experiment2]\n",
    "    id1 = exper_log2.loc[experiment1, 'id']\n",
    "    id2 = exper_log2.loc[experiment2, 'id']\n",
    "    # пропорция успехов в первой группе:\n",
    "    p1 = event1/id1\n",
    "    # пропорция успехов во второй группе:\n",
    "    p2 = event2/id2\n",
    "    # пропорция успехов в комбинированном датасете:\n",
    "    p_combined = (event1 + event2) / (id1 + id2)\n",
    "    # разница пропорций в датасетах\n",
    "    difference = p1 - p2 \n",
    "    z_value = difference / mth.sqrt(p_combined * (1 - p_combined) * (1/id1 + 1/id2))\n",
    "    # задаем стандартное нормальное распределение (среднее 0, ст.отклонение 1)\n",
    "    distr = st.norm(0, 1) \n",
    "    p_value = (1 - distr.cdf(abs(z_value))) * 2\n",
    "    \n",
    "    print('Событие \"{}\" - p-значение: {p_value:.2f}'.format(event, p_value=p_value))\n",
    "\n",
    "    if p_value < alpha:\n",
    "        print('Отвергаем нулевую гипотезу: между долями есть значимая разница')\n",
    "    else:\n",
    "        print(\n",
    "            'Не получилось отвергнуть нулевую гипотезу, нет оснований считать доли разными'\n",
    "        )"
   ]
  },
  {
   "cell_type": "code",
   "execution_count": 34,
   "metadata": {
    "scrolled": true
   },
   "outputs": [
    {
     "name": "stdout",
     "output_type": "stream",
     "text": [
      "Событие \"MainScreenAppear\" - p-значение: 0.76\n",
      "Не получилось отвергнуть нулевую гипотезу, нет оснований считать доли разными\n",
      "\n",
      "Событие \"OffersScreenAppear\" - p-значение: 0.25\n",
      "Не получилось отвергнуть нулевую гипотезу, нет оснований считать доли разными\n",
      "\n",
      "Событие \"CartScreenAppear\" - p-значение: 0.23\n",
      "Не получилось отвергнуть нулевую гипотезу, нет оснований считать доли разными\n",
      "\n",
      "Событие \"PaymentScreenSuccessful\" - p-значение: 0.11\n",
      "Не получилось отвергнуть нулевую гипотезу, нет оснований считать доли разными\n",
      "\n"
     ]
    }
   ],
   "source": [
    "# проверка различий между контрольными группами №246 и №247\n",
    "for event in exper_event_id.index:\n",
    "    hypothesis_test('246', '247', event, 0.05)\n",
    "    print()    "
   ]
  },
  {
   "cell_type": "markdown",
   "metadata": {},
   "source": [
    "**Проверка №246 и №247:** Контрольные группы для А/А-эксперимента (246 и 247) не имеют статистические критерии разницы между выборками, поэтому выбор контрольных групп корректен."
   ]
  },
  {
   "cell_type": "code",
   "execution_count": 35,
   "metadata": {
    "scrolled": false
   },
   "outputs": [
    {
     "name": "stdout",
     "output_type": "stream",
     "text": [
      "Событие \"MainScreenAppear\" - p-значение: 0.29\n",
      "Не получилось отвергнуть нулевую гипотезу, нет оснований считать доли разными\n",
      "\n",
      "Событие \"OffersScreenAppear\" - p-значение: 0.21\n",
      "Не получилось отвергнуть нулевую гипотезу, нет оснований считать доли разными\n",
      "\n",
      "Событие \"CartScreenAppear\" - p-значение: 0.08\n",
      "Не получилось отвергнуть нулевую гипотезу, нет оснований считать доли разными\n",
      "\n",
      "Событие \"PaymentScreenSuccessful\" - p-значение: 0.21\n",
      "Не получилось отвергнуть нулевую гипотезу, нет оснований считать доли разными\n",
      "\n"
     ]
    }
   ],
   "source": [
    "# проверка различия между контрольной группой №246 с экспериментальной группой № 248\n",
    "for event in exper_event_id.index:\n",
    "    hypothesis_test('246', '248', event, 0.05)\n",
    "    print()  "
   ]
  },
  {
   "cell_type": "code",
   "execution_count": 36,
   "metadata": {
    "scrolled": true
   },
   "outputs": [
    {
     "name": "stdout",
     "output_type": "stream",
     "text": [
      "Событие \"MainScreenAppear\" - p-значение: 0.46\n",
      "Не получилось отвергнуть нулевую гипотезу, нет оснований считать доли разными\n",
      "\n",
      "Событие \"OffersScreenAppear\" - p-значение: 0.92\n",
      "Не получилось отвергнуть нулевую гипотезу, нет оснований считать доли разными\n",
      "\n",
      "Событие \"CartScreenAppear\" - p-значение: 0.58\n",
      "Не получилось отвергнуть нулевую гипотезу, нет оснований считать доли разными\n",
      "\n",
      "Событие \"PaymentScreenSuccessful\" - p-значение: 0.74\n",
      "Не получилось отвергнуть нулевую гипотезу, нет оснований считать доли разными\n",
      "\n"
     ]
    }
   ],
   "source": [
    "# проверка различия между контрольной группой №247 с экспериментальной группой № 248\n",
    "for event in exper_event_id.index:\n",
    "    hypothesis_test('247', '248', event, 0.05)\n",
    "    print()  "
   ]
  },
  {
   "cell_type": "code",
   "execution_count": 37,
   "metadata": {},
   "outputs": [
    {
     "name": "stdout",
     "output_type": "stream",
     "text": [
      "Событие \"MainScreenAppear\" - p-значение: 0.29\n",
      "Не получилось отвергнуть нулевую гипотезу, нет оснований считать доли разными\n",
      "\n",
      "Событие \"OffersScreenAppear\" - p-значение: 0.43\n",
      "Не получилось отвергнуть нулевую гипотезу, нет оснований считать доли разными\n",
      "\n",
      "Событие \"CartScreenAppear\" - p-значение: 0.18\n",
      "Не получилось отвергнуть нулевую гипотезу, нет оснований считать доли разными\n",
      "\n",
      "Событие \"PaymentScreenSuccessful\" - p-значение: 0.60\n",
      "Не получилось отвергнуть нулевую гипотезу, нет оснований считать доли разными\n",
      "\n"
     ]
    }
   ],
   "source": [
    "# проверка  различия между объединенными данными контрольных групп №246 и №247 с экспериментальной группой № 248\n",
    "for event in exper_event_id.index:\n",
    "    hypothesis_test('246+247', '248', event, 0.05)\n",
    "    print()"
   ]
  },
  {
   "cell_type": "markdown",
   "metadata": {},
   "source": [
    "**Выводы:** \n",
    "Проверка гипотез не выявила разницу между группами эксперимента, то есть влияние изменения шрифта на поведение пользователей в мобильном приложении не было.\n",
    "Были проведены проверки со следующиими комбинациями групп\n",
    "- контрольная группа №246 с экспериментальной группой № 248\n",
    "- контрольная группа №247 с экспериментальной группой № 248\n",
    "- объединенные данные контрольных групп №246 и №247 с экспериментальной группой № 248"
   ]
  },
  {
   "cell_type": "code",
   "execution_count": 38,
   "metadata": {},
   "outputs": [
    {
     "name": "stdout",
     "output_type": "stream",
     "text": [
      "Событие \"MainScreenAppear\" - p-значение: 0.76\n",
      "Не получилось отвергнуть нулевую гипотезу, нет оснований считать доли разными\n",
      "\n",
      "Событие \"OffersScreenAppear\" - p-значение: 0.25\n",
      "Не получилось отвергнуть нулевую гипотезу, нет оснований считать доли разными\n",
      "\n",
      "Событие \"CartScreenAppear\" - p-значение: 0.23\n",
      "Не получилось отвергнуть нулевую гипотезу, нет оснований считать доли разными\n",
      "\n",
      "Событие \"PaymentScreenSuccessful\" - p-значение: 0.11\n",
      "Не получилось отвергнуть нулевую гипотезу, нет оснований считать доли разными\n",
      "\n"
     ]
    }
   ],
   "source": [
    "# проверка различий между контрольными группами №246 и №247 методом Бонферрони при уровне значимости 0.1\n",
    "for event in exper_event_id.index:\n",
    "    hypothesis_test('246', '247', event, 0.0125)\n",
    "    print() "
   ]
  },
  {
   "cell_type": "code",
   "execution_count": 39,
   "metadata": {
    "scrolled": true
   },
   "outputs": [
    {
     "name": "stdout",
     "output_type": "stream",
     "text": [
      "Событие \"MainScreenAppear\" - p-значение: 0.29\n",
      "Не получилось отвергнуть нулевую гипотезу, нет оснований считать доли разными\n",
      "\n",
      "Событие \"OffersScreenAppear\" - p-значение: 0.21\n",
      "Не получилось отвергнуть нулевую гипотезу, нет оснований считать доли разными\n",
      "\n",
      "Событие \"CartScreenAppear\" - p-значение: 0.08\n",
      "Не получилось отвергнуть нулевую гипотезу, нет оснований считать доли разными\n",
      "\n",
      "Событие \"PaymentScreenSuccessful\" - p-значение: 0.21\n",
      "Не получилось отвергнуть нулевую гипотезу, нет оснований считать доли разными\n",
      "\n"
     ]
    }
   ],
   "source": [
    "# проверка различия между контрольной группой №246 с экспериментальной группой № 248  методом Бонферрони при уровне значимости 0.1\n",
    "for event in exper_event_id.index: \n",
    "    hypothesis_test('246', '248', event, 0.0125)\n",
    "    print() "
   ]
  },
  {
   "cell_type": "code",
   "execution_count": 40,
   "metadata": {},
   "outputs": [
    {
     "name": "stdout",
     "output_type": "stream",
     "text": [
      "Событие \"MainScreenAppear\" - p-значение: 0.46\n",
      "Не получилось отвергнуть нулевую гипотезу, нет оснований считать доли разными\n",
      "\n",
      "Событие \"OffersScreenAppear\" - p-значение: 0.92\n",
      "Не получилось отвергнуть нулевую гипотезу, нет оснований считать доли разными\n",
      "\n",
      "Событие \"CartScreenAppear\" - p-значение: 0.58\n",
      "Не получилось отвергнуть нулевую гипотезу, нет оснований считать доли разными\n",
      "\n",
      "Событие \"PaymentScreenSuccessful\" - p-значение: 0.74\n",
      "Не получилось отвергнуть нулевую гипотезу, нет оснований считать доли разными\n",
      "\n"
     ]
    }
   ],
   "source": [
    "# проверка различия между контрольной группой №247 с экспериментальной группой № 248  методом Бонферрони при уровне значимости 0.1\n",
    "for event in exper_event_id.index:\n",
    "    hypothesis_test('247', '248', event, 0.0125)\n",
    "    print()  "
   ]
  },
  {
   "cell_type": "code",
   "execution_count": 41,
   "metadata": {
    "scrolled": true
   },
   "outputs": [
    {
     "name": "stdout",
     "output_type": "stream",
     "text": [
      "Событие \"MainScreenAppear\" - p-значение: 0.29\n",
      "Не получилось отвергнуть нулевую гипотезу, нет оснований считать доли разными\n",
      "\n",
      "Событие \"OffersScreenAppear\" - p-значение: 0.43\n",
      "Не получилось отвергнуть нулевую гипотезу, нет оснований считать доли разными\n",
      "\n",
      "Событие \"CartScreenAppear\" - p-значение: 0.18\n",
      "Не получилось отвергнуть нулевую гипотезу, нет оснований считать доли разными\n",
      "\n",
      "Событие \"PaymentScreenSuccessful\" - p-значение: 0.60\n",
      "Не получилось отвергнуть нулевую гипотезу, нет оснований считать доли разными\n",
      "\n"
     ]
    }
   ],
   "source": [
    "# проверка  различия между объединенными данными контрольных групп №246 и №247 с экспериментальной группой № 248  методом Бонферрони при уровне значимости 0.1\n",
    "for event in exper_event_id.index:\n",
    "    hypothesis_test('246+247', '248', event, 0.0125)\n",
    "    print()"
   ]
  },
  {
   "cell_type": "markdown",
   "metadata": {},
   "source": [
    "**Выводы:** При изменении уровня значимости на 0.0125 полученный поправкой Бонферрони, разница между группами эксперимента не была выявлена. Поправка Бонферрони была взята, поскольку снижает вероятность ложноположительного результата эксперимента используя значительно низкий уровень значимости. При расчете уровня значимости метода Шидаки, то для 4 тестов получается 0.0127, что не сильно отличается от числа Бонферрони."
   ]
  },
  {
   "cell_type": "markdown",
   "metadata": {},
   "source": [
    "## Выводы "
   ]
  },
  {
   "cell_type": "markdown",
   "metadata": {},
   "source": [
    "В данном проекте были изучены данные мобильного приложения стартапа продуктов питания. \n",
    "\n",
    "Последовательность действий пользователей приложения начинается с просмотра главной страницы, далее они выбирают продукты, ложат их в корзину, а после оплачивают их. \n",
    "\n",
    "С помощью воронки продаж было выявлено, что только 62% пользователей после просмотра главной страницы переходят на выбор продуктов питания. А до оплаты продуктов доходят 48%. Однако, те кто перешли на выбор продуктов чаще всех их покупают. \n",
    "\n",
    "Получается, что больше половины пользователей не покупают продукты (52%), а застревают на главной странице. Таким образом, стоит изучить главную страницу мобильного приложения. Возможно информация поданная на главной странице не явлется привлекательной для пользователя или не той, которую они ожидали. \n",
    "\n",
    "В проекте также были изучены данные эксперимента A/A/B-теста на влияние измения дизайнерами шрифта во всём приложении стартапа. Результаты эксперимента показали, что изменение шрифта никак не повлияло на поведения пользователей. Тем самым, можно как и оставить старый шрифт, так и заменить на новый. "
   ]
  }
 ],
 "metadata": {
  "ExecuteTimeLog": [
   {
    "duration": 4,
    "start_time": "2023-01-06T13:26:37.039Z"
   },
   {
    "duration": 1582,
    "start_time": "2023-01-06T13:30:48.671Z"
   },
   {
    "duration": 354,
    "start_time": "2023-01-06T13:30:56.539Z"
   },
   {
    "duration": 397,
    "start_time": "2023-01-06T13:31:53.005Z"
   },
   {
    "duration": 311,
    "start_time": "2023-01-06T13:31:56.443Z"
   },
   {
    "duration": 289,
    "start_time": "2023-01-06T13:32:23.144Z"
   },
   {
    "duration": 3,
    "start_time": "2023-01-06T13:32:29.216Z"
   },
   {
    "duration": 314,
    "start_time": "2023-01-06T13:32:30.797Z"
   },
   {
    "duration": 293,
    "start_time": "2023-01-06T13:32:48.578Z"
   },
   {
    "duration": 1109,
    "start_time": "2023-01-06T13:36:31.495Z"
   },
   {
    "duration": 178,
    "start_time": "2023-01-06T13:39:21.972Z"
   },
   {
    "duration": 333,
    "start_time": "2023-01-06T13:41:48.860Z"
   },
   {
    "duration": 180,
    "start_time": "2023-01-06T13:41:54.287Z"
   },
   {
    "duration": 425,
    "start_time": "2023-01-06T13:45:17.362Z"
   },
   {
    "duration": 23,
    "start_time": "2023-01-06T13:46:00.113Z"
   },
   {
    "duration": 9,
    "start_time": "2023-01-06T13:49:01.215Z"
   },
   {
    "duration": 13,
    "start_time": "2023-01-06T13:49:12.272Z"
   },
   {
    "duration": 12,
    "start_time": "2023-01-06T13:49:21.101Z"
   },
   {
    "duration": 23,
    "start_time": "2023-01-06T13:49:31.507Z"
   },
   {
    "duration": 937,
    "start_time": "2023-01-06T13:49:42.279Z"
   },
   {
    "duration": 41,
    "start_time": "2023-01-06T13:49:43.218Z"
   },
   {
    "duration": 15,
    "start_time": "2023-01-06T13:49:43.265Z"
   },
   {
    "duration": 1373,
    "start_time": "2023-01-06T13:49:43.283Z"
   },
   {
    "duration": 18,
    "start_time": "2023-01-06T13:50:53.582Z"
   },
   {
    "duration": 89,
    "start_time": "2023-01-06T13:51:18.981Z"
   },
   {
    "duration": 31,
    "start_time": "2023-01-06T13:53:32.671Z"
   },
   {
    "duration": 42,
    "start_time": "2023-01-06T13:53:52.997Z"
   },
   {
    "duration": 29,
    "start_time": "2023-01-06T13:54:33.084Z"
   },
   {
    "duration": 8,
    "start_time": "2023-01-06T13:56:50.322Z"
   },
   {
    "duration": 65,
    "start_time": "2023-01-06T13:57:01.546Z"
   },
   {
    "duration": 26,
    "start_time": "2023-01-06T13:57:35.177Z"
   },
   {
    "duration": 12,
    "start_time": "2023-01-06T13:59:06.460Z"
   },
   {
    "duration": 9,
    "start_time": "2023-01-06T13:59:29.480Z"
   },
   {
    "duration": 112,
    "start_time": "2023-01-06T14:00:45.815Z"
   },
   {
    "duration": 127,
    "start_time": "2023-01-06T14:01:29.984Z"
   },
   {
    "duration": 49,
    "start_time": "2023-01-06T14:04:16.496Z"
   },
   {
    "duration": 7,
    "start_time": "2023-01-06T14:05:13.322Z"
   },
   {
    "duration": 44,
    "start_time": "2023-01-06T14:05:56.035Z"
   },
   {
    "duration": 10,
    "start_time": "2023-01-06T14:06:49.278Z"
   },
   {
    "duration": 9,
    "start_time": "2023-01-06T14:07:19.662Z"
   },
   {
    "duration": 18,
    "start_time": "2023-01-06T14:07:32.477Z"
   },
   {
    "duration": 49,
    "start_time": "2023-01-06T14:07:42.827Z"
   },
   {
    "duration": 7,
    "start_time": "2023-01-06T14:07:58.885Z"
   },
   {
    "duration": 7,
    "start_time": "2023-01-06T14:09:30.170Z"
   },
   {
    "duration": 7,
    "start_time": "2023-01-06T14:09:34.725Z"
   },
   {
    "duration": 857,
    "start_time": "2023-01-06T14:09:43.903Z"
   },
   {
    "duration": 15,
    "start_time": "2023-01-06T14:09:44.762Z"
   },
   {
    "duration": 19,
    "start_time": "2023-01-06T14:09:44.779Z"
   },
   {
    "duration": 21,
    "start_time": "2023-01-06T14:09:44.800Z"
   },
   {
    "duration": 81,
    "start_time": "2023-01-06T14:09:44.823Z"
   },
   {
    "duration": 81,
    "start_time": "2023-01-06T14:09:44.905Z"
   },
   {
    "duration": 5,
    "start_time": "2023-01-06T14:09:44.988Z"
   },
   {
    "duration": 129,
    "start_time": "2023-01-06T14:09:44.995Z"
   },
   {
    "duration": 44,
    "start_time": "2023-01-06T14:09:45.125Z"
   },
   {
    "duration": 8,
    "start_time": "2023-01-06T14:09:45.171Z"
   },
   {
    "duration": 139,
    "start_time": "2023-01-06T14:09:45.181Z"
   },
   {
    "duration": 1155,
    "start_time": "2023-01-06T14:09:45.322Z"
   },
   {
    "duration": 7,
    "start_time": "2023-01-06T14:09:53.095Z"
   },
   {
    "duration": 839,
    "start_time": "2023-01-06T14:09:58.793Z"
   },
   {
    "duration": 20,
    "start_time": "2023-01-06T14:09:59.635Z"
   },
   {
    "duration": 21,
    "start_time": "2023-01-06T14:09:59.657Z"
   },
   {
    "duration": 32,
    "start_time": "2023-01-06T14:09:59.681Z"
   },
   {
    "duration": 105,
    "start_time": "2023-01-06T14:09:59.717Z"
   },
   {
    "duration": 93,
    "start_time": "2023-01-06T14:09:59.824Z"
   },
   {
    "duration": 7,
    "start_time": "2023-01-06T14:09:59.921Z"
   },
   {
    "duration": 136,
    "start_time": "2023-01-06T14:09:59.930Z"
   },
   {
    "duration": 36,
    "start_time": "2023-01-06T14:10:00.068Z"
   },
   {
    "duration": 9,
    "start_time": "2023-01-06T14:10:00.106Z"
   },
   {
    "duration": 145,
    "start_time": "2023-01-06T14:10:00.117Z"
   },
   {
    "duration": 1229,
    "start_time": "2023-01-06T14:10:00.264Z"
   },
   {
    "duration": 8,
    "start_time": "2023-01-06T14:10:12.775Z"
   },
   {
    "duration": 8,
    "start_time": "2023-01-06T14:10:18.263Z"
   },
   {
    "duration": 910,
    "start_time": "2023-01-06T14:10:24.523Z"
   },
   {
    "duration": 22,
    "start_time": "2023-01-06T14:10:25.435Z"
   },
   {
    "duration": 25,
    "start_time": "2023-01-06T14:10:25.458Z"
   },
   {
    "duration": 63,
    "start_time": "2023-01-06T14:10:25.486Z"
   },
   {
    "duration": 95,
    "start_time": "2023-01-06T14:10:25.552Z"
   },
   {
    "duration": 70,
    "start_time": "2023-01-06T14:10:25.649Z"
   },
   {
    "duration": 7,
    "start_time": "2023-01-06T14:10:25.722Z"
   },
   {
    "duration": 137,
    "start_time": "2023-01-06T14:10:25.731Z"
   },
   {
    "duration": 39,
    "start_time": "2023-01-06T14:10:25.870Z"
   },
   {
    "duration": 9,
    "start_time": "2023-01-06T14:10:25.911Z"
   },
   {
    "duration": 160,
    "start_time": "2023-01-06T14:10:25.922Z"
   },
   {
    "duration": 1189,
    "start_time": "2023-01-06T14:10:26.084Z"
   },
   {
    "duration": 8,
    "start_time": "2023-01-06T14:10:32.521Z"
   },
   {
    "duration": 7,
    "start_time": "2023-01-06T14:10:36.220Z"
   },
   {
    "duration": 7,
    "start_time": "2023-01-06T14:10:53.741Z"
   },
   {
    "duration": 9,
    "start_time": "2023-01-06T14:11:30.862Z"
   },
   {
    "duration": 12,
    "start_time": "2023-01-06T14:11:38.245Z"
   },
   {
    "duration": 46,
    "start_time": "2023-01-06T14:11:47.427Z"
   },
   {
    "duration": 49,
    "start_time": "2023-01-06T14:11:53.891Z"
   },
   {
    "duration": 5,
    "start_time": "2023-01-06T14:12:18.109Z"
   },
   {
    "duration": 868,
    "start_time": "2023-01-06T14:12:49.089Z"
   },
   {
    "duration": 14,
    "start_time": "2023-01-06T14:12:49.959Z"
   },
   {
    "duration": 31,
    "start_time": "2023-01-06T14:12:49.975Z"
   },
   {
    "duration": 38,
    "start_time": "2023-01-06T14:12:50.008Z"
   },
   {
    "duration": 66,
    "start_time": "2023-01-06T14:12:50.049Z"
   },
   {
    "duration": 78,
    "start_time": "2023-01-06T14:12:50.117Z"
   },
   {
    "duration": 5,
    "start_time": "2023-01-06T14:12:50.197Z"
   },
   {
    "duration": 130,
    "start_time": "2023-01-06T14:12:50.204Z"
   },
   {
    "duration": 44,
    "start_time": "2023-01-06T14:12:50.335Z"
   },
   {
    "duration": 10,
    "start_time": "2023-01-06T14:12:50.381Z"
   },
   {
    "duration": 63,
    "start_time": "2023-01-06T14:12:50.392Z"
   },
   {
    "duration": 5,
    "start_time": "2023-01-06T14:12:50.457Z"
   },
   {
    "duration": 122,
    "start_time": "2023-01-06T14:12:50.464Z"
   },
   {
    "duration": 0,
    "start_time": "2023-01-06T14:12:50.588Z"
   },
   {
    "duration": 0,
    "start_time": "2023-01-06T14:12:50.589Z"
   },
   {
    "duration": 52,
    "start_time": "2023-01-06T14:13:00.140Z"
   },
   {
    "duration": 5,
    "start_time": "2023-01-06T14:13:02.095Z"
   },
   {
    "duration": 1149,
    "start_time": "2023-01-06T14:13:30.440Z"
   },
   {
    "duration": 49,
    "start_time": "2023-01-06T14:13:53.365Z"
   },
   {
    "duration": 5,
    "start_time": "2023-01-06T14:13:57.716Z"
   },
   {
    "duration": 125,
    "start_time": "2023-01-06T14:14:34.939Z"
   },
   {
    "duration": 16,
    "start_time": "2023-01-06T14:16:14.159Z"
   },
   {
    "duration": 1159,
    "start_time": "2023-01-06T14:17:09.422Z"
   },
   {
    "duration": 17,
    "start_time": "2023-01-06T14:20:30.015Z"
   },
   {
    "duration": 1020,
    "start_time": "2023-01-06T14:25:52.194Z"
   },
   {
    "duration": 24,
    "start_time": "2023-01-06T14:26:34.375Z"
   },
   {
    "duration": 16,
    "start_time": "2023-01-06T14:28:18.596Z"
   },
   {
    "duration": 17,
    "start_time": "2023-01-06T14:28:21.500Z"
   },
   {
    "duration": 17,
    "start_time": "2023-01-06T14:28:27.336Z"
   },
   {
    "duration": 71,
    "start_time": "2023-01-06T14:30:09.247Z"
   },
   {
    "duration": 102,
    "start_time": "2023-01-06T14:30:16.172Z"
   },
   {
    "duration": 92,
    "start_time": "2023-01-06T14:33:09.831Z"
   },
   {
    "duration": 22,
    "start_time": "2023-01-06T14:33:25.829Z"
   },
   {
    "duration": 31,
    "start_time": "2023-01-06T14:34:37.073Z"
   },
   {
    "duration": 30,
    "start_time": "2023-01-06T14:35:58.166Z"
   },
   {
    "duration": 851,
    "start_time": "2023-01-06T14:36:04.776Z"
   },
   {
    "duration": 15,
    "start_time": "2023-01-06T14:36:05.629Z"
   },
   {
    "duration": 29,
    "start_time": "2023-01-06T14:36:05.650Z"
   },
   {
    "duration": 47,
    "start_time": "2023-01-06T14:36:05.681Z"
   },
   {
    "duration": 76,
    "start_time": "2023-01-06T14:36:05.730Z"
   },
   {
    "duration": 77,
    "start_time": "2023-01-06T14:36:05.807Z"
   },
   {
    "duration": 125,
    "start_time": "2023-01-06T14:36:05.886Z"
   },
   {
    "duration": 127,
    "start_time": "2023-01-06T14:36:06.013Z"
   },
   {
    "duration": 43,
    "start_time": "2023-01-06T14:36:06.142Z"
   },
   {
    "duration": 103,
    "start_time": "2023-01-06T14:36:06.188Z"
   },
   {
    "duration": 27,
    "start_time": "2023-01-06T14:36:06.292Z"
   },
   {
    "duration": 28,
    "start_time": "2023-01-06T14:36:35.331Z"
   },
   {
    "duration": 20,
    "start_time": "2023-01-06T14:38:59.035Z"
   },
   {
    "duration": 923,
    "start_time": "2023-01-06T14:39:08.568Z"
   },
   {
    "duration": 15,
    "start_time": "2023-01-06T14:39:09.493Z"
   },
   {
    "duration": 22,
    "start_time": "2023-01-06T14:39:09.510Z"
   },
   {
    "duration": 39,
    "start_time": "2023-01-06T14:39:09.535Z"
   },
   {
    "duration": 114,
    "start_time": "2023-01-06T14:39:09.576Z"
   },
   {
    "duration": 103,
    "start_time": "2023-01-06T14:39:09.693Z"
   },
   {
    "duration": 149,
    "start_time": "2023-01-06T14:39:09.798Z"
   },
   {
    "duration": 146,
    "start_time": "2023-01-06T14:39:09.950Z"
   },
   {
    "duration": 21,
    "start_time": "2023-01-06T14:39:10.098Z"
   },
   {
    "duration": 100,
    "start_time": "2023-01-06T14:39:10.121Z"
   },
   {
    "duration": 44,
    "start_time": "2023-01-06T14:39:10.223Z"
   },
   {
    "duration": 27,
    "start_time": "2023-01-06T14:39:27.472Z"
   },
   {
    "duration": 17,
    "start_time": "2023-01-06T14:40:13.749Z"
   },
   {
    "duration": 29,
    "start_time": "2023-01-06T14:40:33.821Z"
   },
   {
    "duration": 129,
    "start_time": "2023-01-06T14:41:19.782Z"
   },
   {
    "duration": 159,
    "start_time": "2023-01-06T14:41:52.298Z"
   },
   {
    "duration": 32,
    "start_time": "2023-01-06T14:42:03.673Z"
   },
   {
    "duration": 1179,
    "start_time": "2023-01-06T14:44:04.681Z"
   },
   {
    "duration": 185,
    "start_time": "2023-01-06T14:44:25.459Z"
   },
   {
    "duration": 29,
    "start_time": "2023-01-06T14:44:46.322Z"
   },
   {
    "duration": 23,
    "start_time": "2023-01-06T14:44:58.801Z"
   },
   {
    "duration": 833,
    "start_time": "2023-01-06T14:45:15.883Z"
   },
   {
    "duration": 15,
    "start_time": "2023-01-06T14:45:16.717Z"
   },
   {
    "duration": 28,
    "start_time": "2023-01-06T14:45:16.734Z"
   },
   {
    "duration": 22,
    "start_time": "2023-01-06T14:45:16.766Z"
   },
   {
    "duration": 81,
    "start_time": "2023-01-06T14:45:16.790Z"
   },
   {
    "duration": 88,
    "start_time": "2023-01-06T14:45:16.873Z"
   },
   {
    "duration": 129,
    "start_time": "2023-01-06T14:45:16.963Z"
   },
   {
    "duration": 136,
    "start_time": "2023-01-06T14:45:17.094Z"
   },
   {
    "duration": 26,
    "start_time": "2023-01-06T14:45:17.233Z"
   },
   {
    "duration": 96,
    "start_time": "2023-01-06T14:45:17.263Z"
   },
   {
    "duration": 177,
    "start_time": "2023-01-06T14:45:17.361Z"
   },
   {
    "duration": 30,
    "start_time": "2023-01-06T14:45:17.551Z"
   },
   {
    "duration": 32,
    "start_time": "2023-01-06T14:46:58.597Z"
   },
   {
    "duration": 927,
    "start_time": "2023-01-06T14:47:16.614Z"
   },
   {
    "duration": 22,
    "start_time": "2023-01-06T14:47:17.544Z"
   },
   {
    "duration": 18,
    "start_time": "2023-01-06T14:47:17.568Z"
   },
   {
    "duration": 30,
    "start_time": "2023-01-06T14:47:17.590Z"
   },
   {
    "duration": 91,
    "start_time": "2023-01-06T14:47:17.622Z"
   },
   {
    "duration": 109,
    "start_time": "2023-01-06T14:47:17.715Z"
   },
   {
    "duration": 139,
    "start_time": "2023-01-06T14:47:17.826Z"
   },
   {
    "duration": 139,
    "start_time": "2023-01-06T14:47:17.968Z"
   },
   {
    "duration": 43,
    "start_time": "2023-01-06T14:47:18.109Z"
   },
   {
    "duration": 102,
    "start_time": "2023-01-06T14:47:18.155Z"
   },
   {
    "duration": 193,
    "start_time": "2023-01-06T14:47:18.258Z"
   },
   {
    "duration": 40,
    "start_time": "2023-01-06T14:47:18.454Z"
   },
   {
    "duration": 655,
    "start_time": "2023-01-06T14:47:43.204Z"
   },
   {
    "duration": 938,
    "start_time": "2023-01-06T14:48:00.435Z"
   },
   {
    "duration": 16,
    "start_time": "2023-01-06T14:48:01.375Z"
   },
   {
    "duration": 23,
    "start_time": "2023-01-06T14:48:01.392Z"
   },
   {
    "duration": 43,
    "start_time": "2023-01-06T14:48:01.418Z"
   },
   {
    "duration": 122,
    "start_time": "2023-01-06T14:48:01.464Z"
   },
   {
    "duration": 90,
    "start_time": "2023-01-06T14:48:01.588Z"
   },
   {
    "duration": 140,
    "start_time": "2023-01-06T14:48:01.680Z"
   },
   {
    "duration": 142,
    "start_time": "2023-01-06T14:48:01.822Z"
   },
   {
    "duration": 670,
    "start_time": "2023-01-06T14:48:01.965Z"
   },
   {
    "duration": 0,
    "start_time": "2023-01-06T14:48:02.637Z"
   },
   {
    "duration": 0,
    "start_time": "2023-01-06T14:48:02.638Z"
   },
   {
    "duration": 0,
    "start_time": "2023-01-06T14:48:02.640Z"
   },
   {
    "duration": 21,
    "start_time": "2023-01-06T14:48:10.711Z"
   },
   {
    "duration": 81,
    "start_time": "2023-01-06T14:48:14.584Z"
   },
   {
    "duration": 924,
    "start_time": "2023-01-06T14:49:12.208Z"
   },
   {
    "duration": 18,
    "start_time": "2023-01-06T14:49:13.134Z"
   },
   {
    "duration": 18,
    "start_time": "2023-01-06T14:49:13.154Z"
   },
   {
    "duration": 24,
    "start_time": "2023-01-06T14:49:13.174Z"
   },
   {
    "duration": 2,
    "start_time": "2023-01-06T14:49:13.200Z"
   },
   {
    "duration": 116,
    "start_time": "2023-01-06T14:49:13.204Z"
   },
   {
    "duration": 141,
    "start_time": "2023-01-06T14:49:13.322Z"
   },
   {
    "duration": 126,
    "start_time": "2023-01-06T14:49:13.465Z"
   },
   {
    "duration": 42,
    "start_time": "2023-01-06T14:49:13.593Z"
   },
   {
    "duration": 87,
    "start_time": "2023-01-06T14:49:13.637Z"
   },
   {
    "duration": 96,
    "start_time": "2023-01-06T14:49:13.726Z"
   },
   {
    "duration": 0,
    "start_time": "2023-01-06T14:49:13.824Z"
   },
   {
    "duration": 75,
    "start_time": "2023-01-06T14:51:15.621Z"
   },
   {
    "duration": 44,
    "start_time": "2023-01-06T14:51:25.083Z"
   },
   {
    "duration": 83,
    "start_time": "2023-01-06T14:55:20.895Z"
   },
   {
    "duration": 838,
    "start_time": "2023-01-06T14:56:13.567Z"
   },
   {
    "duration": 14,
    "start_time": "2023-01-06T14:56:14.407Z"
   },
   {
    "duration": 29,
    "start_time": "2023-01-06T14:56:14.423Z"
   },
   {
    "duration": 22,
    "start_time": "2023-01-06T14:56:14.454Z"
   },
   {
    "duration": 32,
    "start_time": "2023-01-06T14:56:14.478Z"
   },
   {
    "duration": 91,
    "start_time": "2023-01-06T14:56:14.512Z"
   },
   {
    "duration": 104,
    "start_time": "2023-01-06T14:56:14.605Z"
   },
   {
    "duration": 166,
    "start_time": "2023-01-06T14:56:14.711Z"
   },
   {
    "duration": 150,
    "start_time": "2023-01-06T14:56:14.880Z"
   },
   {
    "duration": 51,
    "start_time": "2023-01-06T14:56:15.032Z"
   },
   {
    "duration": 101,
    "start_time": "2023-01-06T14:56:15.085Z"
   },
   {
    "duration": 97,
    "start_time": "2023-01-06T14:56:15.188Z"
   },
   {
    "duration": 0,
    "start_time": "2023-01-06T14:56:15.287Z"
   },
   {
    "duration": 39,
    "start_time": "2023-01-06T14:56:38.273Z"
   },
   {
    "duration": 82,
    "start_time": "2023-01-06T14:56:48.297Z"
   },
   {
    "duration": 39,
    "start_time": "2023-01-06T14:56:58.797Z"
   },
   {
    "duration": 90,
    "start_time": "2023-01-06T14:57:24.531Z"
   },
   {
    "duration": 39,
    "start_time": "2023-01-06T14:57:32.129Z"
   },
   {
    "duration": 120,
    "start_time": "2023-01-06T14:57:54.039Z"
   },
   {
    "duration": 29,
    "start_time": "2023-01-06T14:57:57.245Z"
   },
   {
    "duration": 21,
    "start_time": "2023-01-06T14:58:22.506Z"
   },
   {
    "duration": 18,
    "start_time": "2023-01-06T14:58:34.324Z"
   },
   {
    "duration": 15,
    "start_time": "2023-01-06T14:58:41.312Z"
   },
   {
    "duration": 853,
    "start_time": "2023-01-06T14:59:28.905Z"
   },
   {
    "duration": 17,
    "start_time": "2023-01-06T14:59:29.760Z"
   },
   {
    "duration": 18,
    "start_time": "2023-01-06T14:59:29.779Z"
   },
   {
    "duration": 25,
    "start_time": "2023-01-06T14:59:29.800Z"
   },
   {
    "duration": 31,
    "start_time": "2023-01-06T14:59:29.852Z"
   },
   {
    "duration": 120,
    "start_time": "2023-01-06T14:59:29.885Z"
   },
   {
    "duration": 102,
    "start_time": "2023-01-06T14:59:30.007Z"
   },
   {
    "duration": 163,
    "start_time": "2023-01-06T14:59:30.111Z"
   },
   {
    "duration": 154,
    "start_time": "2023-01-06T14:59:30.275Z"
   },
   {
    "duration": 135,
    "start_time": "2023-01-06T14:59:30.432Z"
   },
   {
    "duration": 18,
    "start_time": "2023-01-06T14:59:30.569Z"
   },
   {
    "duration": 22,
    "start_time": "2023-01-06T15:07:24.195Z"
   },
   {
    "duration": 846,
    "start_time": "2023-01-06T15:08:03.880Z"
   },
   {
    "duration": 24,
    "start_time": "2023-01-06T15:08:04.728Z"
   },
   {
    "duration": 17,
    "start_time": "2023-01-06T15:08:04.753Z"
   },
   {
    "duration": 21,
    "start_time": "2023-01-06T15:08:04.772Z"
   },
   {
    "duration": 116,
    "start_time": "2023-01-06T15:08:04.794Z"
   },
   {
    "duration": 100,
    "start_time": "2023-01-06T15:08:04.912Z"
   },
   {
    "duration": 135,
    "start_time": "2023-01-06T15:08:05.013Z"
   },
   {
    "duration": 23,
    "start_time": "2023-01-06T15:08:05.151Z"
   },
   {
    "duration": 219,
    "start_time": "2023-01-06T15:08:05.176Z"
   },
   {
    "duration": 168,
    "start_time": "2023-01-06T15:08:05.398Z"
   },
   {
    "duration": 12,
    "start_time": "2023-01-06T15:08:05.568Z"
   },
   {
    "duration": 22,
    "start_time": "2023-01-06T15:08:22.411Z"
   },
   {
    "duration": 90,
    "start_time": "2023-01-06T15:08:27.291Z"
   },
   {
    "duration": 31,
    "start_time": "2023-01-06T15:08:31.042Z"
   },
   {
    "duration": 18,
    "start_time": "2023-01-06T15:09:30.051Z"
   },
   {
    "duration": 160,
    "start_time": "2023-01-06T15:14:24.270Z"
   },
   {
    "duration": 49,
    "start_time": "2023-01-06T15:14:46.838Z"
   },
   {
    "duration": 54,
    "start_time": "2023-01-06T15:15:06.253Z"
   },
   {
    "duration": 153,
    "start_time": "2023-01-06T15:15:28.298Z"
   },
   {
    "duration": 23,
    "start_time": "2023-01-06T15:15:47.798Z"
   },
   {
    "duration": 20,
    "start_time": "2023-01-06T15:16:12.001Z"
   },
   {
    "duration": 14,
    "start_time": "2023-01-06T15:16:18.115Z"
   },
   {
    "duration": 72,
    "start_time": "2023-01-06T15:20:50.498Z"
   },
   {
    "duration": 25,
    "start_time": "2023-01-06T15:21:03.813Z"
   },
   {
    "duration": 54,
    "start_time": "2023-01-06T15:21:22.551Z"
   },
   {
    "duration": 21,
    "start_time": "2023-01-06T15:21:27.215Z"
   },
   {
    "duration": 171,
    "start_time": "2023-01-06T15:27:05.274Z"
   },
   {
    "duration": 170,
    "start_time": "2023-01-06T15:27:15.750Z"
   },
   {
    "duration": 180,
    "start_time": "2023-01-06T15:27:24.352Z"
   },
   {
    "duration": 184,
    "start_time": "2023-01-06T15:27:39.154Z"
   },
   {
    "duration": 380,
    "start_time": "2023-01-06T15:31:16.477Z"
   },
   {
    "duration": 191,
    "start_time": "2023-01-06T15:34:36.032Z"
   },
   {
    "duration": 463,
    "start_time": "2023-01-06T15:35:12.017Z"
   },
   {
    "duration": 884,
    "start_time": "2023-01-06T15:38:21.864Z"
   },
   {
    "duration": 14,
    "start_time": "2023-01-06T15:38:22.751Z"
   },
   {
    "duration": 17,
    "start_time": "2023-01-06T15:38:22.766Z"
   },
   {
    "duration": 21,
    "start_time": "2023-01-06T15:38:22.785Z"
   },
   {
    "duration": 119,
    "start_time": "2023-01-06T15:38:22.807Z"
   },
   {
    "duration": 97,
    "start_time": "2023-01-06T15:38:22.928Z"
   },
   {
    "duration": 134,
    "start_time": "2023-01-06T15:38:23.027Z"
   },
   {
    "duration": 23,
    "start_time": "2023-01-06T15:38:23.163Z"
   },
   {
    "duration": 227,
    "start_time": "2023-01-06T15:38:23.188Z"
   },
   {
    "duration": 15,
    "start_time": "2023-01-06T15:38:23.418Z"
   },
   {
    "duration": 36,
    "start_time": "2023-01-06T15:38:23.435Z"
   },
   {
    "duration": 188,
    "start_time": "2023-01-06T15:38:23.474Z"
   },
   {
    "duration": 186,
    "start_time": "2023-01-06T15:38:23.665Z"
   },
   {
    "duration": 50,
    "start_time": "2023-01-06T15:42:47.962Z"
   },
   {
    "duration": 1415,
    "start_time": "2023-01-06T15:42:55.568Z"
   },
   {
    "duration": 16,
    "start_time": "2023-01-06T15:42:56.986Z"
   },
   {
    "duration": 17,
    "start_time": "2023-01-06T15:42:57.004Z"
   },
   {
    "duration": 37,
    "start_time": "2023-01-06T15:42:57.023Z"
   },
   {
    "duration": 100,
    "start_time": "2023-01-06T15:42:57.064Z"
   },
   {
    "duration": 102,
    "start_time": "2023-01-06T15:42:57.166Z"
   },
   {
    "duration": 126,
    "start_time": "2023-01-06T15:42:57.269Z"
   },
   {
    "duration": 19,
    "start_time": "2023-01-06T15:42:57.397Z"
   },
   {
    "duration": 215,
    "start_time": "2023-01-06T15:42:57.418Z"
   },
   {
    "duration": 18,
    "start_time": "2023-01-06T15:42:57.635Z"
   },
   {
    "duration": 26,
    "start_time": "2023-01-06T15:42:57.655Z"
   },
   {
    "duration": 181,
    "start_time": "2023-01-06T15:42:57.683Z"
   },
   {
    "duration": 173,
    "start_time": "2023-01-06T15:42:57.866Z"
   },
   {
    "duration": 58,
    "start_time": "2023-01-06T15:42:58.042Z"
   },
   {
    "duration": 3,
    "start_time": "2023-01-06T15:42:58.102Z"
   },
   {
    "duration": 30,
    "start_time": "2023-01-06T15:42:58.107Z"
   },
   {
    "duration": 1598,
    "start_time": "2023-01-06T16:24:45.597Z"
   },
   {
    "duration": 15,
    "start_time": "2023-01-06T16:24:47.197Z"
   },
   {
    "duration": 35,
    "start_time": "2023-01-06T16:24:47.213Z"
   },
   {
    "duration": 33,
    "start_time": "2023-01-06T16:24:47.252Z"
   },
   {
    "duration": 123,
    "start_time": "2023-01-06T16:24:47.288Z"
   },
   {
    "duration": 120,
    "start_time": "2023-01-06T16:24:47.413Z"
   },
   {
    "duration": 174,
    "start_time": "2023-01-06T16:24:47.535Z"
   },
   {
    "duration": 21,
    "start_time": "2023-01-06T16:24:47.711Z"
   },
   {
    "duration": 233,
    "start_time": "2023-01-06T16:24:47.734Z"
   },
   {
    "duration": 27,
    "start_time": "2023-01-06T16:24:47.970Z"
   },
   {
    "duration": 39,
    "start_time": "2023-01-06T16:24:47.999Z"
   },
   {
    "duration": 177,
    "start_time": "2023-01-06T16:24:48.040Z"
   },
   {
    "duration": 213,
    "start_time": "2023-01-06T16:24:48.219Z"
   },
   {
    "duration": 60,
    "start_time": "2023-01-06T16:24:48.434Z"
   },
   {
    "duration": 12,
    "start_time": "2023-01-06T16:24:48.496Z"
   },
   {
    "duration": 5,
    "start_time": "2023-01-06T16:32:41.406Z"
   },
   {
    "duration": 123,
    "start_time": "2023-01-06T16:32:49.736Z"
   },
   {
    "duration": 89,
    "start_time": "2023-01-06T16:32:52.497Z"
   },
   {
    "duration": 5,
    "start_time": "2023-01-06T16:32:57.567Z"
   },
   {
    "duration": 2528,
    "start_time": "2023-01-06T16:34:08.577Z"
   },
   {
    "duration": 1305,
    "start_time": "2023-01-06T16:34:29.245Z"
   },
   {
    "duration": 132,
    "start_time": "2023-01-06T16:39:49.218Z"
   },
   {
    "duration": 46,
    "start_time": "2023-01-06T16:54:07.419Z"
   },
   {
    "duration": 21,
    "start_time": "2023-01-06T16:54:17.074Z"
   },
   {
    "duration": 890,
    "start_time": "2023-01-06T16:54:28.156Z"
   },
   {
    "duration": 15,
    "start_time": "2023-01-06T16:54:29.050Z"
   },
   {
    "duration": 16,
    "start_time": "2023-01-06T16:54:29.067Z"
   },
   {
    "duration": 22,
    "start_time": "2023-01-06T16:54:29.086Z"
   },
   {
    "duration": 98,
    "start_time": "2023-01-06T16:54:29.109Z"
   },
   {
    "duration": 16,
    "start_time": "2023-01-06T16:54:29.209Z"
   },
   {
    "duration": 107,
    "start_time": "2023-01-06T16:54:29.227Z"
   },
   {
    "duration": 135,
    "start_time": "2023-01-06T16:54:29.336Z"
   },
   {
    "duration": 22,
    "start_time": "2023-01-06T16:54:29.473Z"
   },
   {
    "duration": 274,
    "start_time": "2023-01-06T16:54:29.498Z"
   },
   {
    "duration": 19,
    "start_time": "2023-01-06T16:54:29.774Z"
   },
   {
    "duration": 34,
    "start_time": "2023-01-06T16:54:29.795Z"
   },
   {
    "duration": 191,
    "start_time": "2023-01-06T16:54:29.831Z"
   },
   {
    "duration": 174,
    "start_time": "2023-01-06T16:54:30.024Z"
   },
   {
    "duration": 68,
    "start_time": "2023-01-06T16:54:30.200Z"
   },
   {
    "duration": 13,
    "start_time": "2023-01-06T16:54:30.269Z"
   },
   {
    "duration": 806,
    "start_time": "2023-01-06T16:55:52.692Z"
   },
   {
    "duration": 15,
    "start_time": "2023-01-06T16:55:53.500Z"
   },
   {
    "duration": 16,
    "start_time": "2023-01-06T16:55:53.516Z"
   },
   {
    "duration": 22,
    "start_time": "2023-01-06T16:55:53.550Z"
   },
   {
    "duration": 52,
    "start_time": "2023-01-06T16:55:53.573Z"
   },
   {
    "duration": 33,
    "start_time": "2023-01-06T16:55:53.627Z"
   },
   {
    "duration": 110,
    "start_time": "2023-01-06T16:55:53.662Z"
   },
   {
    "duration": 134,
    "start_time": "2023-01-06T16:55:53.773Z"
   },
   {
    "duration": 19,
    "start_time": "2023-01-06T16:55:53.909Z"
   },
   {
    "duration": 214,
    "start_time": "2023-01-06T16:55:53.931Z"
   },
   {
    "duration": 13,
    "start_time": "2023-01-06T16:55:54.146Z"
   },
   {
    "duration": 27,
    "start_time": "2023-01-06T16:55:54.161Z"
   },
   {
    "duration": 170,
    "start_time": "2023-01-06T16:55:54.191Z"
   },
   {
    "duration": 170,
    "start_time": "2023-01-06T16:55:54.362Z"
   },
   {
    "duration": 62,
    "start_time": "2023-01-06T16:55:54.534Z"
   },
   {
    "duration": 11,
    "start_time": "2023-01-06T16:55:54.597Z"
   },
   {
    "duration": 446,
    "start_time": "2023-01-06T16:57:52.256Z"
   },
   {
    "duration": 126,
    "start_time": "2023-01-06T16:58:28.299Z"
   },
   {
    "duration": 96,
    "start_time": "2023-01-06T16:58:44.162Z"
   },
   {
    "duration": 8,
    "start_time": "2023-01-06T17:02:19.735Z"
   },
   {
    "duration": 14,
    "start_time": "2023-01-06T17:02:30.552Z"
   },
   {
    "duration": 14,
    "start_time": "2023-01-06T17:03:41.511Z"
   },
   {
    "duration": 28,
    "start_time": "2023-01-06T17:04:25.819Z"
   },
   {
    "duration": 24,
    "start_time": "2023-01-06T17:04:53.249Z"
   },
   {
    "duration": 23,
    "start_time": "2023-01-06T17:06:05.985Z"
   },
   {
    "duration": 37,
    "start_time": "2023-01-06T17:06:45.117Z"
   },
   {
    "duration": 21,
    "start_time": "2023-01-06T17:06:48.645Z"
   },
   {
    "duration": 81,
    "start_time": "2023-01-06T17:07:21.064Z"
   },
   {
    "duration": 59,
    "start_time": "2023-01-06T17:07:28.663Z"
   },
   {
    "duration": 25,
    "start_time": "2023-01-06T17:07:50.729Z"
   },
   {
    "duration": 36,
    "start_time": "2023-01-06T17:07:57.041Z"
   },
   {
    "duration": 244,
    "start_time": "2023-01-06T17:08:48.558Z"
   },
   {
    "duration": 192,
    "start_time": "2023-01-06T17:08:54.127Z"
   },
   {
    "duration": 20,
    "start_time": "2023-01-06T17:10:26.046Z"
   },
   {
    "duration": 14,
    "start_time": "2023-01-06T17:10:41.127Z"
   },
   {
    "duration": 5,
    "start_time": "2023-01-06T17:14:13.014Z"
   },
   {
    "duration": 59,
    "start_time": "2023-01-06T17:19:55.153Z"
   },
   {
    "duration": 17,
    "start_time": "2023-01-06T17:32:53.432Z"
   },
   {
    "duration": 60,
    "start_time": "2023-01-06T17:33:24.136Z"
   },
   {
    "duration": 178,
    "start_time": "2023-01-06T17:33:45.782Z"
   },
   {
    "duration": 53,
    "start_time": "2023-01-06T17:36:17.714Z"
   },
   {
    "duration": 47,
    "start_time": "2023-01-06T17:36:22.356Z"
   },
   {
    "duration": 868,
    "start_time": "2023-01-06T17:38:02.769Z"
   },
   {
    "duration": 30,
    "start_time": "2023-01-06T17:38:03.639Z"
   },
   {
    "duration": 16,
    "start_time": "2023-01-06T17:38:03.672Z"
   },
   {
    "duration": 22,
    "start_time": "2023-01-06T17:38:03.690Z"
   },
   {
    "duration": 76,
    "start_time": "2023-01-06T17:38:03.713Z"
   },
   {
    "duration": 112,
    "start_time": "2023-01-06T17:38:03.791Z"
   },
   {
    "duration": 98,
    "start_time": "2023-01-06T17:38:03.905Z"
   },
   {
    "duration": 22,
    "start_time": "2023-01-06T17:38:04.005Z"
   },
   {
    "duration": 269,
    "start_time": "2023-01-06T17:38:04.029Z"
   },
   {
    "duration": 14,
    "start_time": "2023-01-06T17:38:04.301Z"
   },
   {
    "duration": 59,
    "start_time": "2023-01-06T17:38:04.316Z"
   },
   {
    "duration": 59,
    "start_time": "2023-01-06T17:38:04.377Z"
   },
   {
    "duration": 219,
    "start_time": "2023-01-06T17:38:04.450Z"
   },
   {
    "duration": 56,
    "start_time": "2023-01-06T17:38:04.671Z"
   },
   {
    "duration": 206,
    "start_time": "2023-01-06T17:38:04.729Z"
   },
   {
    "duration": 64,
    "start_time": "2023-01-06T17:38:04.937Z"
   },
   {
    "duration": 12,
    "start_time": "2023-01-06T17:38:05.002Z"
   },
   {
    "duration": 67,
    "start_time": "2023-01-06T17:39:48.161Z"
   },
   {
    "duration": 889,
    "start_time": "2023-01-06T17:41:25.939Z"
   },
   {
    "duration": 15,
    "start_time": "2023-01-06T17:41:26.830Z"
   },
   {
    "duration": 28,
    "start_time": "2023-01-06T17:41:26.846Z"
   },
   {
    "duration": 24,
    "start_time": "2023-01-06T17:41:26.877Z"
   },
   {
    "duration": 77,
    "start_time": "2023-01-06T17:41:26.903Z"
   },
   {
    "duration": 108,
    "start_time": "2023-01-06T17:41:26.982Z"
   },
   {
    "duration": 100,
    "start_time": "2023-01-06T17:41:27.091Z"
   },
   {
    "duration": 21,
    "start_time": "2023-01-06T17:41:27.192Z"
   },
   {
    "duration": 258,
    "start_time": "2023-01-06T17:41:27.215Z"
   },
   {
    "duration": 13,
    "start_time": "2023-01-06T17:41:27.476Z"
   },
   {
    "duration": 46,
    "start_time": "2023-01-06T17:41:27.490Z"
   },
   {
    "duration": 74,
    "start_time": "2023-01-06T17:41:27.538Z"
   },
   {
    "duration": 227,
    "start_time": "2023-01-06T17:41:27.613Z"
   },
   {
    "duration": 53,
    "start_time": "2023-01-06T17:41:27.842Z"
   },
   {
    "duration": 192,
    "start_time": "2023-01-06T17:41:27.897Z"
   },
   {
    "duration": 63,
    "start_time": "2023-01-06T17:41:28.091Z"
   },
   {
    "duration": 18,
    "start_time": "2023-01-06T17:41:28.156Z"
   },
   {
    "duration": 48,
    "start_time": "2023-01-07T07:56:04.589Z"
   },
   {
    "duration": 0,
    "start_time": "2023-01-07T07:58:55.344Z"
   },
   {
    "duration": 49,
    "start_time": "2023-01-07T08:01:20.111Z"
   },
   {
    "duration": 790,
    "start_time": "2023-01-07T08:01:26.277Z"
   },
   {
    "duration": 15,
    "start_time": "2023-01-07T08:01:29.247Z"
   },
   {
    "duration": 813,
    "start_time": "2023-01-07T08:01:35.161Z"
   },
   {
    "duration": 14,
    "start_time": "2023-01-07T08:01:35.976Z"
   },
   {
    "duration": 14,
    "start_time": "2023-01-07T08:01:35.992Z"
   },
   {
    "duration": 37,
    "start_time": "2023-01-07T08:01:36.008Z"
   },
   {
    "duration": 54,
    "start_time": "2023-01-07T08:01:36.047Z"
   },
   {
    "duration": 91,
    "start_time": "2023-01-07T08:01:36.103Z"
   },
   {
    "duration": 20,
    "start_time": "2023-01-07T08:01:36.195Z"
   },
   {
    "duration": 99,
    "start_time": "2023-01-07T08:01:36.217Z"
   },
   {
    "duration": 18,
    "start_time": "2023-01-07T08:01:36.318Z"
   },
   {
    "duration": 225,
    "start_time": "2023-01-07T08:01:36.339Z"
   },
   {
    "duration": 13,
    "start_time": "2023-01-07T08:01:36.566Z"
   },
   {
    "duration": 47,
    "start_time": "2023-01-07T08:01:36.581Z"
   },
   {
    "duration": 53,
    "start_time": "2023-01-07T08:01:36.630Z"
   },
   {
    "duration": 165,
    "start_time": "2023-01-07T08:01:36.685Z"
   },
   {
    "duration": 47,
    "start_time": "2023-01-07T08:01:36.851Z"
   },
   {
    "duration": 159,
    "start_time": "2023-01-07T08:01:36.899Z"
   },
   {
    "duration": 59,
    "start_time": "2023-01-07T08:01:37.060Z"
   },
   {
    "duration": 15,
    "start_time": "2023-01-07T08:01:37.121Z"
   },
   {
    "duration": 11,
    "start_time": "2023-01-07T08:01:55.287Z"
   },
   {
    "duration": 75,
    "start_time": "2023-01-07T08:03:35.055Z"
   },
   {
    "duration": 28,
    "start_time": "2023-01-07T08:03:40.213Z"
   },
   {
    "duration": 27,
    "start_time": "2023-01-07T08:04:54.589Z"
   },
   {
    "duration": 15,
    "start_time": "2023-01-07T08:05:38.235Z"
   },
   {
    "duration": 33,
    "start_time": "2023-01-07T08:06:05.553Z"
   },
   {
    "duration": 236,
    "start_time": "2023-01-07T08:10:34.970Z"
   },
   {
    "duration": 88,
    "start_time": "2023-01-07T08:11:08.742Z"
   },
   {
    "duration": 80,
    "start_time": "2023-01-07T08:11:45.666Z"
   },
   {
    "duration": 47,
    "start_time": "2023-01-07T08:12:44.899Z"
   },
   {
    "duration": 7,
    "start_time": "2023-01-07T08:13:54.372Z"
   },
   {
    "duration": 7,
    "start_time": "2023-01-07T08:14:25.786Z"
   },
   {
    "duration": 88,
    "start_time": "2023-01-07T08:15:30.579Z"
   },
   {
    "duration": 6,
    "start_time": "2023-01-07T08:15:43.967Z"
   },
   {
    "duration": 9,
    "start_time": "2023-01-07T08:19:53.579Z"
   },
   {
    "duration": 1100,
    "start_time": "2023-01-07T08:24:59.525Z"
   },
   {
    "duration": 13,
    "start_time": "2023-01-07T08:25:00.627Z"
   },
   {
    "duration": 28,
    "start_time": "2023-01-07T08:25:00.642Z"
   },
   {
    "duration": 18,
    "start_time": "2023-01-07T08:25:00.673Z"
   },
   {
    "duration": 58,
    "start_time": "2023-01-07T08:25:00.693Z"
   },
   {
    "duration": 89,
    "start_time": "2023-01-07T08:25:00.753Z"
   },
   {
    "duration": 94,
    "start_time": "2023-01-07T08:25:00.844Z"
   },
   {
    "duration": 46,
    "start_time": "2023-01-07T08:25:00.940Z"
   },
   {
    "duration": 229,
    "start_time": "2023-01-07T08:25:00.988Z"
   },
   {
    "duration": 11,
    "start_time": "2023-01-07T08:25:01.219Z"
   },
   {
    "duration": 57,
    "start_time": "2023-01-07T08:25:01.231Z"
   },
   {
    "duration": 58,
    "start_time": "2023-01-07T08:25:01.289Z"
   },
   {
    "duration": 56,
    "start_time": "2023-01-07T08:25:01.349Z"
   },
   {
    "duration": 6,
    "start_time": "2023-01-07T08:25:01.407Z"
   },
   {
    "duration": 94,
    "start_time": "2023-01-07T08:25:01.415Z"
   },
   {
    "duration": 13,
    "start_time": "2023-01-07T08:25:01.511Z"
   },
   {
    "duration": 275,
    "start_time": "2023-01-07T08:28:00.822Z"
   },
   {
    "duration": 98,
    "start_time": "2023-01-07T08:28:25.868Z"
   },
   {
    "duration": 805,
    "start_time": "2023-01-07T08:29:02.484Z"
   },
   {
    "duration": 13,
    "start_time": "2023-01-07T08:29:03.292Z"
   },
   {
    "duration": 24,
    "start_time": "2023-01-07T08:29:03.306Z"
   },
   {
    "duration": 21,
    "start_time": "2023-01-07T08:29:03.332Z"
   },
   {
    "duration": 359,
    "start_time": "2023-01-07T08:29:03.355Z"
   },
   {
    "duration": 114,
    "start_time": "2023-01-07T08:29:03.715Z"
   },
   {
    "duration": 113,
    "start_time": "2023-01-07T08:29:03.831Z"
   },
   {
    "duration": 40,
    "start_time": "2023-01-07T08:29:03.946Z"
   },
   {
    "duration": 272,
    "start_time": "2023-01-07T08:29:03.988Z"
   },
   {
    "duration": 17,
    "start_time": "2023-01-07T08:29:04.262Z"
   },
   {
    "duration": 52,
    "start_time": "2023-01-07T08:29:04.281Z"
   },
   {
    "duration": 84,
    "start_time": "2023-01-07T08:29:04.335Z"
   },
   {
    "duration": 64,
    "start_time": "2023-01-07T08:29:04.421Z"
   },
   {
    "duration": 6,
    "start_time": "2023-01-07T08:29:04.487Z"
   },
   {
    "duration": 72,
    "start_time": "2023-01-07T08:29:04.495Z"
   },
   {
    "duration": 20,
    "start_time": "2023-01-07T08:29:04.569Z"
   },
   {
    "duration": 82,
    "start_time": "2023-01-07T08:29:32.267Z"
   },
   {
    "duration": 151,
    "start_time": "2023-01-07T08:29:40.013Z"
   },
   {
    "duration": 881,
    "start_time": "2023-01-07T08:31:07.997Z"
   },
   {
    "duration": 14,
    "start_time": "2023-01-07T08:31:08.880Z"
   },
   {
    "duration": 15,
    "start_time": "2023-01-07T08:31:08.896Z"
   },
   {
    "duration": 20,
    "start_time": "2023-01-07T08:31:08.913Z"
   },
   {
    "duration": 895,
    "start_time": "2023-01-07T08:31:08.935Z"
   },
   {
    "duration": 0,
    "start_time": "2023-01-07T08:31:09.832Z"
   },
   {
    "duration": 0,
    "start_time": "2023-01-07T08:31:09.834Z"
   },
   {
    "duration": 0,
    "start_time": "2023-01-07T08:31:09.835Z"
   },
   {
    "duration": 0,
    "start_time": "2023-01-07T08:31:09.836Z"
   },
   {
    "duration": 0,
    "start_time": "2023-01-07T08:31:09.838Z"
   },
   {
    "duration": 0,
    "start_time": "2023-01-07T08:31:09.839Z"
   },
   {
    "duration": 0,
    "start_time": "2023-01-07T08:31:09.840Z"
   },
   {
    "duration": 0,
    "start_time": "2023-01-07T08:31:09.841Z"
   },
   {
    "duration": 0,
    "start_time": "2023-01-07T08:31:09.842Z"
   },
   {
    "duration": 0,
    "start_time": "2023-01-07T08:31:09.843Z"
   },
   {
    "duration": 0,
    "start_time": "2023-01-07T08:31:09.844Z"
   },
   {
    "duration": 334,
    "start_time": "2023-01-07T08:31:29.780Z"
   },
   {
    "duration": 93,
    "start_time": "2023-01-07T08:31:42.261Z"
   },
   {
    "duration": 31,
    "start_time": "2023-01-07T08:31:51.070Z"
   },
   {
    "duration": 244,
    "start_time": "2023-01-07T08:31:53.871Z"
   },
   {
    "duration": 11,
    "start_time": "2023-01-07T08:31:56.524Z"
   },
   {
    "duration": 13,
    "start_time": "2023-01-07T08:32:11.543Z"
   },
   {
    "duration": 50,
    "start_time": "2023-01-07T08:32:14.236Z"
   },
   {
    "duration": 12,
    "start_time": "2023-01-07T08:32:17.269Z"
   },
   {
    "duration": 74,
    "start_time": "2023-01-07T08:32:21.239Z"
   },
   {
    "duration": 77,
    "start_time": "2023-01-07T08:32:28.231Z"
   },
   {
    "duration": 196,
    "start_time": "2023-01-07T08:32:32.628Z"
   },
   {
    "duration": 65,
    "start_time": "2023-01-07T08:32:40.809Z"
   },
   {
    "duration": 574,
    "start_time": "2023-01-07T08:33:45.641Z"
   },
   {
    "duration": 421,
    "start_time": "2023-01-07T08:35:13.129Z"
   },
   {
    "duration": 410,
    "start_time": "2023-01-07T08:35:22.879Z"
   },
   {
    "duration": 271,
    "start_time": "2023-01-07T08:36:42.300Z"
   },
   {
    "duration": 280,
    "start_time": "2023-01-07T08:37:08.329Z"
   },
   {
    "duration": 210,
    "start_time": "2023-01-07T08:37:15.521Z"
   },
   {
    "duration": 204,
    "start_time": "2023-01-07T08:37:33.871Z"
   },
   {
    "duration": 209,
    "start_time": "2023-01-07T08:37:42.963Z"
   },
   {
    "duration": 13,
    "start_time": "2023-01-07T08:38:54.442Z"
   },
   {
    "duration": 11,
    "start_time": "2023-01-07T08:39:36.845Z"
   },
   {
    "duration": 8,
    "start_time": "2023-01-07T08:40:34.143Z"
   },
   {
    "duration": 8,
    "start_time": "2023-01-07T08:40:53.088Z"
   },
   {
    "duration": 10,
    "start_time": "2023-01-07T08:41:00.675Z"
   },
   {
    "duration": 8,
    "start_time": "2023-01-07T08:41:11.561Z"
   },
   {
    "duration": 209,
    "start_time": "2023-01-07T08:41:29.925Z"
   },
   {
    "duration": 207,
    "start_time": "2023-01-07T08:41:36.039Z"
   },
   {
    "duration": 8,
    "start_time": "2023-01-07T08:42:05.728Z"
   },
   {
    "duration": 107,
    "start_time": "2023-01-07T08:44:17.497Z"
   },
   {
    "duration": 11,
    "start_time": "2023-01-07T08:49:39.747Z"
   },
   {
    "duration": 9,
    "start_time": "2023-01-07T08:49:44.996Z"
   },
   {
    "duration": 9,
    "start_time": "2023-01-07T08:49:52.557Z"
   },
   {
    "duration": 138,
    "start_time": "2023-01-07T08:50:01.866Z"
   },
   {
    "duration": 245,
    "start_time": "2023-01-07T08:50:15.507Z"
   },
   {
    "duration": 780,
    "start_time": "2023-01-07T08:50:25.675Z"
   },
   {
    "duration": 21,
    "start_time": "2023-01-07T08:50:26.457Z"
   },
   {
    "duration": 15,
    "start_time": "2023-01-07T08:50:26.479Z"
   },
   {
    "duration": 20,
    "start_time": "2023-01-07T08:50:26.497Z"
   },
   {
    "duration": 359,
    "start_time": "2023-01-07T08:50:26.519Z"
   },
   {
    "duration": 115,
    "start_time": "2023-01-07T08:50:26.880Z"
   },
   {
    "duration": 257,
    "start_time": "2023-01-07T08:50:26.998Z"
   },
   {
    "duration": 88,
    "start_time": "2023-01-07T08:50:27.257Z"
   },
   {
    "duration": 40,
    "start_time": "2023-01-07T08:50:27.346Z"
   },
   {
    "duration": 268,
    "start_time": "2023-01-07T08:50:27.388Z"
   },
   {
    "duration": 21,
    "start_time": "2023-01-07T08:50:27.657Z"
   },
   {
    "duration": 45,
    "start_time": "2023-01-07T08:50:27.679Z"
   },
   {
    "duration": 83,
    "start_time": "2023-01-07T08:50:27.725Z"
   },
   {
    "duration": 44,
    "start_time": "2023-01-07T08:50:27.810Z"
   },
   {
    "duration": 169,
    "start_time": "2023-01-07T08:50:27.856Z"
   },
   {
    "duration": 68,
    "start_time": "2023-01-07T08:50:28.027Z"
   },
   {
    "duration": 573,
    "start_time": "2023-01-07T08:50:28.097Z"
   },
   {
    "duration": 283,
    "start_time": "2023-01-07T08:50:28.677Z"
   },
   {
    "duration": 17,
    "start_time": "2023-01-07T08:50:28.961Z"
   },
   {
    "duration": 76,
    "start_time": "2023-01-07T08:50:28.980Z"
   },
   {
    "duration": 40,
    "start_time": "2023-01-07T08:52:04.518Z"
   },
   {
    "duration": 133,
    "start_time": "2023-01-07T08:53:44.704Z"
   },
   {
    "duration": 116,
    "start_time": "2023-01-07T08:53:52.640Z"
   },
   {
    "duration": 237,
    "start_time": "2023-01-07T08:54:01.851Z"
   },
   {
    "duration": 34,
    "start_time": "2023-01-07T08:54:07.682Z"
   },
   {
    "duration": 821,
    "start_time": "2023-01-07T08:57:39.550Z"
   },
   {
    "duration": 15,
    "start_time": "2023-01-07T08:57:40.373Z"
   },
   {
    "duration": 13,
    "start_time": "2023-01-07T08:57:40.390Z"
   },
   {
    "duration": 19,
    "start_time": "2023-01-07T08:57:40.406Z"
   },
   {
    "duration": 362,
    "start_time": "2023-01-07T08:57:40.426Z"
   },
   {
    "duration": 121,
    "start_time": "2023-01-07T08:57:40.790Z"
   },
   {
    "duration": 262,
    "start_time": "2023-01-07T08:57:40.913Z"
   },
   {
    "duration": 79,
    "start_time": "2023-01-07T08:57:41.178Z"
   },
   {
    "duration": 37,
    "start_time": "2023-01-07T08:57:41.259Z"
   },
   {
    "duration": 264,
    "start_time": "2023-01-07T08:57:41.299Z"
   },
   {
    "duration": 15,
    "start_time": "2023-01-07T08:57:41.564Z"
   },
   {
    "duration": 44,
    "start_time": "2023-01-07T08:57:41.580Z"
   },
   {
    "duration": 91,
    "start_time": "2023-01-07T08:57:41.625Z"
   },
   {
    "duration": 48,
    "start_time": "2023-01-07T08:57:41.718Z"
   },
   {
    "duration": 181,
    "start_time": "2023-01-07T08:57:41.777Z"
   },
   {
    "duration": 60,
    "start_time": "2023-01-07T08:57:41.959Z"
   },
   {
    "duration": 505,
    "start_time": "2023-01-07T08:57:42.021Z"
   },
   {
    "duration": 255,
    "start_time": "2023-01-07T08:57:42.528Z"
   },
   {
    "duration": 8,
    "start_time": "2023-01-07T08:57:42.785Z"
   },
   {
    "duration": 89,
    "start_time": "2023-01-07T08:57:42.795Z"
   },
   {
    "duration": 270,
    "start_time": "2023-01-07T09:01:07.692Z"
   },
   {
    "duration": 206,
    "start_time": "2023-01-07T09:01:11.965Z"
   },
   {
    "duration": 212,
    "start_time": "2023-01-07T09:01:18.461Z"
   },
   {
    "duration": 9,
    "start_time": "2023-01-07T09:12:43.444Z"
   },
   {
    "duration": 6,
    "start_time": "2023-01-07T09:12:49.289Z"
   },
   {
    "duration": 6,
    "start_time": "2023-01-07T09:13:24.170Z"
   },
   {
    "duration": 5,
    "start_time": "2023-01-07T09:13:49.831Z"
   },
   {
    "duration": 10,
    "start_time": "2023-01-07T09:13:57.437Z"
   },
   {
    "duration": 6,
    "start_time": "2023-01-07T09:14:01.919Z"
   },
   {
    "duration": 172,
    "start_time": "2023-01-07T09:14:23.490Z"
   },
   {
    "duration": 785,
    "start_time": "2023-01-07T09:31:41.307Z"
   },
   {
    "duration": 14,
    "start_time": "2023-01-07T09:31:42.094Z"
   },
   {
    "duration": 13,
    "start_time": "2023-01-07T09:31:42.110Z"
   },
   {
    "duration": 19,
    "start_time": "2023-01-07T09:31:42.126Z"
   },
   {
    "duration": 351,
    "start_time": "2023-01-07T09:31:42.146Z"
   },
   {
    "duration": 111,
    "start_time": "2023-01-07T09:31:42.499Z"
   },
   {
    "duration": 248,
    "start_time": "2023-01-07T09:31:42.612Z"
   },
   {
    "duration": 88,
    "start_time": "2023-01-07T09:31:42.862Z"
   },
   {
    "duration": 42,
    "start_time": "2023-01-07T09:31:42.952Z"
   },
   {
    "duration": 255,
    "start_time": "2023-01-07T09:31:42.997Z"
   },
   {
    "duration": 10,
    "start_time": "2023-01-07T09:31:43.253Z"
   },
   {
    "duration": 51,
    "start_time": "2023-01-07T09:31:43.265Z"
   },
   {
    "duration": 82,
    "start_time": "2023-01-07T09:31:43.318Z"
   },
   {
    "duration": 48,
    "start_time": "2023-01-07T09:31:43.402Z"
   },
   {
    "duration": 174,
    "start_time": "2023-01-07T09:31:43.452Z"
   },
   {
    "duration": 534,
    "start_time": "2023-01-07T09:31:43.627Z"
   },
   {
    "duration": 260,
    "start_time": "2023-01-07T09:31:44.163Z"
   },
   {
    "duration": 8,
    "start_time": "2023-01-07T09:31:44.424Z"
   },
   {
    "duration": 6,
    "start_time": "2023-01-07T09:31:44.434Z"
   },
   {
    "duration": 89,
    "start_time": "2023-01-07T09:31:44.442Z"
   },
   {
    "duration": 7,
    "start_time": "2023-01-07T09:35:21.959Z"
   },
   {
    "duration": 6,
    "start_time": "2023-01-07T09:35:27.364Z"
   },
   {
    "duration": 196,
    "start_time": "2023-01-07T09:35:51.969Z"
   },
   {
    "duration": 69,
    "start_time": "2023-01-07T09:36:19.050Z"
   },
   {
    "duration": 10,
    "start_time": "2023-01-07T09:37:09.536Z"
   },
   {
    "duration": 16,
    "start_time": "2023-01-07T09:37:17.919Z"
   },
   {
    "duration": 8,
    "start_time": "2023-01-07T09:54:20.338Z"
   },
   {
    "duration": 20,
    "start_time": "2023-01-07T09:55:02.686Z"
   },
   {
    "duration": 20,
    "start_time": "2023-01-07T09:55:18.837Z"
   },
   {
    "duration": 20,
    "start_time": "2023-01-07T09:55:23.159Z"
   },
   {
    "duration": 20,
    "start_time": "2023-01-07T09:55:26.672Z"
   },
   {
    "duration": 21,
    "start_time": "2023-01-07T09:55:29.847Z"
   },
   {
    "duration": 259,
    "start_time": "2023-01-07T09:56:19.059Z"
   },
   {
    "duration": 317,
    "start_time": "2023-01-07T09:57:38.042Z"
   },
   {
    "duration": 168,
    "start_time": "2023-01-07T09:58:25.149Z"
   },
   {
    "duration": 203,
    "start_time": "2023-01-07T09:58:43.889Z"
   },
   {
    "duration": 177,
    "start_time": "2023-01-07T09:58:49.362Z"
   },
   {
    "duration": 208,
    "start_time": "2023-01-07T10:00:28.043Z"
   },
   {
    "duration": 227,
    "start_time": "2023-01-07T10:02:22.355Z"
   },
   {
    "duration": 206,
    "start_time": "2023-01-07T10:02:35.874Z"
   },
   {
    "duration": 168,
    "start_time": "2023-01-07T10:02:42.355Z"
   },
   {
    "duration": 197,
    "start_time": "2023-01-07T10:02:47.818Z"
   },
   {
    "duration": 172,
    "start_time": "2023-01-07T10:03:06.128Z"
   },
   {
    "duration": 34,
    "start_time": "2023-01-07T10:05:01.673Z"
   },
   {
    "duration": 198,
    "start_time": "2023-01-07T10:05:07.077Z"
   },
   {
    "duration": 270,
    "start_time": "2023-01-07T10:05:14.574Z"
   },
   {
    "duration": 183,
    "start_time": "2023-01-07T10:05:32.460Z"
   },
   {
    "duration": 174,
    "start_time": "2023-01-07T10:07:10.723Z"
   },
   {
    "duration": 177,
    "start_time": "2023-01-07T10:07:30.003Z"
   },
   {
    "duration": 185,
    "start_time": "2023-01-07T10:07:57.186Z"
   },
   {
    "duration": 205,
    "start_time": "2023-01-07T10:09:35.185Z"
   },
   {
    "duration": 210,
    "start_time": "2023-01-07T10:09:42.452Z"
   },
   {
    "duration": 49,
    "start_time": "2023-01-07T10:09:59.007Z"
   },
   {
    "duration": 213,
    "start_time": "2023-01-07T10:10:16.466Z"
   },
   {
    "duration": 289,
    "start_time": "2023-01-07T10:10:27.269Z"
   },
   {
    "duration": 5,
    "start_time": "2023-01-07T10:13:03.794Z"
   },
   {
    "duration": 10,
    "start_time": "2023-01-07T10:13:11.649Z"
   },
   {
    "duration": 727,
    "start_time": "2023-01-07T10:13:31.884Z"
   },
   {
    "duration": 298,
    "start_time": "2023-01-07T10:13:38.982Z"
   },
   {
    "duration": 218,
    "start_time": "2023-01-07T10:14:32.338Z"
   },
   {
    "duration": 234,
    "start_time": "2023-01-07T10:14:42.542Z"
   },
   {
    "duration": 220,
    "start_time": "2023-01-07T10:15:26.922Z"
   },
   {
    "duration": 258,
    "start_time": "2023-01-07T10:15:31.961Z"
   },
   {
    "duration": 239,
    "start_time": "2023-01-07T10:16:15.334Z"
   },
   {
    "duration": 336,
    "start_time": "2023-01-07T10:18:35.160Z"
   },
   {
    "duration": 248,
    "start_time": "2023-01-07T10:18:44.988Z"
   },
   {
    "duration": 224,
    "start_time": "2023-01-07T10:18:54.955Z"
   },
   {
    "duration": 253,
    "start_time": "2023-01-07T10:20:01.705Z"
   },
   {
    "duration": 239,
    "start_time": "2023-01-07T10:20:07.577Z"
   },
   {
    "duration": 343,
    "start_time": "2023-01-07T10:20:20.160Z"
   },
   {
    "duration": 219,
    "start_time": "2023-01-07T10:20:25.108Z"
   },
   {
    "duration": 256,
    "start_time": "2023-01-07T10:20:29.439Z"
   },
   {
    "duration": 272,
    "start_time": "2023-01-07T10:21:28.119Z"
   },
   {
    "duration": 218,
    "start_time": "2023-01-07T10:21:48.594Z"
   },
   {
    "duration": 247,
    "start_time": "2023-01-07T10:22:04.174Z"
   },
   {
    "duration": 197,
    "start_time": "2023-01-07T10:24:04.856Z"
   },
   {
    "duration": 267,
    "start_time": "2023-01-07T10:24:16.882Z"
   },
   {
    "duration": 526,
    "start_time": "2023-01-07T10:24:26.102Z"
   },
   {
    "duration": 217,
    "start_time": "2023-01-07T10:25:21.460Z"
   },
   {
    "duration": 232,
    "start_time": "2023-01-07T10:25:30.746Z"
   },
   {
    "duration": 246,
    "start_time": "2023-01-07T10:28:41.771Z"
   },
   {
    "duration": 234,
    "start_time": "2023-01-07T10:28:49.179Z"
   },
   {
    "duration": 302,
    "start_time": "2023-01-07T10:29:13.934Z"
   },
   {
    "duration": 213,
    "start_time": "2023-01-07T10:29:31.639Z"
   },
   {
    "duration": 210,
    "start_time": "2023-01-07T10:29:49.363Z"
   },
   {
    "duration": 215,
    "start_time": "2023-01-07T10:30:06.660Z"
   },
   {
    "duration": 246,
    "start_time": "2023-01-07T10:30:15.948Z"
   },
   {
    "duration": 304,
    "start_time": "2023-01-07T10:30:23.255Z"
   },
   {
    "duration": 219,
    "start_time": "2023-01-07T10:30:29.288Z"
   },
   {
    "duration": 197,
    "start_time": "2023-01-07T10:30:45.017Z"
   },
   {
    "duration": 199,
    "start_time": "2023-01-07T10:31:00.572Z"
   },
   {
    "duration": 184,
    "start_time": "2023-01-07T10:31:26.968Z"
   },
   {
    "duration": 162,
    "start_time": "2023-01-07T10:31:32.947Z"
   },
   {
    "duration": 174,
    "start_time": "2023-01-07T10:31:48.983Z"
   },
   {
    "duration": 148,
    "start_time": "2023-01-07T10:31:59.813Z"
   },
   {
    "duration": 162,
    "start_time": "2023-01-07T10:32:08.811Z"
   },
   {
    "duration": 167,
    "start_time": "2023-01-07T10:33:14.242Z"
   },
   {
    "duration": 280,
    "start_time": "2023-01-07T10:34:30.360Z"
   },
   {
    "duration": 181,
    "start_time": "2023-01-07T10:35:05.798Z"
   },
   {
    "duration": 165,
    "start_time": "2023-01-07T10:35:34.018Z"
   },
   {
    "duration": 174,
    "start_time": "2023-01-07T10:36:09.452Z"
   },
   {
    "duration": 161,
    "start_time": "2023-01-07T10:37:47.043Z"
   },
   {
    "duration": 202,
    "start_time": "2023-01-07T10:38:05.805Z"
   },
   {
    "duration": 167,
    "start_time": "2023-01-07T10:38:23.745Z"
   },
   {
    "duration": 99,
    "start_time": "2023-01-07T10:39:18.989Z"
   },
   {
    "duration": 77,
    "start_time": "2023-01-07T10:39:31.661Z"
   },
   {
    "duration": 81,
    "start_time": "2023-01-07T10:40:39.089Z"
   },
   {
    "duration": 79,
    "start_time": "2023-01-07T10:40:48.762Z"
   },
   {
    "duration": 77,
    "start_time": "2023-01-07T10:40:53.482Z"
   },
   {
    "duration": 73,
    "start_time": "2023-01-07T10:40:58.768Z"
   },
   {
    "duration": 76,
    "start_time": "2023-01-07T10:41:15.302Z"
   },
   {
    "duration": 10,
    "start_time": "2023-01-07T10:41:25.968Z"
   },
   {
    "duration": 76,
    "start_time": "2023-01-07T10:41:33.413Z"
   },
   {
    "duration": 86,
    "start_time": "2023-01-07T10:42:50.945Z"
   },
   {
    "duration": 93,
    "start_time": "2023-01-07T10:42:58.302Z"
   },
   {
    "duration": 79,
    "start_time": "2023-01-07T10:43:02.476Z"
   },
   {
    "duration": 75,
    "start_time": "2023-01-07T10:43:27.901Z"
   },
   {
    "duration": 82,
    "start_time": "2023-01-07T10:44:56.411Z"
   },
   {
    "duration": 78,
    "start_time": "2023-01-07T10:45:03.343Z"
   },
   {
    "duration": 51,
    "start_time": "2023-01-07T10:45:26.063Z"
   },
   {
    "duration": 76,
    "start_time": "2023-01-07T10:45:33.578Z"
   },
   {
    "duration": 74,
    "start_time": "2023-01-07T10:46:33.265Z"
   },
   {
    "duration": 46,
    "start_time": "2023-01-07T10:47:35.328Z"
   },
   {
    "duration": 9,
    "start_time": "2023-01-07T10:47:51.010Z"
   },
   {
    "duration": 14,
    "start_time": "2023-01-07T10:50:51.482Z"
   },
   {
    "duration": 14,
    "start_time": "2023-01-07T10:51:17.239Z"
   },
   {
    "duration": 54,
    "start_time": "2023-01-07T10:52:43.663Z"
   },
   {
    "duration": 109,
    "start_time": "2023-01-07T10:53:11.143Z"
   },
   {
    "duration": 105,
    "start_time": "2023-01-07T10:53:25.176Z"
   },
   {
    "duration": 8,
    "start_time": "2023-01-07T10:54:00.169Z"
   },
   {
    "duration": 10,
    "start_time": "2023-01-07T10:54:19.205Z"
   },
   {
    "duration": 8,
    "start_time": "2023-01-07T10:54:25.083Z"
   },
   {
    "duration": 8,
    "start_time": "2023-01-07T10:54:33.748Z"
   },
   {
    "duration": 9,
    "start_time": "2023-01-07T10:54:56.103Z"
   },
   {
    "duration": 11,
    "start_time": "2023-01-07T10:55:00.919Z"
   },
   {
    "duration": 9,
    "start_time": "2023-01-07T10:55:03.940Z"
   },
   {
    "duration": 9,
    "start_time": "2023-01-07T10:55:34.063Z"
   },
   {
    "duration": 251,
    "start_time": "2023-01-07T10:58:26.430Z"
   },
   {
    "duration": 119,
    "start_time": "2023-01-07T10:59:22.393Z"
   },
   {
    "duration": 268,
    "start_time": "2023-01-07T10:59:31.265Z"
   },
   {
    "duration": 861,
    "start_time": "2023-01-07T12:12:18.186Z"
   },
   {
    "duration": 17,
    "start_time": "2023-01-07T12:12:19.050Z"
   },
   {
    "duration": 17,
    "start_time": "2023-01-07T12:12:19.077Z"
   },
   {
    "duration": 23,
    "start_time": "2023-01-07T12:12:19.098Z"
   },
   {
    "duration": 389,
    "start_time": "2023-01-07T12:12:19.123Z"
   },
   {
    "duration": 118,
    "start_time": "2023-01-07T12:12:19.513Z"
   },
   {
    "duration": 249,
    "start_time": "2023-01-07T12:12:19.633Z"
   },
   {
    "duration": 94,
    "start_time": "2023-01-07T12:12:19.884Z"
   },
   {
    "duration": 40,
    "start_time": "2023-01-07T12:12:19.980Z"
   },
   {
    "duration": 276,
    "start_time": "2023-01-07T12:12:20.023Z"
   },
   {
    "duration": 18,
    "start_time": "2023-01-07T12:12:20.301Z"
   },
   {
    "duration": 67,
    "start_time": "2023-01-07T12:12:20.322Z"
   },
   {
    "duration": 74,
    "start_time": "2023-01-07T12:12:20.391Z"
   },
   {
    "duration": 58,
    "start_time": "2023-01-07T12:12:20.466Z"
   },
   {
    "duration": 183,
    "start_time": "2023-01-07T12:12:20.527Z"
   },
   {
    "duration": 586,
    "start_time": "2023-01-07T12:12:20.713Z"
   },
   {
    "duration": 282,
    "start_time": "2023-01-07T12:12:21.301Z"
   },
   {
    "duration": 9,
    "start_time": "2023-01-07T12:12:21.585Z"
   },
   {
    "duration": 8,
    "start_time": "2023-01-07T12:12:21.595Z"
   },
   {
    "duration": 96,
    "start_time": "2023-01-07T12:12:21.605Z"
   },
   {
    "duration": 20,
    "start_time": "2023-01-07T12:12:21.703Z"
   },
   {
    "duration": 211,
    "start_time": "2023-01-07T12:12:21.725Z"
   },
   {
    "duration": 92,
    "start_time": "2023-01-07T12:12:21.938Z"
   },
   {
    "duration": 13,
    "start_time": "2023-01-07T12:12:22.032Z"
   },
   {
    "duration": 344,
    "start_time": "2023-01-07T12:12:22.048Z"
   },
   {
    "duration": 72,
    "start_time": "2023-01-07T12:32:42.771Z"
   },
   {
    "duration": 256,
    "start_time": "2023-01-07T12:32:47.396Z"
   },
   {
    "duration": 266,
    "start_time": "2023-01-07T12:33:17.401Z"
   },
   {
    "duration": 262,
    "start_time": "2023-01-07T12:33:31.319Z"
   },
   {
    "duration": 258,
    "start_time": "2023-01-07T12:34:00.298Z"
   },
   {
    "duration": 762,
    "start_time": "2023-01-07T12:34:33.595Z"
   },
   {
    "duration": 13,
    "start_time": "2023-01-07T12:34:34.359Z"
   },
   {
    "duration": 16,
    "start_time": "2023-01-07T12:34:34.373Z"
   },
   {
    "duration": 21,
    "start_time": "2023-01-07T12:34:34.390Z"
   },
   {
    "duration": 318,
    "start_time": "2023-01-07T12:34:34.412Z"
   },
   {
    "duration": 106,
    "start_time": "2023-01-07T12:34:34.732Z"
   },
   {
    "duration": 243,
    "start_time": "2023-01-07T12:34:34.840Z"
   },
   {
    "duration": 93,
    "start_time": "2023-01-07T12:34:35.085Z"
   },
   {
    "duration": 27,
    "start_time": "2023-01-07T12:34:35.179Z"
   },
   {
    "duration": 248,
    "start_time": "2023-01-07T12:34:35.208Z"
   },
   {
    "duration": 21,
    "start_time": "2023-01-07T12:34:35.457Z"
   },
   {
    "duration": 45,
    "start_time": "2023-01-07T12:34:35.480Z"
   },
   {
    "duration": 87,
    "start_time": "2023-01-07T12:34:35.528Z"
   },
   {
    "duration": 48,
    "start_time": "2023-01-07T12:34:35.617Z"
   },
   {
    "duration": 166,
    "start_time": "2023-01-07T12:34:35.677Z"
   },
   {
    "duration": 538,
    "start_time": "2023-01-07T12:34:35.844Z"
   },
   {
    "duration": 263,
    "start_time": "2023-01-07T12:34:36.384Z"
   },
   {
    "duration": 8,
    "start_time": "2023-01-07T12:34:36.648Z"
   },
   {
    "duration": 5,
    "start_time": "2023-01-07T12:34:36.658Z"
   },
   {
    "duration": 69,
    "start_time": "2023-01-07T12:34:36.678Z"
   },
   {
    "duration": 31,
    "start_time": "2023-01-07T12:34:36.749Z"
   },
   {
    "duration": 169,
    "start_time": "2023-01-07T12:34:36.782Z"
   },
   {
    "duration": 90,
    "start_time": "2023-01-07T12:34:36.953Z"
   },
   {
    "duration": 10,
    "start_time": "2023-01-07T12:34:37.045Z"
   },
   {
    "duration": 398,
    "start_time": "2023-01-07T12:34:37.057Z"
   },
   {
    "duration": 182,
    "start_time": "2023-01-07T12:36:52.480Z"
   },
   {
    "duration": 182,
    "start_time": "2023-01-07T12:37:08.933Z"
   },
   {
    "duration": 170,
    "start_time": "2023-01-07T12:37:19.811Z"
   },
   {
    "duration": 171,
    "start_time": "2023-01-07T12:37:25.599Z"
   },
   {
    "duration": 187,
    "start_time": "2023-01-07T12:37:30.346Z"
   },
   {
    "duration": 186,
    "start_time": "2023-01-07T12:38:17.700Z"
   },
   {
    "duration": 286,
    "start_time": "2023-01-07T12:38:31.395Z"
   },
   {
    "duration": 206,
    "start_time": "2023-01-07T12:38:40.837Z"
   },
   {
    "duration": 260,
    "start_time": "2023-01-07T12:38:49.714Z"
   },
   {
    "duration": 205,
    "start_time": "2023-01-07T12:39:05.252Z"
   },
   {
    "duration": 270,
    "start_time": "2023-01-07T12:39:12.377Z"
   },
   {
    "duration": 184,
    "start_time": "2023-01-07T12:39:25.629Z"
   },
   {
    "duration": 182,
    "start_time": "2023-01-07T12:39:39.654Z"
   },
   {
    "duration": 180,
    "start_time": "2023-01-07T12:39:44.730Z"
   },
   {
    "duration": 181,
    "start_time": "2023-01-07T12:39:50.343Z"
   },
   {
    "duration": 10,
    "start_time": "2023-01-07T12:46:03.932Z"
   },
   {
    "duration": 45,
    "start_time": "2023-01-07T12:46:22.190Z"
   },
   {
    "duration": 45,
    "start_time": "2023-01-07T12:46:33.047Z"
   },
   {
    "duration": 8,
    "start_time": "2023-01-07T12:47:28.854Z"
   },
   {
    "duration": 188,
    "start_time": "2023-01-07T12:47:46.190Z"
   },
   {
    "duration": 5,
    "start_time": "2023-01-07T12:54:31.232Z"
   },
   {
    "duration": 9,
    "start_time": "2023-01-07T12:54:45.005Z"
   },
   {
    "duration": 1254,
    "start_time": "2023-01-07T12:55:03.202Z"
   },
   {
    "duration": 235,
    "start_time": "2023-01-07T12:56:14.824Z"
   },
   {
    "duration": 8,
    "start_time": "2023-01-07T12:56:23.796Z"
   },
   {
    "duration": 36,
    "start_time": "2023-01-07T12:56:28.613Z"
   },
   {
    "duration": 29,
    "start_time": "2023-01-07T12:56:39.534Z"
   },
   {
    "duration": 6,
    "start_time": "2023-01-07T13:25:56.332Z"
   },
   {
    "duration": 801,
    "start_time": "2023-01-07T13:26:16.594Z"
   },
   {
    "duration": 14,
    "start_time": "2023-01-07T13:26:17.397Z"
   },
   {
    "duration": 22,
    "start_time": "2023-01-07T13:26:17.413Z"
   },
   {
    "duration": 25,
    "start_time": "2023-01-07T13:26:17.437Z"
   },
   {
    "duration": 375,
    "start_time": "2023-01-07T13:26:17.478Z"
   },
   {
    "duration": 129,
    "start_time": "2023-01-07T13:26:17.855Z"
   },
   {
    "duration": 265,
    "start_time": "2023-01-07T13:26:17.986Z"
   },
   {
    "duration": 110,
    "start_time": "2023-01-07T13:26:18.253Z"
   },
   {
    "duration": 44,
    "start_time": "2023-01-07T13:26:18.365Z"
   },
   {
    "duration": 267,
    "start_time": "2023-01-07T13:26:18.412Z"
   },
   {
    "duration": 11,
    "start_time": "2023-01-07T13:26:18.680Z"
   },
   {
    "duration": 44,
    "start_time": "2023-01-07T13:26:18.693Z"
   },
   {
    "duration": 88,
    "start_time": "2023-01-07T13:26:18.739Z"
   },
   {
    "duration": 56,
    "start_time": "2023-01-07T13:26:18.829Z"
   },
   {
    "duration": 165,
    "start_time": "2023-01-07T13:26:18.887Z"
   },
   {
    "duration": 540,
    "start_time": "2023-01-07T13:26:19.054Z"
   },
   {
    "duration": 263,
    "start_time": "2023-01-07T13:26:19.596Z"
   },
   {
    "duration": 19,
    "start_time": "2023-01-07T13:26:19.862Z"
   },
   {
    "duration": 6,
    "start_time": "2023-01-07T13:26:19.883Z"
   },
   {
    "duration": 87,
    "start_time": "2023-01-07T13:26:19.891Z"
   },
   {
    "duration": 20,
    "start_time": "2023-01-07T13:26:19.980Z"
   },
   {
    "duration": 186,
    "start_time": "2023-01-07T13:26:20.002Z"
   },
   {
    "duration": 96,
    "start_time": "2023-01-07T13:26:20.189Z"
   },
   {
    "duration": 10,
    "start_time": "2023-01-07T13:26:20.287Z"
   },
   {
    "duration": 265,
    "start_time": "2023-01-07T13:26:20.300Z"
   },
   {
    "duration": 14,
    "start_time": "2023-01-07T13:26:20.567Z"
   },
   {
    "duration": 99,
    "start_time": "2023-01-07T13:36:37.086Z"
   },
   {
    "duration": 10,
    "start_time": "2023-01-07T13:37:52.401Z"
   },
   {
    "duration": 52,
    "start_time": "2023-01-07T13:37:59.045Z"
   },
   {
    "duration": 7,
    "start_time": "2023-01-07T13:41:06.095Z"
   },
   {
    "duration": 7,
    "start_time": "2023-01-07T13:41:27.131Z"
   },
   {
    "duration": 7,
    "start_time": "2023-01-07T13:41:41.083Z"
   },
   {
    "duration": 59,
    "start_time": "2023-01-07T13:50:39.947Z"
   },
   {
    "duration": 75,
    "start_time": "2023-01-07T13:50:53.708Z"
   },
   {
    "duration": 100,
    "start_time": "2023-01-07T13:51:20.255Z"
   },
   {
    "duration": 87,
    "start_time": "2023-01-07T13:51:24.908Z"
   },
   {
    "duration": 10,
    "start_time": "2023-01-07T13:51:48.637Z"
   },
   {
    "duration": 89,
    "start_time": "2023-01-07T13:52:00.802Z"
   },
   {
    "duration": 82,
    "start_time": "2023-01-07T13:54:06.132Z"
   },
   {
    "duration": 39,
    "start_time": "2023-01-07T13:55:25.140Z"
   },
   {
    "duration": 9,
    "start_time": "2023-01-07T13:55:31.840Z"
   },
   {
    "duration": 811,
    "start_time": "2023-01-07T13:55:55.260Z"
   },
   {
    "duration": 14,
    "start_time": "2023-01-07T13:55:56.073Z"
   },
   {
    "duration": 14,
    "start_time": "2023-01-07T13:55:56.089Z"
   },
   {
    "duration": 21,
    "start_time": "2023-01-07T13:55:56.105Z"
   },
   {
    "duration": 343,
    "start_time": "2023-01-07T13:55:56.128Z"
   },
   {
    "duration": 119,
    "start_time": "2023-01-07T13:55:56.473Z"
   },
   {
    "duration": 268,
    "start_time": "2023-01-07T13:55:56.593Z"
   },
   {
    "duration": 84,
    "start_time": "2023-01-07T13:55:56.863Z"
   },
   {
    "duration": 37,
    "start_time": "2023-01-07T13:55:56.949Z"
   },
   {
    "duration": 259,
    "start_time": "2023-01-07T13:55:56.989Z"
   },
   {
    "duration": 11,
    "start_time": "2023-01-07T13:55:57.250Z"
   },
   {
    "duration": 54,
    "start_time": "2023-01-07T13:55:57.263Z"
   },
   {
    "duration": 81,
    "start_time": "2023-01-07T13:55:57.319Z"
   },
   {
    "duration": 48,
    "start_time": "2023-01-07T13:55:57.402Z"
   },
   {
    "duration": 169,
    "start_time": "2023-01-07T13:55:57.452Z"
   },
   {
    "duration": 506,
    "start_time": "2023-01-07T13:55:57.623Z"
   },
   {
    "duration": 324,
    "start_time": "2023-01-07T13:55:58.131Z"
   },
   {
    "duration": 20,
    "start_time": "2023-01-07T13:55:58.457Z"
   },
   {
    "duration": 6,
    "start_time": "2023-01-07T13:55:58.479Z"
   },
   {
    "duration": 72,
    "start_time": "2023-01-07T13:55:58.487Z"
   },
   {
    "duration": 35,
    "start_time": "2023-01-07T13:55:58.560Z"
   },
   {
    "duration": 173,
    "start_time": "2023-01-07T13:55:58.597Z"
   },
   {
    "duration": 76,
    "start_time": "2023-01-07T13:55:58.778Z"
   },
   {
    "duration": 24,
    "start_time": "2023-01-07T13:55:58.856Z"
   },
   {
    "duration": 248,
    "start_time": "2023-01-07T13:55:58.882Z"
   },
   {
    "duration": 10,
    "start_time": "2023-01-07T13:55:59.132Z"
   },
   {
    "duration": 80,
    "start_time": "2023-01-07T14:00:44.794Z"
   },
   {
    "duration": 43,
    "start_time": "2023-01-07T14:01:26.901Z"
   },
   {
    "duration": 49,
    "start_time": "2023-01-07T14:01:40.855Z"
   },
   {
    "duration": 60,
    "start_time": "2023-01-07T14:01:46.452Z"
   },
   {
    "duration": 52,
    "start_time": "2023-01-07T14:01:52.198Z"
   },
   {
    "duration": 53,
    "start_time": "2023-01-07T14:01:57.366Z"
   },
   {
    "duration": 62,
    "start_time": "2023-01-07T14:02:25.800Z"
   },
   {
    "duration": 45,
    "start_time": "2023-01-07T14:02:32.722Z"
   },
   {
    "duration": 45,
    "start_time": "2023-01-07T14:03:06.758Z"
   },
   {
    "duration": 15,
    "start_time": "2023-01-07T14:04:53.167Z"
   },
   {
    "duration": 9,
    "start_time": "2023-01-07T14:05:05.539Z"
   },
   {
    "duration": 14,
    "start_time": "2023-01-07T14:10:18.681Z"
   },
   {
    "duration": 507,
    "start_time": "2023-01-07T14:10:40.063Z"
   },
   {
    "duration": 769,
    "start_time": "2023-01-07T14:19:06.523Z"
   },
   {
    "duration": 28,
    "start_time": "2023-01-07T14:19:35.069Z"
   },
   {
    "duration": 50,
    "start_time": "2023-01-07T14:19:43.809Z"
   },
   {
    "duration": 994,
    "start_time": "2023-01-07T14:20:11.802Z"
   },
   {
    "duration": 38,
    "start_time": "2023-01-07T14:20:24.198Z"
   },
   {
    "duration": 35,
    "start_time": "2023-01-07T14:20:28.171Z"
   },
   {
    "duration": 85,
    "start_time": "2023-01-07T14:23:50.370Z"
   },
   {
    "duration": 10,
    "start_time": "2023-01-07T14:23:55.903Z"
   },
   {
    "duration": 10,
    "start_time": "2023-01-07T14:24:10.399Z"
   },
   {
    "duration": 9,
    "start_time": "2023-01-07T14:24:16.284Z"
   },
   {
    "duration": 11,
    "start_time": "2023-01-07T14:27:08.199Z"
   },
   {
    "duration": 13,
    "start_time": "2023-01-07T14:27:13.642Z"
   },
   {
    "duration": 208,
    "start_time": "2023-01-07T14:27:50.047Z"
   },
   {
    "duration": 37,
    "start_time": "2023-01-07T14:28:39.960Z"
   },
   {
    "duration": 30,
    "start_time": "2023-01-07T14:29:03.546Z"
   },
   {
    "duration": 16,
    "start_time": "2023-01-07T14:29:52.357Z"
   },
   {
    "duration": 13,
    "start_time": "2023-01-07T14:30:35.896Z"
   },
   {
    "duration": 10,
    "start_time": "2023-01-07T14:30:58.860Z"
   },
   {
    "duration": 18,
    "start_time": "2023-01-07T14:38:12.358Z"
   },
   {
    "duration": 21,
    "start_time": "2023-01-07T14:38:28.192Z"
   },
   {
    "duration": 12,
    "start_time": "2023-01-07T14:39:02.809Z"
   },
   {
    "duration": 4,
    "start_time": "2023-01-07T14:41:22.574Z"
   },
   {
    "duration": 75,
    "start_time": "2023-01-07T14:41:45.840Z"
   },
   {
    "duration": 44,
    "start_time": "2023-01-07T14:41:51.384Z"
   },
   {
    "duration": 10,
    "start_time": "2023-01-07T14:53:13.953Z"
   },
   {
    "duration": 10,
    "start_time": "2023-01-07T14:53:27.001Z"
   },
   {
    "duration": 12,
    "start_time": "2023-01-07T14:53:51.388Z"
   },
   {
    "duration": 11,
    "start_time": "2023-01-07T14:53:57.702Z"
   },
   {
    "duration": 10,
    "start_time": "2023-01-07T14:54:25.137Z"
   },
   {
    "duration": 46,
    "start_time": "2023-01-07T14:56:40.407Z"
   },
   {
    "duration": 49,
    "start_time": "2023-01-07T14:56:45.923Z"
   },
   {
    "duration": 55,
    "start_time": "2023-01-07T14:56:50.464Z"
   },
   {
    "duration": 5,
    "start_time": "2023-01-07T14:58:36.770Z"
   },
   {
    "duration": 14,
    "start_time": "2023-01-07T14:58:48.717Z"
   },
   {
    "duration": 29,
    "start_time": "2023-01-07T14:58:58.019Z"
   },
   {
    "duration": 10,
    "start_time": "2023-01-07T14:59:02.823Z"
   },
   {
    "duration": 14,
    "start_time": "2023-01-07T15:00:38.824Z"
   },
   {
    "duration": 11,
    "start_time": "2023-01-07T15:01:00.857Z"
   },
   {
    "duration": 6,
    "start_time": "2023-01-07T15:03:07.870Z"
   },
   {
    "duration": 5,
    "start_time": "2023-01-07T15:03:14.542Z"
   },
   {
    "duration": 5,
    "start_time": "2023-01-07T15:03:18.147Z"
   },
   {
    "duration": 5,
    "start_time": "2023-01-07T15:03:22.905Z"
   },
   {
    "duration": 6,
    "start_time": "2023-01-07T15:03:31.410Z"
   },
   {
    "duration": 5,
    "start_time": "2023-01-07T15:06:26.048Z"
   },
   {
    "duration": 14,
    "start_time": "2023-01-07T15:07:32.608Z"
   },
   {
    "duration": 5,
    "start_time": "2023-01-07T15:07:48.279Z"
   },
   {
    "duration": 831,
    "start_time": "2023-01-07T15:07:57.510Z"
   },
   {
    "duration": 19,
    "start_time": "2023-01-07T15:07:58.344Z"
   },
   {
    "duration": 34,
    "start_time": "2023-01-07T15:07:58.365Z"
   },
   {
    "duration": 38,
    "start_time": "2023-01-07T15:07:58.401Z"
   },
   {
    "duration": 397,
    "start_time": "2023-01-07T15:07:58.442Z"
   },
   {
    "duration": 124,
    "start_time": "2023-01-07T15:07:58.840Z"
   },
   {
    "duration": 262,
    "start_time": "2023-01-07T15:07:58.966Z"
   },
   {
    "duration": 108,
    "start_time": "2023-01-07T15:07:59.230Z"
   },
   {
    "duration": 38,
    "start_time": "2023-01-07T15:07:59.340Z"
   },
   {
    "duration": 260,
    "start_time": "2023-01-07T15:07:59.379Z"
   },
   {
    "duration": 11,
    "start_time": "2023-01-07T15:07:59.640Z"
   },
   {
    "duration": 53,
    "start_time": "2023-01-07T15:07:59.653Z"
   },
   {
    "duration": 81,
    "start_time": "2023-01-07T15:07:59.708Z"
   },
   {
    "duration": 46,
    "start_time": "2023-01-07T15:07:59.792Z"
   },
   {
    "duration": 177,
    "start_time": "2023-01-07T15:07:59.840Z"
   },
   {
    "duration": 516,
    "start_time": "2023-01-07T15:08:00.019Z"
   },
   {
    "duration": 282,
    "start_time": "2023-01-07T15:08:00.537Z"
   },
   {
    "duration": 10,
    "start_time": "2023-01-07T15:08:00.821Z"
   },
   {
    "duration": 46,
    "start_time": "2023-01-07T15:08:00.833Z"
   },
   {
    "duration": 104,
    "start_time": "2023-01-07T15:08:00.881Z"
   },
   {
    "duration": 35,
    "start_time": "2023-01-07T15:08:00.987Z"
   },
   {
    "duration": 201,
    "start_time": "2023-01-07T15:08:01.024Z"
   },
   {
    "duration": 110,
    "start_time": "2023-01-07T15:08:01.228Z"
   },
   {
    "duration": 11,
    "start_time": "2023-01-07T15:08:01.341Z"
   },
   {
    "duration": 271,
    "start_time": "2023-01-07T15:08:01.355Z"
   },
   {
    "duration": 10,
    "start_time": "2023-01-07T15:08:01.628Z"
   },
   {
    "duration": 178,
    "start_time": "2023-01-07T15:08:01.639Z"
   },
   {
    "duration": 5,
    "start_time": "2023-01-07T15:08:01.819Z"
   },
   {
    "duration": 52,
    "start_time": "2023-01-07T15:08:01.826Z"
   },
   {
    "duration": 28,
    "start_time": "2023-01-07T15:08:01.880Z"
   },
   {
    "duration": 4,
    "start_time": "2023-01-07T15:12:07.433Z"
   },
   {
    "duration": 4,
    "start_time": "2023-01-07T15:12:14.041Z"
   },
   {
    "duration": 97,
    "start_time": "2023-01-07T15:14:56.003Z"
   },
   {
    "duration": 9,
    "start_time": "2023-01-07T15:15:54.877Z"
   },
   {
    "duration": 8,
    "start_time": "2023-01-07T15:16:00.713Z"
   },
   {
    "duration": 43,
    "start_time": "2023-01-07T15:16:28.241Z"
   },
   {
    "duration": 36,
    "start_time": "2023-01-07T15:16:32.956Z"
   },
   {
    "duration": 14,
    "start_time": "2023-01-07T15:21:47.305Z"
   },
   {
    "duration": 15,
    "start_time": "2023-01-07T15:22:04.618Z"
   },
   {
    "duration": 12,
    "start_time": "2023-01-07T15:22:21.231Z"
   },
   {
    "duration": 827,
    "start_time": "2023-01-07T15:23:08.758Z"
   },
   {
    "duration": 13,
    "start_time": "2023-01-07T15:23:09.588Z"
   },
   {
    "duration": 14,
    "start_time": "2023-01-07T15:23:09.603Z"
   },
   {
    "duration": 19,
    "start_time": "2023-01-07T15:23:09.619Z"
   },
   {
    "duration": 382,
    "start_time": "2023-01-07T15:23:09.639Z"
   },
   {
    "duration": 125,
    "start_time": "2023-01-07T15:23:10.023Z"
   },
   {
    "duration": 278,
    "start_time": "2023-01-07T15:23:10.150Z"
   },
   {
    "duration": 99,
    "start_time": "2023-01-07T15:23:10.430Z"
   },
   {
    "duration": 28,
    "start_time": "2023-01-07T15:23:10.531Z"
   },
   {
    "duration": 261,
    "start_time": "2023-01-07T15:23:10.578Z"
   },
   {
    "duration": 11,
    "start_time": "2023-01-07T15:23:10.841Z"
   },
   {
    "duration": 58,
    "start_time": "2023-01-07T15:23:10.854Z"
   },
   {
    "duration": 86,
    "start_time": "2023-01-07T15:23:10.914Z"
   },
   {
    "duration": 54,
    "start_time": "2023-01-07T15:23:11.001Z"
   },
   {
    "duration": 181,
    "start_time": "2023-01-07T15:23:11.057Z"
   },
   {
    "duration": 546,
    "start_time": "2023-01-07T15:23:11.240Z"
   },
   {
    "duration": 278,
    "start_time": "2023-01-07T15:23:11.788Z"
   },
   {
    "duration": 15,
    "start_time": "2023-01-07T15:23:12.068Z"
   },
   {
    "duration": 7,
    "start_time": "2023-01-07T15:23:12.085Z"
   },
   {
    "duration": 91,
    "start_time": "2023-01-07T15:23:12.093Z"
   },
   {
    "duration": 22,
    "start_time": "2023-01-07T15:23:12.186Z"
   },
   {
    "duration": 190,
    "start_time": "2023-01-07T15:23:12.210Z"
   },
   {
    "duration": 94,
    "start_time": "2023-01-07T15:23:12.402Z"
   },
   {
    "duration": 11,
    "start_time": "2023-01-07T15:23:12.499Z"
   },
   {
    "duration": 259,
    "start_time": "2023-01-07T15:23:12.511Z"
   },
   {
    "duration": 10,
    "start_time": "2023-01-07T15:23:12.771Z"
   },
   {
    "duration": 138,
    "start_time": "2023-01-07T15:23:12.782Z"
   },
   {
    "duration": 5,
    "start_time": "2023-01-07T15:23:12.923Z"
   },
   {
    "duration": 209,
    "start_time": "2023-01-07T15:26:48.109Z"
   },
   {
    "duration": 180,
    "start_time": "2023-01-07T15:27:04.420Z"
   },
   {
    "duration": 196,
    "start_time": "2023-01-07T15:27:14.109Z"
   },
   {
    "duration": 263,
    "start_time": "2023-01-07T15:27:21.807Z"
   },
   {
    "duration": 211,
    "start_time": "2023-01-07T15:27:49.009Z"
   },
   {
    "duration": 222,
    "start_time": "2023-01-07T15:28:05.155Z"
   },
   {
    "duration": 183,
    "start_time": "2023-01-07T15:28:17.229Z"
   },
   {
    "duration": 190,
    "start_time": "2023-01-07T15:28:28.413Z"
   },
   {
    "duration": 7,
    "start_time": "2023-01-07T15:31:12.667Z"
   },
   {
    "duration": 14,
    "start_time": "2023-01-07T15:56:36.178Z"
   },
   {
    "duration": 14,
    "start_time": "2023-01-07T15:57:06.331Z"
   },
   {
    "duration": 14,
    "start_time": "2023-01-07T15:57:47.953Z"
   },
   {
    "duration": 13,
    "start_time": "2023-01-07T15:57:56.264Z"
   },
   {
    "duration": 22,
    "start_time": "2023-01-07T15:58:13.152Z"
   },
   {
    "duration": 14,
    "start_time": "2023-01-07T15:58:24.002Z"
   },
   {
    "duration": 86,
    "start_time": "2023-01-07T15:58:34.941Z"
   },
   {
    "duration": 15,
    "start_time": "2023-01-07T15:58:45.302Z"
   },
   {
    "duration": 14,
    "start_time": "2023-01-07T15:59:17.602Z"
   },
   {
    "duration": 15,
    "start_time": "2023-01-07T15:59:43.801Z"
   },
   {
    "duration": 531,
    "start_time": "2023-01-07T16:02:26.999Z"
   },
   {
    "duration": 11,
    "start_time": "2023-01-07T16:02:42.299Z"
   },
   {
    "duration": 17,
    "start_time": "2023-01-07T16:02:48.196Z"
   },
   {
    "duration": 15,
    "start_time": "2023-01-07T16:02:59.163Z"
   },
   {
    "duration": 10,
    "start_time": "2023-01-07T16:03:11.168Z"
   },
   {
    "duration": 48,
    "start_time": "2023-01-07T16:03:27.312Z"
   },
   {
    "duration": 10,
    "start_time": "2023-01-07T16:03:33.674Z"
   },
   {
    "duration": 53,
    "start_time": "2023-01-07T16:04:39.917Z"
   },
   {
    "duration": 46,
    "start_time": "2023-01-07T16:05:07.930Z"
   },
   {
    "duration": 13,
    "start_time": "2023-01-07T16:05:36.179Z"
   },
   {
    "duration": 94,
    "start_time": "2023-01-07T16:07:41.135Z"
   },
   {
    "duration": 17,
    "start_time": "2023-01-07T16:07:55.670Z"
   },
   {
    "duration": 20,
    "start_time": "2023-01-07T16:08:10.006Z"
   },
   {
    "duration": 14,
    "start_time": "2023-01-07T16:08:53.014Z"
   },
   {
    "duration": 14,
    "start_time": "2023-01-07T16:09:15.487Z"
   },
   {
    "duration": 14,
    "start_time": "2023-01-07T16:09:28.015Z"
   },
   {
    "duration": 19,
    "start_time": "2023-01-07T16:09:39.637Z"
   },
   {
    "duration": 783,
    "start_time": "2023-01-07T16:09:49.520Z"
   },
   {
    "duration": 15,
    "start_time": "2023-01-07T16:09:50.305Z"
   },
   {
    "duration": 19,
    "start_time": "2023-01-07T16:09:50.322Z"
   },
   {
    "duration": 50,
    "start_time": "2023-01-07T16:09:50.344Z"
   },
   {
    "duration": 345,
    "start_time": "2023-01-07T16:09:50.396Z"
   },
   {
    "duration": 115,
    "start_time": "2023-01-07T16:09:50.742Z"
   },
   {
    "duration": 264,
    "start_time": "2023-01-07T16:09:50.859Z"
   },
   {
    "duration": 90,
    "start_time": "2023-01-07T16:09:51.125Z"
   },
   {
    "duration": 28,
    "start_time": "2023-01-07T16:09:51.217Z"
   },
   {
    "duration": 267,
    "start_time": "2023-01-07T16:09:51.248Z"
   },
   {
    "duration": 10,
    "start_time": "2023-01-07T16:09:51.517Z"
   },
   {
    "duration": 73,
    "start_time": "2023-01-07T16:09:51.529Z"
   },
   {
    "duration": 86,
    "start_time": "2023-01-07T16:09:51.604Z"
   },
   {
    "duration": 49,
    "start_time": "2023-01-07T16:09:51.693Z"
   },
   {
    "duration": 190,
    "start_time": "2023-01-07T16:09:51.744Z"
   },
   {
    "duration": 525,
    "start_time": "2023-01-07T16:09:51.936Z"
   },
   {
    "duration": 272,
    "start_time": "2023-01-07T16:09:52.463Z"
   },
   {
    "duration": 7,
    "start_time": "2023-01-07T16:09:52.737Z"
   },
   {
    "duration": 8,
    "start_time": "2023-01-07T16:09:52.746Z"
   },
   {
    "duration": 92,
    "start_time": "2023-01-07T16:09:52.755Z"
   },
   {
    "duration": 28,
    "start_time": "2023-01-07T16:09:52.850Z"
   },
   {
    "duration": 184,
    "start_time": "2023-01-07T16:09:52.880Z"
   },
   {
    "duration": 85,
    "start_time": "2023-01-07T16:09:53.066Z"
   },
   {
    "duration": 10,
    "start_time": "2023-01-07T16:09:53.152Z"
   },
   {
    "duration": 22,
    "start_time": "2023-01-07T16:09:53.163Z"
   },
   {
    "duration": 18,
    "start_time": "2023-01-07T16:09:53.186Z"
   },
   {
    "duration": 208,
    "start_time": "2023-01-07T16:09:53.206Z"
   },
   {
    "duration": 7,
    "start_time": "2023-01-07T16:09:53.418Z"
   },
   {
    "duration": 21,
    "start_time": "2023-01-07T16:10:41.379Z"
   },
   {
    "duration": 90,
    "start_time": "2023-01-07T16:11:08.049Z"
   },
   {
    "duration": 14,
    "start_time": "2023-01-07T16:11:23.225Z"
   },
   {
    "duration": 14,
    "start_time": "2023-01-07T16:11:29.103Z"
   },
   {
    "duration": 14,
    "start_time": "2023-01-07T16:11:39.510Z"
   },
   {
    "duration": 14,
    "start_time": "2023-01-07T16:11:51.472Z"
   },
   {
    "duration": 14,
    "start_time": "2023-01-07T16:11:55.493Z"
   },
   {
    "duration": 13,
    "start_time": "2023-01-07T16:12:01.652Z"
   },
   {
    "duration": 13,
    "start_time": "2023-01-07T16:12:36.245Z"
   },
   {
    "duration": 13,
    "start_time": "2023-01-07T16:12:42.704Z"
   },
   {
    "duration": 17,
    "start_time": "2023-01-07T16:12:49.205Z"
   },
   {
    "duration": 14,
    "start_time": "2023-01-07T16:13:58.493Z"
   },
   {
    "duration": 5,
    "start_time": "2023-01-07T16:51:16.793Z"
   },
   {
    "duration": 5,
    "start_time": "2023-01-07T16:51:23.180Z"
   },
   {
    "duration": 80,
    "start_time": "2023-01-07T16:56:59.798Z"
   },
   {
    "duration": 183,
    "start_time": "2023-01-07T16:58:01.797Z"
   },
   {
    "duration": 44,
    "start_time": "2023-01-07T16:58:11.018Z"
   },
   {
    "duration": 205,
    "start_time": "2023-01-07T16:58:19.111Z"
   },
   {
    "duration": 193,
    "start_time": "2023-01-07T16:58:26.745Z"
   },
   {
    "duration": 76,
    "start_time": "2023-01-07T17:03:34.370Z"
   },
   {
    "duration": 181,
    "start_time": "2023-01-07T17:13:11.064Z"
   },
   {
    "duration": 158,
    "start_time": "2023-01-07T17:13:37.785Z"
   },
   {
    "duration": 169,
    "start_time": "2023-01-07T17:13:48.756Z"
   },
   {
    "duration": 160,
    "start_time": "2023-01-07T17:14:04.828Z"
   },
   {
    "duration": 75,
    "start_time": "2023-01-07T17:18:01.646Z"
   },
   {
    "duration": 621,
    "start_time": "2023-01-07T17:20:04.529Z"
   },
   {
    "duration": 4,
    "start_time": "2023-01-07T17:20:25.798Z"
   },
   {
    "duration": 9,
    "start_time": "2023-01-07T17:20:29.228Z"
   },
   {
    "duration": 729,
    "start_time": "2023-01-07T17:21:07.371Z"
   },
   {
    "duration": 15,
    "start_time": "2023-01-07T17:25:07.580Z"
   },
   {
    "duration": 11,
    "start_time": "2023-01-07T17:25:12.813Z"
   },
   {
    "duration": 721,
    "start_time": "2023-01-07T17:27:32.748Z"
   },
   {
    "duration": 177,
    "start_time": "2023-01-07T17:31:39.677Z"
   },
   {
    "duration": 1293,
    "start_time": "2023-01-07T17:37:31.887Z"
   },
   {
    "duration": 13,
    "start_time": "2023-01-07T17:37:33.182Z"
   },
   {
    "duration": 14,
    "start_time": "2023-01-07T17:37:33.196Z"
   },
   {
    "duration": 18,
    "start_time": "2023-01-07T17:37:33.211Z"
   },
   {
    "duration": 357,
    "start_time": "2023-01-07T17:37:33.231Z"
   },
   {
    "duration": 108,
    "start_time": "2023-01-07T17:37:33.590Z"
   },
   {
    "duration": 260,
    "start_time": "2023-01-07T17:37:33.700Z"
   },
   {
    "duration": 88,
    "start_time": "2023-01-07T17:37:33.962Z"
   },
   {
    "duration": 43,
    "start_time": "2023-01-07T17:37:34.052Z"
   },
   {
    "duration": 12,
    "start_time": "2023-01-07T17:37:34.097Z"
   },
   {
    "duration": 55,
    "start_time": "2023-01-07T17:37:34.111Z"
   },
   {
    "duration": 47,
    "start_time": "2023-01-07T17:37:34.177Z"
   },
   {
    "duration": 166,
    "start_time": "2023-01-07T17:37:34.226Z"
   },
   {
    "duration": 514,
    "start_time": "2023-01-07T17:37:34.396Z"
   },
   {
    "duration": 258,
    "start_time": "2023-01-07T17:37:34.912Z"
   },
   {
    "duration": 8,
    "start_time": "2023-01-07T17:37:35.177Z"
   },
   {
    "duration": 5,
    "start_time": "2023-01-07T17:37:35.186Z"
   },
   {
    "duration": 89,
    "start_time": "2023-01-07T17:37:35.193Z"
   },
   {
    "duration": 20,
    "start_time": "2023-01-07T17:37:35.284Z"
   },
   {
    "duration": 185,
    "start_time": "2023-01-07T17:37:35.306Z"
   },
   {
    "duration": 91,
    "start_time": "2023-01-07T17:37:35.493Z"
   },
   {
    "duration": 9,
    "start_time": "2023-01-07T17:37:35.586Z"
   },
   {
    "duration": 10,
    "start_time": "2023-01-07T17:37:35.596Z"
   },
   {
    "duration": 17,
    "start_time": "2023-01-07T17:37:35.608Z"
   },
   {
    "duration": 156,
    "start_time": "2023-01-07T17:37:35.626Z"
   },
   {
    "duration": 4,
    "start_time": "2023-01-07T17:37:35.784Z"
   },
   {
    "duration": 139,
    "start_time": "2023-01-07T17:37:35.790Z"
   },
   {
    "duration": 49,
    "start_time": "2023-01-07T17:37:35.930Z"
   },
   {
    "duration": 177,
    "start_time": "2023-01-07T17:37:35.981Z"
   },
   {
    "duration": 40,
    "start_time": "2023-01-07T17:37:36.159Z"
   },
   {
    "duration": 8,
    "start_time": "2023-01-07T17:46:49.786Z"
   },
   {
    "duration": 168,
    "start_time": "2023-01-07T17:50:20.516Z"
   },
   {
    "duration": 161,
    "start_time": "2023-01-07T17:51:28.976Z"
   },
   {
    "duration": 858,
    "start_time": "2023-01-07T17:53:18.911Z"
   },
   {
    "duration": 77,
    "start_time": "2023-01-07T17:54:23.898Z"
   },
   {
    "duration": 174,
    "start_time": "2023-01-07T17:54:30.012Z"
   },
   {
    "duration": 160,
    "start_time": "2023-01-07T17:54:41.598Z"
   },
   {
    "duration": 5,
    "start_time": "2023-01-07T17:54:46.524Z"
   },
   {
    "duration": 894,
    "start_time": "2023-01-07T17:54:50.760Z"
   },
   {
    "duration": 6,
    "start_time": "2023-01-07T17:55:29.707Z"
   },
   {
    "duration": 698,
    "start_time": "2023-01-07T17:55:33.776Z"
   },
   {
    "duration": 13,
    "start_time": "2023-01-07T17:59:21.052Z"
   },
   {
    "duration": 6,
    "start_time": "2023-01-07T17:59:25.070Z"
   },
   {
    "duration": 4,
    "start_time": "2023-01-07T17:59:28.202Z"
   },
   {
    "duration": 1341,
    "start_time": "2023-01-07T18:01:06.467Z"
   },
   {
    "duration": 16,
    "start_time": "2023-01-07T18:01:07.810Z"
   },
   {
    "duration": 15,
    "start_time": "2023-01-07T18:01:07.828Z"
   },
   {
    "duration": 45,
    "start_time": "2023-01-07T18:01:07.846Z"
   },
   {
    "duration": 329,
    "start_time": "2023-01-07T18:01:07.893Z"
   },
   {
    "duration": 140,
    "start_time": "2023-01-07T18:01:08.225Z"
   },
   {
    "duration": 270,
    "start_time": "2023-01-07T18:01:08.367Z"
   },
   {
    "duration": 84,
    "start_time": "2023-01-07T18:01:08.639Z"
   },
   {
    "duration": 26,
    "start_time": "2023-01-07T18:01:08.725Z"
   },
   {
    "duration": 24,
    "start_time": "2023-01-07T18:01:08.754Z"
   },
   {
    "duration": 45,
    "start_time": "2023-01-07T18:01:08.779Z"
   },
   {
    "duration": 63,
    "start_time": "2023-01-07T18:01:08.826Z"
   },
   {
    "duration": 160,
    "start_time": "2023-01-07T18:01:08.891Z"
   },
   {
    "duration": 523,
    "start_time": "2023-01-07T18:01:09.052Z"
   },
   {
    "duration": 251,
    "start_time": "2023-01-07T18:01:09.577Z"
   },
   {
    "duration": 8,
    "start_time": "2023-01-07T18:01:09.830Z"
   },
   {
    "duration": 7,
    "start_time": "2023-01-07T18:01:09.840Z"
   },
   {
    "duration": 98,
    "start_time": "2023-01-07T18:01:09.848Z"
   },
   {
    "duration": 20,
    "start_time": "2023-01-07T18:01:09.948Z"
   },
   {
    "duration": 174,
    "start_time": "2023-01-07T18:01:09.977Z"
   },
   {
    "duration": 97,
    "start_time": "2023-01-07T18:01:10.153Z"
   },
   {
    "duration": 10,
    "start_time": "2023-01-07T18:01:10.251Z"
   },
   {
    "duration": 8,
    "start_time": "2023-01-07T18:01:10.277Z"
   },
   {
    "duration": 18,
    "start_time": "2023-01-07T18:01:10.287Z"
   },
   {
    "duration": 147,
    "start_time": "2023-01-07T18:01:10.307Z"
   },
   {
    "duration": 5,
    "start_time": "2023-01-07T18:01:10.456Z"
   },
   {
    "duration": 155,
    "start_time": "2023-01-07T18:01:10.463Z"
   },
   {
    "duration": 208,
    "start_time": "2023-01-07T18:01:10.622Z"
   },
   {
    "duration": 5,
    "start_time": "2023-01-07T18:01:10.832Z"
   },
   {
    "duration": 28,
    "start_time": "2023-01-07T18:01:10.839Z"
   },
   {
    "duration": 56,
    "start_time": "2023-01-07T18:01:10.869Z"
   },
   {
    "duration": 5,
    "start_time": "2023-01-07T18:03:02.248Z"
   },
   {
    "duration": 800,
    "start_time": "2023-01-07T18:03:04.620Z"
   },
   {
    "duration": 5,
    "start_time": "2023-01-07T18:03:24.043Z"
   },
   {
    "duration": 700,
    "start_time": "2023-01-07T18:03:26.819Z"
   },
   {
    "duration": 166,
    "start_time": "2023-01-07T18:03:37.346Z"
   },
   {
    "duration": 6,
    "start_time": "2023-01-07T18:03:47.750Z"
   },
   {
    "duration": 6,
    "start_time": "2023-01-07T18:03:49.593Z"
   },
   {
    "duration": 5,
    "start_time": "2023-01-07T18:04:42.516Z"
   },
   {
    "duration": 8,
    "start_time": "2023-01-07T18:04:44.427Z"
   },
   {
    "duration": 6,
    "start_time": "2023-01-07T18:05:24.109Z"
   },
   {
    "duration": 13,
    "start_time": "2023-01-07T18:05:26.165Z"
   },
   {
    "duration": 6,
    "start_time": "2023-01-07T18:05:49.920Z"
   },
   {
    "duration": 9,
    "start_time": "2023-01-07T18:05:52.404Z"
   },
   {
    "duration": 1783,
    "start_time": "2023-01-08T12:40:46.987Z"
   },
   {
    "duration": 12,
    "start_time": "2023-01-08T12:40:48.772Z"
   },
   {
    "duration": 23,
    "start_time": "2023-01-08T12:40:48.785Z"
   },
   {
    "duration": 22,
    "start_time": "2023-01-08T12:40:48.810Z"
   },
   {
    "duration": 366,
    "start_time": "2023-01-08T12:40:48.834Z"
   },
   {
    "duration": 113,
    "start_time": "2023-01-08T12:40:49.204Z"
   },
   {
    "duration": 232,
    "start_time": "2023-01-08T12:40:49.319Z"
   },
   {
    "duration": 95,
    "start_time": "2023-01-08T12:40:49.552Z"
   },
   {
    "duration": 27,
    "start_time": "2023-01-08T12:40:49.649Z"
   },
   {
    "duration": 29,
    "start_time": "2023-01-08T12:40:49.678Z"
   },
   {
    "duration": 46,
    "start_time": "2023-01-08T12:40:49.708Z"
   },
   {
    "duration": 49,
    "start_time": "2023-01-08T12:40:49.755Z"
   },
   {
    "duration": 227,
    "start_time": "2023-01-08T12:40:49.811Z"
   },
   {
    "duration": 581,
    "start_time": "2023-01-08T12:40:50.040Z"
   },
   {
    "duration": 239,
    "start_time": "2023-01-08T12:40:50.622Z"
   },
   {
    "duration": 9,
    "start_time": "2023-01-08T12:40:50.863Z"
   },
   {
    "duration": 27,
    "start_time": "2023-01-08T12:40:50.874Z"
   },
   {
    "duration": 67,
    "start_time": "2023-01-08T12:40:50.911Z"
   },
   {
    "duration": 38,
    "start_time": "2023-01-08T12:40:50.979Z"
   },
   {
    "duration": 164,
    "start_time": "2023-01-08T12:40:51.019Z"
   },
   {
    "duration": 95,
    "start_time": "2023-01-08T12:40:51.185Z"
   },
   {
    "duration": 24,
    "start_time": "2023-01-08T12:40:51.281Z"
   },
   {
    "duration": 16,
    "start_time": "2023-01-08T12:40:51.306Z"
   },
   {
    "duration": 16,
    "start_time": "2023-01-08T12:40:51.324Z"
   },
   {
    "duration": 218,
    "start_time": "2023-01-08T12:40:51.342Z"
   },
   {
    "duration": 5,
    "start_time": "2023-01-08T12:40:51.562Z"
   },
   {
    "duration": 155,
    "start_time": "2023-01-08T12:40:51.569Z"
   },
   {
    "duration": 189,
    "start_time": "2023-01-08T12:40:51.727Z"
   },
   {
    "duration": 7,
    "start_time": "2023-01-08T12:40:51.918Z"
   },
   {
    "duration": 25,
    "start_time": "2023-01-08T12:40:51.927Z"
   },
   {
    "duration": 6,
    "start_time": "2023-01-08T12:51:15.685Z"
   },
   {
    "duration": 144,
    "start_time": "2023-01-08T12:51:18.024Z"
   },
   {
    "duration": 5,
    "start_time": "2023-01-08T12:52:32.969Z"
   },
   {
    "duration": 11,
    "start_time": "2023-01-08T12:52:34.781Z"
   },
   {
    "duration": 5,
    "start_time": "2023-01-08T12:53:37.038Z"
   },
   {
    "duration": 12,
    "start_time": "2023-01-08T12:53:39.183Z"
   },
   {
    "duration": 5,
    "start_time": "2023-01-08T12:53:48.427Z"
   },
   {
    "duration": 12,
    "start_time": "2023-01-08T12:53:50.347Z"
   },
   {
    "duration": 4,
    "start_time": "2023-01-08T12:54:01.438Z"
   },
   {
    "duration": 12,
    "start_time": "2023-01-08T12:54:02.847Z"
   },
   {
    "duration": 4,
    "start_time": "2023-01-08T12:54:14.859Z"
   },
   {
    "duration": 8,
    "start_time": "2023-01-08T12:54:16.664Z"
   },
   {
    "duration": 43,
    "start_time": "2023-01-08T12:56:40.139Z"
   },
   {
    "duration": 64,
    "start_time": "2023-01-08T12:57:08.387Z"
   },
   {
    "duration": 45,
    "start_time": "2023-01-08T12:57:37.470Z"
   },
   {
    "duration": 57,
    "start_time": "2023-01-08T12:57:50.886Z"
   },
   {
    "duration": 15,
    "start_time": "2023-01-08T12:58:00.995Z"
   },
   {
    "duration": 10,
    "start_time": "2023-01-08T12:58:04.396Z"
   },
   {
    "duration": 9,
    "start_time": "2023-01-08T12:59:26.250Z"
   },
   {
    "duration": 846,
    "start_time": "2023-01-08T12:59:41.977Z"
   },
   {
    "duration": 4,
    "start_time": "2023-01-08T13:00:05.877Z"
   },
   {
    "duration": 13,
    "start_time": "2023-01-08T13:00:54.273Z"
   },
   {
    "duration": 7,
    "start_time": "2023-01-08T13:17:04.773Z"
   },
   {
    "duration": 16,
    "start_time": "2023-01-08T13:17:15.709Z"
   },
   {
    "duration": 11,
    "start_time": "2023-01-08T13:17:23.549Z"
   },
   {
    "duration": 12,
    "start_time": "2023-01-08T13:17:29.817Z"
   },
   {
    "duration": 6,
    "start_time": "2023-01-08T13:17:44.543Z"
   },
   {
    "duration": 12,
    "start_time": "2023-01-08T13:17:46.471Z"
   },
   {
    "duration": 5,
    "start_time": "2023-01-08T13:17:55.731Z"
   },
   {
    "duration": 13,
    "start_time": "2023-01-08T13:17:58.274Z"
   },
   {
    "duration": 56,
    "start_time": "2023-01-08T13:25:36.691Z"
   },
   {
    "duration": 4,
    "start_time": "2023-01-08T13:25:40.475Z"
   },
   {
    "duration": 49,
    "start_time": "2023-01-08T13:25:42.035Z"
   },
   {
    "duration": 4,
    "start_time": "2023-01-08T13:26:31.544Z"
   },
   {
    "duration": 8,
    "start_time": "2023-01-08T13:26:38.560Z"
   },
   {
    "duration": 181,
    "start_time": "2023-01-08T13:26:49.337Z"
   },
   {
    "duration": 4,
    "start_time": "2023-01-08T13:26:57.139Z"
   },
   {
    "duration": 14,
    "start_time": "2023-01-08T13:30:07.471Z"
   },
   {
    "duration": 5,
    "start_time": "2023-01-08T13:30:30.043Z"
   },
   {
    "duration": 6,
    "start_time": "2023-01-08T13:30:34.629Z"
   },
   {
    "duration": 9,
    "start_time": "2023-01-08T13:30:36.451Z"
   },
   {
    "duration": 164,
    "start_time": "2023-01-08T13:59:53.686Z"
   },
   {
    "duration": 157,
    "start_time": "2023-01-08T14:00:13.489Z"
   },
   {
    "duration": 158,
    "start_time": "2023-01-08T14:00:32.674Z"
   },
   {
    "duration": 154,
    "start_time": "2023-01-08T14:09:46.373Z"
   },
   {
    "duration": 70,
    "start_time": "2023-01-08T14:10:34.965Z"
   },
   {
    "duration": 147,
    "start_time": "2023-01-08T14:10:37.544Z"
   },
   {
    "duration": 179,
    "start_time": "2023-01-08T14:11:34.677Z"
   },
   {
    "duration": 75,
    "start_time": "2023-01-08T14:15:44.418Z"
   },
   {
    "duration": 5,
    "start_time": "2023-01-08T14:15:53.518Z"
   },
   {
    "duration": 9,
    "start_time": "2023-01-08T14:16:16.029Z"
   },
   {
    "duration": 759,
    "start_time": "2023-01-08T14:16:26.064Z"
   },
   {
    "duration": 14,
    "start_time": "2023-01-08T14:16:46.191Z"
   },
   {
    "duration": 6,
    "start_time": "2023-01-08T14:17:38.517Z"
   },
   {
    "duration": 11,
    "start_time": "2023-01-08T14:17:40.092Z"
   },
   {
    "duration": 6,
    "start_time": "2023-01-08T14:18:48.613Z"
   },
   {
    "duration": 23,
    "start_time": "2023-01-08T14:18:50.388Z"
   },
   {
    "duration": 6,
    "start_time": "2023-01-08T14:19:07.561Z"
   },
   {
    "duration": 8,
    "start_time": "2023-01-08T14:19:09.730Z"
   },
   {
    "duration": 157,
    "start_time": "2023-01-08T14:19:22.526Z"
   },
   {
    "duration": 5,
    "start_time": "2023-01-08T14:19:26.388Z"
   },
   {
    "duration": 10,
    "start_time": "2023-01-08T14:19:27.871Z"
   },
   {
    "duration": 163,
    "start_time": "2023-01-08T14:19:58.594Z"
   },
   {
    "duration": 169,
    "start_time": "2023-01-08T14:20:05.111Z"
   },
   {
    "duration": 4,
    "start_time": "2023-01-08T14:20:15.118Z"
   },
   {
    "duration": 7,
    "start_time": "2023-01-08T14:20:16.635Z"
   },
   {
    "duration": 6,
    "start_time": "2023-01-08T14:20:41.160Z"
   },
   {
    "duration": 12,
    "start_time": "2023-01-08T14:20:43.350Z"
   },
   {
    "duration": 5,
    "start_time": "2023-01-08T14:20:52.064Z"
   },
   {
    "duration": 10,
    "start_time": "2023-01-08T14:20:55.537Z"
   },
   {
    "duration": 11,
    "start_time": "2023-01-08T14:22:08.699Z"
   },
   {
    "duration": 9,
    "start_time": "2023-01-08T14:22:22.530Z"
   },
   {
    "duration": 842,
    "start_time": "2023-01-08T14:22:54.742Z"
   },
   {
    "duration": 768,
    "start_time": "2023-01-08T14:23:22.853Z"
   },
   {
    "duration": 1341,
    "start_time": "2023-01-08T14:23:34.972Z"
   },
   {
    "duration": 12,
    "start_time": "2023-01-08T14:23:36.315Z"
   },
   {
    "duration": 14,
    "start_time": "2023-01-08T14:23:36.329Z"
   },
   {
    "duration": 21,
    "start_time": "2023-01-08T14:23:36.345Z"
   },
   {
    "duration": 344,
    "start_time": "2023-01-08T14:23:36.367Z"
   },
   {
    "duration": 100,
    "start_time": "2023-01-08T14:23:36.713Z"
   },
   {
    "duration": 223,
    "start_time": "2023-01-08T14:23:36.815Z"
   },
   {
    "duration": 91,
    "start_time": "2023-01-08T14:23:37.039Z"
   },
   {
    "duration": 27,
    "start_time": "2023-01-08T14:23:37.132Z"
   },
   {
    "duration": 12,
    "start_time": "2023-01-08T14:23:37.162Z"
   },
   {
    "duration": 57,
    "start_time": "2023-01-08T14:23:37.176Z"
   },
   {
    "duration": 43,
    "start_time": "2023-01-08T14:23:37.235Z"
   },
   {
    "duration": 175,
    "start_time": "2023-01-08T14:23:37.280Z"
   },
   {
    "duration": 528,
    "start_time": "2023-01-08T14:23:37.457Z"
   },
   {
    "duration": 254,
    "start_time": "2023-01-08T14:23:37.987Z"
   },
   {
    "duration": 8,
    "start_time": "2023-01-08T14:23:38.243Z"
   },
   {
    "duration": 5,
    "start_time": "2023-01-08T14:23:38.252Z"
   },
   {
    "duration": 92,
    "start_time": "2023-01-08T14:23:38.258Z"
   },
   {
    "duration": 23,
    "start_time": "2023-01-08T14:23:38.352Z"
   },
   {
    "duration": 194,
    "start_time": "2023-01-08T14:23:38.377Z"
   },
   {
    "duration": 96,
    "start_time": "2023-01-08T14:23:38.572Z"
   },
   {
    "duration": 9,
    "start_time": "2023-01-08T14:23:38.669Z"
   },
   {
    "duration": 29,
    "start_time": "2023-01-08T14:23:38.679Z"
   },
   {
    "duration": 13,
    "start_time": "2023-01-08T14:23:38.709Z"
   },
   {
    "duration": 191,
    "start_time": "2023-01-08T14:23:38.723Z"
   },
   {
    "duration": 4,
    "start_time": "2023-01-08T14:23:38.918Z"
   },
   {
    "duration": 124,
    "start_time": "2023-01-08T14:23:38.923Z"
   },
   {
    "duration": 200,
    "start_time": "2023-01-08T14:23:39.050Z"
   },
   {
    "duration": 5,
    "start_time": "2023-01-08T14:23:39.251Z"
   },
   {
    "duration": 13,
    "start_time": "2023-01-08T14:23:39.258Z"
   },
   {
    "duration": 9,
    "start_time": "2023-01-08T14:23:39.273Z"
   },
   {
    "duration": 26,
    "start_time": "2023-01-08T14:23:39.283Z"
   },
   {
    "duration": 915,
    "start_time": "2023-01-08T14:23:39.310Z"
   },
   {
    "duration": 865,
    "start_time": "2023-01-08T14:27:47.205Z"
   },
   {
    "duration": 70,
    "start_time": "2023-01-08T14:28:09.235Z"
   },
   {
    "duration": 800,
    "start_time": "2023-01-08T14:28:42.961Z"
   },
   {
    "duration": 1182,
    "start_time": "2023-01-08T14:28:51.609Z"
   },
   {
    "duration": 12,
    "start_time": "2023-01-08T14:28:52.792Z"
   },
   {
    "duration": 13,
    "start_time": "2023-01-08T14:28:52.806Z"
   },
   {
    "duration": 17,
    "start_time": "2023-01-08T14:28:52.821Z"
   },
   {
    "duration": 318,
    "start_time": "2023-01-08T14:28:52.840Z"
   },
   {
    "duration": 102,
    "start_time": "2023-01-08T14:28:53.160Z"
   },
   {
    "duration": 227,
    "start_time": "2023-01-08T14:28:53.264Z"
   },
   {
    "duration": 77,
    "start_time": "2023-01-08T14:28:53.492Z"
   },
   {
    "duration": 40,
    "start_time": "2023-01-08T14:28:53.570Z"
   },
   {
    "duration": 11,
    "start_time": "2023-01-08T14:28:53.613Z"
   },
   {
    "duration": 36,
    "start_time": "2023-01-08T14:28:53.626Z"
   },
   {
    "duration": 62,
    "start_time": "2023-01-08T14:28:53.663Z"
   },
   {
    "duration": 148,
    "start_time": "2023-01-08T14:28:53.726Z"
   },
   {
    "duration": 468,
    "start_time": "2023-01-08T14:28:53.875Z"
   },
   {
    "duration": 217,
    "start_time": "2023-01-08T14:28:54.344Z"
   },
   {
    "duration": 7,
    "start_time": "2023-01-08T14:28:54.562Z"
   },
   {
    "duration": 4,
    "start_time": "2023-01-08T14:28:54.571Z"
   },
   {
    "duration": 82,
    "start_time": "2023-01-08T14:28:54.576Z"
   },
   {
    "duration": 41,
    "start_time": "2023-01-08T14:28:54.660Z"
   },
   {
    "duration": 196,
    "start_time": "2023-01-08T14:28:54.703Z"
   },
   {
    "duration": 77,
    "start_time": "2023-01-08T14:28:54.900Z"
   },
   {
    "duration": 21,
    "start_time": "2023-01-08T14:28:54.979Z"
   },
   {
    "duration": 14,
    "start_time": "2023-01-08T14:28:55.001Z"
   },
   {
    "duration": 22,
    "start_time": "2023-01-08T14:28:55.016Z"
   },
   {
    "duration": 165,
    "start_time": "2023-01-08T14:28:55.039Z"
   },
   {
    "duration": 4,
    "start_time": "2023-01-08T14:28:55.205Z"
   },
   {
    "duration": 993,
    "start_time": "2023-01-08T14:28:55.210Z"
   },
   {
    "duration": 0,
    "start_time": "2023-01-08T14:28:56.205Z"
   },
   {
    "duration": 0,
    "start_time": "2023-01-08T14:28:56.206Z"
   },
   {
    "duration": 0,
    "start_time": "2023-01-08T14:28:56.208Z"
   },
   {
    "duration": 0,
    "start_time": "2023-01-08T14:28:56.209Z"
   },
   {
    "duration": 0,
    "start_time": "2023-01-08T14:28:56.210Z"
   },
   {
    "duration": 0,
    "start_time": "2023-01-08T14:28:56.212Z"
   },
   {
    "duration": 69,
    "start_time": "2023-01-08T14:29:34.107Z"
   },
   {
    "duration": 157,
    "start_time": "2023-01-08T14:29:37.468Z"
   },
   {
    "duration": 12,
    "start_time": "2023-01-08T14:31:01.718Z"
   },
   {
    "duration": 10,
    "start_time": "2023-01-08T14:31:06.638Z"
   },
   {
    "duration": 9,
    "start_time": "2023-01-08T14:31:28.903Z"
   },
   {
    "duration": 6,
    "start_time": "2023-01-08T14:31:35.014Z"
   },
   {
    "duration": 806,
    "start_time": "2023-01-08T14:32:09.197Z"
   },
   {
    "duration": 725,
    "start_time": "2023-01-08T14:32:24.089Z"
   },
   {
    "duration": 68,
    "start_time": "2023-01-08T14:32:38.641Z"
   },
   {
    "duration": 678,
    "start_time": "2023-01-08T14:32:49.846Z"
   },
   {
    "duration": 12,
    "start_time": "2023-01-08T14:33:16.734Z"
   },
   {
    "duration": 10,
    "start_time": "2023-01-08T14:33:45.211Z"
   },
   {
    "duration": 11,
    "start_time": "2023-01-08T14:33:55.626Z"
   },
   {
    "duration": 61,
    "start_time": "2023-01-08T14:34:17.646Z"
   },
   {
    "duration": 150,
    "start_time": "2023-01-08T14:34:19.555Z"
   },
   {
    "duration": 5,
    "start_time": "2023-01-08T14:36:29.724Z"
   },
   {
    "duration": 10,
    "start_time": "2023-01-08T14:36:31.591Z"
   },
   {
    "duration": 10,
    "start_time": "2023-01-08T14:36:34.944Z"
   },
   {
    "duration": 8,
    "start_time": "2023-01-08T14:36:37.499Z"
   },
   {
    "duration": 146,
    "start_time": "2023-01-08T14:38:03.797Z"
   },
   {
    "duration": 155,
    "start_time": "2023-01-08T14:38:09.982Z"
   },
   {
    "duration": 60,
    "start_time": "2023-01-08T14:38:33.878Z"
   },
   {
    "duration": 126,
    "start_time": "2023-01-08T14:38:51.082Z"
   },
   {
    "duration": 839,
    "start_time": "2023-01-08T14:39:24.020Z"
   },
   {
    "duration": 114,
    "start_time": "2023-01-08T14:39:56.176Z"
   },
   {
    "duration": 49,
    "start_time": "2023-01-08T14:40:30.823Z"
   },
   {
    "duration": 861,
    "start_time": "2023-01-08T14:40:33.219Z"
   },
   {
    "duration": 55,
    "start_time": "2023-01-08T14:40:58.689Z"
   },
   {
    "duration": 45,
    "start_time": "2023-01-08T14:41:32.638Z"
   },
   {
    "duration": 63,
    "start_time": "2023-01-08T14:45:28.071Z"
   },
   {
    "duration": 21,
    "start_time": "2023-01-08T14:46:02.669Z"
   },
   {
    "duration": 16,
    "start_time": "2023-01-08T14:46:04.872Z"
   },
   {
    "duration": 1325,
    "start_time": "2023-01-08T14:46:23.560Z"
   },
   {
    "duration": 12,
    "start_time": "2023-01-08T14:46:24.887Z"
   },
   {
    "duration": 16,
    "start_time": "2023-01-08T14:46:24.900Z"
   },
   {
    "duration": 18,
    "start_time": "2023-01-08T14:46:24.918Z"
   },
   {
    "duration": 314,
    "start_time": "2023-01-08T14:46:24.938Z"
   },
   {
    "duration": 102,
    "start_time": "2023-01-08T14:46:25.254Z"
   },
   {
    "duration": 223,
    "start_time": "2023-01-08T14:46:25.358Z"
   },
   {
    "duration": 137,
    "start_time": "2023-01-08T14:46:25.584Z"
   },
   {
    "duration": 27,
    "start_time": "2023-01-08T14:46:25.722Z"
   },
   {
    "duration": 11,
    "start_time": "2023-01-08T14:46:25.751Z"
   },
   {
    "duration": 57,
    "start_time": "2023-01-08T14:46:25.764Z"
   },
   {
    "duration": 40,
    "start_time": "2023-01-08T14:46:25.823Z"
   },
   {
    "duration": 177,
    "start_time": "2023-01-08T14:46:25.865Z"
   },
   {
    "duration": 491,
    "start_time": "2023-01-08T14:46:26.044Z"
   },
   {
    "duration": 248,
    "start_time": "2023-01-08T14:46:26.537Z"
   },
   {
    "duration": 11,
    "start_time": "2023-01-08T14:46:26.787Z"
   },
   {
    "duration": 5,
    "start_time": "2023-01-08T14:46:26.799Z"
   },
   {
    "duration": 68,
    "start_time": "2023-01-08T14:46:26.805Z"
   },
   {
    "duration": 36,
    "start_time": "2023-01-08T14:46:26.874Z"
   },
   {
    "duration": 191,
    "start_time": "2023-01-08T14:46:26.913Z"
   },
   {
    "duration": 92,
    "start_time": "2023-01-08T14:46:27.106Z"
   },
   {
    "duration": 10,
    "start_time": "2023-01-08T14:46:27.200Z"
   },
   {
    "duration": 18,
    "start_time": "2023-01-08T14:46:27.211Z"
   },
   {
    "duration": 13,
    "start_time": "2023-01-08T14:46:27.231Z"
   },
   {
    "duration": 168,
    "start_time": "2023-01-08T14:46:27.245Z"
   },
   {
    "duration": 4,
    "start_time": "2023-01-08T14:46:27.416Z"
   },
   {
    "duration": 123,
    "start_time": "2023-01-08T14:46:27.422Z"
   },
   {
    "duration": 189,
    "start_time": "2023-01-08T14:46:27.547Z"
   },
   {
    "duration": 80,
    "start_time": "2023-01-08T14:46:27.738Z"
   },
   {
    "duration": 7,
    "start_time": "2023-01-08T14:46:27.820Z"
   },
   {
    "duration": 115,
    "start_time": "2023-01-08T14:46:27.828Z"
   },
   {
    "duration": 0,
    "start_time": "2023-01-08T14:46:27.945Z"
   },
   {
    "duration": 0,
    "start_time": "2023-01-08T14:46:27.946Z"
   },
   {
    "duration": 0,
    "start_time": "2023-01-08T14:46:27.947Z"
   },
   {
    "duration": 14,
    "start_time": "2023-01-08T14:46:41.268Z"
   },
   {
    "duration": 1165,
    "start_time": "2023-01-08T14:46:50.424Z"
   },
   {
    "duration": 15,
    "start_time": "2023-01-08T14:46:51.591Z"
   },
   {
    "duration": 13,
    "start_time": "2023-01-08T14:46:51.607Z"
   },
   {
    "duration": 18,
    "start_time": "2023-01-08T14:46:51.622Z"
   },
   {
    "duration": 334,
    "start_time": "2023-01-08T14:46:51.641Z"
   },
   {
    "duration": 95,
    "start_time": "2023-01-08T14:46:51.977Z"
   },
   {
    "duration": 220,
    "start_time": "2023-01-08T14:46:52.074Z"
   },
   {
    "duration": 79,
    "start_time": "2023-01-08T14:46:52.297Z"
   },
   {
    "duration": 39,
    "start_time": "2023-01-08T14:46:52.377Z"
   },
   {
    "duration": 12,
    "start_time": "2023-01-08T14:46:52.418Z"
   },
   {
    "duration": 36,
    "start_time": "2023-01-08T14:46:52.431Z"
   },
   {
    "duration": 56,
    "start_time": "2023-01-08T14:46:52.469Z"
   },
   {
    "duration": 147,
    "start_time": "2023-01-08T14:46:52.527Z"
   },
   {
    "duration": 477,
    "start_time": "2023-01-08T14:46:52.676Z"
   },
   {
    "duration": 225,
    "start_time": "2023-01-08T14:46:53.156Z"
   },
   {
    "duration": 14,
    "start_time": "2023-01-08T14:46:53.383Z"
   },
   {
    "duration": 5,
    "start_time": "2023-01-08T14:46:53.398Z"
   },
   {
    "duration": 67,
    "start_time": "2023-01-08T14:46:53.404Z"
   },
   {
    "duration": 36,
    "start_time": "2023-01-08T14:46:53.472Z"
   },
   {
    "duration": 176,
    "start_time": "2023-01-08T14:46:53.509Z"
   },
   {
    "duration": 80,
    "start_time": "2023-01-08T14:46:53.687Z"
   },
   {
    "duration": 9,
    "start_time": "2023-01-08T14:46:53.769Z"
   },
   {
    "duration": 23,
    "start_time": "2023-01-08T14:46:53.779Z"
   },
   {
    "duration": 13,
    "start_time": "2023-01-08T14:46:53.803Z"
   },
   {
    "duration": 164,
    "start_time": "2023-01-08T14:46:53.818Z"
   },
   {
    "duration": 4,
    "start_time": "2023-01-08T14:46:53.985Z"
   },
   {
    "duration": 123,
    "start_time": "2023-01-08T14:46:53.990Z"
   },
   {
    "duration": 175,
    "start_time": "2023-01-08T14:46:54.116Z"
   },
   {
    "duration": 69,
    "start_time": "2023-01-08T14:46:54.293Z"
   },
   {
    "duration": 6,
    "start_time": "2023-01-08T14:46:54.363Z"
   },
   {
    "duration": 27,
    "start_time": "2023-01-08T14:46:54.370Z"
   },
   {
    "duration": 9,
    "start_time": "2023-01-08T14:46:54.398Z"
   },
   {
    "duration": 14,
    "start_time": "2023-01-08T14:46:54.408Z"
   },
   {
    "duration": 830,
    "start_time": "2023-01-08T14:46:54.424Z"
   },
   {
    "duration": 8,
    "start_time": "2023-01-08T14:47:28.904Z"
   },
   {
    "duration": 5,
    "start_time": "2023-01-08T14:47:32.826Z"
   },
   {
    "duration": 16,
    "start_time": "2023-01-08T14:47:35.722Z"
   },
   {
    "duration": 772,
    "start_time": "2023-01-08T14:48:30.311Z"
   },
   {
    "duration": 68,
    "start_time": "2023-01-08T14:48:39.213Z"
   },
   {
    "duration": 70,
    "start_time": "2023-01-08T14:49:03.562Z"
   },
   {
    "duration": 10,
    "start_time": "2023-01-08T14:49:53.914Z"
   },
   {
    "duration": 7,
    "start_time": "2023-01-08T14:50:06.538Z"
   },
   {
    "duration": 8,
    "start_time": "2023-01-08T14:50:30.719Z"
   },
   {
    "duration": 1195,
    "start_time": "2023-01-08T14:50:55.217Z"
   },
   {
    "duration": 13,
    "start_time": "2023-01-08T14:50:56.414Z"
   },
   {
    "duration": 13,
    "start_time": "2023-01-08T14:50:56.428Z"
   },
   {
    "duration": 18,
    "start_time": "2023-01-08T14:50:56.443Z"
   },
   {
    "duration": 324,
    "start_time": "2023-01-08T14:50:56.463Z"
   },
   {
    "duration": 93,
    "start_time": "2023-01-08T14:50:56.789Z"
   },
   {
    "duration": 220,
    "start_time": "2023-01-08T14:50:56.884Z"
   },
   {
    "duration": 71,
    "start_time": "2023-01-08T14:50:57.106Z"
   },
   {
    "duration": 36,
    "start_time": "2023-01-08T14:50:57.179Z"
   },
   {
    "duration": 11,
    "start_time": "2023-01-08T14:50:57.217Z"
   },
   {
    "duration": 35,
    "start_time": "2023-01-08T14:50:57.229Z"
   },
   {
    "duration": 61,
    "start_time": "2023-01-08T14:50:57.266Z"
   },
   {
    "duration": 144,
    "start_time": "2023-01-08T14:50:57.328Z"
   },
   {
    "duration": 460,
    "start_time": "2023-01-08T14:50:57.474Z"
   },
   {
    "duration": 226,
    "start_time": "2023-01-08T14:50:57.936Z"
   },
   {
    "duration": 8,
    "start_time": "2023-01-08T14:50:58.164Z"
   },
   {
    "duration": 7,
    "start_time": "2023-01-08T14:50:58.173Z"
   },
   {
    "duration": 79,
    "start_time": "2023-01-08T14:50:58.181Z"
   },
   {
    "duration": 36,
    "start_time": "2023-01-08T14:50:58.262Z"
   },
   {
    "duration": 157,
    "start_time": "2023-01-08T14:50:58.299Z"
   },
   {
    "duration": 88,
    "start_time": "2023-01-08T14:50:58.458Z"
   },
   {
    "duration": 9,
    "start_time": "2023-01-08T14:50:58.548Z"
   },
   {
    "duration": 6,
    "start_time": "2023-01-08T14:50:58.559Z"
   },
   {
    "duration": 30,
    "start_time": "2023-01-08T14:50:58.567Z"
   },
   {
    "duration": 149,
    "start_time": "2023-01-08T14:50:58.599Z"
   },
   {
    "duration": 4,
    "start_time": "2023-01-08T14:50:58.749Z"
   },
   {
    "duration": 91,
    "start_time": "2023-01-08T14:50:58.755Z"
   },
   {
    "duration": 199,
    "start_time": "2023-01-08T14:50:58.849Z"
   },
   {
    "duration": 5,
    "start_time": "2023-01-08T14:50:59.049Z"
   },
   {
    "duration": 16,
    "start_time": "2023-01-08T14:50:59.055Z"
   },
   {
    "duration": 9,
    "start_time": "2023-01-08T14:50:59.072Z"
   },
   {
    "duration": 8,
    "start_time": "2023-01-08T14:50:59.097Z"
   },
   {
    "duration": 8,
    "start_time": "2023-01-08T14:50:59.107Z"
   },
   {
    "duration": 11,
    "start_time": "2023-01-08T14:50:59.117Z"
   },
   {
    "duration": 10,
    "start_time": "2023-01-08T14:50:59.129Z"
   },
   {
    "duration": 789,
    "start_time": "2023-01-08T14:58:58.305Z"
   },
   {
    "duration": 8,
    "start_time": "2023-01-08T14:59:27.049Z"
   },
   {
    "duration": 9,
    "start_time": "2023-01-08T15:00:21.660Z"
   },
   {
    "duration": 56,
    "start_time": "2023-01-08T15:00:29.266Z"
   },
   {
    "duration": 900,
    "start_time": "2023-01-08T15:00:49.096Z"
   },
   {
    "duration": 97,
    "start_time": "2023-01-08T15:02:14.774Z"
   },
   {
    "duration": 806,
    "start_time": "2023-01-08T15:02:19.812Z"
   },
   {
    "duration": 800,
    "start_time": "2023-01-08T15:02:42.682Z"
   },
   {
    "duration": 792,
    "start_time": "2023-01-08T15:02:53.529Z"
   },
   {
    "duration": 81,
    "start_time": "2023-01-08T15:03:17.021Z"
   },
   {
    "duration": 738,
    "start_time": "2023-01-08T15:03:21.182Z"
   },
   {
    "duration": 62,
    "start_time": "2023-01-08T15:03:54.855Z"
   },
   {
    "duration": 48,
    "start_time": "2023-01-08T15:04:09.885Z"
   },
   {
    "duration": 9,
    "start_time": "2023-01-08T15:11:16.038Z"
   },
   {
    "duration": 7,
    "start_time": "2023-01-08T15:12:07.496Z"
   },
   {
    "duration": 12,
    "start_time": "2023-01-08T15:12:14.757Z"
   },
   {
    "duration": 11,
    "start_time": "2023-01-08T15:13:09.004Z"
   },
   {
    "duration": 8,
    "start_time": "2023-01-08T15:13:14.015Z"
   },
   {
    "duration": 8,
    "start_time": "2023-01-08T15:13:44.092Z"
   },
   {
    "duration": 11,
    "start_time": "2023-01-08T15:13:46.068Z"
   },
   {
    "duration": 10,
    "start_time": "2023-01-08T15:13:50.221Z"
   },
   {
    "duration": 10,
    "start_time": "2023-01-08T15:13:52.516Z"
   },
   {
    "duration": 9,
    "start_time": "2023-01-08T15:13:54.914Z"
   },
   {
    "duration": 8,
    "start_time": "2023-01-08T15:14:21.273Z"
   },
   {
    "duration": 9,
    "start_time": "2023-01-08T15:14:43.286Z"
   },
   {
    "duration": 1228,
    "start_time": "2023-01-08T15:15:06.966Z"
   },
   {
    "duration": 12,
    "start_time": "2023-01-08T15:15:08.198Z"
   },
   {
    "duration": 15,
    "start_time": "2023-01-08T15:15:08.211Z"
   },
   {
    "duration": 18,
    "start_time": "2023-01-08T15:15:08.227Z"
   },
   {
    "duration": 322,
    "start_time": "2023-01-08T15:15:08.247Z"
   },
   {
    "duration": 99,
    "start_time": "2023-01-08T15:15:08.571Z"
   },
   {
    "duration": 222,
    "start_time": "2023-01-08T15:15:08.671Z"
   },
   {
    "duration": 80,
    "start_time": "2023-01-08T15:15:08.897Z"
   },
   {
    "duration": 42,
    "start_time": "2023-01-08T15:15:08.978Z"
   },
   {
    "duration": 12,
    "start_time": "2023-01-08T15:15:09.021Z"
   },
   {
    "duration": 41,
    "start_time": "2023-01-08T15:15:09.035Z"
   },
   {
    "duration": 58,
    "start_time": "2023-01-08T15:15:09.078Z"
   },
   {
    "duration": 169,
    "start_time": "2023-01-08T15:15:09.138Z"
   },
   {
    "duration": 477,
    "start_time": "2023-01-08T15:15:09.310Z"
   },
   {
    "duration": 224,
    "start_time": "2023-01-08T15:15:09.789Z"
   },
   {
    "duration": 7,
    "start_time": "2023-01-08T15:15:10.014Z"
   },
   {
    "duration": 11,
    "start_time": "2023-01-08T15:15:10.023Z"
   },
   {
    "duration": 109,
    "start_time": "2023-01-08T15:15:10.036Z"
   },
   {
    "duration": 20,
    "start_time": "2023-01-08T15:15:10.146Z"
   },
   {
    "duration": 159,
    "start_time": "2023-01-08T15:15:10.168Z"
   },
   {
    "duration": 83,
    "start_time": "2023-01-08T15:15:10.329Z"
   },
   {
    "duration": 9,
    "start_time": "2023-01-08T15:15:10.414Z"
   },
   {
    "duration": 12,
    "start_time": "2023-01-08T15:15:10.424Z"
   },
   {
    "duration": 15,
    "start_time": "2023-01-08T15:15:10.437Z"
   },
   {
    "duration": 173,
    "start_time": "2023-01-08T15:15:10.454Z"
   },
   {
    "duration": 4,
    "start_time": "2023-01-08T15:15:10.628Z"
   },
   {
    "duration": 108,
    "start_time": "2023-01-08T15:15:10.633Z"
   },
   {
    "duration": 198,
    "start_time": "2023-01-08T15:15:10.743Z"
   },
   {
    "duration": 9,
    "start_time": "2023-01-08T15:15:10.943Z"
   },
   {
    "duration": 6,
    "start_time": "2023-01-08T15:15:10.953Z"
   },
   {
    "duration": 16,
    "start_time": "2023-01-08T15:15:10.961Z"
   },
   {
    "duration": 23,
    "start_time": "2023-01-08T15:15:10.978Z"
   },
   {
    "duration": 10,
    "start_time": "2023-01-08T15:15:11.003Z"
   },
   {
    "duration": 10,
    "start_time": "2023-01-08T15:15:11.015Z"
   },
   {
    "duration": 10,
    "start_time": "2023-01-08T15:15:11.027Z"
   },
   {
    "duration": 8,
    "start_time": "2023-01-08T15:15:11.038Z"
   },
   {
    "duration": 13,
    "start_time": "2023-01-08T15:15:11.048Z"
   },
   {
    "duration": 45,
    "start_time": "2023-01-08T16:20:47.481Z"
   },
   {
    "duration": 1745,
    "start_time": "2023-01-08T16:23:32.391Z"
   },
   {
    "duration": 14,
    "start_time": "2023-01-08T16:23:34.139Z"
   },
   {
    "duration": 16,
    "start_time": "2023-01-08T16:23:34.155Z"
   },
   {
    "duration": 22,
    "start_time": "2023-01-08T16:23:34.173Z"
   },
   {
    "duration": 311,
    "start_time": "2023-01-08T16:23:34.198Z"
   },
   {
    "duration": 97,
    "start_time": "2023-01-08T16:23:34.511Z"
   },
   {
    "duration": 239,
    "start_time": "2023-01-08T16:23:34.610Z"
   },
   {
    "duration": 90,
    "start_time": "2023-01-08T16:23:34.851Z"
   },
   {
    "duration": 27,
    "start_time": "2023-01-08T16:23:34.942Z"
   },
   {
    "duration": 11,
    "start_time": "2023-01-08T16:23:34.971Z"
   },
   {
    "duration": 33,
    "start_time": "2023-01-08T16:23:34.997Z"
   },
   {
    "duration": 43,
    "start_time": "2023-01-08T16:23:35.032Z"
   },
   {
    "duration": 169,
    "start_time": "2023-01-08T16:23:35.077Z"
   },
   {
    "duration": 473,
    "start_time": "2023-01-08T16:23:35.248Z"
   },
   {
    "duration": 227,
    "start_time": "2023-01-08T16:23:35.723Z"
   },
   {
    "duration": 7,
    "start_time": "2023-01-08T16:23:35.951Z"
   },
   {
    "duration": 12,
    "start_time": "2023-01-08T16:23:35.960Z"
   },
   {
    "duration": 75,
    "start_time": "2023-01-08T16:23:35.974Z"
   },
   {
    "duration": 21,
    "start_time": "2023-01-08T16:23:36.051Z"
   },
   {
    "duration": 165,
    "start_time": "2023-01-08T16:23:36.073Z"
   },
   {
    "duration": 81,
    "start_time": "2023-01-08T16:23:36.239Z"
   },
   {
    "duration": 9,
    "start_time": "2023-01-08T16:23:36.322Z"
   },
   {
    "duration": 7,
    "start_time": "2023-01-08T16:23:36.332Z"
   },
   {
    "duration": 12,
    "start_time": "2023-01-08T16:23:36.341Z"
   },
   {
    "duration": 180,
    "start_time": "2023-01-08T16:23:36.354Z"
   },
   {
    "duration": 4,
    "start_time": "2023-01-08T16:23:36.536Z"
   },
   {
    "duration": 92,
    "start_time": "2023-01-08T16:23:36.542Z"
   },
   {
    "duration": 183,
    "start_time": "2023-01-08T16:23:36.637Z"
   },
   {
    "duration": 9,
    "start_time": "2023-01-08T16:23:36.822Z"
   },
   {
    "duration": 7,
    "start_time": "2023-01-08T16:23:36.833Z"
   },
   {
    "duration": 10,
    "start_time": "2023-01-08T16:23:36.842Z"
   },
   {
    "duration": 7,
    "start_time": "2023-01-08T16:23:36.854Z"
   },
   {
    "duration": 18,
    "start_time": "2023-01-08T16:23:36.863Z"
   },
   {
    "duration": 8,
    "start_time": "2023-01-08T16:23:36.897Z"
   },
   {
    "duration": 12,
    "start_time": "2023-01-08T16:23:36.907Z"
   },
   {
    "duration": 10,
    "start_time": "2023-01-08T16:23:36.920Z"
   },
   {
    "duration": 9,
    "start_time": "2023-01-08T16:23:36.931Z"
   },
   {
    "duration": 9,
    "start_time": "2023-01-08T16:23:36.942Z"
   },
   {
    "duration": 1156,
    "start_time": "2023-01-08T16:49:06.128Z"
   },
   {
    "duration": 20,
    "start_time": "2023-01-08T16:49:07.285Z"
   },
   {
    "duration": 13,
    "start_time": "2023-01-08T16:49:07.306Z"
   },
   {
    "duration": 18,
    "start_time": "2023-01-08T16:49:07.321Z"
   },
   {
    "duration": 318,
    "start_time": "2023-01-08T16:49:07.340Z"
   },
   {
    "duration": 96,
    "start_time": "2023-01-08T16:49:07.659Z"
   },
   {
    "duration": 220,
    "start_time": "2023-01-08T16:49:07.756Z"
   },
   {
    "duration": 80,
    "start_time": "2023-01-08T16:49:07.977Z"
   },
   {
    "duration": 28,
    "start_time": "2023-01-08T16:49:08.059Z"
   },
   {
    "duration": 12,
    "start_time": "2023-01-08T16:49:08.097Z"
   },
   {
    "duration": 40,
    "start_time": "2023-01-08T16:49:08.110Z"
   },
   {
    "duration": 48,
    "start_time": "2023-01-08T16:49:08.152Z"
   },
   {
    "duration": 149,
    "start_time": "2023-01-08T16:49:08.202Z"
   },
   {
    "duration": 457,
    "start_time": "2023-01-08T16:49:08.353Z"
   },
   {
    "duration": 219,
    "start_time": "2023-01-08T16:49:08.811Z"
   },
   {
    "duration": 7,
    "start_time": "2023-01-08T16:49:09.032Z"
   },
   {
    "duration": 6,
    "start_time": "2023-01-08T16:49:09.040Z"
   },
   {
    "duration": 81,
    "start_time": "2023-01-08T16:49:09.047Z"
   },
   {
    "duration": 20,
    "start_time": "2023-01-08T16:49:09.130Z"
   },
   {
    "duration": 160,
    "start_time": "2023-01-08T16:49:09.151Z"
   },
   {
    "duration": 84,
    "start_time": "2023-01-08T16:49:09.313Z"
   },
   {
    "duration": 8,
    "start_time": "2023-01-08T16:49:09.399Z"
   },
   {
    "duration": 10,
    "start_time": "2023-01-08T16:49:09.409Z"
   },
   {
    "duration": 13,
    "start_time": "2023-01-08T16:49:09.420Z"
   },
   {
    "duration": 168,
    "start_time": "2023-01-08T16:49:09.434Z"
   },
   {
    "duration": 4,
    "start_time": "2023-01-08T16:49:09.604Z"
   },
   {
    "duration": 123,
    "start_time": "2023-01-08T16:49:09.610Z"
   },
   {
    "duration": 175,
    "start_time": "2023-01-08T16:49:09.736Z"
   },
   {
    "duration": 8,
    "start_time": "2023-01-08T16:49:09.912Z"
   },
   {
    "duration": 9,
    "start_time": "2023-01-08T16:49:09.921Z"
   },
   {
    "duration": 13,
    "start_time": "2023-01-08T16:49:09.931Z"
   },
   {
    "duration": 8,
    "start_time": "2023-01-08T16:49:09.946Z"
   },
   {
    "duration": 10,
    "start_time": "2023-01-08T16:49:09.955Z"
   },
   {
    "duration": 32,
    "start_time": "2023-01-08T16:49:09.966Z"
   },
   {
    "duration": 8,
    "start_time": "2023-01-08T16:49:10.000Z"
   },
   {
    "duration": 22,
    "start_time": "2023-01-08T16:49:10.009Z"
   },
   {
    "duration": 11,
    "start_time": "2023-01-08T16:49:10.033Z"
   },
   {
    "duration": 9,
    "start_time": "2023-01-08T16:49:10.046Z"
   },
   {
    "duration": 1917,
    "start_time": "2023-01-08T21:23:28.717Z"
   },
   {
    "duration": 14,
    "start_time": "2023-01-08T21:23:30.636Z"
   },
   {
    "duration": 25,
    "start_time": "2023-01-08T21:23:30.652Z"
   },
   {
    "duration": 46,
    "start_time": "2023-01-08T21:23:30.679Z"
   },
   {
    "duration": 401,
    "start_time": "2023-01-08T21:23:30.727Z"
   },
   {
    "duration": 117,
    "start_time": "2023-01-08T21:23:31.130Z"
   },
   {
    "duration": 248,
    "start_time": "2023-01-08T21:23:31.249Z"
   },
   {
    "duration": 273,
    "start_time": "2023-01-08T21:23:31.499Z"
   },
   {
    "duration": 165,
    "start_time": "2023-01-08T21:23:31.774Z"
   },
   {
    "duration": 1359,
    "start_time": "2023-01-08T21:23:31.941Z"
   },
   {
    "duration": 203,
    "start_time": "2023-01-08T21:23:33.302Z"
   },
   {
    "duration": 212,
    "start_time": "2023-01-08T21:23:33.507Z"
   },
   {
    "duration": 420,
    "start_time": "2023-01-08T21:23:33.721Z"
   },
   {
    "duration": 649,
    "start_time": "2023-01-08T21:23:34.146Z"
   },
   {
    "duration": 287,
    "start_time": "2023-01-08T21:23:34.798Z"
   },
   {
    "duration": 14,
    "start_time": "2023-01-08T21:23:35.087Z"
   },
   {
    "duration": 12,
    "start_time": "2023-01-08T21:23:35.103Z"
   },
   {
    "duration": 99,
    "start_time": "2023-01-08T21:23:35.117Z"
   },
   {
    "duration": 36,
    "start_time": "2023-01-08T21:23:35.218Z"
   },
   {
    "duration": 191,
    "start_time": "2023-01-08T21:23:35.255Z"
   },
   {
    "duration": 98,
    "start_time": "2023-01-08T21:23:35.448Z"
   },
   {
    "duration": 12,
    "start_time": "2023-01-08T21:23:35.548Z"
   },
   {
    "duration": 27,
    "start_time": "2023-01-08T21:23:35.562Z"
   },
   {
    "duration": 53,
    "start_time": "2023-01-08T21:23:35.591Z"
   },
   {
    "duration": 414,
    "start_time": "2023-01-08T21:23:35.646Z"
   },
   {
    "duration": 5,
    "start_time": "2023-01-08T21:23:36.063Z"
   },
   {
    "duration": 185,
    "start_time": "2023-01-08T21:23:36.070Z"
   },
   {
    "duration": 186,
    "start_time": "2023-01-08T21:23:36.258Z"
   },
   {
    "duration": 16,
    "start_time": "2023-01-08T21:23:36.446Z"
   },
   {
    "duration": 16,
    "start_time": "2023-01-08T21:23:36.465Z"
   },
   {
    "duration": 24,
    "start_time": "2023-01-08T21:23:36.483Z"
   },
   {
    "duration": 17,
    "start_time": "2023-01-08T21:23:36.509Z"
   },
   {
    "duration": 20,
    "start_time": "2023-01-08T21:23:36.529Z"
   },
   {
    "duration": 14,
    "start_time": "2023-01-08T21:23:36.552Z"
   },
   {
    "duration": 31,
    "start_time": "2023-01-08T21:23:36.568Z"
   },
   {
    "duration": 23,
    "start_time": "2023-01-08T21:23:36.601Z"
   },
   {
    "duration": 16,
    "start_time": "2023-01-08T21:23:36.626Z"
   },
   {
    "duration": 20,
    "start_time": "2023-01-08T21:23:36.644Z"
   },
   {
    "duration": 15,
    "start_time": "2023-01-08T21:24:52.076Z"
   },
   {
    "duration": 4,
    "start_time": "2023-01-08T21:25:09.039Z"
   },
   {
    "duration": 7,
    "start_time": "2023-01-08T21:27:07.462Z"
   },
   {
    "duration": 15,
    "start_time": "2023-01-08T21:29:25.642Z"
   },
   {
    "duration": 660,
    "start_time": "2023-01-08T21:29:29.082Z"
   },
   {
    "duration": 5,
    "start_time": "2023-01-08T21:30:51.372Z"
   },
   {
    "duration": 1966,
    "start_time": "2023-01-09T07:27:45.747Z"
   },
   {
    "duration": 12,
    "start_time": "2023-01-09T07:27:47.715Z"
   },
   {
    "duration": 13,
    "start_time": "2023-01-09T07:27:47.729Z"
   },
   {
    "duration": 19,
    "start_time": "2023-01-09T07:27:47.744Z"
   },
   {
    "duration": 338,
    "start_time": "2023-01-09T07:27:47.765Z"
   },
   {
    "duration": 97,
    "start_time": "2023-01-09T07:27:48.105Z"
   },
   {
    "duration": 219,
    "start_time": "2023-01-09T07:27:48.204Z"
   },
   {
    "duration": 74,
    "start_time": "2023-01-09T07:27:48.425Z"
   },
   {
    "duration": 35,
    "start_time": "2023-01-09T07:27:48.500Z"
   },
   {
    "duration": 10,
    "start_time": "2023-01-09T07:27:48.537Z"
   },
   {
    "duration": 35,
    "start_time": "2023-01-09T07:27:48.548Z"
   },
   {
    "duration": 60,
    "start_time": "2023-01-09T07:27:48.585Z"
   },
   {
    "duration": 167,
    "start_time": "2023-01-09T07:27:48.647Z"
   },
   {
    "duration": 546,
    "start_time": "2023-01-09T07:27:48.815Z"
   },
   {
    "duration": 535,
    "start_time": "2023-01-09T07:27:49.362Z"
   },
   {
    "duration": 239,
    "start_time": "2023-01-09T07:27:49.899Z"
   },
   {
    "duration": 7,
    "start_time": "2023-01-09T07:27:50.139Z"
   },
   {
    "duration": 29,
    "start_time": "2023-01-09T07:27:50.148Z"
   },
   {
    "duration": 124,
    "start_time": "2023-01-09T07:27:50.179Z"
   },
   {
    "duration": 26,
    "start_time": "2023-01-09T07:27:50.305Z"
   },
   {
    "duration": 212,
    "start_time": "2023-01-09T07:27:50.333Z"
   },
   {
    "duration": 70,
    "start_time": "2023-01-09T07:27:50.547Z"
   },
   {
    "duration": 9,
    "start_time": "2023-01-09T07:27:50.619Z"
   },
   {
    "duration": 23,
    "start_time": "2023-01-09T07:27:50.630Z"
   },
   {
    "duration": 24,
    "start_time": "2023-01-09T07:27:50.654Z"
   },
   {
    "duration": 225,
    "start_time": "2023-01-09T07:27:50.680Z"
   },
   {
    "duration": 4,
    "start_time": "2023-01-09T07:27:50.908Z"
   },
   {
    "duration": 132,
    "start_time": "2023-01-09T07:27:50.915Z"
   },
   {
    "duration": 169,
    "start_time": "2023-01-09T07:27:51.049Z"
   },
   {
    "duration": 8,
    "start_time": "2023-01-09T07:27:51.220Z"
   },
   {
    "duration": 12,
    "start_time": "2023-01-09T07:27:51.229Z"
   },
   {
    "duration": 27,
    "start_time": "2023-01-09T07:27:51.243Z"
   },
   {
    "duration": 28,
    "start_time": "2023-01-09T07:27:51.272Z"
   },
   {
    "duration": 30,
    "start_time": "2023-01-09T07:27:51.301Z"
   },
   {
    "duration": 19,
    "start_time": "2023-01-09T07:27:51.333Z"
   },
   {
    "duration": 28,
    "start_time": "2023-01-09T07:27:51.354Z"
   },
   {
    "duration": 33,
    "start_time": "2023-01-09T07:27:51.384Z"
   },
   {
    "duration": 22,
    "start_time": "2023-01-09T07:27:51.419Z"
   },
   {
    "duration": 31,
    "start_time": "2023-01-09T07:27:51.443Z"
   },
   {
    "duration": 73,
    "start_time": "2023-01-09T07:29:15.236Z"
   },
   {
    "duration": 3,
    "start_time": "2023-01-09T07:37:26.474Z"
   },
   {
    "duration": 74,
    "start_time": "2023-01-09T07:38:50.028Z"
   },
   {
    "duration": 80,
    "start_time": "2023-01-09T08:00:18.740Z"
   },
   {
    "duration": 9,
    "start_time": "2023-01-09T08:00:45.006Z"
   },
   {
    "duration": 10,
    "start_time": "2023-01-09T08:01:18.432Z"
   },
   {
    "duration": 8,
    "start_time": "2023-01-09T08:01:23.753Z"
   },
   {
    "duration": 8,
    "start_time": "2023-01-09T08:01:27.452Z"
   },
   {
    "duration": 506,
    "start_time": "2023-01-09T08:01:33.244Z"
   },
   {
    "duration": 81,
    "start_time": "2023-01-09T08:01:45.196Z"
   },
   {
    "duration": 9,
    "start_time": "2023-01-09T08:01:47.560Z"
   },
   {
    "duration": 11,
    "start_time": "2023-01-09T08:02:08.541Z"
   },
   {
    "duration": 11,
    "start_time": "2023-01-09T08:02:14.112Z"
   },
   {
    "duration": 536,
    "start_time": "2023-01-09T08:03:20.967Z"
   },
   {
    "duration": 593,
    "start_time": "2023-01-09T08:05:26.317Z"
   },
   {
    "duration": 115,
    "start_time": "2023-01-09T08:07:06.913Z"
   },
   {
    "duration": 18,
    "start_time": "2023-01-09T08:07:29.566Z"
   },
   {
    "duration": 210,
    "start_time": "2023-01-09T08:07:33.269Z"
   },
   {
    "duration": 669,
    "start_time": "2023-01-09T08:07:54.204Z"
   },
   {
    "duration": 185,
    "start_time": "2023-01-09T08:08:06.573Z"
   },
   {
    "duration": 24,
    "start_time": "2023-01-09T08:19:11.621Z"
   },
   {
    "duration": 88,
    "start_time": "2023-01-09T08:20:10.829Z"
   },
   {
    "duration": 71,
    "start_time": "2023-01-09T08:20:28.429Z"
   },
   {
    "duration": 12,
    "start_time": "2023-01-09T08:20:32.232Z"
   },
   {
    "duration": 14,
    "start_time": "2023-01-09T08:21:10.933Z"
   },
   {
    "duration": 13,
    "start_time": "2023-01-09T08:21:47.235Z"
   },
   {
    "duration": 15,
    "start_time": "2023-01-09T08:22:40.329Z"
   },
   {
    "duration": 12,
    "start_time": "2023-01-09T08:22:57.329Z"
   },
   {
    "duration": 13,
    "start_time": "2023-01-09T08:23:21.473Z"
   },
   {
    "duration": 60,
    "start_time": "2023-01-09T08:23:30.347Z"
   },
   {
    "duration": 31,
    "start_time": "2023-01-09T08:24:01.413Z"
   },
   {
    "duration": 155,
    "start_time": "2023-01-09T08:24:12.447Z"
   },
   {
    "duration": 48,
    "start_time": "2023-01-09T08:24:41.421Z"
   },
   {
    "duration": 144,
    "start_time": "2023-01-09T08:24:44.109Z"
   },
   {
    "duration": 1249,
    "start_time": "2023-01-09T08:25:08.742Z"
   },
   {
    "duration": 560,
    "start_time": "2023-01-09T08:25:18.654Z"
   },
   {
    "duration": 138,
    "start_time": "2023-01-09T08:25:31.748Z"
   },
   {
    "duration": 48,
    "start_time": "2023-01-09T08:25:45.430Z"
   },
   {
    "duration": 1043,
    "start_time": "2023-01-09T08:26:20.935Z"
   },
   {
    "duration": 179,
    "start_time": "2023-01-09T08:26:21.981Z"
   },
   {
    "duration": 13,
    "start_time": "2023-01-09T08:26:22.161Z"
   },
   {
    "duration": 26,
    "start_time": "2023-01-09T08:26:22.175Z"
   },
   {
    "duration": 20,
    "start_time": "2023-01-09T08:26:22.203Z"
   },
   {
    "duration": 335,
    "start_time": "2023-01-09T08:26:22.225Z"
   },
   {
    "duration": 103,
    "start_time": "2023-01-09T08:26:22.562Z"
   },
   {
    "duration": 231,
    "start_time": "2023-01-09T08:26:22.667Z"
   },
   {
    "duration": 88,
    "start_time": "2023-01-09T08:26:22.899Z"
   },
   {
    "duration": 82,
    "start_time": "2023-01-09T08:26:22.989Z"
   },
   {
    "duration": 528,
    "start_time": "2023-01-09T08:26:23.073Z"
   },
   {
    "duration": 29,
    "start_time": "2023-01-09T08:26:23.603Z"
   },
   {
    "duration": 22,
    "start_time": "2023-01-09T08:26:23.633Z"
   },
   {
    "duration": 26,
    "start_time": "2023-01-09T08:26:23.658Z"
   },
   {
    "duration": 29,
    "start_time": "2023-01-09T08:26:23.686Z"
   },
   {
    "duration": 36,
    "start_time": "2023-01-09T08:26:23.717Z"
   },
   {
    "duration": 63,
    "start_time": "2023-01-09T08:26:23.755Z"
   },
   {
    "duration": 32,
    "start_time": "2023-01-09T08:26:23.820Z"
   },
   {
    "duration": 560,
    "start_time": "2023-01-09T08:26:23.853Z"
   },
   {
    "duration": 132,
    "start_time": "2023-01-09T08:26:24.414Z"
   },
   {
    "duration": 168,
    "start_time": "2023-01-09T08:26:24.548Z"
   },
   {
    "duration": 502,
    "start_time": "2023-01-09T08:26:24.717Z"
   },
   {
    "duration": 1205,
    "start_time": "2023-01-09T08:26:25.221Z"
   },
   {
    "duration": 523,
    "start_time": "2023-01-09T08:26:26.429Z"
   },
   {
    "duration": 61,
    "start_time": "2023-01-09T08:26:26.954Z"
   },
   {
    "duration": 5,
    "start_time": "2023-01-09T08:26:27.017Z"
   },
   {
    "duration": 125,
    "start_time": "2023-01-09T08:26:27.024Z"
   },
   {
    "duration": 19,
    "start_time": "2023-01-09T08:26:27.151Z"
   },
   {
    "duration": 353,
    "start_time": "2023-01-09T08:26:27.172Z"
   },
   {
    "duration": 126,
    "start_time": "2023-01-09T08:26:27.527Z"
   },
   {
    "duration": 62,
    "start_time": "2023-01-09T08:26:27.655Z"
   },
   {
    "duration": 12,
    "start_time": "2023-01-09T08:26:27.718Z"
   },
   {
    "duration": 14,
    "start_time": "2023-01-09T08:26:27.731Z"
   },
   {
    "duration": 304,
    "start_time": "2023-01-09T08:26:27.747Z"
   },
   {
    "duration": 4,
    "start_time": "2023-01-09T08:26:28.053Z"
   },
   {
    "duration": 170,
    "start_time": "2023-01-09T08:26:28.059Z"
   },
   {
    "duration": 383,
    "start_time": "2023-01-09T08:26:28.231Z"
   },
   {
    "duration": 9,
    "start_time": "2023-01-09T08:26:28.616Z"
   },
   {
    "duration": 12,
    "start_time": "2023-01-09T08:26:28.626Z"
   },
   {
    "duration": 12,
    "start_time": "2023-01-09T08:26:28.639Z"
   },
   {
    "duration": 59,
    "start_time": "2023-01-09T08:26:28.655Z"
   },
   {
    "duration": 11,
    "start_time": "2023-01-09T08:26:28.716Z"
   },
   {
    "duration": 9,
    "start_time": "2023-01-09T08:26:28.729Z"
   },
   {
    "duration": 8,
    "start_time": "2023-01-09T08:26:28.739Z"
   },
   {
    "duration": 9,
    "start_time": "2023-01-09T08:26:28.749Z"
   },
   {
    "duration": 61,
    "start_time": "2023-01-09T08:26:28.760Z"
   },
   {
    "duration": 11,
    "start_time": "2023-01-09T08:26:28.823Z"
   },
   {
    "duration": 518,
    "start_time": "2023-01-09T08:26:53.358Z"
   },
   {
    "duration": 264,
    "start_time": "2023-01-09T08:27:17.958Z"
   },
   {
    "duration": 199,
    "start_time": "2023-01-09T08:27:57.047Z"
   },
   {
    "duration": 133,
    "start_time": "2023-01-09T08:28:06.732Z"
   },
   {
    "duration": 74,
    "start_time": "2023-01-09T08:28:26.170Z"
   },
   {
    "duration": 133,
    "start_time": "2023-01-09T08:28:30.036Z"
   },
   {
    "duration": 152,
    "start_time": "2023-01-09T08:28:40.556Z"
   },
   {
    "duration": 149,
    "start_time": "2023-01-09T08:28:48.318Z"
   },
   {
    "duration": 132,
    "start_time": "2023-01-09T08:28:54.240Z"
   },
   {
    "duration": 242,
    "start_time": "2023-01-09T08:29:20.882Z"
   },
   {
    "duration": 216,
    "start_time": "2023-01-09T08:29:26.739Z"
   },
   {
    "duration": 122,
    "start_time": "2023-01-09T08:30:14.137Z"
   },
   {
    "duration": 201,
    "start_time": "2023-01-09T08:30:19.765Z"
   },
   {
    "duration": 11,
    "start_time": "2023-01-09T08:33:42.626Z"
   },
   {
    "duration": 28,
    "start_time": "2023-01-09T08:33:45.778Z"
   },
   {
    "duration": 33,
    "start_time": "2023-01-09T08:33:55.713Z"
   },
   {
    "duration": 73,
    "start_time": "2023-01-09T08:34:21.736Z"
   },
   {
    "duration": 245,
    "start_time": "2023-01-09T08:34:25.577Z"
   },
   {
    "duration": 136,
    "start_time": "2023-01-09T08:34:38.705Z"
   },
   {
    "duration": 1320,
    "start_time": "2023-01-09T14:53:09.217Z"
   },
   {
    "duration": 302,
    "start_time": "2023-01-09T14:53:10.539Z"
   },
   {
    "duration": 14,
    "start_time": "2023-01-09T14:53:10.842Z"
   },
   {
    "duration": 15,
    "start_time": "2023-01-09T14:53:10.858Z"
   },
   {
    "duration": 42,
    "start_time": "2023-01-09T14:53:10.875Z"
   },
   {
    "duration": 369,
    "start_time": "2023-01-09T14:53:10.918Z"
   },
   {
    "duration": 110,
    "start_time": "2023-01-09T14:53:11.288Z"
   },
   {
    "duration": 232,
    "start_time": "2023-01-09T14:53:11.400Z"
   },
   {
    "duration": 94,
    "start_time": "2023-01-09T14:53:11.633Z"
   },
   {
    "duration": 104,
    "start_time": "2023-01-09T14:53:11.731Z"
   },
   {
    "duration": 550,
    "start_time": "2023-01-09T14:53:11.837Z"
   },
   {
    "duration": 26,
    "start_time": "2023-01-09T14:53:12.389Z"
   },
   {
    "duration": 24,
    "start_time": "2023-01-09T14:53:12.417Z"
   },
   {
    "duration": 54,
    "start_time": "2023-01-09T14:53:12.442Z"
   },
   {
    "duration": 14,
    "start_time": "2023-01-09T14:53:12.498Z"
   },
   {
    "duration": 58,
    "start_time": "2023-01-09T14:53:12.514Z"
   },
   {
    "duration": 49,
    "start_time": "2023-01-09T14:53:12.574Z"
   },
   {
    "duration": 263,
    "start_time": "2023-01-09T14:53:12.624Z"
   },
   {
    "duration": 35,
    "start_time": "2023-01-09T14:53:12.889Z"
   },
   {
    "duration": 161,
    "start_time": "2023-01-09T14:53:12.926Z"
   },
   {
    "duration": 178,
    "start_time": "2023-01-09T14:53:13.089Z"
   },
   {
    "duration": 557,
    "start_time": "2023-01-09T14:53:13.269Z"
   },
   {
    "duration": 644,
    "start_time": "2023-01-09T14:53:13.829Z"
   },
   {
    "duration": 381,
    "start_time": "2023-01-09T14:53:14.474Z"
   },
   {
    "duration": 10,
    "start_time": "2023-01-09T14:53:14.857Z"
   },
   {
    "duration": 15,
    "start_time": "2023-01-09T14:53:14.870Z"
   },
   {
    "duration": 96,
    "start_time": "2023-01-09T14:53:14.887Z"
   },
   {
    "duration": 36,
    "start_time": "2023-01-09T14:53:14.988Z"
   },
   {
    "duration": 243,
    "start_time": "2023-01-09T14:53:15.027Z"
   },
   {
    "duration": 89,
    "start_time": "2023-01-09T14:53:15.272Z"
   },
   {
    "duration": 10,
    "start_time": "2023-01-09T14:53:15.363Z"
   },
   {
    "duration": 12,
    "start_time": "2023-01-09T14:53:15.375Z"
   },
   {
    "duration": 16,
    "start_time": "2023-01-09T14:53:15.389Z"
   },
   {
    "duration": 191,
    "start_time": "2023-01-09T14:53:15.407Z"
   },
   {
    "duration": 4,
    "start_time": "2023-01-09T14:53:15.601Z"
   },
   {
    "duration": 97,
    "start_time": "2023-01-09T14:53:15.607Z"
   },
   {
    "duration": 215,
    "start_time": "2023-01-09T14:53:15.706Z"
   },
   {
    "duration": 9,
    "start_time": "2023-01-09T14:53:15.923Z"
   },
   {
    "duration": 21,
    "start_time": "2023-01-09T14:53:15.934Z"
   },
   {
    "duration": 17,
    "start_time": "2023-01-09T14:53:15.957Z"
   },
   {
    "duration": 9,
    "start_time": "2023-01-09T14:53:15.975Z"
   },
   {
    "duration": 11,
    "start_time": "2023-01-09T14:53:15.986Z"
   },
   {
    "duration": 22,
    "start_time": "2023-01-09T14:53:15.999Z"
   },
   {
    "duration": 12,
    "start_time": "2023-01-09T14:53:16.023Z"
   },
   {
    "duration": 9,
    "start_time": "2023-01-09T14:53:16.054Z"
   },
   {
    "duration": 12,
    "start_time": "2023-01-09T14:53:16.065Z"
   },
   {
    "duration": 9,
    "start_time": "2023-01-09T14:53:16.079Z"
   },
   {
    "duration": 228,
    "start_time": "2023-01-09T14:55:39.823Z"
   },
   {
    "duration": 137434,
    "start_time": "2023-01-09T14:56:37.541Z"
   },
   {
    "duration": 271,
    "start_time": "2023-01-09T15:03:49.074Z"
   },
   {
    "duration": 344,
    "start_time": "2023-01-09T15:04:27.715Z"
   },
   {
    "duration": 242,
    "start_time": "2023-01-09T15:04:39.054Z"
   },
   {
    "duration": 264,
    "start_time": "2023-01-09T15:05:46.285Z"
   },
   {
    "duration": 275,
    "start_time": "2023-01-09T15:05:54.881Z"
   },
   {
    "duration": 256,
    "start_time": "2023-01-09T15:08:27.187Z"
   },
   {
    "duration": 263,
    "start_time": "2023-01-09T15:08:36.783Z"
   },
   {
    "duration": 146,
    "start_time": "2023-01-09T15:09:26.760Z"
   },
   {
    "duration": 240,
    "start_time": "2023-01-09T15:09:39.627Z"
   },
   {
    "duration": 165,
    "start_time": "2023-01-09T15:09:49.348Z"
   },
   {
    "duration": 272,
    "start_time": "2023-01-09T15:09:59.841Z"
   },
   {
    "duration": 15,
    "start_time": "2023-01-09T15:10:19.951Z"
   },
   {
    "duration": 260,
    "start_time": "2023-01-09T15:11:12.504Z"
   },
   {
    "duration": 243,
    "start_time": "2023-01-09T15:14:48.985Z"
   },
   {
    "duration": 253,
    "start_time": "2023-01-09T15:15:18.700Z"
   },
   {
    "duration": 11,
    "start_time": "2023-01-09T15:17:17.054Z"
   },
   {
    "duration": 96,
    "start_time": "2023-01-09T15:17:32.101Z"
   },
   {
    "duration": 77,
    "start_time": "2023-01-09T15:19:21.199Z"
   },
   {
    "duration": 248,
    "start_time": "2023-01-09T15:19:28.140Z"
   },
   {
    "duration": 260,
    "start_time": "2023-01-09T15:19:31.602Z"
   },
   {
    "duration": 288,
    "start_time": "2023-01-09T15:19:45.264Z"
   },
   {
    "duration": 249,
    "start_time": "2023-01-09T15:19:53.171Z"
   },
   {
    "duration": 249,
    "start_time": "2023-01-09T15:21:42.424Z"
   },
   {
    "duration": 132,
    "start_time": "2023-01-09T15:21:50.703Z"
   },
   {
    "duration": 251,
    "start_time": "2023-01-09T15:21:57.360Z"
   },
   {
    "duration": 239,
    "start_time": "2023-01-09T15:22:22.315Z"
   },
   {
    "duration": 27,
    "start_time": "2023-01-09T15:23:46.860Z"
   },
   {
    "duration": 216,
    "start_time": "2023-01-09T15:26:32.131Z"
   },
   {
    "duration": 260,
    "start_time": "2023-01-09T15:26:39.795Z"
   },
   {
    "duration": 169,
    "start_time": "2023-01-09T15:28:26.258Z"
   },
   {
    "duration": 25,
    "start_time": "2023-01-09T15:28:34.634Z"
   },
   {
    "duration": 56,
    "start_time": "2023-01-09T15:28:52.186Z"
   },
   {
    "duration": 65,
    "start_time": "2023-01-09T15:29:02.347Z"
   },
   {
    "duration": 6,
    "start_time": "2023-01-09T15:29:05.212Z"
   },
   {
    "duration": 5,
    "start_time": "2023-01-09T15:29:10.642Z"
   },
   {
    "duration": 178,
    "start_time": "2023-01-09T15:29:27.411Z"
   },
   {
    "duration": 46,
    "start_time": "2023-01-09T15:30:37.255Z"
   },
   {
    "duration": 34,
    "start_time": "2023-01-09T15:30:44.632Z"
   },
   {
    "duration": 11,
    "start_time": "2023-01-09T15:31:06.306Z"
   },
   {
    "duration": 27,
    "start_time": "2023-01-09T15:31:11.477Z"
   },
   {
    "duration": 209,
    "start_time": "2023-01-09T15:31:15.349Z"
   },
   {
    "duration": 851,
    "start_time": "2023-01-09T15:31:29.751Z"
   },
   {
    "duration": 205,
    "start_time": "2023-01-09T15:31:44.856Z"
   },
   {
    "duration": 167,
    "start_time": "2023-01-09T15:31:54.918Z"
   },
   {
    "duration": 179,
    "start_time": "2023-01-09T15:32:04.900Z"
   },
   {
    "duration": 162,
    "start_time": "2023-01-09T15:32:29.298Z"
   },
   {
    "duration": 1086,
    "start_time": "2023-01-09T15:33:09.282Z"
   },
   {
    "duration": 169,
    "start_time": "2023-01-09T15:33:10.370Z"
   },
   {
    "duration": 19,
    "start_time": "2023-01-09T15:33:10.540Z"
   },
   {
    "duration": 15,
    "start_time": "2023-01-09T15:33:10.561Z"
   },
   {
    "duration": 70,
    "start_time": "2023-01-09T15:33:10.578Z"
   },
   {
    "duration": 349,
    "start_time": "2023-01-09T15:33:10.649Z"
   },
   {
    "duration": 104,
    "start_time": "2023-01-09T15:33:11.000Z"
   },
   {
    "duration": 260,
    "start_time": "2023-01-09T15:33:11.106Z"
   },
   {
    "duration": 98,
    "start_time": "2023-01-09T15:33:11.368Z"
   },
   {
    "duration": 97,
    "start_time": "2023-01-09T15:33:11.470Z"
   },
   {
    "duration": 582,
    "start_time": "2023-01-09T15:33:11.569Z"
   },
   {
    "duration": 27,
    "start_time": "2023-01-09T15:33:12.154Z"
   },
   {
    "duration": 24,
    "start_time": "2023-01-09T15:33:12.182Z"
   },
   {
    "duration": 71,
    "start_time": "2023-01-09T15:33:12.208Z"
   },
   {
    "duration": 22,
    "start_time": "2023-01-09T15:33:12.281Z"
   },
   {
    "duration": 74,
    "start_time": "2023-01-09T15:33:12.305Z"
   },
   {
    "duration": 91,
    "start_time": "2023-01-09T15:33:12.381Z"
   },
   {
    "duration": 34,
    "start_time": "2023-01-09T15:33:12.474Z"
   },
   {
    "duration": 233,
    "start_time": "2023-01-09T15:33:12.510Z"
   },
   {
    "duration": 435,
    "start_time": "2023-01-09T15:33:12.745Z"
   },
   {
    "duration": 376,
    "start_time": "2023-01-09T15:33:13.182Z"
   },
   {
    "duration": 1040,
    "start_time": "2023-01-09T15:33:13.560Z"
   },
   {
    "duration": 1228,
    "start_time": "2023-01-09T15:33:14.655Z"
   },
   {
    "duration": 689,
    "start_time": "2023-01-09T15:33:15.885Z"
   },
   {
    "duration": 8,
    "start_time": "2023-01-09T15:33:16.576Z"
   },
   {
    "duration": 18,
    "start_time": "2023-01-09T15:33:16.586Z"
   },
   {
    "duration": 153,
    "start_time": "2023-01-09T15:33:16.654Z"
   },
   {
    "duration": 66,
    "start_time": "2023-01-09T15:33:16.811Z"
   },
   {
    "duration": 203,
    "start_time": "2023-01-09T15:33:16.880Z"
   },
   {
    "duration": 92,
    "start_time": "2023-01-09T15:33:17.085Z"
   },
   {
    "duration": 11,
    "start_time": "2023-01-09T15:33:17.179Z"
   },
   {
    "duration": 10,
    "start_time": "2023-01-09T15:33:17.192Z"
   },
   {
    "duration": 15,
    "start_time": "2023-01-09T15:33:17.204Z"
   },
   {
    "duration": 189,
    "start_time": "2023-01-09T15:33:17.221Z"
   },
   {
    "duration": 4,
    "start_time": "2023-01-09T15:33:17.412Z"
   },
   {
    "duration": 140,
    "start_time": "2023-01-09T15:33:17.418Z"
   },
   {
    "duration": 194,
    "start_time": "2023-01-09T15:33:17.560Z"
   },
   {
    "duration": 10,
    "start_time": "2023-01-09T15:33:17.756Z"
   },
   {
    "duration": 75,
    "start_time": "2023-01-09T15:33:17.768Z"
   },
   {
    "duration": 24,
    "start_time": "2023-01-09T15:33:17.845Z"
   },
   {
    "duration": 13,
    "start_time": "2023-01-09T15:33:17.871Z"
   },
   {
    "duration": 11,
    "start_time": "2023-01-09T15:33:17.886Z"
   },
   {
    "duration": 33,
    "start_time": "2023-01-09T15:33:17.899Z"
   },
   {
    "duration": 21,
    "start_time": "2023-01-09T15:33:17.934Z"
   },
   {
    "duration": 126,
    "start_time": "2023-01-09T15:33:17.957Z"
   },
   {
    "duration": 23,
    "start_time": "2023-01-09T15:33:18.084Z"
   },
   {
    "duration": 19,
    "start_time": "2023-01-09T15:33:18.109Z"
   },
   {
    "duration": 24,
    "start_time": "2023-01-09T15:33:40.491Z"
   },
   {
    "duration": 180,
    "start_time": "2023-01-09T15:33:47.816Z"
   },
   {
    "duration": 113,
    "start_time": "2023-01-09T15:36:52.957Z"
   },
   {
    "duration": 0,
    "start_time": "2023-01-09T15:36:53.073Z"
   },
   {
    "duration": 0,
    "start_time": "2023-01-09T15:36:53.074Z"
   },
   {
    "duration": 577,
    "start_time": "2023-01-09T15:36:59.680Z"
   },
   {
    "duration": 128565,
    "start_time": "2023-01-09T15:37:03.607Z"
   },
   {
    "duration": 42,
    "start_time": "2023-01-09T15:40:20.747Z"
   },
   {
    "duration": 221,
    "start_time": "2023-01-09T15:40:41.582Z"
   },
   {
    "duration": 52219,
    "start_time": "2023-01-09T15:41:13.959Z"
   },
   {
    "duration": 0,
    "start_time": "2023-01-09T15:42:06.181Z"
   },
   {
    "duration": 189,
    "start_time": "2023-01-09T15:46:28.631Z"
   },
   {
    "duration": 6,
    "start_time": "2023-01-09T15:50:47.936Z"
   },
   {
    "duration": 8,
    "start_time": "2023-01-09T15:51:24.611Z"
   },
   {
    "duration": 14,
    "start_time": "2023-01-09T15:51:26.456Z"
   },
   {
    "duration": 6,
    "start_time": "2023-01-09T15:51:35.062Z"
   },
   {
    "duration": 5,
    "start_time": "2023-01-09T15:51:37.780Z"
   },
   {
    "duration": 61,
    "start_time": "2023-01-09T15:51:54.958Z"
   },
   {
    "duration": 5,
    "start_time": "2023-01-09T15:52:14.377Z"
   },
   {
    "duration": 63,
    "start_time": "2023-01-09T15:53:45.319Z"
   },
   {
    "duration": 68,
    "start_time": "2023-01-09T15:54:01.684Z"
   },
   {
    "duration": 54,
    "start_time": "2023-01-09T15:54:13.437Z"
   },
   {
    "duration": 57,
    "start_time": "2023-01-09T15:56:11.043Z"
   },
   {
    "duration": 6,
    "start_time": "2023-01-09T15:56:19.472Z"
   },
   {
    "duration": 4,
    "start_time": "2023-01-09T15:57:25.766Z"
   },
   {
    "duration": 6,
    "start_time": "2023-01-09T15:58:52.070Z"
   },
   {
    "duration": 16,
    "start_time": "2023-01-09T15:59:19.951Z"
   },
   {
    "duration": 13,
    "start_time": "2023-01-09T15:59:37.887Z"
   },
   {
    "duration": 6,
    "start_time": "2023-01-09T15:59:46.786Z"
   },
   {
    "duration": 6,
    "start_time": "2023-01-09T15:59:58.651Z"
   },
   {
    "duration": 5,
    "start_time": "2023-01-09T16:00:18.019Z"
   },
   {
    "duration": 48,
    "start_time": "2023-01-09T16:00:21.149Z"
   },
   {
    "duration": 50,
    "start_time": "2023-01-09T16:00:27.802Z"
   },
   {
    "duration": 5,
    "start_time": "2023-01-09T16:00:38.935Z"
   },
   {
    "duration": 7,
    "start_time": "2023-01-09T16:01:04.796Z"
   },
   {
    "duration": 6,
    "start_time": "2023-01-09T16:01:10.256Z"
   },
   {
    "duration": 5,
    "start_time": "2023-01-09T16:02:10.020Z"
   },
   {
    "duration": 48,
    "start_time": "2023-01-09T16:02:28.058Z"
   },
   {
    "duration": 6,
    "start_time": "2023-01-09T16:02:40.037Z"
   },
   {
    "duration": 18,
    "start_time": "2023-01-09T16:04:14.364Z"
   },
   {
    "duration": 95,
    "start_time": "2023-01-09T16:07:30.081Z"
   },
   {
    "duration": 49,
    "start_time": "2023-01-09T16:08:35.315Z"
   },
   {
    "duration": 50,
    "start_time": "2023-01-09T16:08:42.111Z"
   },
   {
    "duration": 50,
    "start_time": "2023-01-09T16:08:44.485Z"
   },
   {
    "duration": 53,
    "start_time": "2023-01-09T16:08:46.822Z"
   },
   {
    "duration": 49,
    "start_time": "2023-01-09T16:08:49.437Z"
   },
   {
    "duration": 15,
    "start_time": "2023-01-09T16:10:16.454Z"
   },
   {
    "duration": 72,
    "start_time": "2023-01-09T16:10:53.707Z"
   },
   {
    "duration": 58,
    "start_time": "2023-01-09T16:11:50.823Z"
   },
   {
    "duration": 68,
    "start_time": "2023-01-09T16:12:16.803Z"
   },
   {
    "duration": 24,
    "start_time": "2023-01-09T16:13:16.275Z"
   },
   {
    "duration": 47,
    "start_time": "2023-01-09T16:13:29.360Z"
   },
   {
    "duration": 56,
    "start_time": "2023-01-09T16:14:07.088Z"
   },
   {
    "duration": 16,
    "start_time": "2023-01-09T16:17:08.354Z"
   },
   {
    "duration": 17,
    "start_time": "2023-01-09T16:17:25.774Z"
   },
   {
    "duration": 14,
    "start_time": "2023-01-09T16:17:32.791Z"
   },
   {
    "duration": 10,
    "start_time": "2023-01-09T16:43:17.816Z"
   },
   {
    "duration": 13,
    "start_time": "2023-01-09T16:43:29.781Z"
   },
   {
    "duration": 13,
    "start_time": "2023-01-09T16:43:38.372Z"
   },
   {
    "duration": 11,
    "start_time": "2023-01-09T16:43:43.189Z"
   },
   {
    "duration": 47,
    "start_time": "2023-01-09T17:26:55.269Z"
   },
   {
    "duration": 1301,
    "start_time": "2023-01-09T17:29:38.983Z"
   },
   {
    "duration": 274,
    "start_time": "2023-01-09T17:29:40.286Z"
   },
   {
    "duration": 13,
    "start_time": "2023-01-09T17:29:40.562Z"
   },
   {
    "duration": 20,
    "start_time": "2023-01-09T17:29:40.577Z"
   },
   {
    "duration": 27,
    "start_time": "2023-01-09T17:29:40.599Z"
   },
   {
    "duration": 343,
    "start_time": "2023-01-09T17:29:40.628Z"
   },
   {
    "duration": 114,
    "start_time": "2023-01-09T17:29:40.978Z"
   },
   {
    "duration": 250,
    "start_time": "2023-01-09T17:29:41.094Z"
   },
   {
    "duration": 94,
    "start_time": "2023-01-09T17:29:41.345Z"
   },
   {
    "duration": 97,
    "start_time": "2023-01-09T17:29:41.444Z"
   },
   {
    "duration": 575,
    "start_time": "2023-01-09T17:29:41.542Z"
   },
   {
    "duration": 26,
    "start_time": "2023-01-09T17:29:42.118Z"
   },
   {
    "duration": 39,
    "start_time": "2023-01-09T17:29:42.146Z"
   },
   {
    "duration": 40,
    "start_time": "2023-01-09T17:29:42.187Z"
   },
   {
    "duration": 11,
    "start_time": "2023-01-09T17:29:42.229Z"
   },
   {
    "duration": 51,
    "start_time": "2023-01-09T17:29:42.242Z"
   },
   {
    "duration": 46,
    "start_time": "2023-01-09T17:29:42.295Z"
   },
   {
    "duration": 37,
    "start_time": "2023-01-09T17:29:42.342Z"
   },
   {
    "duration": 203,
    "start_time": "2023-01-09T17:29:42.381Z"
   },
   {
    "duration": 169,
    "start_time": "2023-01-09T17:29:42.585Z"
   },
   {
    "duration": 502,
    "start_time": "2023-01-09T17:29:42.755Z"
   },
   {
    "duration": 582,
    "start_time": "2023-01-09T17:29:43.258Z"
   },
   {
    "duration": 260,
    "start_time": "2023-01-09T17:29:43.843Z"
   },
   {
    "duration": 9,
    "start_time": "2023-01-09T17:29:44.105Z"
   },
   {
    "duration": 21,
    "start_time": "2023-01-09T17:29:44.116Z"
   },
   {
    "duration": 16,
    "start_time": "2023-01-09T17:29:44.140Z"
   },
   {
    "duration": 47,
    "start_time": "2023-01-09T17:29:44.157Z"
   },
   {
    "duration": 54,
    "start_time": "2023-01-09T17:29:44.208Z"
   },
   {
    "duration": 86,
    "start_time": "2023-01-09T17:29:44.263Z"
   },
   {
    "duration": 31,
    "start_time": "2023-01-09T17:29:44.350Z"
   },
   {
    "duration": 257,
    "start_time": "2023-01-09T17:29:44.382Z"
   },
   {
    "duration": 88,
    "start_time": "2023-01-09T17:29:44.640Z"
   },
   {
    "duration": 9,
    "start_time": "2023-01-09T17:29:44.730Z"
   },
   {
    "duration": 10,
    "start_time": "2023-01-09T17:29:44.740Z"
   },
   {
    "duration": 27,
    "start_time": "2023-01-09T17:29:44.752Z"
   },
   {
    "duration": 167,
    "start_time": "2023-01-09T17:29:44.781Z"
   },
   {
    "duration": 5,
    "start_time": "2023-01-09T17:29:44.950Z"
   },
   {
    "duration": 80,
    "start_time": "2023-01-09T17:29:44.956Z"
   },
   {
    "duration": 207,
    "start_time": "2023-01-09T17:29:45.038Z"
   },
   {
    "duration": 8,
    "start_time": "2023-01-09T17:29:45.247Z"
   },
   {
    "duration": 21,
    "start_time": "2023-01-09T17:29:45.257Z"
   },
   {
    "duration": 14,
    "start_time": "2023-01-09T17:29:45.280Z"
   },
   {
    "duration": 7,
    "start_time": "2023-01-09T17:29:45.296Z"
   },
   {
    "duration": 12,
    "start_time": "2023-01-09T17:29:45.305Z"
   },
   {
    "duration": 12,
    "start_time": "2023-01-09T17:29:45.318Z"
   },
   {
    "duration": 9,
    "start_time": "2023-01-09T17:29:45.332Z"
   },
   {
    "duration": 34,
    "start_time": "2023-01-09T17:29:45.343Z"
   },
   {
    "duration": 9,
    "start_time": "2023-01-09T17:29:45.379Z"
   },
   {
    "duration": 12,
    "start_time": "2023-01-09T17:29:45.389Z"
   },
   {
    "duration": 8,
    "start_time": "2023-01-09T17:29:45.402Z"
   },
   {
    "duration": 9,
    "start_time": "2023-01-09T17:30:14.031Z"
   },
   {
    "duration": 9,
    "start_time": "2023-01-09T17:30:20.121Z"
   },
   {
    "duration": 9,
    "start_time": "2023-01-09T17:30:37.130Z"
   },
   {
    "duration": 8,
    "start_time": "2023-01-09T17:30:54.341Z"
   },
   {
    "duration": 1242,
    "start_time": "2023-01-09T17:52:50.150Z"
   },
   {
    "duration": 815,
    "start_time": "2023-01-09T17:52:51.394Z"
   },
   {
    "duration": 13,
    "start_time": "2023-01-09T17:52:52.211Z"
   },
   {
    "duration": 22,
    "start_time": "2023-01-09T17:52:52.225Z"
   },
   {
    "duration": 24,
    "start_time": "2023-01-09T17:52:52.249Z"
   },
   {
    "duration": 362,
    "start_time": "2023-01-09T17:52:52.274Z"
   },
   {
    "duration": 98,
    "start_time": "2023-01-09T17:52:52.638Z"
   },
   {
    "duration": 235,
    "start_time": "2023-01-09T17:52:52.738Z"
   },
   {
    "duration": 86,
    "start_time": "2023-01-09T17:52:52.974Z"
   },
   {
    "duration": 84,
    "start_time": "2023-01-09T17:52:53.063Z"
   },
   {
    "duration": 547,
    "start_time": "2023-01-09T17:52:53.149Z"
   },
   {
    "duration": 32,
    "start_time": "2023-01-09T17:52:53.697Z"
   },
   {
    "duration": 23,
    "start_time": "2023-01-09T17:52:53.731Z"
   },
   {
    "duration": 31,
    "start_time": "2023-01-09T17:52:53.756Z"
   },
   {
    "duration": 12,
    "start_time": "2023-01-09T17:52:53.788Z"
   },
   {
    "duration": 61,
    "start_time": "2023-01-09T17:52:53.802Z"
   },
   {
    "duration": 75,
    "start_time": "2023-01-09T17:52:53.865Z"
   },
   {
    "duration": 21,
    "start_time": "2023-01-09T17:52:53.941Z"
   },
   {
    "duration": 241,
    "start_time": "2023-01-09T17:52:53.964Z"
   },
   {
    "duration": 193,
    "start_time": "2023-01-09T17:52:54.207Z"
   },
   {
    "duration": 487,
    "start_time": "2023-01-09T17:52:54.402Z"
   },
   {
    "duration": 565,
    "start_time": "2023-01-09T17:52:54.891Z"
   },
   {
    "duration": 251,
    "start_time": "2023-01-09T17:52:55.459Z"
   },
   {
    "duration": 15,
    "start_time": "2023-01-09T17:52:55.712Z"
   },
   {
    "duration": 7,
    "start_time": "2023-01-09T17:52:55.729Z"
   },
   {
    "duration": 23,
    "start_time": "2023-01-09T17:52:55.738Z"
   },
   {
    "duration": 43,
    "start_time": "2023-01-09T17:52:55.763Z"
   },
   {
    "duration": 71,
    "start_time": "2023-01-09T17:52:55.826Z"
   },
   {
    "duration": 88,
    "start_time": "2023-01-09T17:52:55.899Z"
   },
   {
    "duration": 33,
    "start_time": "2023-01-09T17:52:55.989Z"
   },
   {
    "duration": 264,
    "start_time": "2023-01-09T17:52:56.024Z"
   },
   {
    "duration": 86,
    "start_time": "2023-01-09T17:52:56.290Z"
   },
   {
    "duration": 11,
    "start_time": "2023-01-09T17:52:56.377Z"
   },
   {
    "duration": 11,
    "start_time": "2023-01-09T17:52:56.389Z"
   },
   {
    "duration": 31,
    "start_time": "2023-01-09T17:52:56.402Z"
   },
   {
    "duration": 152,
    "start_time": "2023-01-09T17:52:56.435Z"
   },
   {
    "duration": 4,
    "start_time": "2023-01-09T17:52:56.589Z"
   },
   {
    "duration": 128,
    "start_time": "2023-01-09T17:52:56.595Z"
   },
   {
    "duration": 167,
    "start_time": "2023-01-09T17:52:56.725Z"
   },
   {
    "duration": 8,
    "start_time": "2023-01-09T17:52:56.894Z"
   },
   {
    "duration": 19,
    "start_time": "2023-01-09T17:52:56.904Z"
   },
   {
    "duration": 29,
    "start_time": "2023-01-09T17:52:56.925Z"
   },
   {
    "duration": 29,
    "start_time": "2023-01-09T17:52:56.956Z"
   },
   {
    "duration": 14,
    "start_time": "2023-01-09T17:52:56.987Z"
   },
   {
    "duration": 24,
    "start_time": "2023-01-09T17:52:57.002Z"
   },
   {
    "duration": 36,
    "start_time": "2023-01-09T17:52:57.028Z"
   },
   {
    "duration": 16,
    "start_time": "2023-01-09T17:52:57.066Z"
   },
   {
    "duration": 15,
    "start_time": "2023-01-09T17:52:57.084Z"
   },
   {
    "duration": 23,
    "start_time": "2023-01-09T17:52:57.101Z"
   },
   {
    "duration": 19,
    "start_time": "2023-01-09T17:52:57.126Z"
   },
   {
    "duration": 24,
    "start_time": "2023-01-09T17:52:57.147Z"
   },
   {
    "duration": 23,
    "start_time": "2023-01-09T17:52:57.173Z"
   },
   {
    "duration": 26,
    "start_time": "2023-01-09T17:52:57.198Z"
   },
   {
    "duration": 10,
    "start_time": "2023-01-09T17:53:40.225Z"
   },
   {
    "duration": 8,
    "start_time": "2023-01-09T17:53:45.953Z"
   },
   {
    "duration": 9,
    "start_time": "2023-01-09T17:54:04.489Z"
   },
   {
    "duration": 1264,
    "start_time": "2023-01-09T18:36:14.220Z"
   },
   {
    "duration": 805,
    "start_time": "2023-01-09T18:36:15.486Z"
   },
   {
    "duration": 13,
    "start_time": "2023-01-09T18:36:16.293Z"
   },
   {
    "duration": 15,
    "start_time": "2023-01-09T18:36:16.308Z"
   },
   {
    "duration": 34,
    "start_time": "2023-01-09T18:36:16.325Z"
   },
   {
    "duration": 339,
    "start_time": "2023-01-09T18:36:16.361Z"
   },
   {
    "duration": 102,
    "start_time": "2023-01-09T18:36:16.705Z"
   },
   {
    "duration": 248,
    "start_time": "2023-01-09T18:36:16.809Z"
   },
   {
    "duration": 90,
    "start_time": "2023-01-09T18:36:17.058Z"
   },
   {
    "duration": 87,
    "start_time": "2023-01-09T18:36:17.149Z"
   },
   {
    "duration": 626,
    "start_time": "2023-01-09T18:36:17.237Z"
   },
   {
    "duration": 25,
    "start_time": "2023-01-09T18:36:17.865Z"
   },
   {
    "duration": 35,
    "start_time": "2023-01-09T18:36:17.892Z"
   },
   {
    "duration": 38,
    "start_time": "2023-01-09T18:36:17.931Z"
   },
   {
    "duration": 12,
    "start_time": "2023-01-09T18:36:17.971Z"
   },
   {
    "duration": 51,
    "start_time": "2023-01-09T18:36:17.984Z"
   },
   {
    "duration": 48,
    "start_time": "2023-01-09T18:36:18.037Z"
   },
   {
    "duration": 51,
    "start_time": "2023-01-09T18:36:18.088Z"
   },
   {
    "duration": 229,
    "start_time": "2023-01-09T18:36:18.141Z"
   },
   {
    "duration": 196,
    "start_time": "2023-01-09T18:36:18.372Z"
   },
   {
    "duration": 531,
    "start_time": "2023-01-09T18:36:18.569Z"
   },
   {
    "duration": 601,
    "start_time": "2023-01-09T18:36:19.101Z"
   },
   {
    "duration": 247,
    "start_time": "2023-01-09T18:36:19.704Z"
   },
   {
    "duration": 7,
    "start_time": "2023-01-09T18:36:19.953Z"
   },
   {
    "duration": 20,
    "start_time": "2023-01-09T18:36:19.961Z"
   },
   {
    "duration": 25,
    "start_time": "2023-01-09T18:36:19.982Z"
   },
   {
    "duration": 72,
    "start_time": "2023-01-09T18:36:20.009Z"
   },
   {
    "duration": 61,
    "start_time": "2023-01-09T18:36:20.082Z"
   },
   {
    "duration": 90,
    "start_time": "2023-01-09T18:36:20.145Z"
   },
   {
    "duration": 23,
    "start_time": "2023-01-09T18:36:20.237Z"
   },
   {
    "duration": 266,
    "start_time": "2023-01-09T18:36:20.262Z"
   },
   {
    "duration": 85,
    "start_time": "2023-01-09T18:36:20.530Z"
   },
   {
    "duration": 10,
    "start_time": "2023-01-09T18:36:20.617Z"
   },
   {
    "duration": 39,
    "start_time": "2023-01-09T18:36:20.628Z"
   },
   {
    "duration": 26,
    "start_time": "2023-01-09T18:36:20.668Z"
   },
   {
    "duration": 198,
    "start_time": "2023-01-09T18:36:20.696Z"
   },
   {
    "duration": 5,
    "start_time": "2023-01-09T18:36:20.896Z"
   },
   {
    "duration": 157,
    "start_time": "2023-01-09T18:36:20.902Z"
   },
   {
    "duration": 168,
    "start_time": "2023-01-09T18:36:21.061Z"
   },
   {
    "duration": 9,
    "start_time": "2023-01-09T18:36:21.230Z"
   },
   {
    "duration": 6,
    "start_time": "2023-01-09T18:36:21.243Z"
   },
   {
    "duration": 13,
    "start_time": "2023-01-09T18:36:21.250Z"
   },
   {
    "duration": 8,
    "start_time": "2023-01-09T18:36:21.265Z"
   },
   {
    "duration": 34,
    "start_time": "2023-01-09T18:36:21.275Z"
   },
   {
    "duration": 8,
    "start_time": "2023-01-09T18:36:21.311Z"
   },
   {
    "duration": 10,
    "start_time": "2023-01-09T18:36:21.321Z"
   },
   {
    "duration": 9,
    "start_time": "2023-01-09T18:36:21.332Z"
   },
   {
    "duration": 10,
    "start_time": "2023-01-09T18:36:21.342Z"
   },
   {
    "duration": 10,
    "start_time": "2023-01-09T18:36:21.353Z"
   },
   {
    "duration": 44,
    "start_time": "2023-01-09T18:36:21.364Z"
   },
   {
    "duration": 9,
    "start_time": "2023-01-09T18:36:21.410Z"
   },
   {
    "duration": 22,
    "start_time": "2023-01-09T18:36:21.420Z"
   },
   {
    "duration": 8,
    "start_time": "2023-01-09T18:36:21.444Z"
   },
   {
    "duration": 1138,
    "start_time": "2023-01-10T15:47:10.375Z"
   },
   {
    "duration": 915,
    "start_time": "2023-01-10T15:47:11.515Z"
   },
   {
    "duration": 14,
    "start_time": "2023-01-10T15:47:12.432Z"
   },
   {
    "duration": 17,
    "start_time": "2023-01-10T15:47:12.448Z"
   },
   {
    "duration": 23,
    "start_time": "2023-01-10T15:47:12.467Z"
   },
   {
    "duration": 391,
    "start_time": "2023-01-10T15:47:12.491Z"
   },
   {
    "duration": 102,
    "start_time": "2023-01-10T15:47:12.884Z"
   },
   {
    "duration": 256,
    "start_time": "2023-01-10T15:47:12.987Z"
   },
   {
    "duration": 104,
    "start_time": "2023-01-10T15:47:13.245Z"
   },
   {
    "duration": 96,
    "start_time": "2023-01-10T15:47:13.352Z"
   },
   {
    "duration": 566,
    "start_time": "2023-01-10T15:47:13.450Z"
   },
   {
    "duration": 28,
    "start_time": "2023-01-10T15:47:14.018Z"
   },
   {
    "duration": 25,
    "start_time": "2023-01-10T15:47:14.048Z"
   },
   {
    "duration": 29,
    "start_time": "2023-01-10T15:47:14.077Z"
   },
   {
    "duration": 33,
    "start_time": "2023-01-10T15:47:14.109Z"
   },
   {
    "duration": 65,
    "start_time": "2023-01-10T15:47:14.144Z"
   },
   {
    "duration": 73,
    "start_time": "2023-01-10T15:47:14.211Z"
   },
   {
    "duration": 24,
    "start_time": "2023-01-10T15:47:14.285Z"
   },
   {
    "duration": 222,
    "start_time": "2023-01-10T15:47:14.311Z"
   },
   {
    "duration": 174,
    "start_time": "2023-01-10T15:47:14.535Z"
   },
   {
    "duration": 508,
    "start_time": "2023-01-10T15:47:14.710Z"
   },
   {
    "duration": 613,
    "start_time": "2023-01-10T15:47:15.219Z"
   },
   {
    "duration": 272,
    "start_time": "2023-01-10T15:47:15.834Z"
   },
   {
    "duration": 9,
    "start_time": "2023-01-10T15:47:16.107Z"
   },
   {
    "duration": 25,
    "start_time": "2023-01-10T15:47:16.118Z"
   },
   {
    "duration": 24,
    "start_time": "2023-01-10T15:47:16.145Z"
   },
   {
    "duration": 86,
    "start_time": "2023-01-10T15:47:16.171Z"
   },
   {
    "duration": 56,
    "start_time": "2023-01-10T15:47:16.259Z"
   },
   {
    "duration": 88,
    "start_time": "2023-01-10T15:47:16.317Z"
   },
   {
    "duration": 39,
    "start_time": "2023-01-10T15:47:16.407Z"
   },
   {
    "duration": 282,
    "start_time": "2023-01-10T15:47:16.448Z"
   },
   {
    "duration": 84,
    "start_time": "2023-01-10T15:47:16.732Z"
   },
   {
    "duration": 25,
    "start_time": "2023-01-10T15:47:16.817Z"
   },
   {
    "duration": 11,
    "start_time": "2023-01-10T15:47:16.844Z"
   },
   {
    "duration": 15,
    "start_time": "2023-01-10T15:47:16.857Z"
   },
   {
    "duration": 382,
    "start_time": "2023-01-10T15:47:16.874Z"
   },
   {
    "duration": 5,
    "start_time": "2023-01-10T15:47:17.258Z"
   },
   {
    "duration": 117,
    "start_time": "2023-01-10T15:47:17.264Z"
   },
   {
    "duration": 209,
    "start_time": "2023-01-10T15:47:17.383Z"
   },
   {
    "duration": 9,
    "start_time": "2023-01-10T15:47:17.594Z"
   },
   {
    "duration": 6,
    "start_time": "2023-01-10T15:47:17.608Z"
   },
   {
    "duration": 26,
    "start_time": "2023-01-10T15:47:17.616Z"
   },
   {
    "duration": 21,
    "start_time": "2023-01-10T15:47:17.644Z"
   },
   {
    "duration": 19,
    "start_time": "2023-01-10T15:47:17.667Z"
   },
   {
    "duration": 17,
    "start_time": "2023-01-10T15:47:17.688Z"
   },
   {
    "duration": 10,
    "start_time": "2023-01-10T15:47:17.707Z"
   },
   {
    "duration": 11,
    "start_time": "2023-01-10T15:47:17.738Z"
   },
   {
    "duration": 18,
    "start_time": "2023-01-10T15:47:17.750Z"
   },
   {
    "duration": 11,
    "start_time": "2023-01-10T15:47:17.771Z"
   },
   {
    "duration": 9,
    "start_time": "2023-01-10T15:47:17.783Z"
   },
   {
    "duration": 18,
    "start_time": "2023-01-10T15:47:17.794Z"
   },
   {
    "duration": 12,
    "start_time": "2023-01-10T15:47:17.841Z"
   },
   {
    "duration": 14,
    "start_time": "2023-01-10T15:47:17.854Z"
   }
  ],
  "kernelspec": {
   "display_name": "Python 3 (ipykernel)",
   "language": "python",
   "name": "python3"
  },
  "language_info": {
   "codemirror_mode": {
    "name": "ipython",
    "version": 3
   },
   "file_extension": ".py",
   "mimetype": "text/x-python",
   "name": "python",
   "nbconvert_exporter": "python",
   "pygments_lexer": "ipython3",
   "version": "3.9.13"
  },
  "toc": {
   "base_numbering": 1,
   "nav_menu": {},
   "number_sections": false,
   "sideBar": true,
   "skip_h1_title": false,
   "title_cell": "Table of Contents",
   "title_sidebar": "Contents",
   "toc_cell": false,
   "toc_position": {
    "height": "calc(100% - 180px)",
    "left": "10px",
    "top": "150px",
    "width": "209.069px"
   },
   "toc_section_display": true,
   "toc_window_display": false
  }
 },
 "nbformat": 4,
 "nbformat_minor": 2
}

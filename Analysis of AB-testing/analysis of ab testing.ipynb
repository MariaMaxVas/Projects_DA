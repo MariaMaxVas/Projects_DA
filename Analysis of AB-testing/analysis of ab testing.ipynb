{
 "cells": [
  {
   "cell_type": "markdown",
   "metadata": {},
   "source": [
    "<div class=\"alert alert-info\">\n",
    "<h2> Оценка корректности проведения A/B-тестирования  <a class=\"tocSkip\"></h2> \n",
    "\n",
    "<b>Цель:</b>  провести оценку полученных результатов A/B-теста.\n",
    "    \n",
    "<b>Задачи:</b>   \n",
    "   1. Оценить корректность проведения теста:\n",
    "    \n",
    "        -пересечение тестовой аудитории с конкурирующим тестом\n",
    "        \n",
    "        -совпадение теста и маркетинговых событий, другие проблемы временных границ теста.\n",
    "\n",
    "   2. Проанализировать результаты теста.\n",
    " \n",
    "<b>Содержание:</b>\n",
    "   1. Предобработка данных;\n",
    "   2. Оценка корректности проведения теста;\n",
    "   3. Анализ данных;\n",
    "   4. Оценка результатов теста;\n",
    "   5. Общее заключение о корректности проведения теста.</div>"
   ]
  },
  {
   "cell_type": "markdown",
   "metadata": {},
   "source": [
    "## Предобработка данных"
   ]
  },
  {
   "cell_type": "code",
   "execution_count": 1,
   "metadata": {},
   "outputs": [],
   "source": [
    "import pandas as pd\n",
    "import numpy as np\n",
    "import plotly.io as pio\n",
    "from plotly import graph_objects as go\n",
    "import datetime as dt\n",
    "import matplotlib.pyplot as plt\n",
    "from pandas.plotting import register_matplotlib_converters\n",
    "import warnings\n",
    "from scipy import stats as st\n",
    "import math as mth"
   ]
  },
  {
   "cell_type": "code",
   "execution_count": 2,
   "metadata": {},
   "outputs": [],
   "source": [
    "#датасет\n",
    "events = pd.read_csv('/datasets/final_ab_events.csv')\n",
    "market_events = pd.read_csv('/datasets/ab_project_marketing_events.csv')\n",
    "new_users = pd.read_csv('/datasets/final_ab_new_users.csv')\n",
    "participants = pd.read_csv('/datasets/final_ab_participants.csv')"
   ]
  },
  {
   "cell_type": "markdown",
   "metadata": {},
   "source": [
    "### Предобработка таблицы market_events \n",
    "Календарь маркетинговых событий на 2020 год:\n",
    "- `name` — название маркетингового события;\n",
    "- `regions` — регионы, в которых будет проводиться рекламная кампания;\n",
    "- `start_dt` — дата начала кампании;\n",
    "- `finish_dt` — дата завершения кампании."
   ]
  },
  {
   "cell_type": "code",
   "execution_count": 3,
   "metadata": {},
   "outputs": [
    {
     "data": {
      "text/html": [
       "<div>\n",
       "<style scoped>\n",
       "    .dataframe tbody tr th:only-of-type {\n",
       "        vertical-align: middle;\n",
       "    }\n",
       "\n",
       "    .dataframe tbody tr th {\n",
       "        vertical-align: top;\n",
       "    }\n",
       "\n",
       "    .dataframe thead th {\n",
       "        text-align: right;\n",
       "    }\n",
       "</style>\n",
       "<table border=\"1\" class=\"dataframe\">\n",
       "  <thead>\n",
       "    <tr style=\"text-align: right;\">\n",
       "      <th></th>\n",
       "      <th>name</th>\n",
       "      <th>regions</th>\n",
       "      <th>start_dt</th>\n",
       "      <th>finish_dt</th>\n",
       "    </tr>\n",
       "  </thead>\n",
       "  <tbody>\n",
       "    <tr>\n",
       "      <th>0</th>\n",
       "      <td>Christmas&amp;New Year Promo</td>\n",
       "      <td>EU, N.America</td>\n",
       "      <td>2020-12-25</td>\n",
       "      <td>2021-01-03</td>\n",
       "    </tr>\n",
       "    <tr>\n",
       "      <th>1</th>\n",
       "      <td>St. Valentine's Day Giveaway</td>\n",
       "      <td>EU, CIS, APAC, N.America</td>\n",
       "      <td>2020-02-14</td>\n",
       "      <td>2020-02-16</td>\n",
       "    </tr>\n",
       "    <tr>\n",
       "      <th>2</th>\n",
       "      <td>St. Patric's Day Promo</td>\n",
       "      <td>EU, N.America</td>\n",
       "      <td>2020-03-17</td>\n",
       "      <td>2020-03-19</td>\n",
       "    </tr>\n",
       "    <tr>\n",
       "      <th>3</th>\n",
       "      <td>Easter Promo</td>\n",
       "      <td>EU, CIS, APAC, N.America</td>\n",
       "      <td>2020-04-12</td>\n",
       "      <td>2020-04-19</td>\n",
       "    </tr>\n",
       "    <tr>\n",
       "      <th>4</th>\n",
       "      <td>4th of July Promo</td>\n",
       "      <td>N.America</td>\n",
       "      <td>2020-07-04</td>\n",
       "      <td>2020-07-11</td>\n",
       "    </tr>\n",
       "    <tr>\n",
       "      <th>5</th>\n",
       "      <td>Black Friday Ads Campaign</td>\n",
       "      <td>EU, CIS, APAC, N.America</td>\n",
       "      <td>2020-11-26</td>\n",
       "      <td>2020-12-01</td>\n",
       "    </tr>\n",
       "    <tr>\n",
       "      <th>6</th>\n",
       "      <td>Chinese New Year Promo</td>\n",
       "      <td>APAC</td>\n",
       "      <td>2020-01-25</td>\n",
       "      <td>2020-02-07</td>\n",
       "    </tr>\n",
       "    <tr>\n",
       "      <th>7</th>\n",
       "      <td>Labor day (May 1st) Ads Campaign</td>\n",
       "      <td>EU, CIS, APAC</td>\n",
       "      <td>2020-05-01</td>\n",
       "      <td>2020-05-03</td>\n",
       "    </tr>\n",
       "    <tr>\n",
       "      <th>8</th>\n",
       "      <td>International Women's Day Promo</td>\n",
       "      <td>EU, CIS, APAC</td>\n",
       "      <td>2020-03-08</td>\n",
       "      <td>2020-03-10</td>\n",
       "    </tr>\n",
       "    <tr>\n",
       "      <th>9</th>\n",
       "      <td>Victory Day CIS (May 9th) Event</td>\n",
       "      <td>CIS</td>\n",
       "      <td>2020-05-09</td>\n",
       "      <td>2020-05-11</td>\n",
       "    </tr>\n",
       "    <tr>\n",
       "      <th>10</th>\n",
       "      <td>CIS New Year Gift Lottery</td>\n",
       "      <td>CIS</td>\n",
       "      <td>2020-12-30</td>\n",
       "      <td>2021-01-07</td>\n",
       "    </tr>\n",
       "    <tr>\n",
       "      <th>11</th>\n",
       "      <td>Dragon Boat Festival Giveaway</td>\n",
       "      <td>APAC</td>\n",
       "      <td>2020-06-25</td>\n",
       "      <td>2020-07-01</td>\n",
       "    </tr>\n",
       "    <tr>\n",
       "      <th>12</th>\n",
       "      <td>Single's Day Gift Promo</td>\n",
       "      <td>APAC</td>\n",
       "      <td>2020-11-11</td>\n",
       "      <td>2020-11-12</td>\n",
       "    </tr>\n",
       "    <tr>\n",
       "      <th>13</th>\n",
       "      <td>Chinese Moon Festival</td>\n",
       "      <td>APAC</td>\n",
       "      <td>2020-10-01</td>\n",
       "      <td>2020-10-07</td>\n",
       "    </tr>\n",
       "  </tbody>\n",
       "</table>\n",
       "</div>"
      ],
      "text/plain": [
       "                                name                   regions    start_dt  \\\n",
       "0           Christmas&New Year Promo             EU, N.America  2020-12-25   \n",
       "1       St. Valentine's Day Giveaway  EU, CIS, APAC, N.America  2020-02-14   \n",
       "2             St. Patric's Day Promo             EU, N.America  2020-03-17   \n",
       "3                       Easter Promo  EU, CIS, APAC, N.America  2020-04-12   \n",
       "4                  4th of July Promo                 N.America  2020-07-04   \n",
       "5          Black Friday Ads Campaign  EU, CIS, APAC, N.America  2020-11-26   \n",
       "6             Chinese New Year Promo                      APAC  2020-01-25   \n",
       "7   Labor day (May 1st) Ads Campaign             EU, CIS, APAC  2020-05-01   \n",
       "8    International Women's Day Promo             EU, CIS, APAC  2020-03-08   \n",
       "9    Victory Day CIS (May 9th) Event                       CIS  2020-05-09   \n",
       "10         CIS New Year Gift Lottery                       CIS  2020-12-30   \n",
       "11     Dragon Boat Festival Giveaway                      APAC  2020-06-25   \n",
       "12           Single's Day Gift Promo                      APAC  2020-11-11   \n",
       "13             Chinese Moon Festival                      APAC  2020-10-01   \n",
       "\n",
       "     finish_dt  \n",
       "0   2021-01-03  \n",
       "1   2020-02-16  \n",
       "2   2020-03-19  \n",
       "3   2020-04-19  \n",
       "4   2020-07-11  \n",
       "5   2020-12-01  \n",
       "6   2020-02-07  \n",
       "7   2020-05-03  \n",
       "8   2020-03-10  \n",
       "9   2020-05-11  \n",
       "10  2021-01-07  \n",
       "11  2020-07-01  \n",
       "12  2020-11-12  \n",
       "13  2020-10-07  "
      ]
     },
     "execution_count": 3,
     "metadata": {},
     "output_type": "execute_result"
    }
   ],
   "source": [
    "market_events"
   ]
  },
  {
   "cell_type": "code",
   "execution_count": 4,
   "metadata": {},
   "outputs": [
    {
     "name": "stdout",
     "output_type": "stream",
     "text": [
      "<class 'pandas.core.frame.DataFrame'>\n",
      "RangeIndex: 14 entries, 0 to 13\n",
      "Data columns (total 4 columns):\n",
      " #   Column     Non-Null Count  Dtype \n",
      "---  ------     --------------  ----- \n",
      " 0   name       14 non-null     object\n",
      " 1   regions    14 non-null     object\n",
      " 2   start_dt   14 non-null     object\n",
      " 3   finish_dt  14 non-null     object\n",
      "dtypes: object(4)\n",
      "memory usage: 576.0+ bytes\n"
     ]
    }
   ],
   "source": [
    "#проверка типов данных\n",
    "market_events.info()"
   ]
  },
  {
   "cell_type": "code",
   "execution_count": 5,
   "metadata": {},
   "outputs": [
    {
     "name": "stdout",
     "output_type": "stream",
     "text": [
      "<class 'pandas.core.frame.DataFrame'>\n",
      "RangeIndex: 14 entries, 0 to 13\n",
      "Data columns (total 4 columns):\n",
      " #   Column     Non-Null Count  Dtype         \n",
      "---  ------     --------------  -----         \n",
      " 0   name       14 non-null     object        \n",
      " 1   regions    14 non-null     object        \n",
      " 2   start_dt   14 non-null     datetime64[ns]\n",
      " 3   finish_dt  14 non-null     datetime64[ns]\n",
      "dtypes: datetime64[ns](2), object(2)\n",
      "memory usage: 576.0+ bytes\n"
     ]
    }
   ],
   "source": [
    "#изменение типа в start_dt и finish_dt\n",
    "market_events['start_dt'] = pd.to_datetime(market_events['start_dt'])\n",
    "market_events['finish_dt'] = pd.to_datetime(market_events['finish_dt'])\n",
    "market_events.info()"
   ]
  },
  {
   "cell_type": "code",
   "execution_count": 6,
   "metadata": {},
   "outputs": [
    {
     "data": {
      "text/plain": [
       "name         0\n",
       "regions      0\n",
       "start_dt     0\n",
       "finish_dt    0\n",
       "dtype: int64"
      ]
     },
     "execution_count": 6,
     "metadata": {},
     "output_type": "execute_result"
    }
   ],
   "source": [
    "# проверка пропусков\n",
    "market_events.isna().sum()"
   ]
  },
  {
   "cell_type": "code",
   "execution_count": 7,
   "metadata": {},
   "outputs": [
    {
     "data": {
      "text/plain": [
       "0"
      ]
     },
     "execution_count": 7,
     "metadata": {},
     "output_type": "execute_result"
    }
   ],
   "source": [
    "# проверка явных дубликатов\n",
    "market_events.duplicated().sum()"
   ]
  },
  {
   "cell_type": "code",
   "execution_count": 8,
   "metadata": {},
   "outputs": [
    {
     "data": {
      "text/plain": [
       "0"
      ]
     },
     "execution_count": 8,
     "metadata": {},
     "output_type": "execute_result"
    }
   ],
   "source": [
    "#проверка дубликатов с комбинацией название событий и региона\n",
    "market_events['location'] = market_events['name'] + market_events['regions']\n",
    "market_events['location'].duplicated().sum()"
   ]
  },
  {
   "cell_type": "code",
   "execution_count": 9,
   "metadata": {},
   "outputs": [
    {
     "data": {
      "text/plain": [
       "array(['EU, N.America', 'EU, CIS, APAC, N.America', 'N.America', 'APAC',\n",
       "       'EU, CIS, APAC', 'CIS'], dtype=object)"
      ]
     },
     "execution_count": 9,
     "metadata": {},
     "output_type": "execute_result"
    }
   ],
   "source": [
    "#проверка регионов на повторы\n",
    "market_events['regions'].unique()"
   ]
  },
  {
   "cell_type": "code",
   "execution_count": 10,
   "metadata": {},
   "outputs": [
    {
     "data": {
      "text/plain": [
       "array(['Christmas&New Year Promo', \"St. Valentine's Day Giveaway\",\n",
       "       \"St. Patric's Day Promo\", 'Easter Promo', '4th of July Promo',\n",
       "       'Black Friday Ads Campaign', 'Chinese New Year Promo',\n",
       "       'Labor day (May 1st) Ads Campaign',\n",
       "       \"International Women's Day Promo\",\n",
       "       'Victory Day CIS (May 9th) Event', 'CIS New Year Gift Lottery',\n",
       "       'Dragon Boat Festival Giveaway', \"Single's Day Gift Promo\",\n",
       "       'Chinese Moon Festival'], dtype=object)"
      ]
     },
     "execution_count": 10,
     "metadata": {},
     "output_type": "execute_result"
    }
   ],
   "source": [
    "#проверка событий на повторы\n",
    "market_events['name'].unique()"
   ]
  },
  {
   "cell_type": "code",
   "execution_count": 11,
   "metadata": {},
   "outputs": [
    {
     "name": "stdout",
     "output_type": "stream",
     "text": [
      "Дата начала события: 2020-01-25 00:00:00\n",
      "Дата окончания события: 2021-01-07 00:00:00\n"
     ]
    }
   ],
   "source": [
    "print('Дата начала события:', market_events['start_dt'].min())\n",
    "print('Дата окончания события:', market_events['finish_dt'].max())"
   ]
  },
  {
   "cell_type": "markdown",
   "metadata": {},
   "source": [
    "**Вывод по таблице market_events:** \n",
    "- В столбцах start_dt и finish_dt были изменен тип данных;\n",
    "- Пропусков не обнаружено;\n",
    "- Дубликатов не обнаружено;\n",
    "- Единственное, календарь маркетинговых событий заявлен только на 2020 год, но при проверке в данных есть события которые заканчиваются 2021 году."
   ]
  },
  {
   "cell_type": "markdown",
   "metadata": {},
   "source": [
    "### Предобработка таблицы new_users \n",
    "пользователи, зарегистрировавшиеся с 7 по 21 декабря 2020 года.:\n",
    "- `user_id` — идентификатор пользователя;\n",
    "- `first_date` — дата регистрации;\n",
    "- `region` — регион пользователя;\n",
    "- `device` — устройство, с которого происходила регистрация."
   ]
  },
  {
   "cell_type": "code",
   "execution_count": 12,
   "metadata": {},
   "outputs": [
    {
     "data": {
      "text/html": [
       "<div>\n",
       "<style scoped>\n",
       "    .dataframe tbody tr th:only-of-type {\n",
       "        vertical-align: middle;\n",
       "    }\n",
       "\n",
       "    .dataframe tbody tr th {\n",
       "        vertical-align: top;\n",
       "    }\n",
       "\n",
       "    .dataframe thead th {\n",
       "        text-align: right;\n",
       "    }\n",
       "</style>\n",
       "<table border=\"1\" class=\"dataframe\">\n",
       "  <thead>\n",
       "    <tr style=\"text-align: right;\">\n",
       "      <th></th>\n",
       "      <th>user_id</th>\n",
       "      <th>first_date</th>\n",
       "      <th>region</th>\n",
       "      <th>device</th>\n",
       "    </tr>\n",
       "  </thead>\n",
       "  <tbody>\n",
       "    <tr>\n",
       "      <th>0</th>\n",
       "      <td>D72A72121175D8BE</td>\n",
       "      <td>2020-12-07</td>\n",
       "      <td>EU</td>\n",
       "      <td>PC</td>\n",
       "    </tr>\n",
       "    <tr>\n",
       "      <th>1</th>\n",
       "      <td>F1C668619DFE6E65</td>\n",
       "      <td>2020-12-07</td>\n",
       "      <td>N.America</td>\n",
       "      <td>Android</td>\n",
       "    </tr>\n",
       "    <tr>\n",
       "      <th>2</th>\n",
       "      <td>2E1BF1D4C37EA01F</td>\n",
       "      <td>2020-12-07</td>\n",
       "      <td>EU</td>\n",
       "      <td>PC</td>\n",
       "    </tr>\n",
       "    <tr>\n",
       "      <th>3</th>\n",
       "      <td>50734A22C0C63768</td>\n",
       "      <td>2020-12-07</td>\n",
       "      <td>EU</td>\n",
       "      <td>iPhone</td>\n",
       "    </tr>\n",
       "    <tr>\n",
       "      <th>4</th>\n",
       "      <td>E1BDDCE0DAFA2679</td>\n",
       "      <td>2020-12-07</td>\n",
       "      <td>N.America</td>\n",
       "      <td>iPhone</td>\n",
       "    </tr>\n",
       "    <tr>\n",
       "      <th>...</th>\n",
       "      <td>...</td>\n",
       "      <td>...</td>\n",
       "      <td>...</td>\n",
       "      <td>...</td>\n",
       "    </tr>\n",
       "    <tr>\n",
       "      <th>61728</th>\n",
       "      <td>1DB53B933257165D</td>\n",
       "      <td>2020-12-20</td>\n",
       "      <td>EU</td>\n",
       "      <td>Android</td>\n",
       "    </tr>\n",
       "    <tr>\n",
       "      <th>61729</th>\n",
       "      <td>538643EB4527ED03</td>\n",
       "      <td>2020-12-20</td>\n",
       "      <td>EU</td>\n",
       "      <td>Mac</td>\n",
       "    </tr>\n",
       "    <tr>\n",
       "      <th>61730</th>\n",
       "      <td>7ADEE837D5D8CBBD</td>\n",
       "      <td>2020-12-20</td>\n",
       "      <td>EU</td>\n",
       "      <td>PC</td>\n",
       "    </tr>\n",
       "    <tr>\n",
       "      <th>61731</th>\n",
       "      <td>1C7D23927835213F</td>\n",
       "      <td>2020-12-20</td>\n",
       "      <td>EU</td>\n",
       "      <td>iPhone</td>\n",
       "    </tr>\n",
       "    <tr>\n",
       "      <th>61732</th>\n",
       "      <td>8F04273BB2860229</td>\n",
       "      <td>2020-12-20</td>\n",
       "      <td>EU</td>\n",
       "      <td>Android</td>\n",
       "    </tr>\n",
       "  </tbody>\n",
       "</table>\n",
       "<p>61733 rows × 4 columns</p>\n",
       "</div>"
      ],
      "text/plain": [
       "                user_id  first_date     region   device\n",
       "0      D72A72121175D8BE  2020-12-07         EU       PC\n",
       "1      F1C668619DFE6E65  2020-12-07  N.America  Android\n",
       "2      2E1BF1D4C37EA01F  2020-12-07         EU       PC\n",
       "3      50734A22C0C63768  2020-12-07         EU   iPhone\n",
       "4      E1BDDCE0DAFA2679  2020-12-07  N.America   iPhone\n",
       "...                 ...         ...        ...      ...\n",
       "61728  1DB53B933257165D  2020-12-20         EU  Android\n",
       "61729  538643EB4527ED03  2020-12-20         EU      Mac\n",
       "61730  7ADEE837D5D8CBBD  2020-12-20         EU       PC\n",
       "61731  1C7D23927835213F  2020-12-20         EU   iPhone\n",
       "61732  8F04273BB2860229  2020-12-20         EU  Android\n",
       "\n",
       "[61733 rows x 4 columns]"
      ]
     },
     "execution_count": 12,
     "metadata": {},
     "output_type": "execute_result"
    }
   ],
   "source": [
    "new_users"
   ]
  },
  {
   "cell_type": "code",
   "execution_count": 13,
   "metadata": {},
   "outputs": [
    {
     "name": "stdout",
     "output_type": "stream",
     "text": [
      "<class 'pandas.core.frame.DataFrame'>\n",
      "RangeIndex: 61733 entries, 0 to 61732\n",
      "Data columns (total 4 columns):\n",
      " #   Column      Non-Null Count  Dtype \n",
      "---  ------      --------------  ----- \n",
      " 0   user_id     61733 non-null  object\n",
      " 1   first_date  61733 non-null  object\n",
      " 2   region      61733 non-null  object\n",
      " 3   device      61733 non-null  object\n",
      "dtypes: object(4)\n",
      "memory usage: 1.9+ MB\n"
     ]
    }
   ],
   "source": [
    "#проверка типов данных\n",
    "new_users.info()"
   ]
  },
  {
   "cell_type": "code",
   "execution_count": 14,
   "metadata": {},
   "outputs": [
    {
     "name": "stdout",
     "output_type": "stream",
     "text": [
      "<class 'pandas.core.frame.DataFrame'>\n",
      "RangeIndex: 61733 entries, 0 to 61732\n",
      "Data columns (total 4 columns):\n",
      " #   Column      Non-Null Count  Dtype         \n",
      "---  ------      --------------  -----         \n",
      " 0   user_id     61733 non-null  object        \n",
      " 1   first_date  61733 non-null  datetime64[ns]\n",
      " 2   region      61733 non-null  object        \n",
      " 3   device      61733 non-null  object        \n",
      "dtypes: datetime64[ns](1), object(3)\n",
      "memory usage: 1.9+ MB\n"
     ]
    }
   ],
   "source": [
    "#изменение типа в first_date\n",
    "new_users['first_date'] = pd.to_datetime(new_users['first_date'])\n",
    "new_users.info()"
   ]
  },
  {
   "cell_type": "code",
   "execution_count": 15,
   "metadata": {},
   "outputs": [
    {
     "data": {
      "text/plain": [
       "user_id       0\n",
       "first_date    0\n",
       "region        0\n",
       "device        0\n",
       "dtype: int64"
      ]
     },
     "execution_count": 15,
     "metadata": {},
     "output_type": "execute_result"
    }
   ],
   "source": [
    "# проверка пропусков\n",
    "new_users.isna().sum()"
   ]
  },
  {
   "cell_type": "code",
   "execution_count": 16,
   "metadata": {},
   "outputs": [
    {
     "data": {
      "text/plain": [
       "0"
      ]
     },
     "execution_count": 16,
     "metadata": {},
     "output_type": "execute_result"
    }
   ],
   "source": [
    "# проверка явных дубликатов\n",
    "new_users.duplicated().sum()"
   ]
  },
  {
   "cell_type": "code",
   "execution_count": 17,
   "metadata": {},
   "outputs": [
    {
     "data": {
      "text/plain": [
       "array(['EU', 'N.America', 'APAC', 'CIS'], dtype=object)"
      ]
     },
     "execution_count": 17,
     "metadata": {},
     "output_type": "execute_result"
    }
   ],
   "source": [
    "#проверка регионов на повторы\n",
    "new_users['region'].unique()"
   ]
  },
  {
   "cell_type": "code",
   "execution_count": 18,
   "metadata": {},
   "outputs": [
    {
     "data": {
      "text/plain": [
       "array(['PC', 'Android', 'iPhone', 'Mac'], dtype=object)"
      ]
     },
     "execution_count": 18,
     "metadata": {},
     "output_type": "execute_result"
    }
   ],
   "source": [
    "#проверка устройств на повторы\n",
    "new_users['device'].unique()"
   ]
  },
  {
   "cell_type": "code",
   "execution_count": 19,
   "metadata": {},
   "outputs": [
    {
     "name": "stdout",
     "output_type": "stream",
     "text": [
      "Дата начала регистрации: 2020-12-07 00:00:00\n",
      "Дата окончания регистрации: 2020-12-23 00:00:00\n"
     ]
    }
   ],
   "source": [
    "print('Дата начала регистрации:', new_users['first_date'].min())\n",
    "print('Дата окончания регистрации:', new_users['first_date'].max())"
   ]
  },
  {
   "cell_type": "code",
   "execution_count": 20,
   "metadata": {},
   "outputs": [
    {
     "data": {
      "text/html": [
       "<div>\n",
       "<style scoped>\n",
       "    .dataframe tbody tr th:only-of-type {\n",
       "        vertical-align: middle;\n",
       "    }\n",
       "\n",
       "    .dataframe tbody tr th {\n",
       "        vertical-align: top;\n",
       "    }\n",
       "\n",
       "    .dataframe thead th {\n",
       "        text-align: right;\n",
       "    }\n",
       "</style>\n",
       "<table border=\"1\" class=\"dataframe\">\n",
       "  <thead>\n",
       "    <tr style=\"text-align: right;\">\n",
       "      <th></th>\n",
       "      <th>user_id</th>\n",
       "      <th>first_date</th>\n",
       "      <th>region</th>\n",
       "      <th>device</th>\n",
       "    </tr>\n",
       "  </thead>\n",
       "  <tbody>\n",
       "    <tr>\n",
       "      <th>23821</th>\n",
       "      <td>5815F7ECE74D949F</td>\n",
       "      <td>2020-12-22</td>\n",
       "      <td>CIS</td>\n",
       "      <td>PC</td>\n",
       "    </tr>\n",
       "    <tr>\n",
       "      <th>23822</th>\n",
       "      <td>32EAEA5E903E3BC1</td>\n",
       "      <td>2020-12-22</td>\n",
       "      <td>N.America</td>\n",
       "      <td>Android</td>\n",
       "    </tr>\n",
       "    <tr>\n",
       "      <th>23823</th>\n",
       "      <td>9DF7A3C46487EF0B</td>\n",
       "      <td>2020-12-22</td>\n",
       "      <td>EU</td>\n",
       "      <td>Android</td>\n",
       "    </tr>\n",
       "    <tr>\n",
       "      <th>23824</th>\n",
       "      <td>ADE98C6440423287</td>\n",
       "      <td>2020-12-22</td>\n",
       "      <td>EU</td>\n",
       "      <td>iPhone</td>\n",
       "    </tr>\n",
       "    <tr>\n",
       "      <th>23825</th>\n",
       "      <td>5A5833D3AEA75255</td>\n",
       "      <td>2020-12-22</td>\n",
       "      <td>N.America</td>\n",
       "      <td>PC</td>\n",
       "    </tr>\n",
       "    <tr>\n",
       "      <th>...</th>\n",
       "      <td>...</td>\n",
       "      <td>...</td>\n",
       "      <td>...</td>\n",
       "      <td>...</td>\n",
       "    </tr>\n",
       "    <tr>\n",
       "      <th>33290</th>\n",
       "      <td>165AFCBF42C043F8</td>\n",
       "      <td>2020-12-23</td>\n",
       "      <td>EU</td>\n",
       "      <td>PC</td>\n",
       "    </tr>\n",
       "    <tr>\n",
       "      <th>33291</th>\n",
       "      <td>54E7F36C0E976E24</td>\n",
       "      <td>2020-12-23</td>\n",
       "      <td>EU</td>\n",
       "      <td>Android</td>\n",
       "    </tr>\n",
       "    <tr>\n",
       "      <th>33292</th>\n",
       "      <td>7E43EB2E03A33E78</td>\n",
       "      <td>2020-12-23</td>\n",
       "      <td>EU</td>\n",
       "      <td>PC</td>\n",
       "    </tr>\n",
       "    <tr>\n",
       "      <th>33293</th>\n",
       "      <td>B8B679DEE9F2CA06</td>\n",
       "      <td>2020-12-23</td>\n",
       "      <td>EU</td>\n",
       "      <td>PC</td>\n",
       "    </tr>\n",
       "    <tr>\n",
       "      <th>33294</th>\n",
       "      <td>BE595EE3E9D59FB9</td>\n",
       "      <td>2020-12-23</td>\n",
       "      <td>EU</td>\n",
       "      <td>PC</td>\n",
       "    </tr>\n",
       "  </tbody>\n",
       "</table>\n",
       "<p>5263 rows × 4 columns</p>\n",
       "</div>"
      ],
      "text/plain": [
       "                user_id first_date     region   device\n",
       "23821  5815F7ECE74D949F 2020-12-22        CIS       PC\n",
       "23822  32EAEA5E903E3BC1 2020-12-22  N.America  Android\n",
       "23823  9DF7A3C46487EF0B 2020-12-22         EU  Android\n",
       "23824  ADE98C6440423287 2020-12-22         EU   iPhone\n",
       "23825  5A5833D3AEA75255 2020-12-22  N.America       PC\n",
       "...                 ...        ...        ...      ...\n",
       "33290  165AFCBF42C043F8 2020-12-23         EU       PC\n",
       "33291  54E7F36C0E976E24 2020-12-23         EU  Android\n",
       "33292  7E43EB2E03A33E78 2020-12-23         EU       PC\n",
       "33293  B8B679DEE9F2CA06 2020-12-23         EU       PC\n",
       "33294  BE595EE3E9D59FB9 2020-12-23         EU       PC\n",
       "\n",
       "[5263 rows x 4 columns]"
      ]
     },
     "execution_count": 20,
     "metadata": {},
     "output_type": "execute_result"
    }
   ],
   "source": [
    "new_users[new_users['first_date'] > '2020-12-21 00:00:00']"
   ]
  },
  {
   "cell_type": "markdown",
   "metadata": {},
   "source": [
    "**Вывод по таблице new_users:** \n",
    "- В столбце first_date был изменен тип данных;\n",
    "- Пропусков не обнаружено;\n",
    "- Дубликатов не обнаружено;\n",
    "- Было заявлено, что были взяты пользователи, зарегистрировавшиеся с 7 по 21 декабря 2020 года. При проверке в данных есть 5263 пользователя, зарегистрировавшиеся после 21 декабря 2020 года."
   ]
  },
  {
   "cell_type": "markdown",
   "metadata": {},
   "source": [
    "### Предобработка таблицы events \n",
    "Действия новых пользователей в период с 7 декабря 2020 по 4 января 2021 года:\n",
    "- `user_id` — идентификатор пользователя;\n",
    "- `event_dt` — дата и время события;\n",
    "- `event_name` — тип события;\n",
    "- `details` — дополнительные данные о событии. Например, для покупок, `purchase,` в этом поле хранится стоимость покупки в долларах."
   ]
  },
  {
   "cell_type": "code",
   "execution_count": 21,
   "metadata": {},
   "outputs": [
    {
     "data": {
      "text/html": [
       "<div>\n",
       "<style scoped>\n",
       "    .dataframe tbody tr th:only-of-type {\n",
       "        vertical-align: middle;\n",
       "    }\n",
       "\n",
       "    .dataframe tbody tr th {\n",
       "        vertical-align: top;\n",
       "    }\n",
       "\n",
       "    .dataframe thead th {\n",
       "        text-align: right;\n",
       "    }\n",
       "</style>\n",
       "<table border=\"1\" class=\"dataframe\">\n",
       "  <thead>\n",
       "    <tr style=\"text-align: right;\">\n",
       "      <th></th>\n",
       "      <th>user_id</th>\n",
       "      <th>event_dt</th>\n",
       "      <th>event_name</th>\n",
       "      <th>details</th>\n",
       "    </tr>\n",
       "  </thead>\n",
       "  <tbody>\n",
       "    <tr>\n",
       "      <th>0</th>\n",
       "      <td>E1BDDCE0DAFA2679</td>\n",
       "      <td>2020-12-07 20:22:03</td>\n",
       "      <td>purchase</td>\n",
       "      <td>99.99</td>\n",
       "    </tr>\n",
       "    <tr>\n",
       "      <th>1</th>\n",
       "      <td>7B6452F081F49504</td>\n",
       "      <td>2020-12-07 09:22:53</td>\n",
       "      <td>purchase</td>\n",
       "      <td>9.99</td>\n",
       "    </tr>\n",
       "    <tr>\n",
       "      <th>2</th>\n",
       "      <td>9CD9F34546DF254C</td>\n",
       "      <td>2020-12-07 12:59:29</td>\n",
       "      <td>purchase</td>\n",
       "      <td>4.99</td>\n",
       "    </tr>\n",
       "    <tr>\n",
       "      <th>3</th>\n",
       "      <td>96F27A054B191457</td>\n",
       "      <td>2020-12-07 04:02:40</td>\n",
       "      <td>purchase</td>\n",
       "      <td>4.99</td>\n",
       "    </tr>\n",
       "    <tr>\n",
       "      <th>4</th>\n",
       "      <td>1FD7660FDF94CA1F</td>\n",
       "      <td>2020-12-07 10:15:09</td>\n",
       "      <td>purchase</td>\n",
       "      <td>4.99</td>\n",
       "    </tr>\n",
       "    <tr>\n",
       "      <th>...</th>\n",
       "      <td>...</td>\n",
       "      <td>...</td>\n",
       "      <td>...</td>\n",
       "      <td>...</td>\n",
       "    </tr>\n",
       "    <tr>\n",
       "      <th>440312</th>\n",
       "      <td>245E85F65C358E08</td>\n",
       "      <td>2020-12-30 19:35:55</td>\n",
       "      <td>login</td>\n",
       "      <td>NaN</td>\n",
       "    </tr>\n",
       "    <tr>\n",
       "      <th>440313</th>\n",
       "      <td>9385A108F5A0A7A7</td>\n",
       "      <td>2020-12-30 10:54:15</td>\n",
       "      <td>login</td>\n",
       "      <td>NaN</td>\n",
       "    </tr>\n",
       "    <tr>\n",
       "      <th>440314</th>\n",
       "      <td>DB650B7559AC6EAC</td>\n",
       "      <td>2020-12-30 10:59:09</td>\n",
       "      <td>login</td>\n",
       "      <td>NaN</td>\n",
       "    </tr>\n",
       "    <tr>\n",
       "      <th>440315</th>\n",
       "      <td>F80C9BDDEA02E53C</td>\n",
       "      <td>2020-12-30 09:53:39</td>\n",
       "      <td>login</td>\n",
       "      <td>NaN</td>\n",
       "    </tr>\n",
       "    <tr>\n",
       "      <th>440316</th>\n",
       "      <td>7AEC61159B672CC5</td>\n",
       "      <td>2020-12-30 11:36:13</td>\n",
       "      <td>login</td>\n",
       "      <td>NaN</td>\n",
       "    </tr>\n",
       "  </tbody>\n",
       "</table>\n",
       "<p>440317 rows × 4 columns</p>\n",
       "</div>"
      ],
      "text/plain": [
       "                 user_id             event_dt event_name  details\n",
       "0       E1BDDCE0DAFA2679  2020-12-07 20:22:03   purchase    99.99\n",
       "1       7B6452F081F49504  2020-12-07 09:22:53   purchase     9.99\n",
       "2       9CD9F34546DF254C  2020-12-07 12:59:29   purchase     4.99\n",
       "3       96F27A054B191457  2020-12-07 04:02:40   purchase     4.99\n",
       "4       1FD7660FDF94CA1F  2020-12-07 10:15:09   purchase     4.99\n",
       "...                  ...                  ...        ...      ...\n",
       "440312  245E85F65C358E08  2020-12-30 19:35:55      login      NaN\n",
       "440313  9385A108F5A0A7A7  2020-12-30 10:54:15      login      NaN\n",
       "440314  DB650B7559AC6EAC  2020-12-30 10:59:09      login      NaN\n",
       "440315  F80C9BDDEA02E53C  2020-12-30 09:53:39      login      NaN\n",
       "440316  7AEC61159B672CC5  2020-12-30 11:36:13      login      NaN\n",
       "\n",
       "[440317 rows x 4 columns]"
      ]
     },
     "execution_count": 21,
     "metadata": {},
     "output_type": "execute_result"
    }
   ],
   "source": [
    "events"
   ]
  },
  {
   "cell_type": "code",
   "execution_count": 22,
   "metadata": {},
   "outputs": [
    {
     "name": "stdout",
     "output_type": "stream",
     "text": [
      "<class 'pandas.core.frame.DataFrame'>\n",
      "RangeIndex: 440317 entries, 0 to 440316\n",
      "Data columns (total 4 columns):\n",
      " #   Column      Non-Null Count   Dtype  \n",
      "---  ------      --------------   -----  \n",
      " 0   user_id     440317 non-null  object \n",
      " 1   event_dt    440317 non-null  object \n",
      " 2   event_name  440317 non-null  object \n",
      " 3   details     62740 non-null   float64\n",
      "dtypes: float64(1), object(3)\n",
      "memory usage: 13.4+ MB\n"
     ]
    }
   ],
   "source": [
    "#проверка типов данных таблицы\n",
    "events.info()"
   ]
  },
  {
   "cell_type": "code",
   "execution_count": 23,
   "metadata": {},
   "outputs": [
    {
     "name": "stdout",
     "output_type": "stream",
     "text": [
      "<class 'pandas.core.frame.DataFrame'>\n",
      "RangeIndex: 440317 entries, 0 to 440316\n",
      "Data columns (total 4 columns):\n",
      " #   Column      Non-Null Count   Dtype         \n",
      "---  ------      --------------   -----         \n",
      " 0   user_id     440317 non-null  object        \n",
      " 1   event_dt    440317 non-null  datetime64[ns]\n",
      " 2   event_name  440317 non-null  object        \n",
      " 3   details     62740 non-null   float64       \n",
      "dtypes: datetime64[ns](1), float64(1), object(2)\n",
      "memory usage: 13.4+ MB\n"
     ]
    }
   ],
   "source": [
    "#изменение типа в event_dt\n",
    "events['event_dt'] = pd.to_datetime(events['event_dt'])\n",
    "events.info()"
   ]
  },
  {
   "cell_type": "code",
   "execution_count": 24,
   "metadata": {},
   "outputs": [
    {
     "data": {
      "text/plain": [
       "user_id            0\n",
       "event_dt           0\n",
       "event_name         0\n",
       "details       377577\n",
       "dtype: int64"
      ]
     },
     "execution_count": 24,
     "metadata": {},
     "output_type": "execute_result"
    }
   ],
   "source": [
    "# проверка пропусков\n",
    "events.isna().sum()"
   ]
  },
  {
   "cell_type": "code",
   "execution_count": 25,
   "metadata": {},
   "outputs": [
    {
     "data": {
      "text/html": [
       "<div>\n",
       "<style scoped>\n",
       "    .dataframe tbody tr th:only-of-type {\n",
       "        vertical-align: middle;\n",
       "    }\n",
       "\n",
       "    .dataframe tbody tr th {\n",
       "        vertical-align: top;\n",
       "    }\n",
       "\n",
       "    .dataframe thead th {\n",
       "        text-align: right;\n",
       "    }\n",
       "</style>\n",
       "<table border=\"1\" class=\"dataframe\">\n",
       "  <thead>\n",
       "    <tr style=\"text-align: right;\">\n",
       "      <th></th>\n",
       "      <th>user_id</th>\n",
       "      <th>event_dt</th>\n",
       "      <th>event_name</th>\n",
       "      <th>details</th>\n",
       "    </tr>\n",
       "  </thead>\n",
       "  <tbody>\n",
       "    <tr>\n",
       "      <th>110810</th>\n",
       "      <td>FFFFE36C0F6E92DF</td>\n",
       "      <td>2020-12-23 05:09:15</td>\n",
       "      <td>product_cart</td>\n",
       "      <td>NaN</td>\n",
       "    </tr>\n",
       "    <tr>\n",
       "      <th>214566</th>\n",
       "      <td>FFFFE36C0F6E92DF</td>\n",
       "      <td>2020-12-22 11:38:57</td>\n",
       "      <td>product_page</td>\n",
       "      <td>NaN</td>\n",
       "    </tr>\n",
       "    <tr>\n",
       "      <th>421990</th>\n",
       "      <td>FFFFE36C0F6E92DF</td>\n",
       "      <td>2020-12-26 09:25:03</td>\n",
       "      <td>login</td>\n",
       "      <td>NaN</td>\n",
       "    </tr>\n",
       "    <tr>\n",
       "      <th>107091</th>\n",
       "      <td>FFFFE36C0F6E92DF</td>\n",
       "      <td>2020-12-22 11:38:57</td>\n",
       "      <td>product_cart</td>\n",
       "      <td>NaN</td>\n",
       "    </tr>\n",
       "    <tr>\n",
       "      <th>396849</th>\n",
       "      <td>FFFFE36C0F6E92DF</td>\n",
       "      <td>2020-12-23 05:09:13</td>\n",
       "      <td>login</td>\n",
       "      <td>NaN</td>\n",
       "    </tr>\n",
       "    <tr>\n",
       "      <th>...</th>\n",
       "      <td>...</td>\n",
       "      <td>...</td>\n",
       "      <td>...</td>\n",
       "      <td>...</td>\n",
       "    </tr>\n",
       "    <tr>\n",
       "      <th>162871</th>\n",
       "      <td>0001710F4DDB1D1B</td>\n",
       "      <td>2020-12-15 17:34:23</td>\n",
       "      <td>product_page</td>\n",
       "      <td>NaN</td>\n",
       "    </tr>\n",
       "    <tr>\n",
       "      <th>78020</th>\n",
       "      <td>0001710F4DDB1D1B</td>\n",
       "      <td>2020-12-14 20:20:42</td>\n",
       "      <td>product_cart</td>\n",
       "      <td>NaN</td>\n",
       "    </tr>\n",
       "    <tr>\n",
       "      <th>81415</th>\n",
       "      <td>0001710F4DDB1D1B</td>\n",
       "      <td>2020-12-15 17:34:25</td>\n",
       "      <td>product_cart</td>\n",
       "      <td>NaN</td>\n",
       "    </tr>\n",
       "    <tr>\n",
       "      <th>307611</th>\n",
       "      <td>0001710F4DDB1D1B</td>\n",
       "      <td>2020-12-15 17:34:22</td>\n",
       "      <td>login</td>\n",
       "      <td>NaN</td>\n",
       "    </tr>\n",
       "    <tr>\n",
       "      <th>297294</th>\n",
       "      <td>0001710F4DDB1D1B</td>\n",
       "      <td>2020-12-14 20:20:40</td>\n",
       "      <td>login</td>\n",
       "      <td>NaN</td>\n",
       "    </tr>\n",
       "  </tbody>\n",
       "</table>\n",
       "<p>377577 rows × 4 columns</p>\n",
       "</div>"
      ],
      "text/plain": [
       "                 user_id            event_dt    event_name  details\n",
       "110810  FFFFE36C0F6E92DF 2020-12-23 05:09:15  product_cart      NaN\n",
       "214566  FFFFE36C0F6E92DF 2020-12-22 11:38:57  product_page      NaN\n",
       "421990  FFFFE36C0F6E92DF 2020-12-26 09:25:03         login      NaN\n",
       "107091  FFFFE36C0F6E92DF 2020-12-22 11:38:57  product_cart      NaN\n",
       "396849  FFFFE36C0F6E92DF 2020-12-23 05:09:13         login      NaN\n",
       "...                  ...                 ...           ...      ...\n",
       "162871  0001710F4DDB1D1B 2020-12-15 17:34:23  product_page      NaN\n",
       "78020   0001710F4DDB1D1B 2020-12-14 20:20:42  product_cart      NaN\n",
       "81415   0001710F4DDB1D1B 2020-12-15 17:34:25  product_cart      NaN\n",
       "307611  0001710F4DDB1D1B 2020-12-15 17:34:22         login      NaN\n",
       "297294  0001710F4DDB1D1B 2020-12-14 20:20:40         login      NaN\n",
       "\n",
       "[377577 rows x 4 columns]"
      ]
     },
     "execution_count": 25,
     "metadata": {},
     "output_type": "execute_result"
    }
   ],
   "source": [
    "# проверка пропусков в details\n",
    "events[events['details'].isna()].sort_values(by='user_id', ascending=False)"
   ]
  },
  {
   "cell_type": "code",
   "execution_count": 26,
   "metadata": {},
   "outputs": [
    {
     "data": {
      "text/plain": [
       "0"
      ]
     },
     "execution_count": 26,
     "metadata": {},
     "output_type": "execute_result"
    }
   ],
   "source": [
    "# подсчет явных дубликатов\n",
    "events.duplicated().sum()"
   ]
  },
  {
   "cell_type": "code",
   "execution_count": 27,
   "metadata": {},
   "outputs": [
    {
     "name": "stdout",
     "output_type": "stream",
     "text": [
      "Начальная дата и время события: 2020-12-07 00:00:33\n",
      "Последняя дата и время события: 2020-12-30 23:36:33\n"
     ]
    }
   ],
   "source": [
    "print('Начальная дата и время события:', events['event_dt'].min())\n",
    "print('Последняя дата и время события:', events['event_dt'].max())"
   ]
  },
  {
   "cell_type": "markdown",
   "metadata": {},
   "source": [
    "**Вывод по таблице events:** \n",
    "- В столбце first_date был изменен тип данных;\n",
    "- Пропуски были обнаружены в столбце details - 377577. Поскольку количество пропусков большое, изменив их есть значительный риск влияния на результаты, поэтому я решила их оставить пока без изменений;\n",
    "- Дубликатов не обнаружено;\n",
    "- Было заявлено, что были взяты действия новых пользователей в период с 7 декабря 2020 по 4 января 2021 года. При проверке в данных не обнаружено пользователей за пять дней. Последняя дата действий была 30 декабря 2020 года."
   ]
  },
  {
   "cell_type": "markdown",
   "metadata": {},
   "source": [
    "### Предобработка таблицы participants \n",
    "таблица участников тестов:\n",
    "- `user_id` — идентификатор пользователя;\n",
    "- `ab_test` — название теста;\n",
    "- `group` — группа пользователя."
   ]
  },
  {
   "cell_type": "code",
   "execution_count": 28,
   "metadata": {},
   "outputs": [
    {
     "data": {
      "text/html": [
       "<div>\n",
       "<style scoped>\n",
       "    .dataframe tbody tr th:only-of-type {\n",
       "        vertical-align: middle;\n",
       "    }\n",
       "\n",
       "    .dataframe tbody tr th {\n",
       "        vertical-align: top;\n",
       "    }\n",
       "\n",
       "    .dataframe thead th {\n",
       "        text-align: right;\n",
       "    }\n",
       "</style>\n",
       "<table border=\"1\" class=\"dataframe\">\n",
       "  <thead>\n",
       "    <tr style=\"text-align: right;\">\n",
       "      <th></th>\n",
       "      <th>user_id</th>\n",
       "      <th>group</th>\n",
       "      <th>ab_test</th>\n",
       "    </tr>\n",
       "  </thead>\n",
       "  <tbody>\n",
       "    <tr>\n",
       "      <th>0</th>\n",
       "      <td>D1ABA3E2887B6A73</td>\n",
       "      <td>A</td>\n",
       "      <td>recommender_system_test</td>\n",
       "    </tr>\n",
       "    <tr>\n",
       "      <th>1</th>\n",
       "      <td>A7A3664BD6242119</td>\n",
       "      <td>A</td>\n",
       "      <td>recommender_system_test</td>\n",
       "    </tr>\n",
       "    <tr>\n",
       "      <th>2</th>\n",
       "      <td>DABC14FDDFADD29E</td>\n",
       "      <td>A</td>\n",
       "      <td>recommender_system_test</td>\n",
       "    </tr>\n",
       "    <tr>\n",
       "      <th>3</th>\n",
       "      <td>04988C5DF189632E</td>\n",
       "      <td>A</td>\n",
       "      <td>recommender_system_test</td>\n",
       "    </tr>\n",
       "    <tr>\n",
       "      <th>4</th>\n",
       "      <td>482F14783456D21B</td>\n",
       "      <td>B</td>\n",
       "      <td>recommender_system_test</td>\n",
       "    </tr>\n",
       "    <tr>\n",
       "      <th>...</th>\n",
       "      <td>...</td>\n",
       "      <td>...</td>\n",
       "      <td>...</td>\n",
       "    </tr>\n",
       "    <tr>\n",
       "      <th>18263</th>\n",
       "      <td>1D302F8688B91781</td>\n",
       "      <td>B</td>\n",
       "      <td>interface_eu_test</td>\n",
       "    </tr>\n",
       "    <tr>\n",
       "      <th>18264</th>\n",
       "      <td>3DE51B726983B657</td>\n",
       "      <td>A</td>\n",
       "      <td>interface_eu_test</td>\n",
       "    </tr>\n",
       "    <tr>\n",
       "      <th>18265</th>\n",
       "      <td>F501F79D332BE86C</td>\n",
       "      <td>A</td>\n",
       "      <td>interface_eu_test</td>\n",
       "    </tr>\n",
       "    <tr>\n",
       "      <th>18266</th>\n",
       "      <td>63FBE257B05F2245</td>\n",
       "      <td>A</td>\n",
       "      <td>interface_eu_test</td>\n",
       "    </tr>\n",
       "    <tr>\n",
       "      <th>18267</th>\n",
       "      <td>79F9ABFB029CF724</td>\n",
       "      <td>B</td>\n",
       "      <td>interface_eu_test</td>\n",
       "    </tr>\n",
       "  </tbody>\n",
       "</table>\n",
       "<p>18268 rows × 3 columns</p>\n",
       "</div>"
      ],
      "text/plain": [
       "                user_id group                  ab_test\n",
       "0      D1ABA3E2887B6A73     A  recommender_system_test\n",
       "1      A7A3664BD6242119     A  recommender_system_test\n",
       "2      DABC14FDDFADD29E     A  recommender_system_test\n",
       "3      04988C5DF189632E     A  recommender_system_test\n",
       "4      482F14783456D21B     B  recommender_system_test\n",
       "...                 ...   ...                      ...\n",
       "18263  1D302F8688B91781     B        interface_eu_test\n",
       "18264  3DE51B726983B657     A        interface_eu_test\n",
       "18265  F501F79D332BE86C     A        interface_eu_test\n",
       "18266  63FBE257B05F2245     A        interface_eu_test\n",
       "18267  79F9ABFB029CF724     B        interface_eu_test\n",
       "\n",
       "[18268 rows x 3 columns]"
      ]
     },
     "execution_count": 28,
     "metadata": {},
     "output_type": "execute_result"
    }
   ],
   "source": [
    "participants"
   ]
  },
  {
   "cell_type": "code",
   "execution_count": 29,
   "metadata": {},
   "outputs": [
    {
     "name": "stdout",
     "output_type": "stream",
     "text": [
      "<class 'pandas.core.frame.DataFrame'>\n",
      "RangeIndex: 18268 entries, 0 to 18267\n",
      "Data columns (total 3 columns):\n",
      " #   Column   Non-Null Count  Dtype \n",
      "---  ------   --------------  ----- \n",
      " 0   user_id  18268 non-null  object\n",
      " 1   group    18268 non-null  object\n",
      " 2   ab_test  18268 non-null  object\n",
      "dtypes: object(3)\n",
      "memory usage: 428.3+ KB\n"
     ]
    }
   ],
   "source": [
    "#проверка типов данных таблицы\n",
    "participants.info()"
   ]
  },
  {
   "cell_type": "code",
   "execution_count": 30,
   "metadata": {},
   "outputs": [
    {
     "data": {
      "text/plain": [
       "user_id    0\n",
       "group      0\n",
       "ab_test    0\n",
       "dtype: int64"
      ]
     },
     "execution_count": 30,
     "metadata": {},
     "output_type": "execute_result"
    }
   ],
   "source": [
    "# проверка пропусков\n",
    "participants.isna().sum()"
   ]
  },
  {
   "cell_type": "code",
   "execution_count": 31,
   "metadata": {},
   "outputs": [
    {
     "data": {
      "text/plain": [
       "0"
      ]
     },
     "execution_count": 31,
     "metadata": {},
     "output_type": "execute_result"
    }
   ],
   "source": [
    "# подсчет явных дубликатов\n",
    "participants.duplicated().sum()"
   ]
  },
  {
   "cell_type": "markdown",
   "metadata": {},
   "source": [
    "**Вывод по таблице participants:** \n",
    "- Необходимости в изменении типа данных не было;\n",
    "- Пропусков не обнаружено;\n",
    "- Дубликатов не обнаружено."
   ]
  },
  {
   "cell_type": "markdown",
   "metadata": {},
   "source": [
    "## Оценка корректности проведения теста"
   ]
  },
  {
   "cell_type": "markdown",
   "metadata": {},
   "source": [
    "Техническое задание\n",
    "- Название теста: `recommender_system_test`;\n",
    "- группы: А — контрольная, B — новая платёжная воронка;\n",
    "- дата запуска: 2020-12-07;\n",
    "- дата остановки набора новых пользователей: 2020-12-21;\n",
    "- дата остановки: 2021-01-04;\n",
    "- аудитория: 15% новых пользователей из региона EU;\n",
    "- назначение теста: тестирование изменений, связанных с внедрением улучшенной рекомендательной системы;\n",
    "- ожидаемое количество участников теста: 6000.\n",
    "- ожидаемый эффект: за 14 дней с момента регистрации пользователи покажут улучшение каждой метрики не менее, чем на 10%:\n",
    "    - конверсии в просмотр карточек товаров — событие `product_page`,\n",
    "    - просмотры корзины — `product_cart`,\n",
    "    - покупки — `purchase`."
   ]
  },
  {
   "cell_type": "code",
   "execution_count": 32,
   "metadata": {},
   "outputs": [
    {
     "data": {
      "text/html": [
       "<div>\n",
       "<style scoped>\n",
       "    .dataframe tbody tr th:only-of-type {\n",
       "        vertical-align: middle;\n",
       "    }\n",
       "\n",
       "    .dataframe tbody tr th {\n",
       "        vertical-align: top;\n",
       "    }\n",
       "\n",
       "    .dataframe thead th {\n",
       "        text-align: right;\n",
       "    }\n",
       "</style>\n",
       "<table border=\"1\" class=\"dataframe\">\n",
       "  <thead>\n",
       "    <tr style=\"text-align: right;\">\n",
       "      <th></th>\n",
       "      <th>user_id</th>\n",
       "      <th>first_date</th>\n",
       "      <th>region</th>\n",
       "      <th>device</th>\n",
       "      <th>group</th>\n",
       "      <th>ab_test</th>\n",
       "    </tr>\n",
       "  </thead>\n",
       "  <tbody>\n",
       "    <tr>\n",
       "      <th>0</th>\n",
       "      <td>D72A72121175D8BE</td>\n",
       "      <td>2020-12-07</td>\n",
       "      <td>EU</td>\n",
       "      <td>PC</td>\n",
       "      <td>A</td>\n",
       "      <td>recommender_system_test</td>\n",
       "    </tr>\n",
       "    <tr>\n",
       "      <th>1</th>\n",
       "      <td>F1C668619DFE6E65</td>\n",
       "      <td>2020-12-07</td>\n",
       "      <td>N.America</td>\n",
       "      <td>Android</td>\n",
       "      <td>NaN</td>\n",
       "      <td>NaN</td>\n",
       "    </tr>\n",
       "    <tr>\n",
       "      <th>2</th>\n",
       "      <td>2E1BF1D4C37EA01F</td>\n",
       "      <td>2020-12-07</td>\n",
       "      <td>EU</td>\n",
       "      <td>PC</td>\n",
       "      <td>A</td>\n",
       "      <td>interface_eu_test</td>\n",
       "    </tr>\n",
       "    <tr>\n",
       "      <th>3</th>\n",
       "      <td>50734A22C0C63768</td>\n",
       "      <td>2020-12-07</td>\n",
       "      <td>EU</td>\n",
       "      <td>iPhone</td>\n",
       "      <td>B</td>\n",
       "      <td>interface_eu_test</td>\n",
       "    </tr>\n",
       "    <tr>\n",
       "      <th>4</th>\n",
       "      <td>E1BDDCE0DAFA2679</td>\n",
       "      <td>2020-12-07</td>\n",
       "      <td>N.America</td>\n",
       "      <td>iPhone</td>\n",
       "      <td>NaN</td>\n",
       "      <td>NaN</td>\n",
       "    </tr>\n",
       "    <tr>\n",
       "      <th>...</th>\n",
       "      <td>...</td>\n",
       "      <td>...</td>\n",
       "      <td>...</td>\n",
       "      <td>...</td>\n",
       "      <td>...</td>\n",
       "      <td>...</td>\n",
       "    </tr>\n",
       "    <tr>\n",
       "      <th>63330</th>\n",
       "      <td>1DB53B933257165D</td>\n",
       "      <td>2020-12-20</td>\n",
       "      <td>EU</td>\n",
       "      <td>Android</td>\n",
       "      <td>NaN</td>\n",
       "      <td>NaN</td>\n",
       "    </tr>\n",
       "    <tr>\n",
       "      <th>63331</th>\n",
       "      <td>538643EB4527ED03</td>\n",
       "      <td>2020-12-20</td>\n",
       "      <td>EU</td>\n",
       "      <td>Mac</td>\n",
       "      <td>NaN</td>\n",
       "      <td>NaN</td>\n",
       "    </tr>\n",
       "    <tr>\n",
       "      <th>63332</th>\n",
       "      <td>7ADEE837D5D8CBBD</td>\n",
       "      <td>2020-12-20</td>\n",
       "      <td>EU</td>\n",
       "      <td>PC</td>\n",
       "      <td>NaN</td>\n",
       "      <td>NaN</td>\n",
       "    </tr>\n",
       "    <tr>\n",
       "      <th>63333</th>\n",
       "      <td>1C7D23927835213F</td>\n",
       "      <td>2020-12-20</td>\n",
       "      <td>EU</td>\n",
       "      <td>iPhone</td>\n",
       "      <td>B</td>\n",
       "      <td>interface_eu_test</td>\n",
       "    </tr>\n",
       "    <tr>\n",
       "      <th>63334</th>\n",
       "      <td>8F04273BB2860229</td>\n",
       "      <td>2020-12-20</td>\n",
       "      <td>EU</td>\n",
       "      <td>Android</td>\n",
       "      <td>NaN</td>\n",
       "      <td>NaN</td>\n",
       "    </tr>\n",
       "  </tbody>\n",
       "</table>\n",
       "<p>63335 rows × 6 columns</p>\n",
       "</div>"
      ],
      "text/plain": [
       "                user_id first_date     region   device group  \\\n",
       "0      D72A72121175D8BE 2020-12-07         EU       PC     A   \n",
       "1      F1C668619DFE6E65 2020-12-07  N.America  Android   NaN   \n",
       "2      2E1BF1D4C37EA01F 2020-12-07         EU       PC     A   \n",
       "3      50734A22C0C63768 2020-12-07         EU   iPhone     B   \n",
       "4      E1BDDCE0DAFA2679 2020-12-07  N.America   iPhone   NaN   \n",
       "...                 ...        ...        ...      ...   ...   \n",
       "63330  1DB53B933257165D 2020-12-20         EU  Android   NaN   \n",
       "63331  538643EB4527ED03 2020-12-20         EU      Mac   NaN   \n",
       "63332  7ADEE837D5D8CBBD 2020-12-20         EU       PC   NaN   \n",
       "63333  1C7D23927835213F 2020-12-20         EU   iPhone     B   \n",
       "63334  8F04273BB2860229 2020-12-20         EU  Android   NaN   \n",
       "\n",
       "                       ab_test  \n",
       "0      recommender_system_test  \n",
       "1                          NaN  \n",
       "2            interface_eu_test  \n",
       "3            interface_eu_test  \n",
       "4                          NaN  \n",
       "...                        ...  \n",
       "63330                      NaN  \n",
       "63331                      NaN  \n",
       "63332                      NaN  \n",
       "63333        interface_eu_test  \n",
       "63334                      NaN  \n",
       "\n",
       "[63335 rows x 6 columns]"
      ]
     },
     "execution_count": 32,
     "metadata": {},
     "output_type": "execute_result"
    }
   ],
   "source": [
    "#соединила две таблицы по user_id: new_users и participants \n",
    "merge_data = new_users.merge(participants, on='user_id', how='left')\n",
    "merge_data"
   ]
  },
  {
   "cell_type": "code",
   "execution_count": 33,
   "metadata": {},
   "outputs": [
    {
     "data": {
      "text/html": [
       "<div>\n",
       "<style scoped>\n",
       "    .dataframe tbody tr th:only-of-type {\n",
       "        vertical-align: middle;\n",
       "    }\n",
       "\n",
       "    .dataframe tbody tr th {\n",
       "        vertical-align: top;\n",
       "    }\n",
       "\n",
       "    .dataframe thead th {\n",
       "        text-align: right;\n",
       "    }\n",
       "</style>\n",
       "<table border=\"1\" class=\"dataframe\">\n",
       "  <thead>\n",
       "    <tr style=\"text-align: right;\">\n",
       "      <th></th>\n",
       "      <th>user_id</th>\n",
       "      <th>first_date</th>\n",
       "      <th>region</th>\n",
       "      <th>device</th>\n",
       "      <th>group</th>\n",
       "      <th>ab_test</th>\n",
       "      <th>event_dt</th>\n",
       "      <th>event_name</th>\n",
       "      <th>details</th>\n",
       "    </tr>\n",
       "  </thead>\n",
       "  <tbody>\n",
       "    <tr>\n",
       "      <th>0</th>\n",
       "      <td>D72A72121175D8BE</td>\n",
       "      <td>2020-12-07</td>\n",
       "      <td>EU</td>\n",
       "      <td>PC</td>\n",
       "      <td>A</td>\n",
       "      <td>recommender_system_test</td>\n",
       "      <td>2020-12-07 21:52:10</td>\n",
       "      <td>product_page</td>\n",
       "      <td>NaN</td>\n",
       "    </tr>\n",
       "    <tr>\n",
       "      <th>1</th>\n",
       "      <td>D72A72121175D8BE</td>\n",
       "      <td>2020-12-07</td>\n",
       "      <td>EU</td>\n",
       "      <td>PC</td>\n",
       "      <td>A</td>\n",
       "      <td>recommender_system_test</td>\n",
       "      <td>2020-12-07 21:52:07</td>\n",
       "      <td>login</td>\n",
       "      <td>NaN</td>\n",
       "    </tr>\n",
       "    <tr>\n",
       "      <th>2</th>\n",
       "      <td>F1C668619DFE6E65</td>\n",
       "      <td>2020-12-07</td>\n",
       "      <td>N.America</td>\n",
       "      <td>Android</td>\n",
       "      <td>NaN</td>\n",
       "      <td>NaN</td>\n",
       "      <td>2020-12-07 16:38:09</td>\n",
       "      <td>product_page</td>\n",
       "      <td>NaN</td>\n",
       "    </tr>\n",
       "    <tr>\n",
       "      <th>3</th>\n",
       "      <td>F1C668619DFE6E65</td>\n",
       "      <td>2020-12-07</td>\n",
       "      <td>N.America</td>\n",
       "      <td>Android</td>\n",
       "      <td>NaN</td>\n",
       "      <td>NaN</td>\n",
       "      <td>2020-12-08 02:02:34</td>\n",
       "      <td>product_page</td>\n",
       "      <td>NaN</td>\n",
       "    </tr>\n",
       "    <tr>\n",
       "      <th>4</th>\n",
       "      <td>F1C668619DFE6E65</td>\n",
       "      <td>2020-12-07</td>\n",
       "      <td>N.America</td>\n",
       "      <td>Android</td>\n",
       "      <td>NaN</td>\n",
       "      <td>NaN</td>\n",
       "      <td>2020-12-23 14:35:41</td>\n",
       "      <td>product_page</td>\n",
       "      <td>NaN</td>\n",
       "    </tr>\n",
       "    <tr>\n",
       "      <th>...</th>\n",
       "      <td>...</td>\n",
       "      <td>...</td>\n",
       "      <td>...</td>\n",
       "      <td>...</td>\n",
       "      <td>...</td>\n",
       "      <td>...</td>\n",
       "      <td>...</td>\n",
       "      <td>...</td>\n",
       "      <td>...</td>\n",
       "    </tr>\n",
       "    <tr>\n",
       "      <th>449951</th>\n",
       "      <td>1C7D23927835213F</td>\n",
       "      <td>2020-12-20</td>\n",
       "      <td>EU</td>\n",
       "      <td>iPhone</td>\n",
       "      <td>B</td>\n",
       "      <td>interface_eu_test</td>\n",
       "      <td>2020-12-23 15:47:23</td>\n",
       "      <td>login</td>\n",
       "      <td>NaN</td>\n",
       "    </tr>\n",
       "    <tr>\n",
       "      <th>449952</th>\n",
       "      <td>1C7D23927835213F</td>\n",
       "      <td>2020-12-20</td>\n",
       "      <td>EU</td>\n",
       "      <td>iPhone</td>\n",
       "      <td>B</td>\n",
       "      <td>interface_eu_test</td>\n",
       "      <td>2020-12-25 12:31:04</td>\n",
       "      <td>login</td>\n",
       "      <td>NaN</td>\n",
       "    </tr>\n",
       "    <tr>\n",
       "      <th>449953</th>\n",
       "      <td>1C7D23927835213F</td>\n",
       "      <td>2020-12-20</td>\n",
       "      <td>EU</td>\n",
       "      <td>iPhone</td>\n",
       "      <td>B</td>\n",
       "      <td>interface_eu_test</td>\n",
       "      <td>2020-12-27 03:51:35</td>\n",
       "      <td>login</td>\n",
       "      <td>NaN</td>\n",
       "    </tr>\n",
       "    <tr>\n",
       "      <th>449954</th>\n",
       "      <td>8F04273BB2860229</td>\n",
       "      <td>2020-12-20</td>\n",
       "      <td>EU</td>\n",
       "      <td>Android</td>\n",
       "      <td>NaN</td>\n",
       "      <td>NaN</td>\n",
       "      <td>2020-12-20 03:17:17</td>\n",
       "      <td>product_cart</td>\n",
       "      <td>NaN</td>\n",
       "    </tr>\n",
       "    <tr>\n",
       "      <th>449955</th>\n",
       "      <td>8F04273BB2860229</td>\n",
       "      <td>2020-12-20</td>\n",
       "      <td>EU</td>\n",
       "      <td>Android</td>\n",
       "      <td>NaN</td>\n",
       "      <td>NaN</td>\n",
       "      <td>2020-12-20 03:17:17</td>\n",
       "      <td>login</td>\n",
       "      <td>NaN</td>\n",
       "    </tr>\n",
       "  </tbody>\n",
       "</table>\n",
       "<p>449956 rows × 9 columns</p>\n",
       "</div>"
      ],
      "text/plain": [
       "                 user_id first_date     region   device group  \\\n",
       "0       D72A72121175D8BE 2020-12-07         EU       PC     A   \n",
       "1       D72A72121175D8BE 2020-12-07         EU       PC     A   \n",
       "2       F1C668619DFE6E65 2020-12-07  N.America  Android   NaN   \n",
       "3       F1C668619DFE6E65 2020-12-07  N.America  Android   NaN   \n",
       "4       F1C668619DFE6E65 2020-12-07  N.America  Android   NaN   \n",
       "...                  ...        ...        ...      ...   ...   \n",
       "449951  1C7D23927835213F 2020-12-20         EU   iPhone     B   \n",
       "449952  1C7D23927835213F 2020-12-20         EU   iPhone     B   \n",
       "449953  1C7D23927835213F 2020-12-20         EU   iPhone     B   \n",
       "449954  8F04273BB2860229 2020-12-20         EU  Android   NaN   \n",
       "449955  8F04273BB2860229 2020-12-20         EU  Android   NaN   \n",
       "\n",
       "                        ab_test            event_dt    event_name  details  \n",
       "0       recommender_system_test 2020-12-07 21:52:10  product_page      NaN  \n",
       "1       recommender_system_test 2020-12-07 21:52:07         login      NaN  \n",
       "2                           NaN 2020-12-07 16:38:09  product_page      NaN  \n",
       "3                           NaN 2020-12-08 02:02:34  product_page      NaN  \n",
       "4                           NaN 2020-12-23 14:35:41  product_page      NaN  \n",
       "...                         ...                 ...           ...      ...  \n",
       "449951        interface_eu_test 2020-12-23 15:47:23         login      NaN  \n",
       "449952        interface_eu_test 2020-12-25 12:31:04         login      NaN  \n",
       "449953        interface_eu_test 2020-12-27 03:51:35         login      NaN  \n",
       "449954                      NaN 2020-12-20 03:17:17  product_cart      NaN  \n",
       "449955                      NaN 2020-12-20 03:17:17         login      NaN  \n",
       "\n",
       "[449956 rows x 9 columns]"
      ]
     },
     "execution_count": 33,
     "metadata": {},
     "output_type": "execute_result"
    }
   ],
   "source": [
    "#добавила в новую таблицу - таблицу events\n",
    "merge_data = merge_data.merge(events, on='user_id', how='left')\n",
    "merge_data"
   ]
  },
  {
   "cell_type": "code",
   "execution_count": 34,
   "metadata": {},
   "outputs": [
    {
     "name": "stdout",
     "output_type": "stream",
     "text": [
      "Количество пользователей: 61733\n"
     ]
    }
   ],
   "source": [
    "#подсчет количества уникальных пользователей\n",
    "merge_data_id = merge_data['user_id'].nunique()\n",
    "print('Количество пользователей:', merge_data_id)"
   ]
  },
  {
   "cell_type": "code",
   "execution_count": 35,
   "metadata": {},
   "outputs": [
    {
     "data": {
      "text/html": [
       "<div>\n",
       "<style scoped>\n",
       "    .dataframe tbody tr th:only-of-type {\n",
       "        vertical-align: middle;\n",
       "    }\n",
       "\n",
       "    .dataframe tbody tr th {\n",
       "        vertical-align: top;\n",
       "    }\n",
       "\n",
       "    .dataframe thead th {\n",
       "        text-align: right;\n",
       "    }\n",
       "</style>\n",
       "<table border=\"1\" class=\"dataframe\">\n",
       "  <thead>\n",
       "    <tr style=\"text-align: right;\">\n",
       "      <th></th>\n",
       "      <th>ab_test</th>\n",
       "      <th>user_id</th>\n",
       "      <th>percent</th>\n",
       "    </tr>\n",
       "  </thead>\n",
       "  <tbody>\n",
       "    <tr>\n",
       "      <th>0</th>\n",
       "      <td>interface_eu_test</td>\n",
       "      <td>11567</td>\n",
       "      <td>63.3</td>\n",
       "    </tr>\n",
       "    <tr>\n",
       "      <th>1</th>\n",
       "      <td>recommender_system_test</td>\n",
       "      <td>6701</td>\n",
       "      <td>36.7</td>\n",
       "    </tr>\n",
       "  </tbody>\n",
       "</table>\n",
       "</div>"
      ],
      "text/plain": [
       "                   ab_test  user_id  percent\n",
       "0        interface_eu_test    11567     63.3\n",
       "1  recommender_system_test     6701     36.7"
      ]
     },
     "execution_count": 35,
     "metadata": {},
     "output_type": "execute_result"
    }
   ],
   "source": [
    "#подсчет количества уникальных пользователей в тестах\n",
    "merge_data_test = merge_data.groupby(['ab_test']).agg({'user_id': 'nunique'}).reset_index()\n",
    "merge_data_test['percent'] = round((merge_data_test['user_id']/merge_data_test['user_id'].sum()),3)*100\n",
    "merge_data_test"
   ]
  },
  {
   "cell_type": "code",
   "execution_count": 36,
   "metadata": {},
   "outputs": [
    {
     "data": {
      "text/html": [
       "<div>\n",
       "<style scoped>\n",
       "    .dataframe tbody tr th:only-of-type {\n",
       "        vertical-align: middle;\n",
       "    }\n",
       "\n",
       "    .dataframe tbody tr th {\n",
       "        vertical-align: top;\n",
       "    }\n",
       "\n",
       "    .dataframe thead th {\n",
       "        text-align: right;\n",
       "    }\n",
       "</style>\n",
       "<table border=\"1\" class=\"dataframe\">\n",
       "  <thead>\n",
       "    <tr style=\"text-align: right;\">\n",
       "      <th></th>\n",
       "      <th>group</th>\n",
       "      <th>user_id</th>\n",
       "      <th>percent</th>\n",
       "    </tr>\n",
       "  </thead>\n",
       "  <tbody>\n",
       "    <tr>\n",
       "      <th>0</th>\n",
       "      <td>A</td>\n",
       "      <td>5831</td>\n",
       "      <td>50.4</td>\n",
       "    </tr>\n",
       "    <tr>\n",
       "      <th>1</th>\n",
       "      <td>B</td>\n",
       "      <td>5736</td>\n",
       "      <td>49.6</td>\n",
       "    </tr>\n",
       "  </tbody>\n",
       "</table>\n",
       "</div>"
      ],
      "text/plain": [
       "  group  user_id  percent\n",
       "0     A     5831     50.4\n",
       "1     B     5736     49.6"
      ]
     },
     "execution_count": 36,
     "metadata": {},
     "output_type": "execute_result"
    }
   ],
   "source": [
    "#подсчет количества пользователей и их процент в тесте inter_test_participants по группам\n",
    "inter_test_participants = merge_data[merge_data['ab_test'] == 'interface_eu_test'].groupby('group')['user_id'].nunique().reset_index()\n",
    "inter_test_participants['percent'] = round((inter_test_participants['user_id']/inter_test_participants['user_id'].sum()),3)*100\n",
    "inter_test_participants"
   ]
  },
  {
   "cell_type": "code",
   "execution_count": 37,
   "metadata": {
    "scrolled": true
   },
   "outputs": [
    {
     "data": {
      "text/html": [
       "<div>\n",
       "<style scoped>\n",
       "    .dataframe tbody tr th:only-of-type {\n",
       "        vertical-align: middle;\n",
       "    }\n",
       "\n",
       "    .dataframe tbody tr th {\n",
       "        vertical-align: top;\n",
       "    }\n",
       "\n",
       "    .dataframe thead th {\n",
       "        text-align: right;\n",
       "    }\n",
       "</style>\n",
       "<table border=\"1\" class=\"dataframe\">\n",
       "  <thead>\n",
       "    <tr style=\"text-align: right;\">\n",
       "      <th></th>\n",
       "      <th>group</th>\n",
       "      <th>user_id</th>\n",
       "      <th>percent</th>\n",
       "    </tr>\n",
       "  </thead>\n",
       "  <tbody>\n",
       "    <tr>\n",
       "      <th>0</th>\n",
       "      <td>A</td>\n",
       "      <td>3824</td>\n",
       "      <td>57.1</td>\n",
       "    </tr>\n",
       "    <tr>\n",
       "      <th>1</th>\n",
       "      <td>B</td>\n",
       "      <td>2877</td>\n",
       "      <td>42.9</td>\n",
       "    </tr>\n",
       "  </tbody>\n",
       "</table>\n",
       "</div>"
      ],
      "text/plain": [
       "  group  user_id  percent\n",
       "0     A     3824     57.1\n",
       "1     B     2877     42.9"
      ]
     },
     "execution_count": 37,
     "metadata": {},
     "output_type": "execute_result"
    }
   ],
   "source": [
    "#подсчет количества пользователей и их процент в тесте recommender_system_test по группам\n",
    "rec_test_participants = merge_data[merge_data['ab_test'] == 'recommender_system_test'].groupby('group')['user_id'].nunique().reset_index()\n",
    "rec_test_participants['percent'] = round((rec_test_participants['user_id']/rec_test_participants['user_id'].sum()),3)*100\n",
    "rec_test_participants"
   ]
  },
  {
   "cell_type": "markdown",
   "metadata": {},
   "source": [
    "**Проверка:** Соединила три таблицы. Количество уникальных пользователей 61733. Из них в теста участвуют 18268 пользователей. \n",
    "В отобранном в задании тестем (recommender_system_test) участвуют 6701 пользователей, что чуть выше ожидаемого (6000).\n",
    "Распределение количества пользователей в каждой группе теста относительно равномерное."
   ]
  },
  {
   "cell_type": "code",
   "execution_count": 38,
   "metadata": {
    "scrolled": false
   },
   "outputs": [
    {
     "data": {
      "text/html": [
       "<div>\n",
       "<style scoped>\n",
       "    .dataframe tbody tr th:only-of-type {\n",
       "        vertical-align: middle;\n",
       "    }\n",
       "\n",
       "    .dataframe tbody tr th {\n",
       "        vertical-align: top;\n",
       "    }\n",
       "\n",
       "    .dataframe thead th {\n",
       "        text-align: right;\n",
       "    }\n",
       "</style>\n",
       "<table border=\"1\" class=\"dataframe\">\n",
       "  <thead>\n",
       "    <tr style=\"text-align: right;\">\n",
       "      <th></th>\n",
       "      <th>user_id</th>\n",
       "      <th>ab_test</th>\n",
       "      <th>group</th>\n",
       "    </tr>\n",
       "  </thead>\n",
       "  <tbody>\n",
       "    <tr>\n",
       "      <th>0</th>\n",
       "      <td>0002CE61FF2C4011</td>\n",
       "      <td>[interface_eu_test]</td>\n",
       "      <td>[A]</td>\n",
       "    </tr>\n",
       "    <tr>\n",
       "      <th>1</th>\n",
       "      <td>000ABE35EE11412F</td>\n",
       "      <td>[recommender_system_test]</td>\n",
       "      <td>[A]</td>\n",
       "    </tr>\n",
       "    <tr>\n",
       "      <th>2</th>\n",
       "      <td>001064FEAAB631A1</td>\n",
       "      <td>[recommender_system_test, interface_eu_test]</td>\n",
       "      <td>[B]</td>\n",
       "    </tr>\n",
       "    <tr>\n",
       "      <th>3</th>\n",
       "      <td>0010A1C096941592</td>\n",
       "      <td>[recommender_system_test]</td>\n",
       "      <td>[A]</td>\n",
       "    </tr>\n",
       "    <tr>\n",
       "      <th>4</th>\n",
       "      <td>001C05E87D336C59</td>\n",
       "      <td>[recommender_system_test]</td>\n",
       "      <td>[A]</td>\n",
       "    </tr>\n",
       "    <tr>\n",
       "      <th>...</th>\n",
       "      <td>...</td>\n",
       "      <td>...</td>\n",
       "      <td>...</td>\n",
       "    </tr>\n",
       "    <tr>\n",
       "      <th>16661</th>\n",
       "      <td>FFE858A7845F005E</td>\n",
       "      <td>[recommender_system_test]</td>\n",
       "      <td>[A]</td>\n",
       "    </tr>\n",
       "    <tr>\n",
       "      <th>16662</th>\n",
       "      <td>FFED90241D04503F</td>\n",
       "      <td>[recommender_system_test, interface_eu_test]</td>\n",
       "      <td>[B]</td>\n",
       "    </tr>\n",
       "    <tr>\n",
       "      <th>16663</th>\n",
       "      <td>FFEFC0E55C1CCD4F</td>\n",
       "      <td>[interface_eu_test]</td>\n",
       "      <td>[B]</td>\n",
       "    </tr>\n",
       "    <tr>\n",
       "      <th>16664</th>\n",
       "      <td>FFF28D02B1EACBE1</td>\n",
       "      <td>[recommender_system_test, interface_eu_test]</td>\n",
       "      <td>[B, A]</td>\n",
       "    </tr>\n",
       "    <tr>\n",
       "      <th>16665</th>\n",
       "      <td>FFF58BC33966EB51</td>\n",
       "      <td>[interface_eu_test]</td>\n",
       "      <td>[B]</td>\n",
       "    </tr>\n",
       "  </tbody>\n",
       "</table>\n",
       "<p>16666 rows × 3 columns</p>\n",
       "</div>"
      ],
      "text/plain": [
       "                user_id                                       ab_test   group\n",
       "0      0002CE61FF2C4011                           [interface_eu_test]     [A]\n",
       "1      000ABE35EE11412F                     [recommender_system_test]     [A]\n",
       "2      001064FEAAB631A1  [recommender_system_test, interface_eu_test]     [B]\n",
       "3      0010A1C096941592                     [recommender_system_test]     [A]\n",
       "4      001C05E87D336C59                     [recommender_system_test]     [A]\n",
       "...                 ...                                           ...     ...\n",
       "16661  FFE858A7845F005E                     [recommender_system_test]     [A]\n",
       "16662  FFED90241D04503F  [recommender_system_test, interface_eu_test]     [B]\n",
       "16663  FFEFC0E55C1CCD4F                           [interface_eu_test]     [B]\n",
       "16664  FFF28D02B1EACBE1  [recommender_system_test, interface_eu_test]  [B, A]\n",
       "16665  FFF58BC33966EB51                           [interface_eu_test]     [B]\n",
       "\n",
       "[16666 rows x 3 columns]"
      ]
     },
     "execution_count": 38,
     "metadata": {},
     "output_type": "execute_result"
    }
   ],
   "source": [
    "# просмотрела кто входит в какие группы тестов\n",
    "both_tests = merge_data[(merge_data['ab_test'] == 'recommender_system_test')|(merge_data['ab_test'] == 'interface_eu_test')]\n",
    "test_group_count = both_tests.groupby('user_id').agg({'ab_test': 'unique', 'group': 'unique'}).reset_index()\n",
    "test_group_count"
   ]
  },
  {
   "cell_type": "code",
   "execution_count": 39,
   "metadata": {
    "scrolled": true
   },
   "outputs": [
    {
     "data": {
      "text/html": [
       "<div>\n",
       "<style scoped>\n",
       "    .dataframe tbody tr th:only-of-type {\n",
       "        vertical-align: middle;\n",
       "    }\n",
       "\n",
       "    .dataframe tbody tr th {\n",
       "        vertical-align: top;\n",
       "    }\n",
       "\n",
       "    .dataframe thead th {\n",
       "        text-align: right;\n",
       "    }\n",
       "</style>\n",
       "<table border=\"1\" class=\"dataframe\">\n",
       "  <thead>\n",
       "    <tr style=\"text-align: right;\">\n",
       "      <th></th>\n",
       "      <th>user_id</th>\n",
       "      <th>ab_test</th>\n",
       "      <th>group</th>\n",
       "    </tr>\n",
       "  </thead>\n",
       "  <tbody>\n",
       "    <tr>\n",
       "      <th>0</th>\n",
       "      <td>0082295A41A867B5</td>\n",
       "      <td>[recommender_system_test, interface_eu_test]</td>\n",
       "      <td>2</td>\n",
       "    </tr>\n",
       "    <tr>\n",
       "      <th>1</th>\n",
       "      <td>00E68F103C66C1F7</td>\n",
       "      <td>[recommender_system_test, interface_eu_test]</td>\n",
       "      <td>2</td>\n",
       "    </tr>\n",
       "    <tr>\n",
       "      <th>2</th>\n",
       "      <td>02313B9E82255F47</td>\n",
       "      <td>[recommender_system_test, interface_eu_test]</td>\n",
       "      <td>2</td>\n",
       "    </tr>\n",
       "    <tr>\n",
       "      <th>3</th>\n",
       "      <td>023D4A062F40F10B</td>\n",
       "      <td>[recommender_system_test, interface_eu_test]</td>\n",
       "      <td>2</td>\n",
       "    </tr>\n",
       "    <tr>\n",
       "      <th>4</th>\n",
       "      <td>040F6DD6E792D0AB</td>\n",
       "      <td>[recommender_system_test, interface_eu_test]</td>\n",
       "      <td>2</td>\n",
       "    </tr>\n",
       "    <tr>\n",
       "      <th>...</th>\n",
       "      <td>...</td>\n",
       "      <td>...</td>\n",
       "      <td>...</td>\n",
       "    </tr>\n",
       "    <tr>\n",
       "      <th>771</th>\n",
       "      <td>FEA0C585A53E7027</td>\n",
       "      <td>[recommender_system_test, interface_eu_test]</td>\n",
       "      <td>2</td>\n",
       "    </tr>\n",
       "    <tr>\n",
       "      <th>772</th>\n",
       "      <td>FEC0BCA6C323872F</td>\n",
       "      <td>[recommender_system_test, interface_eu_test]</td>\n",
       "      <td>2</td>\n",
       "    </tr>\n",
       "    <tr>\n",
       "      <th>773</th>\n",
       "      <td>FEE7040D7D2F2968</td>\n",
       "      <td>[recommender_system_test, interface_eu_test]</td>\n",
       "      <td>2</td>\n",
       "    </tr>\n",
       "    <tr>\n",
       "      <th>774</th>\n",
       "      <td>FFC53FD45DDA5EE8</td>\n",
       "      <td>[recommender_system_test, interface_eu_test]</td>\n",
       "      <td>2</td>\n",
       "    </tr>\n",
       "    <tr>\n",
       "      <th>775</th>\n",
       "      <td>FFF28D02B1EACBE1</td>\n",
       "      <td>[recommender_system_test, interface_eu_test]</td>\n",
       "      <td>2</td>\n",
       "    </tr>\n",
       "  </tbody>\n",
       "</table>\n",
       "<p>776 rows × 3 columns</p>\n",
       "</div>"
      ],
      "text/plain": [
       "              user_id                                       ab_test  group\n",
       "0    0082295A41A867B5  [recommender_system_test, interface_eu_test]      2\n",
       "1    00E68F103C66C1F7  [recommender_system_test, interface_eu_test]      2\n",
       "2    02313B9E82255F47  [recommender_system_test, interface_eu_test]      2\n",
       "3    023D4A062F40F10B  [recommender_system_test, interface_eu_test]      2\n",
       "4    040F6DD6E792D0AB  [recommender_system_test, interface_eu_test]      2\n",
       "..                ...                                           ...    ...\n",
       "771  FEA0C585A53E7027  [recommender_system_test, interface_eu_test]      2\n",
       "772  FEC0BCA6C323872F  [recommender_system_test, interface_eu_test]      2\n",
       "773  FEE7040D7D2F2968  [recommender_system_test, interface_eu_test]      2\n",
       "774  FFC53FD45DDA5EE8  [recommender_system_test, interface_eu_test]      2\n",
       "775  FFF28D02B1EACBE1  [recommender_system_test, interface_eu_test]      2\n",
       "\n",
       "[776 rows x 3 columns]"
      ]
     },
     "execution_count": 39,
     "metadata": {},
     "output_type": "execute_result"
    }
   ],
   "source": [
    "# подсчёт пользователей, которые входят в две группы\n",
    "two_test_group = (\n",
    "merge_data\n",
    "    .groupby('user_id')\n",
    "    .agg({'ab_test': 'unique','group' : 'nunique'})\n",
    "    .query('group>1')\n",
    ")\n",
    "two_test_group.reset_index()\n"
   ]
  },
  {
   "cell_type": "code",
   "execution_count": 40,
   "metadata": {},
   "outputs": [
    {
     "data": {
      "text/plain": [
       "0"
      ]
     },
     "execution_count": 40,
     "metadata": {},
     "output_type": "execute_result"
    }
   ],
   "source": [
    "#есть ли значения, которые встречаются в обеих тестовых группах в тесте recommender_system_test\n",
    "len(np.intersect1d(merge_data[merge_data['ab_test'] == 'recommender_system_test'].query('group == \"A\"')['user_id'].unique(), merge_data[merge_data['ab_test'] == 'recommender_system_test'].query('group == \"B\"')['user_id'].unique()))\n"
   ]
  },
  {
   "cell_type": "code",
   "execution_count": 41,
   "metadata": {},
   "outputs": [
    {
     "data": {
      "text/plain": [
       "0"
      ]
     },
     "execution_count": 41,
     "metadata": {},
     "output_type": "execute_result"
    }
   ],
   "source": [
    "#есть ли значения, которые встречаются в обеих тестовых группах в тесте interface_eu_test\n",
    "len(np.intersect1d(merge_data[merge_data['ab_test'] == 'interface_eu_test'].query('group == \"A\"')['user_id'].unique(), merge_data[merge_data['ab_test'] == 'interface_eu_test'].query('group == \"B\"')['user_id'].unique()))\n"
   ]
  },
  {
   "cell_type": "markdown",
   "metadata": {},
   "source": [
    "**Проверка:** Всего 16666 пользователей, принимающие участие в тестах, входят в одну или две группы. Из них в две группы входят 776 пользователей. При проверке значений в каждом тесте, не было найдено тех, которые встречаются и в А и в В тестовых группах. Все пользователи уникальны в каждой группе двух тестов."
   ]
  },
  {
   "cell_type": "code",
   "execution_count": 42,
   "metadata": {
    "scrolled": false
   },
   "outputs": [
    {
     "data": {
      "text/html": [
       "<div>\n",
       "<style scoped>\n",
       "    .dataframe tbody tr th:only-of-type {\n",
       "        vertical-align: middle;\n",
       "    }\n",
       "\n",
       "    .dataframe tbody tr th {\n",
       "        vertical-align: top;\n",
       "    }\n",
       "\n",
       "    .dataframe thead th {\n",
       "        text-align: right;\n",
       "    }\n",
       "</style>\n",
       "<table border=\"1\" class=\"dataframe\">\n",
       "  <thead>\n",
       "    <tr style=\"text-align: right;\">\n",
       "      <th></th>\n",
       "      <th>region</th>\n",
       "      <th>user_id</th>\n",
       "      <th>percent</th>\n",
       "    </tr>\n",
       "  </thead>\n",
       "  <tbody>\n",
       "    <tr>\n",
       "      <th>0</th>\n",
       "      <td>APAC</td>\n",
       "      <td>3153</td>\n",
       "      <td>5.1</td>\n",
       "    </tr>\n",
       "    <tr>\n",
       "      <th>1</th>\n",
       "      <td>CIS</td>\n",
       "      <td>3155</td>\n",
       "      <td>5.1</td>\n",
       "    </tr>\n",
       "    <tr>\n",
       "      <th>2</th>\n",
       "      <td>EU</td>\n",
       "      <td>46270</td>\n",
       "      <td>75.0</td>\n",
       "    </tr>\n",
       "    <tr>\n",
       "      <th>3</th>\n",
       "      <td>N.America</td>\n",
       "      <td>9155</td>\n",
       "      <td>14.8</td>\n",
       "    </tr>\n",
       "  </tbody>\n",
       "</table>\n",
       "</div>"
      ],
      "text/plain": [
       "      region  user_id  percent\n",
       "0       APAC     3153      5.1\n",
       "1        CIS     3155      5.1\n",
       "2         EU    46270     75.0\n",
       "3  N.America     9155     14.8"
      ]
     },
     "execution_count": 42,
     "metadata": {},
     "output_type": "execute_result"
    }
   ],
   "source": [
    "#посчитала количество пользователей и их процент по регионам\n",
    "merge_data_region = merge_data.pivot_table(index='region', values='user_id', aggfunc='nunique').reset_index()\n",
    "merge_data_region['percent'] = round((merge_data_region['user_id']/merge_data_region['user_id'].sum()),3)*100\n",
    "merge_data_region"
   ]
  },
  {
   "cell_type": "code",
   "execution_count": 43,
   "metadata": {},
   "outputs": [
    {
     "name": "stdout",
     "output_type": "stream",
     "text": [
      "Количество пользователей с EU от общего числа пользователей: 46270\n"
     ]
    }
   ],
   "source": [
    "#отфильтровала из обшего количества пользователей, пользователей с EU\n",
    "users_eu = merge_data[merge_data['region'] == 'EU']\n",
    "users_eu_count =users_eu['user_id'].nunique()\n",
    "print('Количество пользователей с EU от общего числа пользователей:', users_eu_count)"
   ]
  },
  {
   "cell_type": "markdown",
   "metadata": {},
   "source": [
    "**Проверка:** При проверки аудитории, вместо заявленных 15% новых пользователей из региона EU, были выявлены 75%. Более того, помимо завляенного региона EU были трех других регионов, которые составили 25%."
   ]
  },
  {
   "cell_type": "code",
   "execution_count": 44,
   "metadata": {
    "scrolled": true
   },
   "outputs": [
    {
     "data": {
      "text/html": [
       "<div>\n",
       "<style scoped>\n",
       "    .dataframe tbody tr th:only-of-type {\n",
       "        vertical-align: middle;\n",
       "    }\n",
       "\n",
       "    .dataframe tbody tr th {\n",
       "        vertical-align: top;\n",
       "    }\n",
       "\n",
       "    .dataframe thead th {\n",
       "        text-align: right;\n",
       "    }\n",
       "</style>\n",
       "<table border=\"1\" class=\"dataframe\">\n",
       "  <thead>\n",
       "    <tr style=\"text-align: right;\">\n",
       "      <th></th>\n",
       "      <th>user_id</th>\n",
       "      <th>first_date</th>\n",
       "      <th>region</th>\n",
       "      <th>device</th>\n",
       "    </tr>\n",
       "  </thead>\n",
       "  <tbody>\n",
       "    <tr>\n",
       "      <th>5596</th>\n",
       "      <td>F0D1A8FA8FE991C0</td>\n",
       "      <td>2020-12-14</td>\n",
       "      <td>EU</td>\n",
       "      <td>Android</td>\n",
       "    </tr>\n",
       "    <tr>\n",
       "      <th>5597</th>\n",
       "      <td>110698ABD2231897</td>\n",
       "      <td>2020-12-14</td>\n",
       "      <td>EU</td>\n",
       "      <td>Android</td>\n",
       "    </tr>\n",
       "    <tr>\n",
       "      <th>5598</th>\n",
       "      <td>E8C28FE61CA9EE81</td>\n",
       "      <td>2020-12-14</td>\n",
       "      <td>EU</td>\n",
       "      <td>Android</td>\n",
       "    </tr>\n",
       "    <tr>\n",
       "      <th>5599</th>\n",
       "      <td>2DEF2EDF78F1EF61</td>\n",
       "      <td>2020-12-14</td>\n",
       "      <td>EU</td>\n",
       "      <td>iPhone</td>\n",
       "    </tr>\n",
       "    <tr>\n",
       "      <th>5600</th>\n",
       "      <td>2C65B1FF2DD263D9</td>\n",
       "      <td>2020-12-14</td>\n",
       "      <td>EU</td>\n",
       "      <td>Android</td>\n",
       "    </tr>\n",
       "    <tr>\n",
       "      <th>...</th>\n",
       "      <td>...</td>\n",
       "      <td>...</td>\n",
       "      <td>...</td>\n",
       "      <td>...</td>\n",
       "    </tr>\n",
       "    <tr>\n",
       "      <th>61728</th>\n",
       "      <td>1DB53B933257165D</td>\n",
       "      <td>2020-12-20</td>\n",
       "      <td>EU</td>\n",
       "      <td>Android</td>\n",
       "    </tr>\n",
       "    <tr>\n",
       "      <th>61729</th>\n",
       "      <td>538643EB4527ED03</td>\n",
       "      <td>2020-12-20</td>\n",
       "      <td>EU</td>\n",
       "      <td>Mac</td>\n",
       "    </tr>\n",
       "    <tr>\n",
       "      <th>61730</th>\n",
       "      <td>7ADEE837D5D8CBBD</td>\n",
       "      <td>2020-12-20</td>\n",
       "      <td>EU</td>\n",
       "      <td>PC</td>\n",
       "    </tr>\n",
       "    <tr>\n",
       "      <th>61731</th>\n",
       "      <td>1C7D23927835213F</td>\n",
       "      <td>2020-12-20</td>\n",
       "      <td>EU</td>\n",
       "      <td>iPhone</td>\n",
       "    </tr>\n",
       "    <tr>\n",
       "      <th>61732</th>\n",
       "      <td>8F04273BB2860229</td>\n",
       "      <td>2020-12-20</td>\n",
       "      <td>EU</td>\n",
       "      <td>Android</td>\n",
       "    </tr>\n",
       "  </tbody>\n",
       "</table>\n",
       "<p>33485 rows × 4 columns</p>\n",
       "</div>"
      ],
      "text/plain": [
       "                user_id first_date region   device\n",
       "5596   F0D1A8FA8FE991C0 2020-12-14     EU  Android\n",
       "5597   110698ABD2231897 2020-12-14     EU  Android\n",
       "5598   E8C28FE61CA9EE81 2020-12-14     EU  Android\n",
       "5599   2DEF2EDF78F1EF61 2020-12-14     EU   iPhone\n",
       "5600   2C65B1FF2DD263D9 2020-12-14     EU  Android\n",
       "...                 ...        ...    ...      ...\n",
       "61728  1DB53B933257165D 2020-12-20     EU  Android\n",
       "61729  538643EB4527ED03 2020-12-20     EU      Mac\n",
       "61730  7ADEE837D5D8CBBD 2020-12-20     EU       PC\n",
       "61731  1C7D23927835213F 2020-12-20     EU   iPhone\n",
       "61732  8F04273BB2860229 2020-12-20     EU  Android\n",
       "\n",
       "[33485 rows x 4 columns]"
      ]
     },
     "execution_count": 44,
     "metadata": {},
     "output_type": "execute_result"
    }
   ],
   "source": [
    "#подсчет количества новых пользователей только с EU\n",
    "new_users_reg = new_users[(new_users['first_date'] > '2020-12-07 00:00:00')&(new_users['first_date'] < '2020-12-21 00:00:00')] \n",
    "new_users_eu = new_users_reg[new_users_reg['region'] == 'EU']\n",
    "new_users_eu"
   ]
  },
  {
   "cell_type": "code",
   "execution_count": 45,
   "metadata": {},
   "outputs": [
    {
     "name": "stdout",
     "output_type": "stream",
     "text": [
      "Количество новых пользователей с EU: 33485\n",
      "Процент новых пользователей с EU: 54.2\n"
     ]
    }
   ],
   "source": [
    "#для проверки выделила есть ли значения по EU новых пользователей, которые встречаются в основной таблице и их процент\n",
    "merge_data_eu_count = len(np.intersect1d(merge_data[merge_data['region'] == 'EU']['user_id'].unique(), new_users_eu[new_users_eu['region'] == 'EU']['user_id'].unique()))\n",
    "print('Количество новых пользователей с EU:', merge_data_eu_count)\n",
    "print('Процент новых пользователей с EU:', round((merge_data_eu_count/merge_data_id),3)*100)\n"
   ]
  },
  {
   "cell_type": "code",
   "execution_count": 46,
   "metadata": {
    "scrolled": false
   },
   "outputs": [
    {
     "name": "stdout",
     "output_type": "stream",
     "text": [
      "Количество пользователей теста recommender_system от общего числа пользователей: 6701\n",
      "Количество новых пользователей теста recommender_system от общего числа пользователей: 5333\n",
      "Количество новых пользователей теста recommender_system от числа пользователей с EU: 5060\n",
      "Количество новых пользователей теста recommender_system от числа пользователей с EU: 15.11124384052561\n"
     ]
    }
   ],
   "source": [
    "#создала новую таблицу с теста recommender_system и посчитала количество пользователей\n",
    "data_test = merge_data.query(\"ab_test == 'recommender_system_test'\")\n",
    "data_test_count = data_test['user_id'].nunique()\n",
    "print('Количество пользователей теста recommender_system от общего числа пользователей:', data_test_count)\n",
    "\n",
    "#отфильтровала только новых пользователей и посчитала их\n",
    "new_users_test = data_test[(data_test['first_date'] > '2020-12-07 00:00:00')&(data_test['first_date'] < '2020-12-21 00:00:00')] \n",
    "new_users_test_count= new_users_test['user_id'].nunique()\n",
    "print('Количество новых пользователей теста recommender_system от общего числа пользователей:', new_users_test_count)\n",
    "\n",
    "#отфильтровала только новых пользователей с EU\n",
    "new_users_test_eu = new_users_test[new_users_test['region'] == 'EU']\n",
    "new_users_test_eu_count = new_users_test_eu['user_id'].nunique()\n",
    "print('Количество новых пользователей теста recommender_system от числа пользователей с EU:', new_users_test_eu_count)\n",
    "\n",
    "#посчитала долю новых пользователей с EU в тесте от всего количества пользователей с EU\n",
    "users_eu_test_percent = new_users_test_eu_count/merge_data_eu_count*100\n",
    "print('Количество новых пользователей теста recommender_system от числа пользователей с EU:', users_eu_test_percent)"
   ]
  },
  {
   "cell_type": "markdown",
   "metadata": {},
   "source": [
    "**Вывод:** Из общего количества пользователей с EU (46270) новых пользователей составило 33485. В тесте recommender_system участвуют 6701 пользователей, из них новых пользователей 5333 и с EU -5060. То есть доля новых пользователей с EU участвующих в тесте recommender_system составило 15.1%.  "
   ]
  },
  {
   "cell_type": "code",
   "execution_count": 47,
   "metadata": {},
   "outputs": [
    {
     "name": "stdout",
     "output_type": "stream",
     "text": [
      "дата запуска: 2020-12-07 00:00:33\n",
      "дата набора новых пользователей: 2020-12-23 00:00:00\n",
      "дата остановки: 2020-12-30 23:36:33\n"
     ]
    }
   ],
   "source": [
    "#проверка дат событий\n",
    "print('дата запуска:', events['event_dt'].min())\n",
    "print('дата набора новых пользователей:', new_users['first_date'].max())\n",
    "print('дата остановки:', events['event_dt'].max())"
   ]
  },
  {
   "cell_type": "code",
   "execution_count": 48,
   "metadata": {},
   "outputs": [
    {
     "data": {
      "text/html": [
       "<div>\n",
       "<style scoped>\n",
       "    .dataframe tbody tr th:only-of-type {\n",
       "        vertical-align: middle;\n",
       "    }\n",
       "\n",
       "    .dataframe tbody tr th {\n",
       "        vertical-align: top;\n",
       "    }\n",
       "\n",
       "    .dataframe thead th {\n",
       "        text-align: right;\n",
       "    }\n",
       "</style>\n",
       "<table border=\"1\" class=\"dataframe\">\n",
       "  <thead>\n",
       "    <tr style=\"text-align: right;\">\n",
       "      <th></th>\n",
       "      <th>name</th>\n",
       "      <th>regions</th>\n",
       "      <th>start_dt</th>\n",
       "      <th>finish_dt</th>\n",
       "      <th>location</th>\n",
       "    </tr>\n",
       "  </thead>\n",
       "  <tbody>\n",
       "    <tr>\n",
       "      <th>10</th>\n",
       "      <td>CIS New Year Gift Lottery</td>\n",
       "      <td>CIS</td>\n",
       "      <td>2020-12-30</td>\n",
       "      <td>2021-01-07</td>\n",
       "      <td>CIS New Year Gift LotteryCIS</td>\n",
       "    </tr>\n",
       "  </tbody>\n",
       "</table>\n",
       "</div>"
      ],
      "text/plain": [
       "                         name regions   start_dt  finish_dt  \\\n",
       "10  CIS New Year Gift Lottery     CIS 2020-12-30 2021-01-07   \n",
       "\n",
       "                        location  \n",
       "10  CIS New Year Gift LotteryCIS  "
      ]
     },
     "execution_count": 48,
     "metadata": {},
     "output_type": "execute_result"
    }
   ],
   "source": [
    "#проверка совпадения с прохождением маркетинговой активности во время запуска\n",
    "market_events.query('start_dt in [\"2020-12-07\",\"2020-12-30\"]')"
   ]
  },
  {
   "cell_type": "code",
   "execution_count": 49,
   "metadata": {
    "scrolled": false
   },
   "outputs": [
    {
     "data": {
      "text/html": [
       "<div>\n",
       "<style scoped>\n",
       "    .dataframe tbody tr th:only-of-type {\n",
       "        vertical-align: middle;\n",
       "    }\n",
       "\n",
       "    .dataframe tbody tr th {\n",
       "        vertical-align: top;\n",
       "    }\n",
       "\n",
       "    .dataframe thead th {\n",
       "        text-align: right;\n",
       "    }\n",
       "</style>\n",
       "<table border=\"1\" class=\"dataframe\">\n",
       "  <thead>\n",
       "    <tr style=\"text-align: right;\">\n",
       "      <th></th>\n",
       "      <th>name</th>\n",
       "      <th>regions</th>\n",
       "      <th>start_dt</th>\n",
       "      <th>finish_dt</th>\n",
       "      <th>location</th>\n",
       "    </tr>\n",
       "  </thead>\n",
       "  <tbody>\n",
       "  </tbody>\n",
       "</table>\n",
       "</div>"
      ],
      "text/plain": [
       "Empty DataFrame\n",
       "Columns: [name, regions, start_dt, finish_dt, location]\n",
       "Index: []"
      ]
     },
     "execution_count": 49,
     "metadata": {},
     "output_type": "execute_result"
    }
   ],
   "source": [
    "#проверка совпадения с прохождением маркетинговой активности во время окончания\n",
    "market_events.query('finish_dt in [\"2020-12-07\",\"2020-12-30\"]')"
   ]
  },
  {
   "cell_type": "code",
   "execution_count": 50,
   "metadata": {},
   "outputs": [
    {
     "data": {
      "image/png": "[encoded data removed]",
      "text/plain": [
       "<Figure size 1500x500 with 1 Axes>"
      ]
     },
     "metadata": {},
     "output_type": "display_data"
    }
   ],
   "source": [
    "#график распределения пользователей двух тестов и собятия по дням\"\n",
    "merge_data[merge_data['ab_test'] == 'recommender_system_test']['event_dt'].hist(bins = 14*24,  figsize=(15, 5), color = 'violet', label = 'recommender_system_test', alpha=1)\n",
    "merge_data[merge_data['ab_test'] == 'interface_eu_test']['event_dt'].hist(bins = 14*24,  figsize=(15, 5), color = 'skyblue', label = 'interface_eu_test', alpha=.6)\n",
    "plt.axvspan('2020-12-25', '2021-01-03', color='orange', alpha=.2, label = 'CIS New Year Gift Lottery')\n",
    "plt.title(\"Распределение пользователей двух тестов и собятия по дням\", fontsize=16)\n",
    "plt.xlabel(\"Даты\", labelpad=10, weight='normal', size=14)\n",
    "plt.ylabel(\"Количество пользователей\", labelpad=10, weight='normal', size=14)\n",
    "plt.xticks(rotation=15)\n",
    "plt.legend()\n",
    "plt.show()"
   ]
  },
  {
   "cell_type": "markdown",
   "metadata": {},
   "source": [
    "**Проверка:** По техническому заданию дата остановки набора новых пользователей должна была быть 21 декабря 2020. Как было выявлено ранее, 5263 пользователей зарегистрировались после указанного времени. Также было выявлено, что дата остановки теста была 30 декабря 2020 года. Однако, заявленной датой остановки было 4 января 2021 года, то есть отсутствуют данные пользователей за пять дней.\n",
    "Кроме этого, во время проведения теста было выявлено совпадение с прохождением маркетинговой активности, а точнее CIS New Year Gift Lottery."
   ]
  },
  {
   "cell_type": "markdown",
   "metadata": {},
   "source": [
    "## Исследовательский анализ данных"
   ]
  },
  {
   "cell_type": "markdown",
   "metadata": {},
   "source": [
    "### Количество событий на пользователя одинаково распределены в выборках?"
   ]
  },
  {
   "cell_type": "code",
   "execution_count": 51,
   "metadata": {},
   "outputs": [
    {
     "data": {
      "text/html": [
       "<div>\n",
       "<style scoped>\n",
       "    .dataframe tbody tr th:only-of-type {\n",
       "        vertical-align: middle;\n",
       "    }\n",
       "\n",
       "    .dataframe tbody tr th {\n",
       "        vertical-align: top;\n",
       "    }\n",
       "\n",
       "    .dataframe thead th {\n",
       "        text-align: right;\n",
       "    }\n",
       "</style>\n",
       "<table border=\"1\" class=\"dataframe\">\n",
       "  <thead>\n",
       "    <tr style=\"text-align: right;\">\n",
       "      <th></th>\n",
       "      <th>user_id</th>\n",
       "      <th>first_date</th>\n",
       "      <th>region</th>\n",
       "      <th>device</th>\n",
       "      <th>group</th>\n",
       "      <th>ab_test</th>\n",
       "      <th>event_dt</th>\n",
       "      <th>event_name</th>\n",
       "      <th>details</th>\n",
       "    </tr>\n",
       "  </thead>\n",
       "  <tbody>\n",
       "    <tr>\n",
       "      <th>0</th>\n",
       "      <td>D72A72121175D8BE</td>\n",
       "      <td>2020-12-07</td>\n",
       "      <td>EU</td>\n",
       "      <td>PC</td>\n",
       "      <td>A</td>\n",
       "      <td>recommender_system_test</td>\n",
       "      <td>2020-12-07 21:52:10</td>\n",
       "      <td>product_page</td>\n",
       "      <td>NaN</td>\n",
       "    </tr>\n",
       "    <tr>\n",
       "      <th>1</th>\n",
       "      <td>D72A72121175D8BE</td>\n",
       "      <td>2020-12-07</td>\n",
       "      <td>EU</td>\n",
       "      <td>PC</td>\n",
       "      <td>A</td>\n",
       "      <td>recommender_system_test</td>\n",
       "      <td>2020-12-07 21:52:07</td>\n",
       "      <td>login</td>\n",
       "      <td>NaN</td>\n",
       "    </tr>\n",
       "    <tr>\n",
       "      <th>146</th>\n",
       "      <td>DD4352CDCF8C3D57</td>\n",
       "      <td>2020-12-07</td>\n",
       "      <td>EU</td>\n",
       "      <td>Android</td>\n",
       "      <td>B</td>\n",
       "      <td>recommender_system_test</td>\n",
       "      <td>2020-12-07 15:32:54</td>\n",
       "      <td>product_page</td>\n",
       "      <td>NaN</td>\n",
       "    </tr>\n",
       "    <tr>\n",
       "      <th>147</th>\n",
       "      <td>DD4352CDCF8C3D57</td>\n",
       "      <td>2020-12-07</td>\n",
       "      <td>EU</td>\n",
       "      <td>Android</td>\n",
       "      <td>B</td>\n",
       "      <td>recommender_system_test</td>\n",
       "      <td>2020-12-08 08:29:31</td>\n",
       "      <td>product_page</td>\n",
       "      <td>NaN</td>\n",
       "    </tr>\n",
       "    <tr>\n",
       "      <th>148</th>\n",
       "      <td>DD4352CDCF8C3D57</td>\n",
       "      <td>2020-12-07</td>\n",
       "      <td>EU</td>\n",
       "      <td>Android</td>\n",
       "      <td>B</td>\n",
       "      <td>recommender_system_test</td>\n",
       "      <td>2020-12-10 18:18:27</td>\n",
       "      <td>product_page</td>\n",
       "      <td>NaN</td>\n",
       "    </tr>\n",
       "    <tr>\n",
       "      <th>...</th>\n",
       "      <td>...</td>\n",
       "      <td>...</td>\n",
       "      <td>...</td>\n",
       "      <td>...</td>\n",
       "      <td>...</td>\n",
       "      <td>...</td>\n",
       "      <td>...</td>\n",
       "      <td>...</td>\n",
       "      <td>...</td>\n",
       "    </tr>\n",
       "    <tr>\n",
       "      <th>449812</th>\n",
       "      <td>0416B34D35C8C8B8</td>\n",
       "      <td>2020-12-20</td>\n",
       "      <td>EU</td>\n",
       "      <td>Android</td>\n",
       "      <td>A</td>\n",
       "      <td>recommender_system_test</td>\n",
       "      <td>2020-12-21 22:28:29</td>\n",
       "      <td>product_page</td>\n",
       "      <td>NaN</td>\n",
       "    </tr>\n",
       "    <tr>\n",
       "      <th>449813</th>\n",
       "      <td>0416B34D35C8C8B8</td>\n",
       "      <td>2020-12-20</td>\n",
       "      <td>EU</td>\n",
       "      <td>Android</td>\n",
       "      <td>A</td>\n",
       "      <td>recommender_system_test</td>\n",
       "      <td>2020-12-24 09:12:51</td>\n",
       "      <td>product_page</td>\n",
       "      <td>NaN</td>\n",
       "    </tr>\n",
       "    <tr>\n",
       "      <th>449814</th>\n",
       "      <td>0416B34D35C8C8B8</td>\n",
       "      <td>2020-12-20</td>\n",
       "      <td>EU</td>\n",
       "      <td>Android</td>\n",
       "      <td>A</td>\n",
       "      <td>recommender_system_test</td>\n",
       "      <td>2020-12-20 20:58:25</td>\n",
       "      <td>login</td>\n",
       "      <td>NaN</td>\n",
       "    </tr>\n",
       "    <tr>\n",
       "      <th>449815</th>\n",
       "      <td>0416B34D35C8C8B8</td>\n",
       "      <td>2020-12-20</td>\n",
       "      <td>EU</td>\n",
       "      <td>Android</td>\n",
       "      <td>A</td>\n",
       "      <td>recommender_system_test</td>\n",
       "      <td>2020-12-21 22:28:29</td>\n",
       "      <td>login</td>\n",
       "      <td>NaN</td>\n",
       "    </tr>\n",
       "    <tr>\n",
       "      <th>449816</th>\n",
       "      <td>0416B34D35C8C8B8</td>\n",
       "      <td>2020-12-20</td>\n",
       "      <td>EU</td>\n",
       "      <td>Android</td>\n",
       "      <td>A</td>\n",
       "      <td>recommender_system_test</td>\n",
       "      <td>2020-12-24 09:12:49</td>\n",
       "      <td>login</td>\n",
       "      <td>NaN</td>\n",
       "    </tr>\n",
       "  </tbody>\n",
       "</table>\n",
       "<p>19601 rows × 9 columns</p>\n",
       "</div>"
      ],
      "text/plain": [
       "                 user_id first_date region   device group  \\\n",
       "0       D72A72121175D8BE 2020-12-07     EU       PC     A   \n",
       "1       D72A72121175D8BE 2020-12-07     EU       PC     A   \n",
       "146     DD4352CDCF8C3D57 2020-12-07     EU  Android     B   \n",
       "147     DD4352CDCF8C3D57 2020-12-07     EU  Android     B   \n",
       "148     DD4352CDCF8C3D57 2020-12-07     EU  Android     B   \n",
       "...                  ...        ...    ...      ...   ...   \n",
       "449812  0416B34D35C8C8B8 2020-12-20     EU  Android     A   \n",
       "449813  0416B34D35C8C8B8 2020-12-20     EU  Android     A   \n",
       "449814  0416B34D35C8C8B8 2020-12-20     EU  Android     A   \n",
       "449815  0416B34D35C8C8B8 2020-12-20     EU  Android     A   \n",
       "449816  0416B34D35C8C8B8 2020-12-20     EU  Android     A   \n",
       "\n",
       "                        ab_test            event_dt    event_name  details  \n",
       "0       recommender_system_test 2020-12-07 21:52:10  product_page      NaN  \n",
       "1       recommender_system_test 2020-12-07 21:52:07         login      NaN  \n",
       "146     recommender_system_test 2020-12-07 15:32:54  product_page      NaN  \n",
       "147     recommender_system_test 2020-12-08 08:29:31  product_page      NaN  \n",
       "148     recommender_system_test 2020-12-10 18:18:27  product_page      NaN  \n",
       "...                         ...                 ...           ...      ...  \n",
       "449812  recommender_system_test 2020-12-21 22:28:29  product_page      NaN  \n",
       "449813  recommender_system_test 2020-12-24 09:12:51  product_page      NaN  \n",
       "449814  recommender_system_test 2020-12-20 20:58:25         login      NaN  \n",
       "449815  recommender_system_test 2020-12-21 22:28:29         login      NaN  \n",
       "449816  recommender_system_test 2020-12-24 09:12:49         login      NaN  \n",
       "\n",
       "[19601 rows x 9 columns]"
      ]
     },
     "execution_count": 51,
     "metadata": {},
     "output_type": "execute_result"
    }
   ],
   "source": [
    "#в таблице с пользователями EU отфильтровала тех, которые участвовали в тесте recommender_system\n",
    "data_filtered = users_eu.query(\"ab_test == 'recommender_system_test'\")\n",
    "#отфильтровала по дате начала и конца теста\n",
    "data_filtered = data_filtered[(data_filtered['first_date'] < '2020-12-21 00:00:00')]\n",
    "data_filtered = data_filtered[(data_filtered['event_dt'] < '2021-01-04 00:00:00')]\n",
    "#отфильтровала за 14 дней с момента регистрации в системе\n",
    "data_filtered = data_filtered[data_filtered['event_dt'] < data_filtered['first_date']+pd.DateOffset(14)]\n",
    "merge_data = data_filtered\n",
    "merge_data"
   ]
  },
  {
   "cell_type": "code",
   "execution_count": 52,
   "metadata": {},
   "outputs": [
    {
     "name": "stdout",
     "output_type": "stream",
     "text": [
      "Количество событий: 19601\n",
      "Количество типов событий: 4\n",
      "Количество событий на пользователя в среднем: 0.3\n"
     ]
    }
   ],
   "source": [
    "#подсчет количества событий\n",
    "merge_data_event = merge_data['event_name'].count()\n",
    "print('Количество событий:', merge_data_event)\n",
    "\n",
    "#подсчет типов событий\n",
    "merge_data_event_type = merge_data['event_name'].nunique()\n",
    "print('Количество типов событий:', merge_data_event_type)\n",
    "\n",
    "#подсчет количества пользователей в среденем\n",
    "merge_data_event_mean = round(merge_data_event/merge_data_id, 1)\n",
    "print('Количество событий на пользователя в среднем:', merge_data_event_mean)"
   ]
  },
  {
   "cell_type": "code",
   "execution_count": 53,
   "metadata": {},
   "outputs": [
    {
     "data": {
      "text/plain": [
       "login           8872\n",
       "product_page    5454\n",
       "purchase        2666\n",
       "product_cart    2609\n",
       "Name: event_name, dtype: int64"
      ]
     },
     "execution_count": 53,
     "metadata": {},
     "output_type": "execute_result"
    }
   ],
   "source": [
    "#подсчет количества каждого события\n",
    "merge_data['event_name'].value_counts().sort_values(ascending=False)"
   ]
  },
  {
   "cell_type": "code",
   "execution_count": 54,
   "metadata": {
    "scrolled": false
   },
   "outputs": [
    {
     "data": {
      "image/png": "[encoded data removed]",
      "text/plain": [
       "<Figure size 1000x500 with 1 Axes>"
      ]
     },
     "metadata": {},
     "output_type": "display_data"
    }
   ],
   "source": [
    "#график количество пользователей по событиям\n",
    "(merge_data['event_name'].value_counts().sort_values(ascending=False).plot(kind='bar', figsize=(10,5), color = ['c', 'orange', 'pink', 'purple', 'lightsteelblue'], alpha =.6))\n",
    "plt.title(\"Количество пользователей по событиям\", fontsize=16)\n",
    "plt.xlabel(\"Событие\", labelpad=10, weight='normal', size=14)\n",
    "plt.ylabel(\"Количество пользователей\", labelpad=10, weight='normal', size=14)\n",
    "plt.xticks(rotation = 360);"
   ]
  },
  {
   "cell_type": "code",
   "execution_count": 55,
   "metadata": {
    "scrolled": true
   },
   "outputs": [
    {
     "data": {
      "text/html": [
       "<div>\n",
       "<style scoped>\n",
       "    .dataframe tbody tr th:only-of-type {\n",
       "        vertical-align: middle;\n",
       "    }\n",
       "\n",
       "    .dataframe tbody tr th {\n",
       "        vertical-align: top;\n",
       "    }\n",
       "\n",
       "    .dataframe thead th {\n",
       "        text-align: right;\n",
       "    }\n",
       "</style>\n",
       "<table border=\"1\" class=\"dataframe\">\n",
       "  <thead>\n",
       "    <tr style=\"text-align: right;\">\n",
       "      <th></th>\n",
       "      <th>event_dt</th>\n",
       "      <th>event_name</th>\n",
       "      <th>user_id</th>\n",
       "    </tr>\n",
       "  </thead>\n",
       "  <tbody>\n",
       "    <tr>\n",
       "      <th>0</th>\n",
       "      <td>2020-12-09 19:01:05</td>\n",
       "      <td>[purchase, product_cart, login, product_page]</td>\n",
       "      <td>6</td>\n",
       "    </tr>\n",
       "    <tr>\n",
       "      <th>1</th>\n",
       "      <td>2020-12-17 01:42:01</td>\n",
       "      <td>[product_cart, product_page, purchase, login]</td>\n",
       "      <td>5</td>\n",
       "    </tr>\n",
       "    <tr>\n",
       "      <th>2</th>\n",
       "      <td>2020-12-17 20:13:22</td>\n",
       "      <td>[login, purchase, product_cart, product_page]</td>\n",
       "      <td>5</td>\n",
       "    </tr>\n",
       "    <tr>\n",
       "      <th>3</th>\n",
       "      <td>2020-12-10 14:54:17</td>\n",
       "      <td>[product_cart, product_page, login]</td>\n",
       "      <td>5</td>\n",
       "    </tr>\n",
       "    <tr>\n",
       "      <th>4</th>\n",
       "      <td>2020-12-20 09:51:02</td>\n",
       "      <td>[purchase, product_page, login]</td>\n",
       "      <td>5</td>\n",
       "    </tr>\n",
       "    <tr>\n",
       "      <th>5</th>\n",
       "      <td>2020-12-18 18:44:29</td>\n",
       "      <td>[product_page, login, product_cart]</td>\n",
       "      <td>5</td>\n",
       "    </tr>\n",
       "    <tr>\n",
       "      <th>6</th>\n",
       "      <td>2020-12-07 22:33:04</td>\n",
       "      <td>[purchase, product_cart, product_page, login]</td>\n",
       "      <td>4</td>\n",
       "    </tr>\n",
       "    <tr>\n",
       "      <th>7</th>\n",
       "      <td>2020-12-16 14:04:35</td>\n",
       "      <td>[purchase, product_cart, product_page, login]</td>\n",
       "      <td>4</td>\n",
       "    </tr>\n",
       "    <tr>\n",
       "      <th>8</th>\n",
       "      <td>2020-12-12 13:00:15</td>\n",
       "      <td>[purchase, product_cart, product_page, login]</td>\n",
       "      <td>4</td>\n",
       "    </tr>\n",
       "    <tr>\n",
       "      <th>9</th>\n",
       "      <td>2020-12-21 09:33:49</td>\n",
       "      <td>[product_page, purchase, login]</td>\n",
       "      <td>4</td>\n",
       "    </tr>\n",
       "  </tbody>\n",
       "</table>\n",
       "</div>"
      ],
      "text/plain": [
       "             event_dt                                     event_name  user_id\n",
       "0 2020-12-09 19:01:05  [purchase, product_cart, login, product_page]        6\n",
       "1 2020-12-17 01:42:01  [product_cart, product_page, purchase, login]        5\n",
       "2 2020-12-17 20:13:22  [login, purchase, product_cart, product_page]        5\n",
       "3 2020-12-10 14:54:17            [product_cart, product_page, login]        5\n",
       "4 2020-12-20 09:51:02                [purchase, product_page, login]        5\n",
       "5 2020-12-18 18:44:29            [product_page, login, product_cart]        5\n",
       "6 2020-12-07 22:33:04  [purchase, product_cart, product_page, login]        4\n",
       "7 2020-12-16 14:04:35  [purchase, product_cart, product_page, login]        4\n",
       "8 2020-12-12 13:00:15  [purchase, product_cart, product_page, login]        4\n",
       "9 2020-12-21 09:33:49                [product_page, purchase, login]        4"
      ]
     },
     "execution_count": 55,
     "metadata": {},
     "output_type": "execute_result"
    }
   ],
   "source": [
    "#проверка числа событий в выборках распределения по дням\n",
    "event_count = merge_data.groupby('event_dt').agg({'event_name': 'unique', 'user_id': 'count'}).sort_values(by='user_id', ascending=False).reset_index()\n",
    "event_count.head(10)"
   ]
  },
  {
   "cell_type": "code",
   "execution_count": 56,
   "metadata": {
    "scrolled": true
   },
   "outputs": [
    {
     "data": {
      "text/plain": [
       "array([6, 5, 4, 3, 2, 1], dtype=int64)"
      ]
     },
     "execution_count": 56,
     "metadata": {},
     "output_type": "execute_result"
    }
   ],
   "source": [
    "event_count['user_id'].unique()"
   ]
  },
  {
   "cell_type": "code",
   "execution_count": 57,
   "metadata": {
    "scrolled": true
   },
   "outputs": [
    {
     "data": {
      "image/png": "[encoded data removed]",
      "text/plain": [
       "<Figure size 1400x500 with 1 Axes>"
      ]
     },
     "metadata": {},
     "output_type": "display_data"
    }
   ],
   "source": [
    "#гистограмма по дате на весь период\n",
    "event_count['event_dt'].hist(bins=14*24, figsize=(14, 5), color='cornflowerblue').set_title('Распределение количества пользователей по дням', fontsize=16)\n",
    "plt.xlabel(\"Дата\", labelpad=10, weight='normal', size=14)\n",
    "plt.ylabel(\"Количество пользователей\", labelpad=10, weight='normal', size=14)\n",
    "plt.show()"
   ]
  },
  {
   "cell_type": "code",
   "execution_count": 58,
   "metadata": {
    "scrolled": true
   },
   "outputs": [
    {
     "data": {
      "text/html": [
       "<div>\n",
       "<style scoped>\n",
       "    .dataframe tbody tr th:only-of-type {\n",
       "        vertical-align: middle;\n",
       "    }\n",
       "\n",
       "    .dataframe tbody tr th {\n",
       "        vertical-align: top;\n",
       "    }\n",
       "\n",
       "    .dataframe thead th {\n",
       "        text-align: right;\n",
       "    }\n",
       "</style>\n",
       "<table border=\"1\" class=\"dataframe\">\n",
       "  <thead>\n",
       "    <tr style=\"text-align: right;\">\n",
       "      <th></th>\n",
       "      <th>event_dt</th>\n",
       "      <th>user_id</th>\n",
       "    </tr>\n",
       "  </thead>\n",
       "  <tbody>\n",
       "    <tr>\n",
       "      <th>0</th>\n",
       "      <td>2020-12-09 19:01:05</td>\n",
       "      <td>6</td>\n",
       "    </tr>\n",
       "    <tr>\n",
       "      <th>1</th>\n",
       "      <td>2020-12-17 01:42:01</td>\n",
       "      <td>5</td>\n",
       "    </tr>\n",
       "    <tr>\n",
       "      <th>2</th>\n",
       "      <td>2020-12-17 20:13:22</td>\n",
       "      <td>5</td>\n",
       "    </tr>\n",
       "    <tr>\n",
       "      <th>3</th>\n",
       "      <td>2020-12-10 14:54:17</td>\n",
       "      <td>5</td>\n",
       "    </tr>\n",
       "    <tr>\n",
       "      <th>4</th>\n",
       "      <td>2020-12-20 09:51:02</td>\n",
       "      <td>5</td>\n",
       "    </tr>\n",
       "    <tr>\n",
       "      <th>...</th>\n",
       "      <td>...</td>\n",
       "      <td>...</td>\n",
       "    </tr>\n",
       "    <tr>\n",
       "      <th>13102</th>\n",
       "      <td>2020-12-16 22:51:41</td>\n",
       "      <td>1</td>\n",
       "    </tr>\n",
       "    <tr>\n",
       "      <th>13103</th>\n",
       "      <td>2020-12-16 22:55:39</td>\n",
       "      <td>1</td>\n",
       "    </tr>\n",
       "    <tr>\n",
       "      <th>13104</th>\n",
       "      <td>2020-12-16 22:57:02</td>\n",
       "      <td>1</td>\n",
       "    </tr>\n",
       "    <tr>\n",
       "      <th>13105</th>\n",
       "      <td>2020-12-16 22:57:04</td>\n",
       "      <td>1</td>\n",
       "    </tr>\n",
       "    <tr>\n",
       "      <th>13106</th>\n",
       "      <td>2020-12-29 23:38:29</td>\n",
       "      <td>1</td>\n",
       "    </tr>\n",
       "  </tbody>\n",
       "</table>\n",
       "<p>13107 rows × 2 columns</p>\n",
       "</div>"
      ],
      "text/plain": [
       "                 event_dt  user_id\n",
       "0     2020-12-09 19:01:05        6\n",
       "1     2020-12-17 01:42:01        5\n",
       "2     2020-12-17 20:13:22        5\n",
       "3     2020-12-10 14:54:17        5\n",
       "4     2020-12-20 09:51:02        5\n",
       "...                   ...      ...\n",
       "13102 2020-12-16 22:51:41        1\n",
       "13103 2020-12-16 22:55:39        1\n",
       "13104 2020-12-16 22:57:02        1\n",
       "13105 2020-12-16 22:57:04        1\n",
       "13106 2020-12-29 23:38:29        1\n",
       "\n",
       "[13107 rows x 2 columns]"
      ]
     },
     "execution_count": 58,
     "metadata": {},
     "output_type": "execute_result"
    }
   ],
   "source": [
    "#отдельный подсчет распределения количества пользователей теста recommender_system по дням\n",
    "rec_test_count_dt = merge_data[merge_data['ab_test'] == 'recommender_system_test'].groupby('event_dt').agg({'user_id': 'count'}).sort_values(by='user_id', ascending=False).reset_index()\n",
    "rec_test_count_dt"
   ]
  },
  {
   "cell_type": "code",
   "execution_count": 59,
   "metadata": {},
   "outputs": [
    {
     "data": {
      "text/plain": [
       "array([6, 5, 4, 3, 2, 1], dtype=int64)"
      ]
     },
     "execution_count": 59,
     "metadata": {},
     "output_type": "execute_result"
    }
   ],
   "source": [
    "rec_test_count_dt['user_id'].unique()"
   ]
  },
  {
   "cell_type": "code",
   "execution_count": 60,
   "metadata": {},
   "outputs": [
    {
     "data": {
      "image/png": "[encoded data removed]",
      "text/plain": [
       "<Figure size 1400x500 with 1 Axes>"
      ]
     },
     "metadata": {},
     "output_type": "display_data"
    }
   ],
   "source": [
    "#график распределения количества пользователей теста recommender_system по дням\n",
    "rec_test_count_dt['event_dt'].hist(bins=14*24, figsize=(14, 5), color='skyblue').set_title('Распределение количество пользователей теста recommender_system по дням', fontsize=16)\n",
    "plt.xlabel(\"Дата\", labelpad=10, weight='normal', size=14)\n",
    "plt.ylabel(\"Количество пользователей\", labelpad=10, weight='normal', size=14)\n",
    "plt.show();"
   ]
  },
  {
   "cell_type": "code",
   "execution_count": 61,
   "metadata": {
    "scrolled": true
   },
   "outputs": [
    {
     "data": {
      "text/html": [
       "<div>\n",
       "<style scoped>\n",
       "    .dataframe tbody tr th:only-of-type {\n",
       "        vertical-align: middle;\n",
       "    }\n",
       "\n",
       "    .dataframe tbody tr th {\n",
       "        vertical-align: top;\n",
       "    }\n",
       "\n",
       "    .dataframe thead th {\n",
       "        text-align: right;\n",
       "    }\n",
       "</style>\n",
       "<table border=\"1\" class=\"dataframe\">\n",
       "  <thead>\n",
       "    <tr style=\"text-align: right;\">\n",
       "      <th></th>\n",
       "      <th>event_name</th>\n",
       "      <th>user_id</th>\n",
       "      <th>percent</th>\n",
       "    </tr>\n",
       "  </thead>\n",
       "  <tbody>\n",
       "    <tr>\n",
       "      <th>0</th>\n",
       "      <td>login</td>\n",
       "      <td>8872</td>\n",
       "      <td>45.3</td>\n",
       "    </tr>\n",
       "    <tr>\n",
       "      <th>1</th>\n",
       "      <td>product_page</td>\n",
       "      <td>5454</td>\n",
       "      <td>27.8</td>\n",
       "    </tr>\n",
       "    <tr>\n",
       "      <th>2</th>\n",
       "      <td>product_cart</td>\n",
       "      <td>2609</td>\n",
       "      <td>13.3</td>\n",
       "    </tr>\n",
       "    <tr>\n",
       "      <th>3</th>\n",
       "      <td>purchase</td>\n",
       "      <td>2666</td>\n",
       "      <td>13.6</td>\n",
       "    </tr>\n",
       "  </tbody>\n",
       "</table>\n",
       "</div>"
      ],
      "text/plain": [
       "     event_name  user_id  percent\n",
       "0         login     8872     45.3\n",
       "1  product_page     5454     27.8\n",
       "2  product_cart     2609     13.3\n",
       "3      purchase     2666     13.6"
      ]
     },
     "execution_count": 61,
     "metadata": {},
     "output_type": "execute_result"
    }
   ],
   "source": [
    "#подсчет количества каждого события с процентом\n",
    "merge_event_count = merge_data.pivot_table(index='event_name', values='user_id', aggfunc='count').reset_index()\n",
    "merge_event_count ['percent'] = round((merge_event_count['user_id']/merge_data_event),3)*100\n",
    "#расположение событий в логическом порядке\n",
    "merge_event_count['event_name'] = pd.Categorical(merge_event_count['event_name'], ['login', 'product_page', 'product_cart', 'purchase'])\n",
    "merge_event_count = merge_event_count.sort_values('event_name').reset_index(drop= True)\n",
    "merge_event_count"
   ]
  },
  {
   "cell_type": "markdown",
   "metadata": {},
   "source": [
    "При подсчете количества пользователей совершивших каждое из представленных событий, на первом месте выходит событие \"login\", то есть вход в свой аккаунт. За ним идет просмотр карточек товаров, далее по количеству следует покупка и за ним просмотр корзины."
   ]
  },
  {
   "cell_type": "code",
   "execution_count": 62,
   "metadata": {
    "scrolled": true
   },
   "outputs": [
    {
     "data": {
      "text/html": [
       "<div>\n",
       "<style scoped>\n",
       "    .dataframe tbody tr th:only-of-type {\n",
       "        vertical-align: middle;\n",
       "    }\n",
       "\n",
       "    .dataframe tbody tr th {\n",
       "        vertical-align: top;\n",
       "    }\n",
       "\n",
       "    .dataframe thead th {\n",
       "        text-align: right;\n",
       "    }\n",
       "</style>\n",
       "<table border=\"1\" class=\"dataframe\">\n",
       "  <thead>\n",
       "    <tr style=\"text-align: right;\">\n",
       "      <th></th>\n",
       "      <th>event_name</th>\n",
       "      <th>user_id</th>\n",
       "      <th>percent</th>\n",
       "      <th>ratio_event</th>\n",
       "    </tr>\n",
       "  </thead>\n",
       "  <tbody>\n",
       "    <tr>\n",
       "      <th>0</th>\n",
       "      <td>login</td>\n",
       "      <td>8872</td>\n",
       "      <td>45.3</td>\n",
       "      <td>100.0</td>\n",
       "    </tr>\n",
       "    <tr>\n",
       "      <th>1</th>\n",
       "      <td>product_page</td>\n",
       "      <td>5454</td>\n",
       "      <td>27.8</td>\n",
       "      <td>61.5</td>\n",
       "    </tr>\n",
       "    <tr>\n",
       "      <th>2</th>\n",
       "      <td>product_cart</td>\n",
       "      <td>2609</td>\n",
       "      <td>13.3</td>\n",
       "      <td>47.8</td>\n",
       "    </tr>\n",
       "    <tr>\n",
       "      <th>3</th>\n",
       "      <td>purchase</td>\n",
       "      <td>2666</td>\n",
       "      <td>13.6</td>\n",
       "      <td>102.2</td>\n",
       "    </tr>\n",
       "  </tbody>\n",
       "</table>\n",
       "</div>"
      ],
      "text/plain": [
       "     event_name  user_id  percent  ratio_event\n",
       "0         login     8872     45.3        100.0\n",
       "1  product_page     5454     27.8         61.5\n",
       "2  product_cart     2609     13.3         47.8\n",
       "3      purchase     2666     13.6        102.2"
      ]
     },
     "execution_count": 62,
     "metadata": {},
     "output_type": "execute_result"
    }
   ],
   "source": [
    "#была подсчитана доля пользователей в отношении событий по последовательности\n",
    "pd.options.mode.chained_assignment = None\n",
    "merge_event_count['ratio_event'] = 0\n",
    "for i in range(4):\n",
    "    if i == 0:\n",
    "        merge_event_count['ratio_event'].loc[i] = 100\n",
    "    else:\n",
    "        merge_event_count['ratio_event'].loc[i] = round((merge_event_count['user_id'].loc[i]/merge_event_count['user_id'].loc[i-1]),3)*100\n",
    "merge_event_count    "
   ]
  },
  {
   "cell_type": "code",
   "execution_count": 63,
   "metadata": {
    "scrolled": true
   },
   "outputs": [
    {
     "data": {
      "image/png": "[encoded data removed]"
     },
     "metadata": {},
     "output_type": "display_data"
    }
   ],
   "source": [
    "#была построена воронка событий\n",
    "fig = go.Figure(go.Funnel(y=merge_event_count['event_name'], x=merge_event_count['user_id'], textposition = \"inside\", \n",
    "    textinfo = \"value+percent initial\", opacity = 0.6,marker = {\"color\": [\"darkorchid\", \"purple\", \"plum\", \"orchid\"]}))\n",
    "fig.update_layout(title='Воронка событий по доле пользователей', title_x = 0.5 )\n",
    "fig.show('png')"
   ]
  },
  {
   "cell_type": "markdown",
   "metadata": {},
   "source": [
    "- было посчитано отношение числа пользователей между событиями:\n",
    "  - событие \"product_page\" (В) к количеству пользователей с событием \"login\" (А) показало 66,2%\n",
    "  - отношение числа пользователей с событием \"purchase\" (С) к количеству пользователей с событием \"product_page\" (В) - 50%\n",
    "  - отношение числа пользователей с событием \"product_cart\" (D) к количеству пользователей с событием \"purchase\" (С) - 99,4%\n",
    "- была построена диграмма воронки событий, в котором можно видеть изменение доли пользователей на каждом событии. Только 33% пользователей кладут выбранные продукты в корзину  и покупают их."
   ]
  },
  {
   "cell_type": "markdown",
   "metadata": {},
   "source": [
    "В техническом задании был выделен пункт об ожидаемом эффекте, которые звучал следующим образом:\n",
    "за 14 дней с момента регистрации в системе пользователи покажут улучшение каждой метрики не менее, чем на 10%:\n",
    "- конверсии в просмотр карточек товаров — событие product_page\n",
    "- просмотры корзины — product_cart\n",
    "- покупки — purchase\n",
    "\n",
    "Поэтому далее были проверены пользователи за 1 день и 14 дней регистрации."
   ]
  },
  {
   "cell_type": "code",
   "execution_count": 64,
   "metadata": {
    "scrolled": true
   },
   "outputs": [
    {
     "data": {
      "text/html": [
       "<div>\n",
       "<style scoped>\n",
       "    .dataframe tbody tr th:only-of-type {\n",
       "        vertical-align: middle;\n",
       "    }\n",
       "\n",
       "    .dataframe tbody tr th {\n",
       "        vertical-align: top;\n",
       "    }\n",
       "\n",
       "    .dataframe thead th {\n",
       "        text-align: right;\n",
       "    }\n",
       "</style>\n",
       "<table border=\"1\" class=\"dataframe\">\n",
       "  <thead>\n",
       "    <tr style=\"text-align: right;\">\n",
       "      <th></th>\n",
       "      <th>user_id</th>\n",
       "      <th>first_date</th>\n",
       "      <th>region</th>\n",
       "      <th>device</th>\n",
       "      <th>group</th>\n",
       "      <th>ab_test</th>\n",
       "      <th>event_dt</th>\n",
       "      <th>event_name</th>\n",
       "      <th>details</th>\n",
       "    </tr>\n",
       "  </thead>\n",
       "  <tbody>\n",
       "    <tr>\n",
       "      <th>0</th>\n",
       "      <td>D72A72121175D8BE</td>\n",
       "      <td>2020-12-07</td>\n",
       "      <td>EU</td>\n",
       "      <td>PC</td>\n",
       "      <td>A</td>\n",
       "      <td>recommender_system_test</td>\n",
       "      <td>2020-12-07 21:52:10</td>\n",
       "      <td>product_page</td>\n",
       "      <td>NaN</td>\n",
       "    </tr>\n",
       "    <tr>\n",
       "      <th>1</th>\n",
       "      <td>D72A72121175D8BE</td>\n",
       "      <td>2020-12-07</td>\n",
       "      <td>EU</td>\n",
       "      <td>PC</td>\n",
       "      <td>A</td>\n",
       "      <td>recommender_system_test</td>\n",
       "      <td>2020-12-07 21:52:07</td>\n",
       "      <td>login</td>\n",
       "      <td>NaN</td>\n",
       "    </tr>\n",
       "    <tr>\n",
       "      <th>146</th>\n",
       "      <td>DD4352CDCF8C3D57</td>\n",
       "      <td>2020-12-07</td>\n",
       "      <td>EU</td>\n",
       "      <td>Android</td>\n",
       "      <td>B</td>\n",
       "      <td>recommender_system_test</td>\n",
       "      <td>2020-12-07 15:32:54</td>\n",
       "      <td>product_page</td>\n",
       "      <td>NaN</td>\n",
       "    </tr>\n",
       "    <tr>\n",
       "      <th>152</th>\n",
       "      <td>DD4352CDCF8C3D57</td>\n",
       "      <td>2020-12-07</td>\n",
       "      <td>EU</td>\n",
       "      <td>Android</td>\n",
       "      <td>B</td>\n",
       "      <td>recommender_system_test</td>\n",
       "      <td>2020-12-07 15:32:53</td>\n",
       "      <td>login</td>\n",
       "      <td>NaN</td>\n",
       "    </tr>\n",
       "    <tr>\n",
       "      <th>186</th>\n",
       "      <td>831887FE7F2D6CBA</td>\n",
       "      <td>2020-12-07</td>\n",
       "      <td>EU</td>\n",
       "      <td>Android</td>\n",
       "      <td>A</td>\n",
       "      <td>recommender_system_test</td>\n",
       "      <td>2020-12-07 06:50:29</td>\n",
       "      <td>purchase</td>\n",
       "      <td>4.99</td>\n",
       "    </tr>\n",
       "    <tr>\n",
       "      <th>...</th>\n",
       "      <td>...</td>\n",
       "      <td>...</td>\n",
       "      <td>...</td>\n",
       "      <td>...</td>\n",
       "      <td>...</td>\n",
       "      <td>...</td>\n",
       "      <td>...</td>\n",
       "      <td>...</td>\n",
       "      <td>...</td>\n",
       "    </tr>\n",
       "    <tr>\n",
       "      <th>449804</th>\n",
       "      <td>574ACBC674BC385D</td>\n",
       "      <td>2020-12-20</td>\n",
       "      <td>EU</td>\n",
       "      <td>Mac</td>\n",
       "      <td>A</td>\n",
       "      <td>recommender_system_test</td>\n",
       "      <td>2020-12-20 04:15:43</td>\n",
       "      <td>product_page</td>\n",
       "      <td>NaN</td>\n",
       "    </tr>\n",
       "    <tr>\n",
       "      <th>449806</th>\n",
       "      <td>574ACBC674BC385D</td>\n",
       "      <td>2020-12-20</td>\n",
       "      <td>EU</td>\n",
       "      <td>Mac</td>\n",
       "      <td>A</td>\n",
       "      <td>recommender_system_test</td>\n",
       "      <td>2020-12-20 04:15:43</td>\n",
       "      <td>login</td>\n",
       "      <td>NaN</td>\n",
       "    </tr>\n",
       "    <tr>\n",
       "      <th>449808</th>\n",
       "      <td>0416B34D35C8C8B8</td>\n",
       "      <td>2020-12-20</td>\n",
       "      <td>EU</td>\n",
       "      <td>Android</td>\n",
       "      <td>A</td>\n",
       "      <td>recommender_system_test</td>\n",
       "      <td>2020-12-20 20:58:25</td>\n",
       "      <td>purchase</td>\n",
       "      <td>4.99</td>\n",
       "    </tr>\n",
       "    <tr>\n",
       "      <th>449811</th>\n",
       "      <td>0416B34D35C8C8B8</td>\n",
       "      <td>2020-12-20</td>\n",
       "      <td>EU</td>\n",
       "      <td>Android</td>\n",
       "      <td>A</td>\n",
       "      <td>recommender_system_test</td>\n",
       "      <td>2020-12-20 20:58:26</td>\n",
       "      <td>product_page</td>\n",
       "      <td>NaN</td>\n",
       "    </tr>\n",
       "    <tr>\n",
       "      <th>449814</th>\n",
       "      <td>0416B34D35C8C8B8</td>\n",
       "      <td>2020-12-20</td>\n",
       "      <td>EU</td>\n",
       "      <td>Android</td>\n",
       "      <td>A</td>\n",
       "      <td>recommender_system_test</td>\n",
       "      <td>2020-12-20 20:58:25</td>\n",
       "      <td>login</td>\n",
       "      <td>NaN</td>\n",
       "    </tr>\n",
       "  </tbody>\n",
       "</table>\n",
       "<p>6639 rows × 9 columns</p>\n",
       "</div>"
      ],
      "text/plain": [
       "                 user_id first_date region   device group  \\\n",
       "0       D72A72121175D8BE 2020-12-07     EU       PC     A   \n",
       "1       D72A72121175D8BE 2020-12-07     EU       PC     A   \n",
       "146     DD4352CDCF8C3D57 2020-12-07     EU  Android     B   \n",
       "152     DD4352CDCF8C3D57 2020-12-07     EU  Android     B   \n",
       "186     831887FE7F2D6CBA 2020-12-07     EU  Android     A   \n",
       "...                  ...        ...    ...      ...   ...   \n",
       "449804  574ACBC674BC385D 2020-12-20     EU      Mac     A   \n",
       "449806  574ACBC674BC385D 2020-12-20     EU      Mac     A   \n",
       "449808  0416B34D35C8C8B8 2020-12-20     EU  Android     A   \n",
       "449811  0416B34D35C8C8B8 2020-12-20     EU  Android     A   \n",
       "449814  0416B34D35C8C8B8 2020-12-20     EU  Android     A   \n",
       "\n",
       "                        ab_test            event_dt    event_name  details  \n",
       "0       recommender_system_test 2020-12-07 21:52:10  product_page      NaN  \n",
       "1       recommender_system_test 2020-12-07 21:52:07         login      NaN  \n",
       "146     recommender_system_test 2020-12-07 15:32:54  product_page      NaN  \n",
       "152     recommender_system_test 2020-12-07 15:32:53         login      NaN  \n",
       "186     recommender_system_test 2020-12-07 06:50:29      purchase     4.99  \n",
       "...                         ...                 ...           ...      ...  \n",
       "449804  recommender_system_test 2020-12-20 04:15:43  product_page      NaN  \n",
       "449806  recommender_system_test 2020-12-20 04:15:43         login      NaN  \n",
       "449808  recommender_system_test 2020-12-20 20:58:25      purchase     4.99  \n",
       "449811  recommender_system_test 2020-12-20 20:58:26  product_page      NaN  \n",
       "449814  recommender_system_test 2020-12-20 20:58:25         login      NaN  \n",
       "\n",
       "[6639 rows x 9 columns]"
      ]
     },
     "execution_count": 64,
     "metadata": {},
     "output_type": "execute_result"
    }
   ],
   "source": [
    "#выделила отдельно пользователей теста recommender_system за 1 день регистрации\n",
    "rec_test = merge_data[merge_data['ab_test'] == 'recommender_system_test']\n",
    "rec_test_day_one = rec_test[rec_test['event_dt'] < rec_test['first_date']+pd.DateOffset(1)]\n",
    "rec_test_day_one"
   ]
  },
  {
   "cell_type": "code",
   "execution_count": 65,
   "metadata": {
    "scrolled": false
   },
   "outputs": [
    {
     "data": {
      "text/html": [
       "<div>\n",
       "<style scoped>\n",
       "    .dataframe tbody tr th:only-of-type {\n",
       "        vertical-align: middle;\n",
       "    }\n",
       "\n",
       "    .dataframe tbody tr th {\n",
       "        vertical-align: top;\n",
       "    }\n",
       "\n",
       "    .dataframe thead th {\n",
       "        text-align: right;\n",
       "    }\n",
       "</style>\n",
       "<table border=\"1\" class=\"dataframe\">\n",
       "  <thead>\n",
       "    <tr style=\"text-align: right;\">\n",
       "      <th></th>\n",
       "      <th>event_name</th>\n",
       "      <th>user_id</th>\n",
       "      <th>percent</th>\n",
       "    </tr>\n",
       "  </thead>\n",
       "  <tbody>\n",
       "    <tr>\n",
       "      <th>0</th>\n",
       "      <td>login</td>\n",
       "      <td>2978</td>\n",
       "      <td>44.9</td>\n",
       "    </tr>\n",
       "    <tr>\n",
       "      <th>1</th>\n",
       "      <td>product_page</td>\n",
       "      <td>1854</td>\n",
       "      <td>27.9</td>\n",
       "    </tr>\n",
       "    <tr>\n",
       "      <th>2</th>\n",
       "      <td>product_cart</td>\n",
       "      <td>889</td>\n",
       "      <td>13.4</td>\n",
       "    </tr>\n",
       "    <tr>\n",
       "      <th>3</th>\n",
       "      <td>purchase</td>\n",
       "      <td>918</td>\n",
       "      <td>13.8</td>\n",
       "    </tr>\n",
       "  </tbody>\n",
       "</table>\n",
       "</div>"
      ],
      "text/plain": [
       "     event_name  user_id  percent\n",
       "0         login     2978     44.9\n",
       "1  product_page     1854     27.9\n",
       "2  product_cart      889     13.4\n",
       "3      purchase      918     13.8"
      ]
     },
     "execution_count": 65,
     "metadata": {},
     "output_type": "execute_result"
    }
   ],
   "source": [
    "#посчитала количество каждого события за 1 день регистрации пользователей теста recommender_system с процентом\n",
    "rec_one_funnel = rec_test_day_one.pivot_table(index='event_name', values='user_id', aggfunc='count').reset_index()\n",
    "rec_one_funnel['event_name'] = pd.Categorical(rec_one_funnel['event_name'], ['login', 'product_page', 'product_cart', 'purchase'])\n",
    "rec_one_funnel = rec_one_funnel.sort_values('event_name').reset_index(drop= True)\n",
    "rec_one_funnel['percent'] = round((rec_one_funnel['user_id']/rec_one_funnel['user_id'].sum()),3)*100\n",
    "rec_one_funnel"
   ]
  },
  {
   "cell_type": "code",
   "execution_count": 66,
   "metadata": {},
   "outputs": [
    {
     "data": {
      "text/html": [
       "<div>\n",
       "<style scoped>\n",
       "    .dataframe tbody tr th:only-of-type {\n",
       "        vertical-align: middle;\n",
       "    }\n",
       "\n",
       "    .dataframe tbody tr th {\n",
       "        vertical-align: top;\n",
       "    }\n",
       "\n",
       "    .dataframe thead th {\n",
       "        text-align: right;\n",
       "    }\n",
       "</style>\n",
       "<table border=\"1\" class=\"dataframe\">\n",
       "  <thead>\n",
       "    <tr style=\"text-align: right;\">\n",
       "      <th></th>\n",
       "      <th>event_name</th>\n",
       "      <th>user_id</th>\n",
       "      <th>percent</th>\n",
       "      <th>ratio_event</th>\n",
       "    </tr>\n",
       "  </thead>\n",
       "  <tbody>\n",
       "    <tr>\n",
       "      <th>0</th>\n",
       "      <td>login</td>\n",
       "      <td>2978</td>\n",
       "      <td>44.9</td>\n",
       "      <td>100.0</td>\n",
       "    </tr>\n",
       "    <tr>\n",
       "      <th>1</th>\n",
       "      <td>product_page</td>\n",
       "      <td>1854</td>\n",
       "      <td>27.9</td>\n",
       "      <td>62.3</td>\n",
       "    </tr>\n",
       "    <tr>\n",
       "      <th>2</th>\n",
       "      <td>product_cart</td>\n",
       "      <td>889</td>\n",
       "      <td>13.4</td>\n",
       "      <td>48.0</td>\n",
       "    </tr>\n",
       "    <tr>\n",
       "      <th>3</th>\n",
       "      <td>purchase</td>\n",
       "      <td>918</td>\n",
       "      <td>13.8</td>\n",
       "      <td>103.3</td>\n",
       "    </tr>\n",
       "  </tbody>\n",
       "</table>\n",
       "</div>"
      ],
      "text/plain": [
       "     event_name  user_id  percent  ratio_event\n",
       "0         login     2978     44.9        100.0\n",
       "1  product_page     1854     27.9         62.3\n",
       "2  product_cart      889     13.4         48.0\n",
       "3      purchase      918     13.8        103.3"
      ]
     },
     "execution_count": 66,
     "metadata": {},
     "output_type": "execute_result"
    }
   ],
   "source": [
    "#была подсчитана доля пользователей за 1 день регистрации на тест recommender_system в отношении событий по последовательности\n",
    "pd.options.mode.chained_assignment = None\n",
    "rec_one_funnel['ratio_event'] = 0\n",
    "for i in range(4):\n",
    "    if i == 0:\n",
    "        rec_one_funnel['ratio_event'].loc[i] = 100\n",
    "    else:\n",
    "        rec_one_funnel['ratio_event'].loc[i] = round((rec_one_funnel['user_id'].loc[i]/rec_one_funnel['user_id'].loc[i-1]),3)*100\n",
    "\n",
    "rec_one_funnel"
   ]
  },
  {
   "cell_type": "code",
   "execution_count": 67,
   "metadata": {},
   "outputs": [
    {
     "data": {
      "image/png": "[encoded data removed]"
     },
     "metadata": {},
     "output_type": "display_data"
    }
   ],
   "source": [
    "#была построена воронка событий за 1 день регистрации пользователей теста recommender_system\n",
    "fig = go.Figure(go.Funnel(y=rec_one_funnel['event_name'], x=rec_one_funnel['user_id'], textposition = \"inside\", \n",
    "    textinfo = \"value+percent initial\", opacity = 0.6, marker = {\"color\": \"darkorchid\"}))\n",
    "fig.update_layout(title='Воронка событий по доле пользователей за 1 день регистрации на тест recommender_system', title_x = 0.5 )\n",
    "fig.show('png')"
   ]
  },
  {
   "cell_type": "markdown",
   "metadata": {},
   "source": [
    "**Выводы:**\n",
    "При исправлении данных и перестановке событий по логическому порядку отношение числа пользователей между событиями за 1 день регистрации на тест recommender_system показали следующее:\n",
    "  - событие \"product_page\" (В) к количеству пользователей с событием \"login\" (А) показало 62,3%\n",
    "  - отношение числа пользователей с событием \"product_cart\" (С) к количеству пользователей с событием \"product_page\" (В) - 48%\n",
    "  - отношение числа пользователей с событием \"purchase\" (D) к количеству пользователей с событием \"product_cart\" (С) - 103,3%\n",
    "  - отношение числа пользователей с событием \"purchase\" (D) с событием \"login\" (А) показало 30,8%"
   ]
  },
  {
   "cell_type": "code",
   "execution_count": 68,
   "metadata": {
    "scrolled": true
   },
   "outputs": [
    {
     "data": {
      "text/html": [
       "<div>\n",
       "<style scoped>\n",
       "    .dataframe tbody tr th:only-of-type {\n",
       "        vertical-align: middle;\n",
       "    }\n",
       "\n",
       "    .dataframe tbody tr th {\n",
       "        vertical-align: top;\n",
       "    }\n",
       "\n",
       "    .dataframe thead th {\n",
       "        text-align: right;\n",
       "    }\n",
       "</style>\n",
       "<table border=\"1\" class=\"dataframe\">\n",
       "  <thead>\n",
       "    <tr style=\"text-align: right;\">\n",
       "      <th></th>\n",
       "      <th>user_id</th>\n",
       "      <th>first_date</th>\n",
       "      <th>region</th>\n",
       "      <th>device</th>\n",
       "      <th>group</th>\n",
       "      <th>ab_test</th>\n",
       "      <th>event_dt</th>\n",
       "      <th>event_name</th>\n",
       "      <th>details</th>\n",
       "    </tr>\n",
       "  </thead>\n",
       "  <tbody>\n",
       "    <tr>\n",
       "      <th>0</th>\n",
       "      <td>D72A72121175D8BE</td>\n",
       "      <td>2020-12-07</td>\n",
       "      <td>EU</td>\n",
       "      <td>PC</td>\n",
       "      <td>A</td>\n",
       "      <td>recommender_system_test</td>\n",
       "      <td>2020-12-07 21:52:10</td>\n",
       "      <td>product_page</td>\n",
       "      <td>NaN</td>\n",
       "    </tr>\n",
       "    <tr>\n",
       "      <th>1</th>\n",
       "      <td>D72A72121175D8BE</td>\n",
       "      <td>2020-12-07</td>\n",
       "      <td>EU</td>\n",
       "      <td>PC</td>\n",
       "      <td>A</td>\n",
       "      <td>recommender_system_test</td>\n",
       "      <td>2020-12-07 21:52:07</td>\n",
       "      <td>login</td>\n",
       "      <td>NaN</td>\n",
       "    </tr>\n",
       "    <tr>\n",
       "      <th>146</th>\n",
       "      <td>DD4352CDCF8C3D57</td>\n",
       "      <td>2020-12-07</td>\n",
       "      <td>EU</td>\n",
       "      <td>Android</td>\n",
       "      <td>B</td>\n",
       "      <td>recommender_system_test</td>\n",
       "      <td>2020-12-07 15:32:54</td>\n",
       "      <td>product_page</td>\n",
       "      <td>NaN</td>\n",
       "    </tr>\n",
       "    <tr>\n",
       "      <th>147</th>\n",
       "      <td>DD4352CDCF8C3D57</td>\n",
       "      <td>2020-12-07</td>\n",
       "      <td>EU</td>\n",
       "      <td>Android</td>\n",
       "      <td>B</td>\n",
       "      <td>recommender_system_test</td>\n",
       "      <td>2020-12-08 08:29:31</td>\n",
       "      <td>product_page</td>\n",
       "      <td>NaN</td>\n",
       "    </tr>\n",
       "    <tr>\n",
       "      <th>148</th>\n",
       "      <td>DD4352CDCF8C3D57</td>\n",
       "      <td>2020-12-07</td>\n",
       "      <td>EU</td>\n",
       "      <td>Android</td>\n",
       "      <td>B</td>\n",
       "      <td>recommender_system_test</td>\n",
       "      <td>2020-12-10 18:18:27</td>\n",
       "      <td>product_page</td>\n",
       "      <td>NaN</td>\n",
       "    </tr>\n",
       "    <tr>\n",
       "      <th>...</th>\n",
       "      <td>...</td>\n",
       "      <td>...</td>\n",
       "      <td>...</td>\n",
       "      <td>...</td>\n",
       "      <td>...</td>\n",
       "      <td>...</td>\n",
       "      <td>...</td>\n",
       "      <td>...</td>\n",
       "      <td>...</td>\n",
       "    </tr>\n",
       "    <tr>\n",
       "      <th>449812</th>\n",
       "      <td>0416B34D35C8C8B8</td>\n",
       "      <td>2020-12-20</td>\n",
       "      <td>EU</td>\n",
       "      <td>Android</td>\n",
       "      <td>A</td>\n",
       "      <td>recommender_system_test</td>\n",
       "      <td>2020-12-21 22:28:29</td>\n",
       "      <td>product_page</td>\n",
       "      <td>NaN</td>\n",
       "    </tr>\n",
       "    <tr>\n",
       "      <th>449813</th>\n",
       "      <td>0416B34D35C8C8B8</td>\n",
       "      <td>2020-12-20</td>\n",
       "      <td>EU</td>\n",
       "      <td>Android</td>\n",
       "      <td>A</td>\n",
       "      <td>recommender_system_test</td>\n",
       "      <td>2020-12-24 09:12:51</td>\n",
       "      <td>product_page</td>\n",
       "      <td>NaN</td>\n",
       "    </tr>\n",
       "    <tr>\n",
       "      <th>449814</th>\n",
       "      <td>0416B34D35C8C8B8</td>\n",
       "      <td>2020-12-20</td>\n",
       "      <td>EU</td>\n",
       "      <td>Android</td>\n",
       "      <td>A</td>\n",
       "      <td>recommender_system_test</td>\n",
       "      <td>2020-12-20 20:58:25</td>\n",
       "      <td>login</td>\n",
       "      <td>NaN</td>\n",
       "    </tr>\n",
       "    <tr>\n",
       "      <th>449815</th>\n",
       "      <td>0416B34D35C8C8B8</td>\n",
       "      <td>2020-12-20</td>\n",
       "      <td>EU</td>\n",
       "      <td>Android</td>\n",
       "      <td>A</td>\n",
       "      <td>recommender_system_test</td>\n",
       "      <td>2020-12-21 22:28:29</td>\n",
       "      <td>login</td>\n",
       "      <td>NaN</td>\n",
       "    </tr>\n",
       "    <tr>\n",
       "      <th>449816</th>\n",
       "      <td>0416B34D35C8C8B8</td>\n",
       "      <td>2020-12-20</td>\n",
       "      <td>EU</td>\n",
       "      <td>Android</td>\n",
       "      <td>A</td>\n",
       "      <td>recommender_system_test</td>\n",
       "      <td>2020-12-24 09:12:49</td>\n",
       "      <td>login</td>\n",
       "      <td>NaN</td>\n",
       "    </tr>\n",
       "  </tbody>\n",
       "</table>\n",
       "<p>19601 rows × 9 columns</p>\n",
       "</div>"
      ],
      "text/plain": [
       "                 user_id first_date region   device group  \\\n",
       "0       D72A72121175D8BE 2020-12-07     EU       PC     A   \n",
       "1       D72A72121175D8BE 2020-12-07     EU       PC     A   \n",
       "146     DD4352CDCF8C3D57 2020-12-07     EU  Android     B   \n",
       "147     DD4352CDCF8C3D57 2020-12-07     EU  Android     B   \n",
       "148     DD4352CDCF8C3D57 2020-12-07     EU  Android     B   \n",
       "...                  ...        ...    ...      ...   ...   \n",
       "449812  0416B34D35C8C8B8 2020-12-20     EU  Android     A   \n",
       "449813  0416B34D35C8C8B8 2020-12-20     EU  Android     A   \n",
       "449814  0416B34D35C8C8B8 2020-12-20     EU  Android     A   \n",
       "449815  0416B34D35C8C8B8 2020-12-20     EU  Android     A   \n",
       "449816  0416B34D35C8C8B8 2020-12-20     EU  Android     A   \n",
       "\n",
       "                        ab_test            event_dt    event_name  details  \n",
       "0       recommender_system_test 2020-12-07 21:52:10  product_page      NaN  \n",
       "1       recommender_system_test 2020-12-07 21:52:07         login      NaN  \n",
       "146     recommender_system_test 2020-12-07 15:32:54  product_page      NaN  \n",
       "147     recommender_system_test 2020-12-08 08:29:31  product_page      NaN  \n",
       "148     recommender_system_test 2020-12-10 18:18:27  product_page      NaN  \n",
       "...                         ...                 ...           ...      ...  \n",
       "449812  recommender_system_test 2020-12-21 22:28:29  product_page      NaN  \n",
       "449813  recommender_system_test 2020-12-24 09:12:51  product_page      NaN  \n",
       "449814  recommender_system_test 2020-12-20 20:58:25         login      NaN  \n",
       "449815  recommender_system_test 2020-12-21 22:28:29         login      NaN  \n",
       "449816  recommender_system_test 2020-12-24 09:12:49         login      NaN  \n",
       "\n",
       "[19601 rows x 9 columns]"
      ]
     },
     "execution_count": 68,
     "metadata": {},
     "output_type": "execute_result"
    }
   ],
   "source": [
    "#выделила отдельно пользователей теста recommender_system за 14 дней с момента регистрации\n",
    "# rec_test_day_14 = rec_test[(rec_test['event_dt'] > rec_test['first_date']+pd.DateOffset(13)) & (rec_test['event_dt'] < rec_test['first_date']+pd.DateOffset(14))]\n",
    "rec_test_day_14 = rec_test[rec_test['event_dt'] < rec_test['first_date']+pd.DateOffset(14)]\n",
    "rec_test_day_14\n"
   ]
  },
  {
   "cell_type": "code",
   "execution_count": 69,
   "metadata": {
    "scrolled": true
   },
   "outputs": [
    {
     "data": {
      "text/html": [
       "<div>\n",
       "<style scoped>\n",
       "    .dataframe tbody tr th:only-of-type {\n",
       "        vertical-align: middle;\n",
       "    }\n",
       "\n",
       "    .dataframe tbody tr th {\n",
       "        vertical-align: top;\n",
       "    }\n",
       "\n",
       "    .dataframe thead th {\n",
       "        text-align: right;\n",
       "    }\n",
       "</style>\n",
       "<table border=\"1\" class=\"dataframe\">\n",
       "  <thead>\n",
       "    <tr style=\"text-align: right;\">\n",
       "      <th></th>\n",
       "      <th>event_name</th>\n",
       "      <th>user_id</th>\n",
       "      <th>percent</th>\n",
       "    </tr>\n",
       "  </thead>\n",
       "  <tbody>\n",
       "    <tr>\n",
       "      <th>0</th>\n",
       "      <td>login</td>\n",
       "      <td>8872</td>\n",
       "      <td>45.3</td>\n",
       "    </tr>\n",
       "    <tr>\n",
       "      <th>1</th>\n",
       "      <td>product_page</td>\n",
       "      <td>5454</td>\n",
       "      <td>27.8</td>\n",
       "    </tr>\n",
       "    <tr>\n",
       "      <th>2</th>\n",
       "      <td>product_cart</td>\n",
       "      <td>2609</td>\n",
       "      <td>13.3</td>\n",
       "    </tr>\n",
       "    <tr>\n",
       "      <th>3</th>\n",
       "      <td>purchase</td>\n",
       "      <td>2666</td>\n",
       "      <td>13.6</td>\n",
       "    </tr>\n",
       "  </tbody>\n",
       "</table>\n",
       "</div>"
      ],
      "text/plain": [
       "     event_name  user_id  percent\n",
       "0         login     8872     45.3\n",
       "1  product_page     5454     27.8\n",
       "2  product_cart     2609     13.3\n",
       "3      purchase     2666     13.6"
      ]
     },
     "execution_count": 69,
     "metadata": {},
     "output_type": "execute_result"
    }
   ],
   "source": [
    "#посчитала количество каждого события за 14 день с момента регистрации пользователей теста recommender_system с процентом\n",
    "rec_ft_funnel = rec_test_day_14.pivot_table(index='event_name', values='user_id', aggfunc='count').reset_index()\n",
    "rec_ft_funnel['event_name'] = pd.Categorical(rec_ft_funnel['event_name'], ['login', 'product_page', 'product_cart', 'purchase'])\n",
    "rec_ft_funnel = rec_ft_funnel.sort_values('event_name').reset_index(drop= True)\n",
    "rec_ft_funnel['percent'] = round((rec_ft_funnel['user_id']/rec_ft_funnel['user_id'].sum()),3)*100\n",
    "rec_ft_funnel"
   ]
  },
  {
   "cell_type": "code",
   "execution_count": 70,
   "metadata": {
    "scrolled": true
   },
   "outputs": [
    {
     "data": {
      "text/html": [
       "<div>\n",
       "<style scoped>\n",
       "    .dataframe tbody tr th:only-of-type {\n",
       "        vertical-align: middle;\n",
       "    }\n",
       "\n",
       "    .dataframe tbody tr th {\n",
       "        vertical-align: top;\n",
       "    }\n",
       "\n",
       "    .dataframe thead th {\n",
       "        text-align: right;\n",
       "    }\n",
       "</style>\n",
       "<table border=\"1\" class=\"dataframe\">\n",
       "  <thead>\n",
       "    <tr style=\"text-align: right;\">\n",
       "      <th></th>\n",
       "      <th>event_name</th>\n",
       "      <th>user_id</th>\n",
       "      <th>percent</th>\n",
       "      <th>ratio_event</th>\n",
       "    </tr>\n",
       "  </thead>\n",
       "  <tbody>\n",
       "    <tr>\n",
       "      <th>0</th>\n",
       "      <td>login</td>\n",
       "      <td>8872</td>\n",
       "      <td>45.3</td>\n",
       "      <td>100.0</td>\n",
       "    </tr>\n",
       "    <tr>\n",
       "      <th>1</th>\n",
       "      <td>product_page</td>\n",
       "      <td>5454</td>\n",
       "      <td>27.8</td>\n",
       "      <td>61.5</td>\n",
       "    </tr>\n",
       "    <tr>\n",
       "      <th>2</th>\n",
       "      <td>product_cart</td>\n",
       "      <td>2609</td>\n",
       "      <td>13.3</td>\n",
       "      <td>47.8</td>\n",
       "    </tr>\n",
       "    <tr>\n",
       "      <th>3</th>\n",
       "      <td>purchase</td>\n",
       "      <td>2666</td>\n",
       "      <td>13.6</td>\n",
       "      <td>102.2</td>\n",
       "    </tr>\n",
       "  </tbody>\n",
       "</table>\n",
       "</div>"
      ],
      "text/plain": [
       "     event_name  user_id  percent  ratio_event\n",
       "0         login     8872     45.3        100.0\n",
       "1  product_page     5454     27.8         61.5\n",
       "2  product_cart     2609     13.3         47.8\n",
       "3      purchase     2666     13.6        102.2"
      ]
     },
     "execution_count": 70,
     "metadata": {},
     "output_type": "execute_result"
    }
   ],
   "source": [
    "#была подсчитана доля пользователей за 14 день с момента регистрации на тест recommender_system в отношении событий по последовательности\n",
    "pd.options.mode.chained_assignment = None\n",
    "rec_ft_funnel['ratio_event'] = 0\n",
    "for i in range(4):\n",
    "    if i == 0:\n",
    "        rec_ft_funnel['ratio_event'].loc[i] = 100\n",
    "    else:\n",
    "        rec_ft_funnel['ratio_event'].loc[i] = round((rec_ft_funnel['user_id'].loc[i]/rec_ft_funnel['user_id'].loc[i-1]),3)*100\n",
    "\n",
    "rec_ft_funnel"
   ]
  },
  {
   "cell_type": "code",
   "execution_count": 71,
   "metadata": {},
   "outputs": [
    {
     "data": {
      "image/png": "[encoded data removed]"
     },
     "metadata": {},
     "output_type": "display_data"
    }
   ],
   "source": [
    "#была построена воронка событий зза 14 день с момента регистрации пользователей теста recommender_system\n",
    "fig = go.Figure(go.Funnel(y=rec_ft_funnel['event_name'], x=rec_ft_funnel['user_id'], textposition = \"inside\", \n",
    "    textinfo = \"value+percent initial\", opacity = 0.6, marker = {\"color\": \"orchid\"}))\n",
    "fig.update_layout(title='Воронка событий по доле пользователей за 14 день регистрации на тест recommender_system', title_x = 0.5 )\n",
    "fig.show('png')"
   ]
  },
  {
   "cell_type": "markdown",
   "metadata": {},
   "source": [
    "**Выводы:**\n",
    "При исправлении данных и перестановке событий по логическому порядку отношение числа пользователей между событиями за 14 день регистрации на тест recommender_system показали следующее:\n",
    "  - событие \"product_page\" (В) к количеству пользователей с событием \"login\" (А) показало 61,5%\n",
    "  - отношение числа пользователей с событием \"product_cart\" (С) к количеству пользователей с событием \"product_page\" (В) - 47,8%\n",
    "  - отношение числа пользователей с событием \"purchase\" (D) к количеству пользователей с событием \"product_cart\" (С) - 102,2%\n",
    "  - отношение числа пользователей с событием \"purchase\" (D) с событием \"login\" (А) показало 30%"
   ]
  },
  {
   "cell_type": "markdown",
   "metadata": {},
   "source": [
    "**Выводы по ожидаемому эффекту:**за 14 дней с момента регистрации в системе пользователи не показали значительного улучшение каждой метрики не менее, чем на 10%:\n",
    "- конверсии в просмотр карточек товаров(product_page) уменьшились на 1%\n",
    "- просмотры корзины (product_cart) уменьшились на 1%\n",
    "- покупки (purchase) уменьшились на 1%."
   ]
  },
  {
   "cell_type": "markdown",
   "metadata": {},
   "source": [
    "### Особенности данных, которые надо учесть прежде чем приступать к A/B-тестированию:"
   ]
  },
  {
   "cell_type": "markdown",
   "metadata": {},
   "source": [
    "- Среди данных есть те, которые были собраны после окончания теста или недобраны. Например, среди данных по зарегистрировавшимся пользователям есть те, которые зарегистрировались после дедлайна (после 21.12.2020). Также среди данных о событиях новых пользователей не обнаружено данных за пять последних дней. \n",
    "- Помимо пользователей с EU, также есть пользователи с других регионов (CIS, APAC, N.America), но в значительно меньшем количестве\n",
    "- Параллельно с тестом recommender_system проводился тест interface_eu, а также под конец теста проводилась маркетинговое событие - CIS New Year Gift Lottery, которая могла быть связана с рождественскими и новогодними праздниками. \n",
    "- Больше всего пользователей теряется после перехода с главной страницы на страницу покупки. А точнее половина пользователей не продолжают просмотр продуктов для покупки. \n",
    "- В общем доля пользователей, которая с входа в аккаунт доходит до оплаты продуктов составляет 33%. Получается большая часть пользователей не покупают продукты.\n",
    "- Не достигнут ожидаемый результат в увеличении конверсии по каждому шагу на 10%.\n",
    "- Пользователи внутри каждой тестовой группы уникальны. Однако, есть те, которые также проходили тест interface_eu_test\n",
    "- В тесте количеством пользователей в контрольной группе А больше на 14%, чем в В, что может повлиять на результаты."
   ]
  },
  {
   "cell_type": "markdown",
   "metadata": {},
   "source": [
    "## Оценка результатов A/B-тестирования"
   ]
  },
  {
   "cell_type": "code",
   "execution_count": 72,
   "metadata": {
    "scrolled": false
   },
   "outputs": [
    {
     "data": {
      "text/html": [
       "<div>\n",
       "<style scoped>\n",
       "    .dataframe tbody tr th:only-of-type {\n",
       "        vertical-align: middle;\n",
       "    }\n",
       "\n",
       "    .dataframe tbody tr th {\n",
       "        vertical-align: top;\n",
       "    }\n",
       "\n",
       "    .dataframe thead th {\n",
       "        text-align: right;\n",
       "    }\n",
       "</style>\n",
       "<table border=\"1\" class=\"dataframe\">\n",
       "  <thead>\n",
       "    <tr style=\"text-align: right;\">\n",
       "      <th></th>\n",
       "      <th>user_id</th>\n",
       "    </tr>\n",
       "    <tr>\n",
       "      <th>group</th>\n",
       "      <th></th>\n",
       "    </tr>\n",
       "  </thead>\n",
       "  <tbody>\n",
       "    <tr>\n",
       "      <th>A</th>\n",
       "      <td>2206</td>\n",
       "    </tr>\n",
       "    <tr>\n",
       "      <th>B</th>\n",
       "      <td>794</td>\n",
       "    </tr>\n",
       "  </tbody>\n",
       "</table>\n",
       "</div>"
      ],
      "text/plain": [
       "       user_id\n",
       "group         \n",
       "A         2206\n",
       "B          794"
      ]
     },
     "execution_count": 72,
     "metadata": {},
     "output_type": "execute_result"
    }
   ],
   "source": [
    "#подсчет количества уникальных пользователей и их процент по группам теста recommender_system\n",
    "rec_test_part= merge_data[merge_data['ab_test'] == 'recommender_system_test'].groupby('group').agg(\n",
    "    {'user_id':'nunique'}).sort_values(by='user_id', ascending=False)\n",
    "rec_test_part"
   ]
  },
  {
   "cell_type": "code",
   "execution_count": 73,
   "metadata": {
    "scrolled": true
   },
   "outputs": [
    {
     "data": {
      "text/html": [
       "<div>\n",
       "<style scoped>\n",
       "    .dataframe tbody tr th:only-of-type {\n",
       "        vertical-align: middle;\n",
       "    }\n",
       "\n",
       "    .dataframe tbody tr th {\n",
       "        vertical-align: top;\n",
       "    }\n",
       "\n",
       "    .dataframe thead th {\n",
       "        text-align: right;\n",
       "    }\n",
       "</style>\n",
       "<table border=\"1\" class=\"dataframe\">\n",
       "  <thead>\n",
       "    <tr style=\"text-align: right;\">\n",
       "      <th>group</th>\n",
       "      <th>A</th>\n",
       "      <th>B</th>\n",
       "    </tr>\n",
       "    <tr>\n",
       "      <th>event_name</th>\n",
       "      <th></th>\n",
       "      <th></th>\n",
       "    </tr>\n",
       "  </thead>\n",
       "  <tbody>\n",
       "    <tr>\n",
       "      <th>login</th>\n",
       "      <td>2206</td>\n",
       "      <td>793</td>\n",
       "    </tr>\n",
       "    <tr>\n",
       "      <th>product_page</th>\n",
       "      <td>1420</td>\n",
       "      <td>448</td>\n",
       "    </tr>\n",
       "    <tr>\n",
       "      <th>purchase</th>\n",
       "      <td>700</td>\n",
       "      <td>224</td>\n",
       "    </tr>\n",
       "    <tr>\n",
       "      <th>product_cart</th>\n",
       "      <td>670</td>\n",
       "      <td>225</td>\n",
       "    </tr>\n",
       "  </tbody>\n",
       "</table>\n",
       "</div>"
      ],
      "text/plain": [
       "group            A    B\n",
       "event_name             \n",
       "login         2206  793\n",
       "product_page  1420  448\n",
       "purchase       700  224\n",
       "product_cart   670  225"
      ]
     },
     "execution_count": 73,
     "metadata": {},
     "output_type": "execute_result"
    }
   ],
   "source": [
    "#сводная таблица событий по группам эксперимента\n",
    "rec_test_activ = rec_test.pivot_table(\n",
    "    index='event_name', \n",
    "    columns='group', \n",
    "    values='user_id',\n",
    "    aggfunc='nunique').sort_values('A',ascending=False)\n",
    "rec_test_activ"
   ]
  },
  {
   "cell_type": "markdown",
   "metadata": {},
   "source": [
    "В данной таблице видно, что самое популярное событие по числу пользователей является вход в свой аккаунт у всех групп эксперимента."
   ]
  },
  {
   "cell_type": "markdown",
   "metadata": {},
   "source": [
    "Далее была проведена проверка различия между контрольной группой А с группой нового платёжа воронки В с помощью функции z-теста.\n",
    "Были проверены следующие гипотезы :\n",
    "- **Нулевая гипотеза:** нет оснований считать доли групп пользователей участвующих в тесте разными\n",
    "- **Альтенативная гипотеза:** между долями групп пользователей участвующих в тесте есть значимая разница"
   ]
  },
  {
   "cell_type": "code",
   "execution_count": 74,
   "metadata": {},
   "outputs": [],
   "source": [
    "# проверка гипотез\n",
    "def hypothesis_test(experiment1, experiment2, event, alpha):\n",
    "    event1 = rec_test_activ.loc[event, experiment1]\n",
    "    event2 = rec_test_activ.loc[event, experiment2]\n",
    "    id1 = rec_test_part.loc[experiment1, 'user_id']\n",
    "    id2 = rec_test_part.loc[experiment2, 'user_id']\n",
    "    # пропорция успехов в первой группе:\n",
    "    p1 = event1/id1\n",
    "    # пропорция успехов во второй группе:\n",
    "    p2 = event2/id2\n",
    "    # пропорция успехов в комбинированном датасете:\n",
    "    p_combined = (event1 + event2) / (id1 + id2)\n",
    "    # разница пропорций в датасетах\n",
    "    difference = p1 - p2 \n",
    "    z_value = difference / mth.sqrt(p_combined * (1 - p_combined) * (1/id1 + 1/id2))\n",
    "    # задаем стандартное нормальное распределение (среднее 0, ст.отклонение 1)\n",
    "    distr = st.norm(0, 1) \n",
    "    p_value = (1 - distr.cdf(abs(z_value))) * 2\n",
    "    \n",
    "    print('Событие \"{}\" - p-значение: {p_value:.2f}'.format(event, p_value=p_value))\n",
    "\n",
    "    if p_value < alpha:\n",
    "        print('Отвергаем нулевую гипотезу: между долями есть значимая разница')\n",
    "    else:\n",
    "        print(\n",
    "            'Не получилось отвергнуть нулевую гипотезу, нет оснований считать доли разными'\n",
    "        )"
   ]
  },
  {
   "cell_type": "code",
   "execution_count": 75,
   "metadata": {
    "scrolled": false
   },
   "outputs": [
    {
     "name": "stdout",
     "output_type": "stream",
     "text": [
      "Событие \"login\" - p-значение: 0.10\n",
      "Не получилось отвергнуть нулевую гипотезу, нет оснований считать доли разными\n",
      "\n",
      "Событие \"product_page\" - p-значение: 0.00\n",
      "Отвергаем нулевую гипотезу: между долями есть значимая разница\n",
      "\n",
      "Событие \"purchase\" - p-значение: 0.07\n",
      "Не получилось отвергнуть нулевую гипотезу, нет оснований считать доли разными\n",
      "\n",
      "Событие \"product_cart\" - p-значение: 0.28\n",
      "Не получилось отвергнуть нулевую гипотезу, нет оснований считать доли разными\n",
      "\n"
     ]
    }
   ],
   "source": [
    "#проверка гипотезы с помощью функции z-теста \n",
    "for event in rec_test_activ.index:\n",
    "    hypothesis_test('A', 'B', event, 0.05)\n",
    "    print()"
   ]
  },
  {
   "cell_type": "markdown",
   "metadata": {},
   "source": [
    "**Вывод:** Нулевая гипотеза не подтвердилась во всех этапах кроме как в \"product_page\". Таким образом, в этапах авторизация, покупка, просмотр корзины между долями групп пользователей участвующих в тесте есть значимая разница."
   ]
  },
  {
   "cell_type": "markdown",
   "metadata": {},
   "source": [
    "## Общее заключение о корректности проведения теста"
   ]
  },
  {
   "cell_type": "markdown",
   "metadata": {},
   "source": [
    "При оценке корректности проведения теста были обнаружены различные несоответствия с заявленным техническим заданием:\n",
    "- перебор данных при регистрации пользователей;\n",
    "- недобор данных по новым пользователям;\n",
    "- наличие пользователей других регионов помимо заявленных в техническом задании;\n",
    "- проведение параллельно другого теста;\n",
    "- проведение маркетингового события в период теста.\n",
    "\n",
    "При анализе действий пользователей был замечено, что некоторые пропускали шаг просмотра в корзину и сразу после выбора товара переходили на покупку. Однако, заметна резкая потеря пользователей после перехода с главной страницы на страницу покупки. Половина пользователей не продолжают просмотр продуктов для покупки. В общем доля пользователей, которая проходит весь процесс действия с авторизации в аккаунт до оплаты, составляет 33%. Получается большая часть пользователей не покупают продукты.\n",
    "\n",
    "Проверка доли групп пользователей, участвующих в тесте, показала, что они не отличаются.\n",
    "\n",
    "Таким образом, на основе выше указанных причин невозможно заявить, что полученные результаты теста корректны. Рекомендуется провести тест повторно, учитывая вышеуказанные проблемы.\n",
    "Для чистоты проведения рекомендуется следующее:\n",
    "- подобрать время проведения теста так, чтобы не было совпадения с другими тестами, маркетинговыми активностями и праздниками;\n",
    "- строго соблюдать график набора пользователей, начала и окончания сбора данных;\n",
    "- соблюдать сбор данных пользователей только с заявленного в техническом задании региона;\n",
    "- соблюдать равное количество пользователей в каждой тестовой группе."
   ]
  }
 ],
 "metadata": {
  "ExecuteTimeLog": [
   {
    "duration": 812,
    "start_time": "2023-03-05T21:53:55.452Z"
   },
   {
    "duration": 107,
    "start_time": "2023-03-05T21:54:48.820Z"
   },
   {
    "duration": 45,
    "start_time": "2023-03-05T21:57:38.683Z"
   },
   {
    "duration": 944,
    "start_time": "2023-03-05T21:58:30.532Z"
   },
   {
    "duration": 13,
    "start_time": "2023-03-05T21:59:18.259Z"
   },
   {
    "duration": 10,
    "start_time": "2023-03-05T21:59:24.848Z"
   },
   {
    "duration": 13,
    "start_time": "2023-03-05T21:59:31.271Z"
   },
   {
    "duration": 6,
    "start_time": "2023-03-05T21:59:38.047Z"
   },
   {
    "duration": 6,
    "start_time": "2023-03-05T21:59:43.803Z"
   },
   {
    "duration": 10,
    "start_time": "2023-03-05T21:59:49.516Z"
   },
   {
    "duration": 5,
    "start_time": "2023-03-05T21:59:56.003Z"
   },
   {
    "duration": 4,
    "start_time": "2023-03-05T22:00:03.567Z"
   },
   {
    "duration": 5,
    "start_time": "2023-03-05T22:00:11.499Z"
   },
   {
    "duration": 10,
    "start_time": "2023-03-05T22:00:45.528Z"
   },
   {
    "duration": 16,
    "start_time": "2023-03-05T22:00:54.307Z"
   },
   {
    "duration": 23,
    "start_time": "2023-03-05T22:01:02.467Z"
   },
   {
    "duration": 11,
    "start_time": "2023-03-05T22:01:09.595Z"
   },
   {
    "duration": 31,
    "start_time": "2023-03-05T22:01:15.383Z"
   },
   {
    "duration": 6,
    "start_time": "2023-03-05T22:01:21.967Z"
   },
   {
    "duration": 7,
    "start_time": "2023-03-05T22:01:28.639Z"
   },
   {
    "duration": 7,
    "start_time": "2023-03-05T22:01:33.935Z"
   },
   {
    "duration": 14,
    "start_time": "2023-03-05T22:01:40.339Z"
   },
   {
    "duration": 12,
    "start_time": "2023-03-05T22:02:17.800Z"
   },
   {
    "duration": 50,
    "start_time": "2023-03-05T22:02:24.183Z"
   },
   {
    "duration": 135,
    "start_time": "2023-03-05T22:02:31.515Z"
   },
   {
    "duration": 35,
    "start_time": "2023-03-05T22:02:37.695Z"
   },
   {
    "duration": 496,
    "start_time": "2023-03-05T22:02:44.807Z"
   },
   {
    "duration": 174,
    "start_time": "2023-03-05T22:02:52.435Z"
   },
   {
    "duration": 7,
    "start_time": "2023-03-05T22:02:59.422Z"
   },
   {
    "duration": 10,
    "start_time": "2023-03-05T22:03:26.407Z"
   },
   {
    "duration": 12,
    "start_time": "2023-03-05T22:03:33.439Z"
   },
   {
    "duration": 8,
    "start_time": "2023-03-05T22:03:39.535Z"
   },
   {
    "duration": 11,
    "start_time": "2023-03-05T22:03:45.672Z"
   },
   {
    "duration": 80,
    "start_time": "2023-03-05T22:03:52.195Z"
   },
   {
    "duration": 47,
    "start_time": "2023-03-05T22:04:53.982Z"
   },
   {
    "duration": 215,
    "start_time": "2023-03-05T22:05:00.539Z"
   },
   {
    "duration": 50,
    "start_time": "2023-03-05T22:05:09.297Z"
   },
   {
    "duration": 76,
    "start_time": "2023-03-05T22:05:14.923Z"
   },
   {
    "duration": 75,
    "start_time": "2023-03-05T22:05:22.563Z"
   },
   {
    "duration": 129,
    "start_time": "2023-03-05T22:05:30.151Z"
   },
   {
    "duration": 32,
    "start_time": "2023-03-05T22:05:39.350Z"
   },
   {
    "duration": 3340,
    "start_time": "2023-03-05T22:06:02.243Z"
   },
   {
    "duration": 3375,
    "start_time": "2023-03-05T22:06:10.675Z"
   },
   {
    "duration": 54,
    "start_time": "2023-03-05T22:06:23.539Z"
   },
   {
    "duration": 79,
    "start_time": "2023-03-05T22:06:30.851Z"
   },
   {
    "duration": 64,
    "start_time": "2023-03-05T22:06:59.207Z"
   },
   {
    "duration": 16,
    "start_time": "2023-03-05T22:07:05.679Z"
   },
   {
    "duration": 265,
    "start_time": "2023-03-05T22:07:12.338Z"
   },
   {
    "duration": 271,
    "start_time": "2023-03-05T22:07:29.891Z"
   },
   {
    "duration": 8,
    "start_time": "2023-03-05T22:07:49.027Z"
   },
   {
    "duration": 13,
    "start_time": "2023-03-05T22:08:03.199Z"
   },
   {
    "duration": 9,
    "start_time": "2023-03-05T22:08:15.143Z"
   },
   {
    "duration": 74,
    "start_time": "2023-03-05T22:08:20.526Z"
   },
   {
    "duration": 627,
    "start_time": "2023-03-05T22:09:47.349Z"
   },
   {
    "duration": 602,
    "start_time": "2023-03-05T22:09:47.978Z"
   },
   {
    "duration": 13,
    "start_time": "2023-03-05T22:09:48.582Z"
   },
   {
    "duration": 11,
    "start_time": "2023-03-05T22:09:48.597Z"
   },
   {
    "duration": 16,
    "start_time": "2023-03-05T22:09:48.610Z"
   },
   {
    "duration": 11,
    "start_time": "2023-03-05T22:09:48.627Z"
   },
   {
    "duration": 7,
    "start_time": "2023-03-05T22:09:48.640Z"
   },
   {
    "duration": 7,
    "start_time": "2023-03-05T22:09:48.649Z"
   },
   {
    "duration": 5,
    "start_time": "2023-03-05T22:09:48.658Z"
   },
   {
    "duration": 6,
    "start_time": "2023-03-05T22:09:48.666Z"
   },
   {
    "duration": 7,
    "start_time": "2023-03-05T22:09:48.674Z"
   },
   {
    "duration": 40,
    "start_time": "2023-03-05T22:09:48.683Z"
   },
   {
    "duration": 20,
    "start_time": "2023-03-05T22:09:48.725Z"
   },
   {
    "duration": 24,
    "start_time": "2023-03-05T22:09:48.747Z"
   },
   {
    "duration": 11,
    "start_time": "2023-03-05T22:09:48.773Z"
   },
   {
    "duration": 54,
    "start_time": "2023-03-05T22:09:48.785Z"
   },
   {
    "duration": 6,
    "start_time": "2023-03-05T22:09:48.841Z"
   },
   {
    "duration": 9,
    "start_time": "2023-03-05T22:09:48.848Z"
   },
   {
    "duration": 9,
    "start_time": "2023-03-05T22:09:48.858Z"
   },
   {
    "duration": 20,
    "start_time": "2023-03-05T22:09:48.868Z"
   },
   {
    "duration": 34,
    "start_time": "2023-03-05T22:09:48.890Z"
   },
   {
    "duration": 60,
    "start_time": "2023-03-05T22:09:48.925Z"
   },
   {
    "duration": 165,
    "start_time": "2023-03-05T22:09:48.987Z"
   },
   {
    "duration": 36,
    "start_time": "2023-03-05T22:09:49.154Z"
   },
   {
    "duration": 478,
    "start_time": "2023-03-05T22:09:49.192Z"
   },
   {
    "duration": 188,
    "start_time": "2023-03-05T22:09:49.671Z"
   },
   {
    "duration": 6,
    "start_time": "2023-03-05T22:09:49.861Z"
   },
   {
    "duration": 12,
    "start_time": "2023-03-05T22:09:49.870Z"
   },
   {
    "duration": 16,
    "start_time": "2023-03-05T22:09:49.883Z"
   },
   {
    "duration": 8,
    "start_time": "2023-03-05T22:09:49.914Z"
   },
   {
    "duration": 14,
    "start_time": "2023-03-05T22:09:49.924Z"
   },
   {
    "duration": 47,
    "start_time": "2023-03-05T22:09:49.939Z"
   },
   {
    "duration": 246,
    "start_time": "2023-03-05T22:09:49.988Z"
   },
   {
    "duration": 49,
    "start_time": "2023-03-05T22:09:50.236Z"
   },
   {
    "duration": 87,
    "start_time": "2023-03-05T22:09:50.287Z"
   },
   {
    "duration": 83,
    "start_time": "2023-03-05T22:09:50.376Z"
   },
   {
    "duration": 134,
    "start_time": "2023-03-05T22:09:50.460Z"
   },
   {
    "duration": 39,
    "start_time": "2023-03-05T22:09:50.596Z"
   },
   {
    "duration": 3286,
    "start_time": "2023-03-05T22:09:50.636Z"
   },
   {
    "duration": 3241,
    "start_time": "2023-03-05T22:09:53.924Z"
   },
   {
    "duration": 64,
    "start_time": "2023-03-05T22:09:57.167Z"
   },
   {
    "duration": 93,
    "start_time": "2023-03-05T22:09:57.233Z"
   },
   {
    "duration": 59,
    "start_time": "2023-03-05T22:09:57.328Z"
   },
   {
    "duration": 31,
    "start_time": "2023-03-05T22:09:57.388Z"
   },
   {
    "duration": 294,
    "start_time": "2023-03-05T22:09:57.421Z"
   },
   {
    "duration": 8,
    "start_time": "2023-03-05T22:09:57.717Z"
   },
   {
    "duration": 11,
    "start_time": "2023-03-05T22:09:57.727Z"
   },
   {
    "duration": 11,
    "start_time": "2023-03-05T22:09:57.740Z"
   },
   {
    "duration": 12,
    "start_time": "2023-03-05T22:12:33.070Z"
   },
   {
    "duration": 80,
    "start_time": "2023-03-05T22:13:43.326Z"
   },
   {
    "duration": 16,
    "start_time": "2023-03-05T22:13:48.641Z"
   },
   {
    "duration": 16,
    "start_time": "2023-03-05T22:14:33.070Z"
   },
   {
    "duration": 40,
    "start_time": "2023-03-05T22:14:48.286Z"
   },
   {
    "duration": 41,
    "start_time": "2023-03-05T22:14:54.247Z"
   },
   {
    "duration": 5,
    "start_time": "2023-03-05T22:16:55.986Z"
   },
   {
    "duration": 10,
    "start_time": "2023-03-05T22:35:06.401Z"
   },
   {
    "duration": 492,
    "start_time": "2023-03-05T22:35:47.845Z"
   },
   {
    "duration": 65,
    "start_time": "2023-03-05T22:35:56.786Z"
   },
   {
    "duration": 87,
    "start_time": "2023-03-05T22:37:14.217Z"
   },
   {
    "duration": 210,
    "start_time": "2023-03-05T22:38:00.481Z"
   },
   {
    "duration": 186,
    "start_time": "2023-03-05T22:39:46.480Z"
   },
   {
    "duration": 197,
    "start_time": "2023-03-05T22:40:03.321Z"
   },
   {
    "duration": 37,
    "start_time": "2023-03-05T22:40:30.673Z"
   },
   {
    "duration": 323,
    "start_time": "2023-03-05T22:42:37.285Z"
   },
   {
    "duration": 701,
    "start_time": "2023-03-05T22:42:51.704Z"
   },
   {
    "duration": 632,
    "start_time": "2023-03-05T22:43:12.467Z"
   },
   {
    "duration": 643,
    "start_time": "2023-03-05T22:43:43.208Z"
   },
   {
    "duration": 740,
    "start_time": "2023-03-05T22:44:23.724Z"
   },
   {
    "duration": 284,
    "start_time": "2023-03-05T22:44:32.980Z"
   },
   {
    "duration": 886,
    "start_time": "2023-03-05T22:44:48.612Z"
   },
   {
    "duration": 630,
    "start_time": "2023-03-05T22:44:57.108Z"
   },
   {
    "duration": 530,
    "start_time": "2023-03-05T22:45:02.867Z"
   },
   {
    "duration": 271,
    "start_time": "2023-03-05T22:45:39.515Z"
   },
   {
    "duration": 625,
    "start_time": "2023-03-05T22:46:07.612Z"
   },
   {
    "duration": 492,
    "start_time": "2023-03-05T22:46:24.100Z"
   },
   {
    "duration": 514,
    "start_time": "2023-03-05T22:46:55.041Z"
   },
   {
    "duration": 498,
    "start_time": "2023-03-05T22:46:59.360Z"
   },
   {
    "duration": 648,
    "start_time": "2023-03-05T22:47:03.895Z"
   },
   {
    "duration": 277,
    "start_time": "2023-03-05T22:51:31.112Z"
   },
   {
    "duration": 267,
    "start_time": "2023-03-05T22:51:44.000Z"
   },
   {
    "duration": 272,
    "start_time": "2023-03-05T22:51:51.963Z"
   },
   {
    "duration": 388,
    "start_time": "2023-03-05T22:52:03.451Z"
   },
   {
    "duration": 623,
    "start_time": "2023-03-05T22:52:11.060Z"
   },
   {
    "duration": 593,
    "start_time": "2023-03-05T22:52:19.127Z"
   },
   {
    "duration": 515,
    "start_time": "2023-03-05T22:56:30.927Z"
   },
   {
    "duration": 255,
    "start_time": "2023-03-05T22:56:48.741Z"
   },
   {
    "duration": 612,
    "start_time": "2023-03-05T22:57:12.363Z"
   },
   {
    "duration": 735,
    "start_time": "2023-03-05T22:58:25.945Z"
   },
   {
    "duration": 620,
    "start_time": "2023-03-05T22:58:36.752Z"
   },
   {
    "duration": 1750,
    "start_time": "2023-03-05T23:04:13.568Z"
   },
   {
    "duration": 42,
    "start_time": "2023-03-05T23:06:33.043Z"
   },
   {
    "duration": 103,
    "start_time": "2023-03-05T23:07:43.998Z"
   },
   {
    "duration": 23,
    "start_time": "2023-03-05T23:07:51.362Z"
   },
   {
    "duration": 15,
    "start_time": "2023-03-05T23:07:57.674Z"
   },
   {
    "duration": 27900,
    "start_time": "2023-03-05T23:09:34.930Z"
   },
   {
    "duration": 119,
    "start_time": "2023-03-05T23:10:34.084Z"
   },
   {
    "duration": 13505,
    "start_time": "2023-03-05T23:11:01.386Z"
   },
   {
    "duration": 680,
    "start_time": "2023-03-05T23:11:42.910Z"
   },
   {
    "duration": 13918,
    "start_time": "2023-03-05T23:12:02.026Z"
   },
   {
    "duration": 14,
    "start_time": "2023-03-05T23:12:40.118Z"
   },
   {
    "duration": 13359,
    "start_time": "2023-03-05T23:13:03.899Z"
   },
   {
    "duration": 13373,
    "start_time": "2023-03-05T23:13:45.505Z"
   },
   {
    "duration": 617,
    "start_time": "2023-03-05T23:14:09.817Z"
   },
   {
    "duration": 636,
    "start_time": "2023-03-05T23:14:21.057Z"
   },
   {
    "duration": 156,
    "start_time": "2023-03-05T23:15:11.381Z"
   },
   {
    "duration": 8,
    "start_time": "2023-03-05T23:17:41.813Z"
   },
   {
    "duration": 48,
    "start_time": "2023-03-05T23:17:51.417Z"
   },
   {
    "duration": 60,
    "start_time": "2023-03-05T23:18:17.833Z"
   },
   {
    "duration": 63,
    "start_time": "2023-03-05T23:18:31.177Z"
   },
   {
    "duration": 1584,
    "start_time": "2023-03-05T23:20:01.896Z"
   },
   {
    "duration": 1070,
    "start_time": "2023-03-05T23:24:33.240Z"
   },
   {
    "duration": 882,
    "start_time": "2023-03-05T23:24:34.313Z"
   },
   {
    "duration": 13,
    "start_time": "2023-03-05T23:24:35.197Z"
   },
   {
    "duration": 10,
    "start_time": "2023-03-05T23:24:35.212Z"
   },
   {
    "duration": 15,
    "start_time": "2023-03-05T23:24:35.224Z"
   },
   {
    "duration": 10,
    "start_time": "2023-03-05T23:24:35.240Z"
   },
   {
    "duration": 9,
    "start_time": "2023-03-05T23:24:35.252Z"
   },
   {
    "duration": 7,
    "start_time": "2023-03-05T23:24:35.262Z"
   },
   {
    "duration": 9,
    "start_time": "2023-03-05T23:24:35.270Z"
   },
   {
    "duration": 10,
    "start_time": "2023-03-05T23:24:35.281Z"
   },
   {
    "duration": 24,
    "start_time": "2023-03-05T23:24:35.293Z"
   },
   {
    "duration": 13,
    "start_time": "2023-03-05T23:24:35.318Z"
   },
   {
    "duration": 18,
    "start_time": "2023-03-05T23:24:35.332Z"
   },
   {
    "duration": 23,
    "start_time": "2023-03-05T23:24:35.352Z"
   },
   {
    "duration": 12,
    "start_time": "2023-03-05T23:24:35.376Z"
   },
   {
    "duration": 52,
    "start_time": "2023-03-05T23:24:35.390Z"
   },
   {
    "duration": 7,
    "start_time": "2023-03-05T23:24:35.444Z"
   },
   {
    "duration": 16,
    "start_time": "2023-03-05T23:24:35.453Z"
   },
   {
    "duration": 9,
    "start_time": "2023-03-05T23:24:35.471Z"
   },
   {
    "duration": 32,
    "start_time": "2023-03-05T23:24:35.482Z"
   },
   {
    "duration": 12,
    "start_time": "2023-03-05T23:24:35.516Z"
   },
   {
    "duration": 52,
    "start_time": "2023-03-05T23:24:35.530Z"
   },
   {
    "duration": 164,
    "start_time": "2023-03-05T23:24:35.584Z"
   },
   {
    "duration": 34,
    "start_time": "2023-03-05T23:24:35.749Z"
   },
   {
    "duration": 514,
    "start_time": "2023-03-05T23:24:35.785Z"
   },
   {
    "duration": 170,
    "start_time": "2023-03-05T23:24:36.300Z"
   },
   {
    "duration": 7,
    "start_time": "2023-03-05T23:24:36.471Z"
   },
   {
    "duration": 10,
    "start_time": "2023-03-05T23:24:36.481Z"
   },
   {
    "duration": 29,
    "start_time": "2023-03-05T23:24:36.492Z"
   },
   {
    "duration": 7,
    "start_time": "2023-03-05T23:24:36.523Z"
   },
   {
    "duration": 16,
    "start_time": "2023-03-05T23:24:36.532Z"
   },
   {
    "duration": 45,
    "start_time": "2023-03-05T23:24:36.549Z"
   },
   {
    "duration": 195,
    "start_time": "2023-03-05T23:24:36.614Z"
   },
   {
    "duration": 46,
    "start_time": "2023-03-05T23:24:36.813Z"
   },
   {
    "duration": 77,
    "start_time": "2023-03-05T23:24:36.861Z"
   },
   {
    "duration": 78,
    "start_time": "2023-03-05T23:24:36.940Z"
   },
   {
    "duration": 124,
    "start_time": "2023-03-05T23:24:37.019Z"
   },
   {
    "duration": 30,
    "start_time": "2023-03-05T23:24:37.145Z"
   },
   {
    "duration": 3115,
    "start_time": "2023-03-05T23:24:37.177Z"
   },
   {
    "duration": 3046,
    "start_time": "2023-03-05T23:24:40.293Z"
   },
   {
    "duration": 51,
    "start_time": "2023-03-05T23:24:43.340Z"
   },
   {
    "duration": 83,
    "start_time": "2023-03-05T23:24:43.392Z"
   },
   {
    "duration": 68,
    "start_time": "2023-03-05T23:24:43.476Z"
   },
   {
    "duration": 15,
    "start_time": "2023-03-05T23:24:43.546Z"
   },
   {
    "duration": 267,
    "start_time": "2023-03-05T23:24:43.562Z"
   },
   {
    "duration": 7,
    "start_time": "2023-03-05T23:24:43.830Z"
   },
   {
    "duration": 11,
    "start_time": "2023-03-05T23:24:43.838Z"
   },
   {
    "duration": 15,
    "start_time": "2023-03-05T23:24:43.850Z"
   },
   {
    "duration": 13,
    "start_time": "2023-03-05T23:24:43.866Z"
   },
   {
    "duration": 34,
    "start_time": "2023-03-05T23:24:43.880Z"
   },
   {
    "duration": 37,
    "start_time": "2023-03-05T23:24:43.915Z"
   },
   {
    "duration": 4,
    "start_time": "2023-03-05T23:24:43.953Z"
   },
   {
    "duration": 38,
    "start_time": "2023-03-05T23:24:43.958Z"
   },
   {
    "duration": 206,
    "start_time": "2023-03-05T23:24:43.997Z"
   },
   {
    "duration": 623,
    "start_time": "2023-03-05T23:24:44.215Z"
   },
   {
    "duration": 13345,
    "start_time": "2023-03-05T23:24:44.840Z"
   },
   {
    "duration": 62,
    "start_time": "2023-03-05T23:24:58.186Z"
   },
   {
    "duration": 1535,
    "start_time": "2023-03-05T23:24:58.249Z"
   },
   {
    "duration": 5,
    "start_time": "2023-03-05T23:26:26.856Z"
   },
   {
    "duration": 13560,
    "start_time": "2023-03-05T23:26:55.652Z"
   },
   {
    "duration": 64,
    "start_time": "2023-03-05T23:30:45.463Z"
   },
   {
    "duration": 12,
    "start_time": "2023-03-05T23:36:38.097Z"
   },
   {
    "duration": 5,
    "start_time": "2023-03-05T23:37:14.467Z"
   },
   {
    "duration": 124,
    "start_time": "2023-03-05T23:37:59.175Z"
   },
   {
    "duration": 9,
    "start_time": "2023-03-05T23:38:09.575Z"
   },
   {
    "duration": 10,
    "start_time": "2023-03-05T23:38:30.915Z"
   },
   {
    "duration": 814,
    "start_time": "2023-03-06T08:59:54.369Z"
   },
   {
    "duration": 2043,
    "start_time": "2023-03-06T08:59:55.186Z"
   },
   {
    "duration": 20,
    "start_time": "2023-03-06T08:59:57.231Z"
   },
   {
    "duration": 48,
    "start_time": "2023-03-06T08:59:57.254Z"
   },
   {
    "duration": 25,
    "start_time": "2023-03-06T08:59:57.305Z"
   },
   {
    "duration": 12,
    "start_time": "2023-03-06T08:59:57.332Z"
   },
   {
    "duration": 10,
    "start_time": "2023-03-06T08:59:57.346Z"
   },
   {
    "duration": 10,
    "start_time": "2023-03-06T08:59:57.358Z"
   },
   {
    "duration": 14,
    "start_time": "2023-03-06T08:59:57.370Z"
   },
   {
    "duration": 7,
    "start_time": "2023-03-06T08:59:57.388Z"
   },
   {
    "duration": 26,
    "start_time": "2023-03-06T08:59:57.397Z"
   },
   {
    "duration": 15,
    "start_time": "2023-03-06T08:59:57.426Z"
   },
   {
    "duration": 21,
    "start_time": "2023-03-06T08:59:57.443Z"
   },
   {
    "duration": 58,
    "start_time": "2023-03-06T08:59:57.466Z"
   },
   {
    "duration": 14,
    "start_time": "2023-03-06T08:59:57.526Z"
   },
   {
    "duration": 35,
    "start_time": "2023-03-06T08:59:57.542Z"
   },
   {
    "duration": 7,
    "start_time": "2023-03-06T08:59:57.579Z"
   },
   {
    "duration": 46,
    "start_time": "2023-03-06T08:59:57.588Z"
   },
   {
    "duration": 13,
    "start_time": "2023-03-06T08:59:57.636Z"
   },
   {
    "duration": 22,
    "start_time": "2023-03-06T08:59:57.651Z"
   },
   {
    "duration": 13,
    "start_time": "2023-03-06T08:59:57.675Z"
   },
   {
    "duration": 79,
    "start_time": "2023-03-06T08:59:57.689Z"
   },
   {
    "duration": 170,
    "start_time": "2023-03-06T08:59:57.771Z"
   },
   {
    "duration": 44,
    "start_time": "2023-03-06T08:59:57.943Z"
   },
   {
    "duration": 591,
    "start_time": "2023-03-06T08:59:57.989Z"
   },
   {
    "duration": 199,
    "start_time": "2023-03-06T08:59:58.583Z"
   },
   {
    "duration": 6,
    "start_time": "2023-03-06T08:59:58.784Z"
   },
   {
    "duration": 10,
    "start_time": "2023-03-06T08:59:58.794Z"
   },
   {
    "duration": 29,
    "start_time": "2023-03-06T08:59:58.806Z"
   },
   {
    "duration": 16,
    "start_time": "2023-03-06T08:59:58.837Z"
   },
   {
    "duration": 54,
    "start_time": "2023-03-06T08:59:58.855Z"
   },
   {
    "duration": 80,
    "start_time": "2023-03-06T08:59:58.912Z"
   },
   {
    "duration": 305,
    "start_time": "2023-03-06T08:59:58.994Z"
   },
   {
    "duration": 99,
    "start_time": "2023-03-06T08:59:59.301Z"
   },
   {
    "duration": 141,
    "start_time": "2023-03-06T08:59:59.402Z"
   },
   {
    "duration": 87,
    "start_time": "2023-03-06T08:59:59.545Z"
   },
   {
    "duration": 133,
    "start_time": "2023-03-06T08:59:59.634Z"
   },
   {
    "duration": 35,
    "start_time": "2023-03-06T08:59:59.769Z"
   },
   {
    "duration": 3464,
    "start_time": "2023-03-06T08:59:59.806Z"
   },
   {
    "duration": 3573,
    "start_time": "2023-03-06T09:00:03.272Z"
   },
   {
    "duration": 63,
    "start_time": "2023-03-06T09:00:06.847Z"
   },
   {
    "duration": 96,
    "start_time": "2023-03-06T09:00:06.911Z"
   },
   {
    "duration": 67,
    "start_time": "2023-03-06T09:00:07.025Z"
   },
   {
    "duration": 36,
    "start_time": "2023-03-06T09:00:07.094Z"
   },
   {
    "duration": 347,
    "start_time": "2023-03-06T09:00:07.132Z"
   },
   {
    "duration": 9,
    "start_time": "2023-03-06T09:00:07.481Z"
   },
   {
    "duration": 33,
    "start_time": "2023-03-06T09:00:07.491Z"
   },
   {
    "duration": 17,
    "start_time": "2023-03-06T09:00:07.526Z"
   },
   {
    "duration": 18,
    "start_time": "2023-03-06T09:00:07.544Z"
   },
   {
    "duration": 27,
    "start_time": "2023-03-06T09:00:07.564Z"
   },
   {
    "duration": 66,
    "start_time": "2023-03-06T09:00:07.593Z"
   },
   {
    "duration": 4,
    "start_time": "2023-03-06T09:00:07.661Z"
   },
   {
    "duration": 98,
    "start_time": "2023-03-06T09:00:07.667Z"
   },
   {
    "duration": 235,
    "start_time": "2023-03-06T09:00:07.767Z"
   },
   {
    "duration": 776,
    "start_time": "2023-03-06T09:00:08.004Z"
   },
   {
    "duration": 15356,
    "start_time": "2023-03-06T09:00:08.782Z"
   },
   {
    "duration": 6,
    "start_time": "2023-03-06T09:00:24.140Z"
   },
   {
    "duration": 97,
    "start_time": "2023-03-06T09:00:24.148Z"
   },
   {
    "duration": 3,
    "start_time": "2023-03-06T09:00:24.248Z"
   },
   {
    "duration": 22,
    "start_time": "2023-03-06T09:00:24.253Z"
   },
   {
    "duration": 238,
    "start_time": "2023-03-06T09:00:24.277Z"
   },
   {
    "duration": 103,
    "start_time": "2023-03-06T09:23:17.609Z"
   },
   {
    "duration": 20,
    "start_time": "2023-03-06T09:23:45.067Z"
   },
   {
    "duration": 12,
    "start_time": "2023-03-06T09:24:22.006Z"
   },
   {
    "duration": 9,
    "start_time": "2023-03-06T09:24:30.271Z"
   },
   {
    "duration": 9,
    "start_time": "2023-03-06T09:24:55.859Z"
   },
   {
    "duration": 5,
    "start_time": "2023-03-06T09:25:01.520Z"
   },
   {
    "duration": 5,
    "start_time": "2023-03-06T09:25:47.898Z"
   },
   {
    "duration": 7,
    "start_time": "2023-03-06T09:26:07.503Z"
   },
   {
    "duration": 261,
    "start_time": "2023-03-06T09:26:49.517Z"
   },
   {
    "duration": 242,
    "start_time": "2023-03-06T09:26:53.569Z"
   },
   {
    "duration": 788,
    "start_time": "2023-03-06T09:27:00.376Z"
   },
   {
    "duration": 869,
    "start_time": "2023-03-06T09:27:10.037Z"
   },
   {
    "duration": 758,
    "start_time": "2023-03-06T09:27:22.710Z"
   },
   {
    "duration": 896,
    "start_time": "2023-03-06T09:27:37.469Z"
   },
   {
    "duration": 781,
    "start_time": "2023-03-06T09:27:43.513Z"
   },
   {
    "duration": 916,
    "start_time": "2023-03-06T09:27:50.868Z"
   },
   {
    "duration": 761,
    "start_time": "2023-03-06T09:27:56.335Z"
   },
   {
    "duration": 974,
    "start_time": "2023-03-06T09:28:10.612Z"
   },
   {
    "duration": 776,
    "start_time": "2023-03-06T09:28:22.112Z"
   },
   {
    "duration": 1039,
    "start_time": "2023-03-06T09:28:28.914Z"
   },
   {
    "duration": 853,
    "start_time": "2023-03-06T09:28:38.714Z"
   },
   {
    "duration": 933,
    "start_time": "2023-03-06T09:28:48.898Z"
   },
   {
    "duration": 74,
    "start_time": "2023-03-06T09:29:54.921Z"
   },
   {
    "duration": 12,
    "start_time": "2023-03-06T09:30:00.718Z"
   },
   {
    "duration": 10,
    "start_time": "2023-03-06T09:30:52.421Z"
   },
   {
    "duration": 154,
    "start_time": "2023-03-06T09:31:01.507Z"
   },
   {
    "duration": 877,
    "start_time": "2023-03-06T09:31:10.106Z"
   },
   {
    "duration": 14731,
    "start_time": "2023-03-06T09:52:06.324Z"
   },
   {
    "duration": 14742,
    "start_time": "2023-03-06T09:52:47.943Z"
   },
   {
    "duration": 14849,
    "start_time": "2023-03-06T09:53:14.119Z"
   },
   {
    "duration": 14318,
    "start_time": "2023-03-06T09:54:03.531Z"
   },
   {
    "duration": 14516,
    "start_time": "2023-03-06T09:54:40.042Z"
   },
   {
    "duration": 296,
    "start_time": "2023-03-06T09:55:11.283Z"
   },
   {
    "duration": 323,
    "start_time": "2023-03-06T09:55:19.212Z"
   },
   {
    "duration": 368,
    "start_time": "2023-03-06T09:56:10.024Z"
   },
   {
    "duration": 250,
    "start_time": "2023-03-06T09:56:18.820Z"
   },
   {
    "duration": 525,
    "start_time": "2023-03-06T09:56:26.189Z"
   },
   {
    "duration": 3,
    "start_time": "2023-03-06T09:57:38.796Z"
   },
   {
    "duration": 658,
    "start_time": "2023-03-06T09:57:48.624Z"
   },
   {
    "duration": 4,
    "start_time": "2023-03-06T09:57:56.123Z"
   },
   {
    "duration": 28,
    "start_time": "2023-03-06T10:07:48.508Z"
   },
   {
    "duration": 34,
    "start_time": "2023-03-06T10:08:39.642Z"
   },
   {
    "duration": 36,
    "start_time": "2023-03-06T10:09:02.545Z"
   },
   {
    "duration": 1039,
    "start_time": "2023-03-06T10:09:30.891Z"
   },
   {
    "duration": 496,
    "start_time": "2023-03-06T10:10:01.045Z"
   },
   {
    "duration": 0,
    "start_time": "2023-03-06T10:10:19.924Z"
   },
   {
    "duration": 657,
    "start_time": "2023-03-06T10:11:03.212Z"
   },
   {
    "duration": 1242,
    "start_time": "2023-03-06T10:11:33.514Z"
   },
   {
    "duration": 609,
    "start_time": "2023-03-06T10:11:50.814Z"
   },
   {
    "duration": 624,
    "start_time": "2023-03-06T10:13:16.828Z"
   },
   {
    "duration": 798,
    "start_time": "2023-03-06T10:13:42.112Z"
   },
   {
    "duration": 612,
    "start_time": "2023-03-06T10:13:50.308Z"
   },
   {
    "duration": 5,
    "start_time": "2023-03-06T10:17:36.211Z"
   },
   {
    "duration": 842,
    "start_time": "2023-03-06T10:26:04.023Z"
   },
   {
    "duration": 14,
    "start_time": "2023-03-06T10:26:33.615Z"
   },
   {
    "duration": 968,
    "start_time": "2023-03-06T10:28:18.229Z"
   },
   {
    "duration": 46,
    "start_time": "2023-03-06T10:28:44.914Z"
   },
   {
    "duration": 756,
    "start_time": "2023-03-06T10:28:48.409Z"
   },
   {
    "duration": 218,
    "start_time": "2023-03-06T10:29:33.805Z"
   },
   {
    "duration": 1248,
    "start_time": "2023-03-06T10:32:59.812Z"
   },
   {
    "duration": 1567,
    "start_time": "2023-03-06T10:33:14.557Z"
   },
   {
    "duration": 1434,
    "start_time": "2023-03-06T10:34:16.353Z"
   },
   {
    "duration": 1566,
    "start_time": "2023-03-06T10:34:56.536Z"
   },
   {
    "duration": 788,
    "start_time": "2023-03-06T10:35:30.852Z"
   },
   {
    "duration": 1653,
    "start_time": "2023-03-06T10:35:57.660Z"
   },
   {
    "duration": 1801,
    "start_time": "2023-03-06T10:36:19.222Z"
   },
   {
    "duration": 1640,
    "start_time": "2023-03-06T10:36:31.320Z"
   },
   {
    "duration": 1587,
    "start_time": "2023-03-06T10:36:48.040Z"
   },
   {
    "duration": 1699,
    "start_time": "2023-03-06T10:37:03.828Z"
   },
   {
    "duration": 1664,
    "start_time": "2023-03-06T10:37:16.251Z"
   },
   {
    "duration": 1629,
    "start_time": "2023-03-06T10:37:46.428Z"
   },
   {
    "duration": 36,
    "start_time": "2023-03-06T10:38:57.216Z"
   },
   {
    "duration": 24,
    "start_time": "2023-03-06T10:39:03.756Z"
   },
   {
    "duration": 30,
    "start_time": "2023-03-06T10:40:29.206Z"
   },
   {
    "duration": 580,
    "start_time": "2023-03-06T10:41:44.373Z"
   },
   {
    "duration": 583,
    "start_time": "2023-03-06T10:41:57.532Z"
   },
   {
    "duration": 24,
    "start_time": "2023-03-06T10:42:09.412Z"
   },
   {
    "duration": 612,
    "start_time": "2023-03-06T10:42:56.459Z"
   },
   {
    "duration": 44,
    "start_time": "2023-03-06T10:43:07.930Z"
   },
   {
    "duration": 40,
    "start_time": "2023-03-06T10:44:06.310Z"
   },
   {
    "duration": 58,
    "start_time": "2023-03-06T12:08:20.096Z"
   },
   {
    "duration": 12,
    "start_time": "2023-03-06T12:10:57.654Z"
   },
   {
    "duration": 14,
    "start_time": "2023-03-06T12:11:07.930Z"
   },
   {
    "duration": 16,
    "start_time": "2023-03-06T12:11:39.462Z"
   },
   {
    "duration": 13,
    "start_time": "2023-03-06T12:11:54.350Z"
   },
   {
    "duration": 6,
    "start_time": "2023-03-06T12:12:59.704Z"
   },
   {
    "duration": 15,
    "start_time": "2023-03-06T12:13:04.090Z"
   },
   {
    "duration": 4,
    "start_time": "2023-03-06T12:13:40.358Z"
   },
   {
    "duration": 9,
    "start_time": "2023-03-06T12:13:44.190Z"
   },
   {
    "duration": 9,
    "start_time": "2023-03-06T12:13:51.003Z"
   },
   {
    "duration": 11,
    "start_time": "2023-03-06T12:14:25.850Z"
   },
   {
    "duration": 15,
    "start_time": "2023-03-06T12:14:31.429Z"
   },
   {
    "duration": 11,
    "start_time": "2023-03-06T12:14:34.015Z"
   },
   {
    "duration": 11,
    "start_time": "2023-03-06T12:14:40.434Z"
   },
   {
    "duration": 21,
    "start_time": "2023-03-06T12:14:45.492Z"
   },
   {
    "duration": 49,
    "start_time": "2023-03-06T12:18:56.813Z"
   },
   {
    "duration": 21,
    "start_time": "2023-03-06T12:21:42.556Z"
   },
   {
    "duration": 4,
    "start_time": "2023-03-06T12:23:33.910Z"
   },
   {
    "duration": 13,
    "start_time": "2023-03-06T12:23:37.593Z"
   },
   {
    "duration": 9,
    "start_time": "2023-03-06T12:24:02.208Z"
   },
   {
    "duration": 13,
    "start_time": "2023-03-06T12:24:43.093Z"
   },
   {
    "duration": 34,
    "start_time": "2023-03-06T12:24:58.754Z"
   },
   {
    "duration": 28,
    "start_time": "2023-03-06T12:26:24.717Z"
   },
   {
    "duration": 26,
    "start_time": "2023-03-06T12:26:48.041Z"
   },
   {
    "duration": 27,
    "start_time": "2023-03-06T12:26:58.961Z"
   },
   {
    "duration": 13,
    "start_time": "2023-03-06T12:27:52.909Z"
   },
   {
    "duration": 28,
    "start_time": "2023-03-06T12:28:13.817Z"
   },
   {
    "duration": 12,
    "start_time": "2023-03-06T12:29:12.341Z"
   },
   {
    "duration": 24,
    "start_time": "2023-03-06T12:29:17.808Z"
   },
   {
    "duration": 19,
    "start_time": "2023-03-06T12:30:48.929Z"
   },
   {
    "duration": 31,
    "start_time": "2023-03-06T12:30:55.812Z"
   },
   {
    "duration": 28,
    "start_time": "2023-03-06T12:31:07.912Z"
   },
   {
    "duration": 23,
    "start_time": "2023-03-06T12:31:14.518Z"
   },
   {
    "duration": 815,
    "start_time": "2023-03-06T12:32:22.204Z"
   },
   {
    "duration": 830,
    "start_time": "2023-03-06T12:32:44.824Z"
   },
   {
    "duration": 17,
    "start_time": "2023-03-06T12:32:53.742Z"
   },
   {
    "duration": 13,
    "start_time": "2023-03-06T12:33:03.056Z"
   },
   {
    "duration": 828,
    "start_time": "2023-03-06T12:33:47.551Z"
   },
   {
    "duration": 15,
    "start_time": "2023-03-06T12:34:05.100Z"
   },
   {
    "duration": 14,
    "start_time": "2023-03-06T12:34:25.596Z"
   },
   {
    "duration": 11,
    "start_time": "2023-03-06T12:35:05.448Z"
   },
   {
    "duration": 16,
    "start_time": "2023-03-06T12:35:17.724Z"
   },
   {
    "duration": 840,
    "start_time": "2023-03-06T12:35:20.896Z"
   },
   {
    "duration": 14,
    "start_time": "2023-03-06T12:35:31.492Z"
   },
   {
    "duration": 14,
    "start_time": "2023-03-06T12:36:05.808Z"
   },
   {
    "duration": 9,
    "start_time": "2023-03-06T12:36:41.764Z"
   },
   {
    "duration": 998,
    "start_time": "2023-03-06T12:37:01.455Z"
   },
   {
    "duration": 10,
    "start_time": "2023-03-06T12:38:00.996Z"
   },
   {
    "duration": 884,
    "start_time": "2023-03-06T12:38:17.532Z"
   },
   {
    "duration": 741,
    "start_time": "2023-03-06T12:38:18.418Z"
   },
   {
    "duration": 15,
    "start_time": "2023-03-06T12:38:19.161Z"
   },
   {
    "duration": 11,
    "start_time": "2023-03-06T12:38:19.179Z"
   },
   {
    "duration": 15,
    "start_time": "2023-03-06T12:38:19.192Z"
   },
   {
    "duration": 21,
    "start_time": "2023-03-06T12:38:19.209Z"
   },
   {
    "duration": 11,
    "start_time": "2023-03-06T12:38:19.232Z"
   },
   {
    "duration": 16,
    "start_time": "2023-03-06T12:38:19.244Z"
   },
   {
    "duration": 6,
    "start_time": "2023-03-06T12:38:19.262Z"
   },
   {
    "duration": 5,
    "start_time": "2023-03-06T12:38:19.271Z"
   },
   {
    "duration": 6,
    "start_time": "2023-03-06T12:38:19.278Z"
   },
   {
    "duration": 44,
    "start_time": "2023-03-06T12:38:19.286Z"
   },
   {
    "duration": 25,
    "start_time": "2023-03-06T12:38:19.333Z"
   },
   {
    "duration": 44,
    "start_time": "2023-03-06T12:38:19.360Z"
   },
   {
    "duration": 18,
    "start_time": "2023-03-06T12:38:19.406Z"
   },
   {
    "duration": 40,
    "start_time": "2023-03-06T12:38:19.426Z"
   },
   {
    "duration": 7,
    "start_time": "2023-03-06T12:38:19.468Z"
   },
   {
    "duration": 14,
    "start_time": "2023-03-06T12:38:19.476Z"
   },
   {
    "duration": 6,
    "start_time": "2023-03-06T12:38:19.492Z"
   },
   {
    "duration": 45,
    "start_time": "2023-03-06T12:38:19.500Z"
   },
   {
    "duration": 14,
    "start_time": "2023-03-06T12:38:19.547Z"
   },
   {
    "duration": 94,
    "start_time": "2023-03-06T12:38:19.563Z"
   },
   {
    "duration": 171,
    "start_time": "2023-03-06T12:38:19.659Z"
   },
   {
    "duration": 46,
    "start_time": "2023-03-06T12:38:19.833Z"
   },
   {
    "duration": 812,
    "start_time": "2023-03-06T12:38:19.880Z"
   },
   {
    "duration": 228,
    "start_time": "2023-03-06T12:38:20.694Z"
   },
   {
    "duration": 9,
    "start_time": "2023-03-06T12:38:20.925Z"
   },
   {
    "duration": 23,
    "start_time": "2023-03-06T12:38:20.940Z"
   },
   {
    "duration": 17,
    "start_time": "2023-03-06T12:38:20.965Z"
   },
   {
    "duration": 13,
    "start_time": "2023-03-06T12:38:20.984Z"
   },
   {
    "duration": 27,
    "start_time": "2023-03-06T12:38:20.999Z"
   },
   {
    "duration": 72,
    "start_time": "2023-03-06T12:38:21.029Z"
   },
   {
    "duration": 322,
    "start_time": "2023-03-06T12:38:21.103Z"
   },
   {
    "duration": 80,
    "start_time": "2023-03-06T12:38:21.428Z"
   },
   {
    "duration": 115,
    "start_time": "2023-03-06T12:38:21.524Z"
   },
   {
    "duration": 108,
    "start_time": "2023-03-06T12:38:21.642Z"
   },
   {
    "duration": 149,
    "start_time": "2023-03-06T12:38:21.751Z"
   },
   {
    "duration": 54,
    "start_time": "2023-03-06T12:38:21.902Z"
   },
   {
    "duration": 3693,
    "start_time": "2023-03-06T12:38:21.958Z"
   },
   {
    "duration": 3722,
    "start_time": "2023-03-06T12:38:25.653Z"
   },
   {
    "duration": 81,
    "start_time": "2023-03-06T12:38:29.376Z"
   },
   {
    "duration": 112,
    "start_time": "2023-03-06T12:38:29.459Z"
   },
   {
    "duration": 80,
    "start_time": "2023-03-06T12:38:29.573Z"
   },
   {
    "duration": 19,
    "start_time": "2023-03-06T12:38:29.655Z"
   },
   {
    "duration": 403,
    "start_time": "2023-03-06T12:38:29.676Z"
   },
   {
    "duration": 8,
    "start_time": "2023-03-06T12:38:30.080Z"
   },
   {
    "duration": 47,
    "start_time": "2023-03-06T12:38:30.089Z"
   },
   {
    "duration": 26,
    "start_time": "2023-03-06T12:38:30.138Z"
   },
   {
    "duration": 1922,
    "start_time": "2023-03-06T12:38:30.166Z"
   },
   {
    "duration": 13,
    "start_time": "2023-03-06T12:38:32.091Z"
   },
   {
    "duration": 52,
    "start_time": "2023-03-06T12:38:32.106Z"
   },
   {
    "duration": 54,
    "start_time": "2023-03-06T12:38:32.160Z"
   },
   {
    "duration": 4,
    "start_time": "2023-03-06T12:38:32.216Z"
   },
   {
    "duration": 54,
    "start_time": "2023-03-06T12:38:32.221Z"
   },
   {
    "duration": 242,
    "start_time": "2023-03-06T12:38:32.277Z"
   },
   {
    "duration": 15483,
    "start_time": "2023-03-06T12:38:32.524Z"
   },
   {
    "duration": 16,
    "start_time": "2023-03-06T12:38:48.009Z"
   },
   {
    "duration": 642,
    "start_time": "2023-03-06T12:38:48.026Z"
   },
   {
    "duration": 55,
    "start_time": "2023-03-06T12:38:48.670Z"
   },
   {
    "duration": 5,
    "start_time": "2023-03-06T12:38:48.726Z"
   },
   {
    "duration": 677,
    "start_time": "2023-03-06T12:38:48.733Z"
   },
   {
    "duration": 79,
    "start_time": "2023-03-06T12:38:49.412Z"
   },
   {
    "duration": 15,
    "start_time": "2023-03-06T12:38:49.493Z"
   },
   {
    "duration": 177,
    "start_time": "2023-03-06T12:38:49.524Z"
   },
   {
    "duration": 52,
    "start_time": "2023-03-06T12:38:49.703Z"
   },
   {
    "duration": 141,
    "start_time": "2023-03-06T12:38:49.757Z"
   },
   {
    "duration": 0,
    "start_time": "2023-03-06T12:38:49.923Z"
   },
   {
    "duration": 0,
    "start_time": "2023-03-06T12:38:49.925Z"
   },
   {
    "duration": 0,
    "start_time": "2023-03-06T12:38:49.926Z"
   },
   {
    "duration": 772,
    "start_time": "2023-03-06T12:41:13.501Z"
   },
   {
    "duration": 20,
    "start_time": "2023-03-06T12:41:36.707Z"
   },
   {
    "duration": 18,
    "start_time": "2023-03-06T12:42:04.555Z"
   },
   {
    "duration": 15,
    "start_time": "2023-03-06T12:42:09.528Z"
   },
   {
    "duration": 18,
    "start_time": "2023-03-06T12:42:41.304Z"
   },
   {
    "duration": 795,
    "start_time": "2023-03-06T12:42:46.415Z"
   },
   {
    "duration": 14,
    "start_time": "2023-03-06T12:43:06.894Z"
   },
   {
    "duration": 10,
    "start_time": "2023-03-06T12:43:42.351Z"
   },
   {
    "duration": 12,
    "start_time": "2023-03-06T12:44:52.050Z"
   },
   {
    "duration": 22,
    "start_time": "2023-03-06T12:45:40.039Z"
   },
   {
    "duration": 17,
    "start_time": "2023-03-06T12:46:05.954Z"
   },
   {
    "duration": 15,
    "start_time": "2023-03-06T12:46:22.510Z"
   },
   {
    "duration": 40,
    "start_time": "2023-03-06T12:48:27.905Z"
   },
   {
    "duration": 27,
    "start_time": "2023-03-06T12:48:31.296Z"
   },
   {
    "duration": 13,
    "start_time": "2023-03-06T12:48:45.325Z"
   },
   {
    "duration": 21,
    "start_time": "2023-03-06T12:48:49.830Z"
   },
   {
    "duration": 17,
    "start_time": "2023-03-06T12:48:53.874Z"
   },
   {
    "duration": 26,
    "start_time": "2023-03-06T12:49:06.504Z"
   },
   {
    "duration": 13,
    "start_time": "2023-03-06T12:49:17.900Z"
   },
   {
    "duration": 28,
    "start_time": "2023-03-06T12:49:20.646Z"
   },
   {
    "duration": 16,
    "start_time": "2023-03-06T12:49:31.604Z"
   },
   {
    "duration": 26,
    "start_time": "2023-03-06T12:50:03.694Z"
   },
   {
    "duration": 16,
    "start_time": "2023-03-06T12:50:13.109Z"
   },
   {
    "duration": 26,
    "start_time": "2023-03-06T12:50:17.100Z"
   },
   {
    "duration": 16,
    "start_time": "2023-03-06T12:50:26.288Z"
   },
   {
    "duration": 15,
    "start_time": "2023-03-06T12:50:35.525Z"
   },
   {
    "duration": 13,
    "start_time": "2023-03-06T12:51:27.109Z"
   },
   {
    "duration": 17,
    "start_time": "2023-03-06T12:51:39.205Z"
   },
   {
    "duration": 12,
    "start_time": "2023-03-06T12:52:15.780Z"
   },
   {
    "duration": 13,
    "start_time": "2023-03-06T12:52:26.953Z"
   },
   {
    "duration": 12,
    "start_time": "2023-03-06T12:52:41.801Z"
   },
   {
    "duration": 877,
    "start_time": "2023-03-06T15:39:59.142Z"
   },
   {
    "duration": 1040,
    "start_time": "2023-03-06T15:40:00.021Z"
   },
   {
    "duration": 16,
    "start_time": "2023-03-06T15:40:01.063Z"
   },
   {
    "duration": 28,
    "start_time": "2023-03-06T15:40:01.081Z"
   },
   {
    "duration": 28,
    "start_time": "2023-03-06T15:40:01.111Z"
   },
   {
    "duration": 26,
    "start_time": "2023-03-06T15:40:01.141Z"
   },
   {
    "duration": 38,
    "start_time": "2023-03-06T15:40:01.169Z"
   },
   {
    "duration": 23,
    "start_time": "2023-03-06T15:40:01.209Z"
   },
   {
    "duration": 40,
    "start_time": "2023-03-06T15:40:01.234Z"
   },
   {
    "duration": 17,
    "start_time": "2023-03-06T15:40:01.278Z"
   },
   {
    "duration": 42,
    "start_time": "2023-03-06T15:40:01.298Z"
   },
   {
    "duration": 38,
    "start_time": "2023-03-06T15:40:01.342Z"
   },
   {
    "duration": 72,
    "start_time": "2023-03-06T15:40:01.382Z"
   },
   {
    "duration": 86,
    "start_time": "2023-03-06T15:40:01.456Z"
   },
   {
    "duration": 31,
    "start_time": "2023-03-06T15:40:01.544Z"
   },
   {
    "duration": 62,
    "start_time": "2023-03-06T15:40:01.577Z"
   },
   {
    "duration": 7,
    "start_time": "2023-03-06T15:40:01.641Z"
   },
   {
    "duration": 23,
    "start_time": "2023-03-06T15:40:01.650Z"
   },
   {
    "duration": 144,
    "start_time": "2023-03-06T15:40:01.675Z"
   },
   {
    "duration": 55,
    "start_time": "2023-03-06T15:40:01.821Z"
   },
   {
    "duration": 33,
    "start_time": "2023-03-06T15:40:01.879Z"
   },
   {
    "duration": 112,
    "start_time": "2023-03-06T15:40:01.914Z"
   },
   {
    "duration": 159,
    "start_time": "2023-03-06T15:40:02.028Z"
   },
   {
    "duration": 56,
    "start_time": "2023-03-06T15:40:02.188Z"
   },
   {
    "duration": 638,
    "start_time": "2023-03-06T15:40:02.246Z"
   },
   {
    "duration": 211,
    "start_time": "2023-03-06T15:40:02.886Z"
   },
   {
    "duration": 8,
    "start_time": "2023-03-06T15:40:03.100Z"
   },
   {
    "duration": 24,
    "start_time": "2023-03-06T15:40:03.113Z"
   },
   {
    "duration": 34,
    "start_time": "2023-03-06T15:40:03.139Z"
   },
   {
    "duration": 19,
    "start_time": "2023-03-06T15:40:03.175Z"
   },
   {
    "duration": 25,
    "start_time": "2023-03-06T15:40:03.198Z"
   },
   {
    "duration": 94,
    "start_time": "2023-03-06T15:40:03.226Z"
   },
   {
    "duration": 278,
    "start_time": "2023-03-06T15:40:03.323Z"
   },
   {
    "duration": 60,
    "start_time": "2023-03-06T15:40:03.603Z"
   },
   {
    "duration": 106,
    "start_time": "2023-03-06T15:40:03.665Z"
   },
   {
    "duration": 91,
    "start_time": "2023-03-06T15:40:03.773Z"
   },
   {
    "duration": 135,
    "start_time": "2023-03-06T15:40:03.865Z"
   },
   {
    "duration": 61,
    "start_time": "2023-03-06T15:40:04.002Z"
   },
   {
    "duration": 3536,
    "start_time": "2023-03-06T15:40:04.065Z"
   },
   {
    "duration": 3448,
    "start_time": "2023-03-06T15:40:07.603Z"
   },
   {
    "duration": 82,
    "start_time": "2023-03-06T15:40:11.053Z"
   },
   {
    "duration": 97,
    "start_time": "2023-03-06T15:40:11.137Z"
   },
   {
    "duration": 102,
    "start_time": "2023-03-06T15:40:11.236Z"
   },
   {
    "duration": 23,
    "start_time": "2023-03-06T15:40:11.345Z"
   },
   {
    "duration": 336,
    "start_time": "2023-03-06T15:40:11.371Z"
   },
   {
    "duration": 8,
    "start_time": "2023-03-06T15:40:11.709Z"
   },
   {
    "duration": 57,
    "start_time": "2023-03-06T15:40:11.718Z"
   },
   {
    "duration": 33,
    "start_time": "2023-03-06T15:40:11.777Z"
   },
   {
    "duration": 1710,
    "start_time": "2023-03-06T15:40:11.812Z"
   },
   {
    "duration": 13,
    "start_time": "2023-03-06T15:40:13.524Z"
   },
   {
    "duration": 34,
    "start_time": "2023-03-06T15:40:13.539Z"
   },
   {
    "duration": 52,
    "start_time": "2023-03-06T15:40:13.575Z"
   },
   {
    "duration": 3,
    "start_time": "2023-03-06T15:40:13.629Z"
   },
   {
    "duration": 66,
    "start_time": "2023-03-06T15:40:13.634Z"
   },
   {
    "duration": 214,
    "start_time": "2023-03-06T15:40:13.701Z"
   },
   {
    "duration": 14744,
    "start_time": "2023-03-06T15:40:13.917Z"
   },
   {
    "duration": 5,
    "start_time": "2023-03-06T15:40:28.663Z"
   },
   {
    "duration": 610,
    "start_time": "2023-03-06T15:40:28.670Z"
   },
   {
    "duration": 39,
    "start_time": "2023-03-06T15:40:29.282Z"
   },
   {
    "duration": 13,
    "start_time": "2023-03-06T15:40:29.323Z"
   },
   {
    "duration": 683,
    "start_time": "2023-03-06T15:40:29.338Z"
   },
   {
    "duration": 78,
    "start_time": "2023-03-06T15:40:30.023Z"
   },
   {
    "duration": 14,
    "start_time": "2023-03-06T15:40:30.103Z"
   },
   {
    "duration": 189,
    "start_time": "2023-03-06T15:40:30.119Z"
   },
   {
    "duration": 60,
    "start_time": "2023-03-06T15:40:30.310Z"
   },
   {
    "duration": 16,
    "start_time": "2023-03-06T15:40:30.372Z"
   },
   {
    "duration": 69,
    "start_time": "2023-03-06T15:40:30.390Z"
   },
   {
    "duration": 35,
    "start_time": "2023-03-06T15:40:30.460Z"
   },
   {
    "duration": 41,
    "start_time": "2023-03-06T15:40:30.497Z"
   },
   {
    "duration": 45,
    "start_time": "2023-03-06T15:40:30.557Z"
   },
   {
    "duration": 46,
    "start_time": "2023-03-06T15:40:30.604Z"
   },
   {
    "duration": 39,
    "start_time": "2023-03-06T15:40:30.652Z"
   },
   {
    "duration": 8,
    "start_time": "2023-03-06T15:42:12.305Z"
   },
   {
    "duration": 168,
    "start_time": "2023-03-06T16:00:45.586Z"
   },
   {
    "duration": 34,
    "start_time": "2023-03-06T16:01:07.403Z"
   },
   {
    "duration": 22,
    "start_time": "2023-03-06T16:01:52.931Z"
   },
   {
    "duration": 18,
    "start_time": "2023-03-06T16:02:07.435Z"
   },
   {
    "duration": 49,
    "start_time": "2023-03-06T16:03:03.901Z"
   },
   {
    "duration": 39,
    "start_time": "2023-03-06T16:03:10.284Z"
   },
   {
    "duration": 38,
    "start_time": "2023-03-06T16:11:21.102Z"
   },
   {
    "duration": 6,
    "start_time": "2023-03-06T16:11:58.523Z"
   },
   {
    "duration": 12,
    "start_time": "2023-03-06T16:12:47.444Z"
   },
   {
    "duration": 1411,
    "start_time": "2023-03-06T16:13:06.520Z"
   },
   {
    "duration": 10,
    "start_time": "2023-03-06T16:13:58.799Z"
   },
   {
    "duration": 1318,
    "start_time": "2023-03-06T16:14:11.436Z"
   },
   {
    "duration": 35,
    "start_time": "2023-03-06T16:15:16.209Z"
   },
   {
    "duration": 29,
    "start_time": "2023-03-06T16:16:10.403Z"
   },
   {
    "duration": 30,
    "start_time": "2023-03-06T16:16:24.648Z"
   },
   {
    "duration": 34,
    "start_time": "2023-03-06T16:16:44.391Z"
   },
   {
    "duration": 7,
    "start_time": "2023-03-06T16:16:49.983Z"
   },
   {
    "duration": 1353,
    "start_time": "2023-03-06T16:16:52.944Z"
   },
   {
    "duration": 6,
    "start_time": "2023-03-06T16:17:40.203Z"
   },
   {
    "duration": 1271,
    "start_time": "2023-03-06T16:17:43.979Z"
   },
   {
    "duration": 1434,
    "start_time": "2023-03-06T16:18:02.123Z"
   },
   {
    "duration": 1246,
    "start_time": "2023-03-06T16:18:11.100Z"
   },
   {
    "duration": 527,
    "start_time": "2023-03-06T16:19:17.581Z"
   },
   {
    "duration": 34,
    "start_time": "2023-03-06T16:19:25.488Z"
   },
   {
    "duration": 7,
    "start_time": "2023-03-06T16:19:32.993Z"
   },
   {
    "duration": 1307,
    "start_time": "2023-03-06T16:19:46.570Z"
   },
   {
    "duration": 35,
    "start_time": "2023-03-06T16:20:23.835Z"
   },
   {
    "duration": 33,
    "start_time": "2023-03-06T16:20:36.535Z"
   },
   {
    "duration": 7,
    "start_time": "2023-03-06T16:20:40.635Z"
   },
   {
    "duration": 1480,
    "start_time": "2023-03-06T16:20:43.301Z"
   },
   {
    "duration": 24,
    "start_time": "2023-03-06T16:39:10.802Z"
   },
   {
    "duration": 657,
    "start_time": "2023-03-06T16:39:28.397Z"
   },
   {
    "duration": 681,
    "start_time": "2023-03-06T16:39:29.056Z"
   },
   {
    "duration": 17,
    "start_time": "2023-03-06T16:39:29.743Z"
   },
   {
    "duration": 14,
    "start_time": "2023-03-06T16:39:29.762Z"
   },
   {
    "duration": 37,
    "start_time": "2023-03-06T16:39:29.779Z"
   },
   {
    "duration": 23,
    "start_time": "2023-03-06T16:39:29.818Z"
   },
   {
    "duration": 24,
    "start_time": "2023-03-06T16:39:29.843Z"
   },
   {
    "duration": 32,
    "start_time": "2023-03-06T16:39:29.870Z"
   },
   {
    "duration": 19,
    "start_time": "2023-03-06T16:39:29.906Z"
   },
   {
    "duration": 24,
    "start_time": "2023-03-06T16:39:29.927Z"
   },
   {
    "duration": 16,
    "start_time": "2023-03-06T16:39:29.953Z"
   },
   {
    "duration": 20,
    "start_time": "2023-03-06T16:39:29.971Z"
   },
   {
    "duration": 44,
    "start_time": "2023-03-06T16:39:29.994Z"
   },
   {
    "duration": 46,
    "start_time": "2023-03-06T16:39:30.041Z"
   },
   {
    "duration": 15,
    "start_time": "2023-03-06T16:39:30.089Z"
   },
   {
    "duration": 54,
    "start_time": "2023-03-06T16:39:30.106Z"
   },
   {
    "duration": 7,
    "start_time": "2023-03-06T16:39:30.162Z"
   },
   {
    "duration": 29,
    "start_time": "2023-03-06T16:39:30.171Z"
   },
   {
    "duration": 26,
    "start_time": "2023-03-06T16:39:30.203Z"
   },
   {
    "duration": 24,
    "start_time": "2023-03-06T16:39:30.232Z"
   },
   {
    "duration": 19,
    "start_time": "2023-03-06T16:39:30.258Z"
   },
   {
    "duration": 82,
    "start_time": "2023-03-06T16:39:30.279Z"
   },
   {
    "duration": 169,
    "start_time": "2023-03-06T16:39:30.363Z"
   },
   {
    "duration": 57,
    "start_time": "2023-03-06T16:39:30.535Z"
   },
   {
    "duration": 677,
    "start_time": "2023-03-06T16:39:30.594Z"
   },
   {
    "duration": 256,
    "start_time": "2023-03-06T16:39:31.273Z"
   },
   {
    "duration": 7,
    "start_time": "2023-03-06T16:39:31.534Z"
   },
   {
    "duration": 49,
    "start_time": "2023-03-06T16:39:31.543Z"
   },
   {
    "duration": 45,
    "start_time": "2023-03-06T16:39:31.594Z"
   },
   {
    "duration": 42,
    "start_time": "2023-03-06T16:39:31.640Z"
   },
   {
    "duration": 40,
    "start_time": "2023-03-06T16:39:31.684Z"
   },
   {
    "duration": 79,
    "start_time": "2023-03-06T16:39:31.725Z"
   },
   {
    "duration": 222,
    "start_time": "2023-03-06T16:39:31.806Z"
   },
   {
    "duration": 88,
    "start_time": "2023-03-06T16:39:32.030Z"
   },
   {
    "duration": 93,
    "start_time": "2023-03-06T16:39:32.121Z"
   },
   {
    "duration": 156,
    "start_time": "2023-03-06T16:39:32.216Z"
   },
   {
    "duration": 146,
    "start_time": "2023-03-06T16:39:32.375Z"
   },
   {
    "duration": 52,
    "start_time": "2023-03-06T16:39:32.523Z"
   },
   {
    "duration": 3754,
    "start_time": "2023-03-06T16:39:32.577Z"
   },
   {
    "duration": 3370,
    "start_time": "2023-03-06T16:39:36.333Z"
   },
   {
    "duration": 71,
    "start_time": "2023-03-06T16:39:39.705Z"
   },
   {
    "duration": 95,
    "start_time": "2023-03-06T16:39:39.778Z"
   },
   {
    "duration": 66,
    "start_time": "2023-03-06T16:39:39.875Z"
   },
   {
    "duration": 31,
    "start_time": "2023-03-06T16:39:39.942Z"
   },
   {
    "duration": 373,
    "start_time": "2023-03-06T16:39:39.976Z"
   },
   {
    "duration": 11,
    "start_time": "2023-03-06T16:39:40.351Z"
   },
   {
    "duration": 12,
    "start_time": "2023-03-06T16:39:40.364Z"
   },
   {
    "duration": 11,
    "start_time": "2023-03-06T16:39:40.377Z"
   },
   {
    "duration": 1648,
    "start_time": "2023-03-06T16:39:40.390Z"
   },
   {
    "duration": 20,
    "start_time": "2023-03-06T16:39:42.040Z"
   },
   {
    "duration": 32,
    "start_time": "2023-03-06T16:39:42.063Z"
   },
   {
    "duration": 69,
    "start_time": "2023-03-06T16:39:42.097Z"
   },
   {
    "duration": 4,
    "start_time": "2023-03-06T16:39:42.168Z"
   },
   {
    "duration": 66,
    "start_time": "2023-03-06T16:39:42.174Z"
   },
   {
    "duration": 217,
    "start_time": "2023-03-06T16:39:42.241Z"
   },
   {
    "duration": 15700,
    "start_time": "2023-03-06T16:39:42.459Z"
   },
   {
    "duration": 5,
    "start_time": "2023-03-06T16:39:58.161Z"
   },
   {
    "duration": 629,
    "start_time": "2023-03-06T16:39:58.168Z"
   },
   {
    "duration": 36,
    "start_time": "2023-03-06T16:39:58.799Z"
   },
   {
    "duration": 20,
    "start_time": "2023-03-06T16:39:58.837Z"
   },
   {
    "duration": 679,
    "start_time": "2023-03-06T16:39:58.860Z"
   },
   {
    "duration": 95,
    "start_time": "2023-03-06T16:39:59.540Z"
   },
   {
    "duration": 22,
    "start_time": "2023-03-06T16:39:59.637Z"
   },
   {
    "duration": 183,
    "start_time": "2023-03-06T16:39:59.661Z"
   },
   {
    "duration": 39,
    "start_time": "2023-03-06T16:39:59.846Z"
   },
   {
    "duration": 16,
    "start_time": "2023-03-06T16:39:59.886Z"
   },
   {
    "duration": 17,
    "start_time": "2023-03-06T16:39:59.958Z"
   },
   {
    "duration": 21,
    "start_time": "2023-03-06T16:39:59.978Z"
   },
   {
    "duration": 64,
    "start_time": "2023-03-06T16:40:00.001Z"
   },
   {
    "duration": 18,
    "start_time": "2023-03-06T16:40:00.066Z"
   },
   {
    "duration": 24,
    "start_time": "2023-03-06T16:40:00.086Z"
   },
   {
    "duration": 18,
    "start_time": "2023-03-06T16:40:00.112Z"
   },
   {
    "duration": 51,
    "start_time": "2023-03-06T16:40:00.131Z"
   },
   {
    "duration": 63,
    "start_time": "2023-03-06T16:40:00.184Z"
   },
   {
    "duration": 47,
    "start_time": "2023-03-06T16:40:00.248Z"
   },
   {
    "duration": 5,
    "start_time": "2023-03-06T16:40:00.297Z"
   },
   {
    "duration": 124,
    "start_time": "2023-03-06T16:40:00.304Z"
   },
   {
    "duration": 5,
    "start_time": "2023-03-06T16:41:39.926Z"
   },
   {
    "duration": 20,
    "start_time": "2023-03-06T16:41:44.942Z"
   },
   {
    "duration": 6,
    "start_time": "2023-03-06T16:42:15.297Z"
   },
   {
    "duration": 27,
    "start_time": "2023-03-06T16:42:18.133Z"
   },
   {
    "duration": 32,
    "start_time": "2023-03-06T16:42:42.837Z"
   },
   {
    "duration": 31,
    "start_time": "2023-03-06T16:42:54.086Z"
   },
   {
    "duration": 8,
    "start_time": "2023-03-06T16:42:59.761Z"
   },
   {
    "duration": 1510,
    "start_time": "2023-03-06T16:43:02.357Z"
   },
   {
    "duration": 12,
    "start_time": "2023-03-06T16:44:04.844Z"
   },
   {
    "duration": 8,
    "start_time": "2023-03-06T16:44:43.829Z"
   },
   {
    "duration": 17,
    "start_time": "2023-03-06T16:44:46.712Z"
   },
   {
    "duration": 1229,
    "start_time": "2023-03-06T16:44:57.715Z"
   },
   {
    "duration": 16,
    "start_time": "2023-03-06T16:45:04.369Z"
   },
   {
    "duration": 13,
    "start_time": "2023-03-06T16:47:39.081Z"
   },
   {
    "duration": 8,
    "start_time": "2023-03-06T16:49:29.284Z"
   },
   {
    "duration": 13,
    "start_time": "2023-03-06T16:49:31.915Z"
   },
   {
    "duration": 11,
    "start_time": "2023-03-06T16:49:55.041Z"
   },
   {
    "duration": 11,
    "start_time": "2023-03-06T16:49:57.767Z"
   },
   {
    "duration": 566,
    "start_time": "2023-03-06T16:51:18.855Z"
   },
   {
    "duration": 6,
    "start_time": "2023-03-06T16:51:31.438Z"
   },
   {
    "duration": 10,
    "start_time": "2023-03-06T16:51:33.290Z"
   },
   {
    "duration": 34,
    "start_time": "2023-03-06T16:57:39.184Z"
   },
   {
    "duration": 9,
    "start_time": "2023-03-06T16:57:52.216Z"
   },
   {
    "duration": 9,
    "start_time": "2023-03-06T16:58:04.923Z"
   },
   {
    "duration": 12,
    "start_time": "2023-03-06T17:02:30.837Z"
   },
   {
    "duration": 8,
    "start_time": "2023-03-06T17:03:43.206Z"
   },
   {
    "duration": 15,
    "start_time": "2023-03-06T17:03:45.333Z"
   },
   {
    "duration": 8,
    "start_time": "2023-03-06T17:03:53.691Z"
   },
   {
    "duration": 17,
    "start_time": "2023-03-06T17:03:55.524Z"
   },
   {
    "duration": 13,
    "start_time": "2023-03-06T17:04:46.770Z"
   },
   {
    "duration": 9,
    "start_time": "2023-03-06T17:05:11.805Z"
   },
   {
    "duration": 1122,
    "start_time": "2023-03-06T17:31:59.299Z"
   },
   {
    "duration": 609,
    "start_time": "2023-03-06T17:32:00.423Z"
   },
   {
    "duration": 13,
    "start_time": "2023-03-06T17:32:01.034Z"
   },
   {
    "duration": 44,
    "start_time": "2023-03-06T17:32:01.048Z"
   },
   {
    "duration": 37,
    "start_time": "2023-03-06T17:32:01.095Z"
   },
   {
    "duration": 26,
    "start_time": "2023-03-06T17:32:01.134Z"
   },
   {
    "duration": 44,
    "start_time": "2023-03-06T17:32:01.162Z"
   },
   {
    "duration": 31,
    "start_time": "2023-03-06T17:32:01.208Z"
   },
   {
    "duration": 39,
    "start_time": "2023-03-06T17:32:01.242Z"
   },
   {
    "duration": 28,
    "start_time": "2023-03-06T17:32:01.283Z"
   },
   {
    "duration": 29,
    "start_time": "2023-03-06T17:32:01.313Z"
   },
   {
    "duration": 25,
    "start_time": "2023-03-06T17:32:01.344Z"
   },
   {
    "duration": 59,
    "start_time": "2023-03-06T17:32:01.371Z"
   },
   {
    "duration": 63,
    "start_time": "2023-03-06T17:32:01.434Z"
   },
   {
    "duration": 20,
    "start_time": "2023-03-06T17:32:01.499Z"
   },
   {
    "duration": 101,
    "start_time": "2023-03-06T17:32:01.521Z"
   },
   {
    "duration": 25,
    "start_time": "2023-03-06T17:32:01.623Z"
   },
   {
    "duration": 47,
    "start_time": "2023-03-06T17:32:01.650Z"
   },
   {
    "duration": 38,
    "start_time": "2023-03-06T17:32:01.699Z"
   },
   {
    "duration": 47,
    "start_time": "2023-03-06T17:32:01.738Z"
   },
   {
    "duration": 31,
    "start_time": "2023-03-06T17:32:01.786Z"
   },
   {
    "duration": 115,
    "start_time": "2023-03-06T17:32:01.819Z"
   },
   {
    "duration": 156,
    "start_time": "2023-03-06T17:32:01.936Z"
   },
   {
    "duration": 43,
    "start_time": "2023-03-06T17:32:02.093Z"
   },
   {
    "duration": 593,
    "start_time": "2023-03-06T17:32:02.138Z"
   },
   {
    "duration": 239,
    "start_time": "2023-03-06T17:32:02.733Z"
   },
   {
    "duration": 7,
    "start_time": "2023-03-06T17:32:02.974Z"
   },
   {
    "duration": 29,
    "start_time": "2023-03-06T17:32:02.983Z"
   },
   {
    "duration": 29,
    "start_time": "2023-03-06T17:32:03.014Z"
   },
   {
    "duration": 20,
    "start_time": "2023-03-06T17:32:03.046Z"
   },
   {
    "duration": 29,
    "start_time": "2023-03-06T17:32:03.068Z"
   },
   {
    "duration": 51,
    "start_time": "2023-03-06T17:32:03.100Z"
   },
   {
    "duration": 250,
    "start_time": "2023-03-06T17:32:03.153Z"
   },
   {
    "duration": 62,
    "start_time": "2023-03-06T17:32:03.405Z"
   },
   {
    "duration": 89,
    "start_time": "2023-03-06T17:32:03.469Z"
   },
   {
    "duration": 76,
    "start_time": "2023-03-06T17:32:03.560Z"
   },
   {
    "duration": 144,
    "start_time": "2023-03-06T17:32:03.637Z"
   },
   {
    "duration": 35,
    "start_time": "2023-03-06T17:32:03.783Z"
   },
   {
    "duration": 3544,
    "start_time": "2023-03-06T17:32:03.820Z"
   },
   {
    "duration": 3340,
    "start_time": "2023-03-06T17:32:07.366Z"
   },
   {
    "duration": 70,
    "start_time": "2023-03-06T17:32:10.711Z"
   },
   {
    "duration": 157,
    "start_time": "2023-03-06T17:32:10.783Z"
   },
   {
    "duration": 73,
    "start_time": "2023-03-06T17:32:10.943Z"
   },
   {
    "duration": 17,
    "start_time": "2023-03-06T17:32:11.018Z"
   },
   {
    "duration": 331,
    "start_time": "2023-03-06T17:32:11.037Z"
   },
   {
    "duration": 9,
    "start_time": "2023-03-06T17:32:11.370Z"
   },
   {
    "duration": 15,
    "start_time": "2023-03-06T17:32:11.381Z"
   },
   {
    "duration": 15,
    "start_time": "2023-03-06T17:32:11.398Z"
   },
   {
    "duration": 1661,
    "start_time": "2023-03-06T17:32:11.415Z"
   },
   {
    "duration": 12,
    "start_time": "2023-03-06T17:32:13.077Z"
   },
   {
    "duration": 26,
    "start_time": "2023-03-06T17:32:13.091Z"
   },
   {
    "duration": 89,
    "start_time": "2023-03-06T17:32:13.120Z"
   },
   {
    "duration": 4,
    "start_time": "2023-03-06T17:32:13.211Z"
   },
   {
    "duration": 56,
    "start_time": "2023-03-06T17:32:13.216Z"
   },
   {
    "duration": 226,
    "start_time": "2023-03-06T17:32:13.274Z"
   },
   {
    "duration": 14701,
    "start_time": "2023-03-06T17:32:13.502Z"
   },
   {
    "duration": 5,
    "start_time": "2023-03-06T17:32:28.204Z"
   },
   {
    "duration": 671,
    "start_time": "2023-03-06T17:32:28.210Z"
   },
   {
    "duration": 36,
    "start_time": "2023-03-06T17:32:28.883Z"
   },
   {
    "duration": 4,
    "start_time": "2023-03-06T17:32:28.921Z"
   },
   {
    "duration": 618,
    "start_time": "2023-03-06T17:32:28.927Z"
   },
   {
    "duration": 77,
    "start_time": "2023-03-06T17:32:29.547Z"
   },
   {
    "duration": 13,
    "start_time": "2023-03-06T17:32:29.625Z"
   },
   {
    "duration": 260,
    "start_time": "2023-03-06T17:32:29.640Z"
   },
   {
    "duration": 62,
    "start_time": "2023-03-06T17:32:29.902Z"
   },
   {
    "duration": 15,
    "start_time": "2023-03-06T17:32:29.966Z"
   },
   {
    "duration": 18,
    "start_time": "2023-03-06T17:32:29.982Z"
   },
   {
    "duration": 64,
    "start_time": "2023-03-06T17:32:30.001Z"
   },
   {
    "duration": 29,
    "start_time": "2023-03-06T17:32:30.067Z"
   },
   {
    "duration": 64,
    "start_time": "2023-03-06T17:32:30.098Z"
   },
   {
    "duration": 13,
    "start_time": "2023-03-06T17:32:30.164Z"
   },
   {
    "duration": 34,
    "start_time": "2023-03-06T17:32:30.178Z"
   },
   {
    "duration": 34,
    "start_time": "2023-03-06T17:32:30.214Z"
   },
   {
    "duration": 22,
    "start_time": "2023-03-06T17:32:30.250Z"
   },
   {
    "duration": 64,
    "start_time": "2023-03-06T17:32:30.273Z"
   },
   {
    "duration": 6,
    "start_time": "2023-03-06T17:32:30.338Z"
   },
   {
    "duration": 42,
    "start_time": "2023-03-06T17:32:30.345Z"
   },
   {
    "duration": 1548,
    "start_time": "2023-03-07T18:25:16.242Z"
   },
   {
    "duration": 2249,
    "start_time": "2023-03-07T18:25:17.793Z"
   },
   {
    "duration": 20,
    "start_time": "2023-03-07T18:25:20.050Z"
   },
   {
    "duration": 18,
    "start_time": "2023-03-07T18:25:20.073Z"
   },
   {
    "duration": 19,
    "start_time": "2023-03-07T18:25:20.093Z"
   },
   {
    "duration": 11,
    "start_time": "2023-03-07T18:25:20.114Z"
   },
   {
    "duration": 16,
    "start_time": "2023-03-07T18:25:20.126Z"
   },
   {
    "duration": 13,
    "start_time": "2023-03-07T18:25:20.148Z"
   },
   {
    "duration": 5,
    "start_time": "2023-03-07T18:25:20.162Z"
   },
   {
    "duration": 14,
    "start_time": "2023-03-07T18:25:20.169Z"
   },
   {
    "duration": 11,
    "start_time": "2023-03-07T18:25:20.185Z"
   },
   {
    "duration": 11,
    "start_time": "2023-03-07T18:25:20.198Z"
   },
   {
    "duration": 41,
    "start_time": "2023-03-07T18:25:20.212Z"
   },
   {
    "duration": 29,
    "start_time": "2023-03-07T18:25:20.255Z"
   },
   {
    "duration": 13,
    "start_time": "2023-03-07T18:25:20.286Z"
   },
   {
    "duration": 62,
    "start_time": "2023-03-07T18:25:20.301Z"
   },
   {
    "duration": 7,
    "start_time": "2023-03-07T18:25:20.364Z"
   },
   {
    "duration": 16,
    "start_time": "2023-03-07T18:25:20.372Z"
   },
   {
    "duration": 4,
    "start_time": "2023-03-07T18:25:20.390Z"
   },
   {
    "duration": 18,
    "start_time": "2023-03-07T18:25:20.396Z"
   },
   {
    "duration": 36,
    "start_time": "2023-03-07T18:25:20.415Z"
   },
   {
    "duration": 77,
    "start_time": "2023-03-07T18:25:20.452Z"
   },
   {
    "duration": 181,
    "start_time": "2023-03-07T18:25:20.530Z"
   },
   {
    "duration": 49,
    "start_time": "2023-03-07T18:25:20.713Z"
   },
   {
    "duration": 687,
    "start_time": "2023-03-07T18:25:20.764Z"
   },
   {
    "duration": 199,
    "start_time": "2023-03-07T18:25:21.453Z"
   },
   {
    "duration": 13,
    "start_time": "2023-03-07T18:25:21.660Z"
   },
   {
    "duration": 12,
    "start_time": "2023-03-07T18:25:21.676Z"
   },
   {
    "duration": 13,
    "start_time": "2023-03-07T18:25:21.689Z"
   },
   {
    "duration": 8,
    "start_time": "2023-03-07T18:25:21.705Z"
   },
   {
    "duration": 36,
    "start_time": "2023-03-07T18:25:21.715Z"
   },
   {
    "duration": 61,
    "start_time": "2023-03-07T18:25:21.752Z"
   },
   {
    "duration": 281,
    "start_time": "2023-03-07T18:25:21.815Z"
   },
   {
    "duration": 79,
    "start_time": "2023-03-07T18:25:22.098Z"
   },
   {
    "duration": 102,
    "start_time": "2023-03-07T18:25:22.180Z"
   },
   {
    "duration": 98,
    "start_time": "2023-03-07T18:25:22.284Z"
   },
   {
    "duration": 128,
    "start_time": "2023-03-07T18:25:22.383Z"
   },
   {
    "duration": 49,
    "start_time": "2023-03-07T18:25:22.512Z"
   },
   {
    "duration": 3361,
    "start_time": "2023-03-07T18:25:22.563Z"
   },
   {
    "duration": 3456,
    "start_time": "2023-03-07T18:25:25.928Z"
   },
   {
    "duration": 72,
    "start_time": "2023-03-07T18:25:29.386Z"
   },
   {
    "duration": 94,
    "start_time": "2023-03-07T18:25:29.460Z"
   },
   {
    "duration": 64,
    "start_time": "2023-03-07T18:25:29.556Z"
   },
   {
    "duration": 33,
    "start_time": "2023-03-07T18:25:29.621Z"
   },
   {
    "duration": 333,
    "start_time": "2023-03-07T18:25:29.656Z"
   },
   {
    "duration": 9,
    "start_time": "2023-03-07T18:25:29.991Z"
   },
   {
    "duration": 16,
    "start_time": "2023-03-07T18:25:30.001Z"
   },
   {
    "duration": 30,
    "start_time": "2023-03-07T18:25:30.018Z"
   },
   {
    "duration": 1641,
    "start_time": "2023-03-07T18:25:30.051Z"
   },
   {
    "duration": 11,
    "start_time": "2023-03-07T18:25:31.694Z"
   },
   {
    "duration": 37,
    "start_time": "2023-03-07T18:25:31.707Z"
   },
   {
    "duration": 87,
    "start_time": "2023-03-07T18:25:31.746Z"
   },
   {
    "duration": 4,
    "start_time": "2023-03-07T18:25:31.835Z"
   },
   {
    "duration": 72,
    "start_time": "2023-03-07T18:25:31.841Z"
   },
   {
    "duration": 269,
    "start_time": "2023-03-07T18:25:31.916Z"
   },
   {
    "duration": 14442,
    "start_time": "2023-03-07T18:25:32.187Z"
   },
   {
    "duration": 11,
    "start_time": "2023-03-07T18:25:46.631Z"
   },
   {
    "duration": 677,
    "start_time": "2023-03-07T18:25:46.644Z"
   },
   {
    "duration": 53,
    "start_time": "2023-03-07T18:25:47.322Z"
   },
   {
    "duration": 6,
    "start_time": "2023-03-07T18:25:47.377Z"
   },
   {
    "duration": 739,
    "start_time": "2023-03-07T18:25:47.385Z"
   },
   {
    "duration": 79,
    "start_time": "2023-03-07T18:25:48.126Z"
   },
   {
    "duration": 15,
    "start_time": "2023-03-07T18:25:48.207Z"
   },
   {
    "duration": 518,
    "start_time": "2023-03-07T18:25:48.224Z"
   },
   {
    "duration": 107,
    "start_time": "2023-03-07T18:25:48.744Z"
   },
   {
    "duration": 26,
    "start_time": "2023-03-07T18:25:48.853Z"
   },
   {
    "duration": 71,
    "start_time": "2023-03-07T18:25:48.881Z"
   },
   {
    "duration": 17,
    "start_time": "2023-03-07T18:25:48.954Z"
   },
   {
    "duration": 31,
    "start_time": "2023-03-07T18:25:48.973Z"
   },
   {
    "duration": 52,
    "start_time": "2023-03-07T18:25:49.006Z"
   },
   {
    "duration": 19,
    "start_time": "2023-03-07T18:25:49.060Z"
   },
   {
    "duration": 17,
    "start_time": "2023-03-07T18:25:49.081Z"
   },
   {
    "duration": 56,
    "start_time": "2023-03-07T18:25:49.100Z"
   },
   {
    "duration": 26,
    "start_time": "2023-03-07T18:25:49.157Z"
   },
   {
    "duration": 6,
    "start_time": "2023-03-07T18:25:49.185Z"
   },
   {
    "duration": 14,
    "start_time": "2023-03-07T18:25:49.193Z"
   },
   {
    "duration": 1286,
    "start_time": "2023-03-07T18:32:09.026Z"
   },
   {
    "duration": 905,
    "start_time": "2023-03-07T18:32:10.314Z"
   },
   {
    "duration": 12,
    "start_time": "2023-03-07T18:32:11.221Z"
   },
   {
    "duration": 9,
    "start_time": "2023-03-07T18:32:11.235Z"
   },
   {
    "duration": 14,
    "start_time": "2023-03-07T18:32:11.246Z"
   },
   {
    "duration": 22,
    "start_time": "2023-03-07T18:32:11.262Z"
   },
   {
    "duration": 17,
    "start_time": "2023-03-07T18:32:11.285Z"
   },
   {
    "duration": 29,
    "start_time": "2023-03-07T18:32:11.304Z"
   },
   {
    "duration": 9,
    "start_time": "2023-03-07T18:32:11.335Z"
   },
   {
    "duration": 23,
    "start_time": "2023-03-07T18:32:11.346Z"
   },
   {
    "duration": 20,
    "start_time": "2023-03-07T18:32:11.370Z"
   },
   {
    "duration": 17,
    "start_time": "2023-03-07T18:32:11.392Z"
   },
   {
    "duration": 36,
    "start_time": "2023-03-07T18:32:11.410Z"
   },
   {
    "duration": 26,
    "start_time": "2023-03-07T18:32:11.448Z"
   },
   {
    "duration": 13,
    "start_time": "2023-03-07T18:32:11.476Z"
   },
   {
    "duration": 34,
    "start_time": "2023-03-07T18:32:11.490Z"
   },
   {
    "duration": 9,
    "start_time": "2023-03-07T18:32:11.526Z"
   },
   {
    "duration": 35,
    "start_time": "2023-03-07T18:32:11.536Z"
   },
   {
    "duration": 12,
    "start_time": "2023-03-07T18:32:11.573Z"
   },
   {
    "duration": 21,
    "start_time": "2023-03-07T18:32:11.587Z"
   },
   {
    "duration": 14,
    "start_time": "2023-03-07T18:32:11.610Z"
   },
   {
    "duration": 68,
    "start_time": "2023-03-07T18:32:11.625Z"
   },
   {
    "duration": 148,
    "start_time": "2023-03-07T18:32:11.694Z"
   },
   {
    "duration": 66,
    "start_time": "2023-03-07T18:32:11.844Z"
   },
   {
    "duration": 507,
    "start_time": "2023-03-07T18:32:11.912Z"
   },
   {
    "duration": 171,
    "start_time": "2023-03-07T18:32:12.420Z"
   },
   {
    "duration": 6,
    "start_time": "2023-03-07T18:32:12.592Z"
   },
   {
    "duration": 9,
    "start_time": "2023-03-07T18:32:12.603Z"
   },
   {
    "duration": 17,
    "start_time": "2023-03-07T18:32:12.614Z"
   },
   {
    "duration": 25,
    "start_time": "2023-03-07T18:32:12.633Z"
   },
   {
    "duration": 9,
    "start_time": "2023-03-07T18:32:12.660Z"
   },
   {
    "duration": 47,
    "start_time": "2023-03-07T18:32:12.670Z"
   },
   {
    "duration": 220,
    "start_time": "2023-03-07T18:32:12.718Z"
   },
   {
    "duration": 58,
    "start_time": "2023-03-07T18:32:12.939Z"
   },
   {
    "duration": 92,
    "start_time": "2023-03-07T18:32:12.999Z"
   },
   {
    "duration": 88,
    "start_time": "2023-03-07T18:32:13.092Z"
   },
   {
    "duration": 129,
    "start_time": "2023-03-07T18:32:13.182Z"
   },
   {
    "duration": 48,
    "start_time": "2023-03-07T18:32:13.313Z"
   },
   {
    "duration": 3177,
    "start_time": "2023-03-07T18:32:13.363Z"
   },
   {
    "duration": 3089,
    "start_time": "2023-03-07T18:32:16.542Z"
   },
   {
    "duration": 66,
    "start_time": "2023-03-07T18:32:19.632Z"
   },
   {
    "duration": 90,
    "start_time": "2023-03-07T18:32:19.699Z"
   },
   {
    "duration": 72,
    "start_time": "2023-03-07T18:32:19.791Z"
   },
   {
    "duration": 17,
    "start_time": "2023-03-07T18:32:19.864Z"
   },
   {
    "duration": 305,
    "start_time": "2023-03-07T18:32:19.883Z"
   },
   {
    "duration": 8,
    "start_time": "2023-03-07T18:32:20.190Z"
   },
   {
    "duration": 30,
    "start_time": "2023-03-07T18:32:20.199Z"
   },
   {
    "duration": 48,
    "start_time": "2023-03-07T18:32:20.231Z"
   },
   {
    "duration": 1566,
    "start_time": "2023-03-07T18:32:20.281Z"
   },
   {
    "duration": 12,
    "start_time": "2023-03-07T18:32:21.849Z"
   },
   {
    "duration": 21,
    "start_time": "2023-03-07T18:32:21.862Z"
   },
   {
    "duration": 52,
    "start_time": "2023-03-07T18:32:21.885Z"
   },
   {
    "duration": 3,
    "start_time": "2023-03-07T18:32:21.939Z"
   },
   {
    "duration": 42,
    "start_time": "2023-03-07T18:32:21.957Z"
   },
   {
    "duration": 217,
    "start_time": "2023-03-07T18:32:22.001Z"
   },
   {
    "duration": 13833,
    "start_time": "2023-03-07T18:32:22.220Z"
   },
   {
    "duration": 4,
    "start_time": "2023-03-07T18:32:36.055Z"
   },
   {
    "duration": 639,
    "start_time": "2023-03-07T18:32:36.061Z"
   },
   {
    "duration": 34,
    "start_time": "2023-03-07T18:32:36.702Z"
   },
   {
    "duration": 11,
    "start_time": "2023-03-07T18:32:36.738Z"
   },
   {
    "duration": 575,
    "start_time": "2023-03-07T18:32:36.757Z"
   },
   {
    "duration": 71,
    "start_time": "2023-03-07T18:32:37.334Z"
   },
   {
    "duration": 13,
    "start_time": "2023-03-07T18:32:37.407Z"
   },
   {
    "duration": 254,
    "start_time": "2023-03-07T18:32:37.421Z"
   },
   {
    "duration": 35,
    "start_time": "2023-03-07T18:32:37.677Z"
   },
   {
    "duration": 58,
    "start_time": "2023-03-07T18:32:37.714Z"
   },
   {
    "duration": 17,
    "start_time": "2023-03-07T18:32:37.774Z"
   },
   {
    "duration": 72,
    "start_time": "2023-03-07T18:32:37.793Z"
   },
   {
    "duration": 23,
    "start_time": "2023-03-07T18:32:37.867Z"
   },
   {
    "duration": 15,
    "start_time": "2023-03-07T18:32:37.892Z"
   },
   {
    "duration": 12,
    "start_time": "2023-03-07T18:32:37.909Z"
   },
   {
    "duration": 44,
    "start_time": "2023-03-07T18:32:37.922Z"
   },
   {
    "duration": 30,
    "start_time": "2023-03-07T18:32:37.968Z"
   },
   {
    "duration": 25,
    "start_time": "2023-03-07T18:32:38.000Z"
   },
   {
    "duration": 5,
    "start_time": "2023-03-07T18:32:38.027Z"
   },
   {
    "duration": 11,
    "start_time": "2023-03-07T18:32:38.058Z"
   },
   {
    "duration": 38,
    "start_time": "2023-03-07T18:41:33.193Z"
   },
   {
    "duration": 49,
    "start_time": "2023-03-07T18:41:57.226Z"
   },
   {
    "duration": 58,
    "start_time": "2023-03-07T18:42:02.823Z"
   },
   {
    "duration": 39,
    "start_time": "2023-03-07T18:42:46.901Z"
   },
   {
    "duration": 38,
    "start_time": "2023-03-07T18:43:36.074Z"
   },
   {
    "duration": 39,
    "start_time": "2023-03-07T18:43:40.406Z"
   },
   {
    "duration": 11,
    "start_time": "2023-03-07T18:45:01.213Z"
   },
   {
    "duration": 17,
    "start_time": "2023-03-07T18:46:51.166Z"
   },
   {
    "duration": 38,
    "start_time": "2023-03-07T18:48:15.462Z"
   },
   {
    "duration": 32,
    "start_time": "2023-03-07T18:48:52.496Z"
   },
   {
    "duration": 68,
    "start_time": "2023-03-07T18:51:14.197Z"
   },
   {
    "duration": 43,
    "start_time": "2023-03-07T18:52:42.821Z"
   },
   {
    "duration": 33,
    "start_time": "2023-03-07T18:53:02.653Z"
   },
   {
    "duration": 5,
    "start_time": "2023-03-07T18:54:27.401Z"
   },
   {
    "duration": 4,
    "start_time": "2023-03-07T18:54:44.618Z"
   },
   {
    "duration": 5,
    "start_time": "2023-03-07T18:54:59.453Z"
   },
   {
    "duration": 6,
    "start_time": "2023-03-07T18:55:08.148Z"
   },
   {
    "duration": 5,
    "start_time": "2023-03-07T18:55:14.332Z"
   },
   {
    "duration": 4,
    "start_time": "2023-03-07T18:55:18.281Z"
   },
   {
    "duration": 4,
    "start_time": "2023-03-07T18:55:25.809Z"
   },
   {
    "duration": 4,
    "start_time": "2023-03-07T18:55:36.552Z"
   },
   {
    "duration": 128256,
    "start_time": "2023-03-07T18:58:51.601Z"
   },
   {
    "duration": 0,
    "start_time": "2023-03-07T19:00:59.859Z"
   },
   {
    "duration": 0,
    "start_time": "2023-03-07T19:00:59.860Z"
   },
   {
    "duration": 4,
    "start_time": "2023-03-07T19:01:09.068Z"
   },
   {
    "duration": 4,
    "start_time": "2023-03-07T19:01:21.668Z"
   },
   {
    "duration": 4,
    "start_time": "2023-03-07T19:01:27.148Z"
   },
   {
    "duration": 30,
    "start_time": "2023-03-07T19:02:27.648Z"
   },
   {
    "duration": 29,
    "start_time": "2023-03-07T19:02:44.260Z"
   },
   {
    "duration": 45,
    "start_time": "2023-03-07T19:08:52.336Z"
   },
   {
    "duration": 14,
    "start_time": "2023-03-07T19:11:05.770Z"
   },
   {
    "duration": 36,
    "start_time": "2023-03-07T19:11:10.849Z"
   },
   {
    "duration": 20,
    "start_time": "2023-03-07T19:11:20.296Z"
   },
   {
    "duration": 25,
    "start_time": "2023-03-07T19:11:38.564Z"
   },
   {
    "duration": 10,
    "start_time": "2023-03-07T19:11:47.832Z"
   },
   {
    "duration": 11,
    "start_time": "2023-03-07T19:12:26.191Z"
   },
   {
    "duration": 9,
    "start_time": "2023-03-07T19:13:50.340Z"
   },
   {
    "duration": 3,
    "start_time": "2023-03-07T19:13:56.231Z"
   },
   {
    "duration": 4,
    "start_time": "2023-03-07T19:14:39.684Z"
   },
   {
    "duration": 5,
    "start_time": "2023-03-07T19:15:14.548Z"
   },
   {
    "duration": 2594,
    "start_time": "2023-03-07T19:24:59.987Z"
   },
   {
    "duration": 2616,
    "start_time": "2023-03-07T19:25:08.931Z"
   },
   {
    "duration": 5264,
    "start_time": "2023-03-07T19:25:46.531Z"
   },
   {
    "duration": 155,
    "start_time": "2023-03-07T19:26:05.653Z"
   },
   {
    "duration": 2686,
    "start_time": "2023-03-07T19:26:25.927Z"
   },
   {
    "duration": 2781,
    "start_time": "2023-03-07T19:27:20.799Z"
   },
   {
    "duration": 63,
    "start_time": "2023-03-07T19:27:46.815Z"
   },
   {
    "duration": 362,
    "start_time": "2023-03-07T19:28:07.483Z"
   },
   {
    "duration": 73,
    "start_time": "2023-03-07T19:28:29.451Z"
   },
   {
    "duration": 96,
    "start_time": "2023-03-07T19:28:45.635Z"
   },
   {
    "duration": 92,
    "start_time": "2023-03-07T19:29:08.354Z"
   },
   {
    "duration": 82,
    "start_time": "2023-03-07T19:29:26.987Z"
   },
   {
    "duration": 321,
    "start_time": "2023-03-07T19:29:30.951Z"
   },
   {
    "duration": 85,
    "start_time": "2023-03-07T19:29:43.107Z"
   },
   {
    "duration": 13,
    "start_time": "2023-03-07T19:29:57.011Z"
   },
   {
    "duration": 3398,
    "start_time": "2023-03-07T19:31:47.679Z"
   },
   {
    "duration": 3505,
    "start_time": "2023-03-07T19:31:56.747Z"
   },
   {
    "duration": 228,
    "start_time": "2023-03-07T19:32:55.347Z"
   },
   {
    "duration": 5,
    "start_time": "2023-03-07T19:33:59.939Z"
   },
   {
    "duration": 5,
    "start_time": "2023-03-07T19:34:21.441Z"
   },
   {
    "duration": 4,
    "start_time": "2023-03-07T19:34:29.611Z"
   },
   {
    "duration": 20,
    "start_time": "2023-03-07T19:34:34.502Z"
   },
   {
    "duration": 91,
    "start_time": "2023-03-07T19:35:30.003Z"
   },
   {
    "duration": 54,
    "start_time": "2023-03-07T19:35:47.564Z"
   },
   {
    "duration": 104,
    "start_time": "2023-03-07T19:36:32.367Z"
   },
   {
    "duration": 56,
    "start_time": "2023-03-07T19:36:57.198Z"
   },
   {
    "duration": 64,
    "start_time": "2023-03-07T19:37:27.637Z"
   },
   {
    "duration": 59,
    "start_time": "2023-03-07T19:37:33.830Z"
   },
   {
    "duration": 32,
    "start_time": "2023-03-07T19:37:54.639Z"
   },
   {
    "duration": 39,
    "start_time": "2023-03-07T19:40:47.238Z"
   },
   {
    "duration": 12,
    "start_time": "2023-03-07T19:41:14.482Z"
   },
   {
    "duration": 10,
    "start_time": "2023-03-07T19:41:23.114Z"
   },
   {
    "duration": 32,
    "start_time": "2023-03-07T19:42:39.334Z"
   },
   {
    "duration": 11,
    "start_time": "2023-03-07T19:43:15.446Z"
   },
   {
    "duration": 10,
    "start_time": "2023-03-07T19:44:02.280Z"
   },
   {
    "duration": 5,
    "start_time": "2023-03-07T19:44:14.757Z"
   },
   {
    "duration": 4,
    "start_time": "2023-03-07T19:44:25.786Z"
   },
   {
    "duration": 9,
    "start_time": "2023-03-07T19:44:39.158Z"
   },
   {
    "duration": 14,
    "start_time": "2023-03-07T19:44:45.506Z"
   },
   {
    "duration": 234,
    "start_time": "2023-03-07T19:44:58.849Z"
   },
   {
    "duration": 30,
    "start_time": "2023-03-07T19:45:51.106Z"
   },
   {
    "duration": 33,
    "start_time": "2023-03-07T19:46:11.690Z"
   },
   {
    "duration": 28,
    "start_time": "2023-03-07T19:46:19.050Z"
   },
   {
    "duration": 30,
    "start_time": "2023-03-07T19:46:40.958Z"
   },
   {
    "duration": 68,
    "start_time": "2023-03-07T19:55:51.786Z"
   },
   {
    "duration": 4,
    "start_time": "2023-03-07T19:55:59.849Z"
   },
   {
    "duration": 13,
    "start_time": "2023-03-07T19:56:11.217Z"
   },
   {
    "duration": 4,
    "start_time": "2023-03-07T19:56:14.413Z"
   },
   {
    "duration": 15,
    "start_time": "2023-03-07T20:05:48.205Z"
   },
   {
    "duration": 55,
    "start_time": "2023-03-07T20:05:52.169Z"
   },
   {
    "duration": 49,
    "start_time": "2023-03-07T20:05:54.220Z"
   },
   {
    "duration": 11,
    "start_time": "2023-03-07T20:05:56.368Z"
   },
   {
    "duration": 4,
    "start_time": "2023-03-07T20:06:01.020Z"
   },
   {
    "duration": 76,
    "start_time": "2023-03-07T20:09:06.925Z"
   },
   {
    "duration": 3,
    "start_time": "2023-03-07T20:09:10.108Z"
   },
   {
    "duration": 11,
    "start_time": "2023-03-07T20:09:48.911Z"
   },
   {
    "duration": 7,
    "start_time": "2023-03-07T20:09:59.864Z"
   },
   {
    "duration": 45,
    "start_time": "2023-03-07T20:10:09.872Z"
   },
   {
    "duration": 3,
    "start_time": "2023-03-07T20:10:13.539Z"
   },
   {
    "duration": 4,
    "start_time": "2023-03-07T20:11:57.124Z"
   },
   {
    "duration": 24,
    "start_time": "2023-03-07T20:13:26.875Z"
   },
   {
    "duration": 40,
    "start_time": "2023-03-07T20:13:38.007Z"
   },
   {
    "duration": 64,
    "start_time": "2023-03-07T20:13:51.207Z"
   },
   {
    "duration": 19,
    "start_time": "2023-03-07T20:14:09.712Z"
   },
   {
    "duration": 20,
    "start_time": "2023-03-07T20:15:24.231Z"
   },
   {
    "duration": 58,
    "start_time": "2023-03-07T20:16:02.419Z"
   },
   {
    "duration": 46,
    "start_time": "2023-03-07T20:16:05.083Z"
   },
   {
    "duration": 17,
    "start_time": "2023-03-07T20:16:30.028Z"
   },
   {
    "duration": 33,
    "start_time": "2023-03-07T20:17:36.995Z"
   },
   {
    "duration": 22,
    "start_time": "2023-03-07T20:18:02.431Z"
   },
   {
    "duration": 4,
    "start_time": "2023-03-07T20:18:08.043Z"
   },
   {
    "duration": 62,
    "start_time": "2023-03-07T20:19:26.963Z"
   },
   {
    "duration": 49,
    "start_time": "2023-03-07T20:19:31.699Z"
   },
   {
    "duration": 31,
    "start_time": "2023-03-07T20:19:37.799Z"
   },
   {
    "duration": 4,
    "start_time": "2023-03-07T20:19:49.679Z"
   },
   {
    "duration": 4,
    "start_time": "2023-03-07T20:25:44.638Z"
   },
   {
    "duration": 41,
    "start_time": "2023-03-07T20:29:41.794Z"
   },
   {
    "duration": 55,
    "start_time": "2023-03-07T20:30:33.750Z"
   },
   {
    "duration": 4,
    "start_time": "2023-03-07T20:31:19.122Z"
   },
   {
    "duration": 50,
    "start_time": "2023-03-07T20:32:02.610Z"
   },
   {
    "duration": 177,
    "start_time": "2023-03-07T20:32:21.822Z"
   },
   {
    "duration": 74,
    "start_time": "2023-03-07T20:34:16.430Z"
   },
   {
    "duration": 32,
    "start_time": "2023-03-07T20:34:29.506Z"
   },
   {
    "duration": 46,
    "start_time": "2023-03-07T20:34:37.087Z"
   },
   {
    "duration": 8,
    "start_time": "2023-03-07T20:34:59.403Z"
   },
   {
    "duration": 3,
    "start_time": "2023-03-07T20:35:24.286Z"
   },
   {
    "duration": 4,
    "start_time": "2023-03-07T20:35:28.729Z"
   },
   {
    "duration": 7,
    "start_time": "2023-03-07T20:35:41.102Z"
   },
   {
    "duration": 9,
    "start_time": "2023-03-07T20:35:45.051Z"
   },
   {
    "duration": 4,
    "start_time": "2023-03-07T20:35:56.515Z"
   },
   {
    "duration": 4,
    "start_time": "2023-03-07T20:36:01.111Z"
   },
   {
    "duration": 30,
    "start_time": "2023-03-07T20:40:52.163Z"
   },
   {
    "duration": 41,
    "start_time": "2023-03-07T20:41:08.843Z"
   },
   {
    "duration": 22,
    "start_time": "2023-03-07T20:41:16.059Z"
   },
   {
    "duration": 23,
    "start_time": "2023-03-07T20:41:27.832Z"
   },
   {
    "duration": 19,
    "start_time": "2023-03-07T20:44:13.683Z"
   },
   {
    "duration": 11,
    "start_time": "2023-03-07T20:44:49.891Z"
   },
   {
    "duration": 12,
    "start_time": "2023-03-07T20:47:02.067Z"
   },
   {
    "duration": 8,
    "start_time": "2023-03-07T20:48:13.638Z"
   },
   {
    "duration": 9,
    "start_time": "2023-03-07T20:48:31.226Z"
   },
   {
    "duration": 11,
    "start_time": "2023-03-07T20:48:39.058Z"
   },
   {
    "duration": 12,
    "start_time": "2023-03-07T20:48:43.049Z"
   },
   {
    "duration": 4,
    "start_time": "2023-03-07T20:48:44.438Z"
   },
   {
    "duration": 4,
    "start_time": "2023-03-07T20:49:01.695Z"
   },
   {
    "duration": 5,
    "start_time": "2023-03-07T20:49:05.240Z"
   },
   {
    "duration": 3,
    "start_time": "2023-03-07T20:49:08.559Z"
   },
   {
    "duration": 4,
    "start_time": "2023-03-07T20:49:11.243Z"
   },
   {
    "duration": 1072,
    "start_time": "2023-03-07T20:53:27.212Z"
   },
   {
    "duration": 591,
    "start_time": "2023-03-07T20:53:28.286Z"
   },
   {
    "duration": 12,
    "start_time": "2023-03-07T20:53:28.878Z"
   },
   {
    "duration": 10,
    "start_time": "2023-03-07T20:53:28.892Z"
   },
   {
    "duration": 15,
    "start_time": "2023-03-07T20:53:28.903Z"
   },
   {
    "duration": 7,
    "start_time": "2023-03-07T20:53:28.920Z"
   },
   {
    "duration": 6,
    "start_time": "2023-03-07T20:53:28.929Z"
   },
   {
    "duration": 7,
    "start_time": "2023-03-07T20:53:28.957Z"
   },
   {
    "duration": 4,
    "start_time": "2023-03-07T20:53:28.965Z"
   },
   {
    "duration": 4,
    "start_time": "2023-03-07T20:53:28.972Z"
   },
   {
    "duration": 6,
    "start_time": "2023-03-07T20:53:28.977Z"
   },
   {
    "duration": 10,
    "start_time": "2023-03-07T20:53:28.984Z"
   },
   {
    "duration": 18,
    "start_time": "2023-03-07T20:53:28.996Z"
   },
   {
    "duration": 56,
    "start_time": "2023-03-07T20:53:29.015Z"
   },
   {
    "duration": 13,
    "start_time": "2023-03-07T20:53:29.072Z"
   },
   {
    "duration": 29,
    "start_time": "2023-03-07T20:53:29.086Z"
   },
   {
    "duration": 6,
    "start_time": "2023-03-07T20:53:29.117Z"
   },
   {
    "duration": 34,
    "start_time": "2023-03-07T20:53:29.124Z"
   },
   {
    "duration": 5,
    "start_time": "2023-03-07T20:53:29.160Z"
   },
   {
    "duration": 14,
    "start_time": "2023-03-07T20:53:29.166Z"
   },
   {
    "duration": 10,
    "start_time": "2023-03-07T20:53:29.181Z"
   },
   {
    "duration": 87,
    "start_time": "2023-03-07T20:53:29.193Z"
   },
   {
    "duration": 147,
    "start_time": "2023-03-07T20:53:29.282Z"
   },
   {
    "duration": 50,
    "start_time": "2023-03-07T20:53:29.430Z"
   },
   {
    "duration": 512,
    "start_time": "2023-03-07T20:53:29.482Z"
   },
   {
    "duration": 194,
    "start_time": "2023-03-07T20:53:29.996Z"
   },
   {
    "duration": 6,
    "start_time": "2023-03-07T20:53:30.191Z"
   },
   {
    "duration": 18,
    "start_time": "2023-03-07T20:53:30.201Z"
   },
   {
    "duration": 28,
    "start_time": "2023-03-07T20:53:30.221Z"
   },
   {
    "duration": 11,
    "start_time": "2023-03-07T20:53:30.250Z"
   },
   {
    "duration": 20,
    "start_time": "2023-03-07T20:53:30.262Z"
   },
   {
    "duration": 52,
    "start_time": "2023-03-07T20:53:30.283Z"
   },
   {
    "duration": 212,
    "start_time": "2023-03-07T20:53:30.337Z"
   },
   {
    "duration": 52,
    "start_time": "2023-03-07T20:53:30.556Z"
   },
   {
    "duration": 96,
    "start_time": "2023-03-07T20:53:30.610Z"
   },
   {
    "duration": 81,
    "start_time": "2023-03-07T20:53:30.708Z"
   },
   {
    "duration": 131,
    "start_time": "2023-03-07T20:53:30.791Z"
   },
   {
    "duration": 44,
    "start_time": "2023-03-07T20:53:30.924Z"
   },
   {
    "duration": 24,
    "start_time": "2023-03-07T20:53:30.970Z"
   },
   {
    "duration": 10,
    "start_time": "2023-03-07T20:53:30.996Z"
   },
   {
    "duration": 42,
    "start_time": "2023-03-07T20:53:31.008Z"
   },
   {
    "duration": 20,
    "start_time": "2023-03-07T20:53:31.051Z"
   },
   {
    "duration": 3097,
    "start_time": "2023-03-07T20:53:31.073Z"
   },
   {
    "duration": 3162,
    "start_time": "2023-03-07T20:53:34.171Z"
   },
   {
    "duration": 32,
    "start_time": "2023-03-07T20:53:37.335Z"
   },
   {
    "duration": 134,
    "start_time": "2023-03-07T20:53:37.368Z"
   },
   {
    "duration": 0,
    "start_time": "2023-03-07T20:53:37.504Z"
   },
   {
    "duration": 0,
    "start_time": "2023-03-07T20:53:37.505Z"
   },
   {
    "duration": 0,
    "start_time": "2023-03-07T20:53:37.506Z"
   },
   {
    "duration": 0,
    "start_time": "2023-03-07T20:53:37.507Z"
   },
   {
    "duration": 0,
    "start_time": "2023-03-07T20:53:37.508Z"
   },
   {
    "duration": 0,
    "start_time": "2023-03-07T20:53:37.508Z"
   },
   {
    "duration": 1,
    "start_time": "2023-03-07T20:53:37.509Z"
   },
   {
    "duration": 0,
    "start_time": "2023-03-07T20:53:37.510Z"
   },
   {
    "duration": 0,
    "start_time": "2023-03-07T20:53:37.511Z"
   },
   {
    "duration": 0,
    "start_time": "2023-03-07T20:53:37.512Z"
   },
   {
    "duration": 0,
    "start_time": "2023-03-07T20:53:37.513Z"
   },
   {
    "duration": 0,
    "start_time": "2023-03-07T20:53:37.514Z"
   },
   {
    "duration": 0,
    "start_time": "2023-03-07T20:53:37.515Z"
   },
   {
    "duration": 0,
    "start_time": "2023-03-07T20:53:37.516Z"
   },
   {
    "duration": 0,
    "start_time": "2023-03-07T20:53:37.517Z"
   },
   {
    "duration": 0,
    "start_time": "2023-03-07T20:53:37.518Z"
   },
   {
    "duration": 0,
    "start_time": "2023-03-07T20:53:37.519Z"
   },
   {
    "duration": 0,
    "start_time": "2023-03-07T20:53:37.519Z"
   },
   {
    "duration": 0,
    "start_time": "2023-03-07T20:53:37.520Z"
   },
   {
    "duration": 0,
    "start_time": "2023-03-07T20:53:37.521Z"
   },
   {
    "duration": 0,
    "start_time": "2023-03-07T20:53:37.522Z"
   },
   {
    "duration": 0,
    "start_time": "2023-03-07T20:53:37.523Z"
   },
   {
    "duration": 0,
    "start_time": "2023-03-07T20:53:37.557Z"
   },
   {
    "duration": 0,
    "start_time": "2023-03-07T20:53:37.559Z"
   },
   {
    "duration": 0,
    "start_time": "2023-03-07T20:53:37.560Z"
   },
   {
    "duration": 0,
    "start_time": "2023-03-07T20:53:37.562Z"
   },
   {
    "duration": 0,
    "start_time": "2023-03-07T20:53:37.563Z"
   },
   {
    "duration": 0,
    "start_time": "2023-03-07T20:53:37.564Z"
   },
   {
    "duration": 0,
    "start_time": "2023-03-07T20:53:37.566Z"
   },
   {
    "duration": 0,
    "start_time": "2023-03-07T20:53:37.567Z"
   },
   {
    "duration": 0,
    "start_time": "2023-03-07T20:53:37.569Z"
   },
   {
    "duration": 0,
    "start_time": "2023-03-07T20:53:37.570Z"
   },
   {
    "duration": 0,
    "start_time": "2023-03-07T20:53:37.572Z"
   },
   {
    "duration": 0,
    "start_time": "2023-03-07T20:53:37.573Z"
   },
   {
    "duration": 0,
    "start_time": "2023-03-07T20:53:37.575Z"
   },
   {
    "duration": 0,
    "start_time": "2023-03-07T20:53:37.576Z"
   },
   {
    "duration": 0,
    "start_time": "2023-03-07T20:53:37.577Z"
   },
   {
    "duration": 58,
    "start_time": "2023-03-07T20:54:50.599Z"
   },
   {
    "duration": 89,
    "start_time": "2023-03-07T20:54:59.063Z"
   },
   {
    "duration": 21,
    "start_time": "2023-03-07T20:55:37.842Z"
   },
   {
    "duration": 21,
    "start_time": "2023-03-07T20:56:31.202Z"
   },
   {
    "duration": 106,
    "start_time": "2023-03-07T20:56:42.542Z"
   },
   {
    "duration": 88,
    "start_time": "2023-03-07T20:56:49.584Z"
   },
   {
    "duration": 4,
    "start_time": "2023-03-07T20:57:05.910Z"
   },
   {
    "duration": 4,
    "start_time": "2023-03-07T20:57:10.793Z"
   },
   {
    "duration": 3230,
    "start_time": "2023-03-07T21:01:14.451Z"
   },
   {
    "duration": 3161,
    "start_time": "2023-03-07T21:01:34.566Z"
   },
   {
    "duration": 59,
    "start_time": "2023-03-07T21:04:05.435Z"
   },
   {
    "duration": 80,
    "start_time": "2023-03-07T21:04:07.478Z"
   },
   {
    "duration": 1119,
    "start_time": "2023-03-07T21:04:41.652Z"
   },
   {
    "duration": 616,
    "start_time": "2023-03-07T21:04:42.773Z"
   },
   {
    "duration": 12,
    "start_time": "2023-03-07T21:04:43.390Z"
   },
   {
    "duration": 10,
    "start_time": "2023-03-07T21:04:43.404Z"
   },
   {
    "duration": 13,
    "start_time": "2023-03-07T21:04:43.416Z"
   },
   {
    "duration": 9,
    "start_time": "2023-03-07T21:04:43.431Z"
   },
   {
    "duration": 17,
    "start_time": "2023-03-07T21:04:43.441Z"
   },
   {
    "duration": 8,
    "start_time": "2023-03-07T21:04:43.459Z"
   },
   {
    "duration": 5,
    "start_time": "2023-03-07T21:04:43.469Z"
   },
   {
    "duration": 6,
    "start_time": "2023-03-07T21:04:43.476Z"
   },
   {
    "duration": 6,
    "start_time": "2023-03-07T21:04:43.483Z"
   },
   {
    "duration": 15,
    "start_time": "2023-03-07T21:04:43.491Z"
   },
   {
    "duration": 21,
    "start_time": "2023-03-07T21:04:43.507Z"
   },
   {
    "duration": 49,
    "start_time": "2023-03-07T21:04:43.529Z"
   },
   {
    "duration": 14,
    "start_time": "2023-03-07T21:04:43.579Z"
   },
   {
    "duration": 31,
    "start_time": "2023-03-07T21:04:43.595Z"
   },
   {
    "duration": 6,
    "start_time": "2023-03-07T21:04:43.627Z"
   },
   {
    "duration": 7,
    "start_time": "2023-03-07T21:04:43.657Z"
   },
   {
    "duration": 8,
    "start_time": "2023-03-07T21:04:43.665Z"
   },
   {
    "duration": 14,
    "start_time": "2023-03-07T21:04:43.675Z"
   },
   {
    "duration": 12,
    "start_time": "2023-03-07T21:04:43.691Z"
   },
   {
    "duration": 90,
    "start_time": "2023-03-07T21:04:43.705Z"
   },
   {
    "duration": 160,
    "start_time": "2023-03-07T21:04:43.797Z"
   },
   {
    "duration": 41,
    "start_time": "2023-03-07T21:04:43.959Z"
   },
   {
    "duration": 526,
    "start_time": "2023-03-07T21:04:44.002Z"
   },
   {
    "duration": 184,
    "start_time": "2023-03-07T21:04:44.531Z"
   },
   {
    "duration": 7,
    "start_time": "2023-03-07T21:04:44.717Z"
   },
   {
    "duration": 15,
    "start_time": "2023-03-07T21:04:44.729Z"
   },
   {
    "duration": 18,
    "start_time": "2023-03-07T21:04:44.758Z"
   },
   {
    "duration": 19,
    "start_time": "2023-03-07T21:04:44.777Z"
   },
   {
    "duration": 28,
    "start_time": "2023-03-07T21:04:44.798Z"
   },
   {
    "duration": 53,
    "start_time": "2023-03-07T21:04:44.828Z"
   },
   {
    "duration": 217,
    "start_time": "2023-03-07T21:04:44.883Z"
   },
   {
    "duration": 62,
    "start_time": "2023-03-07T21:04:45.102Z"
   },
   {
    "duration": 76,
    "start_time": "2023-03-07T21:04:45.166Z"
   },
   {
    "duration": 115,
    "start_time": "2023-03-07T21:04:45.244Z"
   },
   {
    "duration": 139,
    "start_time": "2023-03-07T21:04:45.361Z"
   },
   {
    "duration": 40,
    "start_time": "2023-03-07T21:04:45.501Z"
   },
   {
    "duration": 99,
    "start_time": "2023-03-07T21:04:45.543Z"
   },
   {
    "duration": 25,
    "start_time": "2023-03-07T21:04:45.644Z"
   },
   {
    "duration": 22,
    "start_time": "2023-03-07T21:04:45.671Z"
   },
   {
    "duration": 16,
    "start_time": "2023-03-07T21:04:45.695Z"
   },
   {
    "duration": 10,
    "start_time": "2023-03-07T21:04:45.713Z"
   },
   {
    "duration": 4,
    "start_time": "2023-03-07T21:04:45.725Z"
   },
   {
    "duration": 30,
    "start_time": "2023-03-07T21:04:45.730Z"
   },
   {
    "duration": 3119,
    "start_time": "2023-03-07T21:04:45.761Z"
   },
   {
    "duration": 3117,
    "start_time": "2023-03-07T21:04:48.882Z"
   },
   {
    "duration": 3096,
    "start_time": "2023-03-07T21:04:52.000Z"
   },
   {
    "duration": 30,
    "start_time": "2023-03-07T21:04:55.097Z"
   },
   {
    "duration": 234,
    "start_time": "2023-03-07T21:04:55.129Z"
   },
   {
    "duration": 0,
    "start_time": "2023-03-07T21:04:55.364Z"
   },
   {
    "duration": 0,
    "start_time": "2023-03-07T21:04:55.366Z"
   },
   {
    "duration": 0,
    "start_time": "2023-03-07T21:04:55.367Z"
   },
   {
    "duration": 0,
    "start_time": "2023-03-07T21:04:55.368Z"
   },
   {
    "duration": 0,
    "start_time": "2023-03-07T21:04:55.369Z"
   },
   {
    "duration": 0,
    "start_time": "2023-03-07T21:04:55.370Z"
   },
   {
    "duration": 0,
    "start_time": "2023-03-07T21:04:55.372Z"
   },
   {
    "duration": 0,
    "start_time": "2023-03-07T21:04:55.373Z"
   },
   {
    "duration": 0,
    "start_time": "2023-03-07T21:04:55.374Z"
   },
   {
    "duration": 0,
    "start_time": "2023-03-07T21:04:55.375Z"
   },
   {
    "duration": 0,
    "start_time": "2023-03-07T21:04:55.376Z"
   },
   {
    "duration": 0,
    "start_time": "2023-03-07T21:04:55.377Z"
   },
   {
    "duration": 0,
    "start_time": "2023-03-07T21:04:55.378Z"
   },
   {
    "duration": 0,
    "start_time": "2023-03-07T21:04:55.379Z"
   },
   {
    "duration": 0,
    "start_time": "2023-03-07T21:04:55.380Z"
   },
   {
    "duration": 0,
    "start_time": "2023-03-07T21:04:55.381Z"
   },
   {
    "duration": 0,
    "start_time": "2023-03-07T21:04:55.382Z"
   },
   {
    "duration": 0,
    "start_time": "2023-03-07T21:04:55.384Z"
   },
   {
    "duration": 0,
    "start_time": "2023-03-07T21:04:55.385Z"
   },
   {
    "duration": 0,
    "start_time": "2023-03-07T21:04:55.385Z"
   },
   {
    "duration": 0,
    "start_time": "2023-03-07T21:04:55.386Z"
   },
   {
    "duration": 0,
    "start_time": "2023-03-07T21:04:55.387Z"
   },
   {
    "duration": 1,
    "start_time": "2023-03-07T21:04:55.388Z"
   },
   {
    "duration": 0,
    "start_time": "2023-03-07T21:04:55.389Z"
   },
   {
    "duration": 0,
    "start_time": "2023-03-07T21:04:55.390Z"
   },
   {
    "duration": 0,
    "start_time": "2023-03-07T21:04:55.391Z"
   },
   {
    "duration": 0,
    "start_time": "2023-03-07T21:04:55.392Z"
   },
   {
    "duration": 0,
    "start_time": "2023-03-07T21:04:55.393Z"
   },
   {
    "duration": 0,
    "start_time": "2023-03-07T21:04:55.394Z"
   },
   {
    "duration": 0,
    "start_time": "2023-03-07T21:04:55.395Z"
   },
   {
    "duration": 0,
    "start_time": "2023-03-07T21:04:55.396Z"
   },
   {
    "duration": 0,
    "start_time": "2023-03-07T21:04:55.397Z"
   },
   {
    "duration": 0,
    "start_time": "2023-03-07T21:04:55.399Z"
   },
   {
    "duration": 0,
    "start_time": "2023-03-07T21:04:55.457Z"
   },
   {
    "duration": 0,
    "start_time": "2023-03-07T21:04:55.458Z"
   },
   {
    "duration": 0,
    "start_time": "2023-03-07T21:04:55.459Z"
   },
   {
    "duration": 1139,
    "start_time": "2023-03-07T21:05:15.671Z"
   },
   {
    "duration": 635,
    "start_time": "2023-03-07T21:05:16.812Z"
   },
   {
    "duration": 13,
    "start_time": "2023-03-07T21:05:17.449Z"
   },
   {
    "duration": 10,
    "start_time": "2023-03-07T21:05:17.464Z"
   },
   {
    "duration": 14,
    "start_time": "2023-03-07T21:05:17.475Z"
   },
   {
    "duration": 7,
    "start_time": "2023-03-07T21:05:17.491Z"
   },
   {
    "duration": 7,
    "start_time": "2023-03-07T21:05:17.500Z"
   },
   {
    "duration": 8,
    "start_time": "2023-03-07T21:05:17.508Z"
   },
   {
    "duration": 6,
    "start_time": "2023-03-07T21:05:17.517Z"
   },
   {
    "duration": 5,
    "start_time": "2023-03-07T21:05:17.556Z"
   },
   {
    "duration": 6,
    "start_time": "2023-03-07T21:05:17.563Z"
   },
   {
    "duration": 12,
    "start_time": "2023-03-07T21:05:17.570Z"
   },
   {
    "duration": 20,
    "start_time": "2023-03-07T21:05:17.584Z"
   },
   {
    "duration": 51,
    "start_time": "2023-03-07T21:05:17.606Z"
   },
   {
    "duration": 13,
    "start_time": "2023-03-07T21:05:17.659Z"
   },
   {
    "duration": 31,
    "start_time": "2023-03-07T21:05:17.674Z"
   },
   {
    "duration": 8,
    "start_time": "2023-03-07T21:05:17.707Z"
   },
   {
    "duration": 40,
    "start_time": "2023-03-07T21:05:17.718Z"
   },
   {
    "duration": 6,
    "start_time": "2023-03-07T21:05:17.760Z"
   },
   {
    "duration": 13,
    "start_time": "2023-03-07T21:05:17.768Z"
   },
   {
    "duration": 11,
    "start_time": "2023-03-07T21:05:17.783Z"
   },
   {
    "duration": 88,
    "start_time": "2023-03-07T21:05:17.796Z"
   },
   {
    "duration": 158,
    "start_time": "2023-03-07T21:05:17.886Z"
   },
   {
    "duration": 50,
    "start_time": "2023-03-07T21:05:18.045Z"
   },
   {
    "duration": 536,
    "start_time": "2023-03-07T21:05:18.097Z"
   },
   {
    "duration": 192,
    "start_time": "2023-03-07T21:05:18.634Z"
   },
   {
    "duration": 8,
    "start_time": "2023-03-07T21:05:18.828Z"
   },
   {
    "duration": 10,
    "start_time": "2023-03-07T21:05:18.859Z"
   },
   {
    "duration": 15,
    "start_time": "2023-03-07T21:05:18.871Z"
   },
   {
    "duration": 8,
    "start_time": "2023-03-07T21:05:18.888Z"
   },
   {
    "duration": 13,
    "start_time": "2023-03-07T21:05:18.897Z"
   },
   {
    "duration": 73,
    "start_time": "2023-03-07T21:05:18.912Z"
   },
   {
    "duration": 225,
    "start_time": "2023-03-07T21:05:18.987Z"
   },
   {
    "duration": 60,
    "start_time": "2023-03-07T21:05:19.214Z"
   },
   {
    "duration": 90,
    "start_time": "2023-03-07T21:05:19.276Z"
   },
   {
    "duration": 92,
    "start_time": "2023-03-07T21:05:19.368Z"
   },
   {
    "duration": 139,
    "start_time": "2023-03-07T21:05:19.461Z"
   },
   {
    "duration": 34,
    "start_time": "2023-03-07T21:05:19.602Z"
   },
   {
    "duration": 91,
    "start_time": "2023-03-07T21:05:19.638Z"
   },
   {
    "duration": 37,
    "start_time": "2023-03-07T21:05:19.731Z"
   },
   {
    "duration": 25,
    "start_time": "2023-03-07T21:05:19.769Z"
   },
   {
    "duration": 12,
    "start_time": "2023-03-07T21:05:19.796Z"
   },
   {
    "duration": 12,
    "start_time": "2023-03-07T21:05:19.809Z"
   },
   {
    "duration": 4,
    "start_time": "2023-03-07T21:05:19.822Z"
   },
   {
    "duration": 3,
    "start_time": "2023-03-07T21:05:19.858Z"
   },
   {
    "duration": 3218,
    "start_time": "2023-03-07T21:05:19.863Z"
   },
   {
    "duration": 3223,
    "start_time": "2023-03-07T21:05:23.083Z"
   },
   {
    "duration": 3217,
    "start_time": "2023-03-07T21:05:26.308Z"
   },
   {
    "duration": 33,
    "start_time": "2023-03-07T21:05:29.527Z"
   },
   {
    "duration": 2,
    "start_time": "2023-03-07T21:05:29.562Z"
   },
   {
    "duration": 58,
    "start_time": "2023-03-07T21:05:29.566Z"
   },
   {
    "duration": 100,
    "start_time": "2023-03-07T21:05:29.626Z"
   },
   {
    "duration": 74,
    "start_time": "2023-03-07T21:05:29.728Z"
   },
   {
    "duration": 16,
    "start_time": "2023-03-07T21:05:29.803Z"
   },
   {
    "duration": 313,
    "start_time": "2023-03-07T21:05:29.821Z"
   },
   {
    "duration": 7,
    "start_time": "2023-03-07T21:05:30.135Z"
   },
   {
    "duration": 23,
    "start_time": "2023-03-07T21:05:30.144Z"
   },
   {
    "duration": 17,
    "start_time": "2023-03-07T21:05:30.169Z"
   },
   {
    "duration": 1614,
    "start_time": "2023-03-07T21:05:30.188Z"
   },
   {
    "duration": 12,
    "start_time": "2023-03-07T21:05:31.805Z"
   },
   {
    "duration": 38,
    "start_time": "2023-03-07T21:05:31.819Z"
   },
   {
    "duration": 75,
    "start_time": "2023-03-07T21:05:31.859Z"
   },
   {
    "duration": 3,
    "start_time": "2023-03-07T21:05:31.936Z"
   },
   {
    "duration": 57,
    "start_time": "2023-03-07T21:05:31.940Z"
   },
   {
    "duration": 215,
    "start_time": "2023-03-07T21:05:31.998Z"
   },
   {
    "duration": 14084,
    "start_time": "2023-03-07T21:05:32.215Z"
   },
   {
    "duration": 5,
    "start_time": "2023-03-07T21:05:46.301Z"
   },
   {
    "duration": 591,
    "start_time": "2023-03-07T21:05:46.307Z"
   },
   {
    "duration": 36,
    "start_time": "2023-03-07T21:05:46.900Z"
   },
   {
    "duration": 4,
    "start_time": "2023-03-07T21:05:46.938Z"
   },
   {
    "duration": 567,
    "start_time": "2023-03-07T21:05:46.956Z"
   },
   {
    "duration": 75,
    "start_time": "2023-03-07T21:05:47.524Z"
   },
   {
    "duration": 12,
    "start_time": "2023-03-07T21:05:47.601Z"
   },
   {
    "duration": 262,
    "start_time": "2023-03-07T21:05:47.614Z"
   },
   {
    "duration": 36,
    "start_time": "2023-03-07T21:05:47.877Z"
   },
   {
    "duration": 55,
    "start_time": "2023-03-07T21:05:47.914Z"
   },
   {
    "duration": 26,
    "start_time": "2023-03-07T21:05:47.971Z"
   },
   {
    "duration": 13,
    "start_time": "2023-03-07T21:05:47.999Z"
   },
   {
    "duration": 52,
    "start_time": "2023-03-07T21:05:48.014Z"
   },
   {
    "duration": 17,
    "start_time": "2023-03-07T21:05:48.068Z"
   },
   {
    "duration": 13,
    "start_time": "2023-03-07T21:05:48.087Z"
   },
   {
    "duration": 12,
    "start_time": "2023-03-07T21:05:48.107Z"
   },
   {
    "duration": 67,
    "start_time": "2023-03-07T21:05:48.121Z"
   },
   {
    "duration": 26,
    "start_time": "2023-03-07T21:05:48.189Z"
   },
   {
    "duration": 6,
    "start_time": "2023-03-07T21:05:48.218Z"
   },
   {
    "duration": 40,
    "start_time": "2023-03-07T21:05:48.225Z"
   },
   {
    "duration": 6763,
    "start_time": "2023-03-07T21:07:39.863Z"
   },
   {
    "duration": 6162,
    "start_time": "2023-03-07T21:07:58.622Z"
   },
   {
    "duration": 6273,
    "start_time": "2023-03-07T21:08:30.814Z"
   },
   {
    "duration": 6095,
    "start_time": "2023-03-07T21:09:27.986Z"
   },
   {
    "duration": 6271,
    "start_time": "2023-03-07T21:09:58.259Z"
   },
   {
    "duration": 6221,
    "start_time": "2023-03-07T21:11:31.337Z"
   },
   {
    "duration": 6207,
    "start_time": "2023-03-07T21:11:45.767Z"
   },
   {
    "duration": 6238,
    "start_time": "2023-03-07T21:12:01.642Z"
   },
   {
    "duration": 6279,
    "start_time": "2023-03-07T21:12:51.105Z"
   },
   {
    "duration": 6208,
    "start_time": "2023-03-07T21:13:17.118Z"
   },
   {
    "duration": 6159,
    "start_time": "2023-03-07T21:13:50.905Z"
   },
   {
    "duration": 6251,
    "start_time": "2023-03-07T21:14:11.825Z"
   },
   {
    "duration": 6180,
    "start_time": "2023-03-07T21:15:20.266Z"
   },
   {
    "duration": 6170,
    "start_time": "2023-03-07T21:16:07.490Z"
   },
   {
    "duration": 6155,
    "start_time": "2023-03-07T21:17:36.596Z"
   },
   {
    "duration": 6369,
    "start_time": "2023-03-07T21:17:56.898Z"
   },
   {
    "duration": 6152,
    "start_time": "2023-03-07T21:18:24.601Z"
   },
   {
    "duration": 9,
    "start_time": "2023-03-07T21:21:17.089Z"
   },
   {
    "duration": 9,
    "start_time": "2023-03-07T21:21:30.145Z"
   },
   {
    "duration": 49,
    "start_time": "2023-03-07T21:22:31.962Z"
   },
   {
    "duration": 1748,
    "start_time": "2023-03-07T21:22:46.817Z"
   },
   {
    "duration": 102,
    "start_time": "2023-03-07T21:23:59.041Z"
   },
   {
    "duration": 18,
    "start_time": "2023-03-07T21:26:47.581Z"
   },
   {
    "duration": 1100,
    "start_time": "2023-03-07T21:31:19.884Z"
   },
   {
    "duration": 623,
    "start_time": "2023-03-07T21:31:20.985Z"
   },
   {
    "duration": 12,
    "start_time": "2023-03-07T21:31:21.610Z"
   },
   {
    "duration": 17,
    "start_time": "2023-03-07T21:31:21.623Z"
   },
   {
    "duration": 23,
    "start_time": "2023-03-07T21:31:21.641Z"
   },
   {
    "duration": 13,
    "start_time": "2023-03-07T21:31:21.665Z"
   },
   {
    "duration": 15,
    "start_time": "2023-03-07T21:31:21.679Z"
   },
   {
    "duration": 13,
    "start_time": "2023-03-07T21:31:21.695Z"
   },
   {
    "duration": 12,
    "start_time": "2023-03-07T21:31:21.710Z"
   },
   {
    "duration": 16,
    "start_time": "2023-03-07T21:31:21.723Z"
   },
   {
    "duration": 13,
    "start_time": "2023-03-07T21:31:21.741Z"
   },
   {
    "duration": 22,
    "start_time": "2023-03-07T21:31:21.756Z"
   },
   {
    "duration": 27,
    "start_time": "2023-03-07T21:31:21.780Z"
   },
   {
    "duration": 25,
    "start_time": "2023-03-07T21:31:21.810Z"
   },
   {
    "duration": 13,
    "start_time": "2023-03-07T21:31:21.837Z"
   },
   {
    "duration": 27,
    "start_time": "2023-03-07T21:31:21.858Z"
   },
   {
    "duration": 6,
    "start_time": "2023-03-07T21:31:21.887Z"
   },
   {
    "duration": 28,
    "start_time": "2023-03-07T21:31:21.894Z"
   },
   {
    "duration": 8,
    "start_time": "2023-03-07T21:31:21.924Z"
   },
   {
    "duration": 19,
    "start_time": "2023-03-07T21:31:21.933Z"
   },
   {
    "duration": 11,
    "start_time": "2023-03-07T21:31:21.956Z"
   },
   {
    "duration": 68,
    "start_time": "2023-03-07T21:31:21.969Z"
   },
   {
    "duration": 166,
    "start_time": "2023-03-07T21:31:22.039Z"
   },
   {
    "duration": 41,
    "start_time": "2023-03-07T21:31:22.206Z"
   },
   {
    "duration": 487,
    "start_time": "2023-03-07T21:31:22.258Z"
   },
   {
    "duration": 179,
    "start_time": "2023-03-07T21:31:22.746Z"
   },
   {
    "duration": 6,
    "start_time": "2023-03-07T21:31:22.927Z"
   },
   {
    "duration": 9,
    "start_time": "2023-03-07T21:31:22.935Z"
   },
   {
    "duration": 22,
    "start_time": "2023-03-07T21:31:22.945Z"
   },
   {
    "duration": 20,
    "start_time": "2023-03-07T21:31:22.969Z"
   },
   {
    "duration": 13,
    "start_time": "2023-03-07T21:31:22.991Z"
   },
   {
    "duration": 54,
    "start_time": "2023-03-07T21:31:23.006Z"
   },
   {
    "duration": 214,
    "start_time": "2023-03-07T21:31:23.062Z"
   },
   {
    "duration": 51,
    "start_time": "2023-03-07T21:31:23.277Z"
   },
   {
    "duration": 89,
    "start_time": "2023-03-07T21:31:23.330Z"
   },
   {
    "duration": 89,
    "start_time": "2023-03-07T21:31:23.421Z"
   },
   {
    "duration": 131,
    "start_time": "2023-03-07T21:31:23.512Z"
   },
   {
    "duration": 38,
    "start_time": "2023-03-07T21:31:23.644Z"
   },
   {
    "duration": 90,
    "start_time": "2023-03-07T21:31:23.683Z"
   },
   {
    "duration": 20,
    "start_time": "2023-03-07T21:31:23.774Z"
   },
   {
    "duration": 21,
    "start_time": "2023-03-07T21:31:23.798Z"
   },
   {
    "duration": 10,
    "start_time": "2023-03-07T21:31:23.821Z"
   },
   {
    "duration": 34,
    "start_time": "2023-03-07T21:31:23.832Z"
   },
   {
    "duration": 4,
    "start_time": "2023-03-07T21:31:23.867Z"
   },
   {
    "duration": 6,
    "start_time": "2023-03-07T21:31:23.872Z"
   },
   {
    "duration": 3181,
    "start_time": "2023-03-07T21:31:23.880Z"
   },
   {
    "duration": 3072,
    "start_time": "2023-03-07T21:31:27.062Z"
   },
   {
    "duration": 1727,
    "start_time": "2023-03-07T21:31:30.135Z"
   },
   {
    "duration": 56,
    "start_time": "2023-03-07T21:31:31.864Z"
   },
   {
    "duration": 91,
    "start_time": "2023-03-07T21:31:31.921Z"
   },
   {
    "duration": 80,
    "start_time": "2023-03-07T21:31:32.014Z"
   },
   {
    "duration": 107,
    "start_time": "2023-03-07T21:31:32.096Z"
   },
   {
    "duration": 17,
    "start_time": "2023-03-07T21:31:32.204Z"
   },
   {
    "duration": 29,
    "start_time": "2023-03-07T21:31:32.223Z"
   },
   {
    "duration": 204,
    "start_time": "2023-03-07T21:31:32.253Z"
   },
   {
    "duration": 8,
    "start_time": "2023-03-07T21:31:32.459Z"
   },
   {
    "duration": 36,
    "start_time": "2023-03-07T21:31:32.469Z"
   },
   {
    "duration": 36,
    "start_time": "2023-03-07T21:31:32.507Z"
   },
   {
    "duration": 1592,
    "start_time": "2023-03-07T21:31:32.545Z"
   },
   {
    "duration": 18,
    "start_time": "2023-03-07T21:31:34.139Z"
   },
   {
    "duration": 19,
    "start_time": "2023-03-07T21:31:34.158Z"
   },
   {
    "duration": 46,
    "start_time": "2023-03-07T21:31:34.179Z"
   },
   {
    "duration": 4,
    "start_time": "2023-03-07T21:31:34.228Z"
   },
   {
    "duration": 73,
    "start_time": "2023-03-07T21:31:34.233Z"
   },
   {
    "duration": 195,
    "start_time": "2023-03-07T21:31:34.308Z"
   },
   {
    "duration": 13970,
    "start_time": "2023-03-07T21:31:34.505Z"
   },
   {
    "duration": 5,
    "start_time": "2023-03-07T21:31:48.476Z"
   },
   {
    "duration": 587,
    "start_time": "2023-03-07T21:31:48.482Z"
   },
   {
    "duration": 35,
    "start_time": "2023-03-07T21:31:49.071Z"
   },
   {
    "duration": 4,
    "start_time": "2023-03-07T21:31:49.107Z"
   },
   {
    "duration": 570,
    "start_time": "2023-03-07T21:31:49.113Z"
   },
   {
    "duration": 76,
    "start_time": "2023-03-07T21:31:49.684Z"
   },
   {
    "duration": 12,
    "start_time": "2023-03-07T21:31:49.762Z"
   },
   {
    "duration": 253,
    "start_time": "2023-03-07T21:31:49.776Z"
   },
   {
    "duration": 46,
    "start_time": "2023-03-07T21:31:50.030Z"
   },
   {
    "duration": 14,
    "start_time": "2023-03-07T21:31:50.077Z"
   },
   {
    "duration": 68,
    "start_time": "2023-03-07T21:31:50.093Z"
   },
   {
    "duration": 18,
    "start_time": "2023-03-07T21:31:50.162Z"
   },
   {
    "duration": 19,
    "start_time": "2023-03-07T21:31:50.182Z"
   },
   {
    "duration": 16,
    "start_time": "2023-03-07T21:31:50.202Z"
   },
   {
    "duration": 12,
    "start_time": "2023-03-07T21:31:50.219Z"
   },
   {
    "duration": 12,
    "start_time": "2023-03-07T21:31:50.256Z"
   },
   {
    "duration": 37,
    "start_time": "2023-03-07T21:31:50.269Z"
   },
   {
    "duration": 25,
    "start_time": "2023-03-07T21:31:50.308Z"
   },
   {
    "duration": 5,
    "start_time": "2023-03-07T21:31:50.357Z"
   },
   {
    "duration": 13,
    "start_time": "2023-03-07T21:31:50.364Z"
   },
   {
    "duration": 466,
    "start_time": "2023-03-07T21:36:57.831Z"
   },
   {
    "duration": 45,
    "start_time": "2023-03-07T21:40:24.960Z"
   },
   {
    "duration": 2,
    "start_time": "2023-03-07T21:43:07.087Z"
   },
   {
    "duration": 1130,
    "start_time": "2023-03-07T21:43:13.883Z"
   },
   {
    "duration": 648,
    "start_time": "2023-03-07T21:43:15.016Z"
   },
   {
    "duration": 12,
    "start_time": "2023-03-07T21:43:15.666Z"
   },
   {
    "duration": 10,
    "start_time": "2023-03-07T21:43:15.680Z"
   },
   {
    "duration": 23,
    "start_time": "2023-03-07T21:43:15.691Z"
   },
   {
    "duration": 6,
    "start_time": "2023-03-07T21:43:15.716Z"
   },
   {
    "duration": 7,
    "start_time": "2023-03-07T21:43:15.724Z"
   },
   {
    "duration": 26,
    "start_time": "2023-03-07T21:43:15.732Z"
   },
   {
    "duration": 4,
    "start_time": "2023-03-07T21:43:15.759Z"
   },
   {
    "duration": 6,
    "start_time": "2023-03-07T21:43:15.766Z"
   },
   {
    "duration": 6,
    "start_time": "2023-03-07T21:43:15.773Z"
   },
   {
    "duration": 12,
    "start_time": "2023-03-07T21:43:15.781Z"
   },
   {
    "duration": 21,
    "start_time": "2023-03-07T21:43:15.795Z"
   },
   {
    "duration": 48,
    "start_time": "2023-03-07T21:43:15.818Z"
   },
   {
    "duration": 13,
    "start_time": "2023-03-07T21:43:15.868Z"
   },
   {
    "duration": 30,
    "start_time": "2023-03-07T21:43:15.883Z"
   },
   {
    "duration": 7,
    "start_time": "2023-03-07T21:43:15.914Z"
   },
   {
    "duration": 35,
    "start_time": "2023-03-07T21:43:15.923Z"
   },
   {
    "duration": 5,
    "start_time": "2023-03-07T21:43:15.960Z"
   },
   {
    "duration": 13,
    "start_time": "2023-03-07T21:43:15.966Z"
   },
   {
    "duration": 11,
    "start_time": "2023-03-07T21:43:15.981Z"
   },
   {
    "duration": 89,
    "start_time": "2023-03-07T21:43:15.994Z"
   },
   {
    "duration": 148,
    "start_time": "2023-03-07T21:43:16.085Z"
   },
   {
    "duration": 50,
    "start_time": "2023-03-07T21:43:16.234Z"
   },
   {
    "duration": 480,
    "start_time": "2023-03-07T21:43:16.285Z"
   },
   {
    "duration": 181,
    "start_time": "2023-03-07T21:43:16.766Z"
   },
   {
    "duration": 9,
    "start_time": "2023-03-07T21:43:16.948Z"
   },
   {
    "duration": 9,
    "start_time": "2023-03-07T21:43:16.961Z"
   },
   {
    "duration": 13,
    "start_time": "2023-03-07T21:43:16.972Z"
   },
   {
    "duration": 8,
    "start_time": "2023-03-07T21:43:16.987Z"
   },
   {
    "duration": 15,
    "start_time": "2023-03-07T21:43:16.997Z"
   },
   {
    "duration": 76,
    "start_time": "2023-03-07T21:43:17.013Z"
   },
   {
    "duration": 212,
    "start_time": "2023-03-07T21:43:17.091Z"
   },
   {
    "duration": 64,
    "start_time": "2023-03-07T21:43:17.306Z"
   },
   {
    "duration": 85,
    "start_time": "2023-03-07T21:43:17.372Z"
   },
   {
    "duration": 72,
    "start_time": "2023-03-07T21:43:17.459Z"
   },
   {
    "duration": 145,
    "start_time": "2023-03-07T21:43:17.534Z"
   },
   {
    "duration": 34,
    "start_time": "2023-03-07T21:43:17.681Z"
   },
   {
    "duration": 97,
    "start_time": "2023-03-07T21:43:17.717Z"
   },
   {
    "duration": 2,
    "start_time": "2023-03-07T21:43:17.815Z"
   },
   {
    "duration": 39,
    "start_time": "2023-03-07T21:43:17.819Z"
   },
   {
    "duration": 12,
    "start_time": "2023-03-07T21:43:17.860Z"
   },
   {
    "duration": 12,
    "start_time": "2023-03-07T21:43:17.874Z"
   },
   {
    "duration": 77,
    "start_time": "2023-03-07T21:43:17.888Z"
   },
   {
    "duration": 3111,
    "start_time": "2023-03-07T21:43:17.967Z"
   },
   {
    "duration": 3059,
    "start_time": "2023-03-07T21:43:21.080Z"
   },
   {
    "duration": 1751,
    "start_time": "2023-03-07T21:43:24.141Z"
   },
   {
    "duration": 67,
    "start_time": "2023-03-07T21:43:25.894Z"
   },
   {
    "duration": 80,
    "start_time": "2023-03-07T21:43:25.963Z"
   },
   {
    "duration": 69,
    "start_time": "2023-03-07T21:43:26.057Z"
   },
   {
    "duration": 119,
    "start_time": "2023-03-07T21:43:26.128Z"
   },
   {
    "duration": 24,
    "start_time": "2023-03-07T21:43:26.248Z"
   },
   {
    "duration": 19,
    "start_time": "2023-03-07T21:43:26.274Z"
   },
   {
    "duration": 203,
    "start_time": "2023-03-07T21:43:26.294Z"
   },
   {
    "duration": 70,
    "start_time": "2023-03-07T21:43:26.499Z"
   },
   {
    "duration": 0,
    "start_time": "2023-03-07T21:43:26.571Z"
   },
   {
    "duration": 0,
    "start_time": "2023-03-07T21:43:26.573Z"
   },
   {
    "duration": 0,
    "start_time": "2023-03-07T21:43:26.574Z"
   },
   {
    "duration": 0,
    "start_time": "2023-03-07T21:43:26.576Z"
   },
   {
    "duration": 0,
    "start_time": "2023-03-07T21:43:26.577Z"
   },
   {
    "duration": 0,
    "start_time": "2023-03-07T21:43:26.579Z"
   },
   {
    "duration": 0,
    "start_time": "2023-03-07T21:43:26.580Z"
   },
   {
    "duration": 0,
    "start_time": "2023-03-07T21:43:26.581Z"
   },
   {
    "duration": 0,
    "start_time": "2023-03-07T21:43:26.583Z"
   },
   {
    "duration": 0,
    "start_time": "2023-03-07T21:43:26.584Z"
   },
   {
    "duration": 0,
    "start_time": "2023-03-07T21:43:26.585Z"
   },
   {
    "duration": 0,
    "start_time": "2023-03-07T21:43:26.587Z"
   },
   {
    "duration": 0,
    "start_time": "2023-03-07T21:43:26.588Z"
   },
   {
    "duration": 0,
    "start_time": "2023-03-07T21:43:26.589Z"
   },
   {
    "duration": 0,
    "start_time": "2023-03-07T21:43:26.591Z"
   },
   {
    "duration": 0,
    "start_time": "2023-03-07T21:43:26.592Z"
   },
   {
    "duration": 0,
    "start_time": "2023-03-07T21:43:26.594Z"
   },
   {
    "duration": 0,
    "start_time": "2023-03-07T21:43:26.595Z"
   },
   {
    "duration": 0,
    "start_time": "2023-03-07T21:43:26.596Z"
   },
   {
    "duration": 0,
    "start_time": "2023-03-07T21:43:26.597Z"
   },
   {
    "duration": 0,
    "start_time": "2023-03-07T21:43:26.599Z"
   },
   {
    "duration": 0,
    "start_time": "2023-03-07T21:43:26.600Z"
   },
   {
    "duration": 0,
    "start_time": "2023-03-07T21:43:26.602Z"
   },
   {
    "duration": 0,
    "start_time": "2023-03-07T21:43:26.603Z"
   },
   {
    "duration": 0,
    "start_time": "2023-03-07T21:43:26.604Z"
   },
   {
    "duration": 0,
    "start_time": "2023-03-07T21:43:26.606Z"
   },
   {
    "duration": 0,
    "start_time": "2023-03-07T21:43:26.607Z"
   },
   {
    "duration": 0,
    "start_time": "2023-03-07T21:43:26.609Z"
   },
   {
    "duration": 0,
    "start_time": "2023-03-07T21:43:26.658Z"
   },
   {
    "duration": 0,
    "start_time": "2023-03-07T21:43:26.659Z"
   },
   {
    "duration": 0,
    "start_time": "2023-03-07T21:43:26.661Z"
   },
   {
    "duration": 0,
    "start_time": "2023-03-07T21:43:26.662Z"
   },
   {
    "duration": 0,
    "start_time": "2023-03-07T21:43:26.664Z"
   },
   {
    "duration": 1141,
    "start_time": "2023-03-07T21:44:10.555Z"
   },
   {
    "duration": 594,
    "start_time": "2023-03-07T21:44:11.698Z"
   },
   {
    "duration": 12,
    "start_time": "2023-03-07T21:44:12.294Z"
   },
   {
    "duration": 11,
    "start_time": "2023-03-07T21:44:12.308Z"
   },
   {
    "duration": 13,
    "start_time": "2023-03-07T21:44:12.321Z"
   },
   {
    "duration": 5,
    "start_time": "2023-03-07T21:44:12.336Z"
   },
   {
    "duration": 17,
    "start_time": "2023-03-07T21:44:12.343Z"
   },
   {
    "duration": 8,
    "start_time": "2023-03-07T21:44:12.361Z"
   },
   {
    "duration": 4,
    "start_time": "2023-03-07T21:44:12.370Z"
   },
   {
    "duration": 4,
    "start_time": "2023-03-07T21:44:12.377Z"
   },
   {
    "duration": 10,
    "start_time": "2023-03-07T21:44:12.382Z"
   },
   {
    "duration": 11,
    "start_time": "2023-03-07T21:44:12.393Z"
   },
   {
    "duration": 20,
    "start_time": "2023-03-07T21:44:12.405Z"
   },
   {
    "duration": 50,
    "start_time": "2023-03-07T21:44:12.427Z"
   },
   {
    "duration": 12,
    "start_time": "2023-03-07T21:44:12.479Z"
   },
   {
    "duration": 38,
    "start_time": "2023-03-07T21:44:12.493Z"
   },
   {
    "duration": 24,
    "start_time": "2023-03-07T21:44:12.533Z"
   },
   {
    "duration": 6,
    "start_time": "2023-03-07T21:44:12.559Z"
   },
   {
    "duration": 6,
    "start_time": "2023-03-07T21:44:12.567Z"
   },
   {
    "duration": 13,
    "start_time": "2023-03-07T21:44:12.574Z"
   },
   {
    "duration": 11,
    "start_time": "2023-03-07T21:44:12.588Z"
   },
   {
    "duration": 84,
    "start_time": "2023-03-07T21:44:12.600Z"
   },
   {
    "duration": 147,
    "start_time": "2023-03-07T21:44:12.686Z"
   },
   {
    "duration": 50,
    "start_time": "2023-03-07T21:44:12.835Z"
   },
   {
    "duration": 510,
    "start_time": "2023-03-07T21:44:12.887Z"
   },
   {
    "duration": 179,
    "start_time": "2023-03-07T21:44:13.398Z"
   },
   {
    "duration": 6,
    "start_time": "2023-03-07T21:44:13.579Z"
   },
   {
    "duration": 9,
    "start_time": "2023-03-07T21:44:13.589Z"
   },
   {
    "duration": 15,
    "start_time": "2023-03-07T21:44:13.599Z"
   },
   {
    "duration": 7,
    "start_time": "2023-03-07T21:44:13.616Z"
   },
   {
    "duration": 34,
    "start_time": "2023-03-07T21:44:13.624Z"
   },
   {
    "duration": 47,
    "start_time": "2023-03-07T21:44:13.660Z"
   },
   {
    "duration": 211,
    "start_time": "2023-03-07T21:44:13.709Z"
   },
   {
    "duration": 65,
    "start_time": "2023-03-07T21:44:13.922Z"
   },
   {
    "duration": 84,
    "start_time": "2023-03-07T21:44:13.989Z"
   },
   {
    "duration": 83,
    "start_time": "2023-03-07T21:44:14.075Z"
   },
   {
    "duration": 138,
    "start_time": "2023-03-07T21:44:14.160Z"
   },
   {
    "duration": 36,
    "start_time": "2023-03-07T21:44:14.300Z"
   },
   {
    "duration": 92,
    "start_time": "2023-03-07T21:44:14.337Z"
   },
   {
    "duration": 39,
    "start_time": "2023-03-07T21:44:14.431Z"
   },
   {
    "duration": 12,
    "start_time": "2023-03-07T21:44:14.471Z"
   },
   {
    "duration": 10,
    "start_time": "2023-03-07T21:44:14.485Z"
   },
   {
    "duration": 69,
    "start_time": "2023-03-07T21:44:14.497Z"
   },
   {
    "duration": 3197,
    "start_time": "2023-03-07T21:44:14.568Z"
   },
   {
    "duration": 3122,
    "start_time": "2023-03-07T21:44:17.767Z"
   },
   {
    "duration": 1710,
    "start_time": "2023-03-07T21:44:20.891Z"
   },
   {
    "duration": 65,
    "start_time": "2023-03-07T21:44:22.603Z"
   },
   {
    "duration": 79,
    "start_time": "2023-03-07T21:44:22.671Z"
   },
   {
    "duration": 69,
    "start_time": "2023-03-07T21:44:22.758Z"
   },
   {
    "duration": 112,
    "start_time": "2023-03-07T21:44:22.828Z"
   },
   {
    "duration": 23,
    "start_time": "2023-03-07T21:44:22.941Z"
   },
   {
    "duration": 18,
    "start_time": "2023-03-07T21:44:22.965Z"
   },
   {
    "duration": 201,
    "start_time": "2023-03-07T21:44:22.984Z"
   },
   {
    "duration": 72,
    "start_time": "2023-03-07T21:44:23.186Z"
   },
   {
    "duration": 0,
    "start_time": "2023-03-07T21:44:23.260Z"
   },
   {
    "duration": 0,
    "start_time": "2023-03-07T21:44:23.261Z"
   },
   {
    "duration": 0,
    "start_time": "2023-03-07T21:44:23.263Z"
   },
   {
    "duration": 0,
    "start_time": "2023-03-07T21:44:23.264Z"
   },
   {
    "duration": 0,
    "start_time": "2023-03-07T21:44:23.264Z"
   },
   {
    "duration": 0,
    "start_time": "2023-03-07T21:44:23.265Z"
   },
   {
    "duration": 0,
    "start_time": "2023-03-07T21:44:23.266Z"
   },
   {
    "duration": 0,
    "start_time": "2023-03-07T21:44:23.267Z"
   },
   {
    "duration": 0,
    "start_time": "2023-03-07T21:44:23.268Z"
   },
   {
    "duration": 0,
    "start_time": "2023-03-07T21:44:23.269Z"
   },
   {
    "duration": 0,
    "start_time": "2023-03-07T21:44:23.270Z"
   },
   {
    "duration": 0,
    "start_time": "2023-03-07T21:44:23.271Z"
   },
   {
    "duration": 0,
    "start_time": "2023-03-07T21:44:23.272Z"
   },
   {
    "duration": 0,
    "start_time": "2023-03-07T21:44:23.273Z"
   },
   {
    "duration": 0,
    "start_time": "2023-03-07T21:44:23.274Z"
   },
   {
    "duration": 0,
    "start_time": "2023-03-07T21:44:23.275Z"
   },
   {
    "duration": 0,
    "start_time": "2023-03-07T21:44:23.276Z"
   },
   {
    "duration": 0,
    "start_time": "2023-03-07T21:44:23.277Z"
   },
   {
    "duration": 0,
    "start_time": "2023-03-07T21:44:23.278Z"
   },
   {
    "duration": 0,
    "start_time": "2023-03-07T21:44:23.279Z"
   },
   {
    "duration": 0,
    "start_time": "2023-03-07T21:44:23.280Z"
   },
   {
    "duration": 0,
    "start_time": "2023-03-07T21:44:23.281Z"
   },
   {
    "duration": 0,
    "start_time": "2023-03-07T21:44:23.282Z"
   },
   {
    "duration": 0,
    "start_time": "2023-03-07T21:44:23.283Z"
   },
   {
    "duration": 0,
    "start_time": "2023-03-07T21:44:23.283Z"
   },
   {
    "duration": 0,
    "start_time": "2023-03-07T21:44:23.284Z"
   },
   {
    "duration": 0,
    "start_time": "2023-03-07T21:44:23.285Z"
   },
   {
    "duration": 0,
    "start_time": "2023-03-07T21:44:23.286Z"
   },
   {
    "duration": 0,
    "start_time": "2023-03-07T21:44:23.287Z"
   },
   {
    "duration": 0,
    "start_time": "2023-03-07T21:44:23.288Z"
   },
   {
    "duration": 0,
    "start_time": "2023-03-07T21:44:23.289Z"
   },
   {
    "duration": 0,
    "start_time": "2023-03-07T21:44:23.290Z"
   },
   {
    "duration": 0,
    "start_time": "2023-03-07T21:44:23.291Z"
   },
   {
    "duration": 1083,
    "start_time": "2023-03-07T21:46:10.317Z"
   },
   {
    "duration": 588,
    "start_time": "2023-03-07T21:46:11.402Z"
   },
   {
    "duration": 12,
    "start_time": "2023-03-07T21:46:11.992Z"
   },
   {
    "duration": 9,
    "start_time": "2023-03-07T21:46:12.006Z"
   },
   {
    "duration": 15,
    "start_time": "2023-03-07T21:46:12.017Z"
   },
   {
    "duration": 6,
    "start_time": "2023-03-07T21:46:12.034Z"
   },
   {
    "duration": 17,
    "start_time": "2023-03-07T21:46:12.042Z"
   },
   {
    "duration": 8,
    "start_time": "2023-03-07T21:46:12.060Z"
   },
   {
    "duration": 7,
    "start_time": "2023-03-07T21:46:12.069Z"
   },
   {
    "duration": 9,
    "start_time": "2023-03-07T21:46:12.079Z"
   },
   {
    "duration": 11,
    "start_time": "2023-03-07T21:46:12.089Z"
   },
   {
    "duration": 12,
    "start_time": "2023-03-07T21:46:12.101Z"
   },
   {
    "duration": 21,
    "start_time": "2023-03-07T21:46:12.115Z"
   },
   {
    "duration": 41,
    "start_time": "2023-03-07T21:46:12.138Z"
   },
   {
    "duration": 13,
    "start_time": "2023-03-07T21:46:12.180Z"
   },
   {
    "duration": 32,
    "start_time": "2023-03-07T21:46:12.195Z"
   },
   {
    "duration": 6,
    "start_time": "2023-03-07T21:46:12.228Z"
   },
   {
    "duration": 7,
    "start_time": "2023-03-07T21:46:12.257Z"
   },
   {
    "duration": 5,
    "start_time": "2023-03-07T21:46:12.265Z"
   },
   {
    "duration": 14,
    "start_time": "2023-03-07T21:46:12.271Z"
   },
   {
    "duration": 10,
    "start_time": "2023-03-07T21:46:12.287Z"
   },
   {
    "duration": 88,
    "start_time": "2023-03-07T21:46:12.299Z"
   },
   {
    "duration": 149,
    "start_time": "2023-03-07T21:46:12.388Z"
   },
   {
    "duration": 50,
    "start_time": "2023-03-07T21:46:12.539Z"
   },
   {
    "duration": 486,
    "start_time": "2023-03-07T21:46:12.590Z"
   },
   {
    "duration": 180,
    "start_time": "2023-03-07T21:46:13.077Z"
   },
   {
    "duration": 7,
    "start_time": "2023-03-07T21:46:13.258Z"
   },
   {
    "duration": 11,
    "start_time": "2023-03-07T21:46:13.269Z"
   },
   {
    "duration": 13,
    "start_time": "2023-03-07T21:46:13.281Z"
   },
   {
    "duration": 10,
    "start_time": "2023-03-07T21:46:13.295Z"
   },
   {
    "duration": 13,
    "start_time": "2023-03-07T21:46:13.306Z"
   },
   {
    "duration": 85,
    "start_time": "2023-03-07T21:46:13.320Z"
   },
   {
    "duration": 215,
    "start_time": "2023-03-07T21:46:13.407Z"
   },
   {
    "duration": 64,
    "start_time": "2023-03-07T21:46:13.623Z"
   },
   {
    "duration": 82,
    "start_time": "2023-03-07T21:46:13.689Z"
   },
   {
    "duration": 86,
    "start_time": "2023-03-07T21:46:13.772Z"
   },
   {
    "duration": 134,
    "start_time": "2023-03-07T21:46:13.859Z"
   },
   {
    "duration": 34,
    "start_time": "2023-03-07T21:46:13.994Z"
   },
   {
    "duration": 94,
    "start_time": "2023-03-07T21:46:14.029Z"
   },
   {
    "duration": 45,
    "start_time": "2023-03-07T21:46:14.125Z"
   },
   {
    "duration": 11,
    "start_time": "2023-03-07T21:46:14.172Z"
   },
   {
    "duration": 11,
    "start_time": "2023-03-07T21:46:14.184Z"
   },
   {
    "duration": 77,
    "start_time": "2023-03-07T21:46:14.197Z"
   },
   {
    "duration": 3080,
    "start_time": "2023-03-07T21:46:14.276Z"
   },
   {
    "duration": 3049,
    "start_time": "2023-03-07T21:46:17.358Z"
   },
   {
    "duration": 1678,
    "start_time": "2023-03-07T21:46:20.409Z"
   },
   {
    "duration": 59,
    "start_time": "2023-03-07T21:46:22.089Z"
   },
   {
    "duration": 85,
    "start_time": "2023-03-07T21:46:22.157Z"
   },
   {
    "duration": 79,
    "start_time": "2023-03-07T21:46:22.244Z"
   },
   {
    "duration": 117,
    "start_time": "2023-03-07T21:46:22.325Z"
   },
   {
    "duration": 25,
    "start_time": "2023-03-07T21:46:22.444Z"
   },
   {
    "duration": 19,
    "start_time": "2023-03-07T21:46:22.471Z"
   },
   {
    "duration": 206,
    "start_time": "2023-03-07T21:46:22.491Z"
   },
   {
    "duration": 7,
    "start_time": "2023-03-07T21:46:22.698Z"
   },
   {
    "duration": 10,
    "start_time": "2023-03-07T21:46:22.707Z"
   },
   {
    "duration": 10,
    "start_time": "2023-03-07T21:46:22.719Z"
   },
   {
    "duration": 1533,
    "start_time": "2023-03-07T21:46:22.731Z"
   },
   {
    "duration": 13,
    "start_time": "2023-03-07T21:46:24.266Z"
   },
   {
    "duration": 35,
    "start_time": "2023-03-07T21:46:24.281Z"
   },
   {
    "duration": 53,
    "start_time": "2023-03-07T21:46:24.318Z"
   },
   {
    "duration": 3,
    "start_time": "2023-03-07T21:46:24.373Z"
   },
   {
    "duration": 42,
    "start_time": "2023-03-07T21:46:24.378Z"
   },
   {
    "duration": 193,
    "start_time": "2023-03-07T21:46:24.422Z"
   },
   {
    "duration": 13436,
    "start_time": "2023-03-07T21:46:24.617Z"
   },
   {
    "duration": 5,
    "start_time": "2023-03-07T21:46:38.057Z"
   },
   {
    "duration": 575,
    "start_time": "2023-03-07T21:46:38.063Z"
   },
   {
    "duration": 37,
    "start_time": "2023-03-07T21:46:38.640Z"
   },
   {
    "duration": 5,
    "start_time": "2023-03-07T21:46:38.678Z"
   },
   {
    "duration": 588,
    "start_time": "2023-03-07T21:46:38.685Z"
   },
   {
    "duration": 84,
    "start_time": "2023-03-07T21:46:39.275Z"
   },
   {
    "duration": 13,
    "start_time": "2023-03-07T21:46:39.361Z"
   },
   {
    "duration": 286,
    "start_time": "2023-03-07T21:46:39.376Z"
   },
   {
    "duration": 94,
    "start_time": "2023-03-07T21:46:39.664Z"
   },
   {
    "duration": 15,
    "start_time": "2023-03-07T21:46:39.760Z"
   },
   {
    "duration": 13,
    "start_time": "2023-03-07T21:46:39.776Z"
   },
   {
    "duration": 10,
    "start_time": "2023-03-07T21:46:39.791Z"
   },
   {
    "duration": 19,
    "start_time": "2023-03-07T21:46:39.857Z"
   },
   {
    "duration": 15,
    "start_time": "2023-03-07T21:46:39.878Z"
   },
   {
    "duration": 11,
    "start_time": "2023-03-07T21:46:39.895Z"
   },
   {
    "duration": 18,
    "start_time": "2023-03-07T21:46:39.908Z"
   },
   {
    "duration": 53,
    "start_time": "2023-03-07T21:46:39.927Z"
   },
   {
    "duration": 23,
    "start_time": "2023-03-07T21:46:39.985Z"
   },
   {
    "duration": 5,
    "start_time": "2023-03-07T21:46:40.010Z"
   },
   {
    "duration": 17,
    "start_time": "2023-03-07T21:46:40.017Z"
   },
   {
    "duration": 32,
    "start_time": "2023-03-07T21:50:16.217Z"
   },
   {
    "duration": 26,
    "start_time": "2023-03-07T21:52:25.650Z"
   },
   {
    "duration": 32,
    "start_time": "2023-03-07T21:52:40.886Z"
   },
   {
    "duration": 35,
    "start_time": "2023-03-07T21:52:50.846Z"
   },
   {
    "duration": 37,
    "start_time": "2023-03-07T21:55:04.590Z"
   },
   {
    "duration": 27,
    "start_time": "2023-03-07T21:56:41.658Z"
   },
   {
    "duration": 35,
    "start_time": "2023-03-07T21:56:53.974Z"
   },
   {
    "duration": 39,
    "start_time": "2023-03-07T21:57:05.643Z"
   },
   {
    "duration": 29,
    "start_time": "2023-03-07T21:57:51.305Z"
   },
   {
    "duration": 1054,
    "start_time": "2023-03-07T21:58:17.605Z"
   },
   {
    "duration": 588,
    "start_time": "2023-03-07T21:58:18.661Z"
   },
   {
    "duration": 12,
    "start_time": "2023-03-07T21:58:19.250Z"
   },
   {
    "duration": 10,
    "start_time": "2023-03-07T21:58:19.265Z"
   },
   {
    "duration": 14,
    "start_time": "2023-03-07T21:58:19.277Z"
   },
   {
    "duration": 9,
    "start_time": "2023-03-07T21:58:19.293Z"
   },
   {
    "duration": 19,
    "start_time": "2023-03-07T21:58:19.303Z"
   },
   {
    "duration": 7,
    "start_time": "2023-03-07T21:58:19.324Z"
   },
   {
    "duration": 25,
    "start_time": "2023-03-07T21:58:19.333Z"
   },
   {
    "duration": 4,
    "start_time": "2023-03-07T21:58:19.361Z"
   },
   {
    "duration": 10,
    "start_time": "2023-03-07T21:58:19.366Z"
   },
   {
    "duration": 13,
    "start_time": "2023-03-07T21:58:19.378Z"
   },
   {
    "duration": 21,
    "start_time": "2023-03-07T21:58:19.392Z"
   },
   {
    "duration": 43,
    "start_time": "2023-03-07T21:58:19.415Z"
   },
   {
    "duration": 13,
    "start_time": "2023-03-07T21:58:19.459Z"
   },
   {
    "duration": 27,
    "start_time": "2023-03-07T21:58:19.473Z"
   },
   {
    "duration": 6,
    "start_time": "2023-03-07T21:58:19.502Z"
   },
   {
    "duration": 7,
    "start_time": "2023-03-07T21:58:19.509Z"
   },
   {
    "duration": 5,
    "start_time": "2023-03-07T21:58:19.517Z"
   },
   {
    "duration": 44,
    "start_time": "2023-03-07T21:58:19.524Z"
   },
   {
    "duration": 11,
    "start_time": "2023-03-07T21:58:19.570Z"
   },
   {
    "duration": 80,
    "start_time": "2023-03-07T21:58:19.582Z"
   },
   {
    "duration": 149,
    "start_time": "2023-03-07T21:58:19.664Z"
   },
   {
    "duration": 46,
    "start_time": "2023-03-07T21:58:19.815Z"
   },
   {
    "duration": 487,
    "start_time": "2023-03-07T21:58:19.862Z"
   },
   {
    "duration": 167,
    "start_time": "2023-03-07T21:58:20.350Z"
   },
   {
    "duration": 6,
    "start_time": "2023-03-07T21:58:20.519Z"
   },
   {
    "duration": 9,
    "start_time": "2023-03-07T21:58:20.529Z"
   },
   {
    "duration": 34,
    "start_time": "2023-03-07T21:58:20.540Z"
   },
   {
    "duration": 12,
    "start_time": "2023-03-07T21:58:20.576Z"
   },
   {
    "duration": 21,
    "start_time": "2023-03-07T21:58:20.589Z"
   },
   {
    "duration": 59,
    "start_time": "2023-03-07T21:58:20.611Z"
   },
   {
    "duration": 200,
    "start_time": "2023-03-07T21:58:20.671Z"
   },
   {
    "duration": 50,
    "start_time": "2023-03-07T21:58:20.872Z"
   },
   {
    "duration": 88,
    "start_time": "2023-03-07T21:58:20.924Z"
   },
   {
    "duration": 86,
    "start_time": "2023-03-07T21:58:21.014Z"
   },
   {
    "duration": 133,
    "start_time": "2023-03-07T21:58:21.101Z"
   },
   {
    "duration": 33,
    "start_time": "2023-03-07T21:58:21.236Z"
   },
   {
    "duration": 95,
    "start_time": "2023-03-07T21:58:21.271Z"
   },
   {
    "duration": 24,
    "start_time": "2023-03-07T21:58:21.367Z"
   },
   {
    "duration": 10,
    "start_time": "2023-03-07T21:58:21.392Z"
   },
   {
    "duration": 10,
    "start_time": "2023-03-07T21:58:21.403Z"
   },
   {
    "duration": 76,
    "start_time": "2023-03-07T21:58:21.414Z"
   },
   {
    "duration": 3067,
    "start_time": "2023-03-07T21:58:21.491Z"
   },
   {
    "duration": 3100,
    "start_time": "2023-03-07T21:58:24.559Z"
   },
   {
    "duration": 1667,
    "start_time": "2023-03-07T21:58:27.661Z"
   },
   {
    "duration": 60,
    "start_time": "2023-03-07T21:58:29.329Z"
   },
   {
    "duration": 88,
    "start_time": "2023-03-07T21:58:29.390Z"
   },
   {
    "duration": 77,
    "start_time": "2023-03-07T21:58:29.480Z"
   },
   {
    "duration": 103,
    "start_time": "2023-03-07T21:58:29.559Z"
   },
   {
    "duration": 17,
    "start_time": "2023-03-07T21:58:29.663Z"
   },
   {
    "duration": 18,
    "start_time": "2023-03-07T21:58:29.681Z"
   },
   {
    "duration": 201,
    "start_time": "2023-03-07T21:58:29.700Z"
   },
   {
    "duration": 8,
    "start_time": "2023-03-07T21:58:29.902Z"
   },
   {
    "duration": 12,
    "start_time": "2023-03-07T21:58:29.911Z"
   },
   {
    "duration": 11,
    "start_time": "2023-03-07T21:58:29.924Z"
   },
   {
    "duration": 1528,
    "start_time": "2023-03-07T21:58:29.957Z"
   },
   {
    "duration": 12,
    "start_time": "2023-03-07T21:58:31.487Z"
   },
   {
    "duration": 63,
    "start_time": "2023-03-07T21:58:31.501Z"
   },
   {
    "duration": 5,
    "start_time": "2023-03-07T21:58:31.565Z"
   },
   {
    "duration": 20,
    "start_time": "2023-03-07T21:58:31.571Z"
   },
   {
    "duration": 27,
    "start_time": "2023-03-07T21:58:31.593Z"
   },
   {
    "duration": 13,
    "start_time": "2023-03-07T21:58:31.622Z"
   },
   {
    "duration": 153,
    "start_time": "2023-03-07T21:58:31.637Z"
   },
   {
    "duration": 697,
    "start_time": "2023-03-07T21:58:31.792Z"
   },
   {
    "duration": 4,
    "start_time": "2023-03-07T21:58:32.491Z"
   },
   {
    "duration": 544,
    "start_time": "2023-03-07T21:58:32.497Z"
   },
   {
    "duration": 27,
    "start_time": "2023-03-07T21:58:33.043Z"
   },
   {
    "duration": 4,
    "start_time": "2023-03-07T21:58:33.072Z"
   },
   {
    "duration": 683,
    "start_time": "2023-03-07T21:58:33.078Z"
   },
   {
    "duration": 18,
    "start_time": "2023-03-07T21:58:33.763Z"
   },
   {
    "duration": 14,
    "start_time": "2023-03-07T21:58:33.783Z"
   },
   {
    "duration": 171,
    "start_time": "2023-03-07T21:58:33.799Z"
   },
   {
    "duration": 21,
    "start_time": "2023-03-07T21:58:33.972Z"
   },
   {
    "duration": 15,
    "start_time": "2023-03-07T21:58:33.995Z"
   },
   {
    "duration": 15,
    "start_time": "2023-03-07T21:58:34.057Z"
   },
   {
    "duration": 17,
    "start_time": "2023-03-07T21:58:34.074Z"
   },
   {
    "duration": 20,
    "start_time": "2023-03-07T21:58:34.092Z"
   },
   {
    "duration": 17,
    "start_time": "2023-03-07T21:58:34.158Z"
   },
   {
    "duration": 17,
    "start_time": "2023-03-07T21:58:34.176Z"
   },
   {
    "duration": 22,
    "start_time": "2023-03-07T21:58:34.195Z"
   },
   {
    "duration": 39,
    "start_time": "2023-03-07T21:58:34.223Z"
   },
   {
    "duration": 25,
    "start_time": "2023-03-07T21:58:34.264Z"
   },
   {
    "duration": 7,
    "start_time": "2023-03-07T21:58:34.291Z"
   },
   {
    "duration": 16,
    "start_time": "2023-03-07T21:58:34.300Z"
   },
   {
    "duration": 18,
    "start_time": "2023-03-07T21:59:25.673Z"
   },
   {
    "duration": 102,
    "start_time": "2023-03-07T22:00:11.873Z"
   },
   {
    "duration": 17,
    "start_time": "2023-03-07T22:00:17.121Z"
   },
   {
    "duration": 19,
    "start_time": "2023-03-07T22:00:38.961Z"
   },
   {
    "duration": 19,
    "start_time": "2023-03-07T22:01:27.371Z"
   },
   {
    "duration": 1360,
    "start_time": "2023-03-07T22:05:56.089Z"
   },
   {
    "duration": 1167,
    "start_time": "2023-03-07T22:06:03.505Z"
   },
   {
    "duration": 1174,
    "start_time": "2023-03-07T22:06:59.016Z"
   },
   {
    "duration": 15,
    "start_time": "2023-03-07T22:07:15.484Z"
   },
   {
    "duration": 20,
    "start_time": "2023-03-07T22:07:28.185Z"
   },
   {
    "duration": 20,
    "start_time": "2023-03-07T22:07:44.181Z"
   },
   {
    "duration": 26,
    "start_time": "2023-03-07T22:08:04.892Z"
   },
   {
    "duration": 20,
    "start_time": "2023-03-07T22:08:12.849Z"
   },
   {
    "duration": 23,
    "start_time": "2023-03-07T22:09:32.532Z"
   },
   {
    "duration": 24,
    "start_time": "2023-03-07T22:09:35.928Z"
   },
   {
    "duration": 24,
    "start_time": "2023-03-07T22:09:42.964Z"
   },
   {
    "duration": 25,
    "start_time": "2023-03-07T22:10:24.664Z"
   },
   {
    "duration": 24,
    "start_time": "2023-03-07T22:10:33.204Z"
   },
   {
    "duration": 24,
    "start_time": "2023-03-07T22:10:37.774Z"
   },
   {
    "duration": 19,
    "start_time": "2023-03-07T22:11:02.389Z"
   },
   {
    "duration": 24,
    "start_time": "2023-03-07T22:11:33.420Z"
   },
   {
    "duration": 20,
    "start_time": "2023-03-07T22:11:53.632Z"
   },
   {
    "duration": 19,
    "start_time": "2023-03-07T22:12:27.044Z"
   },
   {
    "duration": 19,
    "start_time": "2023-03-07T22:12:34.652Z"
   },
   {
    "duration": 14,
    "start_time": "2023-03-07T22:16:03.664Z"
   },
   {
    "duration": 22,
    "start_time": "2023-03-07T22:16:18.257Z"
   },
   {
    "duration": 13,
    "start_time": "2023-03-07T22:16:25.819Z"
   },
   {
    "duration": 23,
    "start_time": "2023-03-07T22:17:33.378Z"
   },
   {
    "duration": 24,
    "start_time": "2023-03-07T22:23:55.895Z"
   },
   {
    "duration": 37,
    "start_time": "2023-03-07T22:28:27.714Z"
   },
   {
    "duration": 1099,
    "start_time": "2023-03-07T22:28:46.798Z"
   },
   {
    "duration": 598,
    "start_time": "2023-03-07T22:28:47.899Z"
   },
   {
    "duration": 12,
    "start_time": "2023-03-07T22:28:48.499Z"
   },
   {
    "duration": 10,
    "start_time": "2023-03-07T22:28:48.513Z"
   },
   {
    "duration": 14,
    "start_time": "2023-03-07T22:28:48.524Z"
   },
   {
    "duration": 8,
    "start_time": "2023-03-07T22:28:48.539Z"
   },
   {
    "duration": 6,
    "start_time": "2023-03-07T22:28:48.557Z"
   },
   {
    "duration": 8,
    "start_time": "2023-03-07T22:28:48.565Z"
   },
   {
    "duration": 4,
    "start_time": "2023-03-07T22:28:48.575Z"
   },
   {
    "duration": 8,
    "start_time": "2023-03-07T22:28:48.581Z"
   },
   {
    "duration": 7,
    "start_time": "2023-03-07T22:28:48.590Z"
   },
   {
    "duration": 11,
    "start_time": "2023-03-07T22:28:48.598Z"
   },
   {
    "duration": 50,
    "start_time": "2023-03-07T22:28:48.611Z"
   },
   {
    "duration": 25,
    "start_time": "2023-03-07T22:28:48.663Z"
   },
   {
    "duration": 12,
    "start_time": "2023-03-07T22:28:48.690Z"
   },
   {
    "duration": 32,
    "start_time": "2023-03-07T22:28:48.703Z"
   },
   {
    "duration": 6,
    "start_time": "2023-03-07T22:28:48.758Z"
   },
   {
    "duration": 8,
    "start_time": "2023-03-07T22:28:48.766Z"
   },
   {
    "duration": 5,
    "start_time": "2023-03-07T22:28:48.775Z"
   },
   {
    "duration": 13,
    "start_time": "2023-03-07T22:28:48.781Z"
   },
   {
    "duration": 10,
    "start_time": "2023-03-07T22:28:48.796Z"
   },
   {
    "duration": 87,
    "start_time": "2023-03-07T22:28:48.808Z"
   },
   {
    "duration": 149,
    "start_time": "2023-03-07T22:28:48.896Z"
   },
   {
    "duration": 47,
    "start_time": "2023-03-07T22:28:49.047Z"
   },
   {
    "duration": 516,
    "start_time": "2023-03-07T22:28:49.095Z"
   },
   {
    "duration": 190,
    "start_time": "2023-03-07T22:28:49.612Z"
   },
   {
    "duration": 5,
    "start_time": "2023-03-07T22:28:49.804Z"
   },
   {
    "duration": 9,
    "start_time": "2023-03-07T22:28:49.813Z"
   },
   {
    "duration": 13,
    "start_time": "2023-03-07T22:28:49.823Z"
   },
   {
    "duration": 26,
    "start_time": "2023-03-07T22:28:49.838Z"
   },
   {
    "duration": 10,
    "start_time": "2023-03-07T22:28:49.866Z"
   },
   {
    "duration": 46,
    "start_time": "2023-03-07T22:28:49.877Z"
   },
   {
    "duration": 233,
    "start_time": "2023-03-07T22:28:49.924Z"
   },
   {
    "duration": 54,
    "start_time": "2023-03-07T22:28:50.158Z"
   },
   {
    "duration": 88,
    "start_time": "2023-03-07T22:28:50.214Z"
   },
   {
    "duration": 85,
    "start_time": "2023-03-07T22:28:50.304Z"
   },
   {
    "duration": 129,
    "start_time": "2023-03-07T22:28:50.391Z"
   },
   {
    "duration": 37,
    "start_time": "2023-03-07T22:28:50.522Z"
   },
   {
    "duration": 77,
    "start_time": "2023-03-07T22:28:50.561Z"
   },
   {
    "duration": 38,
    "start_time": "2023-03-07T22:28:50.639Z"
   },
   {
    "duration": 9,
    "start_time": "2023-03-07T22:28:50.679Z"
   },
   {
    "duration": 10,
    "start_time": "2023-03-07T22:28:50.690Z"
   },
   {
    "duration": 72,
    "start_time": "2023-03-07T22:28:50.701Z"
   },
   {
    "duration": 3101,
    "start_time": "2023-03-07T22:28:50.775Z"
   },
   {
    "duration": 3158,
    "start_time": "2023-03-07T22:28:53.877Z"
   },
   {
    "duration": 1696,
    "start_time": "2023-03-07T22:28:57.037Z"
   },
   {
    "duration": 64,
    "start_time": "2023-03-07T22:28:58.734Z"
   },
   {
    "duration": 91,
    "start_time": "2023-03-07T22:28:58.799Z"
   },
   {
    "duration": 77,
    "start_time": "2023-03-07T22:28:58.892Z"
   },
   {
    "duration": 102,
    "start_time": "2023-03-07T22:28:58.970Z"
   },
   {
    "duration": 16,
    "start_time": "2023-03-07T22:28:59.074Z"
   },
   {
    "duration": 17,
    "start_time": "2023-03-07T22:28:59.091Z"
   },
   {
    "duration": 201,
    "start_time": "2023-03-07T22:28:59.109Z"
   },
   {
    "duration": 7,
    "start_time": "2023-03-07T22:28:59.312Z"
   },
   {
    "duration": 12,
    "start_time": "2023-03-07T22:28:59.321Z"
   },
   {
    "duration": 26,
    "start_time": "2023-03-07T22:28:59.334Z"
   },
   {
    "duration": 1516,
    "start_time": "2023-03-07T22:28:59.361Z"
   },
   {
    "duration": 13,
    "start_time": "2023-03-07T22:29:00.878Z"
   },
   {
    "duration": 61,
    "start_time": "2023-03-07T22:29:00.893Z"
   },
   {
    "duration": 4,
    "start_time": "2023-03-07T22:29:00.957Z"
   },
   {
    "duration": 30,
    "start_time": "2023-03-07T22:29:00.963Z"
   },
   {
    "duration": 23,
    "start_time": "2023-03-07T22:29:00.995Z"
   },
   {
    "duration": 40,
    "start_time": "2023-03-07T22:29:01.019Z"
   },
   {
    "duration": 171,
    "start_time": "2023-03-07T22:29:01.061Z"
   },
   {
    "duration": 682,
    "start_time": "2023-03-07T22:29:01.234Z"
   },
   {
    "duration": 4,
    "start_time": "2023-03-07T22:29:01.918Z"
   },
   {
    "duration": 600,
    "start_time": "2023-03-07T22:29:01.924Z"
   },
   {
    "duration": 21,
    "start_time": "2023-03-07T22:29:02.525Z"
   },
   {
    "duration": 12,
    "start_time": "2023-03-07T22:29:02.548Z"
   },
   {
    "duration": 725,
    "start_time": "2023-03-07T22:29:02.562Z"
   },
   {
    "duration": 26,
    "start_time": "2023-03-07T22:29:03.288Z"
   },
   {
    "duration": 41,
    "start_time": "2023-03-07T22:29:03.316Z"
   },
   {
    "duration": 13,
    "start_time": "2023-03-07T22:29:03.359Z"
   },
   {
    "duration": 195,
    "start_time": "2023-03-07T22:29:03.374Z"
   },
   {
    "duration": 2,
    "start_time": "2023-03-07T22:29:03.572Z"
   },
   {
    "duration": 29,
    "start_time": "2023-03-07T22:29:03.576Z"
   },
   {
    "duration": 62,
    "start_time": "2023-03-07T22:29:03.606Z"
   },
   {
    "duration": 15,
    "start_time": "2023-03-07T22:29:03.670Z"
   },
   {
    "duration": 15,
    "start_time": "2023-03-07T22:29:03.686Z"
   },
   {
    "duration": 70,
    "start_time": "2023-03-07T22:29:03.703Z"
   },
   {
    "duration": 16,
    "start_time": "2023-03-07T22:29:03.775Z"
   },
   {
    "duration": 15,
    "start_time": "2023-03-07T22:29:03.796Z"
   },
   {
    "duration": 16,
    "start_time": "2023-03-07T22:29:03.813Z"
   },
   {
    "duration": 72,
    "start_time": "2023-03-07T22:29:03.831Z"
   },
   {
    "duration": 25,
    "start_time": "2023-03-07T22:29:03.906Z"
   },
   {
    "duration": 5,
    "start_time": "2023-03-07T22:29:03.933Z"
   },
   {
    "duration": 16,
    "start_time": "2023-03-07T22:29:03.940Z"
   },
   {
    "duration": 24,
    "start_time": "2023-03-07T22:29:49.273Z"
   },
   {
    "duration": 1166,
    "start_time": "2023-03-07T22:30:12.542Z"
   },
   {
    "duration": 618,
    "start_time": "2023-03-07T22:30:13.710Z"
   },
   {
    "duration": 13,
    "start_time": "2023-03-07T22:30:14.329Z"
   },
   {
    "duration": 10,
    "start_time": "2023-03-07T22:30:14.344Z"
   },
   {
    "duration": 16,
    "start_time": "2023-03-07T22:30:14.357Z"
   },
   {
    "duration": 8,
    "start_time": "2023-03-07T22:30:14.375Z"
   },
   {
    "duration": 13,
    "start_time": "2023-03-07T22:30:14.384Z"
   },
   {
    "duration": 8,
    "start_time": "2023-03-07T22:30:14.398Z"
   },
   {
    "duration": 4,
    "start_time": "2023-03-07T22:30:14.407Z"
   },
   {
    "duration": 3,
    "start_time": "2023-03-07T22:30:14.414Z"
   },
   {
    "duration": 6,
    "start_time": "2023-03-07T22:30:14.419Z"
   },
   {
    "duration": 39,
    "start_time": "2023-03-07T22:30:14.426Z"
   },
   {
    "duration": 23,
    "start_time": "2023-03-07T22:30:14.467Z"
   },
   {
    "duration": 28,
    "start_time": "2023-03-07T22:30:14.492Z"
   },
   {
    "duration": 36,
    "start_time": "2023-03-07T22:30:14.522Z"
   },
   {
    "duration": 29,
    "start_time": "2023-03-07T22:30:14.560Z"
   },
   {
    "duration": 8,
    "start_time": "2023-03-07T22:30:14.591Z"
   },
   {
    "duration": 9,
    "start_time": "2023-03-07T22:30:14.601Z"
   },
   {
    "duration": 5,
    "start_time": "2023-03-07T22:30:14.612Z"
   },
   {
    "duration": 49,
    "start_time": "2023-03-07T22:30:14.618Z"
   },
   {
    "duration": 11,
    "start_time": "2023-03-07T22:30:14.669Z"
   },
   {
    "duration": 80,
    "start_time": "2023-03-07T22:30:14.681Z"
   },
   {
    "duration": 159,
    "start_time": "2023-03-07T22:30:14.762Z"
   },
   {
    "duration": 48,
    "start_time": "2023-03-07T22:30:14.923Z"
   },
   {
    "duration": 535,
    "start_time": "2023-03-07T22:30:14.973Z"
   },
   {
    "duration": 193,
    "start_time": "2023-03-07T22:30:15.509Z"
   },
   {
    "duration": 6,
    "start_time": "2023-03-07T22:30:15.705Z"
   },
   {
    "duration": 9,
    "start_time": "2023-03-07T22:30:15.717Z"
   },
   {
    "duration": 33,
    "start_time": "2023-03-07T22:30:15.727Z"
   },
   {
    "duration": 7,
    "start_time": "2023-03-07T22:30:15.761Z"
   },
   {
    "duration": 11,
    "start_time": "2023-03-07T22:30:15.770Z"
   },
   {
    "duration": 45,
    "start_time": "2023-03-07T22:30:15.783Z"
   },
   {
    "duration": 251,
    "start_time": "2023-03-07T22:30:15.829Z"
   },
   {
    "duration": 51,
    "start_time": "2023-03-07T22:30:16.081Z"
   },
   {
    "duration": 86,
    "start_time": "2023-03-07T22:30:16.134Z"
   },
   {
    "duration": 86,
    "start_time": "2023-03-07T22:30:16.222Z"
   },
   {
    "duration": 139,
    "start_time": "2023-03-07T22:30:16.310Z"
   },
   {
    "duration": 34,
    "start_time": "2023-03-07T22:30:16.451Z"
   },
   {
    "duration": 99,
    "start_time": "2023-03-07T22:30:16.487Z"
   },
   {
    "duration": 25,
    "start_time": "2023-03-07T22:30:16.587Z"
   },
   {
    "duration": 10,
    "start_time": "2023-03-07T22:30:16.614Z"
   },
   {
    "duration": 11,
    "start_time": "2023-03-07T22:30:16.625Z"
   },
   {
    "duration": 52,
    "start_time": "2023-03-07T22:30:16.657Z"
   },
   {
    "duration": 3106,
    "start_time": "2023-03-07T22:30:16.710Z"
   },
   {
    "duration": 3106,
    "start_time": "2023-03-07T22:30:19.818Z"
   },
   {
    "duration": 1708,
    "start_time": "2023-03-07T22:30:22.926Z"
   },
   {
    "duration": 62,
    "start_time": "2023-03-07T22:30:24.635Z"
   },
   {
    "duration": 88,
    "start_time": "2023-03-07T22:30:24.698Z"
   },
   {
    "duration": 76,
    "start_time": "2023-03-07T22:30:24.788Z"
   },
   {
    "duration": 106,
    "start_time": "2023-03-07T22:30:24.865Z"
   },
   {
    "duration": 17,
    "start_time": "2023-03-07T22:30:24.972Z"
   },
   {
    "duration": 19,
    "start_time": "2023-03-07T22:30:24.991Z"
   },
   {
    "duration": 226,
    "start_time": "2023-03-07T22:30:25.012Z"
   },
   {
    "duration": 19,
    "start_time": "2023-03-07T22:30:25.240Z"
   },
   {
    "duration": 24,
    "start_time": "2023-03-07T22:30:25.260Z"
   },
   {
    "duration": 12,
    "start_time": "2023-03-07T22:30:25.286Z"
   },
   {
    "duration": 1567,
    "start_time": "2023-03-07T22:30:25.300Z"
   },
   {
    "duration": 12,
    "start_time": "2023-03-07T22:30:26.868Z"
   },
   {
    "duration": 42,
    "start_time": "2023-03-07T22:30:26.881Z"
   },
   {
    "duration": 4,
    "start_time": "2023-03-07T22:30:26.925Z"
   },
   {
    "duration": 10,
    "start_time": "2023-03-07T22:30:26.931Z"
   },
   {
    "duration": 16,
    "start_time": "2023-03-07T22:30:26.943Z"
   },
   {
    "duration": 10,
    "start_time": "2023-03-07T22:30:26.961Z"
   },
   {
    "duration": 150,
    "start_time": "2023-03-07T22:30:26.973Z"
   },
   {
    "duration": 679,
    "start_time": "2023-03-07T22:30:27.124Z"
   },
   {
    "duration": 4,
    "start_time": "2023-03-07T22:30:27.805Z"
   },
   {
    "duration": 547,
    "start_time": "2023-03-07T22:30:27.810Z"
   },
   {
    "duration": 20,
    "start_time": "2023-03-07T22:30:28.359Z"
   },
   {
    "duration": 4,
    "start_time": "2023-03-07T22:30:28.380Z"
   },
   {
    "duration": 695,
    "start_time": "2023-03-07T22:30:28.385Z"
   },
   {
    "duration": 17,
    "start_time": "2023-03-07T22:30:29.082Z"
   },
   {
    "duration": 18,
    "start_time": "2023-03-07T22:30:29.101Z"
   },
   {
    "duration": 11,
    "start_time": "2023-03-07T22:30:29.121Z"
   },
   {
    "duration": 188,
    "start_time": "2023-03-07T22:30:29.133Z"
   },
   {
    "duration": 3,
    "start_time": "2023-03-07T22:30:29.323Z"
   },
   {
    "duration": 39,
    "start_time": "2023-03-07T22:30:29.328Z"
   },
   {
    "duration": 16,
    "start_time": "2023-03-07T22:30:29.368Z"
   },
   {
    "duration": 13,
    "start_time": "2023-03-07T22:30:29.385Z"
   },
   {
    "duration": 66,
    "start_time": "2023-03-07T22:30:29.399Z"
   },
   {
    "duration": 21,
    "start_time": "2023-03-07T22:30:29.467Z"
   },
   {
    "duration": 14,
    "start_time": "2023-03-07T22:30:29.490Z"
   },
   {
    "duration": 12,
    "start_time": "2023-03-07T22:30:29.509Z"
   },
   {
    "duration": 41,
    "start_time": "2023-03-07T22:30:29.522Z"
   },
   {
    "duration": 15,
    "start_time": "2023-03-07T22:30:29.565Z"
   },
   {
    "duration": 20,
    "start_time": "2023-03-07T22:30:29.581Z"
   },
   {
    "duration": 5,
    "start_time": "2023-03-07T22:30:29.602Z"
   },
   {
    "duration": 14,
    "start_time": "2023-03-07T22:30:29.609Z"
   },
   {
    "duration": 21,
    "start_time": "2023-03-07T22:35:19.909Z"
   },
   {
    "duration": 15,
    "start_time": "2023-03-07T22:35:31.613Z"
   },
   {
    "duration": 13,
    "start_time": "2023-03-07T22:35:44.413Z"
   },
   {
    "duration": 11,
    "start_time": "2023-03-07T22:35:46.797Z"
   },
   {
    "duration": 19,
    "start_time": "2023-03-07T22:39:03.629Z"
   },
   {
    "duration": 17,
    "start_time": "2023-03-07T22:39:08.861Z"
   },
   {
    "duration": 14,
    "start_time": "2023-03-07T22:39:13.749Z"
   },
   {
    "duration": 11,
    "start_time": "2023-03-07T22:39:19.124Z"
   },
   {
    "duration": 21,
    "start_time": "2023-03-07T22:41:15.141Z"
   },
   {
    "duration": 19,
    "start_time": "2023-03-07T22:41:30.329Z"
   },
   {
    "duration": 114,
    "start_time": "2023-03-07T22:42:17.869Z"
   },
   {
    "duration": 20,
    "start_time": "2023-03-07T22:42:29.229Z"
   },
   {
    "duration": 22,
    "start_time": "2023-03-07T22:42:38.273Z"
   },
   {
    "duration": 18,
    "start_time": "2023-03-07T22:42:47.785Z"
   },
   {
    "duration": 12,
    "start_time": "2023-03-07T22:43:14.765Z"
   },
   {
    "duration": 11,
    "start_time": "2023-03-07T22:43:20.604Z"
   },
   {
    "duration": 21,
    "start_time": "2023-03-07T22:43:43.681Z"
   },
   {
    "duration": 19,
    "start_time": "2023-03-07T22:43:50.821Z"
   },
   {
    "duration": 18,
    "start_time": "2023-03-07T22:43:54.241Z"
   },
   {
    "duration": 20,
    "start_time": "2023-03-07T22:44:06.717Z"
   },
   {
    "duration": 19,
    "start_time": "2023-03-07T22:44:49.129Z"
   },
   {
    "duration": 11,
    "start_time": "2023-03-07T22:44:57.672Z"
   },
   {
    "duration": 11,
    "start_time": "2023-03-07T22:44:59.953Z"
   },
   {
    "duration": 1178,
    "start_time": "2023-03-07T22:46:53.156Z"
   },
   {
    "duration": 13,
    "start_time": "2023-03-07T22:47:20.680Z"
   },
   {
    "duration": 1198,
    "start_time": "2023-03-07T22:47:29.244Z"
   },
   {
    "duration": 13,
    "start_time": "2023-03-07T22:47:39.944Z"
   },
   {
    "duration": 13,
    "start_time": "2023-03-07T22:47:47.969Z"
   },
   {
    "duration": 18,
    "start_time": "2023-03-07T22:47:54.444Z"
   },
   {
    "duration": 19,
    "start_time": "2023-03-07T22:49:17.622Z"
   },
   {
    "duration": 1096,
    "start_time": "2023-03-07T22:49:30.924Z"
   },
   {
    "duration": 587,
    "start_time": "2023-03-07T22:49:32.022Z"
   },
   {
    "duration": 12,
    "start_time": "2023-03-07T22:49:32.611Z"
   },
   {
    "duration": 14,
    "start_time": "2023-03-07T22:49:32.625Z"
   },
   {
    "duration": 33,
    "start_time": "2023-03-07T22:49:32.641Z"
   },
   {
    "duration": 28,
    "start_time": "2023-03-07T22:49:32.675Z"
   },
   {
    "duration": 15,
    "start_time": "2023-03-07T22:49:32.704Z"
   },
   {
    "duration": 6,
    "start_time": "2023-03-07T22:49:32.721Z"
   },
   {
    "duration": 8,
    "start_time": "2023-03-07T22:49:32.729Z"
   },
   {
    "duration": 9,
    "start_time": "2023-03-07T22:49:32.740Z"
   },
   {
    "duration": 32,
    "start_time": "2023-03-07T22:49:32.750Z"
   },
   {
    "duration": 24,
    "start_time": "2023-03-07T22:49:32.783Z"
   },
   {
    "duration": 22,
    "start_time": "2023-03-07T22:49:32.809Z"
   },
   {
    "duration": 24,
    "start_time": "2023-03-07T22:49:32.833Z"
   },
   {
    "duration": 16,
    "start_time": "2023-03-07T22:49:32.859Z"
   },
   {
    "duration": 39,
    "start_time": "2023-03-07T22:49:32.876Z"
   },
   {
    "duration": 6,
    "start_time": "2023-03-07T22:49:32.917Z"
   },
   {
    "duration": 15,
    "start_time": "2023-03-07T22:49:32.925Z"
   },
   {
    "duration": 5,
    "start_time": "2023-03-07T22:49:32.942Z"
   },
   {
    "duration": 19,
    "start_time": "2023-03-07T22:49:32.948Z"
   },
   {
    "duration": 11,
    "start_time": "2023-03-07T22:49:32.968Z"
   },
   {
    "duration": 77,
    "start_time": "2023-03-07T22:49:32.980Z"
   },
   {
    "duration": 156,
    "start_time": "2023-03-07T22:49:33.059Z"
   },
   {
    "duration": 46,
    "start_time": "2023-03-07T22:49:33.217Z"
   },
   {
    "duration": 487,
    "start_time": "2023-03-07T22:49:33.264Z"
   },
   {
    "duration": 166,
    "start_time": "2023-03-07T22:49:33.753Z"
   },
   {
    "duration": 6,
    "start_time": "2023-03-07T22:49:33.920Z"
   },
   {
    "duration": 9,
    "start_time": "2023-03-07T22:49:33.931Z"
   },
   {
    "duration": 16,
    "start_time": "2023-03-07T22:49:33.957Z"
   },
   {
    "duration": 11,
    "start_time": "2023-03-07T22:49:33.975Z"
   },
   {
    "duration": 13,
    "start_time": "2023-03-07T22:49:33.987Z"
   },
   {
    "duration": 58,
    "start_time": "2023-03-07T22:49:34.002Z"
   },
   {
    "duration": 232,
    "start_time": "2023-03-07T22:49:34.061Z"
   },
   {
    "duration": 68,
    "start_time": "2023-03-07T22:49:34.296Z"
   },
   {
    "duration": 74,
    "start_time": "2023-03-07T22:49:34.366Z"
   },
   {
    "duration": 79,
    "start_time": "2023-03-07T22:49:34.441Z"
   },
   {
    "duration": 138,
    "start_time": "2023-03-07T22:49:34.522Z"
   },
   {
    "duration": 33,
    "start_time": "2023-03-07T22:49:34.661Z"
   },
   {
    "duration": 94,
    "start_time": "2023-03-07T22:49:34.695Z"
   },
   {
    "duration": 31,
    "start_time": "2023-03-07T22:49:34.791Z"
   },
   {
    "duration": 9,
    "start_time": "2023-03-07T22:49:34.824Z"
   },
   {
    "duration": 29,
    "start_time": "2023-03-07T22:49:34.835Z"
   },
   {
    "duration": 49,
    "start_time": "2023-03-07T22:49:34.866Z"
   },
   {
    "duration": 3136,
    "start_time": "2023-03-07T22:49:34.916Z"
   },
   {
    "duration": 3105,
    "start_time": "2023-03-07T22:49:38.053Z"
   },
   {
    "duration": 1711,
    "start_time": "2023-03-07T22:49:41.159Z"
   },
   {
    "duration": 60,
    "start_time": "2023-03-07T22:49:42.872Z"
   },
   {
    "duration": 91,
    "start_time": "2023-03-07T22:49:42.934Z"
   },
   {
    "duration": 80,
    "start_time": "2023-03-07T22:49:43.026Z"
   },
   {
    "duration": 106,
    "start_time": "2023-03-07T22:49:43.108Z"
   },
   {
    "duration": 20,
    "start_time": "2023-03-07T22:49:43.215Z"
   },
   {
    "duration": 38,
    "start_time": "2023-03-07T22:49:43.236Z"
   },
   {
    "duration": 188,
    "start_time": "2023-03-07T22:49:43.276Z"
   },
   {
    "duration": 8,
    "start_time": "2023-03-07T22:49:43.466Z"
   },
   {
    "duration": 11,
    "start_time": "2023-03-07T22:49:43.476Z"
   },
   {
    "duration": 11,
    "start_time": "2023-03-07T22:49:43.489Z"
   },
   {
    "duration": 1566,
    "start_time": "2023-03-07T22:49:43.502Z"
   },
   {
    "duration": 13,
    "start_time": "2023-03-07T22:49:45.069Z"
   },
   {
    "duration": 38,
    "start_time": "2023-03-07T22:49:45.084Z"
   },
   {
    "duration": 5,
    "start_time": "2023-03-07T22:49:45.124Z"
   },
   {
    "duration": 32,
    "start_time": "2023-03-07T22:49:45.131Z"
   },
   {
    "duration": 8,
    "start_time": "2023-03-07T22:49:45.165Z"
   },
   {
    "duration": 9,
    "start_time": "2023-03-07T22:49:45.175Z"
   },
   {
    "duration": 174,
    "start_time": "2023-03-07T22:49:45.185Z"
   },
   {
    "duration": 697,
    "start_time": "2023-03-07T22:49:45.361Z"
   },
   {
    "duration": 4,
    "start_time": "2023-03-07T22:49:46.060Z"
   },
   {
    "duration": 570,
    "start_time": "2023-03-07T22:49:46.066Z"
   },
   {
    "duration": 26,
    "start_time": "2023-03-07T22:49:46.638Z"
   },
   {
    "duration": 4,
    "start_time": "2023-03-07T22:49:46.666Z"
   },
   {
    "duration": 696,
    "start_time": "2023-03-07T22:49:46.671Z"
   },
   {
    "duration": 17,
    "start_time": "2023-03-07T22:49:47.369Z"
   },
   {
    "duration": 23,
    "start_time": "2023-03-07T22:49:47.388Z"
   },
   {
    "duration": 24,
    "start_time": "2023-03-07T22:49:47.413Z"
   },
   {
    "duration": 179,
    "start_time": "2023-03-07T22:49:47.439Z"
   },
   {
    "duration": 2,
    "start_time": "2023-03-07T22:49:47.619Z"
   },
   {
    "duration": 42,
    "start_time": "2023-03-07T22:49:47.623Z"
   },
   {
    "duration": 2,
    "start_time": "2023-03-07T22:49:47.667Z"
   },
   {
    "duration": 31,
    "start_time": "2023-03-07T22:49:47.670Z"
   },
   {
    "duration": 14,
    "start_time": "2023-03-07T22:49:47.703Z"
   },
   {
    "duration": 11,
    "start_time": "2023-03-07T22:49:47.757Z"
   },
   {
    "duration": 5,
    "start_time": "2023-03-07T22:49:47.769Z"
   },
   {
    "duration": 35,
    "start_time": "2023-03-07T22:49:47.779Z"
   },
   {
    "duration": 11,
    "start_time": "2023-03-07T22:49:47.816Z"
   },
   {
    "duration": 34,
    "start_time": "2023-03-07T22:49:47.829Z"
   },
   {
    "duration": 20,
    "start_time": "2023-03-07T22:49:47.864Z"
   },
   {
    "duration": 39,
    "start_time": "2023-03-07T22:49:47.885Z"
   },
   {
    "duration": 24,
    "start_time": "2023-03-07T22:49:47.926Z"
   },
   {
    "duration": 43,
    "start_time": "2023-03-07T22:49:47.952Z"
   },
   {
    "duration": 11,
    "start_time": "2023-03-07T22:49:47.997Z"
   },
   {
    "duration": 32,
    "start_time": "2023-03-07T22:49:48.010Z"
   },
   {
    "duration": 13,
    "start_time": "2023-03-07T22:53:56.767Z"
   },
   {
    "duration": 12,
    "start_time": "2023-03-07T22:54:25.991Z"
   },
   {
    "duration": 12,
    "start_time": "2023-03-07T22:55:23.087Z"
   },
   {
    "duration": 9,
    "start_time": "2023-03-07T22:57:06.995Z"
   },
   {
    "duration": 11,
    "start_time": "2023-03-07T22:57:37.138Z"
   },
   {
    "duration": 12,
    "start_time": "2023-03-07T22:58:33.534Z"
   },
   {
    "duration": 1110,
    "start_time": "2023-03-07T22:59:20.731Z"
   },
   {
    "duration": 612,
    "start_time": "2023-03-07T22:59:21.844Z"
   },
   {
    "duration": 12,
    "start_time": "2023-03-07T22:59:22.458Z"
   },
   {
    "duration": 12,
    "start_time": "2023-03-07T22:59:22.472Z"
   },
   {
    "duration": 16,
    "start_time": "2023-03-07T22:59:22.486Z"
   },
   {
    "duration": 6,
    "start_time": "2023-03-07T22:59:22.504Z"
   },
   {
    "duration": 6,
    "start_time": "2023-03-07T22:59:22.512Z"
   },
   {
    "duration": 9,
    "start_time": "2023-03-07T22:59:22.519Z"
   },
   {
    "duration": 31,
    "start_time": "2023-03-07T22:59:22.529Z"
   },
   {
    "duration": 8,
    "start_time": "2023-03-07T22:59:22.564Z"
   },
   {
    "duration": 11,
    "start_time": "2023-03-07T22:59:22.573Z"
   },
   {
    "duration": 20,
    "start_time": "2023-03-07T22:59:22.586Z"
   },
   {
    "duration": 22,
    "start_time": "2023-03-07T22:59:22.608Z"
   },
   {
    "duration": 42,
    "start_time": "2023-03-07T22:59:22.632Z"
   },
   {
    "duration": 13,
    "start_time": "2023-03-07T22:59:22.676Z"
   },
   {
    "duration": 31,
    "start_time": "2023-03-07T22:59:22.691Z"
   },
   {
    "duration": 8,
    "start_time": "2023-03-07T22:59:22.724Z"
   },
   {
    "duration": 7,
    "start_time": "2023-03-07T22:59:22.758Z"
   },
   {
    "duration": 6,
    "start_time": "2023-03-07T22:59:22.767Z"
   },
   {
    "duration": 14,
    "start_time": "2023-03-07T22:59:22.775Z"
   },
   {
    "duration": 12,
    "start_time": "2023-03-07T22:59:22.791Z"
   },
   {
    "duration": 96,
    "start_time": "2023-03-07T22:59:22.805Z"
   },
   {
    "duration": 154,
    "start_time": "2023-03-07T22:59:22.903Z"
   },
   {
    "duration": 41,
    "start_time": "2023-03-07T22:59:23.060Z"
   },
   {
    "duration": 540,
    "start_time": "2023-03-07T22:59:23.103Z"
   },
   {
    "duration": 191,
    "start_time": "2023-03-07T22:59:23.645Z"
   },
   {
    "duration": 7,
    "start_time": "2023-03-07T22:59:23.838Z"
   },
   {
    "duration": 14,
    "start_time": "2023-03-07T22:59:23.859Z"
   },
   {
    "duration": 12,
    "start_time": "2023-03-07T22:59:23.875Z"
   },
   {
    "duration": 10,
    "start_time": "2023-03-07T22:59:23.889Z"
   },
   {
    "duration": 11,
    "start_time": "2023-03-07T22:59:23.900Z"
   },
   {
    "duration": 70,
    "start_time": "2023-03-07T22:59:23.913Z"
   },
   {
    "duration": 217,
    "start_time": "2023-03-07T22:59:23.985Z"
   },
   {
    "duration": 64,
    "start_time": "2023-03-07T22:59:24.204Z"
   },
   {
    "duration": 103,
    "start_time": "2023-03-07T22:59:24.270Z"
   },
   {
    "duration": 83,
    "start_time": "2023-03-07T22:59:24.374Z"
   },
   {
    "duration": 132,
    "start_time": "2023-03-07T22:59:24.458Z"
   },
   {
    "duration": 34,
    "start_time": "2023-03-07T22:59:24.592Z"
   },
   {
    "duration": 182,
    "start_time": "2023-03-07T22:59:24.628Z"
   },
   {
    "duration": 0,
    "start_time": "2023-03-07T22:59:24.812Z"
   },
   {
    "duration": 0,
    "start_time": "2023-03-07T22:59:24.813Z"
   },
   {
    "duration": 0,
    "start_time": "2023-03-07T22:59:24.814Z"
   },
   {
    "duration": 0,
    "start_time": "2023-03-07T22:59:24.815Z"
   },
   {
    "duration": 0,
    "start_time": "2023-03-07T22:59:24.817Z"
   },
   {
    "duration": 0,
    "start_time": "2023-03-07T22:59:24.818Z"
   },
   {
    "duration": 0,
    "start_time": "2023-03-07T22:59:24.819Z"
   },
   {
    "duration": 0,
    "start_time": "2023-03-07T22:59:24.820Z"
   },
   {
    "duration": 0,
    "start_time": "2023-03-07T22:59:24.821Z"
   },
   {
    "duration": 0,
    "start_time": "2023-03-07T22:59:24.822Z"
   },
   {
    "duration": 0,
    "start_time": "2023-03-07T22:59:24.823Z"
   },
   {
    "duration": 0,
    "start_time": "2023-03-07T22:59:24.824Z"
   },
   {
    "duration": 0,
    "start_time": "2023-03-07T22:59:24.825Z"
   },
   {
    "duration": 0,
    "start_time": "2023-03-07T22:59:24.826Z"
   },
   {
    "duration": 0,
    "start_time": "2023-03-07T22:59:24.827Z"
   },
   {
    "duration": 0,
    "start_time": "2023-03-07T22:59:24.828Z"
   },
   {
    "duration": 0,
    "start_time": "2023-03-07T22:59:24.829Z"
   },
   {
    "duration": 0,
    "start_time": "2023-03-07T22:59:24.857Z"
   },
   {
    "duration": 0,
    "start_time": "2023-03-07T22:59:24.858Z"
   },
   {
    "duration": 0,
    "start_time": "2023-03-07T22:59:24.859Z"
   },
   {
    "duration": 0,
    "start_time": "2023-03-07T22:59:24.860Z"
   },
   {
    "duration": 0,
    "start_time": "2023-03-07T22:59:24.861Z"
   },
   {
    "duration": 0,
    "start_time": "2023-03-07T22:59:24.862Z"
   },
   {
    "duration": 0,
    "start_time": "2023-03-07T22:59:24.863Z"
   },
   {
    "duration": 0,
    "start_time": "2023-03-07T22:59:24.864Z"
   },
   {
    "duration": 0,
    "start_time": "2023-03-07T22:59:24.865Z"
   },
   {
    "duration": 0,
    "start_time": "2023-03-07T22:59:24.866Z"
   },
   {
    "duration": 0,
    "start_time": "2023-03-07T22:59:24.867Z"
   },
   {
    "duration": 0,
    "start_time": "2023-03-07T22:59:24.869Z"
   },
   {
    "duration": 0,
    "start_time": "2023-03-07T22:59:24.870Z"
   },
   {
    "duration": 0,
    "start_time": "2023-03-07T22:59:24.871Z"
   },
   {
    "duration": 0,
    "start_time": "2023-03-07T22:59:24.872Z"
   },
   {
    "duration": 0,
    "start_time": "2023-03-07T22:59:24.873Z"
   },
   {
    "duration": 1,
    "start_time": "2023-03-07T22:59:24.873Z"
   },
   {
    "duration": 0,
    "start_time": "2023-03-07T22:59:24.875Z"
   },
   {
    "duration": 0,
    "start_time": "2023-03-07T22:59:24.875Z"
   },
   {
    "duration": 0,
    "start_time": "2023-03-07T22:59:24.876Z"
   },
   {
    "duration": 0,
    "start_time": "2023-03-07T22:59:24.877Z"
   },
   {
    "duration": 0,
    "start_time": "2023-03-07T22:59:24.878Z"
   },
   {
    "duration": 0,
    "start_time": "2023-03-07T22:59:24.879Z"
   },
   {
    "duration": 0,
    "start_time": "2023-03-07T22:59:24.880Z"
   },
   {
    "duration": 0,
    "start_time": "2023-03-07T22:59:24.880Z"
   },
   {
    "duration": 0,
    "start_time": "2023-03-07T22:59:24.881Z"
   },
   {
    "duration": 0,
    "start_time": "2023-03-07T22:59:24.882Z"
   },
   {
    "duration": 0,
    "start_time": "2023-03-07T22:59:24.883Z"
   },
   {
    "duration": 0,
    "start_time": "2023-03-07T22:59:24.884Z"
   },
   {
    "duration": 0,
    "start_time": "2023-03-07T22:59:24.885Z"
   },
   {
    "duration": 0,
    "start_time": "2023-03-07T22:59:24.886Z"
   },
   {
    "duration": 0,
    "start_time": "2023-03-07T22:59:24.887Z"
   },
   {
    "duration": 0,
    "start_time": "2023-03-07T22:59:24.888Z"
   },
   {
    "duration": 0,
    "start_time": "2023-03-07T22:59:24.889Z"
   },
   {
    "duration": 90,
    "start_time": "2023-03-07T22:59:43.110Z"
   },
   {
    "duration": 1136,
    "start_time": "2023-03-07T22:59:50.273Z"
   },
   {
    "duration": 610,
    "start_time": "2023-03-07T22:59:51.411Z"
   },
   {
    "duration": 12,
    "start_time": "2023-03-07T22:59:52.023Z"
   },
   {
    "duration": 10,
    "start_time": "2023-03-07T22:59:52.037Z"
   },
   {
    "duration": 21,
    "start_time": "2023-03-07T22:59:52.049Z"
   },
   {
    "duration": 14,
    "start_time": "2023-03-07T22:59:52.071Z"
   },
   {
    "duration": 9,
    "start_time": "2023-03-07T22:59:52.087Z"
   },
   {
    "duration": 11,
    "start_time": "2023-03-07T22:59:52.097Z"
   },
   {
    "duration": 5,
    "start_time": "2023-03-07T22:59:52.110Z"
   },
   {
    "duration": 11,
    "start_time": "2023-03-07T22:59:52.119Z"
   },
   {
    "duration": 11,
    "start_time": "2023-03-07T22:59:52.132Z"
   },
   {
    "duration": 22,
    "start_time": "2023-03-07T22:59:52.145Z"
   },
   {
    "duration": 19,
    "start_time": "2023-03-07T22:59:52.169Z"
   },
   {
    "duration": 28,
    "start_time": "2023-03-07T22:59:52.190Z"
   },
   {
    "duration": 42,
    "start_time": "2023-03-07T22:59:52.220Z"
   },
   {
    "duration": 30,
    "start_time": "2023-03-07T22:59:52.264Z"
   },
   {
    "duration": 7,
    "start_time": "2023-03-07T22:59:52.296Z"
   },
   {
    "duration": 9,
    "start_time": "2023-03-07T22:59:52.305Z"
   },
   {
    "duration": 6,
    "start_time": "2023-03-07T22:59:52.315Z"
   },
   {
    "duration": 13,
    "start_time": "2023-03-07T22:59:52.358Z"
   },
   {
    "duration": 12,
    "start_time": "2023-03-07T22:59:52.373Z"
   },
   {
    "duration": 86,
    "start_time": "2023-03-07T22:59:52.387Z"
   },
   {
    "duration": 148,
    "start_time": "2023-03-07T22:59:52.475Z"
   },
   {
    "duration": 51,
    "start_time": "2023-03-07T22:59:52.625Z"
   },
   {
    "duration": 526,
    "start_time": "2023-03-07T22:59:52.678Z"
   },
   {
    "duration": 196,
    "start_time": "2023-03-07T22:59:53.206Z"
   },
   {
    "duration": 7,
    "start_time": "2023-03-07T22:59:53.403Z"
   },
   {
    "duration": 11,
    "start_time": "2023-03-07T22:59:53.414Z"
   },
   {
    "duration": 14,
    "start_time": "2023-03-07T22:59:53.427Z"
   },
   {
    "duration": 8,
    "start_time": "2023-03-07T22:59:53.456Z"
   },
   {
    "duration": 9,
    "start_time": "2023-03-07T22:59:53.466Z"
   },
   {
    "duration": 47,
    "start_time": "2023-03-07T22:59:53.477Z"
   },
   {
    "duration": 245,
    "start_time": "2023-03-07T22:59:53.525Z"
   },
   {
    "duration": 50,
    "start_time": "2023-03-07T22:59:53.772Z"
   },
   {
    "duration": 92,
    "start_time": "2023-03-07T22:59:53.823Z"
   },
   {
    "duration": 88,
    "start_time": "2023-03-07T22:59:53.916Z"
   },
   {
    "duration": 135,
    "start_time": "2023-03-07T22:59:54.006Z"
   },
   {
    "duration": 39,
    "start_time": "2023-03-07T22:59:54.143Z"
   },
   {
    "duration": 109,
    "start_time": "2023-03-07T22:59:54.184Z"
   },
   {
    "duration": 27,
    "start_time": "2023-03-07T22:59:54.294Z"
   },
   {
    "duration": 10,
    "start_time": "2023-03-07T22:59:54.323Z"
   },
   {
    "duration": 27,
    "start_time": "2023-03-07T22:59:54.335Z"
   },
   {
    "duration": 56,
    "start_time": "2023-03-07T22:59:54.364Z"
   },
   {
    "duration": 3164,
    "start_time": "2023-03-07T22:59:54.422Z"
   },
   {
    "duration": 3070,
    "start_time": "2023-03-07T22:59:57.588Z"
   },
   {
    "duration": 1704,
    "start_time": "2023-03-07T23:00:00.660Z"
   },
   {
    "duration": 56,
    "start_time": "2023-03-07T23:00:02.366Z"
   },
   {
    "duration": 104,
    "start_time": "2023-03-07T23:00:02.424Z"
   },
   {
    "duration": 76,
    "start_time": "2023-03-07T23:00:02.530Z"
   },
   {
    "duration": 109,
    "start_time": "2023-03-07T23:00:02.608Z"
   },
   {
    "duration": 18,
    "start_time": "2023-03-07T23:00:02.719Z"
   },
   {
    "duration": 50,
    "start_time": "2023-03-07T23:00:02.739Z"
   },
   {
    "duration": 245,
    "start_time": "2023-03-07T23:00:02.791Z"
   },
   {
    "duration": 7,
    "start_time": "2023-03-07T23:00:03.038Z"
   },
   {
    "duration": 49,
    "start_time": "2023-03-07T23:00:03.057Z"
   },
   {
    "duration": 43,
    "start_time": "2023-03-07T23:00:03.108Z"
   },
   {
    "duration": 1674,
    "start_time": "2023-03-07T23:00:03.153Z"
   },
   {
    "duration": 13,
    "start_time": "2023-03-07T23:00:04.829Z"
   },
   {
    "duration": 54,
    "start_time": "2023-03-07T23:00:04.844Z"
   },
   {
    "duration": 5,
    "start_time": "2023-03-07T23:00:04.900Z"
   },
   {
    "duration": 28,
    "start_time": "2023-03-07T23:00:04.906Z"
   },
   {
    "duration": 11,
    "start_time": "2023-03-07T23:00:04.935Z"
   },
   {
    "duration": 67,
    "start_time": "2023-03-07T23:00:04.948Z"
   },
   {
    "duration": 180,
    "start_time": "2023-03-07T23:00:05.018Z"
   },
   {
    "duration": 746,
    "start_time": "2023-03-07T23:00:05.200Z"
   },
   {
    "duration": 12,
    "start_time": "2023-03-07T23:00:05.948Z"
   },
   {
    "duration": 564,
    "start_time": "2023-03-07T23:00:05.962Z"
   },
   {
    "duration": 30,
    "start_time": "2023-03-07T23:00:06.528Z"
   },
   {
    "duration": 5,
    "start_time": "2023-03-07T23:00:06.560Z"
   },
   {
    "duration": 720,
    "start_time": "2023-03-07T23:00:06.566Z"
   },
   {
    "duration": 18,
    "start_time": "2023-03-07T23:00:07.287Z"
   },
   {
    "duration": 22,
    "start_time": "2023-03-07T23:00:07.307Z"
   },
   {
    "duration": 32,
    "start_time": "2023-03-07T23:00:07.330Z"
   },
   {
    "duration": 172,
    "start_time": "2023-03-07T23:00:07.364Z"
   },
   {
    "duration": 2,
    "start_time": "2023-03-07T23:00:07.538Z"
   },
   {
    "duration": 30,
    "start_time": "2023-03-07T23:00:07.541Z"
   },
   {
    "duration": 3,
    "start_time": "2023-03-07T23:00:07.573Z"
   },
   {
    "duration": 32,
    "start_time": "2023-03-07T23:00:07.577Z"
   },
   {
    "duration": 57,
    "start_time": "2023-03-07T23:00:07.610Z"
   },
   {
    "duration": 18,
    "start_time": "2023-03-07T23:00:07.669Z"
   },
   {
    "duration": 3,
    "start_time": "2023-03-07T23:00:07.689Z"
   },
   {
    "duration": 21,
    "start_time": "2023-03-07T23:00:07.697Z"
   },
   {
    "duration": 38,
    "start_time": "2023-03-07T23:00:07.720Z"
   },
   {
    "duration": 28,
    "start_time": "2023-03-07T23:00:07.760Z"
   },
   {
    "duration": 12,
    "start_time": "2023-03-07T23:00:07.790Z"
   },
   {
    "duration": 16,
    "start_time": "2023-03-07T23:00:07.804Z"
   },
   {
    "duration": 40,
    "start_time": "2023-03-07T23:00:07.821Z"
   },
   {
    "duration": 25,
    "start_time": "2023-03-07T23:00:07.862Z"
   },
   {
    "duration": 5,
    "start_time": "2023-03-07T23:00:07.889Z"
   },
   {
    "duration": 15,
    "start_time": "2023-03-07T23:00:07.895Z"
   },
   {
    "duration": 51,
    "start_time": "2023-03-07T23:01:41.093Z"
   },
   {
    "duration": 1121,
    "start_time": "2023-03-07T23:01:54.402Z"
   },
   {
    "duration": 627,
    "start_time": "2023-03-07T23:01:55.525Z"
   },
   {
    "duration": 14,
    "start_time": "2023-03-07T23:01:56.154Z"
   },
   {
    "duration": 12,
    "start_time": "2023-03-07T23:01:56.170Z"
   },
   {
    "duration": 15,
    "start_time": "2023-03-07T23:01:56.184Z"
   },
   {
    "duration": 11,
    "start_time": "2023-03-07T23:01:56.201Z"
   },
   {
    "duration": 7,
    "start_time": "2023-03-07T23:01:56.214Z"
   },
   {
    "duration": 9,
    "start_time": "2023-03-07T23:01:56.222Z"
   },
   {
    "duration": 27,
    "start_time": "2023-03-07T23:01:56.232Z"
   },
   {
    "duration": 8,
    "start_time": "2023-03-07T23:01:56.262Z"
   },
   {
    "duration": 6,
    "start_time": "2023-03-07T23:01:56.272Z"
   },
   {
    "duration": 12,
    "start_time": "2023-03-07T23:01:56.280Z"
   },
   {
    "duration": 20,
    "start_time": "2023-03-07T23:01:56.294Z"
   },
   {
    "duration": 52,
    "start_time": "2023-03-07T23:01:56.316Z"
   },
   {
    "duration": 13,
    "start_time": "2023-03-07T23:01:56.370Z"
   },
   {
    "duration": 32,
    "start_time": "2023-03-07T23:01:56.385Z"
   },
   {
    "duration": 6,
    "start_time": "2023-03-07T23:01:56.419Z"
   },
   {
    "duration": 31,
    "start_time": "2023-03-07T23:01:56.427Z"
   },
   {
    "duration": 5,
    "start_time": "2023-03-07T23:01:56.460Z"
   },
   {
    "duration": 17,
    "start_time": "2023-03-07T23:01:56.467Z"
   },
   {
    "duration": 11,
    "start_time": "2023-03-07T23:01:56.486Z"
   },
   {
    "duration": 84,
    "start_time": "2023-03-07T23:01:56.499Z"
   },
   {
    "duration": 151,
    "start_time": "2023-03-07T23:01:56.585Z"
   },
   {
    "duration": 51,
    "start_time": "2023-03-07T23:01:56.737Z"
   },
   {
    "duration": 527,
    "start_time": "2023-03-07T23:01:56.790Z"
   },
   {
    "duration": 200,
    "start_time": "2023-03-07T23:01:57.320Z"
   },
   {
    "duration": 6,
    "start_time": "2023-03-07T23:01:57.521Z"
   },
   {
    "duration": 9,
    "start_time": "2023-03-07T23:01:57.531Z"
   },
   {
    "duration": 27,
    "start_time": "2023-03-07T23:01:57.541Z"
   },
   {
    "duration": 10,
    "start_time": "2023-03-07T23:01:57.570Z"
   },
   {
    "duration": 13,
    "start_time": "2023-03-07T23:01:57.581Z"
   },
   {
    "duration": 71,
    "start_time": "2023-03-07T23:01:57.596Z"
   },
   {
    "duration": 232,
    "start_time": "2023-03-07T23:01:57.668Z"
   },
   {
    "duration": 60,
    "start_time": "2023-03-07T23:01:57.902Z"
   },
   {
    "duration": 76,
    "start_time": "2023-03-07T23:01:57.963Z"
   },
   {
    "duration": 86,
    "start_time": "2023-03-07T23:01:58.041Z"
   },
   {
    "duration": 143,
    "start_time": "2023-03-07T23:01:58.129Z"
   },
   {
    "duration": 34,
    "start_time": "2023-03-07T23:01:58.274Z"
   },
   {
    "duration": 94,
    "start_time": "2023-03-07T23:01:58.310Z"
   },
   {
    "duration": 24,
    "start_time": "2023-03-07T23:01:58.406Z"
   },
   {
    "duration": 30,
    "start_time": "2023-03-07T23:01:58.431Z"
   },
   {
    "duration": 10,
    "start_time": "2023-03-07T23:01:58.462Z"
   },
   {
    "duration": 50,
    "start_time": "2023-03-07T23:01:58.474Z"
   },
   {
    "duration": 3163,
    "start_time": "2023-03-07T23:01:58.526Z"
   },
   {
    "duration": 3216,
    "start_time": "2023-03-07T23:02:01.691Z"
   },
   {
    "duration": 1787,
    "start_time": "2023-03-07T23:02:04.909Z"
   },
   {
    "duration": 74,
    "start_time": "2023-03-07T23:02:06.697Z"
   },
   {
    "duration": 93,
    "start_time": "2023-03-07T23:02:06.772Z"
   },
   {
    "duration": 70,
    "start_time": "2023-03-07T23:02:06.867Z"
   },
   {
    "duration": 119,
    "start_time": "2023-03-07T23:02:06.939Z"
   },
   {
    "duration": 17,
    "start_time": "2023-03-07T23:02:07.059Z"
   },
   {
    "duration": 18,
    "start_time": "2023-03-07T23:02:07.078Z"
   },
   {
    "duration": 219,
    "start_time": "2023-03-07T23:02:07.097Z"
   },
   {
    "duration": 8,
    "start_time": "2023-03-07T23:02:07.318Z"
   },
   {
    "duration": 15,
    "start_time": "2023-03-07T23:02:07.327Z"
   },
   {
    "duration": 20,
    "start_time": "2023-03-07T23:02:07.344Z"
   },
   {
    "duration": 1580,
    "start_time": "2023-03-07T23:02:07.365Z"
   },
   {
    "duration": 20,
    "start_time": "2023-03-07T23:02:08.946Z"
   },
   {
    "duration": 43,
    "start_time": "2023-03-07T23:02:08.968Z"
   },
   {
    "duration": 5,
    "start_time": "2023-03-07T23:02:09.012Z"
   },
   {
    "duration": 11,
    "start_time": "2023-03-07T23:02:09.019Z"
   },
   {
    "duration": 10,
    "start_time": "2023-03-07T23:02:09.032Z"
   },
   {
    "duration": 8,
    "start_time": "2023-03-07T23:02:09.057Z"
   },
   {
    "duration": 152,
    "start_time": "2023-03-07T23:02:09.067Z"
   },
   {
    "duration": 677,
    "start_time": "2023-03-07T23:02:09.221Z"
   },
   {
    "duration": 5,
    "start_time": "2023-03-07T23:02:09.900Z"
   },
   {
    "duration": 581,
    "start_time": "2023-03-07T23:02:09.906Z"
   },
   {
    "duration": 21,
    "start_time": "2023-03-07T23:02:10.489Z"
   },
   {
    "duration": 4,
    "start_time": "2023-03-07T23:02:10.511Z"
   },
   {
    "duration": 724,
    "start_time": "2023-03-07T23:02:10.517Z"
   },
   {
    "duration": 24,
    "start_time": "2023-03-07T23:02:11.243Z"
   },
   {
    "duration": 20,
    "start_time": "2023-03-07T23:02:11.268Z"
   },
   {
    "duration": 12,
    "start_time": "2023-03-07T23:02:11.290Z"
   },
   {
    "duration": 182,
    "start_time": "2023-03-07T23:02:11.304Z"
   },
   {
    "duration": 2,
    "start_time": "2023-03-07T23:02:11.488Z"
   },
   {
    "duration": 27,
    "start_time": "2023-03-07T23:02:11.491Z"
   },
   {
    "duration": 3,
    "start_time": "2023-03-07T23:02:11.520Z"
   },
   {
    "duration": 49,
    "start_time": "2023-03-07T23:02:11.525Z"
   },
   {
    "duration": 14,
    "start_time": "2023-03-07T23:02:11.576Z"
   },
   {
    "duration": 14,
    "start_time": "2023-03-07T23:02:11.592Z"
   },
   {
    "duration": 3,
    "start_time": "2023-03-07T23:02:11.658Z"
   },
   {
    "duration": 19,
    "start_time": "2023-03-07T23:02:11.667Z"
   },
   {
    "duration": 2,
    "start_time": "2023-03-07T23:02:11.688Z"
   },
   {
    "duration": 26,
    "start_time": "2023-03-07T23:02:11.691Z"
   },
   {
    "duration": 12,
    "start_time": "2023-03-07T23:02:11.719Z"
   },
   {
    "duration": 12,
    "start_time": "2023-03-07T23:02:11.758Z"
   },
   {
    "duration": 23,
    "start_time": "2023-03-07T23:02:11.771Z"
   },
   {
    "duration": 23,
    "start_time": "2023-03-07T23:02:11.797Z"
   },
   {
    "duration": 6,
    "start_time": "2023-03-07T23:02:11.821Z"
   },
   {
    "duration": 9,
    "start_time": "2023-03-07T23:02:11.856Z"
   },
   {
    "duration": 3,
    "start_time": "2023-03-07T23:03:30.910Z"
   },
   {
    "duration": 50,
    "start_time": "2023-03-07T23:06:26.142Z"
   },
   {
    "duration": 1103,
    "start_time": "2023-03-07T23:06:38.994Z"
   },
   {
    "duration": 610,
    "start_time": "2023-03-07T23:06:40.099Z"
   },
   {
    "duration": 13,
    "start_time": "2023-03-07T23:06:40.711Z"
   },
   {
    "duration": 10,
    "start_time": "2023-03-07T23:06:40.727Z"
   },
   {
    "duration": 20,
    "start_time": "2023-03-07T23:06:40.739Z"
   },
   {
    "duration": 10,
    "start_time": "2023-03-07T23:06:40.760Z"
   },
   {
    "duration": 10,
    "start_time": "2023-03-07T23:06:40.772Z"
   },
   {
    "duration": 10,
    "start_time": "2023-03-07T23:06:40.784Z"
   },
   {
    "duration": 5,
    "start_time": "2023-03-07T23:06:40.795Z"
   },
   {
    "duration": 5,
    "start_time": "2023-03-07T23:06:40.802Z"
   },
   {
    "duration": 8,
    "start_time": "2023-03-07T23:06:40.808Z"
   },
   {
    "duration": 16,
    "start_time": "2023-03-07T23:06:40.818Z"
   },
   {
    "duration": 19,
    "start_time": "2023-03-07T23:06:40.857Z"
   },
   {
    "duration": 26,
    "start_time": "2023-03-07T23:06:40.878Z"
   },
   {
    "duration": 12,
    "start_time": "2023-03-07T23:06:40.906Z"
   },
   {
    "duration": 61,
    "start_time": "2023-03-07T23:06:40.920Z"
   },
   {
    "duration": 7,
    "start_time": "2023-03-07T23:06:40.982Z"
   },
   {
    "duration": 7,
    "start_time": "2023-03-07T23:06:40.991Z"
   },
   {
    "duration": 5,
    "start_time": "2023-03-07T23:06:41.000Z"
   },
   {
    "duration": 13,
    "start_time": "2023-03-07T23:06:41.007Z"
   },
   {
    "duration": 40,
    "start_time": "2023-03-07T23:06:41.021Z"
   },
   {
    "duration": 64,
    "start_time": "2023-03-07T23:06:41.063Z"
   },
   {
    "duration": 157,
    "start_time": "2023-03-07T23:06:41.129Z"
   },
   {
    "duration": 46,
    "start_time": "2023-03-07T23:06:41.287Z"
   },
   {
    "duration": 542,
    "start_time": "2023-03-07T23:06:41.334Z"
   },
   {
    "duration": 182,
    "start_time": "2023-03-07T23:06:41.878Z"
   },
   {
    "duration": 7,
    "start_time": "2023-03-07T23:06:42.062Z"
   },
   {
    "duration": 10,
    "start_time": "2023-03-07T23:06:42.073Z"
   },
   {
    "duration": 13,
    "start_time": "2023-03-07T23:06:42.085Z"
   },
   {
    "duration": 10,
    "start_time": "2023-03-07T23:06:42.099Z"
   },
   {
    "duration": 10,
    "start_time": "2023-03-07T23:06:42.112Z"
   },
   {
    "duration": 51,
    "start_time": "2023-03-07T23:06:42.157Z"
   },
   {
    "duration": 229,
    "start_time": "2023-03-07T23:06:42.210Z"
   },
   {
    "duration": 55,
    "start_time": "2023-03-07T23:06:42.441Z"
   },
   {
    "duration": 96,
    "start_time": "2023-03-07T23:06:42.498Z"
   },
   {
    "duration": 88,
    "start_time": "2023-03-07T23:06:42.596Z"
   },
   {
    "duration": 137,
    "start_time": "2023-03-07T23:06:42.686Z"
   },
   {
    "duration": 46,
    "start_time": "2023-03-07T23:06:42.825Z"
   },
   {
    "duration": 88,
    "start_time": "2023-03-07T23:06:42.873Z"
   },
   {
    "duration": 49,
    "start_time": "2023-03-07T23:06:42.963Z"
   },
   {
    "duration": 51,
    "start_time": "2023-03-07T23:06:43.014Z"
   },
   {
    "duration": 11,
    "start_time": "2023-03-07T23:06:43.067Z"
   },
   {
    "duration": 11,
    "start_time": "2023-03-07T23:06:43.080Z"
   },
   {
    "duration": 4,
    "start_time": "2023-03-07T23:06:43.093Z"
   },
   {
    "duration": 15,
    "start_time": "2023-03-07T23:06:43.099Z"
   },
   {
    "duration": 3298,
    "start_time": "2023-03-07T23:06:43.115Z"
   },
   {
    "duration": 3163,
    "start_time": "2023-03-07T23:06:46.415Z"
   },
   {
    "duration": 1735,
    "start_time": "2023-03-07T23:06:49.579Z"
   },
   {
    "duration": 69,
    "start_time": "2023-03-07T23:06:51.316Z"
   },
   {
    "duration": 92,
    "start_time": "2023-03-07T23:06:51.387Z"
   },
   {
    "duration": 83,
    "start_time": "2023-03-07T23:06:51.481Z"
   },
   {
    "duration": 109,
    "start_time": "2023-03-07T23:06:51.566Z"
   },
   {
    "duration": 19,
    "start_time": "2023-03-07T23:06:51.676Z"
   },
   {
    "duration": 19,
    "start_time": "2023-03-07T23:06:51.696Z"
   },
   {
    "duration": 220,
    "start_time": "2023-03-07T23:06:51.717Z"
   },
   {
    "duration": 7,
    "start_time": "2023-03-07T23:06:51.939Z"
   },
   {
    "duration": 19,
    "start_time": "2023-03-07T23:06:51.947Z"
   },
   {
    "duration": 10,
    "start_time": "2023-03-07T23:06:51.968Z"
   },
   {
    "duration": 1602,
    "start_time": "2023-03-07T23:06:51.980Z"
   },
   {
    "duration": 12,
    "start_time": "2023-03-07T23:06:53.584Z"
   },
   {
    "duration": 47,
    "start_time": "2023-03-07T23:06:53.598Z"
   },
   {
    "duration": 6,
    "start_time": "2023-03-07T23:06:53.657Z"
   },
   {
    "duration": 8,
    "start_time": "2023-03-07T23:06:53.665Z"
   },
   {
    "duration": 7,
    "start_time": "2023-03-07T23:06:53.675Z"
   },
   {
    "duration": 13,
    "start_time": "2023-03-07T23:06:53.683Z"
   },
   {
    "duration": 166,
    "start_time": "2023-03-07T23:06:53.697Z"
   },
   {
    "duration": 715,
    "start_time": "2023-03-07T23:06:53.865Z"
   },
   {
    "duration": 4,
    "start_time": "2023-03-07T23:06:54.582Z"
   },
   {
    "duration": 573,
    "start_time": "2023-03-07T23:06:54.588Z"
   },
   {
    "duration": 25,
    "start_time": "2023-03-07T23:06:55.164Z"
   },
   {
    "duration": 10,
    "start_time": "2023-03-07T23:06:55.191Z"
   },
   {
    "duration": 767,
    "start_time": "2023-03-07T23:06:55.204Z"
   },
   {
    "duration": 19,
    "start_time": "2023-03-07T23:06:55.974Z"
   },
   {
    "duration": 62,
    "start_time": "2023-03-07T23:06:55.996Z"
   },
   {
    "duration": 18,
    "start_time": "2023-03-07T23:06:56.060Z"
   },
   {
    "duration": 173,
    "start_time": "2023-03-07T23:06:56.080Z"
   },
   {
    "duration": 3,
    "start_time": "2023-03-07T23:06:56.254Z"
   },
   {
    "duration": 25,
    "start_time": "2023-03-07T23:06:56.258Z"
   },
   {
    "duration": 3,
    "start_time": "2023-03-07T23:06:56.284Z"
   },
   {
    "duration": 71,
    "start_time": "2023-03-07T23:06:56.288Z"
   },
   {
    "duration": 13,
    "start_time": "2023-03-07T23:06:56.361Z"
   },
   {
    "duration": 11,
    "start_time": "2023-03-07T23:06:56.379Z"
   },
   {
    "duration": 4,
    "start_time": "2023-03-07T23:06:56.391Z"
   },
   {
    "duration": 64,
    "start_time": "2023-03-07T23:06:56.397Z"
   },
   {
    "duration": 3,
    "start_time": "2023-03-07T23:06:56.462Z"
   },
   {
    "duration": 23,
    "start_time": "2023-03-07T23:06:56.466Z"
   },
   {
    "duration": 11,
    "start_time": "2023-03-07T23:06:56.491Z"
   },
   {
    "duration": 13,
    "start_time": "2023-03-07T23:06:56.504Z"
   },
   {
    "duration": 56,
    "start_time": "2023-03-07T23:06:56.519Z"
   },
   {
    "duration": 22,
    "start_time": "2023-03-07T23:06:56.577Z"
   },
   {
    "duration": 5,
    "start_time": "2023-03-07T23:06:56.601Z"
   },
   {
    "duration": 15,
    "start_time": "2023-03-07T23:06:56.607Z"
   },
   {
    "duration": 50,
    "start_time": "2023-03-07T23:07:50.077Z"
   },
   {
    "duration": 436,
    "start_time": "2023-03-07T23:26:23.631Z"
   },
   {
    "duration": 348,
    "start_time": "2023-03-07T23:27:01.364Z"
   },
   {
    "duration": 325,
    "start_time": "2023-03-07T23:28:36.472Z"
   },
   {
    "duration": 1156,
    "start_time": "2023-03-07T23:29:53.167Z"
   },
   {
    "duration": 613,
    "start_time": "2023-03-07T23:29:54.325Z"
   },
   {
    "duration": 12,
    "start_time": "2023-03-07T23:29:54.940Z"
   },
   {
    "duration": 9,
    "start_time": "2023-03-07T23:29:54.954Z"
   },
   {
    "duration": 19,
    "start_time": "2023-03-07T23:29:54.965Z"
   },
   {
    "duration": 9,
    "start_time": "2023-03-07T23:29:54.986Z"
   },
   {
    "duration": 6,
    "start_time": "2023-03-07T23:29:54.997Z"
   },
   {
    "duration": 7,
    "start_time": "2023-03-07T23:29:55.005Z"
   },
   {
    "duration": 4,
    "start_time": "2023-03-07T23:29:55.014Z"
   },
   {
    "duration": 9,
    "start_time": "2023-03-07T23:29:55.021Z"
   },
   {
    "duration": 27,
    "start_time": "2023-03-07T23:29:55.031Z"
   },
   {
    "duration": 21,
    "start_time": "2023-03-07T23:29:55.060Z"
   },
   {
    "duration": 23,
    "start_time": "2023-03-07T23:29:55.083Z"
   },
   {
    "duration": 26,
    "start_time": "2023-03-07T23:29:55.108Z"
   },
   {
    "duration": 23,
    "start_time": "2023-03-07T23:29:55.135Z"
   },
   {
    "duration": 39,
    "start_time": "2023-03-07T23:29:55.160Z"
   },
   {
    "duration": 8,
    "start_time": "2023-03-07T23:29:55.202Z"
   },
   {
    "duration": 16,
    "start_time": "2023-03-07T23:29:55.212Z"
   },
   {
    "duration": 31,
    "start_time": "2023-03-07T23:29:55.230Z"
   },
   {
    "duration": 19,
    "start_time": "2023-03-07T23:29:55.263Z"
   },
   {
    "duration": 13,
    "start_time": "2023-03-07T23:29:55.284Z"
   },
   {
    "duration": 79,
    "start_time": "2023-03-07T23:29:55.299Z"
   },
   {
    "duration": 159,
    "start_time": "2023-03-07T23:29:55.380Z"
   },
   {
    "duration": 54,
    "start_time": "2023-03-07T23:29:55.541Z"
   },
   {
    "duration": 513,
    "start_time": "2023-03-07T23:29:55.597Z"
   },
   {
    "duration": 183,
    "start_time": "2023-03-07T23:29:56.111Z"
   },
   {
    "duration": 6,
    "start_time": "2023-03-07T23:29:56.296Z"
   },
   {
    "duration": 11,
    "start_time": "2023-03-07T23:29:56.306Z"
   },
   {
    "duration": 16,
    "start_time": "2023-03-07T23:29:56.319Z"
   },
   {
    "duration": 28,
    "start_time": "2023-03-07T23:29:56.337Z"
   },
   {
    "duration": 16,
    "start_time": "2023-03-07T23:29:56.367Z"
   },
   {
    "duration": 62,
    "start_time": "2023-03-07T23:29:56.385Z"
   },
   {
    "duration": 212,
    "start_time": "2023-03-07T23:29:56.448Z"
   },
   {
    "duration": 51,
    "start_time": "2023-03-07T23:29:56.662Z"
   },
   {
    "duration": 94,
    "start_time": "2023-03-07T23:29:56.715Z"
   },
   {
    "duration": 83,
    "start_time": "2023-03-07T23:29:56.811Z"
   },
   {
    "duration": 133,
    "start_time": "2023-03-07T23:29:56.896Z"
   },
   {
    "duration": 43,
    "start_time": "2023-03-07T23:29:57.030Z"
   },
   {
    "duration": 86,
    "start_time": "2023-03-07T23:29:57.075Z"
   },
   {
    "duration": 49,
    "start_time": "2023-03-07T23:29:57.162Z"
   },
   {
    "duration": 23,
    "start_time": "2023-03-07T23:29:57.213Z"
   },
   {
    "duration": 10,
    "start_time": "2023-03-07T23:29:57.257Z"
   },
   {
    "duration": 12,
    "start_time": "2023-03-07T23:29:57.269Z"
   },
   {
    "duration": 8,
    "start_time": "2023-03-07T23:29:57.283Z"
   },
   {
    "duration": 3088,
    "start_time": "2023-03-07T23:29:57.293Z"
   },
   {
    "duration": 3159,
    "start_time": "2023-03-07T23:30:00.383Z"
   },
   {
    "duration": 1787,
    "start_time": "2023-03-07T23:30:03.545Z"
   },
   {
    "duration": 64,
    "start_time": "2023-03-07T23:30:05.334Z"
   },
   {
    "duration": 100,
    "start_time": "2023-03-07T23:30:05.401Z"
   },
   {
    "duration": 92,
    "start_time": "2023-03-07T23:30:05.502Z"
   },
   {
    "duration": 106,
    "start_time": "2023-03-07T23:30:05.596Z"
   },
   {
    "duration": 16,
    "start_time": "2023-03-07T23:30:05.704Z"
   },
   {
    "duration": 23,
    "start_time": "2023-03-07T23:30:05.721Z"
   },
   {
    "duration": 195,
    "start_time": "2023-03-07T23:30:05.756Z"
   },
   {
    "duration": 10,
    "start_time": "2023-03-07T23:30:05.952Z"
   },
   {
    "duration": 12,
    "start_time": "2023-03-07T23:30:05.963Z"
   },
   {
    "duration": 20,
    "start_time": "2023-03-07T23:30:05.977Z"
   },
   {
    "duration": 1562,
    "start_time": "2023-03-07T23:30:05.999Z"
   },
   {
    "duration": 12,
    "start_time": "2023-03-07T23:30:07.563Z"
   },
   {
    "duration": 45,
    "start_time": "2023-03-07T23:30:07.577Z"
   },
   {
    "duration": 4,
    "start_time": "2023-03-07T23:30:07.624Z"
   },
   {
    "duration": 13,
    "start_time": "2023-03-07T23:30:07.630Z"
   },
   {
    "duration": 5,
    "start_time": "2023-03-07T23:30:07.658Z"
   },
   {
    "duration": 11,
    "start_time": "2023-03-07T23:30:07.664Z"
   },
   {
    "duration": 144,
    "start_time": "2023-03-07T23:30:07.677Z"
   },
   {
    "duration": 662,
    "start_time": "2023-03-07T23:30:07.822Z"
   },
   {
    "duration": 4,
    "start_time": "2023-03-07T23:30:08.486Z"
   },
   {
    "duration": 552,
    "start_time": "2023-03-07T23:30:08.491Z"
   },
   {
    "duration": 27,
    "start_time": "2023-03-07T23:30:09.044Z"
   },
   {
    "duration": 5,
    "start_time": "2023-03-07T23:30:09.072Z"
   },
   {
    "duration": 708,
    "start_time": "2023-03-07T23:30:09.078Z"
   },
   {
    "duration": 18,
    "start_time": "2023-03-07T23:30:09.788Z"
   },
   {
    "duration": 19,
    "start_time": "2023-03-07T23:30:09.808Z"
   },
   {
    "duration": 31,
    "start_time": "2023-03-07T23:30:09.828Z"
   },
   {
    "duration": 140,
    "start_time": "2023-03-07T23:30:09.860Z"
   },
   {
    "duration": 3,
    "start_time": "2023-03-07T23:30:10.001Z"
   },
   {
    "duration": 60,
    "start_time": "2023-03-07T23:30:10.005Z"
   },
   {
    "duration": 3,
    "start_time": "2023-03-07T23:30:10.067Z"
   },
   {
    "duration": 89,
    "start_time": "2023-03-07T23:30:10.072Z"
   },
   {
    "duration": 13,
    "start_time": "2023-03-07T23:30:10.163Z"
   },
   {
    "duration": 17,
    "start_time": "2023-03-07T23:30:10.178Z"
   },
   {
    "duration": 2,
    "start_time": "2023-03-07T23:30:10.202Z"
   },
   {
    "duration": 33,
    "start_time": "2023-03-07T23:30:10.205Z"
   },
   {
    "duration": 17,
    "start_time": "2023-03-07T23:30:10.240Z"
   },
   {
    "duration": 20,
    "start_time": "2023-03-07T23:30:10.259Z"
   },
   {
    "duration": 12,
    "start_time": "2023-03-07T23:30:10.280Z"
   },
   {
    "duration": 15,
    "start_time": "2023-03-07T23:30:10.293Z"
   },
   {
    "duration": 24,
    "start_time": "2023-03-07T23:30:10.310Z"
   },
   {
    "duration": 42,
    "start_time": "2023-03-07T23:30:10.335Z"
   },
   {
    "duration": 5,
    "start_time": "2023-03-07T23:30:10.379Z"
   },
   {
    "duration": 22,
    "start_time": "2023-03-07T23:30:10.385Z"
   },
   {
    "duration": 123,
    "start_time": "2023-03-07T23:30:48.672Z"
   },
   {
    "duration": 33,
    "start_time": "2023-03-07T23:30:54.278Z"
   },
   {
    "duration": 30,
    "start_time": "2023-03-07T23:30:58.079Z"
   },
   {
    "duration": 33,
    "start_time": "2023-03-07T23:31:20.171Z"
   },
   {
    "duration": 29,
    "start_time": "2023-03-07T23:31:33.483Z"
   },
   {
    "duration": 32,
    "start_time": "2023-03-07T23:31:44.143Z"
   },
   {
    "duration": 363,
    "start_time": "2023-03-07T23:32:50.895Z"
   },
   {
    "duration": 357,
    "start_time": "2023-03-07T23:33:04.215Z"
   },
   {
    "duration": 34,
    "start_time": "2023-03-07T23:33:08.851Z"
   },
   {
    "duration": 34,
    "start_time": "2023-03-07T23:33:29.015Z"
   },
   {
    "duration": 1265,
    "start_time": "2023-03-07T23:33:44.855Z"
   },
   {
    "duration": 649,
    "start_time": "2023-03-07T23:33:46.122Z"
   },
   {
    "duration": 13,
    "start_time": "2023-03-07T23:33:46.772Z"
   },
   {
    "duration": 10,
    "start_time": "2023-03-07T23:33:46.787Z"
   },
   {
    "duration": 18,
    "start_time": "2023-03-07T23:33:46.799Z"
   },
   {
    "duration": 10,
    "start_time": "2023-03-07T23:33:46.819Z"
   },
   {
    "duration": 28,
    "start_time": "2023-03-07T23:33:46.830Z"
   },
   {
    "duration": 11,
    "start_time": "2023-03-07T23:33:46.860Z"
   },
   {
    "duration": 4,
    "start_time": "2023-03-07T23:33:46.874Z"
   },
   {
    "duration": 4,
    "start_time": "2023-03-07T23:33:46.882Z"
   },
   {
    "duration": 5,
    "start_time": "2023-03-07T23:33:46.888Z"
   },
   {
    "duration": 13,
    "start_time": "2023-03-07T23:33:46.895Z"
   },
   {
    "duration": 48,
    "start_time": "2023-03-07T23:33:46.909Z"
   },
   {
    "duration": 27,
    "start_time": "2023-03-07T23:33:46.959Z"
   },
   {
    "duration": 13,
    "start_time": "2023-03-07T23:33:46.988Z"
   },
   {
    "duration": 55,
    "start_time": "2023-03-07T23:33:47.002Z"
   },
   {
    "duration": 6,
    "start_time": "2023-03-07T23:33:47.059Z"
   },
   {
    "duration": 9,
    "start_time": "2023-03-07T23:33:47.067Z"
   },
   {
    "duration": 5,
    "start_time": "2023-03-07T23:33:47.078Z"
   },
   {
    "duration": 17,
    "start_time": "2023-03-07T23:33:47.085Z"
   },
   {
    "duration": 11,
    "start_time": "2023-03-07T23:33:47.103Z"
   },
   {
    "duration": 94,
    "start_time": "2023-03-07T23:33:47.115Z"
   },
   {
    "duration": 162,
    "start_time": "2023-03-07T23:33:47.211Z"
   },
   {
    "duration": 41,
    "start_time": "2023-03-07T23:33:47.375Z"
   },
   {
    "duration": 579,
    "start_time": "2023-03-07T23:33:47.418Z"
   },
   {
    "duration": 215,
    "start_time": "2023-03-07T23:33:47.999Z"
   },
   {
    "duration": 7,
    "start_time": "2023-03-07T23:33:48.216Z"
   },
   {
    "duration": 11,
    "start_time": "2023-03-07T23:33:48.227Z"
   },
   {
    "duration": 32,
    "start_time": "2023-03-07T23:33:48.239Z"
   },
   {
    "duration": 9,
    "start_time": "2023-03-07T23:33:48.272Z"
   },
   {
    "duration": 11,
    "start_time": "2023-03-07T23:33:48.283Z"
   },
   {
    "duration": 75,
    "start_time": "2023-03-07T23:33:48.295Z"
   },
   {
    "duration": 250,
    "start_time": "2023-03-07T23:33:48.371Z"
   },
   {
    "duration": 62,
    "start_time": "2023-03-07T23:33:48.622Z"
   },
   {
    "duration": 83,
    "start_time": "2023-03-07T23:33:48.686Z"
   },
   {
    "duration": 89,
    "start_time": "2023-03-07T23:33:48.770Z"
   },
   {
    "duration": 140,
    "start_time": "2023-03-07T23:33:48.861Z"
   },
   {
    "duration": 35,
    "start_time": "2023-03-07T23:33:49.003Z"
   },
   {
    "duration": 94,
    "start_time": "2023-03-07T23:33:49.040Z"
   },
   {
    "duration": 66,
    "start_time": "2023-03-07T23:33:49.136Z"
   },
   {
    "duration": 33,
    "start_time": "2023-03-07T23:33:49.203Z"
   },
   {
    "duration": 22,
    "start_time": "2023-03-07T23:33:49.238Z"
   },
   {
    "duration": 12,
    "start_time": "2023-03-07T23:33:49.262Z"
   },
   {
    "duration": 17,
    "start_time": "2023-03-07T23:33:49.275Z"
   },
   {
    "duration": 3186,
    "start_time": "2023-03-07T23:33:49.294Z"
   },
   {
    "duration": 3197,
    "start_time": "2023-03-07T23:33:52.482Z"
   },
   {
    "duration": 1707,
    "start_time": "2023-03-07T23:33:55.681Z"
   },
   {
    "duration": 409,
    "start_time": "2023-03-07T23:33:57.390Z"
   },
   {
    "duration": 0,
    "start_time": "2023-03-07T23:33:57.802Z"
   },
   {
    "duration": 0,
    "start_time": "2023-03-07T23:33:57.803Z"
   },
   {
    "duration": 0,
    "start_time": "2023-03-07T23:33:57.804Z"
   },
   {
    "duration": 0,
    "start_time": "2023-03-07T23:33:57.806Z"
   },
   {
    "duration": 0,
    "start_time": "2023-03-07T23:33:57.807Z"
   },
   {
    "duration": 0,
    "start_time": "2023-03-07T23:33:57.809Z"
   },
   {
    "duration": 0,
    "start_time": "2023-03-07T23:33:57.810Z"
   },
   {
    "duration": 0,
    "start_time": "2023-03-07T23:33:57.812Z"
   },
   {
    "duration": 0,
    "start_time": "2023-03-07T23:33:57.813Z"
   },
   {
    "duration": 0,
    "start_time": "2023-03-07T23:33:57.815Z"
   },
   {
    "duration": 0,
    "start_time": "2023-03-07T23:33:57.816Z"
   },
   {
    "duration": 0,
    "start_time": "2023-03-07T23:33:57.818Z"
   },
   {
    "duration": 0,
    "start_time": "2023-03-07T23:33:57.819Z"
   },
   {
    "duration": 0,
    "start_time": "2023-03-07T23:33:57.821Z"
   },
   {
    "duration": 0,
    "start_time": "2023-03-07T23:33:57.822Z"
   },
   {
    "duration": 0,
    "start_time": "2023-03-07T23:33:57.824Z"
   },
   {
    "duration": 0,
    "start_time": "2023-03-07T23:33:57.825Z"
   },
   {
    "duration": 0,
    "start_time": "2023-03-07T23:33:57.826Z"
   },
   {
    "duration": 0,
    "start_time": "2023-03-07T23:33:57.828Z"
   },
   {
    "duration": 0,
    "start_time": "2023-03-07T23:33:57.829Z"
   },
   {
    "duration": 0,
    "start_time": "2023-03-07T23:33:57.831Z"
   },
   {
    "duration": 0,
    "start_time": "2023-03-07T23:33:57.832Z"
   },
   {
    "duration": 0,
    "start_time": "2023-03-07T23:33:57.834Z"
   },
   {
    "duration": 0,
    "start_time": "2023-03-07T23:33:57.836Z"
   },
   {
    "duration": 0,
    "start_time": "2023-03-07T23:33:57.837Z"
   },
   {
    "duration": 0,
    "start_time": "2023-03-07T23:33:57.838Z"
   },
   {
    "duration": 0,
    "start_time": "2023-03-07T23:33:57.840Z"
   },
   {
    "duration": 0,
    "start_time": "2023-03-07T23:33:57.857Z"
   },
   {
    "duration": 0,
    "start_time": "2023-03-07T23:33:57.859Z"
   },
   {
    "duration": 0,
    "start_time": "2023-03-07T23:33:57.861Z"
   },
   {
    "duration": 0,
    "start_time": "2023-03-07T23:33:57.862Z"
   },
   {
    "duration": 0,
    "start_time": "2023-03-07T23:33:57.863Z"
   },
   {
    "duration": 0,
    "start_time": "2023-03-07T23:33:57.864Z"
   },
   {
    "duration": 0,
    "start_time": "2023-03-07T23:33:57.865Z"
   },
   {
    "duration": 0,
    "start_time": "2023-03-07T23:33:57.866Z"
   },
   {
    "duration": 0,
    "start_time": "2023-03-07T23:33:57.868Z"
   },
   {
    "duration": 0,
    "start_time": "2023-03-07T23:33:57.869Z"
   },
   {
    "duration": 0,
    "start_time": "2023-03-07T23:33:57.870Z"
   },
   {
    "duration": 0,
    "start_time": "2023-03-07T23:33:57.871Z"
   },
   {
    "duration": 0,
    "start_time": "2023-03-07T23:33:57.873Z"
   },
   {
    "duration": 0,
    "start_time": "2023-03-07T23:33:57.875Z"
   },
   {
    "duration": 0,
    "start_time": "2023-03-07T23:33:57.876Z"
   },
   {
    "duration": 0,
    "start_time": "2023-03-07T23:33:57.878Z"
   },
   {
    "duration": 0,
    "start_time": "2023-03-07T23:33:57.879Z"
   },
   {
    "duration": 1699,
    "start_time": "2023-03-07T23:34:40.298Z"
   },
   {
    "duration": 1699,
    "start_time": "2023-03-07T23:34:57.422Z"
   },
   {
    "duration": 1712,
    "start_time": "2023-03-07T23:36:37.847Z"
   },
   {
    "duration": 908,
    "start_time": "2023-03-07T23:36:47.494Z"
   },
   {
    "duration": 1773,
    "start_time": "2023-03-07T23:37:03.287Z"
   },
   {
    "duration": 2317,
    "start_time": "2023-03-07T23:37:50.742Z"
   },
   {
    "duration": 2443,
    "start_time": "2023-03-07T23:38:04.850Z"
   },
   {
    "duration": 1802,
    "start_time": "2023-03-07T23:38:24.118Z"
   },
   {
    "duration": 92,
    "start_time": "2023-03-07T23:40:38.390Z"
   },
   {
    "duration": 619,
    "start_time": "2023-03-07T23:40:45.370Z"
   },
   {
    "duration": 893,
    "start_time": "2023-03-07T23:41:25.105Z"
   },
   {
    "duration": 1100,
    "start_time": "2023-03-07T23:41:36.621Z"
   },
   {
    "duration": 616,
    "start_time": "2023-03-07T23:41:37.722Z"
   },
   {
    "duration": 12,
    "start_time": "2023-03-07T23:41:38.340Z"
   },
   {
    "duration": 10,
    "start_time": "2023-03-07T23:41:38.354Z"
   },
   {
    "duration": 14,
    "start_time": "2023-03-07T23:41:38.366Z"
   },
   {
    "duration": 9,
    "start_time": "2023-03-07T23:41:38.382Z"
   },
   {
    "duration": 11,
    "start_time": "2023-03-07T23:41:38.392Z"
   },
   {
    "duration": 10,
    "start_time": "2023-03-07T23:41:38.404Z"
   },
   {
    "duration": 4,
    "start_time": "2023-03-07T23:41:38.416Z"
   },
   {
    "duration": 11,
    "start_time": "2023-03-07T23:41:38.423Z"
   },
   {
    "duration": 5,
    "start_time": "2023-03-07T23:41:38.458Z"
   },
   {
    "duration": 13,
    "start_time": "2023-03-07T23:41:38.465Z"
   },
   {
    "duration": 21,
    "start_time": "2023-03-07T23:41:38.480Z"
   },
   {
    "duration": 36,
    "start_time": "2023-03-07T23:41:38.502Z"
   },
   {
    "duration": 26,
    "start_time": "2023-03-07T23:41:38.540Z"
   },
   {
    "duration": 31,
    "start_time": "2023-03-07T23:41:38.568Z"
   },
   {
    "duration": 6,
    "start_time": "2023-03-07T23:41:38.601Z"
   },
   {
    "duration": 10,
    "start_time": "2023-03-07T23:41:38.608Z"
   },
   {
    "duration": 12,
    "start_time": "2023-03-07T23:41:38.619Z"
   },
   {
    "duration": 36,
    "start_time": "2023-03-07T23:41:38.632Z"
   },
   {
    "duration": 11,
    "start_time": "2023-03-07T23:41:38.670Z"
   },
   {
    "duration": 79,
    "start_time": "2023-03-07T23:41:38.682Z"
   },
   {
    "duration": 154,
    "start_time": "2023-03-07T23:41:38.762Z"
   },
   {
    "duration": 51,
    "start_time": "2023-03-07T23:41:38.917Z"
   },
   {
    "duration": 550,
    "start_time": "2023-03-07T23:41:38.970Z"
   },
   {
    "duration": 188,
    "start_time": "2023-03-07T23:41:39.521Z"
   },
   {
    "duration": 6,
    "start_time": "2023-03-07T23:41:39.711Z"
   },
   {
    "duration": 10,
    "start_time": "2023-03-07T23:41:39.721Z"
   },
   {
    "duration": 31,
    "start_time": "2023-03-07T23:41:39.733Z"
   },
   {
    "duration": 8,
    "start_time": "2023-03-07T23:41:39.766Z"
   },
   {
    "duration": 15,
    "start_time": "2023-03-07T23:41:39.776Z"
   },
   {
    "duration": 70,
    "start_time": "2023-03-07T23:41:39.793Z"
   },
   {
    "duration": 236,
    "start_time": "2023-03-07T23:41:39.865Z"
   },
   {
    "duration": 63,
    "start_time": "2023-03-07T23:41:40.103Z"
   },
   {
    "duration": 90,
    "start_time": "2023-03-07T23:41:40.168Z"
   },
   {
    "duration": 76,
    "start_time": "2023-03-07T23:41:40.260Z"
   },
   {
    "duration": 147,
    "start_time": "2023-03-07T23:41:40.338Z"
   },
   {
    "duration": 36,
    "start_time": "2023-03-07T23:41:40.487Z"
   },
   {
    "duration": 93,
    "start_time": "2023-03-07T23:41:40.525Z"
   },
   {
    "duration": 73,
    "start_time": "2023-03-07T23:41:40.620Z"
   },
   {
    "duration": 24,
    "start_time": "2023-03-07T23:41:40.695Z"
   },
   {
    "duration": 11,
    "start_time": "2023-03-07T23:41:40.721Z"
   },
   {
    "duration": 31,
    "start_time": "2023-03-07T23:41:40.734Z"
   },
   {
    "duration": 4,
    "start_time": "2023-03-07T23:41:40.767Z"
   },
   {
    "duration": 3225,
    "start_time": "2023-03-07T23:41:40.773Z"
   },
   {
    "duration": 3261,
    "start_time": "2023-03-07T23:41:44.000Z"
   },
   {
    "duration": 1709,
    "start_time": "2023-03-07T23:41:47.263Z"
   },
   {
    "duration": 974,
    "start_time": "2023-03-07T23:41:48.974Z"
   },
   {
    "duration": 0,
    "start_time": "2023-03-07T23:41:49.950Z"
   },
   {
    "duration": 0,
    "start_time": "2023-03-07T23:41:49.952Z"
   },
   {
    "duration": 0,
    "start_time": "2023-03-07T23:41:49.953Z"
   },
   {
    "duration": 0,
    "start_time": "2023-03-07T23:41:49.954Z"
   },
   {
    "duration": 0,
    "start_time": "2023-03-07T23:41:49.955Z"
   },
   {
    "duration": 0,
    "start_time": "2023-03-07T23:41:49.956Z"
   },
   {
    "duration": 0,
    "start_time": "2023-03-07T23:41:49.957Z"
   },
   {
    "duration": 0,
    "start_time": "2023-03-07T23:41:49.958Z"
   },
   {
    "duration": 0,
    "start_time": "2023-03-07T23:41:49.959Z"
   },
   {
    "duration": 0,
    "start_time": "2023-03-07T23:41:49.960Z"
   },
   {
    "duration": 0,
    "start_time": "2023-03-07T23:41:49.961Z"
   },
   {
    "duration": 0,
    "start_time": "2023-03-07T23:41:49.962Z"
   },
   {
    "duration": 0,
    "start_time": "2023-03-07T23:41:49.964Z"
   },
   {
    "duration": 0,
    "start_time": "2023-03-07T23:41:49.964Z"
   },
   {
    "duration": 0,
    "start_time": "2023-03-07T23:41:49.965Z"
   },
   {
    "duration": 0,
    "start_time": "2023-03-07T23:41:49.967Z"
   },
   {
    "duration": 0,
    "start_time": "2023-03-07T23:41:49.967Z"
   },
   {
    "duration": 0,
    "start_time": "2023-03-07T23:41:49.968Z"
   },
   {
    "duration": 0,
    "start_time": "2023-03-07T23:41:49.969Z"
   },
   {
    "duration": 0,
    "start_time": "2023-03-07T23:41:49.970Z"
   },
   {
    "duration": 0,
    "start_time": "2023-03-07T23:41:49.971Z"
   },
   {
    "duration": 0,
    "start_time": "2023-03-07T23:41:49.972Z"
   },
   {
    "duration": 0,
    "start_time": "2023-03-07T23:41:49.974Z"
   },
   {
    "duration": 0,
    "start_time": "2023-03-07T23:41:49.975Z"
   },
   {
    "duration": 0,
    "start_time": "2023-03-07T23:41:49.976Z"
   },
   {
    "duration": 0,
    "start_time": "2023-03-07T23:41:49.977Z"
   },
   {
    "duration": 0,
    "start_time": "2023-03-07T23:41:49.978Z"
   },
   {
    "duration": 0,
    "start_time": "2023-03-07T23:41:49.979Z"
   },
   {
    "duration": 0,
    "start_time": "2023-03-07T23:41:49.981Z"
   },
   {
    "duration": 0,
    "start_time": "2023-03-07T23:41:49.982Z"
   },
   {
    "duration": 0,
    "start_time": "2023-03-07T23:41:49.983Z"
   },
   {
    "duration": 0,
    "start_time": "2023-03-07T23:41:49.984Z"
   },
   {
    "duration": 0,
    "start_time": "2023-03-07T23:41:49.985Z"
   },
   {
    "duration": 0,
    "start_time": "2023-03-07T23:41:49.987Z"
   },
   {
    "duration": 0,
    "start_time": "2023-03-07T23:41:49.988Z"
   },
   {
    "duration": 0,
    "start_time": "2023-03-07T23:41:49.989Z"
   },
   {
    "duration": 0,
    "start_time": "2023-03-07T23:41:49.990Z"
   },
   {
    "duration": 0,
    "start_time": "2023-03-07T23:41:49.991Z"
   },
   {
    "duration": 0,
    "start_time": "2023-03-07T23:41:49.992Z"
   },
   {
    "duration": 0,
    "start_time": "2023-03-07T23:41:49.993Z"
   },
   {
    "duration": 0,
    "start_time": "2023-03-07T23:41:49.994Z"
   },
   {
    "duration": 0,
    "start_time": "2023-03-07T23:41:50.058Z"
   },
   {
    "duration": 0,
    "start_time": "2023-03-07T23:41:50.059Z"
   },
   {
    "duration": 0,
    "start_time": "2023-03-07T23:41:50.060Z"
   },
   {
    "duration": 882,
    "start_time": "2023-03-07T23:42:09.953Z"
   },
   {
    "duration": 833,
    "start_time": "2023-03-07T23:42:25.713Z"
   },
   {
    "duration": 1186,
    "start_time": "2023-03-07T23:45:53.321Z"
   },
   {
    "duration": 617,
    "start_time": "2023-03-07T23:45:54.509Z"
   },
   {
    "duration": 12,
    "start_time": "2023-03-07T23:45:55.128Z"
   },
   {
    "duration": 12,
    "start_time": "2023-03-07T23:45:55.142Z"
   },
   {
    "duration": 28,
    "start_time": "2023-03-07T23:45:55.156Z"
   },
   {
    "duration": 31,
    "start_time": "2023-03-07T23:45:55.186Z"
   },
   {
    "duration": 20,
    "start_time": "2023-03-07T23:45:55.219Z"
   },
   {
    "duration": 15,
    "start_time": "2023-03-07T23:45:55.241Z"
   },
   {
    "duration": 8,
    "start_time": "2023-03-07T23:45:55.258Z"
   },
   {
    "duration": 12,
    "start_time": "2023-03-07T23:45:55.270Z"
   },
   {
    "duration": 11,
    "start_time": "2023-03-07T23:45:55.284Z"
   },
   {
    "duration": 24,
    "start_time": "2023-03-07T23:45:55.297Z"
   },
   {
    "duration": 31,
    "start_time": "2023-03-07T23:45:55.322Z"
   },
   {
    "duration": 26,
    "start_time": "2023-03-07T23:45:55.354Z"
   },
   {
    "duration": 13,
    "start_time": "2023-03-07T23:45:55.382Z"
   },
   {
    "duration": 52,
    "start_time": "2023-03-07T23:45:55.397Z"
   },
   {
    "duration": 8,
    "start_time": "2023-03-07T23:45:55.451Z"
   },
   {
    "duration": 19,
    "start_time": "2023-03-07T23:45:55.461Z"
   },
   {
    "duration": 15,
    "start_time": "2023-03-07T23:45:55.482Z"
   },
   {
    "duration": 15,
    "start_time": "2023-03-07T23:45:55.499Z"
   },
   {
    "duration": 18,
    "start_time": "2023-03-07T23:45:55.517Z"
   },
   {
    "duration": 86,
    "start_time": "2023-03-07T23:45:55.536Z"
   },
   {
    "duration": 156,
    "start_time": "2023-03-07T23:45:55.624Z"
   },
   {
    "duration": 41,
    "start_time": "2023-03-07T23:45:55.781Z"
   },
   {
    "duration": 554,
    "start_time": "2023-03-07T23:45:55.824Z"
   },
   {
    "duration": 202,
    "start_time": "2023-03-07T23:45:56.380Z"
   },
   {
    "duration": 6,
    "start_time": "2023-03-07T23:45:56.584Z"
   },
   {
    "duration": 10,
    "start_time": "2023-03-07T23:45:56.594Z"
   },
   {
    "duration": 16,
    "start_time": "2023-03-07T23:45:56.606Z"
   },
   {
    "duration": 8,
    "start_time": "2023-03-07T23:45:56.624Z"
   },
   {
    "duration": 10,
    "start_time": "2023-03-07T23:45:56.658Z"
   },
   {
    "duration": 54,
    "start_time": "2023-03-07T23:45:56.670Z"
   },
   {
    "duration": 251,
    "start_time": "2023-03-07T23:45:56.726Z"
   },
   {
    "duration": 51,
    "start_time": "2023-03-07T23:45:56.978Z"
   },
   {
    "duration": 92,
    "start_time": "2023-03-07T23:45:57.031Z"
   },
   {
    "duration": 89,
    "start_time": "2023-03-07T23:45:57.125Z"
   },
   {
    "duration": 141,
    "start_time": "2023-03-07T23:45:57.216Z"
   },
   {
    "duration": 33,
    "start_time": "2023-03-07T23:45:57.359Z"
   },
   {
    "duration": 105,
    "start_time": "2023-03-07T23:45:57.394Z"
   },
   {
    "duration": 56,
    "start_time": "2023-03-07T23:45:57.501Z"
   },
   {
    "duration": 24,
    "start_time": "2023-03-07T23:45:57.559Z"
   },
   {
    "duration": 11,
    "start_time": "2023-03-07T23:45:57.585Z"
   },
   {
    "duration": 11,
    "start_time": "2023-03-07T23:45:57.598Z"
   },
   {
    "duration": 3,
    "start_time": "2023-03-07T23:45:57.611Z"
   },
   {
    "duration": 3190,
    "start_time": "2023-03-07T23:45:57.616Z"
   },
   {
    "duration": 3218,
    "start_time": "2023-03-07T23:46:00.807Z"
   },
   {
    "duration": 1794,
    "start_time": "2023-03-07T23:46:04.027Z"
   },
   {
    "duration": 70,
    "start_time": "2023-03-07T23:46:05.823Z"
   },
   {
    "duration": 93,
    "start_time": "2023-03-07T23:46:05.895Z"
   },
   {
    "duration": 76,
    "start_time": "2023-03-07T23:46:05.990Z"
   },
   {
    "duration": 112,
    "start_time": "2023-03-07T23:46:06.068Z"
   },
   {
    "duration": 17,
    "start_time": "2023-03-07T23:46:06.182Z"
   },
   {
    "duration": 20,
    "start_time": "2023-03-07T23:46:06.201Z"
   },
   {
    "duration": 218,
    "start_time": "2023-03-07T23:46:06.222Z"
   },
   {
    "duration": 19,
    "start_time": "2023-03-07T23:46:06.442Z"
   },
   {
    "duration": 11,
    "start_time": "2023-03-07T23:46:06.462Z"
   },
   {
    "duration": 11,
    "start_time": "2023-03-07T23:46:06.475Z"
   },
   {
    "duration": 1616,
    "start_time": "2023-03-07T23:46:06.488Z"
   },
   {
    "duration": 13,
    "start_time": "2023-03-07T23:46:08.105Z"
   },
   {
    "duration": 50,
    "start_time": "2023-03-07T23:46:08.120Z"
   },
   {
    "duration": 5,
    "start_time": "2023-03-07T23:46:08.172Z"
   },
   {
    "duration": 14,
    "start_time": "2023-03-07T23:46:08.178Z"
   },
   {
    "duration": 7,
    "start_time": "2023-03-07T23:46:08.194Z"
   },
   {
    "duration": 9,
    "start_time": "2023-03-07T23:46:08.203Z"
   },
   {
    "duration": 160,
    "start_time": "2023-03-07T23:46:08.214Z"
   },
   {
    "duration": 683,
    "start_time": "2023-03-07T23:46:08.376Z"
   },
   {
    "duration": 5,
    "start_time": "2023-03-07T23:46:09.061Z"
   },
   {
    "duration": 578,
    "start_time": "2023-03-07T23:46:09.068Z"
   },
   {
    "duration": 26,
    "start_time": "2023-03-07T23:46:09.648Z"
   },
   {
    "duration": 4,
    "start_time": "2023-03-07T23:46:09.676Z"
   },
   {
    "duration": 746,
    "start_time": "2023-03-07T23:46:09.682Z"
   },
   {
    "duration": 28,
    "start_time": "2023-03-07T23:46:10.429Z"
   },
   {
    "duration": 21,
    "start_time": "2023-03-07T23:46:10.459Z"
   },
   {
    "duration": 11,
    "start_time": "2023-03-07T23:46:10.481Z"
   },
   {
    "duration": 156,
    "start_time": "2023-03-07T23:46:10.494Z"
   },
   {
    "duration": 7,
    "start_time": "2023-03-07T23:46:10.651Z"
   },
   {
    "duration": 25,
    "start_time": "2023-03-07T23:46:10.659Z"
   },
   {
    "duration": 3,
    "start_time": "2023-03-07T23:46:10.685Z"
   },
   {
    "duration": 74,
    "start_time": "2023-03-07T23:46:10.689Z"
   },
   {
    "duration": 13,
    "start_time": "2023-03-07T23:46:10.765Z"
   },
   {
    "duration": 13,
    "start_time": "2023-03-07T23:46:10.780Z"
   },
   {
    "duration": 3,
    "start_time": "2023-03-07T23:46:10.799Z"
   },
   {
    "duration": 69,
    "start_time": "2023-03-07T23:46:10.804Z"
   },
   {
    "duration": 2,
    "start_time": "2023-03-07T23:46:10.875Z"
   },
   {
    "duration": 26,
    "start_time": "2023-03-07T23:46:10.879Z"
   },
   {
    "duration": 14,
    "start_time": "2023-03-07T23:46:10.907Z"
   },
   {
    "duration": 41,
    "start_time": "2023-03-07T23:46:10.923Z"
   },
   {
    "duration": 17,
    "start_time": "2023-03-07T23:46:10.965Z"
   },
   {
    "duration": 22,
    "start_time": "2023-03-07T23:46:10.984Z"
   },
   {
    "duration": 5,
    "start_time": "2023-03-07T23:46:11.008Z"
   },
   {
    "duration": 19,
    "start_time": "2023-03-07T23:46:11.014Z"
   },
   {
    "duration": 401,
    "start_time": "2023-03-07T23:49:59.584Z"
   },
   {
    "duration": 48,
    "start_time": "2023-03-07T23:50:35.365Z"
   },
   {
    "duration": 30,
    "start_time": "2023-03-07T23:50:58.705Z"
   },
   {
    "duration": 49,
    "start_time": "2023-03-07T23:51:11.152Z"
   },
   {
    "duration": 28,
    "start_time": "2023-03-07T23:51:18.489Z"
   },
   {
    "duration": 47,
    "start_time": "2023-03-07T23:51:26.105Z"
   },
   {
    "duration": 67,
    "start_time": "2023-03-07T23:53:20.537Z"
   },
   {
    "duration": 329,
    "start_time": "2023-03-07T23:53:31.041Z"
   },
   {
    "duration": 318,
    "start_time": "2023-03-07T23:53:38.909Z"
   },
   {
    "duration": 53,
    "start_time": "2023-03-07T23:54:09.816Z"
   },
   {
    "duration": 1171,
    "start_time": "2023-03-07T23:54:36.813Z"
   },
   {
    "duration": 48,
    "start_time": "2023-03-07T23:55:06.144Z"
   },
   {
    "duration": 48,
    "start_time": "2023-03-07T23:55:22.093Z"
   },
   {
    "duration": 51,
    "start_time": "2023-03-07T23:57:16.099Z"
   },
   {
    "duration": 336,
    "start_time": "2023-03-07T23:57:29.547Z"
   },
   {
    "duration": 46,
    "start_time": "2023-03-07T23:58:12.614Z"
   },
   {
    "duration": 47,
    "start_time": "2023-03-07T23:58:20.882Z"
   },
   {
    "duration": 69,
    "start_time": "2023-03-07T23:58:35.865Z"
   },
   {
    "duration": 71,
    "start_time": "2023-03-07T23:59:07.629Z"
   },
   {
    "duration": 72,
    "start_time": "2023-03-07T23:59:18.374Z"
   },
   {
    "duration": 65,
    "start_time": "2023-03-07T23:59:26.533Z"
   },
   {
    "duration": 63,
    "start_time": "2023-03-08T00:00:02.973Z"
   },
   {
    "duration": 66,
    "start_time": "2023-03-08T00:00:15.409Z"
   },
   {
    "duration": 59,
    "start_time": "2023-03-08T00:00:32.016Z"
   },
   {
    "duration": 48,
    "start_time": "2023-03-08T00:00:54.284Z"
   },
   {
    "duration": 1897,
    "start_time": "2023-03-08T00:01:39.243Z"
   },
   {
    "duration": 67,
    "start_time": "2023-03-08T00:01:57.931Z"
   },
   {
    "duration": 49,
    "start_time": "2023-03-08T00:04:39.785Z"
   },
   {
    "duration": 69,
    "start_time": "2023-03-08T00:05:07.701Z"
   },
   {
    "duration": 67,
    "start_time": "2023-03-08T00:05:30.273Z"
   },
   {
    "duration": 19,
    "start_time": "2023-03-08T00:07:47.868Z"
   },
   {
    "duration": 19,
    "start_time": "2023-03-08T00:08:45.591Z"
   },
   {
    "duration": 20,
    "start_time": "2023-03-08T00:09:01.835Z"
   },
   {
    "duration": 24,
    "start_time": "2023-03-08T00:09:32.903Z"
   },
   {
    "duration": 29,
    "start_time": "2023-03-08T00:09:43.423Z"
   },
   {
    "duration": 24,
    "start_time": "2023-03-08T00:09:49.731Z"
   },
   {
    "duration": 1175,
    "start_time": "2023-03-08T00:11:15.750Z"
   },
   {
    "duration": 653,
    "start_time": "2023-03-08T00:11:16.927Z"
   },
   {
    "duration": 14,
    "start_time": "2023-03-08T00:11:17.584Z"
   },
   {
    "duration": 12,
    "start_time": "2023-03-08T00:11:17.599Z"
   },
   {
    "duration": 15,
    "start_time": "2023-03-08T00:11:17.613Z"
   },
   {
    "duration": 28,
    "start_time": "2023-03-08T00:11:17.630Z"
   },
   {
    "duration": 8,
    "start_time": "2023-03-08T00:11:17.660Z"
   },
   {
    "duration": 8,
    "start_time": "2023-03-08T00:11:17.670Z"
   },
   {
    "duration": 5,
    "start_time": "2023-03-08T00:11:17.681Z"
   },
   {
    "duration": 9,
    "start_time": "2023-03-08T00:11:17.687Z"
   },
   {
    "duration": 7,
    "start_time": "2023-03-08T00:11:17.697Z"
   },
   {
    "duration": 12,
    "start_time": "2023-03-08T00:11:17.706Z"
   },
   {
    "duration": 50,
    "start_time": "2023-03-08T00:11:17.720Z"
   },
   {
    "duration": 27,
    "start_time": "2023-03-08T00:11:17.772Z"
   },
   {
    "duration": 14,
    "start_time": "2023-03-08T00:11:17.800Z"
   },
   {
    "duration": 57,
    "start_time": "2023-03-08T00:11:17.815Z"
   },
   {
    "duration": 7,
    "start_time": "2023-03-08T00:11:17.874Z"
   },
   {
    "duration": 11,
    "start_time": "2023-03-08T00:11:17.883Z"
   },
   {
    "duration": 5,
    "start_time": "2023-03-08T00:11:17.896Z"
   },
   {
    "duration": 15,
    "start_time": "2023-03-08T00:11:17.903Z"
   },
   {
    "duration": 47,
    "start_time": "2023-03-08T00:11:17.920Z"
   },
   {
    "duration": 65,
    "start_time": "2023-03-08T00:11:17.969Z"
   },
   {
    "duration": 166,
    "start_time": "2023-03-08T00:11:18.035Z"
   },
   {
    "duration": 42,
    "start_time": "2023-03-08T00:11:18.203Z"
   },
   {
    "duration": 562,
    "start_time": "2023-03-08T00:11:18.258Z"
   },
   {
    "duration": 200,
    "start_time": "2023-03-08T00:11:18.822Z"
   },
   {
    "duration": 7,
    "start_time": "2023-03-08T00:11:19.026Z"
   },
   {
    "duration": 24,
    "start_time": "2023-03-08T00:11:19.035Z"
   },
   {
    "duration": 14,
    "start_time": "2023-03-08T00:11:19.061Z"
   },
   {
    "duration": 13,
    "start_time": "2023-03-08T00:11:19.077Z"
   },
   {
    "duration": 11,
    "start_time": "2023-03-08T00:11:19.092Z"
   },
   {
    "duration": 75,
    "start_time": "2023-03-08T00:11:19.105Z"
   },
   {
    "duration": 242,
    "start_time": "2023-03-08T00:11:19.182Z"
   },
   {
    "duration": 65,
    "start_time": "2023-03-08T00:11:19.425Z"
   },
   {
    "duration": 88,
    "start_time": "2023-03-08T00:11:19.492Z"
   },
   {
    "duration": 87,
    "start_time": "2023-03-08T00:11:19.582Z"
   },
   {
    "duration": 142,
    "start_time": "2023-03-08T00:11:19.670Z"
   },
   {
    "duration": 44,
    "start_time": "2023-03-08T00:11:19.814Z"
   },
   {
    "duration": 82,
    "start_time": "2023-03-08T00:11:19.860Z"
   },
   {
    "duration": 62,
    "start_time": "2023-03-08T00:11:19.944Z"
   },
   {
    "duration": 24,
    "start_time": "2023-03-08T00:11:20.008Z"
   },
   {
    "duration": 32,
    "start_time": "2023-03-08T00:11:20.034Z"
   },
   {
    "duration": 12,
    "start_time": "2023-03-08T00:11:20.067Z"
   },
   {
    "duration": 3,
    "start_time": "2023-03-08T00:11:20.081Z"
   },
   {
    "duration": 10,
    "start_time": "2023-03-08T00:11:20.086Z"
   },
   {
    "duration": 3163,
    "start_time": "2023-03-08T00:11:20.097Z"
   },
   {
    "duration": 3200,
    "start_time": "2023-03-08T00:11:23.261Z"
   },
   {
    "duration": 1700,
    "start_time": "2023-03-08T00:11:26.463Z"
   },
   {
    "duration": 124,
    "start_time": "2023-03-08T00:11:28.165Z"
   },
   {
    "duration": 0,
    "start_time": "2023-03-08T00:11:28.292Z"
   },
   {
    "duration": 0,
    "start_time": "2023-03-08T00:11:28.293Z"
   },
   {
    "duration": 0,
    "start_time": "2023-03-08T00:11:28.295Z"
   },
   {
    "duration": 0,
    "start_time": "2023-03-08T00:11:28.296Z"
   },
   {
    "duration": 0,
    "start_time": "2023-03-08T00:11:28.297Z"
   },
   {
    "duration": 0,
    "start_time": "2023-03-08T00:11:28.298Z"
   },
   {
    "duration": 1,
    "start_time": "2023-03-08T00:11:28.299Z"
   },
   {
    "duration": 1,
    "start_time": "2023-03-08T00:11:28.300Z"
   },
   {
    "duration": 0,
    "start_time": "2023-03-08T00:11:28.302Z"
   },
   {
    "duration": 0,
    "start_time": "2023-03-08T00:11:28.303Z"
   },
   {
    "duration": 0,
    "start_time": "2023-03-08T00:11:28.304Z"
   },
   {
    "duration": 0,
    "start_time": "2023-03-08T00:11:28.305Z"
   },
   {
    "duration": 0,
    "start_time": "2023-03-08T00:11:28.307Z"
   },
   {
    "duration": 0,
    "start_time": "2023-03-08T00:11:28.308Z"
   },
   {
    "duration": 1,
    "start_time": "2023-03-08T00:11:28.308Z"
   },
   {
    "duration": 0,
    "start_time": "2023-03-08T00:11:28.309Z"
   },
   {
    "duration": 0,
    "start_time": "2023-03-08T00:11:28.310Z"
   },
   {
    "duration": 0,
    "start_time": "2023-03-08T00:11:28.311Z"
   },
   {
    "duration": 0,
    "start_time": "2023-03-08T00:11:28.312Z"
   },
   {
    "duration": 0,
    "start_time": "2023-03-08T00:11:28.313Z"
   },
   {
    "duration": 0,
    "start_time": "2023-03-08T00:11:28.314Z"
   },
   {
    "duration": 0,
    "start_time": "2023-03-08T00:11:28.315Z"
   },
   {
    "duration": 0,
    "start_time": "2023-03-08T00:11:28.316Z"
   },
   {
    "duration": 0,
    "start_time": "2023-03-08T00:11:28.358Z"
   },
   {
    "duration": 0,
    "start_time": "2023-03-08T00:11:28.359Z"
   },
   {
    "duration": 0,
    "start_time": "2023-03-08T00:11:28.360Z"
   },
   {
    "duration": 0,
    "start_time": "2023-03-08T00:11:28.362Z"
   },
   {
    "duration": 0,
    "start_time": "2023-03-08T00:11:28.363Z"
   },
   {
    "duration": 0,
    "start_time": "2023-03-08T00:11:28.364Z"
   },
   {
    "duration": 0,
    "start_time": "2023-03-08T00:11:28.365Z"
   },
   {
    "duration": 0,
    "start_time": "2023-03-08T00:11:28.366Z"
   },
   {
    "duration": 0,
    "start_time": "2023-03-08T00:11:28.367Z"
   },
   {
    "duration": 0,
    "start_time": "2023-03-08T00:11:28.368Z"
   },
   {
    "duration": 0,
    "start_time": "2023-03-08T00:11:28.369Z"
   },
   {
    "duration": 0,
    "start_time": "2023-03-08T00:11:28.372Z"
   },
   {
    "duration": 0,
    "start_time": "2023-03-08T00:11:28.373Z"
   },
   {
    "duration": 0,
    "start_time": "2023-03-08T00:11:28.374Z"
   },
   {
    "duration": 0,
    "start_time": "2023-03-08T00:11:28.375Z"
   },
   {
    "duration": 0,
    "start_time": "2023-03-08T00:11:28.376Z"
   },
   {
    "duration": 0,
    "start_time": "2023-03-08T00:11:28.377Z"
   },
   {
    "duration": 0,
    "start_time": "2023-03-08T00:11:28.378Z"
   },
   {
    "duration": 0,
    "start_time": "2023-03-08T00:11:28.378Z"
   },
   {
    "duration": 0,
    "start_time": "2023-03-08T00:11:28.379Z"
   },
   {
    "duration": 0,
    "start_time": "2023-03-08T00:11:28.380Z"
   },
   {
    "duration": 0,
    "start_time": "2023-03-08T00:11:28.381Z"
   },
   {
    "duration": 0,
    "start_time": "2023-03-08T00:11:28.383Z"
   },
   {
    "duration": 73,
    "start_time": "2023-03-08T00:11:51.727Z"
   },
   {
    "duration": 72,
    "start_time": "2023-03-08T00:12:02.550Z"
   },
   {
    "duration": 71,
    "start_time": "2023-03-08T00:12:10.003Z"
   },
   {
    "duration": 73,
    "start_time": "2023-03-08T00:13:00.618Z"
   },
   {
    "duration": 72,
    "start_time": "2023-03-08T00:13:06.066Z"
   },
   {
    "duration": 74,
    "start_time": "2023-03-08T00:13:13.081Z"
   },
   {
    "duration": 70,
    "start_time": "2023-03-08T00:13:23.374Z"
   },
   {
    "duration": 72,
    "start_time": "2023-03-08T00:13:41.917Z"
   },
   {
    "duration": 1198,
    "start_time": "2023-03-08T00:18:57.840Z"
   },
   {
    "duration": 651,
    "start_time": "2023-03-08T00:18:59.040Z"
   },
   {
    "duration": 14,
    "start_time": "2023-03-08T00:18:59.693Z"
   },
   {
    "duration": 10,
    "start_time": "2023-03-08T00:18:59.709Z"
   },
   {
    "duration": 23,
    "start_time": "2023-03-08T00:18:59.721Z"
   },
   {
    "duration": 11,
    "start_time": "2023-03-08T00:18:59.746Z"
   },
   {
    "duration": 7,
    "start_time": "2023-03-08T00:18:59.758Z"
   },
   {
    "duration": 9,
    "start_time": "2023-03-08T00:18:59.767Z"
   },
   {
    "duration": 4,
    "start_time": "2023-03-08T00:18:59.778Z"
   },
   {
    "duration": 4,
    "start_time": "2023-03-08T00:18:59.786Z"
   },
   {
    "duration": 6,
    "start_time": "2023-03-08T00:18:59.792Z"
   },
   {
    "duration": 15,
    "start_time": "2023-03-08T00:18:59.800Z"
   },
   {
    "duration": 50,
    "start_time": "2023-03-08T00:18:59.817Z"
   },
   {
    "duration": 28,
    "start_time": "2023-03-08T00:18:59.869Z"
   },
   {
    "duration": 14,
    "start_time": "2023-03-08T00:18:59.899Z"
   },
   {
    "duration": 61,
    "start_time": "2023-03-08T00:18:59.915Z"
   },
   {
    "duration": 7,
    "start_time": "2023-03-08T00:18:59.978Z"
   },
   {
    "duration": 11,
    "start_time": "2023-03-08T00:18:59.987Z"
   },
   {
    "duration": 8,
    "start_time": "2023-03-08T00:19:00.000Z"
   },
   {
    "duration": 47,
    "start_time": "2023-03-08T00:19:00.010Z"
   },
   {
    "duration": 12,
    "start_time": "2023-03-08T00:19:00.060Z"
   },
   {
    "duration": 70,
    "start_time": "2023-03-08T00:19:00.074Z"
   },
   {
    "duration": 159,
    "start_time": "2023-03-08T00:19:00.145Z"
   },
   {
    "duration": 57,
    "start_time": "2023-03-08T00:19:00.305Z"
   },
   {
    "duration": 583,
    "start_time": "2023-03-08T00:19:00.364Z"
   },
   {
    "duration": 216,
    "start_time": "2023-03-08T00:19:00.948Z"
   },
   {
    "duration": 7,
    "start_time": "2023-03-08T00:19:01.166Z"
   },
   {
    "duration": 34,
    "start_time": "2023-03-08T00:19:01.178Z"
   },
   {
    "duration": 30,
    "start_time": "2023-03-08T00:19:01.214Z"
   },
   {
    "duration": 42,
    "start_time": "2023-03-08T00:19:01.246Z"
   },
   {
    "duration": 44,
    "start_time": "2023-03-08T00:19:01.290Z"
   },
   {
    "duration": 90,
    "start_time": "2023-03-08T00:19:01.337Z"
   },
   {
    "duration": 257,
    "start_time": "2023-03-08T00:19:01.429Z"
   },
   {
    "duration": 55,
    "start_time": "2023-03-08T00:19:01.688Z"
   },
   {
    "duration": 84,
    "start_time": "2023-03-08T00:19:01.758Z"
   },
   {
    "duration": 81,
    "start_time": "2023-03-08T00:19:01.856Z"
   },
   {
    "duration": 160,
    "start_time": "2023-03-08T00:19:01.939Z"
   },
   {
    "duration": 38,
    "start_time": "2023-03-08T00:19:02.101Z"
   },
   {
    "duration": 99,
    "start_time": "2023-03-08T00:19:02.140Z"
   },
   {
    "duration": 67,
    "start_time": "2023-03-08T00:19:02.241Z"
   },
   {
    "duration": 26,
    "start_time": "2023-03-08T00:19:02.311Z"
   },
   {
    "duration": 29,
    "start_time": "2023-03-08T00:19:02.339Z"
   },
   {
    "duration": 24,
    "start_time": "2023-03-08T00:19:02.369Z"
   },
   {
    "duration": 13,
    "start_time": "2023-03-08T00:19:02.396Z"
   },
   {
    "duration": 25,
    "start_time": "2023-03-08T00:19:02.411Z"
   },
   {
    "duration": 3336,
    "start_time": "2023-03-08T00:19:02.438Z"
   },
   {
    "duration": 3105,
    "start_time": "2023-03-08T00:19:05.776Z"
   },
   {
    "duration": 1757,
    "start_time": "2023-03-08T00:19:08.883Z"
   },
   {
    "duration": 73,
    "start_time": "2023-03-08T00:19:10.642Z"
   },
   {
    "duration": 67,
    "start_time": "2023-03-08T00:19:10.717Z"
   },
   {
    "duration": 183,
    "start_time": "2023-03-08T00:19:10.786Z"
   },
   {
    "duration": 2,
    "start_time": "2023-03-08T00:19:10.971Z"
   },
   {
    "duration": 131,
    "start_time": "2023-03-08T00:19:10.975Z"
   },
   {
    "duration": 18,
    "start_time": "2023-03-08T00:19:11.159Z"
   },
   {
    "duration": 109,
    "start_time": "2023-03-08T00:19:11.179Z"
   },
   {
    "duration": 206,
    "start_time": "2023-03-08T00:19:11.290Z"
   },
   {
    "duration": 7,
    "start_time": "2023-03-08T00:19:11.498Z"
   },
   {
    "duration": 14,
    "start_time": "2023-03-08T00:19:11.507Z"
   },
   {
    "duration": 16,
    "start_time": "2023-03-08T00:19:11.522Z"
   },
   {
    "duration": 1646,
    "start_time": "2023-03-08T00:19:11.540Z"
   },
   {
    "duration": 13,
    "start_time": "2023-03-08T00:19:13.187Z"
   },
   {
    "duration": 47,
    "start_time": "2023-03-08T00:19:13.201Z"
   },
   {
    "duration": 4,
    "start_time": "2023-03-08T00:19:13.258Z"
   },
   {
    "duration": 12,
    "start_time": "2023-03-08T00:19:13.264Z"
   },
   {
    "duration": 8,
    "start_time": "2023-03-08T00:19:13.277Z"
   },
   {
    "duration": 11,
    "start_time": "2023-03-08T00:19:13.287Z"
   },
   {
    "duration": 163,
    "start_time": "2023-03-08T00:19:13.300Z"
   },
   {
    "duration": 695,
    "start_time": "2023-03-08T00:19:13.465Z"
   },
   {
    "duration": 4,
    "start_time": "2023-03-08T00:19:14.162Z"
   },
   {
    "duration": 603,
    "start_time": "2023-03-08T00:19:14.167Z"
   },
   {
    "duration": 21,
    "start_time": "2023-03-08T00:19:14.772Z"
   },
   {
    "duration": 4,
    "start_time": "2023-03-08T00:19:14.795Z"
   },
   {
    "duration": 829,
    "start_time": "2023-03-08T00:19:14.801Z"
   },
   {
    "duration": 27,
    "start_time": "2023-03-08T00:19:15.631Z"
   },
   {
    "duration": 20,
    "start_time": "2023-03-08T00:19:15.661Z"
   },
   {
    "duration": 13,
    "start_time": "2023-03-08T00:19:15.682Z"
   },
   {
    "duration": 159,
    "start_time": "2023-03-08T00:19:15.696Z"
   },
   {
    "duration": 3,
    "start_time": "2023-03-08T00:19:15.856Z"
   },
   {
    "duration": 28,
    "start_time": "2023-03-08T00:19:15.860Z"
   },
   {
    "duration": 2,
    "start_time": "2023-03-08T00:19:15.890Z"
   },
   {
    "duration": 73,
    "start_time": "2023-03-08T00:19:15.894Z"
   },
   {
    "duration": 13,
    "start_time": "2023-03-08T00:19:15.973Z"
   },
   {
    "duration": 14,
    "start_time": "2023-03-08T00:19:15.988Z"
   },
   {
    "duration": 6,
    "start_time": "2023-03-08T00:19:16.003Z"
   },
   {
    "duration": 63,
    "start_time": "2023-03-08T00:19:16.011Z"
   },
   {
    "duration": 2,
    "start_time": "2023-03-08T00:19:16.076Z"
   },
   {
    "duration": 22,
    "start_time": "2023-03-08T00:19:16.080Z"
   },
   {
    "duration": 12,
    "start_time": "2023-03-08T00:19:16.104Z"
   },
   {
    "duration": 16,
    "start_time": "2023-03-08T00:19:16.118Z"
   },
   {
    "duration": 17,
    "start_time": "2023-03-08T00:19:16.158Z"
   },
   {
    "duration": 24,
    "start_time": "2023-03-08T00:19:16.177Z"
   },
   {
    "duration": 6,
    "start_time": "2023-03-08T00:19:16.202Z"
   },
   {
    "duration": 18,
    "start_time": "2023-03-08T00:19:16.209Z"
   },
   {
    "duration": 1138,
    "start_time": "2023-03-08T00:19:19.092Z"
   },
   {
    "duration": 649,
    "start_time": "2023-03-08T00:19:20.232Z"
   },
   {
    "duration": 13,
    "start_time": "2023-03-08T00:19:20.886Z"
   },
   {
    "duration": 20,
    "start_time": "2023-03-08T00:19:20.901Z"
   },
   {
    "duration": 21,
    "start_time": "2023-03-08T00:19:20.923Z"
   },
   {
    "duration": 19,
    "start_time": "2023-03-08T00:19:20.945Z"
   },
   {
    "duration": 8,
    "start_time": "2023-03-08T00:19:20.966Z"
   },
   {
    "duration": 18,
    "start_time": "2023-03-08T00:19:20.975Z"
   },
   {
    "duration": 14,
    "start_time": "2023-03-08T00:19:20.996Z"
   },
   {
    "duration": 8,
    "start_time": "2023-03-08T00:19:21.012Z"
   },
   {
    "duration": 6,
    "start_time": "2023-03-08T00:19:21.022Z"
   },
   {
    "duration": 23,
    "start_time": "2023-03-08T00:19:21.030Z"
   },
   {
    "duration": 24,
    "start_time": "2023-03-08T00:19:21.054Z"
   },
   {
    "duration": 26,
    "start_time": "2023-03-08T00:19:21.080Z"
   },
   {
    "duration": 13,
    "start_time": "2023-03-08T00:19:21.107Z"
   },
   {
    "duration": 53,
    "start_time": "2023-03-08T00:19:21.122Z"
   },
   {
    "duration": 8,
    "start_time": "2023-03-08T00:19:21.176Z"
   },
   {
    "duration": 13,
    "start_time": "2023-03-08T00:19:21.185Z"
   },
   {
    "duration": 14,
    "start_time": "2023-03-08T00:19:21.200Z"
   },
   {
    "duration": 15,
    "start_time": "2023-03-08T00:19:21.217Z"
   },
   {
    "duration": 34,
    "start_time": "2023-03-08T00:19:21.234Z"
   },
   {
    "duration": 66,
    "start_time": "2023-03-08T00:19:21.270Z"
   },
   {
    "duration": 169,
    "start_time": "2023-03-08T00:19:21.338Z"
   },
   {
    "duration": 53,
    "start_time": "2023-03-08T00:19:21.509Z"
   },
   {
    "duration": 558,
    "start_time": "2023-03-08T00:19:21.564Z"
   },
   {
    "duration": 207,
    "start_time": "2023-03-08T00:19:22.123Z"
   },
   {
    "duration": 6,
    "start_time": "2023-03-08T00:19:22.336Z"
   },
   {
    "duration": 21,
    "start_time": "2023-03-08T00:19:22.345Z"
   },
   {
    "duration": 16,
    "start_time": "2023-03-08T00:19:22.368Z"
   },
   {
    "duration": 15,
    "start_time": "2023-03-08T00:19:22.387Z"
   },
   {
    "duration": 17,
    "start_time": "2023-03-08T00:19:22.404Z"
   },
   {
    "duration": 72,
    "start_time": "2023-03-08T00:19:22.423Z"
   },
   {
    "duration": 241,
    "start_time": "2023-03-08T00:19:22.497Z"
   },
   {
    "duration": 62,
    "start_time": "2023-03-08T00:19:22.740Z"
   },
   {
    "duration": 94,
    "start_time": "2023-03-08T00:19:22.804Z"
   },
   {
    "duration": 94,
    "start_time": "2023-03-08T00:19:22.900Z"
   },
   {
    "duration": 138,
    "start_time": "2023-03-08T00:19:22.996Z"
   },
   {
    "duration": 40,
    "start_time": "2023-03-08T00:19:23.137Z"
   },
   {
    "duration": 98,
    "start_time": "2023-03-08T00:19:23.179Z"
   },
   {
    "duration": 55,
    "start_time": "2023-03-08T00:19:23.279Z"
   },
   {
    "duration": 40,
    "start_time": "2023-03-08T00:19:23.337Z"
   },
   {
    "duration": 12,
    "start_time": "2023-03-08T00:19:23.379Z"
   },
   {
    "duration": 12,
    "start_time": "2023-03-08T00:19:23.393Z"
   },
   {
    "duration": 4,
    "start_time": "2023-03-08T00:19:23.407Z"
   },
   {
    "duration": 3245,
    "start_time": "2023-03-08T00:19:23.413Z"
   },
   {
    "duration": 3149,
    "start_time": "2023-03-08T00:19:26.660Z"
   },
   {
    "duration": 1718,
    "start_time": "2023-03-08T00:19:29.811Z"
   },
   {
    "duration": 79,
    "start_time": "2023-03-08T00:19:31.531Z"
   },
   {
    "duration": 69,
    "start_time": "2023-03-08T00:19:31.611Z"
   },
   {
    "duration": 89,
    "start_time": "2023-03-08T00:19:31.681Z"
   },
   {
    "duration": 20,
    "start_time": "2023-03-08T00:19:31.771Z"
   },
   {
    "duration": 140,
    "start_time": "2023-03-08T00:19:31.793Z"
   },
   {
    "duration": 23,
    "start_time": "2023-03-08T00:19:31.935Z"
   },
   {
    "duration": 20,
    "start_time": "2023-03-08T00:19:31.960Z"
   },
   {
    "duration": 219,
    "start_time": "2023-03-08T00:19:31.982Z"
   },
   {
    "duration": 9,
    "start_time": "2023-03-08T00:19:32.202Z"
   },
   {
    "duration": 19,
    "start_time": "2023-03-08T00:19:32.212Z"
   },
   {
    "duration": 29,
    "start_time": "2023-03-08T00:19:32.233Z"
   },
   {
    "duration": 1602,
    "start_time": "2023-03-08T00:19:32.264Z"
   },
   {
    "duration": 13,
    "start_time": "2023-03-08T00:19:33.868Z"
   },
   {
    "duration": 40,
    "start_time": "2023-03-08T00:19:33.883Z"
   },
   {
    "duration": 6,
    "start_time": "2023-03-08T00:19:33.925Z"
   },
   {
    "duration": 7,
    "start_time": "2023-03-08T00:19:33.958Z"
   },
   {
    "duration": 16,
    "start_time": "2023-03-08T00:19:33.966Z"
   },
   {
    "duration": 13,
    "start_time": "2023-03-08T00:19:33.983Z"
   },
   {
    "duration": 144,
    "start_time": "2023-03-08T00:19:33.998Z"
   },
   {
    "duration": 715,
    "start_time": "2023-03-08T00:19:34.145Z"
   },
   {
    "duration": 6,
    "start_time": "2023-03-08T00:19:34.862Z"
   },
   {
    "duration": 618,
    "start_time": "2023-03-08T00:19:34.870Z"
   },
   {
    "duration": 24,
    "start_time": "2023-03-08T00:19:35.490Z"
   },
   {
    "duration": 5,
    "start_time": "2023-03-08T00:19:35.517Z"
   },
   {
    "duration": 757,
    "start_time": "2023-03-08T00:19:35.525Z"
   },
   {
    "duration": 18,
    "start_time": "2023-03-08T00:19:36.284Z"
   },
   {
    "duration": 21,
    "start_time": "2023-03-08T00:19:36.303Z"
   },
   {
    "duration": 33,
    "start_time": "2023-03-08T00:19:36.325Z"
   },
   {
    "duration": 152,
    "start_time": "2023-03-08T00:19:36.360Z"
   },
   {
    "duration": 3,
    "start_time": "2023-03-08T00:19:36.513Z"
   },
   {
    "duration": 56,
    "start_time": "2023-03-08T00:19:36.518Z"
   },
   {
    "duration": 2,
    "start_time": "2023-03-08T00:19:36.576Z"
   },
   {
    "duration": 24,
    "start_time": "2023-03-08T00:19:36.580Z"
   },
   {
    "duration": 13,
    "start_time": "2023-03-08T00:19:36.659Z"
   },
   {
    "duration": 12,
    "start_time": "2023-03-08T00:19:36.673Z"
   },
   {
    "duration": 2,
    "start_time": "2023-03-08T00:19:36.686Z"
   },
   {
    "duration": 21,
    "start_time": "2023-03-08T00:19:36.690Z"
   },
   {
    "duration": 2,
    "start_time": "2023-03-08T00:19:36.713Z"
   },
   {
    "duration": 58,
    "start_time": "2023-03-08T00:19:36.717Z"
   },
   {
    "duration": 11,
    "start_time": "2023-03-08T00:19:36.777Z"
   },
   {
    "duration": 18,
    "start_time": "2023-03-08T00:19:36.789Z"
   },
   {
    "duration": 18,
    "start_time": "2023-03-08T00:19:36.809Z"
   },
   {
    "duration": 45,
    "start_time": "2023-03-08T00:19:36.829Z"
   },
   {
    "duration": 5,
    "start_time": "2023-03-08T00:19:36.876Z"
   },
   {
    "duration": 19,
    "start_time": "2023-03-08T00:19:36.882Z"
   },
   {
    "duration": 2,
    "start_time": "2023-03-08T00:21:49.063Z"
   },
   {
    "duration": 3,
    "start_time": "2023-03-08T00:22:46.958Z"
   },
   {
    "duration": 3,
    "start_time": "2023-03-08T00:24:22.500Z"
   },
   {
    "duration": 1129,
    "start_time": "2023-03-08T00:38:30.007Z"
   },
   {
    "duration": 648,
    "start_time": "2023-03-08T00:38:31.138Z"
   },
   {
    "duration": 12,
    "start_time": "2023-03-08T00:38:31.788Z"
   },
   {
    "duration": 15,
    "start_time": "2023-03-08T00:38:31.802Z"
   },
   {
    "duration": 17,
    "start_time": "2023-03-08T00:38:31.819Z"
   },
   {
    "duration": 14,
    "start_time": "2023-03-08T00:38:31.838Z"
   },
   {
    "duration": 7,
    "start_time": "2023-03-08T00:38:31.854Z"
   },
   {
    "duration": 21,
    "start_time": "2023-03-08T00:38:31.863Z"
   },
   {
    "duration": 10,
    "start_time": "2023-03-08T00:38:31.886Z"
   },
   {
    "duration": 14,
    "start_time": "2023-03-08T00:38:31.897Z"
   },
   {
    "duration": 19,
    "start_time": "2023-03-08T00:38:31.912Z"
   },
   {
    "duration": 35,
    "start_time": "2023-03-08T00:38:31.932Z"
   },
   {
    "duration": 36,
    "start_time": "2023-03-08T00:38:31.969Z"
   },
   {
    "duration": 43,
    "start_time": "2023-03-08T00:38:32.008Z"
   },
   {
    "duration": 13,
    "start_time": "2023-03-08T00:38:32.052Z"
   },
   {
    "duration": 42,
    "start_time": "2023-03-08T00:38:32.067Z"
   },
   {
    "duration": 6,
    "start_time": "2023-03-08T00:38:32.111Z"
   },
   {
    "duration": 29,
    "start_time": "2023-03-08T00:38:32.118Z"
   },
   {
    "duration": 18,
    "start_time": "2023-03-08T00:38:32.149Z"
   },
   {
    "duration": 142,
    "start_time": "2023-03-08T00:38:32.169Z"
   },
   {
    "duration": 36,
    "start_time": "2023-03-08T00:38:32.312Z"
   },
   {
    "duration": 84,
    "start_time": "2023-03-08T00:38:32.349Z"
   },
   {
    "duration": 151,
    "start_time": "2023-03-08T00:38:32.435Z"
   },
   {
    "duration": 42,
    "start_time": "2023-03-08T00:38:32.587Z"
   },
   {
    "duration": 556,
    "start_time": "2023-03-08T00:38:32.631Z"
   },
   {
    "duration": 195,
    "start_time": "2023-03-08T00:38:33.189Z"
   },
   {
    "duration": 6,
    "start_time": "2023-03-08T00:38:33.386Z"
   },
   {
    "duration": 9,
    "start_time": "2023-03-08T00:38:33.394Z"
   },
   {
    "duration": 14,
    "start_time": "2023-03-08T00:38:33.404Z"
   },
   {
    "duration": 25,
    "start_time": "2023-03-08T00:38:33.420Z"
   },
   {
    "duration": 20,
    "start_time": "2023-03-08T00:38:33.446Z"
   },
   {
    "duration": 50,
    "start_time": "2023-03-08T00:38:33.468Z"
   },
   {
    "duration": 238,
    "start_time": "2023-03-08T00:38:33.520Z"
   },
   {
    "duration": 52,
    "start_time": "2023-03-08T00:38:33.759Z"
   },
   {
    "duration": 88,
    "start_time": "2023-03-08T00:38:33.812Z"
   },
   {
    "duration": 86,
    "start_time": "2023-03-08T00:38:33.902Z"
   },
   {
    "duration": 135,
    "start_time": "2023-03-08T00:38:33.990Z"
   },
   {
    "duration": 43,
    "start_time": "2023-03-08T00:38:34.126Z"
   },
   {
    "duration": 115,
    "start_time": "2023-03-08T00:38:34.171Z"
   },
   {
    "duration": 68,
    "start_time": "2023-03-08T00:38:34.289Z"
   },
   {
    "duration": 31,
    "start_time": "2023-03-08T00:38:34.362Z"
   },
   {
    "duration": 10,
    "start_time": "2023-03-08T00:38:34.395Z"
   },
   {
    "duration": 11,
    "start_time": "2023-03-08T00:38:34.407Z"
   },
   {
    "duration": 4,
    "start_time": "2023-03-08T00:38:34.420Z"
   },
   {
    "duration": 3173,
    "start_time": "2023-03-08T00:38:34.426Z"
   },
   {
    "duration": 3049,
    "start_time": "2023-03-08T00:38:37.601Z"
   },
   {
    "duration": 1679,
    "start_time": "2023-03-08T00:38:40.651Z"
   },
   {
    "duration": 76,
    "start_time": "2023-03-08T00:38:42.332Z"
   },
   {
    "duration": 75,
    "start_time": "2023-03-08T00:38:42.409Z"
   },
   {
    "duration": 93,
    "start_time": "2023-03-08T00:38:42.485Z"
   },
   {
    "duration": 2,
    "start_time": "2023-03-08T00:38:42.580Z"
   },
   {
    "duration": 116,
    "start_time": "2023-03-08T00:38:42.584Z"
   },
   {
    "duration": 2,
    "start_time": "2023-03-08T00:38:42.702Z"
   },
   {
    "duration": 22,
    "start_time": "2023-03-08T00:38:42.706Z"
   },
   {
    "duration": 212,
    "start_time": "2023-03-08T00:38:42.729Z"
   },
   {
    "duration": 15,
    "start_time": "2023-03-08T00:38:42.943Z"
   },
   {
    "duration": 12,
    "start_time": "2023-03-08T00:38:42.959Z"
   },
   {
    "duration": 12,
    "start_time": "2023-03-08T00:38:42.973Z"
   },
   {
    "duration": 1609,
    "start_time": "2023-03-08T00:38:42.987Z"
   },
   {
    "duration": 2,
    "start_time": "2023-03-08T00:38:44.598Z"
   },
   {
    "duration": 57,
    "start_time": "2023-03-08T00:38:44.602Z"
   },
   {
    "duration": 5,
    "start_time": "2023-03-08T00:38:44.660Z"
   },
   {
    "duration": 10,
    "start_time": "2023-03-08T00:38:44.666Z"
   },
   {
    "duration": 7,
    "start_time": "2023-03-08T00:38:44.678Z"
   },
   {
    "duration": 10,
    "start_time": "2023-03-08T00:38:44.686Z"
   },
   {
    "duration": 156,
    "start_time": "2023-03-08T00:38:44.698Z"
   },
   {
    "duration": 707,
    "start_time": "2023-03-08T00:38:44.858Z"
   },
   {
    "duration": 5,
    "start_time": "2023-03-08T00:38:45.567Z"
   },
   {
    "duration": 566,
    "start_time": "2023-03-08T00:38:45.575Z"
   },
   {
    "duration": 32,
    "start_time": "2023-03-08T00:38:46.143Z"
   },
   {
    "duration": 5,
    "start_time": "2023-03-08T00:38:46.177Z"
   },
   {
    "duration": 725,
    "start_time": "2023-03-08T00:38:46.184Z"
   },
   {
    "duration": 3,
    "start_time": "2023-03-08T00:38:46.911Z"
   },
   {
    "duration": 23,
    "start_time": "2023-03-08T00:38:46.916Z"
   },
   {
    "duration": 26,
    "start_time": "2023-03-08T00:38:46.941Z"
   },
   {
    "duration": 138,
    "start_time": "2023-03-08T00:38:46.969Z"
   },
   {
    "duration": 3,
    "start_time": "2023-03-08T00:38:47.109Z"
   },
   {
    "duration": 64,
    "start_time": "2023-03-08T00:38:47.114Z"
   },
   {
    "duration": 15,
    "start_time": "2023-03-08T00:38:47.180Z"
   },
   {
    "duration": 3,
    "start_time": "2023-03-08T00:38:47.197Z"
   },
   {
    "duration": 14,
    "start_time": "2023-03-08T00:38:47.257Z"
   },
   {
    "duration": 11,
    "start_time": "2023-03-08T00:38:47.273Z"
   },
   {
    "duration": 3,
    "start_time": "2023-03-08T00:38:47.286Z"
   },
   {
    "duration": 23,
    "start_time": "2023-03-08T00:38:47.290Z"
   },
   {
    "duration": 53,
    "start_time": "2023-03-08T00:38:47.315Z"
   },
   {
    "duration": 3,
    "start_time": "2023-03-08T00:38:47.369Z"
   },
   {
    "duration": 18,
    "start_time": "2023-03-08T00:38:47.373Z"
   },
   {
    "duration": 14,
    "start_time": "2023-03-08T00:38:47.392Z"
   },
   {
    "duration": 20,
    "start_time": "2023-03-08T00:38:47.408Z"
   },
   {
    "duration": 46,
    "start_time": "2023-03-08T00:38:47.429Z"
   },
   {
    "duration": 5,
    "start_time": "2023-03-08T00:38:47.477Z"
   },
   {
    "duration": 22,
    "start_time": "2023-03-08T00:38:47.484Z"
   },
   {
    "duration": 18,
    "start_time": "2023-03-08T00:39:38.699Z"
   },
   {
    "duration": 22,
    "start_time": "2023-03-08T00:40:09.142Z"
   },
   {
    "duration": 1188,
    "start_time": "2023-03-08T00:41:17.330Z"
   },
   {
    "duration": 625,
    "start_time": "2023-03-08T00:41:18.520Z"
   },
   {
    "duration": 12,
    "start_time": "2023-03-08T00:41:19.147Z"
   },
   {
    "duration": 15,
    "start_time": "2023-03-08T00:41:19.161Z"
   },
   {
    "duration": 20,
    "start_time": "2023-03-08T00:41:19.178Z"
   },
   {
    "duration": 17,
    "start_time": "2023-03-08T00:41:19.199Z"
   },
   {
    "duration": 9,
    "start_time": "2023-03-08T00:41:19.218Z"
   },
   {
    "duration": 13,
    "start_time": "2023-03-08T00:41:19.228Z"
   },
   {
    "duration": 6,
    "start_time": "2023-03-08T00:41:19.242Z"
   },
   {
    "duration": 9,
    "start_time": "2023-03-08T00:41:19.259Z"
   },
   {
    "duration": 7,
    "start_time": "2023-03-08T00:41:19.269Z"
   },
   {
    "duration": 13,
    "start_time": "2023-03-08T00:41:19.278Z"
   },
   {
    "duration": 27,
    "start_time": "2023-03-08T00:41:19.293Z"
   },
   {
    "duration": 48,
    "start_time": "2023-03-08T00:41:19.322Z"
   },
   {
    "duration": 13,
    "start_time": "2023-03-08T00:41:19.372Z"
   },
   {
    "duration": 37,
    "start_time": "2023-03-08T00:41:19.386Z"
   },
   {
    "duration": 7,
    "start_time": "2023-03-08T00:41:19.425Z"
   },
   {
    "duration": 27,
    "start_time": "2023-03-08T00:41:19.433Z"
   },
   {
    "duration": 6,
    "start_time": "2023-03-08T00:41:19.462Z"
   },
   {
    "duration": 15,
    "start_time": "2023-03-08T00:41:19.469Z"
   },
   {
    "duration": 11,
    "start_time": "2023-03-08T00:41:19.485Z"
   },
   {
    "duration": 93,
    "start_time": "2023-03-08T00:41:19.498Z"
   },
   {
    "duration": 143,
    "start_time": "2023-03-08T00:41:19.593Z"
   },
   {
    "duration": 54,
    "start_time": "2023-03-08T00:41:19.737Z"
   },
   {
    "duration": 572,
    "start_time": "2023-03-08T00:41:19.793Z"
   },
   {
    "duration": 192,
    "start_time": "2023-03-08T00:41:20.366Z"
   },
   {
    "duration": 6,
    "start_time": "2023-03-08T00:41:20.559Z"
   },
   {
    "duration": 10,
    "start_time": "2023-03-08T00:41:20.569Z"
   },
   {
    "duration": 14,
    "start_time": "2023-03-08T00:41:20.581Z"
   },
   {
    "duration": 10,
    "start_time": "2023-03-08T00:41:20.596Z"
   },
   {
    "duration": 13,
    "start_time": "2023-03-08T00:41:20.607Z"
   },
   {
    "duration": 80,
    "start_time": "2023-03-08T00:41:20.621Z"
   },
   {
    "duration": 220,
    "start_time": "2023-03-08T00:41:20.702Z"
   },
   {
    "duration": 62,
    "start_time": "2023-03-08T00:41:20.923Z"
   },
   {
    "duration": 92,
    "start_time": "2023-03-08T00:41:20.987Z"
   },
   {
    "duration": 88,
    "start_time": "2023-03-08T00:41:21.081Z"
   },
   {
    "duration": 141,
    "start_time": "2023-03-08T00:41:21.170Z"
   },
   {
    "duration": 34,
    "start_time": "2023-03-08T00:41:21.313Z"
   },
   {
    "duration": 83,
    "start_time": "2023-03-08T00:41:21.357Z"
   },
   {
    "duration": 60,
    "start_time": "2023-03-08T00:41:21.441Z"
   },
   {
    "duration": 31,
    "start_time": "2023-03-08T00:41:21.503Z"
   },
   {
    "duration": 24,
    "start_time": "2023-03-08T00:41:21.536Z"
   },
   {
    "duration": 10,
    "start_time": "2023-03-08T00:41:21.562Z"
   },
   {
    "duration": 3,
    "start_time": "2023-03-08T00:41:21.574Z"
   },
   {
    "duration": 3144,
    "start_time": "2023-03-08T00:41:21.579Z"
   },
   {
    "duration": 3148,
    "start_time": "2023-03-08T00:41:24.725Z"
   },
   {
    "duration": 1663,
    "start_time": "2023-03-08T00:41:27.875Z"
   },
   {
    "duration": 74,
    "start_time": "2023-03-08T00:41:29.539Z"
   },
   {
    "duration": 67,
    "start_time": "2023-03-08T00:41:29.615Z"
   },
   {
    "duration": 93,
    "start_time": "2023-03-08T00:41:29.684Z"
   },
   {
    "duration": 3,
    "start_time": "2023-03-08T00:41:29.779Z"
   },
   {
    "duration": 120,
    "start_time": "2023-03-08T00:41:29.783Z"
   },
   {
    "duration": 3,
    "start_time": "2023-03-08T00:41:29.905Z"
   },
   {
    "duration": 21,
    "start_time": "2023-03-08T00:41:29.909Z"
   },
   {
    "duration": 219,
    "start_time": "2023-03-08T00:41:29.932Z"
   },
   {
    "duration": 8,
    "start_time": "2023-03-08T00:41:30.156Z"
   },
   {
    "duration": 26,
    "start_time": "2023-03-08T00:41:30.166Z"
   },
   {
    "duration": 10,
    "start_time": "2023-03-08T00:41:30.194Z"
   },
   {
    "duration": 1568,
    "start_time": "2023-03-08T00:41:30.206Z"
   },
   {
    "duration": 2,
    "start_time": "2023-03-08T00:41:31.776Z"
   },
   {
    "duration": 51,
    "start_time": "2023-03-08T00:41:31.779Z"
   },
   {
    "duration": 4,
    "start_time": "2023-03-08T00:41:31.832Z"
   },
   {
    "duration": 20,
    "start_time": "2023-03-08T00:41:31.838Z"
   },
   {
    "duration": 7,
    "start_time": "2023-03-08T00:41:31.860Z"
   },
   {
    "duration": 21,
    "start_time": "2023-03-08T00:41:31.869Z"
   },
   {
    "duration": 148,
    "start_time": "2023-03-08T00:41:31.892Z"
   },
   {
    "duration": 680,
    "start_time": "2023-03-08T00:41:32.041Z"
   },
   {
    "duration": 4,
    "start_time": "2023-03-08T00:41:32.723Z"
   },
   {
    "duration": 577,
    "start_time": "2023-03-08T00:41:32.729Z"
   },
   {
    "duration": 22,
    "start_time": "2023-03-08T00:41:33.309Z"
   },
   {
    "duration": 4,
    "start_time": "2023-03-08T00:41:33.333Z"
   },
   {
    "duration": 724,
    "start_time": "2023-03-08T00:41:33.338Z"
   },
   {
    "duration": 2,
    "start_time": "2023-03-08T00:41:34.064Z"
   },
   {
    "duration": 25,
    "start_time": "2023-03-08T00:41:34.068Z"
   },
   {
    "duration": 13,
    "start_time": "2023-03-08T00:41:34.095Z"
   },
   {
    "duration": 170,
    "start_time": "2023-03-08T00:41:34.109Z"
   },
   {
    "duration": 3,
    "start_time": "2023-03-08T00:41:34.280Z"
   },
   {
    "duration": 74,
    "start_time": "2023-03-08T00:41:34.285Z"
   },
   {
    "duration": 3,
    "start_time": "2023-03-08T00:41:34.361Z"
   },
   {
    "duration": 21,
    "start_time": "2023-03-08T00:41:34.365Z"
   },
   {
    "duration": 13,
    "start_time": "2023-03-08T00:41:34.388Z"
   },
   {
    "duration": 12,
    "start_time": "2023-03-08T00:41:34.461Z"
   },
   {
    "duration": 3,
    "start_time": "2023-03-08T00:41:34.474Z"
   },
   {
    "duration": 30,
    "start_time": "2023-03-08T00:41:34.479Z"
   },
   {
    "duration": 2,
    "start_time": "2023-03-08T00:41:34.511Z"
   },
   {
    "duration": 21,
    "start_time": "2023-03-08T00:41:34.515Z"
   },
   {
    "duration": 12,
    "start_time": "2023-03-08T00:41:34.558Z"
   },
   {
    "duration": 16,
    "start_time": "2023-03-08T00:41:34.572Z"
   },
   {
    "duration": 18,
    "start_time": "2023-03-08T00:41:34.589Z"
   },
   {
    "duration": 48,
    "start_time": "2023-03-08T00:41:34.609Z"
   },
   {
    "duration": 5,
    "start_time": "2023-03-08T00:41:34.659Z"
   },
   {
    "duration": 13,
    "start_time": "2023-03-08T00:41:34.666Z"
   }
  ],
  "kernelspec": {
   "display_name": "Python 3 (ipykernel)",
   "language": "python",
   "name": "python3"
  },
  "language_info": {
   "codemirror_mode": {
    "name": "ipython",
    "version": 3
   },
   "file_extension": ".py",
   "mimetype": "text/x-python",
   "name": "python",
   "nbconvert_exporter": "python",
   "pygments_lexer": "ipython3",
   "version": "3.9.13"
  },
  "toc": {
   "base_numbering": 1,
   "nav_menu": {},
   "number_sections": true,
   "sideBar": true,
   "skip_h1_title": true,
   "title_cell": "Table of Contents",
   "title_sidebar": "Contents",
   "toc_cell": false,
   "toc_position": {},
   "toc_section_display": true,
   "toc_window_display": false
  }
 },
 "nbformat": 4,
 "nbformat_minor": 2
}
